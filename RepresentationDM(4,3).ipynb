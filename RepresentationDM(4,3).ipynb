{
 "cells": [
  {
   "cell_type": "markdown",
   "metadata": {},
   "source": [
    "# The compact Deligne-Mostow $(4,3)$\n",
    "\n",
    "We want to determine the representations of the compact Deligne-Mostow lattice $(4,3)$ using the configurations of fixed subsets for $J$ and $R_1$."
   ]
  },
  {
   "cell_type": "markdown",
   "metadata": {},
   "source": [
    "## 1. The non-degenerate configuration.\n",
    "\n",
    "The non-degenerate configuration of fixed subsets for $J$ and $R_1$ where the fixed points of $J$ does not belong to the fixed line of $R_1$ and does not coindice with the fixed point $R_1.$"
   ]
  },
  {
   "cell_type": "markdown",
   "metadata": {},
   "source": [
    "We initialize the problem, the set of parameters belong to the field-extension $\\mathbb{Q}(x^{12}-x^6+1).$"
   ]
  },
  {
   "cell_type": "code",
   "execution_count": 1,
   "metadata": {},
   "outputs": [],
   "source": [
    "K.<w>=CyclotomicField(36)\n",
    "RR.<r1,r2,y>=PolynomialRing(K,['r1','r2','y'],order='deglex');\n",
    "\n",
    "J=matrix(K,3,3,[[0,0,1],[-1,0,0],[0,1,0]]);\n",
    "R1=matrix(RR,3,3,[[1,-r1,r1],[0,1-r2,r2],[0,1-r2-y,r2+y]]);\n"
   ]
  },
  {
   "cell_type": "markdown",
   "metadata": {},
   "source": [
    "The group relations for the Deligne-Mostow $(4,3)$ are:\n",
    " \n",
    "$(R_1 J)^6=Id$\n",
    "   \n",
    "$R_1 J R_1 J^2 R_1 J R_1^3 J^2 R_1^3 J R_1^3 J^2=Id$\n",
    "\n",
    "that induce the system of equations on $B.$"
   ]
  },
  {
   "cell_type": "code",
   "execution_count": 2,
   "metadata": {},
   "outputs": [],
   "source": [
    "rel5=((R1*J)**(6));\n",
    "R13=(R1)**3\n",
    "rel6=((R1*J*R1*J*J*R1*J*R13*J*J*R13*J*R13*J*J));\n",
    "\n",
    "eq0=[(rel5[0,1]), (rel5[0,2]), (rel5[1,0]), (rel5[1,2]), (rel5[2,0]), (rel5[2,1]), (rel6[0,1]), (rel6[0,2]), (rel6[1,0]),(rel6[1,2]),(rel6[2,0]),(rel6[2,1])];\n",
    "eq1=[(rel5[0,0]-rel5[1,1]),(rel5[1,1]-rel5[2,2]),(rel6[0,0]-rel6[1,1]),(rel6[1,1]-rel6[2,2])];\n",
    "\n",
    "B=list();\n",
    "for i in range(len(eq0)):\n",
    "    B.append(eq0[i]);\n",
    "for i in range(len(eq1)):\n",
    "    B.append(eq1[i]);"
   ]
  },
  {
   "cell_type": "markdown",
   "metadata": {},
   "source": [
    "#### Groebner Basis\n",
    "\n",
    "We use Groebner basis to solve the system of equations $B.$"
   ]
  },
  {
   "cell_type": "code",
   "execution_count": 3,
   "metadata": {
    "scrolled": true
   },
   "outputs": [],
   "source": [
    "Jideal=RR.ideal(B);\n",
    "G=Jideal.groebner_basis()\n",
    "#print('Number of elements in the Basis',len(G))\n",
    "#print('The basis is:')\n",
    "#print(G)"
   ]
  },
  {
   "cell_type": "markdown",
   "metadata": {},
   "source": [
    "We start to reduce the variables on the system of equations. The first variable that we will reduce is $y$ where the set of values is small. \n",
    "\n",
    "Recall that $y\\neq 1.$"
   ]
  },
  {
   "cell_type": "code",
   "execution_count": 4,
   "metadata": {
    "scrolled": true
   },
   "outputs": [
    {
     "name": "stdout",
     "output_type": "stream",
     "text": [
      "[y^4 - 1]\n"
     ]
    }
   ],
   "source": [
    "yroots=list();\n",
    "yideal=Jideal.elimination_ideal([r2,r1]);\n",
    "ypol=yideal.gens();\n",
    "print(ypol)\n",
    "aux=SR(ypol[0]).roots(ring=K)\n",
    "for i in range(len(aux)):\n",
    "    yroots.append(aux[i][0])\n",
    "#print('y in',yroots)"
   ]
  },
  {
   "cell_type": "markdown",
   "metadata": {},
   "source": [
    "There exists three possible cases for $y.$ Notice that two of these $y-$values correspond to complex conjugate pair.\n",
    "\n",
    "We proceed to substitute $y$ on the Groebner basis $G$ and find the values of $r_j$ $(j=1,2).$"
   ]
  },
  {
   "cell_type": "markdown",
   "metadata": {},
   "source": [
    "#### Case 1:\n",
    "\n",
    "\n",
    "For the value of $y,$ we use Groebner basis on the system $G$ with the value of $y.$"
   ]
  },
  {
   "cell_type": "code",
   "execution_count": 5,
   "metadata": {},
   "outputs": [],
   "source": [
    "B1=list();\n",
    "for i in range(len(G)):\n",
    "    B1.append(G[i].substitute(y=yroots[1]))\n",
    "RR1.<r1,r2>=PolynomialRing(K,2,order='deglex')\n",
    "J1=RR1.ideal(B1)\n",
    "GB1=J1.groebner_basis()\n",
    "#print('Number of elements in the basis',len(GB1))\n",
    "#print('The basis is:')\n",
    "#print(GB1)"
   ]
  },
  {
   "cell_type": "markdown",
   "metadata": {},
   "source": [
    "The next polynomials define contains all possible values of $r_j.$"
   ]
  },
  {
   "cell_type": "code",
   "execution_count": 6,
   "metadata": {
    "scrolled": false
   },
   "outputs": [],
   "source": [
    "r1Ideal=J1.elimination_ideal([r2]);\n",
    "r1pol=r1Ideal.gens();\n",
    "#print('Polynomio defining r1:', r1pol[0].factor())\n",
    "\n",
    "\n",
    "r2Ideal=J1.elimination_ideal([r1]);\n",
    "r2pol=r2Ideal.gens();\n",
    "#print('Polynomio defining r2:', r2pol[0].factor())"
   ]
  },
  {
   "cell_type": "markdown",
   "metadata": {},
   "source": [
    "We collect all possible values of $r_2$ and substitute on the Groebner basis $GB_1.$"
   ]
  },
  {
   "cell_type": "code",
   "execution_count": 7,
   "metadata": {},
   "outputs": [],
   "source": [
    "R2.<r2>=PolynomialRing(K,['r2'],order='lex')\n",
    "r2roots=list();\n",
    "aux=R2(r2pol[0]).roots(ring=K)\n",
    "for i in range(len(aux)):\n",
    "    r2roots.append(aux[i][0])\n",
    "\n",
    "#print(r2roots)"
   ]
  },
  {
   "cell_type": "markdown",
   "metadata": {},
   "source": [
    "For each value of $r_2,$ we use Groebner basis and find the associated polynomial on $r_1$ associated to each $r_2.$"
   ]
  },
  {
   "cell_type": "code",
   "execution_count": 8,
   "metadata": {},
   "outputs": [],
   "source": [
    "Br1=list();\n",
    "Pol.<r1,r2>=PolynomialRing(K,['r1','r2'],order='lex')\n",
    "for i in range(len(r2roots)):\n",
    "    B2=list();\n",
    "    for j in range(len(GB1)):\n",
    "        aux=Pol(GB1[j]).substitute(r2=r2roots[i])\n",
    "        if aux==0:\n",
    "            continue\n",
    "        else:\n",
    "            B2.append(aux)\n",
    "    RR3.<r1>=PolynomialRing(K,['r1'],order='lex')\n",
    "    J3=RR3.ideal(B2)\n",
    "    G3=J3.groebner_basis(J3)\n",
    "    Br1.append(G3)\n",
    "    #print('r2 root No',i,':', Br1[i])"
   ]
  },
  {
   "cell_type": "code",
   "execution_count": 9,
   "metadata": {},
   "outputs": [],
   "source": [
    "Parameters=list();\n",
    "for i in range(len(r2roots)):\n",
    "    aux=Br1[i][0].roots(ring=K)\n",
    "    for j in range(len(aux)):\n",
    "        Parameters.append([yroots[1],aux[j][0],r2roots[i]])\n",
    "#for i in range(len(Parameters)):\n",
    "#    print('No ', i,':', Parameters[i])"
   ]
  },
  {
   "cell_type": "markdown",
   "metadata": {},
   "source": [
    "#### Case 2:\n",
    "We reproduce the same process for case 1, for the second value."
   ]
  },
  {
   "cell_type": "code",
   "execution_count": 10,
   "metadata": {
    "scrolled": false
   },
   "outputs": [],
   "source": [
    "B3=list();\n",
    "for i in range(len(G)):\n",
    "    B3.append(G[i].substitute(y=yroots[2]))\n",
    "RR1.<r1,r2>=PolynomialRing(K,2,order='deglex')\n",
    "J3=RR1.ideal(B3)\n",
    "GB3=J3.groebner_basis()\n",
    "#print('Number of elements in the basis',len(GB3))\n",
    "#print('The basis is:')\n",
    "#print(GB3)"
   ]
  },
  {
   "cell_type": "code",
   "execution_count": 11,
   "metadata": {
    "scrolled": true
   },
   "outputs": [],
   "source": [
    "r1Ideal1=J3.elimination_ideal([r2]);\n",
    "r1pol1=r1Ideal1.gens();\n",
    "#print('Polynomio defining r1:', r1pol1[0].factor())\n",
    "\n",
    "\n",
    "r2Ideal1=J3.elimination_ideal([r1]);\n",
    "r2pol1=r2Ideal1.gens();\n",
    "#print('Polynomio defining r2:', r2pol1[0].factor())"
   ]
  },
  {
   "cell_type": "code",
   "execution_count": 12,
   "metadata": {},
   "outputs": [],
   "source": [
    "aux=R2(r2pol1[0]).roots(ring=K)\n",
    "r2roots1=list()\n",
    "for i in range(len(aux)):\n",
    "    r2roots1.append(aux[i][0])"
   ]
  },
  {
   "cell_type": "code",
   "execution_count": 13,
   "metadata": {},
   "outputs": [],
   "source": [
    "Br12=list();\n",
    "Pol.<r1,r2>=PolynomialRing(K,['r1','r2'],order='lex')\n",
    "for i in range(len(r2roots1)):\n",
    "    B2=list();\n",
    "    for j in range(len(GB3)):\n",
    "        aux=Pol(GB3[j]).substitute(r2=r2roots1[i])\n",
    "        if aux==0:\n",
    "            continue\n",
    "        else:\n",
    "            B2.append(aux)\n",
    "    RR3.<r1>=PolynomialRing(K,['r1'],order='lex')\n",
    "    J3=RR3.ideal(B2)\n",
    "    G3=J3.groebner_basis(J3)\n",
    "    Br12.append(G3)\n",
    "    #print('r2 root No',i,':', Br12[i])"
   ]
  },
  {
   "cell_type": "code",
   "execution_count": 14,
   "metadata": {},
   "outputs": [],
   "source": [
    "for i in range(len(r2roots1)):\n",
    "    aux=Br12[i][0].roots(ring=K)\n",
    "    for j in range(len(aux)):\n",
    "        Parameters.append([yroots[2],aux[j][0],r2roots1[i]])"
   ]
  },
  {
   "cell_type": "markdown",
   "metadata": {},
   "source": [
    "#### Case 3:\n",
    "\n",
    "We reproduce the same process for case 1, for the third value."
   ]
  },
  {
   "cell_type": "code",
   "execution_count": 15,
   "metadata": {},
   "outputs": [],
   "source": [
    "B3=list();\n",
    "for i in range(len(G)):\n",
    "    B3.append(G[i].substitute(y=yroots[3]))\n",
    "RR1.<r1,r2>=PolynomialRing(K,2,order='deglex')\n",
    "J3=RR1.ideal(B3)\n",
    "GB3=J3.groebner_basis()"
   ]
  },
  {
   "cell_type": "code",
   "execution_count": 16,
   "metadata": {},
   "outputs": [],
   "source": [
    "r2Ideal2=J3.elimination_ideal([r1]);\n",
    "r2pol2=r2Ideal1.gens();\n",
    "#print('Polynomio defining r2:', r2pol2[0].factor())"
   ]
  },
  {
   "cell_type": "code",
   "execution_count": 17,
   "metadata": {},
   "outputs": [],
   "source": [
    "aux=R2(r2pol2[0]).roots(ring=K)\n",
    "r2roots2=list()\n",
    "for i in range(len(aux)):\n",
    "    r2roots2.append(aux[i][0])"
   ]
  },
  {
   "cell_type": "code",
   "execution_count": 18,
   "metadata": {},
   "outputs": [],
   "source": [
    "Br13=list();\n",
    "Pol.<r1,r2>=PolynomialRing(K,['r1','r2'],order='lex')\n",
    "for i in range(len(r2roots2)):\n",
    "    B2=list();\n",
    "    for j in range(len(GB3)):\n",
    "        aux=Pol(GB3[j]).substitute(r2=r2roots2[i])\n",
    "        if aux==0:\n",
    "            continue\n",
    "        else:\n",
    "            B2.append(aux)\n",
    "    RR3.<r1>=PolynomialRing(K,['r1'],order='lex')\n",
    "    J3=RR3.ideal(B2)\n",
    "    G3=J3.groebner_basis(J3)\n",
    "    Br13.append(G3)"
   ]
  },
  {
   "cell_type": "code",
   "execution_count": 19,
   "metadata": {},
   "outputs": [],
   "source": [
    "for i in range(len(r2roots2)):\n",
    "    aux=Br12[i][0].roots(ring=K)\n",
    "    for j in range(len(aux)):\n",
    "        Parameters.append([yroots[3],aux[j][0],r2roots2[i]])"
   ]
  },
  {
   "cell_type": "markdown",
   "metadata": {},
   "source": [
    "#### All posible values of $(y,r_1,r_2):$"
   ]
  },
  {
   "cell_type": "code",
   "execution_count": 20,
   "metadata": {},
   "outputs": [
    {
     "name": "stdout",
     "output_type": "stream",
     "text": [
      "Number of parameter configurations 18\n",
      "(y,r1,r2) in [[-1, 1/2*w^8 - 1/2*w^4 - 1/2*w^2 - 1, 1/2*w^8 + 1/2*w^4 - 1/2*w^2 + 1], [-1, 1/2*w^8 - 1/2*w^4 - 1/2*w^2 - 1, -1/2*w^8 - 1/2*w^4 + 1/2*w^2 + 1], [-1, 1/2*w^10 - 1/2*w^8 - 1, 1/2*w^10 + 1/2*w^8 + 1], [-1, -1/2*w^10 + 1/2*w^4 + 1/2*w^2 - 1, 1/2*w^10 - 1/2*w^4 + 1/2*w^2 + 1], [-1, -1/2*w^10 + 1/2*w^4 + 1/2*w^2 - 1, -1/2*w^10 + 1/2*w^4 - 1/2*w^2 + 1], [-1, 1/2*w^10 - 1/2*w^8 - 1, -1/2*w^10 - 1/2*w^8 + 1], [w^9, 1/2*w^9 - 1/2*w^8 - 1/2*w^7 + 1/2*w^2 + 1/2*w - 1/2, -1/2*w^9 + 1/2*w^8 - 1/2*w^7 - 1/2*w^2 + 1/2*w + 1/2], [w^9, 1/2*w^9 + 1/2*w^7 - 1/2*w^2 - 1/2, -1/2*w^9 + 1/2*w^7 + 1/2*w^2 + 1/2], [w^9, 1/2*w^9 - 1/2*w^5 + 1/2*w^4 - 1/2, -1/2*w^9 - 1/2*w^5 - 1/2*w^4 + 1/2], [w^9, 1/2*w^9 + 1/2*w^8 - 1/2*w - 1/2, -1/2*w^9 - 1/2*w^8 - 1/2*w + 1/2], [w^9, 1/2*w^11 + 1/2*w^10 + 1/2*w^9 - 1/2*w^4 - 1/2, 1/2*w^11 - 1/2*w^10 - 1/2*w^9 + 1/2*w^4 + 1/2], [w^9, -1/2*w^11 - 1/2*w^10 + 1/2*w^9 + 1/2*w^5 - 1/2, -1/2*w^11 + 1/2*w^10 - 1/2*w^9 + 1/2*w^5 + 1/2], [-w^9, 1/2*w^9 - 1/2*w^8 - 1/2*w^7 + 1/2*w^2 + 1/2*w - 1/2, -1/2*w^9 + 1/2*w^8 - 1/2*w^7 - 1/2*w^2 + 1/2*w + 1/2], [-w^9, 1/2*w^9 + 1/2*w^7 - 1/2*w^2 - 1/2, -1/2*w^9 + 1/2*w^7 + 1/2*w^2 + 1/2], [-w^9, 1/2*w^9 - 1/2*w^5 + 1/2*w^4 - 1/2, -1/2*w^9 - 1/2*w^5 - 1/2*w^4 + 1/2], [-w^9, 1/2*w^9 + 1/2*w^8 - 1/2*w - 1/2, -1/2*w^9 - 1/2*w^8 - 1/2*w + 1/2], [-w^9, 1/2*w^11 + 1/2*w^10 + 1/2*w^9 - 1/2*w^4 - 1/2, 1/2*w^11 - 1/2*w^10 - 1/2*w^9 + 1/2*w^4 + 1/2], [-w^9, -1/2*w^11 - 1/2*w^10 + 1/2*w^9 + 1/2*w^5 - 1/2, -1/2*w^11 + 1/2*w^10 - 1/2*w^9 + 1/2*w^5 + 1/2]]\n"
     ]
    }
   ],
   "source": [
    "print('Number of parameter configurations', len(Parameters))\n",
    "print('(y,r1,r2) in', Parameters)"
   ]
  },
  {
   "cell_type": "markdown",
   "metadata": {},
   "source": [
    "## 1.1 The Galois group action.\n",
    "\n",
    "The Galois group action on $\\mathbb{Q}(x^{12}-x^6+1)$ induce one in the set of parameters. Such action induce a partition by orbits on the set of parameters."
   ]
  },
  {
   "cell_type": "code",
   "execution_count": 21,
   "metadata": {},
   "outputs": [],
   "source": [
    "Gal=K.galois_group()\n"
   ]
  },
  {
   "cell_type": "markdown",
   "metadata": {},
   "source": [
    "We compute the orbits."
   ]
  },
  {
   "cell_type": "code",
   "execution_count": 22,
   "metadata": {},
   "outputs": [
    {
     "name": "stdout",
     "output_type": "stream",
     "text": [
      "[0, 1, 2, 3, 4, 5]\n"
     ]
    }
   ],
   "source": [
    "from sage.structure.list_clone_demo import IncreasingLists\n",
    "ob1=[0]\n",
    "x=IncreasingLists()([1..17])\n",
    "j=1;\n",
    "k=0;\n",
    "while j<(len(Parameters)):\n",
    "    while k<len(Gal)-1:\n",
    "        aux0=(Gal[k+1])(Parameters[j][0])\n",
    "        aux1=(Gal[k+1])(Parameters[j][1])\n",
    "        aux2=(Gal[k+1])(Parameters[j][2])\n",
    "        if aux0-Gal[0](Parameters[0][0])==0 and aux1-Gal[0](Parameters[0][1])==0 and aux2-Gal[0](Parameters[0][2])==0:\n",
    "            ob1.append(j)\n",
    "            k=len(Gal)\n",
    "            \n",
    "        else:\n",
    "            k=k+1\n",
    "    k=0;\n",
    "    j=j+1;\n",
    "print(ob1)"
   ]
  },
  {
   "cell_type": "code",
   "execution_count": 23,
   "metadata": {},
   "outputs": [
    {
     "name": "stdout",
     "output_type": "stream",
     "text": [
      "[6, 7, 8, 9, 10, 11]\n"
     ]
    }
   ],
   "source": [
    "ob2=[6]\n",
    "x=IncreasingLists()([0..17])\n",
    "j=1;\n",
    "k=0;\n",
    "while j<(len(Parameters)):\n",
    "    while k<len(Gal)-1:\n",
    "        aux0=(Gal[k+1])(Parameters[j][0])\n",
    "        aux1=(Gal[k+1])(Parameters[j][1])\n",
    "        aux2=(Gal[k+1])(Parameters[j][2])\n",
    "        if aux0-Gal[0](Parameters[6][0])==0 and aux1-Gal[0](Parameters[6][1])==0 and aux2-Gal[0](Parameters[6][2])==0:\n",
    "            ob2.append(j)\n",
    "            k=len(Gal)\n",
    "            \n",
    "        else:\n",
    "            k=k+1\n",
    "    k=0;\n",
    "    j=j+1;\n",
    "print(ob2)"
   ]
  },
  {
   "cell_type": "code",
   "execution_count": 24,
   "metadata": {},
   "outputs": [
    {
     "name": "stdout",
     "output_type": "stream",
     "text": [
      "[12, 13, 14, 15, 16, 17]\n"
     ]
    }
   ],
   "source": [
    "ob3=[12]\n",
    "x=IncreasingLists()([0..17])\n",
    "j=1;\n",
    "k=0;\n",
    "while j<(len(Parameters)):\n",
    "    while k<len(Gal)-1:\n",
    "        aux0=(Gal[k+1])(Parameters[j][0])\n",
    "        aux1=(Gal[k+1])(Parameters[j][1])\n",
    "        aux2=(Gal[k+1])(Parameters[j][2])\n",
    "        if aux0-Gal[0](Parameters[12][0])==0 and aux1-Gal[0](Parameters[12][1])==0 and aux2-Gal[0](Parameters[12][2])==0:\n",
    "            ob3.append(j)\n",
    "            k=len(Gal)\n",
    "            \n",
    "        else:\n",
    "            k=k+1\n",
    "    k=0;\n",
    "    j=j+1;\n",
    "print(ob3)"
   ]
  },
  {
   "cell_type": "markdown",
   "metadata": {},
   "source": [
    "Notice that these three orbits are disjoint and all parameters are in one of them."
   ]
  },
  {
   "cell_type": "code",
   "execution_count": 25,
   "metadata": {},
   "outputs": [
    {
     "data": {
      "text/plain": [
       "18"
      ]
     },
     "execution_count": 25,
     "metadata": {},
     "output_type": "execute_result"
    }
   ],
   "source": [
    "len(ob1)+len(ob2)+len(ob3)"
   ]
  },
  {
   "cell_type": "markdown",
   "metadata": {},
   "source": [
    "## 1.2 The associated Hermitian form\n",
    "\n",
    "As these set of parameters provide a representation of the Deligne-Mostow (4,3) in $PGL(3,\\mathbb{C})$, we should have a representation whose image group is conjugated to a $PU(2,1)$ subgroup. To determine this representation we need to determine the Hermitian form preserved by the group image and compute its signature. \n",
    "\n",
    "From the initial data of our representation, an Hermitian form $H$ should satisfy the equation $(J^*)HJ=H.$ This imply that $H$ is of the form:\n",
    "\n",
    "$H=\\begin{bmatrix}\n",
    "a&-\\overline{c}&c\\\\-c& a&\\overline{c}\\\\ \\overline{c}&c&a\n",
    "\\end{bmatrix}$\n",
    "\n",
    "Therefore, in order to compute the values of $a$ and $c,$ we need to solve the equation ${R_1}^* H R_1=H$ for all possible parameters $(y,r_1,r_2).$"
   ]
  },
  {
   "cell_type": "code",
   "execution_count": 26,
   "metadata": {},
   "outputs": [],
   "source": [
    "R1ob1=list();\n",
    "R1ob2=list();\n",
    "R1ob3=list()\n",
    "\n",
    "for i in range(len(ob1)):\n",
    "    aux0=matrix(K,[[1,-Parameters[ob1[i]][1],Parameters[ob1[i]][1]],[0,1-Parameters[ob1[i]][2],Parameters[ob1[i]][2]],[0,1-Parameters[ob1[i]][2]-Parameters[ob1[i]][0],Parameters[ob1[i]][2]+Parameters[ob1[i]][0]]])\n",
    "    aux1=matrix(K,[[1,-Parameters[ob2[i]][1],Parameters[ob2[i]][1]],[0,1-Parameters[ob2[i]][2],Parameters[ob2[i]][2]],[0,1-Parameters[ob2[i]][2]-Parameters[ob2[i]][0],Parameters[ob2[i]][2]+Parameters[ob2[i]][0]]])\n",
    "    aux2=matrix(K,[[1,-Parameters[ob3[i]][1],Parameters[ob3[i]][1]],[0,1-Parameters[ob3[i]][2],Parameters[ob3[i]][2]],[0,1-Parameters[ob3[i]][2]-Parameters[ob3[i]][0],Parameters[ob3[i]][2]+Parameters[ob3[i]][0]]])\n",
    "    R1ob1.append(aux0)\n",
    "    R1ob2.append(aux1)\n",
    "    R1ob3.append(aux2)"
   ]
  },
  {
   "cell_type": "code",
   "execution_count": 27,
   "metadata": {},
   "outputs": [
    {
     "data": {
      "text/plain": [
       "[1, w, w^2, w^3, w^4, w^5, w^6, w^7, w^8, w^9, w^10, w^11]"
      ]
     },
     "execution_count": 27,
     "metadata": {},
     "output_type": "execute_result"
    }
   ],
   "source": [
    "K.integral_basis()"
   ]
  },
  {
   "cell_type": "markdown",
   "metadata": {},
   "source": [
    "Initialize the values of $c$ an $\\overline{c}$ as polynomials with coefficients on $\\mathbb{Q}(x^{12}-x^6+1)[\\cdot].$\n",
    "\n",
    "Without loose of generality we can assume that $c=\\sum_{j=0}^{11}b_j w^{j},$ where $\\{1,w^j\\}_{j=1}^{11}$ is the integral basis of $\\mathbb{Q}(x^{12}-x^6+1).$"
   ]
  },
  {
   "cell_type": "code",
   "execution_count": 28,
   "metadata": {},
   "outputs": [
    {
     "name": "stdout",
     "output_type": "stream",
     "text": [
      "[                                                                                                                                                                           a           -b0 + (w^11 - w^5)*b1 + (w^10 - w^4)*b2 + (w^9 - w^3)*b3 + (w^8 - w^2)*b4 + (w^7 - w)*b5 + (w^6 - 1)*b6 + (w^11)*b7 + (w^10)*b8 + (w^9)*b9 + (w^8)*b10 + (w^7)*b11                                                b0 + (w)*b1 + (w^2)*b2 + (w^3)*b3 + (w^4)*b4 + (w^5)*b5 + (w^6)*b6 + (w^7)*b7 + (w^8)*b8 + (w^9)*b9 + (w^10)*b10 + (w^11)*b11]\n",
      "[                                   -b0 + (-w)*b1 + (-w^2)*b2 + (-w^3)*b3 + (-w^4)*b4 + (-w^5)*b5 + (-w^6)*b6 + (-w^7)*b7 + (-w^8)*b8 + (-w^9)*b9 + (-w^10)*b10 + (-w^11)*b11                                                                                                                                                                            a b0 + (-w^11 + w^5)*b1 + (-w^10 + w^4)*b2 + (-w^9 + w^3)*b3 + (-w^8 + w^2)*b4 + (-w^7 + w)*b5 + (-w^6 + 1)*b6 + (-w^11)*b7 + (-w^10)*b8 + (-w^9)*b9 + (-w^8)*b10 + (-w^7)*b11]\n",
      "[b0 + (-w^11 + w^5)*b1 + (-w^10 + w^4)*b2 + (-w^9 + w^3)*b3 + (-w^8 + w^2)*b4 + (-w^7 + w)*b5 + (-w^6 + 1)*b6 + (-w^11)*b7 + (-w^10)*b8 + (-w^9)*b9 + (-w^8)*b10 + (-w^7)*b11                                                b0 + (w)*b1 + (w^2)*b2 + (w^3)*b3 + (w^4)*b4 + (w^5)*b5 + (w^6)*b6 + (w^7)*b7 + (w^8)*b8 + (w^9)*b9 + (w^10)*b10 + (w^11)*b11                                                                                                                                                                            a]\n"
     ]
    }
   ],
   "source": [
    "Pol.<a,b0,b1,b2,b3,b4,b5,b6,b7,b8,b9,b10,b11>=PolynomialRing(K,['a','b0','b1','b2','b3','b4','b5','b6','b7','b8','b9','b10','b11'],order='lex')\n",
    "c=b0+b1*w+b2*w^2+b3*w^3+b4*w^4+b5*w^5+b6*w^6+b7*w^7+b8*w^8+b9*w^9+b10*w^(10)+b11*w^(11);\n",
    "cconj=b0+b1*conjugate(w)+b2*conjugate(w^2)+b3*conjugate(w^3)+b4*conjugate(w^4)+b5*conjugate(w^5)+b6*conjugate(w^6)+b7*conjugate(w^7)+b8*conjugate(w^8)+b9*conjugate(w^9)+b10*conjugate(w^(10))+b11*conjugate(w^(11))\n",
    "H=matrix(Pol,3,3,[[a,-cconj,c],[-c,a,cconj],[cconj,c,a]]); print(H)"
   ]
  },
  {
   "cell_type": "markdown",
   "metadata": {},
   "source": [
    "For each orbit we compute the system of equations, and use Groebner basis for each element on the orbit."
   ]
  },
  {
   "cell_type": "code",
   "execution_count": 29,
   "metadata": {},
   "outputs": [],
   "source": [
    "Bo1=list();\n",
    "for i in range(6):\n",
    "    RelHerm=(conjugate(transpose(R1ob1[i]))*H*(R1ob1[i])-H)\n",
    "    B=[RelHerm[0,0],(RelHerm[0,1]),(RelHerm[0,2]),RelHerm[1,0],(RelHerm[1,1]),(RelHerm[1,2]),RelHerm[2,0],RelHerm[2,1],(RelHerm[2,2])];\n",
    "    Bo1.append(B)\n",
    "Go1=list()\n",
    "for i in range(6):\n",
    "    J=Pol.ideal(Bo1[i])\n",
    "    Grob=J.groebner_basis()\n",
    "    Go1.append(Grob)\n",
    "#Go1"
   ]
  },
  {
   "cell_type": "code",
   "execution_count": 30,
   "metadata": {},
   "outputs": [],
   "source": [
    "Bo2=list();\n",
    "for i in range(6):\n",
    "    RelHerm=(conjugate(transpose(R1ob2[i]))*H*(R1ob2[i])-H)\n",
    "    B=[RelHerm[0,0],(RelHerm[0,1]),(RelHerm[0,2]),RelHerm[1,0],(RelHerm[1,1]),(RelHerm[1,2]),RelHerm[2,0],RelHerm[2,1],(RelHerm[2,2])];\n",
    "    Bo2.append(B)\n",
    "Go2=list()\n",
    "for i in range(6):\n",
    "    J=Pol.ideal(Bo2[i])\n",
    "    Grob=J.groebner_basis()\n",
    "    Go2.append(Grob)\n",
    "#Go2"
   ]
  },
  {
   "cell_type": "code",
   "execution_count": 31,
   "metadata": {},
   "outputs": [],
   "source": [
    "Go3=list()\n",
    "\n",
    "Bo3=list();\n",
    "for i in range(6):\n",
    "    RelHerm=(conjugate(transpose(R1ob3[i]))*H*(R1ob3[i])-H)\n",
    "    B=[RelHerm[0,0],(RelHerm[0,1]),(RelHerm[0,2]),RelHerm[1,0],(RelHerm[1,1]),(RelHerm[1,2]),RelHerm[2,0],RelHerm[2,1],(RelHerm[2,2])];\n",
    "    Bo3.append(B)\n",
    "Go3=list()\n",
    "for i in range(6):\n",
    "    J=Pol.ideal(Bo3[i])\n",
    "    Grob=J.groebner_basis()\n",
    "    Go3.append(Grob)\n",
    "#Go3"
   ]
  },
  {
   "cell_type": "markdown",
   "metadata": {},
   "source": [
    "Notice that each element of the Groebner basis are linear polynomials. \n",
    "\n",
    "We solve the overdetermined system."
   ]
  },
  {
   "cell_type": "code",
   "execution_count": 33,
   "metadata": {},
   "outputs": [
    {
     "name": "stdout",
     "output_type": "stream",
     "text": [
      "[39*w^11 + 29*w^10 + 27*w^9 + 17*w^8 + 9*w^7 - 48*w^5 - 46*w^4 - 54*w^3 - 46*w^2 - 48*w - 39, -39*w^11 - 29*w^10 - 27*w^9 - 17*w^8 - 9*w^7 + 48*w^5 + 46*w^4 + 54*w^3 + 46*w^2 + 48*w + 39, 15*w^11 + 7*w^10 - 3*w^9 - 11*w^8 - 9*w^7 - 6*w^5 + 4*w^4 + 6*w^3 + 4*w^2 - 6*w - 15, 3*w^11 + 5*w^10 - 3*w^9 - w^8 + 9*w^7 - 12*w^5 - 4*w^4 + 6*w^3 - 4*w^2 - 12*w - 3, -3*w^11 - 5*w^10 + 3*w^9 + w^8 - 9*w^7 + 12*w^5 + 4*w^4 - 6*w^3 + 4*w^2 + 12*w + 3, -15*w^11 - 7*w^10 + 3*w^9 + 11*w^8 + 9*w^7 + 6*w^5 - 4*w^4 - 6*w^3 - 4*w^2 + 6*w + 15]\n",
      "[-34*w^11 - 25*w^10 - 22*w^9 - 13*w^8 - 7*w^7 + 41*w^5 + 38*w^4 + 44*w^3 + 38*w^2 + 41*w + 34, 35*w^11 + 26*w^10 + 23*w^9 + 14*w^8 + 8*w^7 - 43*w^5 - 40*w^4 - 46*w^3 - 40*w^2 - 43*w - 35, -10*w^11 - 4*w^10 + 5*w^9 + 11*w^8 + 8*w^7 + 2*w^5 - 7*w^4 - 10*w^3 - 7*w^2 + 2*w + 10, 2*w^11 - w^10 + 5*w^9 + 2*w^8 - 7*w^7 + 5*w^5 - w^4 - 10*w^3 - w^2 + 5*w - 2, -w^11 + 2*w^10 - 4*w^9 - w^8 + 8*w^7 - 7*w^5 - w^4 + 8*w^3 - w^2 - 7*w + 1, 11*w^11 + 5*w^10 - 4*w^9 - 10*w^8 - 7*w^7 - 4*w^5 + 5*w^4 + 8*w^3 + 5*w^2 - 4*w - 11]\n"
     ]
    }
   ],
   "source": [
    "Pola.<a>=PolynomialRing(K,'a')\n",
    "Polb.<b0>=PolynomialRing(K,'b0')\n",
    "aroots=list();\n",
    "broots=list();\n",
    "for i in range(len(ob1)):\n",
    "    aux=[Go1[i][0].substitute(b1=1,b2=1,b3=1,b4=1,b5=1,b6=1,b7=1,b8=1,b9=1,b10=1,b11=1),Go1[i][1].substitute(b1=1,b2=1,b3=1,b4=1,b5=1,b6=1,b7=1,b8=1,b9=1,b10=1,b11=1)]\n",
    "    aroots.append(Pola(aux[0]).roots(ring=K)[0][0])\n",
    "    broots.append(Polb(aux[1]).roots(ring=K)[0][0])\n",
    "print(aroots)\n",
    "print(broots)"
   ]
  },
  {
   "cell_type": "code",
   "execution_count": 35,
   "metadata": {},
   "outputs": [
    {
     "data": {
      "text/plain": [
       "Ring morphism:\n",
       "  From: Cyclotomic Field of order 36 and degree 12\n",
       "  To:   Algebraic Field\n",
       "  Defn: w |--> 0.6427876096865393? + 0.7660444431189781?*I"
      ]
     },
     "execution_count": 35,
     "metadata": {},
     "output_type": "execute_result"
    }
   ],
   "source": [
    "Kem=K.embeddings(QQbar)\n",
    "Kem[1]"
   ]
  },
  {
   "cell_type": "code",
   "execution_count": 36,
   "metadata": {},
   "outputs": [
    {
     "data": {
      "text/plain": [
       "[[9.86438237365720? + 0.?e-32*I, 4.759160388167563? + 0.?e-32*I, 2.792789958398751? + 0.?e-32*I],\n",
       " [-2.792789958398751? + 0.?e-32*I, -4.759160388167563? + 0.?e-32*I, -9.86438237365720? + 0.?e-32*I],\n",
       " [-5.248728230624580? + 0.?e-35*I, -12.32032064588303? + 0.?e-35*I, -174.0658705128459? + 0.?e-34*I],\n",
       " [-0.9699257737648906? + 0.?e-18*I, -8.04151818902334? + 0.?e-15*I, -9.10681293481081? + 0.?e-15*I],\n",
       " [9.10681293481081? + 0.?e-15*I, 8.04151818902334? + 0.?e-15*I, 0.9699257737648906? + 0.?e-18*I],\n",
       " [174.0658705128459? + 0.?e-34*I, 12.32032064588303? + 0.?e-35*I, 5.248728230624580? + 0.?e-35*I]]"
      ]
     },
     "execution_count": 36,
     "metadata": {},
     "output_type": "execute_result"
    }
   ],
   "source": [
    "Ho1=list();\n",
    "evo1=list()\n",
    "for i in range(len(ob1)):\n",
    "    aux=H.substitute(a=aroots[i],b0=broots[i],b1=1,b2=1,b3=1,b4=1,b5=1,b6=1,b7=1,b8=1,b9=1,b10=1,b11=1)\n",
    "    Ho1.append(aux)\n",
    "aux=matrix(QQbar,3,3,[[0,0,0],[0,0,0],[0,0,0]])\n",
    "for i in range(len(ob1)):\n",
    "    for j in range(3):\n",
    "        for k in range(3):\n",
    "            aux[j,k]=Kem[1](Ho1[i][j,k])\n",
    "    evo1.append(aux.eigenvalues())\n",
    "for i in range(len(ob1)):\n",
    "    print('No.', ob1[i],':',evo1[i])"
   ]
  },
  {
   "cell_type": "code",
   "execution_count": 38,
   "metadata": {},
   "outputs": [
    {
     "name": "stdout",
     "output_type": "stream",
     "text": [
      "[-17*w^11 - 11*w^10 + 5*w^9 + 13*w^8 + 7*w^7 + 10*w^5 - 2*w^4 - 10*w^3 - 2*w^2 + 10*w + 15, 7*w^11 + w^10 + 5*w^9 + w^8 + w^7 - 8*w^5 - 2*w^4 - 10*w^3 - 2*w^2 - 8*w - 3, w^11 - w^10 - w^9 - w^8 + w^7 - 2*w^5 + 2*w^4 + 2*w^3 + 2*w^2 - 2*w - 3, -17*w^11 - 17*w^10 - 13*w^9 - 5*w^8 + w^7 + 16*w^5 + 22*w^4 + 26*w^3 + 22*w^2 + 16*w + 15, -47*w^11 - 37*w^10 - 25*w^9 - 13*w^8 - 5*w^7 + 52*w^5 + 50*w^4 + 50*w^3 + 50*w^2 + 52*w + 51, w^11 - 7*w^10 + 5*w^9 + 5*w^8 - 5*w^7 + 4*w^5 + 2*w^4 - 10*w^3 + 2*w^2 + 4*w - 3]\n",
      "[14*w^11 + 7*w^10 - 9*w^9 - 17*w^8 - 10*w^7 - 4*w^5 + 10*w^4 + 18*w^3 + 10*w^2 - 4*w - 11, -4*w^11 + w^10 - 3*w^9 + w^8 - w^7 + 5*w^5 - 2*w^4 + 6*w^3 - 2*w^2 + 5*w - 2, -w^11 - w^7 + 2*w^5 + 2*w + 4, 14*w^11 + 16*w^10 + 12*w^9 + 4*w^8 - w^7 - 13*w^5 - 20*w^4 - 24*w^3 - 20*w^2 - 13*w - 11, 53*w^11 + 42*w^10 + 30*w^9 + 18*w^8 + 8*w^7 - 61*w^5 - 60*w^4 - 60*w^3 - 60*w^2 - 61*w - 59, -w^11 + 9*w^10 - 3*w^9 - 3*w^8 + 8*w^7 - 7*w^5 - 6*w^4 + 6*w^3 - 6*w^2 - 7*w + 4]\n"
     ]
    }
   ],
   "source": [
    "Pola.<a>=PolynomialRing(K,'a')\n",
    "Polb.<b0>=PolynomialRing(K,'b0')\n",
    "aroots2=list();\n",
    "broots2=list();\n",
    "for i in range(len(ob2)):\n",
    "    aux=[Go2[i][0].substitute(b1=1,b2=1,b3=1,b4=1,b5=1,b6=1,b7=1,b8=1,b9=1,b10=1,b11=1),Go2[i][1].substitute(b1=1,b2=1,b3=1,b4=1,b5=1,b6=1,b7=1,b8=1,b9=1,b10=1,b11=1)]\n",
    "    aroots2.append(Pola(aux[0]).roots(ring=K)[0][0])\n",
    "    broots2.append(Polb(aux[1]).roots(ring=K)[0][0])\n",
    "print(aroots2)\n",
    "print(broots2)"
   ]
  },
  {
   "cell_type": "code",
   "execution_count": 39,
   "metadata": {},
   "outputs": [
    {
     "name": "stdout",
     "output_type": "stream",
     "text": [
      "No. 6 : [235.1630361277405? + 0.?e-34*I, -7.673127347980182? + 0.?e-35*I, -14.74471976323863? + 0.?e-35*I]\n",
      "No. 7 : [2.951567327462619? + 0.?e-16*I, 1.417936622582688? + 0.?e-17*I, -5.653655792675754? + 0.?e-16*I]\n",
      "No. 8 : [-0.6015349327217411? + 0.?e-19*I, -7.673127347980182? + 0.?e-16*I, -14.40613973088697? + 0.?e-16*I]\n",
      "No. 9 : [6.255190725397495? + 0.?e-34*I, -0.8164016898609459? + 0.?e-34*I, -6.275206228345887? + 0.?e-34*I]\n",
      "No. 10 : [72.34830554038502? + 0.?e-33*I, 8.48952903784113? + 0.?e-33*I, 1.417936622582688? + 0.?e-33*I]\n",
      "No. 11 : [13.32678314065594? + 0.?e-16*I, 6.25519072539750? + 0.?e-16*I, 4.179013451156608? + 0.?e-16*I]\n"
     ]
    }
   ],
   "source": [
    "Ho2=list();\n",
    "evo2=list()\n",
    "for i in range(len(ob2)):\n",
    "    aux=H.substitute(a=aroots2[i],b0=broots2[i],b1=1,b2=1,b3=1,b4=1,b5=1,b6=1,b7=1,b8=1,b9=1,b10=1,b11=1)\n",
    "    Ho2.append(aux)\n",
    "aux=matrix(QQbar,3,3,[[0,0,0],[0,0,0],[0,0,0]])\n",
    "for i in range(len(ob2)):\n",
    "    for j in range(3):\n",
    "        for k in range(3):\n",
    "            aux[j,k]=Kem[1](Ho2[i][j,k])\n",
    "    evo2.append(aux.eigenvalues())\n",
    "for i in range(len(ob2)):\n",
    "    print('No.', ob2[i],':',evo2[i])"
   ]
  },
  {
   "cell_type": "code",
   "execution_count": 40,
   "metadata": {},
   "outputs": [
    {
     "name": "stdout",
     "output_type": "stream",
     "text": [
      "[0, 0, 0, 0, 0, 0]\n",
      "[-7*w^11 - 5*w^10 - 4*w^9 - 2*w^8 - w^7 + 8*w^5 + 7*w^4 + 8*w^3 + 7*w^2 + 8*w + 7, -7*w^11 - 5*w^10 - 4*w^9 - 2*w^8 - w^7 + 8*w^5 + 7*w^4 + 8*w^3 + 7*w^2 + 8*w + 7, -7*w^11 - 5*w^10 - 4*w^9 - 2*w^8 - w^7 + 8*w^5 + 7*w^4 + 8*w^3 + 7*w^2 + 8*w + 7, -7*w^11 - 5*w^10 - 4*w^9 - 2*w^8 - w^7 + 8*w^5 + 7*w^4 + 8*w^3 + 7*w^2 + 8*w + 7, -7*w^11 - 5*w^10 - 4*w^9 - 2*w^8 - w^7 + 8*w^5 + 7*w^4 + 8*w^3 + 7*w^2 + 8*w + 7, -7*w^11 - 5*w^10 - 4*w^9 - 2*w^8 - w^7 + 8*w^5 + 7*w^4 + 8*w^3 + 7*w^2 + 8*w + 7]\n"
     ]
    }
   ],
   "source": [
    "Pola.<a>=PolynomialRing(K,'a')\n",
    "Polb.<b0>=PolynomialRing(K,'b0')\n",
    "aroots3=list();\n",
    "broots3=list();\n",
    "for i in range(len(ob3)):\n",
    "    aux=[Go3[i][0].substitute(b1=1,b2=1,b3=1,b4=1,b5=1,b6=1,b7=1,b8=1,b9=1,b10=1,b11=1),Go3[i][1].substitute(b1=1,b2=1,b3=1,b4=1,b5=1,b6=1,b7=1,b8=1,b9=1,b10=1,b11=1)]\n",
    "    aroots3.append(Pola(aux[0]).roots(ring=K)[0][0])\n",
    "    broots3.append(Polb(aux[1]).roots(ring=K)[0][0])\n",
    "print(aroots3)\n",
    "print(broots3)"
   ]
  },
  {
   "cell_type": "code",
   "execution_count": 41,
   "metadata": {},
   "outputs": [
    {
     "name": "stdout",
     "output_type": "stream",
     "text": [
      "No. 12 : [5.248728230624580? + 0.?e-33*I, -1.822864184633861? + 0.?e-33*I, -3.425864045990720? + 0.?e-33*I]\n",
      "No. 13 : [5.248728230624580? + 0.?e-33*I, -1.822864184633861? + 0.?e-33*I, -3.425864045990720? + 0.?e-33*I]\n",
      "No. 14 : [5.248728230624580? + 0.?e-33*I, -1.822864184633861? + 0.?e-33*I, -3.425864045990720? + 0.?e-33*I]\n",
      "No. 15 : [5.248728230624580? + 0.?e-33*I, -1.822864184633861? + 0.?e-33*I, -3.425864045990720? + 0.?e-33*I]\n",
      "No. 16 : [5.248728230624580? + 0.?e-33*I, -1.822864184633861? + 0.?e-33*I, -3.425864045990720? + 0.?e-33*I]\n",
      "No. 17 : [5.248728230624580? + 0.?e-33*I, -1.822864184633861? + 0.?e-33*I, -3.425864045990720? + 0.?e-33*I]\n"
     ]
    }
   ],
   "source": [
    "Ho3=list();\n",
    "evo3=list()\n",
    "for i in range(len(ob3)):\n",
    "    aux=H.substitute(a=aroots3[i],b0=broots3[i],b1=1,b2=1,b3=1,b4=1,b5=1,b6=1,b7=1,b8=1,b9=1,b10=1,b11=1)\n",
    "    Ho3.append(aux)\n",
    "aux=matrix(QQbar,3,3,[[0,0,0],[0,0,0],[0,0,0]])\n",
    "for i in range(len(ob3)):\n",
    "    for j in range(3):\n",
    "        for k in range(3):\n",
    "            aux[j,k]=Kem[1](Ho3[i][j,k])\n",
    "    evo3.append(aux.eigenvalues())\n",
    "for i in range(len(ob3)):\n",
    "    print('No.', ob3[i],':', evo3[i])"
   ]
  },
  {
   "cell_type": "markdown",
   "metadata": {},
   "source": [
    "## 2. The degenerate configuration.\n",
    "\n",
    "The degenerate configuration is when one of the fixed point of $J$ belong to the fixed line of $R_1$. We can reduce this case by assuming tha the fixed  point of $J$ in question is $e_1.$\n",
    "\n",
    "On this configuration, $J$ correspond to a diagonal element of order three and $R_1$ preserve the same form as the non-degenerate configuration."
   ]
  },
  {
   "cell_type": "code",
   "execution_count": 29,
   "metadata": {},
   "outputs": [],
   "source": [
    "RR.<r1,r2,x,y>=PolynomialRing(K,['r1','r2','x','y'],order='lex');\n",
    "\n",
    "Jd=matrix(RR,3,3,[[1,0,0],[0,y,0],[0,0,y^2]])\n",
    "R1d=matrix(RR,3,3,[[1,-r1,r1],[0,1-r2,r2],[0,1-r2-x,r2+x]]);\n",
    "\n",
    "rel5d=((R1d*Jd)**(6));\n",
    "R13=(R1d)**3\n",
    "rel6d=((R1d*Jd*R1d*Jd*Jd*R1d*Jd*R13*Jd*Jd*R13*Jd*R13*Jd*Jd));\n",
    "\n",
    "eq0d=[(rel5d[0,1]), (rel5d[0,2]), (rel5d[1,0]), (rel5d[1,2]), (rel5d[2,0]), (rel5d[2,1]), (rel6d[0,1]), (rel6d[0,2]), (rel6d[1,0]),(rel6d[1,2]),(rel6d[2,0]),(rel6d[2,1])];\n",
    "eq1d=[(rel5d[0,0]-rel5d[1,1]),(rel5d[1,1]-rel5d[2,2]),(rel6d[0,0]-rel6d[1,1]),(rel6d[1,1]-rel6d[2,2])];\n",
    "\n",
    "Bd=list();\n",
    "Bd.append(RR(1+y+y^2))\n",
    "for i in range(len(eq0d)):\n",
    "    Bd.append(eq0d[i]);\n",
    "for i in range(len(eq1)):\n",
    "    Bd.append(eq1d[i]);"
   ]
  },
  {
   "cell_type": "code",
   "execution_count": 30,
   "metadata": {},
   "outputs": [
    {
     "name": "stdout",
     "output_type": "stream",
     "text": [
      "[r1, r2 + 1/2*x - 1/2, x^2 - 1, y^2 + y + 1]\n"
     ]
    },
    {
     "data": {
      "text/plain": [
       "4"
      ]
     },
     "execution_count": 30,
     "metadata": {},
     "output_type": "execute_result"
    }
   ],
   "source": [
    "Jdegenerate=RR.ideal(Bd);\n",
    "Gdegenerate=Jdegenerate.groebner_basis()\n",
    "print(Gdegenerate)\n",
    "len(Gdegenerate)"
   ]
  },
  {
   "cell_type": "markdown",
   "metadata": {},
   "source": [
    "For the $(4,3)$ Deligne-Mostow, notice that $r_1$ should be $0.$ Notice that $x=\\pm 1$ and $y=\\frac{-1+i\\sqrt{3}}{2},\\frac{-1-i\\sqrt{3}}{2}.$ \n",
    "\n",
    "The value of $r_2$ depend on the value of $x,$ there are only two possibilities:\n",
    "when $x=1$,$ r_2=0$ and when $x=-1,$ $r_2=1.$\n",
    "\n",
    "Therefore, there is two different representation for the degenerate configuration, and both have finite image."
   ]
  },
  {
   "cell_type": "code",
   "execution_count": null,
   "metadata": {},
   "outputs": [],
   "source": []
  }
 ],
 "metadata": {
  "kernelspec": {
   "display_name": "Sage 9.3",
   "language": "sage",
   "name": "sagemath_9_3_all"
  },
  "language_info": {
   "codemirror_mode": {
    "name": "ipython",
    "version": 3
   },
   "file_extension": ".py",
   "mimetype": "text/x-python",
   "name": "python",
   "nbconvert_exporter": "python",
   "pygments_lexer": "ipython3",
   "version": "3.9.2"
  }
 },
 "nbformat": 4,
 "nbformat_minor": 4
}

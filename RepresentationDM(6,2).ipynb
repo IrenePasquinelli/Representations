{
 "cells": [
  {
   "cell_type": "markdown",
   "metadata": {},
   "source": [
    "# The compact Deligne-Mostow $(6,2)$\n",
    "\n",
    "We want to determine the representations of the compact Deligne-Mostow lattice $(6,2)$ using the configurations of fixed subsets for $J$ and $R_1$."
   ]
  },
  {
   "cell_type": "markdown",
   "metadata": {},
   "source": [
    "## 1. The non-degenerate configuration.\n",
    "\n",
    "The non-degenerate configuration of fixed subsets for $J$ and $R_1$ where the fixed points of $J$ does not belong to the fixed line of $R_1$ and does not coindice with the fixed point $R_1.$"
   ]
  },
  {
   "cell_type": "markdown",
   "metadata": {},
   "source": [
    "We initialize the problem, the set of parameters belong to the field-extension $\\mathbb{Q}(x^6-x^3+1).$"
   ]
  },
  {
   "cell_type": "code",
   "execution_count": 1,
   "metadata": {},
   "outputs": [],
   "source": [
    "K.<w>=CyclotomicField(18)\n",
    "RR.<r1,r2,y>=PolynomialRing(K,3,['r1','r2','y'],order='deglex');\n",
    "\n",
    "J=matrix(K,3,3,[[0,0,1],[-1,0,0],[0,1,0]]);\n",
    "R1=matrix(RR,3,3,[[1,-r1,r1],[0,1-r2,r2],[0,1-r2-y,r2+y]]);"
   ]
  },
  {
   "cell_type": "markdown",
   "metadata": {},
   "source": [
    "The group relations for the Deligne-Mostow $(6,2)$ are:\n",
    "\n",
    "$(R_1 J)^4=Id$\n",
    "\n",
    "$R_1 J R_1 J^2 R_1 J R_1^5 J^2 R_1^5 J R_1^5 J^2=Id$\n",
    "\n",
    "that induces the system of equations $B.$"
   ]
  },
  {
   "cell_type": "code",
   "execution_count": 2,
   "metadata": {},
   "outputs": [],
   "source": [
    "rel5=((R1*J)**(4));\n",
    "R15=(R1^5)\n",
    "rel6=((R1*J*R1*J*J*R1*J*R15*J*J*R15*J*R15*J*J));\n",
    "\n",
    "eq0=[(rel5[0,1]), (rel5[0,2]), (rel5[1,0]), (rel5[1,2]), (rel5[2,0]), (rel5[2,1]), (rel6[0,1]), (rel6[0,2]), (rel6[1,0]),(rel6[1,2]),(rel6[2,0]),(rel6[2,1])];\n",
    "eq1=[(rel5[0,0]-rel5[1,1]),(rel5[1,1]-rel5[2,2]),(rel6[0,0]-rel6[1,1]),(rel6[1,1]-rel6[2,2])];\n",
    "\n",
    "B=list();\n",
    "for i in range(len(eq0)):\n",
    "    B.append(eq0[i]);\n",
    "for i in range(len(eq1)):\n",
    "    B.append(eq1[i]);"
   ]
  },
  {
   "cell_type": "markdown",
   "metadata": {},
   "source": [
    "#### Groebner Basis\n",
    "\n",
    "We use Groebner basis to solve the system of equations $B.$"
   ]
  },
  {
   "cell_type": "code",
   "execution_count": 3,
   "metadata": {
    "scrolled": true
   },
   "outputs": [],
   "source": [
    "RR.<r1,r2,y>=PolynomialRing(K,3,['r1','r2','y'],order='deglex');\n",
    "\n",
    "Jideal=RR.ideal(B);\n",
    "G=Jideal.groebner_basis()\n",
    "#print('Number of elements in the Basis',len(G))\n",
    "#print('The basis is:')\n",
    "#print(G)"
   ]
  },
  {
   "cell_type": "markdown",
   "metadata": {},
   "source": [
    "We start to reduce the variables on the system of equations. The first variable that we will reduce is $y$ where the set of values is small. \n",
    "\n",
    "Recall that $y\\neq 1.$"
   ]
  },
  {
   "cell_type": "code",
   "execution_count": 5,
   "metadata": {
    "scrolled": true
   },
   "outputs": [
    {
     "name": "stdout",
     "output_type": "stream",
     "text": [
      "[y^5 + y^4 + y^3 + y^2 + y + 1]\n",
      "y in [-1, w^3, w^3 - 1, -w^3 + 1, -w^3]\n"
     ]
    }
   ],
   "source": [
    "yroots=list();\n",
    "yideal=Jideal.elimination_ideal([r2,r1]);\n",
    "ypol=yideal.gens();\n",
    "print(ypol)\n",
    "aux=(SR(ypol[0]).factor()).roots(ring=K)\n",
    "for i in range(len(aux)):\n",
    "    yroots.append(aux[i][0])\n",
    "print('y in',yroots)"
   ]
  },
  {
   "cell_type": "markdown",
   "metadata": {},
   "source": [
    "There exists five possible values for $y.$ Notice that four from these five values of $y$ are complex conjugate.\n",
    "\n",
    "We proceed to substitute $y$ on the Groebner basis $G$ and find the values of $r_j$ $(j=1,2).$"
   ]
  },
  {
   "cell_type": "markdown",
   "metadata": {},
   "source": [
    "#### Case 1: \n",
    "\n",
    "For the value of $y$, we use Groebner basis on the system $G$ with the value of $y.$"
   ]
  },
  {
   "cell_type": "code",
   "execution_count": 6,
   "metadata": {},
   "outputs": [],
   "source": [
    "B1=list();\n",
    "for i in range(len(G)):\n",
    "    B1.append(G[i].substitute(y=yroots[0]))\n",
    "RR1.<r1,r2>=PolynomialRing(K,2,order='deglex')\n",
    "J1=RR1.ideal(B1)\n",
    "GB1=J1.groebner_basis()\n",
    "#print('Number of elements in the basis',len(GB1))\n",
    "#print('The basis is:')\n",
    "#print(GB1)"
   ]
  },
  {
   "cell_type": "markdown",
   "metadata": {},
   "source": [
    "The next polynomials define contains all possible values of $r_j.$"
   ]
  },
  {
   "cell_type": "code",
   "execution_count": 7,
   "metadata": {
    "scrolled": true
   },
   "outputs": [],
   "source": [
    "#r1Ideal=J1.elimination_ideal([r2]);\n",
    "#r1pol=r1Ideal.gens();\n",
    "#print('Polynomio defining r1:', r1pol[0].factor())\n",
    "\n",
    "\n",
    "r2Ideal=J1.elimination_ideal([r1]);\n",
    "r2pol=r2Ideal.gens();\n",
    "#print('Polynomio defining r2:', r2pol[0].factor())"
   ]
  },
  {
   "cell_type": "markdown",
   "metadata": {},
   "source": [
    "We collect all possible values of $r_2$ and substitute on the Groebner basis $GB_1.$"
   ]
  },
  {
   "cell_type": "code",
   "execution_count": 8,
   "metadata": {},
   "outputs": [],
   "source": [
    "r2roots=list();\n",
    "aux=SR(r2pol[0]).roots(ring=K)\n",
    "for i in range(len(aux)):\n",
    "    r2roots.append(aux[i][0])\n",
    "#r2roots"
   ]
  },
  {
   "cell_type": "markdown",
   "metadata": {},
   "source": [
    "For each value of $r_2,$ we use Groebner basis and find the associated polynomial on $r_1$ associated to each $r_2.$"
   ]
  },
  {
   "cell_type": "code",
   "execution_count": 9,
   "metadata": {},
   "outputs": [],
   "source": [
    "Br1=list();\n",
    "Pol.<r1,r2>=PolynomialRing(K,['r1','r2'],order='lex')\n",
    "for i in range(len(r2roots)):\n",
    "    B2=list();\n",
    "    for j in range(len(GB1)):\n",
    "        aux=Pol(GB1[j]).substitute(r2=r2roots[i])\n",
    "        if aux==0:\n",
    "            continue\n",
    "        else:\n",
    "            B2.append(aux)\n",
    "    RR3.<r1>=PolynomialRing(K,['r1'],order='lex')\n",
    "    J3=RR3.ideal(B2)\n",
    "    G3=J3.groebner_basis(J3)\n",
    "    Br1.append(G3)\n",
    "    #print('r2 root No',i,':', Br1[i])"
   ]
  },
  {
   "cell_type": "code",
   "execution_count": 11,
   "metadata": {
    "scrolled": true
   },
   "outputs": [],
   "source": [
    "Parameters=list();\n",
    "for i in range(len(r2roots)):\n",
    "    aux=Br1[i][0].roots(ring=K)\n",
    "    for j in range(len(aux)):\n",
    "        Parameters.append([yroots[0],aux[j][0],r2roots[i]])\n",
    "#for i in range(len(Parameters)):\n",
    "#    print('No ', i,':', Parameters[i])"
   ]
  },
  {
   "cell_type": "markdown",
   "metadata": {},
   "source": [
    "#### Case 2: \n",
    "\n",
    "We reproduce the same process for case 1, for the second value."
   ]
  },
  {
   "cell_type": "code",
   "execution_count": 12,
   "metadata": {},
   "outputs": [],
   "source": [
    "B2=list();\n",
    "for i in range(len(G)):\n",
    "    B2.append(G[i].substitute(y=yroots[1]))\n",
    "RR1.<r1,r2>=PolynomialRing(K,2,order='deglex')\n",
    "J2=RR1.ideal(B2)\n",
    "GB2=J2.groebner_basis()\n",
    "#print('Number of elements in the basis',len(GB2))\n",
    "#print('The basis is:')\n",
    "#print(GB2)"
   ]
  },
  {
   "cell_type": "code",
   "execution_count": 13,
   "metadata": {
    "scrolled": false
   },
   "outputs": [],
   "source": [
    "#r1Ideal2=J2.elimination_ideal([r2]);\n",
    "#r1pol2=r1Ideal2.gens();\n",
    "#print('Polynomio defining r1:', r1pol2[0].factor())\n",
    "\n",
    "\n",
    "r2Ideal2=J2.elimination_ideal([r1]);\n",
    "r2pol2=r2Ideal2.gens();\n",
    "#print('Polynomio defining r2:', r2pol2[0].factor())"
   ]
  },
  {
   "cell_type": "code",
   "execution_count": 14,
   "metadata": {},
   "outputs": [],
   "source": [
    "r2roots1=list();\n",
    "Poly2.<r2>=PolynomialRing(K,'r2')\n",
    "aux=Poly2(r2pol2[0]).roots(ring=K)\n",
    "for i in range(len(aux)):\n",
    "    r2roots1.append(aux[i][0])\n",
    "#r2roots1"
   ]
  },
  {
   "cell_type": "code",
   "execution_count": 15,
   "metadata": {},
   "outputs": [],
   "source": [
    "Br1c2=list();\n",
    "Pol.<r1,r2>=PolynomialRing(K,['r1','r2'],order='lex')\n",
    "for i in range(len(r2roots1)):\n",
    "    B2=list();\n",
    "    for j in range(len(GB2)):\n",
    "        aux=Pol(GB2[j]).substitute(r2=r2roots1[i])\n",
    "        if aux==0:\n",
    "            continue\n",
    "        else:\n",
    "            B2.append(aux)\n",
    "    RR3.<r1>=PolynomialRing(K,['r1'],order='lex')\n",
    "    J3=RR3.ideal(B2)\n",
    "    G3=J3.groebner_basis(J3)\n",
    "    Br1c2.append(G3)\n",
    "    #print('r2 root No',i,':', Br1c2[i])"
   ]
  },
  {
   "cell_type": "code",
   "execution_count": 16,
   "metadata": {},
   "outputs": [],
   "source": [
    "for i in range(len(r2roots1)):\n",
    "    aux=Br1c2[i][0].roots(ring=K)\n",
    "    for j in range(len(aux)):\n",
    "        Parameters.append([yroots[1],aux[j][0],r2roots1[i]])"
   ]
  },
  {
   "cell_type": "markdown",
   "metadata": {},
   "source": [
    "#### Case 3:"
   ]
  },
  {
   "cell_type": "code",
   "execution_count": 17,
   "metadata": {},
   "outputs": [],
   "source": [
    "B3=list();\n",
    "for i in range(len(G)):\n",
    "    B3.append(G[i].substitute(y=yroots[2]))\n",
    "RR1.<r1,r2>=PolynomialRing(K,2,order='deglex')\n",
    "J3=RR1.ideal(B3)\n",
    "GB3=J3.groebner_basis()\n",
    "#print('Number of elements in the basis',len(GB3))\n",
    "#print('The basis is:')\n",
    "#print(GB3)"
   ]
  },
  {
   "cell_type": "code",
   "execution_count": 18,
   "metadata": {},
   "outputs": [],
   "source": [
    "#r1Ideal3=J3.elimination_ideal([r2]);\n",
    "#r1pol3=r1Ideal3.gens();\n",
    "#print('Polynomio defining r1:', r1pol3[0].factor())\n",
    "\n",
    "\n",
    "r2Ideal3=J3.elimination_ideal([r1]);\n",
    "r2pol3=r2Ideal3.gens();\n",
    "#print('Polynomio defining r2:', r2pol3[0].factor())"
   ]
  },
  {
   "cell_type": "code",
   "execution_count": 19,
   "metadata": {},
   "outputs": [],
   "source": [
    "r2roots2=list();\n",
    "Poly.<r2>=PolynomialRing(K,'r2')\n",
    "aux=Poly(r2pol3[0]).roots(ring=K)\n",
    "for i in range(len(aux)):\n",
    "    r2roots2.append(aux[i][0])\n",
    "#r2roots2"
   ]
  },
  {
   "cell_type": "code",
   "execution_count": 20,
   "metadata": {},
   "outputs": [],
   "source": [
    "Br1c3=list();\n",
    "Pol.<r1,r2>=PolynomialRing(K,['r1','r2'],order='lex')\n",
    "for i in range(len(r2roots2)):\n",
    "    B2=list();\n",
    "    for j in range(len(GB3)):\n",
    "        aux=Pol(GB3[j]).substitute(r2=r2roots2[i])\n",
    "        if aux==0:\n",
    "            continue\n",
    "        else:\n",
    "            B2.append(aux)\n",
    "    RR3.<r1>=PolynomialRing(K,['r1'],order='lex')\n",
    "    J3=RR3.ideal(B2)\n",
    "    G3=J3.groebner_basis(J3)\n",
    "    Br1c3.append(G3)\n",
    "    #print('r2 root No',6+i,':', Br1c3[i])"
   ]
  },
  {
   "cell_type": "code",
   "execution_count": 21,
   "metadata": {},
   "outputs": [],
   "source": [
    "for i in range(len(r2roots2)):\n",
    "    aux=Br1c3[i][0].roots(ring=K)\n",
    "    for j in range(len(aux)):\n",
    "        Parameters.append([yroots[2],aux[j][0],r2roots2[i]])"
   ]
  },
  {
   "cell_type": "markdown",
   "metadata": {},
   "source": [
    "#### Case 4:"
   ]
  },
  {
   "cell_type": "code",
   "execution_count": 22,
   "metadata": {},
   "outputs": [],
   "source": [
    "B4=list();\n",
    "for i in range(len(G)):\n",
    "    B4.append(G[i].substitute(y=yroots[3]))\n",
    "RR1.<r1,r2>=PolynomialRing(K,2,order='deglex')\n",
    "J4=RR1.ideal(B4)\n",
    "GB4=J4.groebner_basis()\n",
    "#print('Number of elements in the basis',len(GB4))\n",
    "#print('The basis is:')\n",
    "#print(GB4)"
   ]
  },
  {
   "cell_type": "code",
   "execution_count": 23,
   "metadata": {},
   "outputs": [],
   "source": [
    "r2Ideal4=J4.elimination_ideal([r1]);\n",
    "r2pol4=r2Ideal4.gens();\n",
    "#print('Polynomio defining r2:', r2pol4[0].factor())"
   ]
  },
  {
   "cell_type": "code",
   "execution_count": 24,
   "metadata": {},
   "outputs": [],
   "source": [
    "r2roots3=list();\n",
    "Poly.<r2>=PolynomialRing(K,'r2')\n",
    "aux=Poly(r2pol4[0]).roots(ring=K)\n",
    "for i in range(len(aux)):\n",
    "    r2roots3.append(aux[i][0])"
   ]
  },
  {
   "cell_type": "code",
   "execution_count": 26,
   "metadata": {},
   "outputs": [],
   "source": [
    "Br1c4=list();\n",
    "Pol.<r1,r2>=PolynomialRing(K,['r1','r2'],order='lex')\n",
    "for i in range(len(r2roots3)):\n",
    "    B2=list();\n",
    "    for j in range(len(GB4)):\n",
    "        aux=Pol(GB4[j]).substitute(r2=r2roots3[i])\n",
    "        if aux==0:\n",
    "            continue\n",
    "        else:\n",
    "            B2.append(aux)\n",
    "    RR3.<r1>=PolynomialRing(K,['r1'],order='lex')\n",
    "    J3=RR3.ideal(B2)\n",
    "    G3=J3.groebner_basis(J3)\n",
    "    Br1c4.append(G3)\n",
    "    #print('r2 root No',len(Parameters)+i,':', Br1c4[i])"
   ]
  },
  {
   "cell_type": "code",
   "execution_count": 27,
   "metadata": {},
   "outputs": [],
   "source": [
    "for i in range(len(r2roots3)):\n",
    "    aux=Br1c4[i][0].roots(ring=K)\n",
    "    for j in range(len(aux)):\n",
    "        Parameters.append([yroots[3],aux[j][0],r2roots3[i]])"
   ]
  },
  {
   "cell_type": "markdown",
   "metadata": {},
   "source": [
    "#### Case 5:"
   ]
  },
  {
   "cell_type": "code",
   "execution_count": 32,
   "metadata": {},
   "outputs": [],
   "source": [
    "B5=list();\n",
    "for i in range(len(G)):\n",
    "    B5.append(G[i].substitute(y=yroots[4]))\n",
    "RR1.<r1,r2>=PolynomialRing(K,2,order='deglex')\n",
    "J5=RR1.ideal(B5)\n",
    "GB5=J5.groebner_basis()\n",
    "#print('Number of elements in the basis',len(GB5))\n",
    "#print('The basis is:')\n",
    "#print(GB5)"
   ]
  },
  {
   "cell_type": "code",
   "execution_count": 33,
   "metadata": {},
   "outputs": [
    {
     "name": "stdout",
     "output_type": "stream",
     "text": [
      "Polynomio defining r2: (8) * (r2 + (1/2*w^5 + 1/2*w^4 - 1/2*w^3 - 1/2*w^2 - 1/2)) * (r2 + (-1/2*w^3 + 1/2*w^2 - 1/2*w - 1/2)) * (r2 + (-1/2*w^5 - 1/2*w^4 - 1/2*w^3 + 1/2*w - 1/2))\n"
     ]
    }
   ],
   "source": [
    "r2Ideal5=J5.elimination_ideal([r1]);\n",
    "r2pol5=r2Ideal5.gens();\n",
    "print('Polynomio defining r2:', r2pol5[0].factor())"
   ]
  },
  {
   "cell_type": "code",
   "execution_count": 34,
   "metadata": {},
   "outputs": [],
   "source": [
    "r2roots4=list();\n",
    "Poly.<r2>=PolynomialRing(K,'r2')\n",
    "aux=Poly(r2pol5[0]).roots(ring=K)\n",
    "for i in range(len(aux)):\n",
    "    r2roots4.append(aux[i][0])"
   ]
  },
  {
   "cell_type": "code",
   "execution_count": 35,
   "metadata": {},
   "outputs": [],
   "source": [
    "Br1c5=list();\n",
    "Pol.<r1,r2>=PolynomialRing(K,['r1','r2'],order='lex')\n",
    "for i in range(len(r2roots4)):\n",
    "    B2=list();\n",
    "    for j in range(len(GB5)):\n",
    "        aux=Pol(GB5[j]).substitute(r2=r2roots3[i])\n",
    "        if aux==0:\n",
    "            continue\n",
    "        else:\n",
    "            B2.append(aux)\n",
    "    RR3.<r1>=PolynomialRing(K,['r1'],order='lex')\n",
    "    J3=RR3.ideal(B2)\n",
    "    G3=J3.groebner_basis(J3)\n",
    "    Br1c5.append(G3)\n",
    "    #print('r2 root No',len(Parameters)+i,':', Br1c5[i])"
   ]
  },
  {
   "cell_type": "code",
   "execution_count": 36,
   "metadata": {},
   "outputs": [],
   "source": [
    "for i in range(len(r2roots4)):\n",
    "    aux=Br1c5[i][0].roots(ring=K)\n",
    "    for j in range(len(aux)):\n",
    "        Parameters.append([yroots[4],aux[j][0],r2roots4[i]])"
   ]
  },
  {
   "cell_type": "markdown",
   "metadata": {},
   "source": [
    "#### All Parameters $(y,r_1,r_2)$ are:"
   ]
  },
  {
   "cell_type": "code",
   "execution_count": 37,
   "metadata": {},
   "outputs": [
    {
     "name": "stdout",
     "output_type": "stream",
     "text": [
      "No  0 : [-1, 0, 1]\n",
      "No  1 : [-1, -3/2, w^3 + 1/2]\n",
      "No  2 : [-1, -3/2, -w^3 + 3/2]\n",
      "No  3 : [w^3, 1/2*w^3 + 1/2*w^2 - 1/2*w - 1/2, -1/2*w^3 - 1/2*w^2 - 1/2*w + 1/2]\n",
      "No  4 : [w^3, -1/2*w^5 - 1/2*w^4 + 1/2*w^3 + 1/2*w - 1/2, 1/2*w^5 - 1/2*w^4 - 1/2*w^3 + 1/2*w + 1/2]\n",
      "No  5 : [w^3, 1/2*w^5 + 1/2*w^4 + 1/2*w^3 - 1/2*w^2 - 1/2, -1/2*w^5 + 1/2*w^4 - 1/2*w^3 + 1/2*w^2 + 1/2]\n",
      "No  6 : [w^3 - 1, 1/2*w^4 + 1/2*w^3 - 1/2*w^2 - 1, -1/2*w^4 - 1/2*w^3 - 1/2*w^2 + 1]\n",
      "No  7 : [w^3 - 1, 1/2*w^5 + 1/2*w^3 - 1/2*w - 1, 1/2*w^5 - 1/2*w^3 + 1/2*w + 1]\n",
      "No  8 : [w^3 - 1, -1/2*w^5 - 1/2*w^4 + 1/2*w^3 + 1/2*w^2 + 1/2*w - 1, -1/2*w^5 + 1/2*w^4 - 1/2*w^3 + 1/2*w^2 - 1/2*w + 1]\n",
      "No  9 : [-w^3 + 1, 1/2*w^4 - 1/2*w^3 + 1/2*w^2, -1/2*w^4 + 1/2*w^3 + 1/2*w^2]\n",
      "No  10 : [-w^3 + 1, 1/2*w^5 - 1/2*w^4 - 1/2*w^3 - 1/2*w^2 + 1/2*w, 1/2*w^5 + 1/2*w^4 + 1/2*w^3 - 1/2*w^2 - 1/2*w]\n",
      "No  11 : [-w^3 + 1, -1/2*w^5 - 1/2*w^3 - 1/2*w, -1/2*w^5 + 1/2*w^3 + 1/2*w]\n"
     ]
    }
   ],
   "source": [
    "for i in range(len(Parameters)):\n",
    "    print('No ',i,':',Parameters[i])"
   ]
  },
  {
   "cell_type": "markdown",
   "metadata": {},
   "source": [
    "## 1.1 The Galois group action.\n",
    "\n",
    "The Galois group action on $\\mathbb{Q}(x^6-x^3+1)$ induce one in the set of parameters. Such action induce a partition by orbits on the set of parameters."
   ]
  },
  {
   "cell_type": "code",
   "execution_count": 38,
   "metadata": {},
   "outputs": [
    {
     "data": {
      "text/plain": [
       "Galois group 6T1 (3[x]2) with order 6 of x^6 - x^3 + 1"
      ]
     },
     "execution_count": 38,
     "metadata": {},
     "output_type": "execute_result"
    }
   ],
   "source": [
    "Gal=K.galois_group()\n",
    "Gal"
   ]
  },
  {
   "cell_type": "markdown",
   "metadata": {},
   "source": [
    "We compute the orbits."
   ]
  },
  {
   "cell_type": "code",
   "execution_count": 40,
   "metadata": {},
   "outputs": [
    {
     "data": {
      "text/plain": [
       "[0, 1, 2, 3, 4, 5, 6, 7, 8, 9, 10, 11]"
      ]
     },
     "execution_count": 40,
     "metadata": {},
     "output_type": "execute_result"
    }
   ],
   "source": [
    "[0..11]"
   ]
  },
  {
   "cell_type": "code",
   "execution_count": 44,
   "metadata": {},
   "outputs": [
    {
     "name": "stdout",
     "output_type": "stream",
     "text": [
      "[0]\n"
     ]
    }
   ],
   "source": [
    "ob1=[]\n",
    "x=[0..11]\n",
    "j=0;\n",
    "k=0;\n",
    "while j<(len(Parameters)):\n",
    "    while k<len(Gal):\n",
    "        aux0=(Gal[k])(Parameters[j][0])\n",
    "        aux1=(Gal[k])(Parameters[j][1])\n",
    "        aux2=(Gal[k])(Parameters[j][2])\n",
    "        if aux0-Gal[0](Parameters[0][0])==0 and aux1-Gal[0](Parameters[0][1])==0 and aux2-Gal[0](Parameters[0][2])==0:\n",
    "            ob1.append(j)\n",
    "            k=len(Gal)\n",
    "        else:\n",
    "            k=k+1\n",
    "    k=0;\n",
    "    j=j+1;\n",
    "print(ob1)"
   ]
  },
  {
   "cell_type": "code",
   "execution_count": 45,
   "metadata": {},
   "outputs": [
    {
     "name": "stdout",
     "output_type": "stream",
     "text": [
      "[1, 2]\n"
     ]
    }
   ],
   "source": [
    "ob2=[]\n",
    "x=[0..11]\n",
    "j=0;\n",
    "k=0;\n",
    "while j<(len(Parameters)):\n",
    "    while k<len(Gal):\n",
    "        aux0=(Gal[k])(Parameters[j][0])\n",
    "        aux1=(Gal[k])(Parameters[j][1])\n",
    "        aux2=(Gal[k])(Parameters[j][2])\n",
    "        if aux0-Gal[0](Parameters[1][0])==0 and aux1-Gal[0](Parameters[1][1])==0 and aux2-Gal[0](Parameters[1][2])==0:\n",
    "            ob2.append(j)\n",
    "            k=len(Gal)\n",
    "        else:\n",
    "            k=k+1\n",
    "    k=0;\n",
    "    j=j+1;\n",
    "print(ob2)"
   ]
  },
  {
   "cell_type": "code",
   "execution_count": 46,
   "metadata": {},
   "outputs": [
    {
     "name": "stdout",
     "output_type": "stream",
     "text": [
      "[3, 4, 5, 9, 10, 11]\n"
     ]
    }
   ],
   "source": [
    "ob3=[]\n",
    "x=[0..11]\n",
    "j=0;\n",
    "k=0;\n",
    "while j<(len(Parameters)):\n",
    "    while k<len(Gal):\n",
    "        aux0=(Gal[k])(Parameters[j][0])\n",
    "        aux1=(Gal[k])(Parameters[j][1])\n",
    "        aux2=(Gal[k])(Parameters[j][2])\n",
    "        if aux0-Gal[0](Parameters[3][0])==0 and aux1-Gal[0](Parameters[3][1])==0 and aux2-Gal[0](Parameters[3][2])==0:\n",
    "            ob3.append(j)\n",
    "            k=len(Gal)\n",
    "        else:\n",
    "            k=k+1\n",
    "    k=0;\n",
    "    j=j+1;\n",
    "print(ob3)"
   ]
  },
  {
   "cell_type": "code",
   "execution_count": 47,
   "metadata": {},
   "outputs": [
    {
     "name": "stdout",
     "output_type": "stream",
     "text": [
      "[6, 7, 8]\n"
     ]
    }
   ],
   "source": [
    "ob4=[]\n",
    "x=[0..11]\n",
    "j=0;\n",
    "k=0;\n",
    "while j<(len(Parameters)):\n",
    "    while k<len(Gal):\n",
    "        aux0=(Gal[k])(Parameters[j][0])\n",
    "        aux1=(Gal[k])(Parameters[j][1])\n",
    "        aux2=(Gal[k])(Parameters[j][2])\n",
    "        if aux0-Gal[0](Parameters[6][0])==0 and aux1-Gal[0](Parameters[6][1])==0 and aux2-Gal[0](Parameters[6][2])==0:\n",
    "            ob4.append(j)\n",
    "            k=len(Gal)\n",
    "        else:\n",
    "            k=k+1\n",
    "    k=0;\n",
    "    j=j+1;\n",
    "print(ob4)"
   ]
  },
  {
   "cell_type": "code",
   "execution_count": 49,
   "metadata": {},
   "outputs": [
    {
     "data": {
      "text/plain": [
       "True"
      ]
     },
     "execution_count": 49,
     "metadata": {},
     "output_type": "execute_result"
    }
   ],
   "source": [
    "len(ob1)+len(ob2)+len(ob3)+len(ob4)==len(Parameters)"
   ]
  },
  {
   "cell_type": "markdown",
   "metadata": {},
   "source": [
    "Remark: to easy the computation in what follows, we will join ob1 and ob2 in a only list."
   ]
  },
  {
   "cell_type": "code",
   "execution_count": 50,
   "metadata": {},
   "outputs": [],
   "source": [
    "orbs=[0,1,2]"
   ]
  },
  {
   "cell_type": "markdown",
   "metadata": {},
   "source": [
    "## 1.2 The associated Hermitian form\n",
    "\n",
    "As these set of parameters provide a representation of the Deligne-Mostow $(6,2)$ in $PGL(3,\\mathbb{C})$, we should have a representation whose image group is conjugated to a $PU(2,1)$ subgroup. To determine this representation we need to determine the Hermitian form preserved by the group image and compute its signature. \n",
    "\n",
    "From the initial data of our representation, an Hermitian form $H$ should satisfy the equation $(J^*)HJ=H.$ This imply that $H$ is of the form:\n",
    "\n",
    "$H=\\begin{bmatrix}\n",
    "a&-\\overline{c}&c\\\\-c& a&\\overline{c}\\\\ \\overline{c}&c&a\n",
    "\\end{bmatrix}$\n",
    "\n",
    "Therefore, in order to compute the values of $a$ and $c,$ we need to solve the equation ${R_1}^* H R_1=H$ for all possible parameters $(y,r_1,r_2).$"
   ]
  },
  {
   "cell_type": "code",
   "execution_count": 52,
   "metadata": {},
   "outputs": [],
   "source": [
    "R1o3=list();\n",
    "R1o4=list();\n",
    "R1orbs=list();\n",
    "for i in range(len(ob3)):\n",
    "    aux=matrix(K,3,3,[[1,-Parameters[ob3[i]][1],Parameters[ob3[i]][1]],[0,1-Parameters[ob3[i]][2],Parameters[ob3[i]][2]],[0,1-Parameters[ob3[i]][2]-Parameters[ob3[i]][0],Parameters[ob3[i]][2]+Parameters[ob3[i]][0]]])\n",
    "    R1o3.append(aux)\n",
    "for i in range(len(ob4)):\n",
    "    aux=matrix(K,3,3,[[1,-Parameters[ob4[i]][1],Parameters[ob4[i]][1]],[0,1-Parameters[ob4[i]][2],Parameters[ob4[i]][2]],[0,1-Parameters[ob4[i]][2]-Parameters[ob4[i]][0],Parameters[ob4[i]][2]+Parameters[ob4[i]][0]]])\n",
    "    R1o4.append(aux)\n",
    "for i in range(len(orbs)):\n",
    "    aux=matrix(K,3,3,[[1,-Parameters[orbs[i]][1],Parameters[orbs[i]][1]],[0,1-Parameters[orbs[i]][2],Parameters[orbs[i]][2]],[0,1-Parameters[orbs[i]][2]-Parameters[orbs[i]][0],Parameters[orbs[i]][2]+Parameters[orbs[i]][0]]])\n",
    "    R1orbs.append(aux)"
   ]
  },
  {
   "cell_type": "code",
   "execution_count": 29,
   "metadata": {},
   "outputs": [
    {
     "data": {
      "text/plain": [
       "[1, w, w^2, w^3, w^4, w^5]"
      ]
     },
     "execution_count": 29,
     "metadata": {},
     "output_type": "execute_result"
    }
   ],
   "source": [
    "K.integral_basis()"
   ]
  },
  {
   "cell_type": "markdown",
   "metadata": {},
   "source": [
    "Initialize the values of $c$ an $\\overline{c}$ as polynomials with coefficients on $\\mathbb{Q}(x^6-x^3+1)[\\cdot].$\n",
    "\n",
    "Without loose of generality we can assume that $c=\\sum_{j=0}^{6}b_j w^{j},$ where $\\{1,w^j\\}_{j=1}^{6}$ is the integral basis of $\\mathbb{Q}(x^6-x^3+1).$"
   ]
  },
  {
   "cell_type": "code",
   "execution_count": 53,
   "metadata": {},
   "outputs": [
    {
     "name": "stdout",
     "output_type": "stream",
     "text": [
      "[                                                                           a     -b0 + (w^5 - w^2)*b1 + (w^4 - w)*b2 + (w^3 - 1)*b3 + (w^5)*b4 + (w^4)*b5                      b0 + (w)*b1 + (w^2)*b2 + (w^3)*b3 + (w^4)*b4 + (w^5)*b5]\n",
      "[               -b0 + (-w)*b1 + (-w^2)*b2 + (-w^3)*b3 + (-w^4)*b4 + (-w^5)*b5                                                                            a b0 + (-w^5 + w^2)*b1 + (-w^4 + w)*b2 + (-w^3 + 1)*b3 + (-w^5)*b4 + (-w^4)*b5]\n",
      "[b0 + (-w^5 + w^2)*b1 + (-w^4 + w)*b2 + (-w^3 + 1)*b3 + (-w^5)*b4 + (-w^4)*b5                      b0 + (w)*b1 + (w^2)*b2 + (w^3)*b3 + (w^4)*b4 + (w^5)*b5                                                                            a]\n"
     ]
    }
   ],
   "source": [
    "Pol.<a,b0,b1,b2,b3,b4,b5>=PolynomialRing(K,['a','b0','b1','b2','b3','b4','b5'],order='lex')\n",
    "c=b0+w*b1+(w^2)*b2+(w^3)*b3+(w^4)*b4+(w^5)*b5;\n",
    "cconj=b0+conjugate(w)*b1+conjugate(w^2)*b2+conjugate(w^3)*b3+conjugate(w^4)*b4+conjugate(w^5)*b5;\n",
    "H=matrix(Pol,3,3,[[a,-cconj,c],[-c,a,cconj],[cconj,c,a]]); print(H)"
   ]
  },
  {
   "cell_type": "markdown",
   "metadata": {},
   "source": [
    "For each orbit we compute the system of equations, and use Groebner basis for each element on the orbit."
   ]
  },
  {
   "cell_type": "code",
   "execution_count": 55,
   "metadata": {},
   "outputs": [
    {
     "data": {
      "text/plain": [
       "[[a + (-w^5 + 2*w^4 - w^2 - w + 2)*b1 + (-w^4 + w^2 + w)*b2 + (-2*w^4 + 2*w^2 + 2*w - 1)*b3 + (-w^5 + w^4 + 2)*b4 + (-w^5 + w^4 + 2)*b5, b0 + (w^5 - 3*w^4 + 2*w^2 + 2*w - 3)*b1 + (w^4 - w^2 - w)*b2 + (3*w^4 - 3*w^2 - 3*w + 2)*b3 + (w^5 - w^4 - 3)*b4 + (2*w^5 - 2*w^4 - 3)*b5],\n",
       " [a + (-w^5 + w^2 + w - 2)*b1 + (2*w^5 - w^4 - w^2 - w + 2)*b2 + (-2*w^5 + 2*w^4 - 1)*b3 + (w^5 - w^4)*b4 + (w^5 - w^4)*b5, b0 + (w^5 - w^2 - w + 3)*b1 + (-3*w^5 + w^4 + 2*w^2 + 2*w - 3)*b2 + (3*w^5 - 3*w^4 + 2)*b3 + (-2*w^5 + 2*w^4)*b4 + (-w^5 + w^4)*b5],\n",
       " [a + (w^5 - w^2 - w)*b1 + (w^4 - w^2 - w - 2)*b2 + (2*w^5 - 2*w^2 - 2*w - 1)*b3 + (w^5 + w^4 - 2*w^2 - 2*w - 2)*b4 + (w^5 + w^4 - 2*w^2 - 2*w - 2)*b5, b0 + (-2*w^5 + 2*w^2 + 2*w)*b1 + (-2*w^4 + 2*w^2 + 2*w + 3)*b2 + (-3*w^5 + 3*w^2 + 3*w + 2)*b3 + (-2*w^5 - w^4 + 3*w^2 + 3*w + 3)*b4 + (-w^5 - 2*w^4 + 3*w^2 + 3*w + 3)*b5],\n",
       " [a + (w^5 - w^2 - w + 2)*b1 + (-2*w^5 + w^4 + w^2 + w - 2)*b2 + (2*w^5 - 2*w^4 + 1)*b3 + (-w^5 + w^4)*b4 + (-w^5 + w^4)*b5, b0 + (-2*w^5 + 2*w^2 + 2*w - 3)*b1 + (3*w^5 - 2*w^4 - w^2 - w + 3)*b2 + (-3*w^5 + 3*w^4 - 1)*b3 + (w^5 - w^4)*b4 + (2*w^5 - 2*w^4)*b5],\n",
       " [a + (w^5 - 2*w^4 + w^2 + w - 2)*b1 + (w^4 - w^2 - w)*b2 + (2*w^4 - 2*w^2 - 2*w + 1)*b3 + (w^5 - w^4 - 2)*b4 + (w^5 - w^4 - 2)*b5, b0 + (-2*w^5 + 3*w^4 - w^2 - w + 3)*b1 + (-2*w^4 + 2*w^2 + 2*w)*b2 + (-3*w^4 + 3*w^2 + 3*w - 1)*b3 + (-2*w^5 + 2*w^4 + 3)*b4 + (-w^5 + w^4 + 3)*b5],\n",
       " [a + (-w^5 + w^2 + w)*b1 + (-w^4 + w^2 + w + 2)*b2 + (-2*w^5 + 2*w^2 + 2*w + 1)*b3 + (-w^5 - w^4 + 2*w^2 + 2*w + 2)*b4 + (-w^5 - w^4 + 2*w^2 + 2*w + 2)*b5, b0 + (w^5 - w^2 - w)*b1 + (w^4 - w^2 - w - 3)*b2 + (3*w^5 - 3*w^2 - 3*w - 1)*b3 + (w^5 + 2*w^4 - 3*w^2 - 3*w - 3)*b4 + (2*w^5 + w^4 - 3*w^2 - 3*w - 3)*b5]]"
      ]
     },
     "execution_count": 55,
     "metadata": {},
     "output_type": "execute_result"
    }
   ],
   "source": [
    "Bo1=list();\n",
    "for i in range(len(ob3)):\n",
    "    RelHerm=(conjugate(transpose(R1o3[i]))*H*(R1o3[i])-H)\n",
    "    B=[RelHerm[0,0],(RelHerm[0,1]),(RelHerm[0,2]),RelHerm[1,0],(RelHerm[1,1]),(RelHerm[1,2]),RelHerm[2,0],RelHerm[2,1],(RelHerm[2,2])];\n",
    "    Bo1.append(B)\n",
    "    Go1=list()\n",
    "for i in range(len(ob3)):\n",
    "    J=Pol.ideal(Bo1[i])\n",
    "    Grob=J.groebner_basis()\n",
    "    Go1.append(Grob)\n",
    "Go1"
   ]
  },
  {
   "cell_type": "code",
   "execution_count": 56,
   "metadata": {},
   "outputs": [],
   "source": [
    "Pola.<a>=PolynomialRing(K,'a')\n",
    "Polb.<b0>=PolynomialRing(K,'b0')\n",
    "aroots1=list();\n",
    "broots1=list();\n",
    "for i in range(len(ob3)):\n",
    "    aux=[Go1[i][0].substitute(b1=1,b2=1,b3=1,b4=1,b5=1),Go1[i][1].substitute(b1=1,b2=1,b3=1,b4=1,b5=1)]\n",
    "    aroots1.append(Pola(aux[0]).roots(ring=K)[0][0])\n",
    "    broots1.append(Polb(aux[1]).roots(ring=K)[0][0])\n"
   ]
  },
  {
   "cell_type": "code",
   "execution_count": 58,
   "metadata": {},
   "outputs": [
    {
     "data": {
      "text/plain": [
       "Ring morphism:\n",
       "  From: Cyclotomic Field of order 18 and degree 6\n",
       "  To:   Algebraic Field\n",
       "  Defn: w |--> 0.9396926207859084? + 0.3420201433256688?*I"
      ]
     },
     "execution_count": 58,
     "metadata": {},
     "output_type": "execute_result"
    }
   ],
   "source": [
    "KEd=K.embeddings(QQbar)\n",
    "KEd[0]"
   ]
  },
  {
   "cell_type": "code",
   "execution_count": 59,
   "metadata": {},
   "outputs": [
    {
     "name": "stdout",
     "output_type": "stream",
     "text": [
      "No 3 : [11.17024461095341? + 0.?e-17*I, -2.064177772475913? + 0.?e-19*I, -36.42426735390998? + 0.?e-17*I]\n",
      "No 4 : [5.943563014047729? + 0.?e-16*I, 5.389185421335443? + 0.?e-16*I, -7.290859369381590? + 0.?e-18*I]\n",
      "No 5 : [83.97277146629181? + 0.?e-16*I, -3.879385241571817? + 0.?e-18*I, -17.11380762500114? + 0.?e-17*I]\n",
      "No 9 : [7.290859369381590? + 0.?e-18*I, -5.389185421335443? + 0.?e-16*I, -5.943563014047729? + 0.?e-16*I]\n",
      "No 10 : [36.42426735390998? + 0.?e-17*I, 2.064177772475913? + 0.?e-19*I, -11.17024461095341? + 0.?e-18*I]\n",
      "No 11 : [17.11380762500114? + 0.?e-17*I, 3.879385241571817? + 0.?e-18*I, -83.97277146629181? + 0.?e-16*I]\n"
     ]
    }
   ],
   "source": [
    "Ho1=list();\n",
    "evo1=list()\n",
    "for i in range(len(ob3)):\n",
    "    aux=H.substitute(a=aroots1[i],b0=broots1[i],b1=1,b2=1,b3=1,b4=1,b5=1)\n",
    "    Ho1.append(aux)\n",
    "aux=matrix(QQbar,3,3,[[0,0,0],[0,0,0],[0,0,0]])\n",
    "for i in range(len(ob3)):\n",
    "    for j in range(3):\n",
    "        for k in range(3):\n",
    "            aux[j,k]=KEd[0](Ho1[i][j,k])\n",
    "    evo1.append(aux.eigenvalues())\n",
    "for i in range(len(ob3)):\n",
    "    print('No',ob3[i],':',evo1[i])"
   ]
  },
  {
   "cell_type": "code",
   "execution_count": 60,
   "metadata": {},
   "outputs": [
    {
     "data": {
      "text/plain": [
       "[[a + (5*w^5 - 4*w^4 - w^2 - w + 2)*b1 + (-6*w^5 + 5*w^4 + w^2 + w - 6)*b2 + (6*w^5 - 2*w^4 - 4*w^2 - 4*w + 5)*b3 + (-w^5 + w^4 - 4)*b4 + (-w^5 + w^4 - 4)*b5, b0 + (-4*w^5 + 2*w^4 + 2*w^2 + 2*w - 3)*b1 + (5*w^5 - 4*w^4 - w^2 - w + 5)*b2 + (-5*w^5 + 3*w^4 + 2*w^2 + 2*w - 3)*b3 + (w^5 - w^4 + 2)*b4 + (2*w^5 - 2*w^4 + 2)*b5],\n",
       " [a + (-w^5 + w^2 + w + 4)*b1 + (-4*w^5 - w^4 + 5*w^2 + 5*w + 2)*b2 + (-2*w^5 - 4*w^4 + 6*w^2 + 6*w + 5)*b3 + (-5*w^5 - w^4 + 6*w^2 + 6*w + 6)*b4 + (-5*w^5 - w^4 + 6*w^2 + 6*w + 6)*b5, b0 + (w^5 - w^2 - w - 2)*b1 + (2*w^5 + w^4 - 3*w^2 - 3*w - 3)*b2 + (3*w^5 + 2*w^4 - 5*w^2 - 5*w - 3)*b3 + (3*w^5 + 2*w^4 - 5*w^2 - 5*w - 5)*b4 + (4*w^5 + w^4 - 5*w^2 - 5*w - 5)*b5],\n",
       " [a + (w^5 - 6*w^4 + 5*w^2 + 5*w - 6)*b1 + (w^4 - w^2 - w + 4)*b2 + (-4*w^5 + 6*w^4 - 2*w^2 - 2*w + 5)*b3 + (w^5 - 5*w^4 + 4*w^2 + 4*w - 2)*b4 + (w^5 - 5*w^4 + 4*w^2 + 4*w - 2)*b5, b0 + (-2*w^5 + 5*w^4 - 3*w^2 - 3*w + 5)*b1 + (-2*w^4 + 2*w^2 + 2*w - 2)*b2 + (2*w^5 - 5*w^4 + 3*w^2 + 3*w - 3)*b3 + (-2*w^5 + 4*w^4 - 2*w^2 - 2*w + 3)*b4 + (-w^5 + 3*w^4 - 2*w^2 - 2*w + 3)*b5]]"
      ]
     },
     "execution_count": 60,
     "metadata": {},
     "output_type": "execute_result"
    }
   ],
   "source": [
    "Bo2=list();\n",
    "for i in range(len(ob4)):\n",
    "    RelHerm=(conjugate(transpose(R1o4[i]))*H*(R1o4[i])-H)\n",
    "    B=[RelHerm[0,0],(RelHerm[0,1]),(RelHerm[0,2]),RelHerm[1,0],(RelHerm[1,1]),(RelHerm[1,2]),RelHerm[2,0],RelHerm[2,1],(RelHerm[2,2])];\n",
    "    Bo2.append(B)\n",
    "Go2=list()\n",
    "for i in range(len(ob4)):\n",
    "    J=Pol.ideal(Bo2[i])\n",
    "    Grob=J.groebner_basis()\n",
    "    Go2.append(Grob)\n",
    "Go2"
   ]
  },
  {
   "cell_type": "code",
   "execution_count": 63,
   "metadata": {},
   "outputs": [],
   "source": [
    "Pola.<a>=PolynomialRing(K,'a')\n",
    "Polb.<b0>=PolynomialRing(K,'b0')\n",
    "aroots2=list();\n",
    "broots2=list();\n",
    "for i in range(len(ob4)):\n",
    "    aux=[Go2[i][0].substitute(b1=1,b2=1,b3=1,b4=1,b5=1),Go2[i][1].substitute(b1=1,b2=1,b3=1,b4=1,b5=1)]\n",
    "    aroots2.append(Pola(aux[0]).roots(ring=K)[0][0])\n",
    "    broots2.append(Polb(aux[1]).roots(ring=K)[0][0])"
   ]
  },
  {
   "cell_type": "code",
   "execution_count": 64,
   "metadata": {},
   "outputs": [
    {
     "name": "stdout",
     "output_type": "stream",
     "text": [
      "No 6 : [25.64589651123910? + 0.?e-16*I, 15.04962985252523? + 0.?e-16*I, 1.815207469095905? + 0.?e-19*I]\n",
      "No 7 : [-5.226681596905678? + 0.?e-18*I, -18.46110398033500? + 0.?e-17*I, -173.3347283539191? + 0.?e-16*I]\n",
      "No 8 : [-9.82294825561955? + 0.?e-16*I, -11.124236758471855? + 0.?e-15*I, -23.05737063904887? + 0.?e-16*I]\n"
     ]
    }
   ],
   "source": [
    "Ho2=list();\n",
    "evo2=list()\n",
    "for i in range(len(ob4)):\n",
    "    aux=H.substitute(a=aroots2[i],b0=broots2[i],b1=1,b2=1,b3=1,b4=1,b5=1)\n",
    "    Ho2.append(aux)\n",
    "aux=matrix(QQbar,3,3,[[0,0,0],[0,0,0],[0,0,0]])\n",
    "for i in range(len(ob4)):\n",
    "    for j in range(3):\n",
    "        for k in range(3):\n",
    "            aux[j,k]=KEd[0](Ho2[i][j,k])\n",
    "    evo2.append(aux.eigenvalues())\n",
    "for i in range(len(ob4)):\n",
    "    print('No',ob4[i],':',evo2[i])"
   ]
  },
  {
   "cell_type": "code",
   "execution_count": 65,
   "metadata": {},
   "outputs": [
    {
     "data": {
      "text/plain": [
       "[[b0 - b2 + (w^5 - w^2 - w)*b3 + (w^4 - w^2 - w - 1)*b4 + (w^5 - w^2 - w - 1)*b5, b1 + (-w^5 + w^2 + w)*b2 + (-w^4 + w^2 + w + 1)*b3 + (-w^5 + w^2 + w + 1)*b4 + (-w^5 + w^2 + w + 1)*b5],\n",
       " [a + (7/3*w^5 - 14/3*w^4 + 7/3*w^2 + 7/3*w)*b1 + (-14/3*w^5 + 7/3*w^4 + 7/3*w^2 + 7/3*w)*b2 + 7*b3 + (-7/3*w^5 - 7/3*w^4 + 14/3*w^2 + 14/3*w)*b4 + (-7/3*w^5 - 7/3*w^4 + 14/3*w^2 + 14/3*w)*b5, b0 + (-2*w^5 + 3*w^4 - w^2 - w)*b1 + (3*w^5 - 2*w^4 - w^2 - w)*b2 - 4*b3 + (w^5 + 2*w^4 - 3*w^2 - 3*w)*b4 + (2*w^5 + w^4 - 3*w^2 - 3*w)*b5],\n",
       " [a + (-7/3*w^5 + 14/3*w^4 - 7/3*w^2 - 7/3*w)*b1 + (14/3*w^5 - 7/3*w^4 - 7/3*w^2 - 7/3*w)*b2 - 7*b3 + (7/3*w^5 + 7/3*w^4 - 14/3*w^2 - 14/3*w)*b4 + (7/3*w^5 + 7/3*w^4 - 14/3*w^2 - 14/3*w)*b5, b0 + (w^5 - 3*w^4 + 2*w^2 + 2*w)*b1 + (-3*w^5 + w^4 + 2*w^2 + 2*w)*b2 + 5*b3 + (-2*w^5 - w^4 + 3*w^2 + 3*w)*b4 + (-w^5 - 2*w^4 + 3*w^2 + 3*w)*b5]]"
      ]
     },
     "execution_count": 65,
     "metadata": {},
     "output_type": "execute_result"
    }
   ],
   "source": [
    "Bo3=list();\n",
    "for i in range(len(orbs)):\n",
    "    RelHerm=(conjugate(transpose(R1orbs[i]))*H*(R1orbs[i])-H)\n",
    "    B=[RelHerm[0,0],(RelHerm[0,1]),(RelHerm[0,2]),RelHerm[1,0],(RelHerm[1,1]),(RelHerm[1,2]),RelHerm[2,0],RelHerm[2,1],(RelHerm[2,2])];\n",
    "    Bo3.append(B)\n",
    "Go3=list()\n",
    "for i in range(len(orbs)):\n",
    "    J=Pol.ideal(Bo3[i])\n",
    "    Grob=J.groebner_basis()\n",
    "    Go3.append(Grob)\n",
    "Go3"
   ]
  },
  {
   "cell_type": "code",
   "execution_count": 72,
   "metadata": {},
   "outputs": [],
   "source": [
    "Polb1.<b1>=PolynomialRing(K,'b1')\n",
    "Polb2.<a>=PolynomialRing(K,'a')\n",
    "Polb0.<b0>=PolynomialRing(K,'b0')\n",
    "Hparam=list();\n",
    "aux=[Go3[0][0].substitute(a=1,b2=1,b3=1,b4=1,b5=1),Go3[0][1].substitute(a=1,b2=1,b3=1,b4=1,b5=1)]\n",
    "aux1=Polb1(aux[1]).roots(ring=K)[0][0]\n",
    "aux2=Polb0(aux[0]).roots(ring=K)[0][0]\n",
    "Hparam.append([1,aux2,aux1,1,1,1,1])\n",
    "for i in range(len(orbs)-1):\n",
    "    aux=[Go3[i+1][0].substitute(b1=1,b2=1,b3=1,b4=1,b5=1),Go3[i+1][1].substitute(b1=1,b2=1,b3=1,b4=1,b5=1)]\n",
    "    aux1=Polb0(aux[1]).roots(ring=K)[0][0]\n",
    "    aux2=Pola(aux[0]).roots(ring=K)[0][0]\n",
    "    Hparam.append([aux2,aux1,1,1,1,1,1])"
   ]
  },
  {
   "cell_type": "code",
   "execution_count": 73,
   "metadata": {},
   "outputs": [
    {
     "name": "stdout",
     "output_type": "stream",
     "text": [
      "No 0 : [1, 1, 1]\n",
      "No 1 : [-4.411474127809773? + 0.?e-18*I, -17.64589651123910? + 0.?e-17*I, -70.58358604495637? + 0.?e-16*I]\n",
      "No 2 : [70.58358604495637? + 0.?e-16*I, 17.64589651123910? + 0.?e-17*I, 4.411474127809773? + 0.?e-18*I]\n"
     ]
    }
   ],
   "source": [
    "Ho3=list();\n",
    "evo3=list()\n",
    "for i in range(len(orbs)):\n",
    "    aux=H.substitute(a=Hparam[i][0],b0=Hparam[i][1],b1=Hparam[i][2],b2=Hparam[i][3],b3=Hparam[i][4],b4=Hparam[i][5],b5=Hparam[i][6])\n",
    "    Ho3.append(aux)\n",
    "aux=matrix(QQbar,3,3,[[0,0,0],[0,0,0],[0,0,0]])\n",
    "for i in range(len(orbs)):\n",
    "    for j in range(3):\n",
    "        for k in range(3):\n",
    "            aux[j,k]=KEd[0](Ho3[i][j,k])\n",
    "    evo3.append(aux.eigenvalues())\n",
    "for i in range(len(orbs)):\n",
    "    print('No',orbs[i],':',evo3[i])"
   ]
  },
  {
   "cell_type": "markdown",
   "metadata": {},
   "source": [
    "## 1.3 The Cusp Stabilizer\n",
    "\n",
    "For the Deligne-Mostow $(3,6)$ lattice, the cusp stabilizer, $\\Gamma_{cusp},$ is generated by the $J R_1 J^2$ and $R_1.$ In particular, the centralizer of $\\Gamma_{cusp}$ is generated by $\\left(R_1 J R_1 J^2\\right)^3.$\n",
    "\n",
    "For certains parameters, their centralizer group generator is a finite order elliptic element. In what follows, we compute the Jordan decomposition of the centralizer generator."
   ]
  },
  {
   "cell_type": "code",
   "execution_count": 75,
   "metadata": {},
   "outputs": [
    {
     "name": "stdout",
     "output_type": "stream",
     "text": [
      "No 3 : [-1  1  0]\n",
      "[ 0 -1  0]\n",
      "[ 0  0 -1]\n",
      "No 4 : [-1  1  0]\n",
      "[ 0 -1  0]\n",
      "[ 0  0 -1]\n",
      "No 5 : [-1  1  0]\n",
      "[ 0 -1  0]\n",
      "[ 0  0 -1]\n",
      "No 9 : [-1  1  0]\n",
      "[ 0 -1  0]\n",
      "[ 0  0 -1]\n",
      "No 10 : [-1  1  0]\n",
      "[ 0 -1  0]\n",
      "[ 0  0 -1]\n",
      "No 11 : [-1  1  0]\n",
      "[ 0 -1  0]\n",
      "[ 0  0 -1]\n"
     ]
    }
   ],
   "source": [
    "J0=matrix(K,3,3,[[0,0,1],[-1,0,0],[0,1,0]]);\n",
    "Cento3=list();\n",
    "for i in range(len(ob3)):\n",
    "    aux=(R1o3[i]*J0*R1o3[i]*(J0)**2)**3;\n",
    "    Cento3.append(aux);\n",
    "\n",
    "CJF=list();\n",
    "for i in range(len(Cento3)):\n",
    "    CJF.append(Cento3[i].jordan_form(subdivide=False))\n",
    "for i in range(len(CJF)):\n",
    "    print('No',ob3[i],':',CJF[i])"
   ]
  },
  {
   "cell_type": "code",
   "execution_count": 76,
   "metadata": {},
   "outputs": [
    {
     "name": "stdout",
     "output_type": "stream",
     "text": [
      "No 6 : [-1  0  0]\n",
      "[ 0  1  0]\n",
      "[ 0  0  1]\n",
      "No 7 : [-1  0  0]\n",
      "[ 0  1  0]\n",
      "[ 0  0  1]\n",
      "No 8 : [-1  0  0]\n",
      "[ 0  1  0]\n",
      "[ 0  0  1]\n"
     ]
    }
   ],
   "source": [
    "Cento4=list();\n",
    "for i in range(len(ob4)):\n",
    "    aux=(R1o4[i]*J0*R1o4[i]*(J0)**2)**3;\n",
    "    Cento4.append(aux);\n",
    "\n",
    "CJF=list();\n",
    "for i in range(len(Cento4)):\n",
    "    CJF.append(Cento4[i].jordan_form(subdivide=False))\n",
    "for i in range(len(CJF)):\n",
    "    print('No',ob4[i],':',CJF[i])"
   ]
  },
  {
   "cell_type": "code",
   "execution_count": 81,
   "metadata": {},
   "outputs": [
    {
     "name": "stdout",
     "output_type": "stream",
     "text": [
      "No 0 : [-1  0  0]\n",
      "[ 0 -1  0]\n",
      "[ 0  0 -1]\n",
      "No 1 : [-1  0  0]\n",
      "[ 0 -1  0]\n",
      "[ 0  0 -1]\n",
      "No 2 : [-1  0  0]\n",
      "[ 0 -1  0]\n",
      "[ 0  0 -1]\n"
     ]
    }
   ],
   "source": [
    "Centorbs=list();\n",
    "for i in range(len(orbs)):\n",
    "    aux=(R1orbs[i]*J0*R1orbs[i]*(J0)**2)**3;\n",
    "    Centorbs.append(aux);\n",
    "\n",
    "CJF=list();\n",
    "for i in range(len(Centorbs)):\n",
    "    CJF.append(Centorbs[i].jordan_form(subdivide=False))\n",
    "for i in range(len(CJF)):\n",
    "    print('No',orbs[i],':',CJF[i])"
   ]
  },
  {
   "cell_type": "markdown",
   "metadata": {},
   "source": [
    "# 2. The degenerate configuration.\n",
    "\n",
    "The degenerate configuration is when one of the fixed point of $J$ belong to the fixed line of $R_1$. We can reduce this case by assuming tha the fixed  point of $J$ in question is $e_1.$\n",
    "\n",
    "On this configuration, $J$ correspond to a diagonal element of order three and $R_1$ preserve the same form as the non-degenerate configuration."
   ]
  },
  {
   "cell_type": "code",
   "execution_count": 1,
   "metadata": {},
   "outputs": [],
   "source": [
    "K.<w>=CyclotomicField(18)"
   ]
  },
  {
   "cell_type": "code",
   "execution_count": 4,
   "metadata": {},
   "outputs": [],
   "source": [
    "RR.<x,y,r2>=PolynomialRing(K,['x','y','r2'],order='lex')\n",
    "Jd=matrix(RR,3,3,[[1,0,0],[0,y,0],[0,0,y^2]])\n",
    "R1d=matrix(RR,3,3,[[1,-1,1],[0,1-r2,r2],[0,1-r2-x,r2+x]]);\n",
    "rel5=((R1d*Jd)**(4));\n",
    "R15=(R1d^5)\n",
    "rel6=((R1d*Jd*R1d*Jd*Jd*R1d*Jd*R15*Jd*Jd*R15*Jd*R15*Jd*Jd));\n",
    "\n",
    "eq0d=[(rel5[0,1]), (rel5[0,2]), (rel5[1,0]), (rel5[1,2]), (rel5[2,0]), (rel5[2,1]), (rel6[0,1]), (rel6[0,2]), (rel6[1,0]),(rel6[1,2]),(rel6[2,0]),(rel6[2,1])];\n",
    "eq1d=[(rel5[0,0]-rel5[1,1]),(rel5[1,1]-rel5[2,2]),(rel6[0,0]-rel6[1,1]),(rel6[1,1]-rel6[2,2])];\n",
    "\n",
    "\n",
    "Bd=list();\n",
    "Bd.append(y^2+y+1)\n",
    "for i in range(len(eq0d)):\n",
    "    if eq0d[i]==0:\n",
    "        continue\n",
    "    else:\n",
    "        Bd.append(eq0d[i]);\n",
    "for i in range(len(eq1d)):\n",
    "    if eq1d[i]==0:\n",
    "        continue\n",
    "    else:\n",
    "        Bd.append(eq1d[i]);"
   ]
  },
  {
   "cell_type": "code",
   "execution_count": 5,
   "metadata": {},
   "outputs": [
    {
     "name": "stdout",
     "output_type": "stream",
     "text": [
      "[1]\n"
     ]
    },
    {
     "data": {
      "text/plain": [
       "1"
      ]
     },
     "execution_count": 5,
     "metadata": {},
     "output_type": "execute_result"
    }
   ],
   "source": [
    "RR.<r2,x,y>=PolynomialRing(K,['r2','x','y'],order='lex');\n",
    "Jdegenerate=RR.ideal(Bd);\n",
    "Gdegenerate=Jdegenerate.groebner_basis()\n",
    "print(Gdegenerate)\n",
    "len(Gdegenerate)"
   ]
  },
  {
   "cell_type": "code",
   "execution_count": null,
   "metadata": {},
   "outputs": [],
   "source": []
  }
 ],
 "metadata": {
  "kernelspec": {
   "display_name": "Sage 9.3",
   "language": "sage",
   "name": "sagemath_9_3_all"
  },
  "language_info": {
   "codemirror_mode": {
    "name": "ipython",
    "version": 3
   },
   "file_extension": ".py",
   "mimetype": "text/x-python",
   "name": "python",
   "nbconvert_exporter": "python",
   "pygments_lexer": "ipython3",
   "version": "3.9.2"
  }
 },
 "nbformat": 4,
 "nbformat_minor": 4
}

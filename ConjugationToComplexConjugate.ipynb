{
 "cells": [
  {
   "cell_type": "code",
   "execution_count": 1,
   "metadata": {},
   "outputs": [
    {
     "data": {
      "text/plain": [
       "[a b c]\n",
       "[d e f]\n",
       "[d h j]"
      ]
     },
     "execution_count": 1,
     "metadata": {},
     "output_type": "execute_result"
    }
   ],
   "source": [
    "var('a','b','c','d','e','f','h','j')\n",
    "assume(e+f==h+j)\n",
    "X=matrix(SR,[[a,b,c],[d,e,f],[d,h,j]])\n",
    "X"
   ]
  },
  {
   "cell_type": "code",
   "execution_count": 2,
   "metadata": {},
   "outputs": [
    {
     "data": {
      "text/plain": [
       "[          1           0           0]\n",
       "[          0           0           1]\n",
       "[          0 -r2 - y + 1      r2 + y]"
      ]
     },
     "execution_count": 2,
     "metadata": {},
     "output_type": "execute_result"
    }
   ],
   "source": [
    "var('r1','r2','y')\n",
    "R1=matrix(SR,[[1,0,0],[0,0,1],[0,1-r2-y,r2+y]]);\n",
    "R1"
   ]
  },
  {
   "cell_type": "code",
   "execution_count": 7,
   "metadata": {},
   "outputs": [],
   "source": [
    "assume(b+c==0)\n",
    "assume(e+f==h+j)\n",
    "Rel=(X*R1*X.adjugate()).simplify()"
   ]
  },
  {
   "cell_type": "code",
   "execution_count": 9,
   "metadata": {},
   "outputs": [
    {
     "data": {
      "text/plain": [
       "(b*d + c*d - a*h - a*j)*(c*r2 + c*y + b - c)"
      ]
     },
     "execution_count": 9,
     "metadata": {},
     "output_type": "execute_result"
    }
   ],
   "source": [
    "Rel[0,1].factor()"
   ]
  },
  {
   "cell_type": "code",
   "execution_count": 10,
   "metadata": {},
   "outputs": [
    {
     "data": {
      "text/plain": [
       "-(b*d + c*d - a*e - a*f)*(c*r2 + c*y + b - c)"
      ]
     },
     "execution_count": 10,
     "metadata": {},
     "output_type": "execute_result"
    }
   ],
   "source": [
    "Rel[0,2].factor()"
   ]
  },
  {
   "cell_type": "code",
   "execution_count": 3,
   "metadata": {},
   "outputs": [
    {
     "name": "stdout",
     "output_type": "stream",
     "text": [
      "-1/2*(3*(I*sqrt(3) - 1)/z^(1/3) - I*sqrt(3) - 1)/(-1/2*I*sqrt(3) + 3/2)\n",
      "I*sqrt(3) + 1/2*(3*(I*sqrt(3) - 1)/z^(1/3) - I*sqrt(3) - 1)/(-1/2*I*sqrt(3) + 3/2) - 1\n"
     ]
    }
   ],
   "source": [
    "var('z')\n",
    "assume(z,'complex')\n",
    "a=((-3*exp(2*I*pi/3)*((z)^(-1/3))+exp(I*pi/3))/(1-exp(2*I*pi/3))); print(a)\n",
    "b=(-a-2*exp(-I*pi/3)); print(b)"
   ]
  },
  {
   "cell_type": "code",
   "execution_count": 4,
   "metadata": {},
   "outputs": [
    {
     "data": {
      "text/plain": [
       "[ 0.6427876096865393? - 0.7660444431189781?*I  0.3420201433256688? + 0.9396926207859084?*I -0.9848077530122081? - 0.1736481776669304?*I]\n",
       "[ 0.6427876096865393? + 0.7660444431189781?*I  0.3420201433256688? - 0.9396926207859084?*I -0.9848077530122081? + 0.1736481776669304?*I]\n",
       "[                                           1                                            1                                            1]"
      ]
     },
     "execution_count": 4,
     "metadata": {},
     "output_type": "execute_result"
    }
   ],
   "source": [
    "y=-exp(-I*pi/6)\n",
    "Sg=matrix(QQbar,3,3,[[(y)^(-1/3),((y)^(-1/3))*exp(2*I*pi/3),(y)^(-1/3)*exp(4*I*pi/3)],[(y)^(1/3),(y)^(1/3)*exp(4*I*pi/3),(y)^(1/3)*exp(2*I*pi/3)],[1,1,1]]);\n",
    "Sg"
   ]
  },
  {
   "cell_type": "code",
   "execution_count": 5,
   "metadata": {},
   "outputs": [
    {
     "data": {
      "text/plain": [
       "[0.3007674663608706? - 1.128386794715261?*I                                          0                                          0]\n",
       "[                                         0 -1.300767466360871? + 2.860437602284138?*I                                          0]\n",
       "[                                         0                                          0                                          1]"
      ]
     },
     "execution_count": 5,
     "metadata": {},
     "output_type": "execute_result"
    }
   ],
   "source": [
    "a34=a.substitute(z=y);\n",
    "b34=b.substitute(z=y);\n",
    "D=matrix(QQbar,3,3,[[QQbar(a34),0,0],[0,QQbar(b34),0],[0,0,1]])\n",
    "D"
   ]
  },
  {
   "cell_type": "code",
   "execution_count": 6,
   "metadata": {},
   "outputs": [
    {
     "data": {
      "text/plain": [
       "[ 0.1002558221202902? + 0.5685790213016288?*I -0.5111675476615489? - 0.8527164387383208?*I  -1.651474419678875? - 0.1736481776669304?*I]\n",
       "[  1.656538502008139? - 0.1157654517779536?*I -0.1002558221202902? + 0.5685790213016288?*I  0.6514744196788747? + 0.7509984468565561?*I]\n",
       "[ 0.7719865711162209? + 0.6264617471906056?*I  -1.596231122794047? - 0.4577855951036223?*I              0.?e-17 + 0.5773502691896258?*I]"
      ]
     },
     "execution_count": 6,
     "metadata": {},
     "output_type": "execute_result"
    }
   ],
   "source": [
    "S0=matrix(QQbar,3,3,[[exp(-I*pi/3),exp(I*pi/3),-1],[exp(I*pi/3), exp(-I*pi/3),-1],[1,1,1]]);\n",
    "S0\n",
    "X=S0*D*(Sg.inverse())\n",
    "X"
   ]
  },
  {
   "cell_type": "code",
   "execution_count": null,
   "metadata": {},
   "outputs": [],
   "source": []
  }
 ],
 "metadata": {
  "kernelspec": {
   "display_name": "SageMath 9.3.rc2",
   "language": "sage",
   "name": "sagemath"
  },
  "language_info": {
   "codemirror_mode": {
    "name": "ipython",
    "version": 3
   },
   "file_extension": ".py",
   "mimetype": "text/x-python",
   "name": "python",
   "nbconvert_exporter": "python",
   "pygments_lexer": "ipython3",
   "version": "3.9.2"
  }
 },
 "nbformat": 4,
 "nbformat_minor": 4
}

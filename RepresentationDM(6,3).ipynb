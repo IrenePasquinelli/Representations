{
 "cells": [
  {
   "cell_type": "markdown",
   "metadata": {},
   "source": [
    "# The non-compact Deligne-Mostow $(6,3)$\n",
    "\n",
    "We want to determine the representations of the compact Deligne-Mostow lattice $(6,3)$ using the configurations of fixed subsets for $J$ and $R_1.$"
   ]
  },
  {
   "cell_type": "markdown",
   "metadata": {},
   "source": [
    "## 1. The non-degenerate configuration.\n",
    "\n",
    "The non-degenerate configuration of fixed subsets for $J$ and $R_1$ where the fixed points of $J$ does not belong to the fixed line of $R_1$ and does not coindice with the fixed point $R_1.$"
   ]
  },
  {
   "cell_type": "markdown",
   "metadata": {},
   "source": [
    "We initialize the problem, the set of parameters belong to the field-extension $\\mathbb{Q}(x^6+x^3+1).$"
   ]
  },
  {
   "cell_type": "code",
   "execution_count": 1,
   "metadata": {},
   "outputs": [],
   "source": [
    "K.<w>=CyclotomicField(9)\n",
    "RR.<r1,r2,y>=PolynomialRing(K,3,['r1','r2','y'],order='deglex');\n",
    "\n",
    "J=matrix(K,3,3,[[0,0,1],[-1,0,0],[0,1,0]]);\n",
    "R1=matrix(RR,3,3,[[1,-r1,r1],[0,1-r2,r2],[0,1-r2-y,r2+y]]);\n"
   ]
  },
  {
   "cell_type": "markdown",
   "metadata": {},
   "source": [
    "The group relations for the Deligne-Mostow $(6,3)$ are:\n",
    "\n",
    "$(R_1 J)^6=Id$\n",
    "\n",
    "$R_1 J R_1 J^2 R_1 J R_1^5 J^2 R_1^5 J R_1^5 J^2=Id$\n",
    "\n",
    "that induces the system of equations $B.$"
   ]
  },
  {
   "cell_type": "code",
   "execution_count": 2,
   "metadata": {},
   "outputs": [],
   "source": [
    "rel5=((R1*J)**(6));\n",
    "R15=(R1^5)\n",
    "rel6=((R1*J*R1*J*J*R1*J*R15*J*J*R15*J*R15*J*J));\n",
    "\n",
    "eq0=[(rel5[0,1]), (rel5[0,2]), (rel5[1,0]), (rel5[1,2]), (rel5[2,0]), (rel5[2,1]), (rel6[0,1]), (rel6[0,2]), (rel6[1,0]),(rel6[1,2]),(rel6[2,0]),(rel6[2,1])];\n",
    "eq1=[(rel5[0,0]-rel5[1,1]),(rel5[1,1]-rel5[2,2]),(rel6[0,0]-rel6[1,1]),(rel6[1,1]-rel6[2,2])];\n",
    "\n",
    "B=list();\n",
    "for i in range(len(eq0)):\n",
    "    B.append(eq0[i]);\n",
    "for i in range(len(eq1)):\n",
    "    B.append(eq1[i]);"
   ]
  },
  {
   "cell_type": "markdown",
   "metadata": {},
   "source": [
    "#### Groebner Basis\n",
    "\n",
    "We use Groebner basis to solve the system of equations $B.$"
   ]
  },
  {
   "cell_type": "code",
   "execution_count": 3,
   "metadata": {
    "scrolled": true
   },
   "outputs": [],
   "source": [
    "RR.<r1,r2,y>=PolynomialRing(K,3,['r1','r2','y'],order='deglex');\n",
    "\n",
    "\n",
    "Jideal=RR.ideal(B);\n",
    "G=Jideal.groebner_basis()\n",
    "#print('Number of elements in the Basis',len(G))\n",
    "#print('The basis is:')\n",
    "#print(G)"
   ]
  },
  {
   "cell_type": "markdown",
   "metadata": {},
   "source": [
    "We start to reduce the variables on the system of equations. The first variable that we will reduce is $y$ where the set of values is small. \n",
    "\n",
    "Recall that $y\\neq 1.$"
   ]
  },
  {
   "cell_type": "code",
   "execution_count": 4,
   "metadata": {
    "scrolled": true
   },
   "outputs": [
    {
     "name": "stdout",
     "output_type": "stream",
     "text": [
      "[y^6 - 1]\n"
     ]
    }
   ],
   "source": [
    "yroots=list();\n",
    "yideal=Jideal.elimination_ideal([r2,r1]);\n",
    "ypol=yideal.gens();\n",
    "print(ypol)\n",
    "aux=(SR(ypol[0]).factor()).roots(ring=K)\n",
    "for i in range(len(aux)):\n",
    "    yroots.append(aux[i][0])\n",
    "#print('y in',yroots)\n",
    "#ynonconjugate=[yroots[1],yroots[3],yroots[2]]"
   ]
  },
  {
   "cell_type": "markdown",
   "metadata": {},
   "source": [
    "There 5 valid values for $y.$ Notice two pairs of these 5 values are complex conjugated.\n",
    "\n",
    "We will proceed by substitute each value of $y$ on the Groebner basis $G$ and find the values for each $r_j$ $(j=1,2).$"
   ]
  },
  {
   "cell_type": "markdown",
   "metadata": {},
   "source": [
    "#### Case 1: \n",
    "\n",
    "For the value of $y,$ we use Groebner basis on the system $G$ with the value of $y.$"
   ]
  },
  {
   "cell_type": "code",
   "execution_count": 5,
   "metadata": {},
   "outputs": [],
   "source": [
    "B1=list();\n",
    "for i in range(len(G)):\n",
    "    B1.append(G[i].substitute(y=yroots[1]))\n",
    "RR1.<r1,r2>=PolynomialRing(K,2,order='deglex')\n",
    "J1=RR1.ideal(B1)\n",
    "GB1=J1.groebner_basis()\n",
    "#print('Number of elements in the basis',len(GB1))\n",
    "#print('The basis is:')\n",
    "#print(GB1)"
   ]
  },
  {
   "cell_type": "markdown",
   "metadata": {},
   "source": [
    "The next polynomials define contains all possible values of $r_j.$"
   ]
  },
  {
   "cell_type": "code",
   "execution_count": 6,
   "metadata": {
    "scrolled": true
   },
   "outputs": [],
   "source": [
    "#r1Ideal=J1.elimination_ideal([r2]);\n",
    "#r1pol=r1Ideal.gens();\n",
    "#print('Polynomio defining r1:', r1pol[0].factor())\n",
    "\n",
    "\n",
    "r2Ideal=J1.elimination_ideal([r1]);\n",
    "r2pol=r2Ideal.gens();\n",
    "#print('Polynomio defining r2:', r2pol[0].factor())"
   ]
  },
  {
   "cell_type": "markdown",
   "metadata": {},
   "source": [
    "We collect all possible values of $r_2$ and substitute on the Groebner basis $GB_1.$"
   ]
  },
  {
   "cell_type": "code",
   "execution_count": 7,
   "metadata": {},
   "outputs": [],
   "source": [
    "r2roots=list();\n",
    "aux=SR(r2pol[0]).roots(ring=K)\n",
    "for i in range(len(aux)):\n",
    "    r2roots.append(aux[i][0])\n",
    "#r2roots\n",
    "#r2rootscc=[r2roots[0],r2roots[2],r2roots[3]]"
   ]
  },
  {
   "cell_type": "markdown",
   "metadata": {},
   "source": [
    "For each value of $r_2,$ we use Groebner basis and find the associated polynomial on $r_1$ associated to each $r_2.$"
   ]
  },
  {
   "cell_type": "code",
   "execution_count": 8,
   "metadata": {},
   "outputs": [],
   "source": [
    "Br1c1=list();\n",
    "Pol.<r1,r2>=PolynomialRing(K,['r1','r2'],order='lex')\n",
    "for i in range(len(r2roots)):\n",
    "    B2=list();\n",
    "    for j in range(len(GB1)):\n",
    "        aux=Pol(GB1[j]).substitute(r2=r2roots[i])\n",
    "        if aux==0:\n",
    "            continue\n",
    "        else:\n",
    "            B2.append(aux)\n",
    "    RR3.<r1>=PolynomialRing(K,['r1'],order='lex')\n",
    "    J3=RR3.ideal(B2)\n",
    "    G3=J3.groebner_basis(J3)\n",
    "    Br1c1.append(G3)\n",
    "    #print('r2 root No',i,':', Br1[i])"
   ]
  },
  {
   "cell_type": "code",
   "execution_count": 10,
   "metadata": {},
   "outputs": [],
   "source": [
    "Parameters=list();\n",
    "for i in range(len(r2roots)):\n",
    "    aux=Br1c1[i][0].roots(ring=K)\n",
    "    for j in range(len(aux)):\n",
    "        Parameters.append([yroots[1],aux[j][0],r2roots[i]])\n",
    "#for i in range(len(Parameters)):\n",
    "#    print('No ', i,':', Parameters[i])"
   ]
  },
  {
   "cell_type": "markdown",
   "metadata": {},
   "source": [
    "#### Case 2:\n",
    "\n",
    "We reproduce the same process for case 1, for the second value."
   ]
  },
  {
   "cell_type": "code",
   "execution_count": 11,
   "metadata": {},
   "outputs": [],
   "source": [
    "B2=list();\n",
    "for i in range(len(G)):\n",
    "    B2.append(G[i].substitute(y=yroots[2]))\n",
    "RR1.<r1,r2>=PolynomialRing(K,2,order='deglex')\n",
    "J2=RR1.ideal(B2)\n",
    "GB2=J2.groebner_basis()\n",
    "#print('Number of elements in the basis',len(GB2))\n",
    "#print('The basis is:')\n",
    "#print(GB2)"
   ]
  },
  {
   "cell_type": "code",
   "execution_count": 12,
   "metadata": {
    "scrolled": false
   },
   "outputs": [],
   "source": [
    "#r1Ideal2=J2.elimination_ideal([r2]);\n",
    "#r1pol2=r1Ideal2.gens();\n",
    "#print('Polynomio defining r1:', r1pol2[0].factor())\n",
    "\n",
    "\n",
    "r2Ideal2=J2.elimination_ideal([r1]);\n",
    "r2pol2=r2Ideal2.gens();\n",
    "#print('Polynomio defining r2:', r2pol2[0].factor())"
   ]
  },
  {
   "cell_type": "code",
   "execution_count": 13,
   "metadata": {},
   "outputs": [],
   "source": [
    "Poly.<r2>=PolynomialRing(K,'r2')\n",
    "r2roots2=list()\n",
    "aux=Poly(r2pol2[0]).roots(ring=K)\n",
    "for i in range(len(aux)):\n",
    "    r2roots2.append(aux[i][0])\n",
    "#r2roots2"
   ]
  },
  {
   "cell_type": "code",
   "execution_count": 14,
   "metadata": {},
   "outputs": [],
   "source": [
    "Br1c2=list();\n",
    "Pol.<r1,r2>=PolynomialRing(K,['r1','r2'],order='lex')\n",
    "for i in range(len(r2roots2)):\n",
    "    B2=list();\n",
    "    for j in range(len(GB2)):\n",
    "        aux=Pol(GB2[j]).substitute(r2=r2roots2[i])\n",
    "        if aux==0:\n",
    "            continue\n",
    "        else:\n",
    "            B2.append(aux)\n",
    "    RR3.<r1>=PolynomialRing(K,['r1'],order='lex')\n",
    "    J3=RR3.ideal(B2)\n",
    "    G3=J3.groebner_basis(J3)\n",
    "    Br1c2.append(G3)\n",
    "    #print('r2 root No',i,':', Br1c2[i])"
   ]
  },
  {
   "cell_type": "code",
   "execution_count": 15,
   "metadata": {},
   "outputs": [],
   "source": [
    "for i in range(len(r2roots2)):\n",
    "    aux=Br1c2[i][0].roots(ring=K)\n",
    "    for j in range(len(aux)):\n",
    "        Parameters.append([yroots[2],aux[j][0],r2roots2[i]])\n",
    "#for i in range(len(r2roots)):\n",
    "#    print('No ', i,':', Parameters2[i])"
   ]
  },
  {
   "cell_type": "markdown",
   "metadata": {},
   "source": [
    "#### Case 3:"
   ]
  },
  {
   "cell_type": "code",
   "execution_count": 16,
   "metadata": {},
   "outputs": [],
   "source": [
    "B3=list();\n",
    "for i in range(len(G)):\n",
    "    B3.append(G[i].substitute(y=yroots[3]))\n",
    "RR1.<r1,r2>=PolynomialRing(K,2,order='deglex')\n",
    "J3=RR1.ideal(B3)\n",
    "GB3=J3.groebner_basis()\n",
    "#print('Number of elements in the basis',len(GB3))\n",
    "#print('The basis is:')\n",
    "#print(GB3)"
   ]
  },
  {
   "cell_type": "code",
   "execution_count": 17,
   "metadata": {},
   "outputs": [],
   "source": [
    "#r1Ideal3=J3.elimination_ideal([r2]);\n",
    "#r1pol3=r1Ideal3.gens();\n",
    "#print('Polynomio defining r1:', r1pol3[0].factor())\n",
    "\n",
    "\n",
    "r2Ideal3=J3.elimination_ideal([r1]);\n",
    "r2pol3=r2Ideal3.gens();\n",
    "#print('Polynomio defining r2:', r2pol3[0].factor())"
   ]
  },
  {
   "cell_type": "code",
   "execution_count": 18,
   "metadata": {},
   "outputs": [],
   "source": [
    "Poly.<r2>=PolynomialRing(K,'r2')\n",
    "r2roots3=list()\n",
    "aux=Poly(r2pol3[0]).roots(ring=K)\n",
    "for i in range(len(aux)):\n",
    "    r2roots3.append(aux[i][0])\n",
    "#r2roots3"
   ]
  },
  {
   "cell_type": "code",
   "execution_count": 19,
   "metadata": {},
   "outputs": [],
   "source": [
    "Br1c3=list();\n",
    "Pol.<r1,r2>=PolynomialRing(K,['r1','r2'],order='lex')\n",
    "for i in range(len(r2roots3)):\n",
    "    B2=list();\n",
    "    for j in range(len(GB3)):\n",
    "        aux=Pol(GB3[j]).substitute(r2=r2roots3[i])\n",
    "        if aux==0:\n",
    "            continue\n",
    "        else:\n",
    "            B2.append(aux)\n",
    "    RR3.<r1>=PolynomialRing(K,['r1'],order='lex')\n",
    "    J3=RR3.ideal(B2)\n",
    "    G3=J3.groebner_basis(J3)\n",
    "    Br1c3.append(G3)\n",
    "    #print('r2 root No',i,':', Br1c3[i])"
   ]
  },
  {
   "cell_type": "code",
   "execution_count": 20,
   "metadata": {},
   "outputs": [],
   "source": [
    "for i in range(len(r2roots3)):\n",
    "    aux=Br1c3[i][0].roots(ring=K)\n",
    "    for j in range(len(aux)):\n",
    "        Parameters.append([yroots[3],aux[j][0],r2roots3[i]])"
   ]
  },
  {
   "cell_type": "markdown",
   "metadata": {},
   "source": [
    "#### Case 4:"
   ]
  },
  {
   "cell_type": "code",
   "execution_count": 21,
   "metadata": {},
   "outputs": [],
   "source": [
    "B4=list();\n",
    "for i in range(len(G)):\n",
    "    B4.append(G[i].substitute(y=yroots[4]))\n",
    "RR1.<r1,r2>=PolynomialRing(K,2,order='deglex')\n",
    "J4=RR1.ideal(B4)\n",
    "GB4=J4.groebner_basis()\n",
    "#print('Number of elements in the basis',len(GB4))\n",
    "#print('The basis is:')\n",
    "#print(GB4)"
   ]
  },
  {
   "cell_type": "code",
   "execution_count": 22,
   "metadata": {},
   "outputs": [],
   "source": [
    "r2Ideal4=J4.elimination_ideal([r1]);\n",
    "r2pol4=r2Ideal4.gens();\n",
    "#print('Polynomio defining r2:', r2pol4[0].factor())\n",
    "\n",
    "Poly.<r2>=PolynomialRing(K,'r2')\n",
    "r2roots4=list()\n",
    "aux=Poly(r2pol4[0]).roots(ring=K)\n",
    "for i in range(len(aux)):\n",
    "    r2roots4.append(aux[i][0])\n",
    "\n",
    "Br1c4=list();\n",
    "Pol.<r1,r2>=PolynomialRing(K,['r1','r2'],order='lex')\n",
    "for i in range(len(r2roots4)):\n",
    "    B2=list();\n",
    "    for j in range(len(GB4)):\n",
    "        aux=Pol(GB4[j]).substitute(r2=r2roots4[i])\n",
    "        if aux==0:\n",
    "            continue\n",
    "        else:\n",
    "            B2.append(aux)\n",
    "    RR3.<r1>=PolynomialRing(K,['r1'],order='lex')\n",
    "    J3=RR3.ideal(B2)\n",
    "    G3=J3.groebner_basis(J3)\n",
    "    Br1c4.append(G3)\n",
    "    #print('r2 root No',i,':', Br1c4[i])"
   ]
  },
  {
   "cell_type": "code",
   "execution_count": 23,
   "metadata": {},
   "outputs": [],
   "source": [
    "for i in range(len(r2roots4)):\n",
    "    aux=Br1c4[i][0].roots(ring=K)\n",
    "    for j in range(len(aux)):\n",
    "        Parameters.append([yroots[4],aux[j][0],r2roots4[i]])"
   ]
  },
  {
   "cell_type": "markdown",
   "metadata": {},
   "source": [
    "#### Case 5:"
   ]
  },
  {
   "cell_type": "code",
   "execution_count": 24,
   "metadata": {},
   "outputs": [],
   "source": [
    "B5=list();\n",
    "for i in range(len(G)):\n",
    "    B5.append(G[i].substitute(y=yroots[5]))\n",
    "RR1.<r1,r2>=PolynomialRing(K,2,order='deglex')\n",
    "J5=RR1.ideal(B5)\n",
    "GB5=J5.groebner_basis()\n",
    "#print('Number of elements in the basis',len(GB5))\n",
    "#print('The basis is:')\n",
    "#print(GB5)"
   ]
  },
  {
   "cell_type": "code",
   "execution_count": 25,
   "metadata": {},
   "outputs": [],
   "source": [
    "r2Ideal5=J5.elimination_ideal([r1]);\n",
    "r2pol5=r2Ideal5.gens();\n",
    "#print('Polynomio defining r2:', r2pol5[0].factor())\n",
    "\n",
    "Poly.<r2>=PolynomialRing(K,'r2')\n",
    "r2roots5=list()\n",
    "aux=Poly(r2pol5[0]).roots(ring=K)\n",
    "for i in range(len(aux)):\n",
    "    r2roots5.append(aux[i][0])\n",
    "\n",
    "Br1c5=list();\n",
    "Pol.<r1,r2>=PolynomialRing(K,['r1','r2'],order='lex')\n",
    "for i in range(len(r2roots5)):\n",
    "    B2=list();\n",
    "    for j in range(len(GB5)):\n",
    "        aux=Pol(GB5[j]).substitute(r2=r2roots5[i])\n",
    "        if aux==0:\n",
    "            continue\n",
    "        else:\n",
    "            B2.append(aux)\n",
    "    RR3.<r1>=PolynomialRing(K,['r1'],order='lex')\n",
    "    J3=RR3.ideal(B2)\n",
    "    G3=J3.groebner_basis(J3)\n",
    "    Br1c5.append(G3)\n",
    "    #print('r2 root No',i,':', Br1c5[i])"
   ]
  },
  {
   "cell_type": "code",
   "execution_count": 27,
   "metadata": {},
   "outputs": [],
   "source": [
    "for i in range(len(r2roots5)):\n",
    "    aux=Br1c5[i][0].roots(ring=K)\n",
    "    for j in range(len(aux)):\n",
    "        Parameters.append([yroots[5],aux[j][0],r2roots5[i]])"
   ]
  },
  {
   "cell_type": "markdown",
   "metadata": {},
   "source": [
    "#### All possible values $(y,r_1,r_2):$"
   ]
  },
  {
   "cell_type": "code",
   "execution_count": 28,
   "metadata": {
    "scrolled": true
   },
   "outputs": [
    {
     "name": "stdout",
     "output_type": "stream",
     "text": [
      "No 0 : [-1, 1/2*w^4 - 1/2*w^2 + 1/2*w - 1, 1/2*w^4 + 1/2*w^2 + 1/2*w + 1]\n",
      "No 1 : [-1, 1/2*w^4 - 1/2*w^2 + 1/2*w - 1, -1/2*w^4 - 1/2*w^2 - 1/2*w + 1]\n",
      "No 2 : [-1, 1/2*w^5 + 1/2*w^2 - 1/2*w - 1, 1/2*w^5 + 1/2*w^2 + 1/2*w + 1]\n",
      "No 3 : [-1, -1/2*w^5 - 1/2*w^4 - 1, 1/2*w^5 - 1/2*w^4 + 1]\n",
      "No 4 : [-1, -1/2*w^5 - 1/2*w^4 - 1, -1/2*w^5 + 1/2*w^4 + 1]\n",
      "No 5 : [-1, 1/2*w^5 + 1/2*w^2 - 1/2*w - 1, -1/2*w^5 - 1/2*w^2 - 1/2*w + 1]\n",
      "No 6 : [w^3 + 1, w^3, 1]\n",
      "No 7 : [w^3 + 1, -1/2*w^3, -1/2*w^3]\n",
      "No 8 : [w^3 + 1, w^3, -w^3 - 1]\n",
      "No 9 : [w^3 + 1, -1/2*w^4 + 1/2*w^3 - 1/2*w^2, -1/2*w^4 - 1/2*w^3 + 1/2*w^2]\n",
      "No 10 : [w^3 + 1, -1/2*w^5 + 1/2*w^3 - 1/2*w, 1/2*w^5 - 1/2*w^3 - 1/2*w]\n",
      "No 11 : [w^3 + 1, 1/2*w^5 + 1/2*w^4 + 1/2*w^3 + 1/2*w^2 + 1/2*w, -1/2*w^5 + 1/2*w^4 - 1/2*w^3 - 1/2*w^2 + 1/2*w]\n",
      "No 12 : [w^3, 0, 1]\n",
      "No 13 : [w^3, w^3 - 1, 1]\n",
      "No 14 : [w^3, 1/2*w^3 + 1/2*w^2 - 1/2*w - 1/2, -1/2*w^3 + 1/2*w^2 + 1/2*w + 1/2]\n",
      "No 15 : [w^3, 1/2*w^3 - 1/2, -3/2*w^3 - 1/2]\n",
      "No 16 : [w^3, 1/2*w^5 + 1/2*w^4 + 1/2*w^3 + 1/2*w - 1/2, 1/2*w^5 - 1/2*w^4 - 1/2*w^3 - 1/2*w + 1/2]\n",
      "No 17 : [w^3, -1/2*w^5 - 1/2*w^4 + 1/2*w^3 - 1/2*w^2 - 1/2, -1/2*w^5 + 1/2*w^4 - 1/2*w^3 - 1/2*w^2 + 1/2]\n",
      "No 18 : [-w^3, -w^3 - 1, 1]\n",
      "No 19 : [-w^3, -w^3 - 1, w^3]\n",
      "No 20 : [-w^3, 1/2*w^3 + 1/2, 1/2*w^3 + 1/2]\n",
      "No 21 : [-w^3, -1/2*w^3 - 1/2*w^2 - 1/2*w - 1/2, 1/2*w^3 - 1/2*w^2 + 1/2*w + 1/2]\n",
      "No 22 : [-w^3, 1/2*w^5 - 1/2*w^4 - 1/2*w^3 + 1/2*w^2 - 1/2, 1/2*w^5 + 1/2*w^4 + 1/2*w^3 + 1/2*w^2 + 1/2]\n",
      "No 23 : [-w^3, -1/2*w^5 + 1/2*w^4 - 1/2*w^3 + 1/2*w - 1/2, -1/2*w^5 - 1/2*w^4 + 1/2*w^3 - 1/2*w + 1/2]\n",
      "No 24 : [-w^3 - 1, 0, 1]\n",
      "No 25 : [-w^3 - 1, -w^3 - 2, 1]\n",
      "No 26 : [-w^3 - 1, -1/2*w^3 - 1, 3/2*w^3 + 1]\n",
      "No 27 : [-w^3 - 1, 1/2*w^4 - 1/2*w^3 - 1/2*w^2 - 1, 1/2*w^4 + 1/2*w^3 + 1/2*w^2 + 1]\n",
      "No 28 : [-w^3 - 1, -1/2*w^5 - 1/2*w^3 + 1/2*w - 1, 1/2*w^5 + 1/2*w^3 + 1/2*w + 1]\n",
      "No 29 : [-w^3 - 1, 1/2*w^5 - 1/2*w^4 - 1/2*w^3 + 1/2*w^2 - 1/2*w - 1, -1/2*w^5 - 1/2*w^4 + 1/2*w^3 - 1/2*w^2 - 1/2*w + 1]\n"
     ]
    }
   ],
   "source": [
    "for i in range(len(Parameters)):\n",
    "    print('No',i,':',Parameters[i])"
   ]
  },
  {
   "cell_type": "markdown",
   "metadata": {},
   "source": [
    "## 1.1 Galois Conjugation\n",
    "\n",
    "The Galois group action on $\\mathbb{Q}(x^6+x^3+1)$ induces one in the set of parameters. Such action induces a partition by orbits on the set of parameters."
   ]
  },
  {
   "cell_type": "code",
   "execution_count": 29,
   "metadata": {},
   "outputs": [
    {
     "data": {
      "text/plain": [
       "Galois group 6T1 (3[x]2) with order 6 of x^6 + x^3 + 1"
      ]
     },
     "execution_count": 29,
     "metadata": {},
     "output_type": "execute_result"
    }
   ],
   "source": [
    "Gal=K.galois_group()\n",
    "Gal"
   ]
  },
  {
   "cell_type": "markdown",
   "metadata": {
    "scrolled": true
   },
   "source": [
    "We compute the orbits."
   ]
  },
  {
   "cell_type": "code",
   "execution_count": 43,
   "metadata": {},
   "outputs": [
    {
     "name": "stdout",
     "output_type": "stream",
     "text": [
      "[0, 1, 2, 3, 4, 5]\n"
     ]
    }
   ],
   "source": [
    "ob1=[]\n",
    "x=[0..29]\n",
    "j=0;\n",
    "k=0;\n",
    "while j<(len(Parameters)):\n",
    "    while k<len(Gal):\n",
    "        aux0=(Gal[k])(Parameters[j][0])\n",
    "        aux1=(Gal[k])(Parameters[j][1])\n",
    "        aux2=(Gal[k])(Parameters[j][2])\n",
    "        if aux0-Gal[0](Parameters[0][0])==0 and aux1-Gal[0](Parameters[0][1])==0 and aux2-Gal[0](Parameters[0][2])==0:\n",
    "            ob1.append(j)\n",
    "            k=len(Gal)\n",
    "            \n",
    "        else:\n",
    "            k=k+1\n",
    "    k=0;\n",
    "    j=j+1;\n",
    "print(ob1)"
   ]
  },
  {
   "cell_type": "code",
   "execution_count": 31,
   "metadata": {},
   "outputs": [
    {
     "name": "stdout",
     "output_type": "stream",
     "text": [
      "[6, 18]\n"
     ]
    }
   ],
   "source": [
    "ob2=[]\n",
    "x=[0..29]\n",
    "j=0;\n",
    "k=0;\n",
    "while j<(len(Parameters)):\n",
    "    while k<len(Gal)-1:\n",
    "        aux0=(Gal[k+1])(Parameters[j][0])\n",
    "        aux1=(Gal[k+1])(Parameters[j][1])\n",
    "        aux2=(Gal[k+1])(Parameters[j][2])\n",
    "        if aux0-Gal[0](Parameters[6][0])==0 and aux1-Gal[0](Parameters[6][1])==0 and aux2-Gal[0](Parameters[6][2])==0:\n",
    "            ob2.append(j)\n",
    "            k=len(Gal)\n",
    "            \n",
    "        else:\n",
    "            k=k+1\n",
    "    k=0;\n",
    "    j=j+1;\n",
    "print(ob2)"
   ]
  },
  {
   "cell_type": "code",
   "execution_count": 32,
   "metadata": {},
   "outputs": [
    {
     "name": "stdout",
     "output_type": "stream",
     "text": [
      "[7, 20]\n"
     ]
    }
   ],
   "source": [
    "ob3=[]\n",
    "x=[0..29]\n",
    "j=0;\n",
    "k=0;\n",
    "while j<(len(Parameters)):\n",
    "    while k<len(Gal)-1:\n",
    "        aux0=(Gal[k+1])(Parameters[j][0])\n",
    "        aux1=(Gal[k+1])(Parameters[j][1])\n",
    "        aux2=(Gal[k+1])(Parameters[j][2])\n",
    "        if aux0-Gal[0](Parameters[7][0])==0 and aux1-Gal[0](Parameters[7][1])==0 and aux2-Gal[0](Parameters[7][2])==0:\n",
    "            ob3.append(j)\n",
    "            k=len(Gal)\n",
    "            \n",
    "        else:\n",
    "            k=k+1\n",
    "    k=0;\n",
    "    j=j+1;\n",
    "print(ob3)"
   ]
  },
  {
   "cell_type": "code",
   "execution_count": 33,
   "metadata": {},
   "outputs": [
    {
     "name": "stdout",
     "output_type": "stream",
     "text": [
      "[8, 19]\n"
     ]
    }
   ],
   "source": [
    "ob4=[]\n",
    "x=[0..29]\n",
    "j=0;\n",
    "k=0;\n",
    "while j<(len(Parameters)):\n",
    "    while k<len(Gal)-1:\n",
    "        aux0=(Gal[k+1])(Parameters[j][0])\n",
    "        aux1=(Gal[k+1])(Parameters[j][1])\n",
    "        aux2=(Gal[k+1])(Parameters[j][2])\n",
    "        if aux0-Gal[0](Parameters[8][0])==0 and aux1-Gal[0](Parameters[8][1])==0 and aux2-Gal[0](Parameters[8][2])==0:\n",
    "            ob4.append(j)\n",
    "            k=len(Gal)\n",
    "            \n",
    "        else:\n",
    "            k=k+1\n",
    "    k=0;\n",
    "    j=j+1;\n",
    "print(ob4)"
   ]
  },
  {
   "cell_type": "code",
   "execution_count": 35,
   "metadata": {},
   "outputs": [
    {
     "name": "stdout",
     "output_type": "stream",
     "text": [
      "[9, 10, 11, 21, 22, 23]\n"
     ]
    }
   ],
   "source": [
    "ob5=[]\n",
    "x=[0..29]\n",
    "j=0;\n",
    "k=0;\n",
    "while j<(len(Parameters)):\n",
    "    while k<len(Gal):\n",
    "        aux0=(Gal[k])(Parameters[j][0])\n",
    "        aux1=(Gal[k])(Parameters[j][1])\n",
    "        aux2=(Gal[k])(Parameters[j][2])\n",
    "        if aux0-Gal[0](Parameters[9][0])==0 and aux1-Gal[0](Parameters[9][1])==0 and aux2-Gal[0](Parameters[9][2])==0:\n",
    "            ob5.append(j)\n",
    "            k=len(Gal)\n",
    "            \n",
    "        else:\n",
    "            k=k+1\n",
    "    k=0;\n",
    "    j=j+1;\n",
    "print(ob5)"
   ]
  },
  {
   "cell_type": "code",
   "execution_count": 36,
   "metadata": {},
   "outputs": [
    {
     "name": "stdout",
     "output_type": "stream",
     "text": [
      "[12, 24]\n"
     ]
    }
   ],
   "source": [
    "ob6=[]\n",
    "x=[0..29]\n",
    "j=0;\n",
    "k=0;\n",
    "while j<(len(Parameters)):\n",
    "    while k<len(Gal):\n",
    "        aux0=(Gal[k])(Parameters[j][0])\n",
    "        aux1=(Gal[k])(Parameters[j][1])\n",
    "        aux2=(Gal[k])(Parameters[j][2])\n",
    "        if aux0-Gal[0](Parameters[12][0])==0 and aux1-Gal[0](Parameters[12][1])==0 and aux2-Gal[0](Parameters[12][2])==0:\n",
    "            ob6.append(j)\n",
    "            k=len(Gal)\n",
    "            \n",
    "        else:\n",
    "            k=k+1\n",
    "    k=0;\n",
    "    j=j+1;\n",
    "print(ob6)"
   ]
  },
  {
   "cell_type": "code",
   "execution_count": 37,
   "metadata": {},
   "outputs": [
    {
     "name": "stdout",
     "output_type": "stream",
     "text": [
      "[13, 25]\n"
     ]
    }
   ],
   "source": [
    "ob7=[]\n",
    "x=[0..29]\n",
    "j=0;\n",
    "k=0;\n",
    "while j<(len(Parameters)):\n",
    "    while k<len(Gal):\n",
    "        aux0=(Gal[k])(Parameters[j][0])\n",
    "        aux1=(Gal[k])(Parameters[j][1])\n",
    "        aux2=(Gal[k])(Parameters[j][2])\n",
    "        if aux0-Gal[0](Parameters[13][0])==0 and aux1-Gal[0](Parameters[13][1])==0 and aux2-Gal[0](Parameters[13][2])==0:\n",
    "            ob7.append(j)\n",
    "            k=len(Gal)\n",
    "            \n",
    "        else:\n",
    "            k=k+1\n",
    "    k=0;\n",
    "    j=j+1;\n",
    "print(ob7)"
   ]
  },
  {
   "cell_type": "code",
   "execution_count": 38,
   "metadata": {},
   "outputs": [
    {
     "name": "stdout",
     "output_type": "stream",
     "text": [
      "[14, 16, 17, 27, 28, 29]\n"
     ]
    }
   ],
   "source": [
    "ob8=[]\n",
    "x=[0..29]\n",
    "j=0;\n",
    "k=0;\n",
    "while j<(len(Parameters)):\n",
    "    while k<len(Gal):\n",
    "        aux0=(Gal[k])(Parameters[j][0])\n",
    "        aux1=(Gal[k])(Parameters[j][1])\n",
    "        aux2=(Gal[k])(Parameters[j][2])\n",
    "        if aux0-Gal[0](Parameters[14][0])==0 and aux1-Gal[0](Parameters[14][1])==0 and aux2-Gal[0](Parameters[14][2])==0:\n",
    "            ob8.append(j)\n",
    "            k=len(Gal)\n",
    "            \n",
    "        else:\n",
    "            k=k+1\n",
    "    k=0;\n",
    "    j=j+1;\n",
    "print(ob8)"
   ]
  },
  {
   "cell_type": "code",
   "execution_count": 40,
   "metadata": {},
   "outputs": [
    {
     "name": "stdout",
     "output_type": "stream",
     "text": [
      "[15, 26]\n"
     ]
    }
   ],
   "source": [
    "ob9=[]\n",
    "x=[0..29]\n",
    "j=0;\n",
    "k=0;\n",
    "while j<(len(Parameters)):\n",
    "    while k<len(Gal):\n",
    "        aux0=(Gal[k])(Parameters[j][0])\n",
    "        aux1=(Gal[k])(Parameters[j][1])\n",
    "        aux2=(Gal[k])(Parameters[j][2])\n",
    "        if aux0-Gal[0](Parameters[15][0])==0 and aux1-Gal[0](Parameters[15][1])==0 and aux2-Gal[0](Parameters[15][2])==0:\n",
    "            ob9.append(j)\n",
    "            k=len(Gal)\n",
    "            \n",
    "        else:\n",
    "            k=k+1\n",
    "    k=0;\n",
    "    j=j+1;\n",
    "print(ob9)"
   ]
  },
  {
   "cell_type": "markdown",
   "metadata": {},
   "source": [
    "The eigth orbits are disjoint and they contains all elements of $(y,r_1,r_2).$"
   ]
  },
  {
   "cell_type": "code",
   "execution_count": 44,
   "metadata": {},
   "outputs": [
    {
     "data": {
      "text/plain": [
       "True"
      ]
     },
     "execution_count": 44,
     "metadata": {},
     "output_type": "execute_result"
    }
   ],
   "source": [
    "len(ob1)+len(ob2)+len(ob3)+len(ob4)+len(ob5)+len(ob6)+len(ob7)+len(ob8)+len(ob9)==len(Parameters)"
   ]
  },
  {
   "cell_type": "markdown",
   "metadata": {},
   "source": [
    "Remark: We will combine orbits 2,3,4,6,7,9 in a unique list to work better."
   ]
  },
  {
   "cell_type": "code",
   "execution_count": 45,
   "metadata": {},
   "outputs": [],
   "source": [
    "orbs=[6,18,7,20,8,19,12,24,13,25,15,26]"
   ]
  },
  {
   "cell_type": "markdown",
   "metadata": {},
   "source": [
    "## 1.2 The Hermitian Form\n",
    "\n",
    "As these set of parameters provide a representation of the Deligne-Mostow $(6,3)$ in $PGL(3,\\mathbb{C})$, we should have a representation whose image group is conjugated to a $PU(2,1)$ subgroup. To determine this representation we need to determine the Hermitian form that preserve the group image and compute its signature. \n",
    "\n",
    "From the initial data of our representation, an Hermitian form H that that satisfy the equation $(J^*)HJ=H$ is for the form:\n",
    "\n",
    "$H=\\begin{bmatrix}\n",
    "a&-\\overline{c}&c\\\\-c& a&\\overline{c}\\\\ \\overline{c}&c&a\n",
    "\\end{bmatrix}$\n",
    "\n",
    "So, in order to compute the values of $a$ and $c,$ we need to solve the equation ${R_1}^* H R_1=H$ for all possible parameters $(y,r1,r2).$"
   ]
  },
  {
   "cell_type": "code",
   "execution_count": 46,
   "metadata": {},
   "outputs": [],
   "source": [
    "R1o1=list();\n",
    "R1o5=list();\n",
    "R1o8=list();\n",
    "R1orbs=list();\n",
    "for i in range(len(ob1)):\n",
    "    aux=matrix(K,3,3,[[1,-Parameters[ob1[i]][1],Parameters[ob1[i]][1]],[0,1-Parameters[ob1[i]][2],Parameters[ob1[i]][2]],[0,1-Parameters[ob1[i]][2]-Parameters[ob1[i]][0],Parameters[ob1[i]][2]+Parameters[ob1[i]][0]]])\n",
    "    R1o1.append(aux)\n",
    "for i in range(len(ob5)):\n",
    "    aux=matrix(K,3,3,[[1,-Parameters[ob5[i]][1],Parameters[ob5[i]][1]],[0,1-Parameters[ob5[i]][2],Parameters[ob5[i]][2]],[0,1-Parameters[ob5[i]][2]-Parameters[ob5[i]][0],Parameters[ob5[i]][2]+Parameters[ob5[i]][0]]])\n",
    "    R1o5.append(aux)\n",
    "for i in range(len(ob8)):\n",
    "    aux=matrix(K,3,3,[[1,-Parameters[ob8[i]][1],Parameters[ob8[i]][1]],[0,1-Parameters[ob8[i]][2],Parameters[ob8[i]][2]],[0,1-Parameters[ob8[i]][2]-Parameters[ob8[i]][0],Parameters[ob8[i]][2]+Parameters[ob8[i]][0]]])\n",
    "    R1o8.append(aux)\n",
    "for i in range(len(orbs)):\n",
    "    aux=matrix(K,3,3,[[1,-Parameters[orbs[i]][1],Parameters[orbs[i]][1]],[0,1-Parameters[orbs[i]][2],Parameters[orbs[i]][2]],[0,1-Parameters[orbs[i]][2]-Parameters[orbs[i]][0],Parameters[orbs[i]][2]+Parameters[orbs[i]][0]]])\n",
    "    R1orbs.append(aux)"
   ]
  },
  {
   "cell_type": "code",
   "execution_count": 47,
   "metadata": {},
   "outputs": [
    {
     "data": {
      "text/plain": [
       "Ring morphism:\n",
       "  From: Cyclotomic Field of order 9 and degree 6\n",
       "  To:   Algebraic Field\n",
       "  Defn: w |--> 0.7660444431189781? + 0.6427876096865393?*I"
      ]
     },
     "execution_count": 47,
     "metadata": {},
     "output_type": "execute_result"
    }
   ],
   "source": [
    "KEd=K.embeddings(QQbar)\n",
    "KEd[0]"
   ]
  },
  {
   "cell_type": "code",
   "execution_count": 26,
   "metadata": {},
   "outputs": [
    {
     "data": {
      "text/plain": [
       "[1, w, w^2, w^3, w^4, w^5]"
      ]
     },
     "execution_count": 26,
     "metadata": {},
     "output_type": "execute_result"
    }
   ],
   "source": [
    "K.integral_basis()"
   ]
  },
  {
   "cell_type": "markdown",
   "metadata": {},
   "source": [
    "Initialize the values of $c$ an $\\overline{c}$ as polynomials with coefficients on $\\mathbb{Q}(x^6+x^3+1)[\\cdot].$\n",
    "\n",
    "Without loose of generality, we can assume that $c=a+\\sum_{j=0}^{5} b_j w^j,$ where $\\{w^j\\}_{j=0}^5$ is the correspondent integral basis of $\\mathbb{Q}(x^6+x^3+1).$"
   ]
  },
  {
   "cell_type": "code",
   "execution_count": 48,
   "metadata": {},
   "outputs": [
    {
     "name": "stdout",
     "output_type": "stream",
     "text": [
      "[                                                                         a -b0 + (w^5 + w^2)*b1 + (w^4 + w)*b2 + (w^3 + 1)*b3 + (-w^5)*b4 + (-w^4)*b5                    b0 + (w)*b1 + (w^2)*b2 + (w^3)*b3 + (w^4)*b4 + (w^5)*b5]\n",
      "[             -b0 + (-w)*b1 + (-w^2)*b2 + (-w^3)*b3 + (-w^4)*b4 + (-w^5)*b5                                                                          a b0 + (-w^5 - w^2)*b1 + (-w^4 - w)*b2 + (-w^3 - 1)*b3 + (w^5)*b4 + (w^4)*b5]\n",
      "[b0 + (-w^5 - w^2)*b1 + (-w^4 - w)*b2 + (-w^3 - 1)*b3 + (w^5)*b4 + (w^4)*b5                    b0 + (w)*b1 + (w^2)*b2 + (w^3)*b3 + (w^4)*b4 + (w^5)*b5                                                                          a]\n"
     ]
    }
   ],
   "source": [
    "Pol.<a,b0,b1,b2,b3,b4,b5>=PolynomialRing(K,['a','b0','b1','b2','b3','b4','b5'],order='lex')\n",
    "c=b0+w*b1+(w^2)*b2+(w^3)*b3+(w^4)*b4+(w^5)*b5;\n",
    "cconj=b0+conjugate(w)*b1+conjugate(w^2)*b2+conjugate(w^3)*b3+conjugate(w^4)*b4+conjugate(w^5)*b5;\n",
    "H=matrix(Pol,3,3,[[a,-cconj,c],[-c,a,cconj],[cconj,c,a]]); print(H)"
   ]
  },
  {
   "cell_type": "markdown",
   "metadata": {},
   "source": [
    "For each orbit we compute the system of equations, and use Groebner basis for each element on the orbit."
   ]
  },
  {
   "cell_type": "code",
   "execution_count": 49,
   "metadata": {},
   "outputs": [
    {
     "data": {
      "text/plain": [
       "[[a + (-3*w^5 + 2*w^4 - 5*w^2 + 5*w - 2)*b1 + (4*w^5 - 3*w^4 + 7*w^2 - 7*w + 8)*b2 + (-8*w^5 + 2*w^4 - 10*w^2 + 10*w - 9)*b3 + (7*w^5 - 5*w^4 + 12*w^2 - 12*w + 10)*b4 + (-7*w^5 + 5*w^4 - 12*w^2 + 12*w - 10)*b5, b0 + (2*w^5 - w^4 + 3*w^2 - 3*w + 3)*b1 + (-4*w^5 + 2*w^4 - 6*w^2 + 6*w - 6)*b2 + (6*w^5 - 3*w^4 + 9*w^2 - 9*w + 7)*b3 + (-6*w^5 + 4*w^4 - 10*w^2 + 10*w - 9)*b4 + (7*w^5 - 3*w^4 + 10*w^2 - 10*w + 9)*b5],\n",
       " [a + (3*w^5 - 2*w^4 + 5*w^2 - 5*w + 2)*b1 + (-4*w^5 + 3*w^4 - 7*w^2 + 7*w - 8)*b2 + (8*w^5 - 2*w^4 + 10*w^2 - 10*w + 9)*b3 + (-7*w^5 + 5*w^4 - 12*w^2 + 12*w - 10)*b4 + (7*w^5 - 5*w^4 + 12*w^2 - 12*w + 10)*b5, b0 + (-3*w^5 + w^4 - 4*w^2 + 4*w - 3)*b1 + (4*w^5 - 3*w^4 + 7*w^2 - 7*w + 6)*b2 + (-6*w^5 + 3*w^4 - 9*w^2 + 9*w - 8)*b3 + (7*w^5 - 3*w^4 + 10*w^2 - 10*w + 9)*b4 + (-6*w^5 + 4*w^4 - 10*w^2 + 10*w - 9)*b5],\n",
       " [a + (-7*w^5 - 4*w^4 - 3*w^2 + 3*w + 8)*b1 + (-12*w^5 - 7*w^4 - 5*w^2 + 5*w + 10)*b2 + (-10*w^5 - 8*w^4 - 2*w^2 + 2*w + 9)*b3 + (-5*w^5 - 3*w^4 - 2*w^2 + 2*w + 2)*b4 + (5*w^5 + 3*w^4 + 2*w^2 - 2*w - 2)*b5, b0 + (6*w^5 + 4*w^4 + 2*w^2 - 2*w - 6)*b1 + (10*w^5 + 6*w^4 + 4*w^2 - 4*w - 9)*b2 + (9*w^5 + 6*w^4 + 3*w^2 - 3*w - 8)*b3 + (4*w^5 + 3*w^4 + w^2 - w - 3)*b4 + (-3*w^5 - 2*w^4 - w^2 + w + 3)*b5],\n",
       " [a + (5*w^5 + 12*w^4 - 7*w^2 + 7*w + 10)*b1 + (2*w^5 + 5*w^4 - 3*w^2 + 3*w + 2)*b2 + (-2*w^5 - 10*w^4 + 8*w^2 - 8*w - 9)*b3 + (-3*w^5 - 7*w^4 + 4*w^2 - 4*w - 8)*b4 + (3*w^5 + 7*w^4 - 4*w^2 + 4*w + 8)*b5, b0 + (-4*w^5 - 10*w^4 + 6*w^2 - 6*w - 9)*b1 + (-w^5 - 4*w^4 + 3*w^2 - 3*w - 3)*b2 + (3*w^5 + 9*w^4 - 6*w^2 + 6*w + 7)*b3 + (3*w^5 + 7*w^4 - 4*w^2 + 4*w + 6)*b4 + (-2*w^5 - 6*w^4 + 4*w^2 - 4*w - 6)*b5],\n",
       " [a + (-5*w^5 - 12*w^4 + 7*w^2 - 7*w - 10)*b1 + (-2*w^5 - 5*w^4 + 3*w^2 - 3*w - 2)*b2 + (2*w^5 + 10*w^4 - 8*w^2 + 8*w + 9)*b3 + (3*w^5 + 7*w^4 - 4*w^2 + 4*w + 8)*b4 + (-3*w^5 - 7*w^4 + 4*w^2 - 4*w - 8)*b5, b0 + (3*w^5 + 10*w^4 - 7*w^2 + 7*w + 9)*b1 + (w^5 + 3*w^4 - 2*w^2 + 2*w + 3)*b2 + (-3*w^5 - 9*w^4 + 6*w^2 - 6*w - 8)*b3 + (-2*w^5 - 6*w^4 + 4*w^2 - 4*w - 6)*b4 + (3*w^5 + 7*w^4 - 4*w^2 + 4*w + 6)*b5],\n",
       " [a + (7*w^5 + 4*w^4 + 3*w^2 - 3*w - 8)*b1 + (12*w^5 + 7*w^4 + 5*w^2 - 5*w - 10)*b2 + (10*w^5 + 8*w^4 + 2*w^2 - 2*w - 9)*b3 + (5*w^5 + 3*w^4 + 2*w^2 - 2*w - 2)*b4 + (-5*w^5 - 3*w^4 - 2*w^2 + 2*w + 2)*b5, b0 + (-7*w^5 - 4*w^4 - 3*w^2 + 3*w + 6)*b1 + (-10*w^5 - 7*w^4 - 3*w^2 + 3*w + 9)*b2 + (-9*w^5 - 6*w^4 - 3*w^2 + 3*w + 7)*b3 + (-3*w^5 - 2*w^4 - w^2 + w + 3)*b4 + (4*w^5 + 3*w^4 + w^2 - w - 3)*b5]]"
      ]
     },
     "execution_count": 49,
     "metadata": {},
     "output_type": "execute_result"
    }
   ],
   "source": [
    "Bo1=list();\n",
    "for i in range(len(ob1)):\n",
    "    RelHerm=(conjugate(transpose(R1o1[i]))*H*(R1o1[i])-H)\n",
    "    B=[RelHerm[0,0],(RelHerm[0,1]),(RelHerm[0,2]),RelHerm[1,0],(RelHerm[1,1]),(RelHerm[1,2]),RelHerm[2,0],RelHerm[2,1],(RelHerm[2,2])];\n",
    "    Bo1.append(B)\n",
    "    Go1=list()\n",
    "for i in range(len(ob1)):\n",
    "    J=Pol.ideal(Bo1[i])\n",
    "    Grob=J.groebner_basis()\n",
    "    Go1.append(Grob)\n",
    "Go1"
   ]
  },
  {
   "cell_type": "markdown",
   "metadata": {},
   "source": [
    "Notice that each element of the Groebner basis are linear polynomials. \n",
    "\n",
    "We solve the overdetermined system."
   ]
  },
  {
   "cell_type": "code",
   "execution_count": 51,
   "metadata": {},
   "outputs": [],
   "source": [
    "Pola.<a>=PolynomialRing(K,'a')\n",
    "Polb.<b0>=PolynomialRing(K,'b0')\n",
    "aroots=list();\n",
    "broots=list();\n",
    "for i in range(len(ob1)):\n",
    "    aux=[Go1[i][0].substitute(b1=1,b2=1,b3=1,b4=1,b5=1),Go1[i][1].substitute(b1=1,b2=1,b3=1,b4=1,b5=1)]\n",
    "    aux1=Polb(aux[1]).roots(ring=K)[0][0]\n",
    "    aux2=Pola(aux[0]).roots(ring=K)[0][0]\n",
    "    broots.append(aux1)\n",
    "    aroots.append(aux2)"
   ]
  },
  {
   "cell_type": "code",
   "execution_count": 52,
   "metadata": {},
   "outputs": [
    {
     "name": "stdout",
     "output_type": "stream",
     "text": [
      "No 0 : [-1.184792530904096? + 0.?e-18*I, -9.82294825561955? + 0.?e-15*I, -11.124236758471855? + 0.?e-15*I]\n",
      "No 1 : [11.124236758471855? + 0.?e-15*I, 9.82294825561955? + 0.?e-15*I, 1.184792530904096? + 0.?e-18*I]\n",
      "No 2 : [-6.411474127809773? + 0.?e-35*I, -15.04962985252523? + 0.?e-35*I, -212.6265213763973? + 0.?e-34*I]\n",
      "No 3 : [12.04962985252523? + 0.?e-16*I, 5.81345277524542? + 0.?e-16*I, 3.411474127809773? + 0.?e-16*I]\n",
      "No 4 : [-3.411474127809773? + 0.?e-16*I, -5.81345277524542? + 0.?e-16*I, -12.04962985252523? + 0.?e-16*I]\n",
      "No 5 : [212.6265213763973? + 0.?e-34*I, 15.04962985252523? + 0.?e-35*I, 6.411474127809773? + 0.?e-35*I]\n"
     ]
    }
   ],
   "source": [
    "Ho1=list();\n",
    "evo1=list()\n",
    "for i in range(len(ob1)):\n",
    "    aux=H.substitute(a=aroots[i],b0=broots[i],b1=1,b2=1,b3=1,b4=1,b5=1)\n",
    "    Ho1.append(aux)\n",
    "aux=matrix(QQbar,3,3,[[0,0,0],[0,0,0],[0,0,0]])\n",
    "for i in range(len(ob1)):\n",
    "    for j in range(3):\n",
    "        for k in range(3):\n",
    "            aux[j,k]=KEd[0](Ho1[i][j,k])\n",
    "    evo1.append(aux.eigenvalues())\n",
    "for i in range(len(ob1)):\n",
    "    print('No',ob1[i],':',evo1[i])"
   ]
  },
  {
   "cell_type": "code",
   "execution_count": 53,
   "metadata": {},
   "outputs": [
    {
     "data": {
      "text/plain": [
       "[[a + (-w^5 - w^2 + w - 2)*b1 + (2*w^5 - w^4 + 3*w^2 - 3*w + 2)*b2 + (-2*w^5 + 2*w^4 - 4*w^2 + 4*w - 3)*b3 + (3*w^5 - w^4 + 4*w^2 - 4*w + 4)*b4 + (-3*w^5 + w^4 - 4*w^2 + 4*w - 4)*b5, b0 + (w^5 + w^2 - w + 3)*b1 + (-3*w^5 + w^4 - 4*w^2 + 4*w - 3)*b2 + (3*w^5 - 3*w^4 + 6*w^2 - 6*w + 4)*b3 + (-4*w^5 + 2*w^4 - 6*w^2 + 6*w - 6)*b4 + (5*w^5 - w^4 + 6*w^2 - 6*w + 6)*b5],\n",
       " [a + (w^5 + 4*w^4 - 3*w^2 + 3*w + 4)*b1 + (w^4 - w^2 + w + 2)*b2 + (-2*w^5 - 4*w^4 + 2*w^2 - 2*w - 3)*b3 + (-w^5 - 3*w^4 + 2*w^2 - 2*w - 2)*b4 + (w^5 + 3*w^4 - 2*w^2 + 2*w + 2)*b5, b0 + (-2*w^5 - 6*w^4 + 4*w^2 - 4*w - 6)*b1 + (-2*w^4 + 2*w^2 - 2*w - 3)*b2 + (3*w^5 + 6*w^4 - 3*w^2 + 3*w + 4)*b3 + (2*w^5 + 5*w^4 - 3*w^2 + 3*w + 3)*b4 + (-w^5 - 4*w^4 + 3*w^2 - 3*w - 3)*b5],\n",
       " [a + (3*w^5 + 2*w^4 + w^2 - w - 2)*b1 + (4*w^5 + 3*w^4 + w^2 - w - 4)*b2 + (4*w^5 + 2*w^4 + 2*w^2 - 2*w - 3)*b3 + (w^5 + w^4 - 2)*b4 + (-w^5 - w^4 + 2)*b5, b0 + (-5*w^5 - 3*w^4 - 2*w^2 + 2*w + 3)*b1 + (-6*w^5 - 5*w^4 - w^2 + w + 6)*b2 + (-6*w^5 - 3*w^4 - 3*w^2 + 3*w + 4)*b3 + (-w^5 - w^4 + 3)*b4 + (2*w^5 + 2*w^4 - 3)*b5],\n",
       " [a + (-3*w^5 - 2*w^4 - w^2 + w + 2)*b1 + (-4*w^5 - 3*w^4 - w^2 + w + 4)*b2 + (-4*w^5 - 2*w^4 - 2*w^2 + 2*w + 3)*b3 + (-w^5 - w^4 + 2)*b4 + (w^5 + w^4 - 2)*b5, b0 + (4*w^5 + 3*w^4 + w^2 - w - 3)*b1 + (6*w^5 + 4*w^4 + 2*w^2 - 2*w - 6)*b2 + (6*w^5 + 3*w^4 + 3*w^2 - 3*w - 5)*b3 + (2*w^5 + 2*w^4 - 3)*b4 + (-w^5 - w^4 + 3)*b5],\n",
       " [a + (-w^5 - 4*w^4 + 3*w^2 - 3*w - 4)*b1 + (-w^4 + w^2 - w - 2)*b2 + (2*w^5 + 4*w^4 - 2*w^2 + 2*w + 3)*b3 + (w^5 + 3*w^4 - 2*w^2 + 2*w + 2)*b4 + (-w^5 - 3*w^4 + 2*w^2 - 2*w - 2)*b5, b0 + (w^5 + 6*w^4 - 5*w^2 + 5*w + 6)*b1 + (w^4 - w^2 + w + 3)*b2 + (-3*w^5 - 6*w^4 + 3*w^2 - 3*w - 5)*b3 + (-w^5 - 4*w^4 + 3*w^2 - 3*w - 3)*b4 + (2*w^5 + 5*w^4 - 3*w^2 + 3*w + 3)*b5],\n",
       " [a + (w^5 + w^2 - w + 2)*b1 + (-2*w^5 + w^4 - 3*w^2 + 3*w - 2)*b2 + (2*w^5 - 2*w^4 + 4*w^2 - 4*w + 3)*b3 + (-3*w^5 + w^4 - 4*w^2 + 4*w - 4)*b4 + (3*w^5 - w^4 + 4*w^2 - 4*w + 4)*b5, b0 + (-2*w^5 - 2*w^2 + 2*w - 3)*b1 + (3*w^5 - 2*w^4 + 5*w^2 - 5*w + 3)*b2 + (-3*w^5 + 3*w^4 - 6*w^2 + 6*w - 5)*b3 + (5*w^5 - w^4 + 6*w^2 - 6*w + 6)*b4 + (-4*w^5 + 2*w^4 - 6*w^2 + 6*w - 6)*b5]]"
      ]
     },
     "execution_count": 53,
     "metadata": {},
     "output_type": "execute_result"
    }
   ],
   "source": [
    "Bo2=list();\n",
    "for i in range(len(ob5)):\n",
    "    RelHerm=(conjugate(transpose(R1o5[i]))*H*(R1o5[i])-H)\n",
    "    B=[RelHerm[0,0],(RelHerm[0,1]),(RelHerm[0,2]),RelHerm[1,0],(RelHerm[1,1]),(RelHerm[1,2]),RelHerm[2,0],RelHerm[2,1],(RelHerm[2,2])];\n",
    "    Bo2.append(B)\n",
    "Go2=list()\n",
    "for i in range(len(ob5)):\n",
    "    J=Pol.ideal(Bo2[i])\n",
    "    Grob=J.groebner_basis()\n",
    "    Go2.append(Grob)\n",
    "Go2"
   ]
  },
  {
   "cell_type": "code",
   "execution_count": 54,
   "metadata": {},
   "outputs": [],
   "source": [
    "Pola.<a>=PolynomialRing(K,'a')\n",
    "Polb.<b0>=PolynomialRing(K,'b0')\n",
    "aroots2=list();\n",
    "broots2=list();\n",
    "for i in range(len(ob1)):\n",
    "    aux=[Go2[i][0].substitute(b1=1,b2=1,b3=1,b4=1,b5=1),Go2[i][1].substitute(b1=1,b2=1,b3=1,b4=1,b5=1)]\n",
    "    aux1=Polb(aux[1]).roots(ring=K)[0][0]\n",
    "    aux2=Pola(aux[0]).roots(ring=K)[0][0]\n",
    "    broots2.append(aux1)\n",
    "    aroots2.append(aux2)"
   ]
  },
  {
   "cell_type": "code",
   "execution_count": 55,
   "metadata": {},
   "outputs": [
    {
     "name": "stdout",
     "output_type": "stream",
     "text": [
      "No 9 : [7.260829876383619? + 0.?e-17*I, 3.411474127809773? + 0.?e-17*I, -5.226681596905678? + 0.?e-17*I]\n",
      "No 10 : [6.411474127809773? + 0.?e-18*I, -2.226681596905678? + 0.?e-18*I, -16.73917012361638? + 0.?e-17*I]\n",
      "No 11 : [113.13620894381817? + 0.?e-16*I, -9.82294825561955? + 0.?e-17*I, -18.46110398033500? + 0.?e-16*I]\n",
      "No 21 : [18.46110398033500? + 0.?e-16*I, 9.82294825561955? + 0.?e-17*I, -113.13620894381817? + 0.?e-16*I]\n",
      "No 22 : [16.73917012361638? + 0.?e-17*I, 2.226681596905678? + 0.?e-18*I, -6.411474127809773? + 0.?e-18*I]\n",
      "No 23 : [5.226681596905678? + 0.?e-17*I, -3.411474127809773? + 0.?e-17*I, -7.260829876383619? + 0.?e-17*I]\n"
     ]
    }
   ],
   "source": [
    "Ho2=list();\n",
    "evo2=list()\n",
    "for i in range(len(ob5)):\n",
    "    aux=H.substitute(a=aroots2[i],b0=broots2[i],b1=1,b2=1,b3=1,b4=1,b5=1)\n",
    "    Ho2.append(aux)\n",
    "aux=matrix(QQbar,3,3,[[0,0,0],[0,0,0],[0,0,0]])\n",
    "for i in range(len(ob5)):\n",
    "    for j in range(3):\n",
    "        for k in range(3):\n",
    "            aux[j,k]=KEd[0](Ho2[i][j,k])\n",
    "    evo2.append(aux.eigenvalues())\n",
    "for i in range(len(ob5)):\n",
    "    print('No',ob5[i],':',evo2[i])"
   ]
  },
  {
   "cell_type": "code",
   "execution_count": 56,
   "metadata": {},
   "outputs": [
    {
     "data": {
      "text/plain": [
       "[[a + (w^5 + 6*w^4 - 5*w^2 + 5*w + 6)*b1 + (w^4 - w^2 + w + 4)*b2 + (-4*w^5 - 6*w^4 + 2*w^2 - 2*w - 5)*b3 + (-w^5 - 5*w^4 + 4*w^2 - 4*w - 2)*b4 + (w^5 + 5*w^4 - 4*w^2 + 4*w + 2)*b5, b0 + (-2*w^5 - 5*w^4 + 3*w^2 - 3*w - 5)*b1 + (-2*w^4 + 2*w^2 - 2*w - 2)*b2 + (2*w^5 + 5*w^4 - 3*w^2 + 3*w + 3)*b3 + (2*w^5 + 4*w^4 - 2*w^2 + 2*w + 3)*b4 + (-w^5 - 3*w^4 + 2*w^2 - 2*w - 3)*b5],\n",
       " [a + (5*w^5 + 4*w^4 + w^2 - w - 2)*b1 + (6*w^5 + 5*w^4 + w^2 - w - 6)*b2 + (6*w^5 + 2*w^4 + 4*w^2 - 4*w - 5)*b3 + (w^5 + w^4 - 4)*b4 + (-w^5 - w^4 + 4)*b5, b0 + (-4*w^5 - 2*w^4 - 2*w^2 + 2*w + 3)*b1 + (-5*w^5 - 4*w^4 - w^2 + w + 5)*b2 + (-5*w^5 - 3*w^4 - 2*w^2 + 2*w + 3)*b3 + (-w^5 - w^4 + 2)*b4 + (2*w^5 + 2*w^4 - 2)*b5],\n",
       " [a + (-w^5 - w^2 + w - 4)*b1 + (4*w^5 - w^4 + 5*w^2 - 5*w + 2)*b2 + (-2*w^5 + 4*w^4 - 6*w^2 + 6*w - 5)*b3 + (5*w^5 - w^4 + 6*w^2 - 6*w + 6)*b4 + (-5*w^5 + w^4 - 6*w^2 + 6*w - 6)*b5, b0 + (w^5 + w^2 - w + 2)*b1 + (-2*w^5 + w^4 - 3*w^2 + 3*w - 3)*b2 + (3*w^5 - 2*w^4 + 5*w^2 - 5*w + 3)*b3 + (-3*w^5 + 2*w^4 - 5*w^2 + 5*w - 5)*b4 + (4*w^5 - w^4 + 5*w^2 - 5*w + 5)*b5],\n",
       " [a + (-5*w^5 - 4*w^4 - w^2 + w + 2)*b1 + (-6*w^5 - 5*w^4 - w^2 + w + 6)*b2 + (-6*w^5 - 2*w^4 - 4*w^2 + 4*w + 5)*b3 + (-w^5 - w^4 + 4)*b4 + (w^5 + w^4 - 4)*b5, b0 + (3*w^5 + 2*w^4 + w^2 - w - 3)*b1 + (5*w^5 + 3*w^4 + 2*w^2 - 2*w - 5)*b2 + (5*w^5 + 3*w^4 + 2*w^2 - 2*w - 4)*b3 + (2*w^5 + 2*w^4 - 2)*b4 + (-w^5 - w^4 + 2)*b5],\n",
       " [a + (w^5 + w^2 - w + 4)*b1 + (-4*w^5 + w^4 - 5*w^2 + 5*w - 2)*b2 + (2*w^5 - 4*w^4 + 6*w^2 - 6*w + 5)*b3 + (-5*w^5 + w^4 - 6*w^2 + 6*w - 6)*b4 + (5*w^5 - w^4 + 6*w^2 - 6*w + 6)*b5, b0 + (-2*w^5 - 2*w^2 + 2*w - 2)*b1 + (2*w^5 - 2*w^4 + 4*w^2 - 4*w + 3)*b2 + (-3*w^5 + 2*w^4 - 5*w^2 + 5*w - 4)*b3 + (4*w^5 - w^4 + 5*w^2 - 5*w + 5)*b4 + (-3*w^5 + 2*w^4 - 5*w^2 + 5*w - 5)*b5],\n",
       " [a + (-w^5 - 6*w^4 + 5*w^2 - 5*w - 6)*b1 + (-w^4 + w^2 - w - 4)*b2 + (4*w^5 + 6*w^4 - 2*w^2 + 2*w + 5)*b3 + (w^5 + 5*w^4 - 4*w^2 + 4*w + 2)*b4 + (-w^5 - 5*w^4 + 4*w^2 - 4*w - 2)*b5, b0 + (w^5 + 5*w^4 - 4*w^2 + 4*w + 5)*b1 + (w^4 - w^2 + w + 2)*b2 + (-2*w^5 - 5*w^4 + 3*w^2 - 3*w - 4)*b3 + (-w^5 - 3*w^4 + 2*w^2 - 2*w - 3)*b4 + (2*w^5 + 4*w^4 - 2*w^2 + 2*w + 3)*b5]]"
      ]
     },
     "execution_count": 56,
     "metadata": {},
     "output_type": "execute_result"
    }
   ],
   "source": [
    "Bo3=list();\n",
    "for i in range(len(ob8)):\n",
    "    RelHerm=(conjugate(transpose(R1o8[i]))*H*(R1o8[i])-H)\n",
    "    B=[RelHerm[0,0],(RelHerm[0,1]),(RelHerm[0,2]),RelHerm[1,0],(RelHerm[1,1]),(RelHerm[1,2]),RelHerm[2,0],RelHerm[2,1],(RelHerm[2,2])];\n",
    "    Bo3.append(B)\n",
    "Go3=list()\n",
    "for i in range(len(ob8)):\n",
    "    J=Pol.ideal(Bo3[i])\n",
    "    Grob=J.groebner_basis()\n",
    "    Go3.append(Grob)\n",
    "Go3"
   ]
  },
  {
   "cell_type": "code",
   "execution_count": 57,
   "metadata": {},
   "outputs": [],
   "source": [
    "Pola.<a>=PolynomialRing(K,'a')\n",
    "Polb.<b0>=PolynomialRing(K,'b0')\n",
    "aroots3=list();\n",
    "broots3=list();\n",
    "for i in range(len(ob8)):\n",
    "    aux=[Go1[i][0].substitute(b1=1,b2=1,b3=1,b4=1,b5=1),Go1[i][1].substitute(b1=1,b2=1,b3=1,b4=1,b5=1)]\n",
    "    aux1=Polb(aux[1]).roots(ring=K)[0][0]\n",
    "    aux2=Pola(aux[0]).roots(ring=K)[0][0]\n",
    "    broots3.append(aux1)\n",
    "    aroots3.append(aux2)"
   ]
  },
  {
   "cell_type": "code",
   "execution_count": 59,
   "metadata": {},
   "outputs": [
    {
     "name": "stdout",
     "output_type": "stream",
     "text": [
      "No 14 : [-1.184792530904096? + 0.?e-18*I, -9.82294825561955? + 0.?e-15*I, -11.124236758471855? + 0.?e-15*I]\n",
      "No 16 : [11.124236758471855? + 0.?e-15*I, 9.82294825561955? + 0.?e-15*I, 1.184792530904096? + 0.?e-18*I]\n",
      "No 17 : [-6.411474127809773? + 0.?e-35*I, -15.04962985252523? + 0.?e-35*I, -212.6265213763973? + 0.?e-34*I]\n",
      "No 27 : [12.04962985252523? + 0.?e-16*I, 5.81345277524542? + 0.?e-16*I, 3.411474127809773? + 0.?e-16*I]\n",
      "No 28 : [-3.411474127809773? + 0.?e-16*I, -5.81345277524542? + 0.?e-16*I, -12.04962985252523? + 0.?e-16*I]\n",
      "No 29 : [212.6265213763973? + 0.?e-34*I, 15.04962985252523? + 0.?e-35*I, 6.411474127809773? + 0.?e-35*I]\n"
     ]
    }
   ],
   "source": [
    "Ho3=list();\n",
    "evo3=list()\n",
    "for i in range(len(ob8)):\n",
    "    aux=H.substitute(a=aroots3[i],b0=broots3[i],b1=1,b2=1,b3=1,b4=1,b5=1)\n",
    "    Ho3.append(aux)\n",
    "aux=matrix(QQbar,3,3,[[0,0,0],[0,0,0],[0,0,0]])\n",
    "for i in range(len(ob8)):\n",
    "    for j in range(3):\n",
    "        for k in range(3):\n",
    "            aux[j,k]=KEd[0](Ho3[i][j,k])\n",
    "    evo3.append(aux.eigenvalues())\n",
    "for i in range(len(ob8)):\n",
    "    print('No',ob8[i],':',evo3[i])"
   ]
  },
  {
   "cell_type": "code",
   "execution_count": 60,
   "metadata": {},
   "outputs": [
    {
     "data": {
      "text/plain": [
       "[[a + b0 + (-w^5 - w^4)*b1 + (-w^5 - w^4)*b2 + b3 + (w^4 - w^2 + w)*b4 + (w^5 + w^2 - w)*b5],\n",
       " [a + b0 + (w^4 - w^2 + w)*b1 + (w^5 + w^2 - w)*b2 - 2*b3 + (w^5 + w^2 - w)*b4 + (w^4 - w^2 + w)*b5],\n",
       " [a - 2*b0 + (w^5 + w^2 - w)*b1 + (w^4 - w^2 + w)*b2 + b3 + (-w^5 - w^4)*b4 + (-w^5 - w^4)*b5],\n",
       " [a - 2*b0 + (w^5 + w^2 - w)*b1 + (w^4 - w^2 + w)*b2 + b3 + (-w^5 - w^4)*b4 + (-w^5 - w^4)*b5],\n",
       " [a + b0 + (w^4 - w^2 + w)*b1 + (w^5 + w^2 - w)*b2 - 2*b3 + (w^5 + w^2 - w)*b4 + (w^4 - w^2 + w)*b5],\n",
       " [a + b0 + (-w^5 - w^4)*b1 + (-w^5 - w^4)*b2 + b3 + (w^4 - w^2 + w)*b4 + (w^5 + w^2 - w)*b5],\n",
       " [a + (-1/3*w^5 - 2/3*w^4 + 1/3*w^2 - 1/3*w)*b1 + (-2/3*w^5 - 1/3*w^4 - 1/3*w^2 + 1/3*w)*b2 + b3 + (-1/3*w^5 + 1/3*w^4 - 2/3*w^2 + 2/3*w)*b4 + (1/3*w^5 - 1/3*w^4 + 2/3*w^2 - 2/3*w)*b5, b0 + (-2/3*w^5 - 1/3*w^4 - 1/3*w^2 + 1/3*w)*b1 + (-1/3*w^5 - 2/3*w^4 + 1/3*w^2 - 1/3*w)*b2 + (1/3*w^5 + 2/3*w^4 - 1/3*w^2 + 1/3*w)*b4 + (2/3*w^5 + 1/3*w^4 + 1/3*w^2 - 1/3*w)*b5],\n",
       " [a + (1/3*w^5 + 2/3*w^4 - 1/3*w^2 + 1/3*w)*b1 + (2/3*w^5 + 1/3*w^4 + 1/3*w^2 - 1/3*w)*b2 - b3 + (1/3*w^5 - 1/3*w^4 + 2/3*w^2 - 2/3*w)*b4 + (-1/3*w^5 + 1/3*w^4 - 2/3*w^2 + 2/3*w)*b5, b0 + (-1/3*w^5 + 1/3*w^4 - 2/3*w^2 + 2/3*w)*b1 + (1/3*w^5 - 1/3*w^4 + 2/3*w^2 - 2/3*w)*b2 - b3 + (2/3*w^5 + 1/3*w^4 + 1/3*w^2 - 1/3*w)*b4 + (1/3*w^5 + 2/3*w^4 - 1/3*w^2 + 1/3*w)*b5],\n",
       " [a + b0 - b2 + (w^5 + w^2 - w)*b3 + (w^4 - w^2 + w - 1)*b4 + (w^5 + w^2 - w + 1)*b5, b1 + (-w^5 - w^2 + w)*b2 + (-w^4 + w^2 - w + 1)*b3 + (-w^5 - w^2 + w - 1)*b4 + (w^5 + w^2 - w + 1)*b5],\n",
       " [a + b0 - b2 + (w^5 + w^2 - w)*b3 + (w^4 - w^2 + w - 1)*b4 + (w^5 + w^2 - w + 1)*b5, b1 + (-w^5 - w^2 + w)*b2 + (-w^4 + w^2 - w + 1)*b3 + (-w^5 - w^2 + w - 1)*b4 + (w^5 + w^2 - w + 1)*b5],\n",
       " [a + (1/3*w^5 + 2/3*w^4 - 1/3*w^2 + 1/3*w)*b1 + (2/3*w^5 + 1/3*w^4 + 1/3*w^2 - 1/3*w)*b2 - b3 + (1/3*w^5 - 1/3*w^4 + 2/3*w^2 - 2/3*w)*b4 + (-1/3*w^5 + 1/3*w^4 - 2/3*w^2 + 2/3*w)*b5, b0 + (-1/3*w^5 + 1/3*w^4 - 2/3*w^2 + 2/3*w)*b1 + (1/3*w^5 - 1/3*w^4 + 2/3*w^2 - 2/3*w)*b2 - b3 + (2/3*w^5 + 1/3*w^4 + 1/3*w^2 - 1/3*w)*b4 + (1/3*w^5 + 2/3*w^4 - 1/3*w^2 + 1/3*w)*b5],\n",
       " [a + (-1/3*w^5 - 2/3*w^4 + 1/3*w^2 - 1/3*w)*b1 + (-2/3*w^5 - 1/3*w^4 - 1/3*w^2 + 1/3*w)*b2 + b3 + (-1/3*w^5 + 1/3*w^4 - 2/3*w^2 + 2/3*w)*b4 + (1/3*w^5 - 1/3*w^4 + 2/3*w^2 - 2/3*w)*b5, b0 + (-2/3*w^5 - 1/3*w^4 - 1/3*w^2 + 1/3*w)*b1 + (-1/3*w^5 - 2/3*w^4 + 1/3*w^2 - 1/3*w)*b2 + (1/3*w^5 + 2/3*w^4 - 1/3*w^2 + 1/3*w)*b4 + (2/3*w^5 + 1/3*w^4 + 1/3*w^2 - 1/3*w)*b5]]"
      ]
     },
     "execution_count": 60,
     "metadata": {},
     "output_type": "execute_result"
    }
   ],
   "source": [
    "Bo4=list();\n",
    "for i in range(len(orbs)):\n",
    "    RelHerm=(conjugate(transpose(R1orbs[i]))*H*(R1orbs[i])-H)\n",
    "    B=[RelHerm[0,0],(RelHerm[0,1]),(RelHerm[0,2]),RelHerm[1,0],(RelHerm[1,1]),(RelHerm[1,2]),RelHerm[2,0],RelHerm[2,1],(RelHerm[2,2])];\n",
    "    Bo4.append(B)\n",
    "Go4=list()\n",
    "for i in range(len(orbs)):\n",
    "    J=Pol.ideal(Bo4[i])\n",
    "    Grob=J.groebner_basis()\n",
    "    Go4.append(Grob)\n",
    "Go4"
   ]
  },
  {
   "cell_type": "code",
   "execution_count": 67,
   "metadata": {},
   "outputs": [
    {
     "data": {
      "text/plain": [
       "a + b0 + (-w^5 - w^4)*b1 + (-w^5 - w^4)*b2 + b3 + (w^4 - w^2 + w)*b4 + (w^5 + w^2 - w)*b5"
      ]
     },
     "execution_count": 67,
     "metadata": {},
     "output_type": "execute_result"
    }
   ],
   "source": [
    "Go4[0][0]"
   ]
  },
  {
   "cell_type": "code",
   "execution_count": 75,
   "metadata": {},
   "outputs": [],
   "source": [
    "Pola.<a>=PolynomialRing(K,'a')\n",
    "Polb.<b1>=PolynomialRing(K,'b1')\n",
    "Hporbs=list();\n",
    "for i in range(len(orbs)):\n",
    "    if len(Go4[i])==1:\n",
    "        aux=(Go4[i][0]).substitute(b0=1,b1=1,b2=1,b3=1,b4=1,b5=1)\n",
    "        aux1=Pola(aux).roots(ring=K)[0][0]\n",
    "        Hporbs.append([aux1,1,1,1,1,1,1])\n",
    "    else:\n",
    "        aux=[Go4[i][0].substitute(b0=1,b2=1,b3=1,b4=1,b5=1),Go4[i][1].substitute(b0=1,b2=1,b3=1,b4=1,b5=1)]\n",
    "        aux1=Polb(aux[1]).roots(ring=K)[0][0]\n",
    "        aux2=aux[0].substitute(b1=aux1)\n",
    "        aux3=Pola(aux2).roots(ring=K)[0][0]\n",
    "        Hporbs.append([aux3,1,aux1,1,1,1,1])"
   ]
  },
  {
   "cell_type": "code",
   "execution_count": 76,
   "metadata": {},
   "outputs": [
    {
     "data": {
      "text/plain": [
       "[[w^5 + w^4 - 2, 1, 1, 1, 1, 1, 1],\n",
       " [-2*w^5 - 2*w^4 + 1, 1, 1, 1, 1, 1, 1],\n",
       " [w^5 + w^4 + 1, 1, 1, 1, 1, 1, 1],\n",
       " [w^5 + w^4 + 1, 1, 1, 1, 1, 1, 1],\n",
       " [-2*w^5 - 2*w^4 + 1, 1, 1, 1, 1, 1, 1],\n",
       " [w^5 + w^4 - 2, 1, 1, 1, 1, 1, 1],\n",
       " [w^5 + 2*w^4 - w^2 + w, 1, w^5 + w^4 + 2, 1, 1, 1, 1],\n",
       " [-2*w^5 - w^4 - w^2 + w + 3, 1, -2*w^5 - 2*w^4 + 2, 1, 1, 1, 1],\n",
       " [-2*w^5 - w^4 - w^2 + w, 1, w^5 + w^4 - 1, 1, 1, 1, 1],\n",
       " [-2*w^5 - w^4 - w^2 + w, 1, w^5 + w^4 - 1, 1, 1, 1, 1],\n",
       " [-2*w^5 - w^4 - w^2 + w + 3, 1, -2*w^5 - 2*w^4 + 2, 1, 1, 1, 1],\n",
       " [w^5 + 2*w^4 - w^2 + w, 1, w^5 + w^4 + 2, 1, 1, 1, 1]]"
      ]
     },
     "execution_count": 76,
     "metadata": {},
     "output_type": "execute_result"
    }
   ],
   "source": [
    "Hporbs"
   ]
  },
  {
   "cell_type": "code",
   "execution_count": 77,
   "metadata": {},
   "outputs": [
    {
     "name": "stdout",
     "output_type": "stream",
     "text": [
      "No 6 : [0, -3.000000000000000? + 0.?e-17*I, -8.63815572471545? + 0.?e-17*I]\n",
      "No 18 : [8.63815572471545? + 0.?e-16*I, 5.638155724715450? + 0.?e-16*I, 0]\n",
      "No 7 : [3.000000000000000? + 0.?e-17*I, 0, -5.638155724715450? + 0.?e-17*I]\n",
      "No 20 : [3.000000000000000? + 0.?e-17*I, 0, -5.638155724715450? + 0.?e-17*I]\n",
      "No 8 : [8.63815572471545? + 0.?e-16*I, 5.638155724715450? + 0.?e-16*I, 0]\n",
      "No 19 : [0, -3.000000000000000? + 0.?e-17*I, -8.63815572471545? + 0.?e-17*I]\n",
      "No 12 : [-6.680044790717032? + 0.?e-17*I, 0, 0]\n",
      "No 24 : [19.23442238342932? + 0.?e-17*I, 0, 0]\n",
      "No 13 : [10.234422383429318? + 0.?e-17*I, 0, 0]\n",
      "No 25 : [10.234422383429318? + 0.?e-17*I, 0, 0]\n",
      "No 15 : [19.23442238342932? + 0.?e-17*I, 0, 0]\n",
      "No 26 : [-6.680044790717032? + 0.?e-17*I, 0, 0]\n"
     ]
    }
   ],
   "source": [
    "Ho4=list();\n",
    "evo4=list()\n",
    "for i in range(len(orbs)):\n",
    "    aux=H.substitute(a=Hporbs[i][0],b0=Hporbs[i][1],b1=Hporbs[i][2],b2=Hporbs[i][3],b3=Hporbs[i][4],b4=Hporbs[i][5],b5=Hporbs[i][6])\n",
    "    Ho4.append(aux)\n",
    "Ho4\n",
    "aux=matrix(QQbar,3,3,[[0,0,0],[0,0,0],[0,0,0]])\n",
    "for i in range(len(orbs)):\n",
    "    for j in range(3):\n",
    "        for k in range(3):\n",
    "            aux[j,k]=KEd[0](Ho4[i][j,k])\n",
    "    evo4.append(aux.eigenvalues())\n",
    "for i in range(len(orbs)):\n",
    "    print('No',orbs[i],':',evo4[i])"
   ]
  },
  {
   "cell_type": "markdown",
   "metadata": {},
   "source": [
    "## 1.3 The Cusp Stabilizer\n",
    "\n",
    "For the Deligne-Mostow $(6,3)$ lattice, the correspondent manifold has two different cusp, the cusp stabilizer are:\n",
    "\n",
    "\n",
    "$\\Gamma_{cusp,1}=\\langle J R_1 J^2,J R_1^2 J^2 R_1^2 J \\rangle$\n",
    "\n",
    "$\\Gamma_{cusp,2}=\\langle J R_1 J^2, R_1 \\rangle$\n",
    "\n",
    "In particular, the centralizer of $\\Gamma_{cusp,1}$ is generated by $\\left(R_1^5 J\\right)^2,$ and the one of $\\Gamma_{cusp,2}$ is generated by $\\left(R_ 1 J R_1 J^2\\right)^3.$\n",
    "\n",
    "For certains parameters, their centralizer group generator is a finite order elliptic element. In what follows, we compute the Jordan decomposition of both centralizer generators."
   ]
  },
  {
   "cell_type": "markdown",
   "metadata": {},
   "source": [
    "## The Cusp Stabilizer"
   ]
  },
  {
   "cell_type": "code",
   "execution_count": 82,
   "metadata": {},
   "outputs": [
    {
     "name": "stdout",
     "output_type": "stream",
     "text": [
      "No 0 Cusp1: [w^5   0   0]\n",
      "[  0 w^2   0]\n",
      "[  0   0 w^2] Cusp2 : [-1  0  0]\n",
      "[ 0 -1  0]\n",
      "[ 0  0 -1]\n",
      "No 1 Cusp1: [     w^4        0        0]\n",
      "[       0 -w^4 - w        0]\n",
      "[       0        0 -w^4 - w] Cusp2 : [-1  0  0]\n",
      "[ 0 -1  0]\n",
      "[ 0  0 -1]\n",
      "No 2 Cusp1: [-w^4 - w        0        0]\n",
      "[       0        w        0]\n",
      "[       0        0        w] Cusp2 : [-1  0  0]\n",
      "[ 0 -1  0]\n",
      "[ 0  0 -1]\n",
      "No 3 Cusp1: [-w^5 - w^2          0          0]\n",
      "[         0        w^5          0]\n",
      "[         0          0        w^5] Cusp2 : [-1  0  0]\n",
      "[ 0 -1  0]\n",
      "[ 0  0 -1]\n",
      "No 4 Cusp1: [  w   0   0]\n",
      "[  0 w^4   0]\n",
      "[  0   0 w^4] Cusp2 : [-1  0  0]\n",
      "[ 0 -1  0]\n",
      "[ 0  0 -1]\n",
      "No 5 Cusp1: [       w^2          0          0]\n",
      "[         0 -w^5 - w^2          0]\n",
      "[         0          0 -w^5 - w^2] Cusp2 : [-1  0  0]\n",
      "[ 0 -1  0]\n",
      "[ 0  0 -1]\n"
     ]
    }
   ],
   "source": [
    "J0=matrix(K,3,3,[[0,0,1],[-1,0,0],[0,1,0]]);\n",
    "CJFc1o1=list();\n",
    "CJFc2o1=list();\n",
    "for i in range(len(R1o1)):\n",
    "    aux=((R1o1[i]**5)*J0)**2;\n",
    "    CJFc1o1.append(aux.jordan_form(subdivide=False))\n",
    "    aux=(R1o1[i]*J0*R1o1[i]*(J0)**2)**3;\n",
    "    CJFc2o1.append(aux.jordan_form(subdivide=False));\n",
    "    \n",
    "for i in range(len(ob1)):\n",
    "    print('No',ob1[i],'Cusp1:',CJFc1o1[i],'Cusp2 :', CJFc2o1[i])    \n"
   ]
  },
  {
   "cell_type": "code",
   "execution_count": 83,
   "metadata": {},
   "outputs": [
    {
     "name": "stdout",
     "output_type": "stream",
     "text": [
      "No 9 Cusp1: [w^5   1   0]\n",
      "[  0 w^5   0]\n",
      "[  0   0 w^5] Cusp2 : [-1  1  0]\n",
      "[ 0 -1  0]\n",
      "[ 0  0 -1]\n",
      "No 10 Cusp1: [-w^5 - w^2          1          0]\n",
      "[         0 -w^5 - w^2          0]\n",
      "[         0          0 -w^5 - w^2] Cusp2 : [-1  1  0]\n",
      "[ 0 -1  0]\n",
      "[ 0  0 -1]\n",
      "No 11 Cusp1: [w^2   1   0]\n",
      "[  0 w^2   0]\n",
      "[  0   0 w^2] Cusp2 : [-1  1  0]\n",
      "[ 0 -1  0]\n",
      "[ 0  0 -1]\n",
      "No 21 Cusp1: [-w^4 - w        1        0]\n",
      "[       0 -w^4 - w        0]\n",
      "[       0        0 -w^4 - w] Cusp2 : [-1  1  0]\n",
      "[ 0 -1  0]\n",
      "[ 0  0 -1]\n",
      "No 22 Cusp1: [w 1 0]\n",
      "[0 w 0]\n",
      "[0 0 w] Cusp2 : [-1  1  0]\n",
      "[ 0 -1  0]\n",
      "[ 0  0 -1]\n",
      "No 23 Cusp1: [w^4   1   0]\n",
      "[  0 w^4   0]\n",
      "[  0   0 w^4] Cusp2 : [-1  1  0]\n",
      "[ 0 -1  0]\n",
      "[ 0  0 -1]\n"
     ]
    }
   ],
   "source": [
    "CJFc1o5=list();\n",
    "CJFc2o5=list();\n",
    "for i in range(len(R1o5)):\n",
    "    aux=((R1o5[i]**5)*J0)**2;\n",
    "    CJFc1o5.append(aux.jordan_form(subdivide=False))\n",
    "    aux=(R1o5[i]*J0*R1o5[i]*(J0)**2)**3;\n",
    "    CJFc2o5.append(aux.jordan_form(subdivide=False));\n",
    "    \n",
    "for i in range(len(ob5)):\n",
    "    print('No',ob5[i],'Cusp1:',CJFc1o5[i],'Cusp2 :', CJFc2o5[i])    \n",
    "\n"
   ]
  },
  {
   "cell_type": "code",
   "execution_count": 84,
   "metadata": {},
   "outputs": [
    {
     "name": "stdout",
     "output_type": "stream",
     "text": [
      "No 14 Cusp1: [-w^4 - w        0        0]\n",
      "[       0  w^4 + w        0]\n",
      "[       0        0  w^4 + w] Cusp2 : [-1  0  0]\n",
      "[ 0  1  0]\n",
      "[ 0  0  1]\n",
      "No 16 Cusp1: [ w^4    0    0]\n",
      "[   0 -w^4    0]\n",
      "[   0    0 -w^4] Cusp2 : [-1  0  0]\n",
      "[ 0  1  0]\n",
      "[ 0  0  1]\n",
      "No 17 Cusp1: [ w  0  0]\n",
      "[ 0 -w  0]\n",
      "[ 0  0 -w] Cusp2 : [-1  0  0]\n",
      "[ 0  1  0]\n",
      "[ 0  0  1]\n",
      "No 27 Cusp1: [ w^5    0    0]\n",
      "[   0 -w^5    0]\n",
      "[   0    0 -w^5] Cusp2 : [-1  0  0]\n",
      "[ 0  1  0]\n",
      "[ 0  0  1]\n",
      "No 28 Cusp1: [-w^5 - w^2          0          0]\n",
      "[         0  w^5 + w^2          0]\n",
      "[         0          0  w^5 + w^2] Cusp2 : [-1  0  0]\n",
      "[ 0  1  0]\n",
      "[ 0  0  1]\n",
      "No 29 Cusp1: [ w^2    0    0]\n",
      "[   0 -w^2    0]\n",
      "[   0    0 -w^2] Cusp2 : [-1  0  0]\n",
      "[ 0  1  0]\n",
      "[ 0  0  1]\n"
     ]
    }
   ],
   "source": [
    "CJFc1o8=list();\n",
    "CJFc2o8=list();\n",
    "for i in range(len(R1o8)):\n",
    "    aux=((R1o8[i]**5)*J0)**2;\n",
    "    CJFc1o8.append(aux.jordan_form(subdivide=False))\n",
    "    aux=(R1o8[i]*J0*R1o8[i]*(J0)**2)**3;\n",
    "    CJFc2o8.append(aux.jordan_form(subdivide=False));\n",
    "    \n",
    "for i in range(len(ob8)):\n",
    "    print('No',ob8[i],'Cusp1:',CJFc1o8[i],'Cusp2 :', CJFc2o8[i])    \n",
    "\n"
   ]
  },
  {
   "cell_type": "code",
   "execution_count": 85,
   "metadata": {},
   "outputs": [
    {
     "name": "stdout",
     "output_type": "stream",
     "text": [
      "No 6 Cusp1: [  1   0   0]\n",
      "[  0 w^3   0]\n",
      "[  0   0 w^3] Cusp2 : [-1  0  0]\n",
      "[ 0 -1  0]\n",
      "[ 0  0 -1]\n",
      "No 18 Cusp1: [       1        0        0]\n",
      "[       0 -w^3 - 1        0]\n",
      "[       0        0 -w^3 - 1] Cusp2 : [-1  0  0]\n",
      "[ 0 -1  0]\n",
      "[ 0  0 -1]\n",
      "No 7 Cusp1: [     w^3        0        0]\n",
      "[       0 -w^3 - 1        0]\n",
      "[       0        0 -w^3 - 1] Cusp2 : [-1  0  0]\n",
      "[ 0 -1  0]\n",
      "[ 0  0 -1]\n",
      "No 20 Cusp1: [-w^3 - 1        0        0]\n",
      "[       0      w^3        0]\n",
      "[       0        0      w^3] Cusp2 : [-1  0  0]\n",
      "[ 0 -1  0]\n",
      "[ 0  0 -1]\n",
      "No 8 Cusp1: [-w^3 - 1        0        0]\n",
      "[       0        1        0]\n",
      "[       0        0        1] Cusp2 : [-1  0  0]\n",
      "[ 0 -1  0]\n",
      "[ 0  0 -1]\n",
      "No 19 Cusp1: [w^3   0   0]\n",
      "[  0   1   0]\n",
      "[  0   0   1] Cusp2 : [-1  0  0]\n",
      "[ 0 -1  0]\n",
      "[ 0  0 -1]\n",
      "No 12 Cusp1: [w^3   0   0]\n",
      "[  0  -1   0]\n",
      "[  0   0  -1] Cusp2 : [-1  0  0]\n",
      "[ 0  1  0]\n",
      "[ 0  0  1]\n",
      "No 24 Cusp1: [-w^3 - 1        0        0]\n",
      "[       0       -1        0]\n",
      "[       0        0       -1] Cusp2 : [-1  0  0]\n",
      "[ 0  1  0]\n",
      "[ 0  0  1]\n",
      "No 13 Cusp1: [      1       0       0]\n",
      "[      0 w^3 + 1       0]\n",
      "[      0       0 w^3 + 1] Cusp2 : [-1  0  0]\n",
      "[ 0  1  0]\n",
      "[ 0  0  1]\n",
      "No 25 Cusp1: [   1    0    0]\n",
      "[   0 -w^3    0]\n",
      "[   0    0 -w^3] Cusp2 : [-1  0  0]\n",
      "[ 0  1  0]\n",
      "[ 0  0  1]\n",
      "No 15 Cusp1: [-w^3 - 1        0        0]\n",
      "[       0     -w^3        0]\n",
      "[       0        0     -w^3] Cusp2 : [-1  0  0]\n",
      "[ 0  1  0]\n",
      "[ 0  0  1]\n",
      "No 26 Cusp1: [    w^3       0       0]\n",
      "[      0 w^3 + 1       0]\n",
      "[      0       0 w^3 + 1] Cusp2 : [-1  0  0]\n",
      "[ 0  1  0]\n",
      "[ 0  0  1]\n"
     ]
    }
   ],
   "source": [
    "CJFc1orbs=list();\n",
    "CJFc2orbs=list();\n",
    "for i in range(len(R1orbs)):\n",
    "    aux=((R1orbs[i]**5)*J0)**2;\n",
    "    CJFc1orbs.append(aux.jordan_form(subdivide=False))\n",
    "    aux=(R1orbs[i]*J0*R1orbs[i]*(J0)**2)**3;\n",
    "    CJFc2orbs.append(aux.jordan_form(subdivide=False));\n",
    "    \n",
    "for i in range(len(orbs)):\n",
    "    print('No',orbs[i],'Cusp1:',CJFc1orbs[i],'Cusp2 :', CJFc2orbs[i])    \n",
    "\n"
   ]
  },
  {
   "cell_type": "markdown",
   "metadata": {},
   "source": [
    "# 2. The degenerate configuration.\n",
    "\n",
    "The degenerate configuration is when one of the fixed point of $J$ belong to the fixed line of $R_1$. We can reduce this case by assuming tha the fixed  point of $J$ in question is $e_1.$\n",
    "\n",
    "On this configuration, $J$ correspond to a diagonal element of order three and $R_1$ preserve the same form as the non-degenerate configuration."
   ]
  },
  {
   "cell_type": "code",
   "execution_count": 2,
   "metadata": {},
   "outputs": [],
   "source": [
    "K.<w>=CyclotomicField(9)\n",
    "RR.<r2,x,y>=PolynomialRing(K,['r2','x','y'],order='lex');\n",
    "Jd=matrix(RR,3,3,[[1,0,0],[0,y,0],[0,0,y^2]])\n",
    "R1d=matrix(RR,3,3,[[1,-1,1],[0,1-r2,r2],[0,1-r2-x,r2+x]]);\n",
    "\n",
    "rel5=((R1d*Jd)**(6));\n",
    "R15=(R1d^5)\n",
    "rel6=((R1d*Jd*R1d*Jd*Jd*R1d*Jd*R15*Jd*Jd*R15*Jd*R15*Jd*Jd));\n",
    "\n",
    "eq0d=[(rel5[0,1]), (rel5[0,2]), (rel5[1,0]), (rel5[1,2]), (rel5[2,0]), (rel5[2,1]), (rel6[0,1]), (rel6[0,2]), (rel6[1,0]),(rel6[1,2]),(rel6[2,0]),(rel6[2,1])];\n",
    "eq1d=[(rel5[0,0]-rel5[1,1]),(rel5[1,1]-rel5[2,2]),(rel6[0,0]-rel6[1,1]),(rel6[1,1]-rel6[2,2])];\n",
    "\n",
    "\n",
    "Bd=list();\n",
    "for i in range(len(eq0d)):\n",
    "    Bd.append(eq0d[i]);\n",
    "for i in range(len(eq1d)):\n",
    "    Bd.append(eq1d[i]);"
   ]
  },
  {
   "cell_type": "markdown",
   "metadata": {},
   "source": [
    "We use Groebner basis to reduce the system $B_d.$ In the particular case of $(6,3),$ there is no solution."
   ]
  },
  {
   "cell_type": "code",
   "execution_count": 5,
   "metadata": {},
   "outputs": [
    {
     "name": "stdout",
     "output_type": "stream",
     "text": [
      "[r2^2 + r2*x - r2 + 1/3*x^2 - 1/3*x + 1/3, r2*x^2 - r2*x + r2 + 1/3*x^3*y + 2/3*x^3 - x^2 + x + 1/3*y - 1/3, x^4 + x^2 + 1, y^2 + y + 1]\n"
     ]
    },
    {
     "data": {
      "text/plain": [
       "4"
      ]
     },
     "execution_count": 5,
     "metadata": {},
     "output_type": "execute_result"
    }
   ],
   "source": [
    "RR.<r2,x,y>=PolynomialRing(K,['r2','x','y'],order='lex');\n",
    "Bd.append(y^2+y+1);\n",
    "Jdegenerate=RR.ideal(Bd);\n",
    "Gdegenerate=Jdegenerate.groebner_basis()\n",
    "print(Gdegenerate)\n",
    "len(Gdegenerate)"
   ]
  },
  {
   "cell_type": "code",
   "execution_count": 6,
   "metadata": {},
   "outputs": [
    {
     "name": "stdout",
     "output_type": "stream",
     "text": [
      "(9) * r2 * (r2 + (w^3)) * (r2 + (-w^3 - 1)) * (r2 + (2/3*w^3 - 2/3)) * (r2 + (-2/3*w^3 - 4/3)) * (r2 + (1/3*w^3 - 1/3)) * (r2 + (-1/3*w^3 - 2/3))\n",
      "r2 in [0, w^3 + 1, 2/3*w^3 + 4/3, 1/3*w^3 + 2/3, -1/3*w^3 + 1/3, -2/3*w^3 + 2/3, -w^3]\n"
     ]
    }
   ],
   "source": [
    "r2rootsdegenerate=list();\n",
    "r2idealdegenerate=Jdegenerate.elimination_ideal([x,y]);\n",
    "r2poldegenerate=r2idealdegenerate.gens();\n",
    "print(r2poldegenerate[0].factor())\n",
    "Poly2.<r2>=PolynomialRing(K,'r2')\n",
    "aux=Poly2(r2poldegenerate[0]).roots(ring=K)\n",
    "for i in range(len(aux)):\n",
    "    r2rootsdegenerate.append(aux[i][0])\n",
    "\n",
    "print('r2 in', r2rootsdegenerate)"
   ]
  },
  {
   "cell_type": "code",
   "execution_count": 7,
   "metadata": {},
   "outputs": [
    {
     "name": "stdout",
     "output_type": "stream",
     "text": [
      "[[x^2 - x + 1], [x + w^3], [1], [x + w^3 + 1], [1], [x - w^3], [x - w^3 - 1]]\n"
     ]
    }
   ],
   "source": [
    "r1xGroebner=list();\n",
    "r1xB=list();\n",
    "RR1.<x>=PolynomialRing(K,['x'],order='lex');\n",
    "for j in range(len(r2rootsdegenerate)):\n",
    "    Bd1=list();\n",
    "    for i in range(len(Gdegenerate)):\n",
    "        aux=(Gdegenerate[i]).substitute(r2=r2rootsdegenerate[j], y=K(1/2*I*sqrt(3) - 1/2))\n",
    "        if aux==0:\n",
    "            continue\n",
    "        else:\n",
    "            Bd1.append(aux)\n",
    "    r1xB.append(Bd1)\n",
    "    Jd1=RR1.ideal(Bd1)\n",
    "    Gd1=Jd1.groebner_basis()\n",
    "    r1xGroebner.append(Gd1)\n",
    "print(r1xGroebner)"
   ]
  },
  {
   "cell_type": "code",
   "execution_count": 8,
   "metadata": {},
   "outputs": [],
   "source": [
    "Polx.<x>=PolynomialRing(K,'x')\n",
    "DParameters=list()\n",
    "for i in range(len(r2rootsdegenerate)):\n",
    "    if r1xGroebner[i][0]==1:\n",
    "        continue\n",
    "    else:\n",
    "        aux=Polx(r1xGroebner[i][0]).roots(ring=K)\n",
    "        for j in range(len(aux)):\n",
    "            DParameters.append([aux[j][0],r2rootsdegenerate[i]])"
   ]
  },
  {
   "cell_type": "code",
   "execution_count": 9,
   "metadata": {},
   "outputs": [
    {
     "data": {
      "text/plain": [
       "[[w^3 + 1, 0],\n",
       " [-w^3, 0],\n",
       " [-w^3, w^3 + 1],\n",
       " [-w^3 - 1, 1/3*w^3 + 2/3],\n",
       " [w^3, -2/3*w^3 + 2/3],\n",
       " [w^3 + 1, -w^3]]"
      ]
     },
     "execution_count": 9,
     "metadata": {},
     "output_type": "execute_result"
    }
   ],
   "source": [
    "DParameters"
   ]
  },
  {
   "cell_type": "markdown",
   "metadata": {},
   "source": [
    "As in the Non-degenerate configuration, the Galois group induce an action on the set of parameters. We compute the orbits for this action restricted to the degenerate configuration parameters."
   ]
  },
  {
   "cell_type": "code",
   "execution_count": 10,
   "metadata": {},
   "outputs": [
    {
     "name": "stdout",
     "output_type": "stream",
     "text": [
      "Orbit No 1 : [[0, 1], [1, 0], [2, 5], [5, 2]]\n",
      "Orbit No 2 : [[0, 0], [1, 1], [2, 2], [3, 3], [4, 4], [5, 5]]\n",
      "Orbit No 3 : [[0, 1], [1, 0], [2, 5], [5, 2]]\n",
      "Orbit No 4 : [[0, 0], [1, 1], [2, 2], [3, 3], [4, 4], [5, 5]]\n",
      "Orbit No 5 : [[0, 1], [1, 0], [2, 5], [5, 2]]\n"
     ]
    }
   ],
   "source": [
    "Gal=K.galois_group();\n",
    "DOrbits=list();\n",
    "for k in range(len(Gal)-1):\n",
    "    auxorbit=list()\n",
    "    j=0;\n",
    "    while j<len(DParameters):\n",
    "        aux0=(Gal[k+1])(DParameters[j][0])\n",
    "        aux1=(Gal[k+1](DParameters[j][1]))\n",
    "        for i in range(len(DParameters)):\n",
    "            if aux0-Gal[0](DParameters[i][0])==0 and aux1-Gal[0](DParameters[i][1])==0:\n",
    "                auxorbit.append([j,i])\n",
    "        j=j+1;\n",
    "    DOrbits.append(auxorbit)\n",
    "\n",
    "        \n",
    "for i in range(len(Gal)-1):\n",
    "    print('Orbit No',i+1,':',DOrbits[i])"
   ]
  },
  {
   "cell_type": "code",
   "execution_count": 11,
   "metadata": {},
   "outputs": [],
   "source": [
    "DNC=[0,2,3,4];\n",
    "NCDParameters=[DParameters[0],DParameters[2],DParameters[3],DParameters[4]]"
   ]
  },
  {
   "cell_type": "code",
   "execution_count": 13,
   "metadata": {},
   "outputs": [],
   "source": [
    "KEd=K.embeddings(QQbar)"
   ]
  },
  {
   "cell_type": "markdown",
   "metadata": {},
   "source": [
    "From the fact that we are in a case where the manifold has two different cusps, we will verify the cusp centralizers for the degenerated configuration."
   ]
  },
  {
   "cell_type": "code",
   "execution_count": 17,
   "metadata": {},
   "outputs": [
    {
     "name": "stdout",
     "output_type": "stream",
     "text": [
      "No 0 Cusp1: [                                         1                                          0                                          0]\n",
      "[                                         0                                          1                                          0]\n",
      "[                                         0                                          0 -0.500000000000000? - 0.866025403784439?*I] Cusp2 : [1 1 0]\n",
      "[0 1 0]\n",
      "[0 0 1]\n",
      "No 2 Cusp1: [                                         1                                          0                                          0]\n",
      "[                                         0                                          1                                          0]\n",
      "[                                         0                                          0 -0.500000000000000? + 0.866025403784439?*I] Cusp2 : [1 1 0]\n",
      "[0 1 0]\n",
      "[0 0 1]\n",
      "No 3 Cusp1: [                                        1                                         0                                         0]\n",
      "[                                        0 0.500000000000000? - 0.866025403784439?*I                                         0]\n",
      "[                                        0                                         0 0.500000000000000? - 0.866025403784439?*I] Cusp2 : [-1  0  0]\n",
      "[ 0 -1  0]\n",
      "[ 0  0  1]\n",
      "No 4 Cusp1: [                                        1                                         0                                         0]\n",
      "[                                        0 0.500000000000000? + 0.866025403784439?*I                                         0]\n",
      "[                                        0                                         0 0.500000000000000? + 0.866025403784439?*I] Cusp2 : [-1  0  0]\n",
      "[ 0 -1  0]\n",
      "[ 0  0  1]\n"
     ]
    }
   ],
   "source": [
    "J0=matrix(QQbar,3,3,[[1,0,0],[0,K(1/2*I*sqrt(3) - 1/2),0],[0,0,(K(1/2*I*sqrt(3) - 1/2))^2]]);\n",
    "R1list=list();\n",
    "for i in range(len(NCDParameters)):\n",
    "    aux=matrix(QQbar,3,3,[[1,-1,1],[0,1-KEd[0](NCDParameters[i][1]),KEd[0](NCDParameters[i][1])],[0,1-KEd[0](NCDParameters[i][0]+NCDParameters[i][1]),KEd[0](NCDParameters[i][0]+NCDParameters[i][1])]])\n",
    "    R1list.append(aux);\n",
    "\n",
    "Centlist=list();\n",
    "for i in range(len(R1list)):\n",
    "    aux=((R1list[i]**5)*J0)**2;\n",
    "    Centlist.append(aux);\n",
    "\n",
    "CentralizerJordanForms=list();\n",
    "for i in range(len(Centlist)):\n",
    "    CentralizerJordanForms.append(Centlist[i].jordan_form(subdivide=False))\n",
    "    \n",
    "Centlist1=list();\n",
    "for i in range(len(R1list)):\n",
    "    aux=(R1list[i]*J0*R1list[i]*(J0)**2)**3;\n",
    "    Centlist1.append(aux);\n",
    "\n",
    "CentralizerJordanForms1=list();\n",
    "for i in range(len(Centlist1)):\n",
    "    CentralizerJordanForms1.append(Centlist1[i].jordan_form(subdivide=False))\n",
    "\n",
    "\n",
    "    \n",
    "for i in range(len(CentralizerJordanForms1)):\n",
    "    print('No',DNC[i],'Cusp1:',CentralizerJordanForms[i],'Cusp2 :', CentralizerJordanForms1[i])    \n",
    "\n"
   ]
  },
  {
   "cell_type": "markdown",
   "metadata": {},
   "source": [
    "Notice that there are two different parameters (with a degenerate configuration) that one of the cusp centralizer is parabolic. "
   ]
  },
  {
   "cell_type": "code",
   "execution_count": null,
   "metadata": {},
   "outputs": [],
   "source": []
  }
 ],
 "metadata": {
  "kernelspec": {
   "display_name": "Sage 9.3",
   "language": "sage",
   "name": "sagemath_9_3_all"
  },
  "language_info": {
   "codemirror_mode": {
    "name": "ipython",
    "version": 3
   },
   "file_extension": ".py",
   "mimetype": "text/x-python",
   "name": "python",
   "nbconvert_exporter": "python",
   "pygments_lexer": "ipython3",
   "version": "3.9.2"
  }
 },
 "nbformat": 4,
 "nbformat_minor": 4
}

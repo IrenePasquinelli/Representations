{
 "cells": [
  {
   "cell_type": "markdown",
   "metadata": {},
   "source": [
    "# The compact Deligne-Mostow $(5,3)$\n",
    "\n",
    "We want to determine the representations of the compact Deligne-Mostow lattice $(5,3)$ using the configurations of fixed subsets for $J$ and $R_1.$"
   ]
  },
  {
   "cell_type": "markdown",
   "metadata": {},
   "source": [
    "## 1. The non-degenerate configuration.\n",
    "\n",
    "The non-degenerate configuration of fixed subsets for $J$ and $R_1$ where the fixed points of $J$ does not belong to the fixed line of $R_1$ and does not coindice with the fixed point $R_1.$"
   ]
  },
  {
   "cell_type": "markdown",
   "metadata": {},
   "source": [
    "We initialize the problem, the set of parameters belong to the field-extension $\\mathbb{Q}(x^{24}+x^{21}-x^{15}-x^{12}-x^9+x^3+1).$"
   ]
  },
  {
   "cell_type": "code",
   "execution_count": 1,
   "metadata": {},
   "outputs": [
    {
     "data": {
      "text/plain": [
       "[1, w, w^2, w^3, w^4, w^5, w^6, w^7, w^8, w^9, w^10, w^11, w^12, w^13, w^14, w^15, w^16, w^17, w^18, w^19, w^20, w^21, w^22, w^23]"
      ]
     },
     "execution_count": 1,
     "metadata": {},
     "output_type": "execute_result"
    }
   ],
   "source": [
    "K.<w>=CyclotomicField(90)\n",
    "K.integral_basis()"
   ]
  },
  {
   "cell_type": "code",
   "execution_count": 2,
   "metadata": {},
   "outputs": [],
   "source": [
    "RR.<r1,r2,y>=PolynomialRing(K,3,['r1','r2','y'],order='deglex');\n",
    "\n",
    "J=matrix(K,3,3,[[0,0,1],[-1,0,0],[0,1,0]]);\n",
    "R1=matrix(RR,3,3,[[1,-r1,r1],[0,1-r2,r2],[0,1-r2-y,r2+y]]);\n"
   ]
  },
  {
   "cell_type": "markdown",
   "metadata": {},
   "source": [
    "The group relations for the Deligne-Mostow $(5,3)$ are:\n",
    "\n",
    "$(R_1 J)^6=Id$\n",
    "\n",
    "$R_1 J R_1 J^2 R_1 J R_1^4 J^2 R_1^4 J R_1^4 J^2=Id$\n",
    "\n",
    "that induce the system of equations on $B.$"
   ]
  },
  {
   "cell_type": "code",
   "execution_count": 3,
   "metadata": {},
   "outputs": [],
   "source": [
    "rel5=((R1*J)**(6));\n",
    "R14=(R1^4)\n",
    "rel6=((R1*J*R1*J*J*R1*J*R14*J*J*R14*J*R14*J*J));\n",
    "\n",
    "eq0=[(rel5[0,1]), (rel5[0,2]), (rel5[1,0]), (rel5[1,2]), (rel5[2,0]), (rel5[2,1]), (rel6[0,1]), (rel6[0,2]), (rel6[1,0]),(rel6[1,2]),(rel6[2,0]),(rel6[2,1])];\n",
    "eq1=[(rel5[0,0]-rel5[1,1]),(rel5[1,1]-rel5[2,2]),(rel6[0,0]-rel6[1,1]),(rel6[1,1]-rel6[2,2])];\n",
    "\n",
    "B=list();\n",
    "for i in range(len(eq0)):\n",
    "    B.append(eq0[i]);\n",
    "for i in range(len(eq1)):\n",
    "    B.append(eq1[i]);"
   ]
  },
  {
   "cell_type": "markdown",
   "metadata": {},
   "source": [
    "#### Groebner Basis\n",
    "\n",
    "We use Groebner basis to solve the system of equations $B.$"
   ]
  },
  {
   "cell_type": "code",
   "execution_count": 4,
   "metadata": {
    "scrolled": true
   },
   "outputs": [],
   "source": [
    "Jideal=RR.ideal(B);\n",
    "G=Jideal.groebner_basis()\n",
    "#print('Number of elements in the Basis',len(G))\n",
    "#print('The basis is:')\n",
    "#print(G)"
   ]
  },
  {
   "cell_type": "markdown",
   "metadata": {},
   "source": [
    "We start to reduce the variables on the system of equations. The first variable that we will reduce is $y$ where the set of values is small. \n",
    "\n",
    "Recall that $y\\neq 1.$"
   ]
  },
  {
   "cell_type": "code",
   "execution_count": 5,
   "metadata": {
    "scrolled": true
   },
   "outputs": [
    {
     "name": "stdout",
     "output_type": "stream",
     "text": [
      "[y^7 + y^6 + y^5 - y^2 - y - 1]\n"
     ]
    }
   ],
   "source": [
    "yroots=list();\n",
    "yideal=Jideal.elimination_ideal([r2,r1]);\n",
    "ypol=yideal.gens();\n",
    "print(ypol)\n",
    "aux=SR(ypol[0]).roots(ring=K)\n",
    "for i in range(len(aux)):\n",
    "    yroots.append(aux[i][0])\n",
    "#print(yroots)\n",
    "\n",
    "\n",
    "#ynonconjugate=[yroots[1],yroots[2],yroots[4]]\n",
    "#print(ynonconjugate)"
   ]
  },
  {
   "cell_type": "markdown",
   "metadata": {},
   "source": [
    "There exists five possible cases for $y.$ Notice that over these six values of $y,$ there are two pairs of complex conjugate numbers.\n",
    "\n",
    "We proceed to substitute $y$ on the Groebner basis $G$ and find the values of $r_j$ $(j=1,2).$"
   ]
  },
  {
   "cell_type": "markdown",
   "metadata": {},
   "source": [
    "#### Case 1:\n",
    "\n",
    "For the value of $y,$ we use Groebner basis on the system $G$ with the value of $y.$"
   ]
  },
  {
   "cell_type": "code",
   "execution_count": 6,
   "metadata": {},
   "outputs": [],
   "source": [
    "B1=list();\n",
    "\n",
    "for i in range(len(G)):\n",
    "    B1.append(G[i].substitute(y=yroots[1]))\n",
    "RR1.<r1,r2>=PolynomialRing(K,2,order='deglex')\n",
    "J1=RR1.ideal(B1)\n",
    "GB1=J1.groebner_basis()\n",
    "#print('Number of elements in the basis',len(GB1))\n",
    "#print('The basis is:')\n",
    "#print(GB1)"
   ]
  },
  {
   "cell_type": "markdown",
   "metadata": {},
   "source": [
    "The next polynomials define contains all possible values of $r_j.$"
   ]
  },
  {
   "cell_type": "code",
   "execution_count": 7,
   "metadata": {
    "scrolled": true
   },
   "outputs": [],
   "source": [
    "r1Ideal=J1.elimination_ideal([r2]);\n",
    "r1pol=r1Ideal.gens();\n",
    "#print('Polynomio defining r1:', r1pol[0].factor())\n",
    "\n",
    "r2Ideal=J1.elimination_ideal([r1]);\n",
    "r2pol=r2Ideal.gens();\n",
    "#print('Polynomio defining r2:', r2pol[0].factor())"
   ]
  },
  {
   "cell_type": "markdown",
   "metadata": {},
   "source": [
    "We collect all possible values of $r_2$ and substitute on the Groebner basis $GB_1.$"
   ]
  },
  {
   "cell_type": "code",
   "execution_count": 8,
   "metadata": {},
   "outputs": [],
   "source": [
    "Pol1.<r2>=PolynomialRing(K,'r2')\n",
    "aux=Pol1(r2pol[0]).roots(ring=K)\n",
    "r2roots=list();\n",
    "for i in range(len(aux)):\n",
    "    r2roots.append(aux[i][0])\n",
    "#r2roots"
   ]
  },
  {
   "cell_type": "markdown",
   "metadata": {},
   "source": [
    "For each value of $r_2,$ we use Groebner basis and find the associated polynomial on $r_1$ associated to each $r_2.$"
   ]
  },
  {
   "cell_type": "code",
   "execution_count": 9,
   "metadata": {},
   "outputs": [],
   "source": [
    "Br1=list();\n",
    "Pol.<r1,r2>=PolynomialRing(K,['r1','r2'],order='lex')\n",
    "for i in range(len(r2roots)):\n",
    "    B2=list();\n",
    "    for j in range(len(GB1)):\n",
    "        aux=Pol(GB1[j]).substitute(r2=r2roots[i])\n",
    "        if aux==0:\n",
    "            continue\n",
    "        else:\n",
    "            B2.append(aux)\n",
    "    RR3.<r1>=PolynomialRing(K,['r1'],order='lex')\n",
    "    J3=RR3.ideal(B2)\n",
    "    G3=J3.groebner_basis(J3)\n",
    "    Br1.append(G3)\n",
    "    #print('r2 root No',i,':', Br1[i])"
   ]
  },
  {
   "cell_type": "code",
   "execution_count": 10,
   "metadata": {},
   "outputs": [],
   "source": [
    "Parameters=list();\n",
    "for i in range(len(r2roots)):\n",
    "    aux=Br1[i][0].roots(ring=K)\n",
    "    for j in range(len(aux)):\n",
    "        Parameters.append([yroots[1],aux[j][0],r2roots[i]])\n",
    "#for i in range(len(Parameters)):\n",
    "#    print('No ', i,':', Parameters[i])"
   ]
  },
  {
   "cell_type": "markdown",
   "metadata": {},
   "source": [
    "#### Case 2:\n",
    "\n",
    "We reproduce the same process for case 1, for the second value."
   ]
  },
  {
   "cell_type": "code",
   "execution_count": 11,
   "metadata": {},
   "outputs": [],
   "source": [
    "B1c2=list();\n",
    "\n",
    "for i in range(len(G)):\n",
    "    B1c2.append(G[i].substitute(y=yroots[2]))\n",
    "RR1.<r1,r2>=PolynomialRing(K,2,order='deglex')\n",
    "J1c2=RR1.ideal(B1c2)\n",
    "GB1c2=J1c2.groebner_basis()\n",
    "#print('Number of elements in the basis',len(GB1c2))\n",
    "#print('The basis is:')\n",
    "#print(GB1c2)"
   ]
  },
  {
   "cell_type": "code",
   "execution_count": 12,
   "metadata": {},
   "outputs": [],
   "source": [
    "aux=SR(GB1c2[1]).roots(ring=K)\n",
    "r2roots1=[aux[0][0]]\n",
    "aux=SR(GB1c2[0]).roots(ring=K)\n",
    "Parameters.append([yroots[2],aux[0][0],r2roots1[0]])\n",
    "#Parameters"
   ]
  },
  {
   "cell_type": "markdown",
   "metadata": {},
   "source": [
    "#### Case 3:\n",
    "\n",
    "We reproduce the same process for case 1, for the second value."
   ]
  },
  {
   "cell_type": "code",
   "execution_count": 13,
   "metadata": {},
   "outputs": [],
   "source": [
    "B1c3=list();\n",
    "\n",
    "for i in range(len(G)):\n",
    "    B1c3.append(G[i].substitute(y=yroots[3]))\n",
    "RR1.<r1,r2>=PolynomialRing(K,2,order='deglex')\n",
    "J1c3=RR1.ideal(B1c3)\n",
    "GB1c3=J1c3.groebner_basis()\n",
    "#print('Number of elements in the basis',len(GB1c3))\n",
    "#print('The basis is:')\n",
    "#print(GB1c3)"
   ]
  },
  {
   "cell_type": "code",
   "execution_count": 14,
   "metadata": {},
   "outputs": [],
   "source": [
    "aux=SR(GB1c3[1]).roots(ring=K)\n",
    "r2roots1=[aux[0][0]]\n",
    "aux=SR(GB1c3[0]).roots(ring=K)\n",
    "Parameters.append([yroots[3],aux[0][0],r2roots1[0]])"
   ]
  },
  {
   "cell_type": "markdown",
   "metadata": {},
   "source": [
    "#### Case 4:\n",
    "\n",
    "We reproduce the same process for case 1, for the second value."
   ]
  },
  {
   "cell_type": "code",
   "execution_count": 15,
   "metadata": {},
   "outputs": [],
   "source": [
    "B1c3=list();\n",
    "\n",
    "for i in range(len(G)):\n",
    "    B1c3.append(G[i].substitute(y=yroots[4]))\n",
    "RR1.<r1,r2>=PolynomialRing(K,2,order='deglex')\n",
    "J1c3=RR1.ideal(B1c3)\n",
    "GB1c3=J1c3.groebner_basis()\n",
    "#print('Number of elements in the basis',len(GB1c3))\n",
    "#print('The basis is:')\n",
    "#print(GB1c3)"
   ]
  },
  {
   "cell_type": "code",
   "execution_count": 16,
   "metadata": {
    "scrolled": false
   },
   "outputs": [],
   "source": [
    "#r1Ideal3=J1c3.elimination_ideal([r2]);\n",
    "#r1pol3=r1Ideal3.gens();\n",
    "#print('Polynomial defining r1:', r1pol3[0].factor())\n",
    "\n",
    "\n",
    "r2Ideal3=J1c3.elimination_ideal([r1]);\n",
    "r2pol3=r2Ideal3.gens();\n",
    "#print('Polynomial defining r2:', r2pol3[0].factor())"
   ]
  },
  {
   "cell_type": "code",
   "execution_count": 17,
   "metadata": {},
   "outputs": [],
   "source": [
    "Pol1.<r2>=PolynomialRing(K,'r2')\n",
    "aux=Pol1(r2pol3[0]).roots(ring=K)\n",
    "r2roots2=list();\n",
    "for i in range(len(aux)):\n",
    "    r2roots2.append(aux[i][0])"
   ]
  },
  {
   "cell_type": "code",
   "execution_count": 18,
   "metadata": {},
   "outputs": [],
   "source": [
    "Br1c2=list();\n",
    "Pol.<r1,r2>=PolynomialRing(K,['r1','r2'],order='lex')\n",
    "for i in range(len(r2roots2)):\n",
    "    B2=list();\n",
    "    for j in range(len(GB1)):\n",
    "        aux=Pol(GB1c3[j]).substitute(r2=r2roots2[i])\n",
    "        if aux==0:\n",
    "            continue\n",
    "        else:\n",
    "            B2.append(aux)\n",
    "    RR3.<r1>=PolynomialRing(K,['r1'],order='lex')\n",
    "    J3c2=RR3.ideal(B2)\n",
    "    G3c2=J3c2.groebner_basis()\n",
    "    Br1c2.append(G3c2)\n",
    "    #print('r2 root No',i,':', Br1c2[i])"
   ]
  },
  {
   "cell_type": "code",
   "execution_count": 19,
   "metadata": {},
   "outputs": [],
   "source": [
    "\n",
    "for i in range(len(r2roots2)):\n",
    "    aux=Br1c2[i][0].roots(ring=K)\n",
    "    for j in range(len(aux)):\n",
    "        Parameters.append([yroots[4],aux[j][0],r2roots2[i]])\n",
    "#for i in range(len(r2roots2)):\n",
    "#    print('No ', i+7,':', Parameters[7+i])"
   ]
  },
  {
   "cell_type": "markdown",
   "metadata": {},
   "source": [
    "#### Case 5:\n",
    "\n",
    "We reproduce the same process for case 1, for the second value."
   ]
  },
  {
   "cell_type": "code",
   "execution_count": 20,
   "metadata": {},
   "outputs": [],
   "source": [
    "B1c3=list();\n",
    "\n",
    "for i in range(len(G)):\n",
    "    B1c3.append(G[i].substitute(y=yroots[5]))\n",
    "RR1.<r1,r2>=PolynomialRing(K,2,order='deglex')\n",
    "J1c3=RR1.ideal(B1c3)\n",
    "GB1c3=J1c3.groebner_basis()\n",
    "#print('Number of elements in the basis',len(GB1c3))\n",
    "#print('The basis is:')\n",
    "#print(GB1c3)"
   ]
  },
  {
   "cell_type": "code",
   "execution_count": 21,
   "metadata": {},
   "outputs": [],
   "source": [
    "#r1Ideal3=J1c3.elimination_ideal([r2]);\n",
    "#r1pol3=r1Ideal3.gens();\n",
    "#print('Polynomial defining r1:', r1pol3[0].factor())\n",
    "\n",
    "\n",
    "r2Ideal3=J1c3.elimination_ideal([r1]);\n",
    "r2pol3=r2Ideal3.gens();\n",
    "#print('Polynomial defining r2:', r2pol3[0].factor())"
   ]
  },
  {
   "cell_type": "code",
   "execution_count": 22,
   "metadata": {},
   "outputs": [],
   "source": [
    "Pol1.<r2>=PolynomialRing(K,'r2')\n",
    "aux=Pol1(r2pol3[0]).roots(ring=K)\n",
    "r2roots2=list();\n",
    "for i in range(len(aux)):\n",
    "    r2roots2.append(aux[i][0])"
   ]
  },
  {
   "cell_type": "code",
   "execution_count": 23,
   "metadata": {},
   "outputs": [],
   "source": [
    "Br1c2=list();\n",
    "Pol.<r1,r2>=PolynomialRing(K,['r1','r2'],order='lex')\n",
    "for i in range(len(r2roots2)):\n",
    "    B2=list();\n",
    "    for j in range(len(GB1)):\n",
    "        aux=Pol(GB1c3[j]).substitute(r2=r2roots2[i])\n",
    "        if aux==0:\n",
    "            continue\n",
    "        else:\n",
    "            B2.append(aux)\n",
    "    RR3.<r1>=PolynomialRing(K,['r1'],order='lex')\n",
    "    J3c2=RR3.ideal(B2)\n",
    "    G3c2=J3c2.groebner_basis()\n",
    "    Br1c2.append(G3c2)\n",
    "    #print('r2 root No',i,':', Br1c2[i])"
   ]
  },
  {
   "cell_type": "code",
   "execution_count": 24,
   "metadata": {},
   "outputs": [],
   "source": [
    "\n",
    "for i in range(len(r2roots2)):\n",
    "    aux=Br1c2[i][0].roots(ring=K)\n",
    "    for j in range(len(aux)):\n",
    "        Parameters.append([yroots[5],aux[j][0],r2roots2[i]])\n",
    "\n"
   ]
  },
  {
   "cell_type": "code",
   "execution_count": 25,
   "metadata": {},
   "outputs": [
    {
     "name": "stdout",
     "output_type": "stream",
     "text": [
      "No. 0 : [-w^9, -1/2*w^9 + 1/2*w^8 + 1/2*w - 1/2, 1/2*w^9 + 1/2*w^8 - 1/2*w + 1/2]\n",
      "No. 1 : [-w^9, -1/2*w^22 - 1/2*w^19 + 1/2*w^13 + 1/2*w^11 + 1/2*w^10 - 1/2*w^9 + 1/2*w^7 - 1/2*w - 1/2, -1/2*w^22 - 1/2*w^19 + 1/2*w^13 - 1/2*w^11 + 1/2*w^10 + 1/2*w^9 + 1/2*w^7 - 1/2*w + 1/2]\n",
      "No. 2 : [-w^9, 1/2*w^23 - 1/2*w^16 - 1/2*w^9 - 1/2*w^8 - 1/2, 1/2*w^23 + 1/2*w^16 + 1/2*w^9 - 1/2*w^8 + 1/2]\n",
      "No. 3 : [-w^9, -1/2*w^23 + 1/2*w^17 + 1/2*w^14 - 1/2*w^13 - 1/2*w^9 - 1/2*w^5 - 1/2*w^2 - 1/2, 1/2*w^23 - 1/2*w^17 - 1/2*w^14 - 1/2*w^13 + 1/2*w^9 + 1/2*w^5 + 1/2*w^2 + 1/2]\n",
      "No. 4 : [-w^9, 1/2*w^23 + 1/2*w^22 + 1/2*w^19 - 1/2*w^17 - 1/2*w^14 - 1/2*w^11 - 1/2*w^10 - 1/2*w^9 - 1/2*w^7 + 1/2*w^5 + 1/2*w^2 + 1/2*w - 1/2, -1/2*w^23 + 1/2*w^22 + 1/2*w^19 + 1/2*w^17 + 1/2*w^14 + 1/2*w^11 - 1/2*w^10 + 1/2*w^9 - 1/2*w^7 - 1/2*w^5 - 1/2*w^2 + 1/2*w + 1/2]\n",
      "No. 5 : [-w^9, -1/2*w^23 + 1/2*w^16 - 1/2*w^9 - 1/2*w - 1/2, -1/2*w^23 - 1/2*w^16 + 1/2*w^9 + 1/2*w + 1/2]\n",
      "No. 6 : [w^15 - 1, 1/2*w^15 - 1, -1/2*w^15 + 1]\n",
      "No. 7 : [-w^15, -1/2*w^15 - 1/2, 1/2*w^15 + 1/2]\n",
      "No. 8 : [w^18, 1/2*w^18 - 1/2*w^17 - 1/2*w^16 + 1/2*w^2 + 1/2*w - 1/2, -1/2*w^18 + 1/2*w^17 - 1/2*w^16 - 1/2*w^2 + 1/2*w + 1/2]\n",
      "No. 9 : [w^18, 1/2*w^18 + 1/2*w^16 - 1/2*w^2 - 1/2, -1/2*w^18 + 1/2*w^16 + 1/2*w^2 + 1/2]\n",
      "No. 10 : [w^18, 1/2*w^18 - 1/2*w^11 + 1/2*w^7 - 1/2, -1/2*w^18 - 1/2*w^11 - 1/2*w^7 + 1/2]\n",
      "No. 11 : [w^18, 1/2*w^18 + 1/2*w^17 - 1/2*w - 1/2, -1/2*w^18 - 1/2*w^17 - 1/2*w + 1/2]\n",
      "No. 12 : [w^18, 1/2*w^23 - 1/2*w^22 + 1/2*w^18 - 1/2*w^17 - 1/2*w^14 + 1/2*w^5 + 1/2*w^2 - 1/2, 1/2*w^23 + 1/2*w^22 - 1/2*w^18 - 1/2*w^17 - 1/2*w^14 + 1/2*w^5 + 1/2*w^2 + 1/2]\n",
      "No. 13 : [w^18, -1/2*w^23 + 1/2*w^22 + 1/2*w^18 + 1/2*w^17 + 1/2*w^14 + 1/2*w^11 - 1/2*w^7 - 1/2*w^5 - 1/2*w^2 - 1/2, -1/2*w^23 - 1/2*w^22 - 1/2*w^18 + 1/2*w^17 + 1/2*w^14 + 1/2*w^11 + 1/2*w^7 - 1/2*w^5 - 1/2*w^2 + 1/2]\n",
      "No. 14 : [w^21 - w^6, 1/2*w^21 - 1/2*w^19 - 1/2*w^6 + 1/2*w^4 + 1/2*w^2 - 1/2, -1/2*w^21 + 1/2*w^19 + 1/2*w^6 - 1/2*w^4 + 1/2*w^2 + 1/2]\n",
      "No. 15 : [w^21 - w^6, 1/2*w^21 + 1/2*w^17 - 1/2*w^6 - 1/2*w^4 - 1/2*w^2 - 1/2, -1/2*w^21 + 1/2*w^17 + 1/2*w^6 + 1/2*w^4 - 1/2*w^2 + 1/2]\n",
      "No. 16 : [w^21 - w^6, 1/2*w^21 + 1/2*w^19 - 1/2*w^17 - 1/2*w^6 - 1/2, -1/2*w^21 - 1/2*w^19 - 1/2*w^17 + 1/2*w^6 + 1/2]\n",
      "No. 17 : [w^21 - w^6, 1/2*w^22 + 1/2*w^21 - 1/2*w^14 - 1/2*w^6 - 1/2, 1/2*w^22 - 1/2*w^21 + 1/2*w^14 + 1/2*w^6 + 1/2]\n",
      "No. 18 : [w^21 - w^6, -1/2*w^23 - 1/2*w^22 + 1/2*w^21 - 1/2*w^20 + 1/2*w^14 + 1/2*w^11 + 1/2*w^8 + 1/2*w^7 - 1/2*w^6 - 1/2*w^2 - 1/2, 1/2*w^23 - 1/2*w^22 - 1/2*w^21 + 1/2*w^20 - 1/2*w^14 - 1/2*w^11 - 1/2*w^8 + 1/2*w^7 + 1/2*w^6 + 1/2*w^2 + 1/2]\n",
      "No. 19 : [w^21 - w^6, 1/2*w^23 + 1/2*w^21 + 1/2*w^20 - 1/2*w^11 - 1/2*w^8 - 1/2*w^7 - 1/2*w^6 + 1/2*w^2 - 1/2, -1/2*w^23 - 1/2*w^21 - 1/2*w^20 + 1/2*w^11 + 1/2*w^8 - 1/2*w^7 + 1/2*w^6 - 1/2*w^2 + 1/2]\n"
     ]
    }
   ],
   "source": [
    "for i in range(len(Parameters)):\n",
    "    print('No.',i,':',Parameters[i])"
   ]
  },
  {
   "cell_type": "markdown",
   "metadata": {},
   "source": [
    "## 1.1 The Galois group action.\n",
    "\n",
    "The Galois group action on $\\mathbb{Q}(x^{24}+x^{21}-x^{15}-x^{12}-x^9+x^3+1)$ induce one in the set of parameters. Such action induce a partition by orbits on the set of parameters."
   ]
  },
  {
   "cell_type": "code",
   "execution_count": 26,
   "metadata": {},
   "outputs": [
    {
     "data": {
      "text/plain": [
       "24"
      ]
     },
     "execution_count": 26,
     "metadata": {},
     "output_type": "execute_result"
    }
   ],
   "source": [
    "Gal=K.galois_group()\n",
    "len(Gal)"
   ]
  },
  {
   "cell_type": "markdown",
   "metadata": {},
   "source": [
    "We compute the orbits."
   ]
  },
  {
   "cell_type": "code",
   "execution_count": 27,
   "metadata": {},
   "outputs": [
    {
     "name": "stdout",
     "output_type": "stream",
     "text": [
      "[0, 1, 2, 3, 4, 5, 8, 9, 10, 11, 12, 13, 14, 15, 16, 17, 18, 19]\n"
     ]
    }
   ],
   "source": [
    "from sage.structure.list_clone_demo import IncreasingLists\n",
    "ob1=[0]\n",
    "x=IncreasingLists()([1..17])\n",
    "j=1;\n",
    "k=0;\n",
    "while j<(len(Parameters)):\n",
    "    while k<len(Gal)-1:\n",
    "        aux0=(Gal[k+1])(Parameters[j][0])\n",
    "        aux1=(Gal[k+1])(Parameters[j][1])\n",
    "        aux2=(Gal[k+1])(Parameters[j][2])\n",
    "        if aux0-Gal[0](Parameters[0][0])==0 and aux1-Gal[0](Parameters[0][1])==0 and aux2-Gal[0](Parameters[0][2])==0:\n",
    "            ob1.append(j)\n",
    "            k=len(Gal)\n",
    "            \n",
    "        else:\n",
    "            k=k+1\n",
    "    k=0;\n",
    "    j=j+1;\n",
    "print(ob1)"
   ]
  },
  {
   "cell_type": "code",
   "execution_count": 28,
   "metadata": {},
   "outputs": [
    {
     "name": "stdout",
     "output_type": "stream",
     "text": [
      "[6, 7]\n"
     ]
    }
   ],
   "source": [
    "ob2=list()\n",
    "x=IncreasingLists()([1..17])\n",
    "j=1;\n",
    "k=0;\n",
    "while j<(len(Parameters)):\n",
    "    while k<len(Gal)-1:\n",
    "        aux0=(Gal[k+1])(Parameters[j][0])\n",
    "        aux1=(Gal[k+1])(Parameters[j][1])\n",
    "        aux2=(Gal[k+1])(Parameters[j][2])\n",
    "        if aux0-Gal[0](Parameters[6][0])==0 and aux1-Gal[0](Parameters[6][1])==0 and aux2-Gal[0](Parameters[6][2])==0:\n",
    "            ob2.append(j)\n",
    "            k=len(Gal)\n",
    "            \n",
    "        else:\n",
    "            k=k+1\n",
    "    k=0;\n",
    "    j=j+1;\n",
    "print(ob2)"
   ]
  },
  {
   "cell_type": "markdown",
   "metadata": {},
   "source": [
    "Notice that these two orbits are disjoint and all parameters are in one of them."
   ]
  },
  {
   "cell_type": "code",
   "execution_count": 29,
   "metadata": {},
   "outputs": [
    {
     "data": {
      "text/plain": [
       "True"
      ]
     },
     "execution_count": 29,
     "metadata": {},
     "output_type": "execute_result"
    }
   ],
   "source": [
    "len(ob1)+len(ob2)==len(Parameters)"
   ]
  },
  {
   "cell_type": "markdown",
   "metadata": {},
   "source": [
    "## 1.2 The associated Hermitian form\n",
    "\n",
    "As these set of parameters provide a representation of the Deligne-Mostow (5,3) in $PGL(3,\\mathbb{C})$, we should have a representation whose image group is conjugated to a $PU(2,1)$ subgroup. To determine this representation we need to determine the Hermitian form preserved by the group image and compute its signature. \n",
    "\n",
    "From the initial data of our representation, an Hermitian form $H$ should satisfy the equation $(J^*)HJ=H.$ This imply that $H$ is of the form:\n",
    "\n",
    "$H=\\begin{bmatrix}\n",
    "a&-\\overline{c}&c\\\\-c& a&\\overline{c}\\\\ \\overline{c}&c&a\n",
    "\\end{bmatrix}$\n",
    "\n",
    "Therefore, in order to compute the values of $a$ and $c,$ we need to solve the equation ${R_1}^* H R_1=H$ for all possible parameters $(y,r_1,r_2).$"
   ]
  },
  {
   "cell_type": "markdown",
   "metadata": {},
   "source": [
    "Initialize the values of $c$ an $\\overline{c}$ as polynomials with coefficients on $\\mathbb{Q}(x^{24}+x^{21}-x^{15}-x^{12}-x^9+x^3+1)[\\cdot].$\n",
    "\n",
    "Without loose of generality we can assume that $c=\\sum_{j=0}^{23}b_j w^{j},$ where $\\{1,w^j\\}_{j=1}^{23}$ is the integral basis of $\\mathbb{Q}(x^{24}+x^{21}-x^{15}-x^{12}-x^9+x^3+1).$"
   ]
  },
  {
   "cell_type": "code",
   "execution_count": 30,
   "metadata": {},
   "outputs": [
    {
     "name": "stdout",
     "output_type": "stream",
     "text": [
      "[                                                                                                                                                                                                                                                                                                                                                                                                                                                                                                                                                                                                                                                                                                                     a           -b0 + (w^23 + w^20 - w^14 - w^11 - w^8 + w^2)*b1 + (w^22 + w^19 - w^13 - w^10 - w^7 + w)*b2 + (w^21 + w^18 - w^12 - w^9 - w^6 + 1)*b3 + (-w^23 + w^17 + w^14 - w^5 - w^2)*b4 + (-w^22 + w^16 + w^13 - w^4 - w)*b5 + (-w^21 + w^15 + w^12 - w^3 - 1)*b6 + (w^23 - w^8)*b7 + (w^22 - w^7)*b8 + (w^21 - w^6)*b9 + (w^20 - w^5)*b10 + (w^19 - w^4)*b11 + (w^18 - w^3)*b12 + (w^17 - w^2)*b13 + (w^16 - w)*b14 + (w^15 - 1)*b15 + (w^23 + w^20 - w^11 - w^8 + w^2)*b16 + (w^22 + w^19 - w^10 - w^7 + w)*b17 + (w^21 + w^18 - w^9 - w^6 + 1)*b18 + (-w^23 + w^17 + w^14 + w^11 - w^5 - w^2)*b19 + (-w^22 + w^16 + w^13 + w^10 - w^4 - w)*b20 + (-w^21 + w^15 + w^12 + w^9 - w^3 - 1)*b21 + (w^23)*b22 + (w^22)*b23                                                                                                                                                                                                                                                                                                                                                                                                                              b0 + (w)*b1 + (w^2)*b2 + (w^3)*b3 + (w^4)*b4 + (w^5)*b5 + (w^6)*b6 + (w^7)*b7 + (w^8)*b8 + (w^9)*b9 + (w^10)*b10 + (w^11)*b11 + (w^12)*b12 + (w^13)*b13 + (w^14)*b14 + (w^15)*b15 + (w^16)*b16 + (w^17)*b17 + (w^18)*b18 + (w^19)*b19 + (w^20)*b20 + (w^21)*b21 + (w^22)*b22 + (w^23)*b23]\n",
      "[                                                                                                                                                                                                                                                                                                                                                                                                     -b0 + (-w)*b1 + (-w^2)*b2 + (-w^3)*b3 + (-w^4)*b4 + (-w^5)*b5 + (-w^6)*b6 + (-w^7)*b7 + (-w^8)*b8 + (-w^9)*b9 + (-w^10)*b10 + (-w^11)*b11 + (-w^12)*b12 + (-w^13)*b13 + (-w^14)*b14 + (-w^15)*b15 + (-w^16)*b16 + (-w^17)*b17 + (-w^18)*b18 + (-w^19)*b19 + (-w^20)*b20 + (-w^21)*b21 + (-w^22)*b22 + (-w^23)*b23                                                                                                                                                                                                                                                                                                                                                                                                                                                                                                                                                                                                                                                                                                                      a b0 + (-w^23 - w^20 + w^14 + w^11 + w^8 - w^2)*b1 + (-w^22 - w^19 + w^13 + w^10 + w^7 - w)*b2 + (-w^21 - w^18 + w^12 + w^9 + w^6 - 1)*b3 + (w^23 - w^17 - w^14 + w^5 + w^2)*b4 + (w^22 - w^16 - w^13 + w^4 + w)*b5 + (w^21 - w^15 - w^12 + w^3 + 1)*b6 + (-w^23 + w^8)*b7 + (-w^22 + w^7)*b8 + (-w^21 + w^6)*b9 + (-w^20 + w^5)*b10 + (-w^19 + w^4)*b11 + (-w^18 + w^3)*b12 + (-w^17 + w^2)*b13 + (-w^16 + w)*b14 + (-w^15 + 1)*b15 + (-w^23 - w^20 + w^11 + w^8 - w^2)*b16 + (-w^22 - w^19 + w^10 + w^7 - w)*b17 + (-w^21 - w^18 + w^9 + w^6 - 1)*b18 + (w^23 - w^17 - w^14 - w^11 + w^5 + w^2)*b19 + (w^22 - w^16 - w^13 - w^10 + w^4 + w)*b20 + (w^21 - w^15 - w^12 - w^9 + w^3 + 1)*b21 + (-w^23)*b22 + (-w^22)*b23]\n",
      "[b0 + (-w^23 - w^20 + w^14 + w^11 + w^8 - w^2)*b1 + (-w^22 - w^19 + w^13 + w^10 + w^7 - w)*b2 + (-w^21 - w^18 + w^12 + w^9 + w^6 - 1)*b3 + (w^23 - w^17 - w^14 + w^5 + w^2)*b4 + (w^22 - w^16 - w^13 + w^4 + w)*b5 + (w^21 - w^15 - w^12 + w^3 + 1)*b6 + (-w^23 + w^8)*b7 + (-w^22 + w^7)*b8 + (-w^21 + w^6)*b9 + (-w^20 + w^5)*b10 + (-w^19 + w^4)*b11 + (-w^18 + w^3)*b12 + (-w^17 + w^2)*b13 + (-w^16 + w)*b14 + (-w^15 + 1)*b15 + (-w^23 - w^20 + w^11 + w^8 - w^2)*b16 + (-w^22 - w^19 + w^10 + w^7 - w)*b17 + (-w^21 - w^18 + w^9 + w^6 - 1)*b18 + (w^23 - w^17 - w^14 - w^11 + w^5 + w^2)*b19 + (w^22 - w^16 - w^13 - w^10 + w^4 + w)*b20 + (w^21 - w^15 - w^12 - w^9 + w^3 + 1)*b21 + (-w^23)*b22 + (-w^22)*b23                                                                                                                                                                                                                                                                                                                                                                                                                              b0 + (w)*b1 + (w^2)*b2 + (w^3)*b3 + (w^4)*b4 + (w^5)*b5 + (w^6)*b6 + (w^7)*b7 + (w^8)*b8 + (w^9)*b9 + (w^10)*b10 + (w^11)*b11 + (w^12)*b12 + (w^13)*b13 + (w^14)*b14 + (w^15)*b15 + (w^16)*b16 + (w^17)*b17 + (w^18)*b18 + (w^19)*b19 + (w^20)*b20 + (w^21)*b21 + (w^22)*b22 + (w^23)*b23                                                                                                                                                                                                                                                                                                                                                                                                                                                                                                                                                                                                                                                                                                                      a]\n"
     ]
    }
   ],
   "source": [
    "Pol.<a,b0,b1,b2,b3,b4,b5,b6,b7,b8,b9,b10,b11,b12,b13,b14,b15,b16,b17,b18,b19,b20,b21,b22,b23>=PolynomialRing(K,['a','b0','b1','b2','b3','b4','b5','b6','b7','b8','b9','b10','b11','b12','b13','b14','b15','b16','b17','b18','b19','b20','b21','b22','b23'],order='lex')\n",
    "c=b0+b1*w+b2*w^2+b3*w^3+b4*w^4+b5*w^5+b6*w^6+b7*w^7+b8*w^8+b9*w^9+b10*w^(10)+b11*w^(11)+b12*w^12+b13*w^13+b14*w^14+b15*w^15+b16*w^16+b17*w^17+b18*w^18+b19*w^19+b20*w^20+b21*w^21+b22*w^22+b23*w^23;\n",
    "cconj=b0+b1*conjugate(w)+b2*conjugate(w^2)+b3*conjugate(w^3)+b4*conjugate(w^4)+b5*conjugate(w^5)+b6*conjugate(w^6)+b7*conjugate(w^7)+b8*conjugate(w^8)+b9*conjugate(w^9)+b10*conjugate(w^(10))+b11*conjugate(w^(11))+b12*conjugate(w^12)+b13*conjugate(w^13)+b14*conjugate(w^14)+b15*conjugate(w^15)+b16*conjugate(w^16)+b17*conjugate(w^17)+b18*conjugate(w^18)+b19*conjugate(w^19)+b20*conjugate(w^20)+b21*conjugate(w^21)+b22*conjugate(w^22)+b23*conjugate(w^23);\n",
    "H=matrix(Pol,3,3,[[a,-cconj,c],[-c,a,cconj],[cconj,c,a]]); print(H)"
   ]
  },
  {
   "cell_type": "code",
   "execution_count": 31,
   "metadata": {},
   "outputs": [],
   "source": [
    "R1ob1=list();\n",
    "R1ob2=list();\n",
    "for i in range(len(ob1)):\n",
    "    aux=matrix(K,3,3,[[1,-Parameters[ob1[i]][1],Parameters[ob1[i]][1]],[0,1-Parameters[ob1[i]][2],Parameters[ob1[i]][2]],[0,1-Parameters[ob1[i]][2]-Parameters[ob1[i]][0],Parameters[ob1[i]][2]+Parameters[ob1[i]][0]]])\n",
    "    R1ob1.append(aux)\n",
    "for i in range(len(ob2)):\n",
    "    aux=matrix(K,3,3,[[1,-Parameters[ob2[i]][1],Parameters[ob2[i]][1]],[0,1-Parameters[ob2[i]][2],Parameters[ob2[i]][2]],[0,1-Parameters[ob2[i]][2]-Parameters[ob2[i]][0],Parameters[ob2[i]][2]+Parameters[ob2[i]][0]]])\n",
    "    R1ob2.append(aux)"
   ]
  },
  {
   "cell_type": "markdown",
   "metadata": {},
   "source": [
    "For each orbit we compute the system of equations, and use Groebner basis for each element on the orbit."
   ]
  },
  {
   "cell_type": "code",
   "execution_count": 32,
   "metadata": {},
   "outputs": [
    {
     "data": {
      "text/plain": [
       "[[a + (w^23 - 4*w^22 + 2*w^21 - w^20 - 2*w^16 + 3*w^14 + w^11 - 2*w^9 + 3*w^8 + 2*w^7 - 2*w^6 - w^2 + 3*w - 4)*b1 + (3*w^22 - 6*w^21 + 6*w^20 - w^19 - 2*w^17 + 2*w^15 - 4*w^14 + 3*w^13 + 2*w^12 - 4*w^11 - w^10 + 4*w^9 - 4*w^8 + w^7 + 2*w^6 - 2*w^5 - 2*w^3 + 7*w^2 - 5*w + 2)*b2 + (-2*w^22 + 7*w^21 - 8*w^20 + 6*w^19 - 3*w^18 + 2*w^16 - 4*w^15 + 4*w^14 - 2*w^13 - w^12 + 2*w^11 - 3*w^9 + 4*w^8 - 4*w^7 + w^6 + 2*w^5 - 4*w^4 + 7*w^3 - 8*w^2 + 6*w - 1)*b3 + (-w^23 + 4*w^22 - 4*w^21 + 8*w^20 - 10*w^19 + 6*w^18 + w^17 - 4*w^16 + 4*w^15 - 3*w^14 - 2*w^12 + 2*w^11 - 4*w^8 + 4*w^7 - 4*w^6 - w^5 + 9*w^4 - 10*w^3 + 7*w^2 - 4*w + 4)*b4 + (-3*w^22 + 6*w^21 - 10*w^20 + 8*w^19 - 6*w^18 + 2*w^17 + 3*w^16 - 4*w^15 + 4*w^14 - 3*w^13 + 2*w^12 + 2*w^10 - 2*w^9 + 4*w^8 - 4*w^7 + 2*w^6 + 3*w^5 - 7*w^4 + 10*w^3 - 10*w^2 + 5*w - 2)*b5 + (2*w^22 - 9*w^21 + 8*w^20 - 6*w^19 + 4*w^18 - 4*w^17 + 2*w^16 + 3*w^15 - 6*w^14 + 6*w^13 - w^12 - 2*w^10 + 6*w^9 - 4*w^8 + 2*w^7 + 3*w^6 - 4*w^5 + 4*w^4 - 7*w^3 + 10*w^2 - 8*w + 1)*b6 + (w^23 - 6*w^22 + 4*w^21 - 6*w^20 + 4*w^19 - 4*w^18 + 4*w^17 - 4*w^16 + 6*w^14 - 4*w^13 + 4*w^12 - 2*w^11 + 4*w^10 - 4*w^9 + 5*w^8 + 3*w^7 - 4*w^6 + 4*w^5 - 4*w^4 + 4*w^3 - 6*w^2 + 6*w - 6)*b7 + (3*w^22 - 4*w^21 + 6*w^20 - 4*w^19 + 4*w^18 - 4*w^17 + 2*w^16 - 4*w^14 + 4*w^13 - 4*w^12 + 2*w^11 - 4*w^10 + 4*w^9 - 3*w^8 - w^7 + 4*w^6 - 4*w^5 + 4*w^4 - 4*w^3 + 6*w^2 - 4*w + 4)*b8 + (-2*w^23 + 2*w^22 + 5*w^21 - 6*w^20 + 6*w^19 - 4*w^18 + 2*w^17 - 2*w^15 + 2*w^14 - 4*w^13 + 2*w^12 - 2*w^11 + 2*w^10 - 3*w^9 + 2*w^8 - 2*w^7 - w^6 + 4*w^5 - 4*w^4 + 6*w^3 - 6*w^2 + 4*w + 2)*b9 + (2*w^21 + 3*w^20 - 6*w^19 + 4*w^18 - 2*w^16 - 4*w^12 + 4*w^11 - w^10 - 2*w^9 + 2*w^7 - 2*w^6 - w^5 + 6*w^4 - 4*w^3 + 2*w^2 + 2)*b10 + (-2*w^21 + w^19 - 2*w^18 + 2*w^12 - w^11 + 2*w^9 + 2*w^6 - w^4 + 2*w^3 - 2)*b11 + (2*w^23 - 2*w^22 - 2*w^21 - 2*w^20 + 4*w^19 - 3*w^18 - 2*w^17 + 2*w^16 - 2*w^14 + 2*w^13 + 3*w^12 - 4*w^11 + 2*w^10 + 2*w^9 + 2*w^6 + 2*w^5 - 4*w^4 + 3*w^3 + 2*w^2 - 2*w - 2)*b12 + (-4*w^21 + 4*w^20 - 6*w^19 + 4*w^18 - w^17 - 2*w^16 + 2*w^15 + w^13 - 2*w^12 + 4*w^11 - 2*w^10 + 2*w^9 + 2*w^7 - 2*w^5 + 6*w^4 - 6*w^3 + 3*w^2 - 2)*b13 + (-2*w^22 + 6*w^21 - 6*w^20 + 4*w^19 - 4*w^18 + 4*w^17 - w^16 - 2*w^15 + 3*w^14 - 4*w^13 + 2*w^12 - 2*w^11 + 4*w^10 - 4*w^9 + 2*w^8 - 2*w^6 + 4*w^5 - 4*w^4 + 6*w^3 - 6*w^2 + 3*w + 2)*b14 + (-4*w^23 + 6*w^22 - 4*w^21 + 4*w^20 - 4*w^19 + 4*w^18 - 4*w^17 + 4*w^16 - 4*w^14 + 4*w^13 - 4*w^12 + 4*w^11 - 4*w^10 + 4*w^9 - 2*w^8 - 2*w^7 + 4*w^6 - 4*w^5 + 4*w^4 - 4*w^3 + 4*w^2 - 4*w + 5)*b15 + (w^23 - 6*w^22 + 8*w^21 - 7*w^20 + 4*w^19 - 4*w^18 + 4*w^17 - 3*w^16 - 2*w^15 + 6*w^14 - 4*w^13 + 2*w^12 - w^11 + 4*w^10 - 6*w^9 + 5*w^8 + 2*w^7 - 4*w^6 + 4*w^5 - 4*w^4 + 6*w^3 - 7*w^2 + 6*w - 2)*b16 + (3*w^22 - 10*w^21 + 10*w^20 - 7*w^19 + 4*w^18 - 3*w^17 - 2*w^16 + 4*w^15 - 4*w^14 + 4*w^13 - 3*w^10 + 6*w^9 - 4*w^8 + 3*w^7 + 2*w^6 - 4*w^5 + 6*w^4 - 8*w^3 + 10*w^2 - 5*w)*b17 + (2*w^23 - 4*w^22 + 5*w^21 - 10*w^20 + 10*w^19 - 6*w^18 - 2*w^17 + 4*w^16 - 4*w^15 + 2*w^14 + 2*w^12 - 2*w^11 + 2*w^10 - w^9 + 4*w^8 - 4*w^7 + 3*w^6 + 4*w^5 - 8*w^4 + 10*w^3 - 6*w^2 + 4*w - 3)*b18 + (-w^23 + 4*w^22 - 6*w^21 + 8*w^20 - 9*w^19 + 4*w^18 + w^17 - 4*w^16 + 4*w^15 - 3*w^14 + w^11 + 2*w^9 - 4*w^8 + 4*w^7 - 2*w^6 - w^5 + 8*w^4 - 8*w^3 + 7*w^2 - 4*w + 2)*b19 + (-3*w^22 + 8*w^21 - 7*w^20 + 2*w^19 - 2*w^18 + 2*w^17 + w^16 - 4*w^15 + 4*w^14 - 3*w^13 - 2*w^12 + 4*w^11 + w^10 - 4*w^9 + 4*w^8 - 2*w^7 + 2*w^5 - w^4 + 6*w^3 - 8*w^2 + 5*w)*b20 + (-2*w^23 + 4*w^22 - 4*w^21 + 2*w^20 - 2*w^17 + 2*w^16 + w^15 - 4*w^14 + 2*w^13 + w^12 - 2*w^11 + 3*w^9 - 2*w^8 + 2*w^6 - w^3 + 4*w^2 - 4*w + 3)*b21 + (w^23 - 3*w^22 - 2*w^16 + 2*w^14 + 2*w^8 + 2*w^7 + 2*w - 2)*b22 + (w^23 - 3*w^22 - 2*w^16 + 2*w^14 + 2*w^8 + 2*w^7 + 2*w - 2)*b23, b0 + (-2*w^23 + 4*w^22 - w^21 + w^20 + w^16 - 2*w^14 - w^11 + w^9 - 2*w^8 - w^7 + w^6 + w^2 - 2*w + 4)*b1 + (-3*w^22 + 7*w^21 - 5*w^20 + w^19 + w^17 - 3*w^15 + 4*w^14 - 2*w^13 - 3*w^12 + 4*w^11 - 4*w^9 + 4*w^8 - w^7 - w^6 + w^5 + 3*w^3 - 6*w^2 + 5*w - 1)*b2 + (3*w^22 - 7*w^21 + 8*w^20 - 5*w^19 + 2*w^18 - 3*w^16 + 4*w^15 - 4*w^14 + w^13 + 2*w^12 - 3*w^11 + 3*w^9 - 4*w^8 + 4*w^7 - w^6 - w^5 + 4*w^4 - 6*w^3 + 8*w^2 - 5*w + 1)*b3 + (2*w^23 - 4*w^22 + 4*w^21 - 8*w^20 + 9*w^19 - 5*w^18 - 2*w^17 + 4*w^16 - 4*w^15 + 2*w^14 + w^12 - w^11 + 4*w^8 - 4*w^7 + 4*w^6 + 2*w^5 - 7*w^4 + 9*w^3 - 6*w^2 + 4*w - 4)*b4 + (3*w^22 - 7*w^21 + 9*w^20 - 8*w^19 + 5*w^18 - w^17 - 3*w^16 + 4*w^15 - 4*w^14 + 2*w^13 - w^12 - w^10 + 3*w^9 - 4*w^8 + 4*w^7 - w^6 - 2*w^5 + 7*w^4 - 9*w^3 + 9*w^2 - 5*w + 1)*b5 + (-3*w^22 + 8*w^21 - 8*w^20 + 5*w^19 - 4*w^18 + 4*w^17 - w^16 - 3*w^15 + 5*w^14 - 5*w^13 + w^12 + 3*w^10 - 5*w^9 + 4*w^8 - w^7 - 2*w^6 + 4*w^5 - 4*w^4 + 7*w^3 - 9*w^2 + 6*w - 1)*b6 + (-2*w^23 + 5*w^22 - 4*w^21 + 5*w^20 - 4*w^19 + 4*w^18 - 4*w^17 + 4*w^16 - 5*w^14 + 4*w^13 - 4*w^12 + 3*w^11 - 4*w^10 + 4*w^9 - 3*w^8 - 2*w^7 + 4*w^6 - 4*w^5 + 4*w^4 - 4*w^3 + 5*w^2 - 5*w + 5)*b7 + (-3*w^22 + 4*w^21 - 5*w^20 + 4*w^19 - 4*w^18 + 4*w^17 - 3*w^16 + 4*w^14 - 4*w^13 + 4*w^12 - 3*w^11 + 4*w^10 - 4*w^9 + 3*w^8 + 2*w^7 - 4*w^6 + 4*w^5 - 4*w^4 + 4*w^3 - 5*w^2 + 4*w - 2)*b8 + (w^23 - w^22 - 4*w^21 + 5*w^20 - 5*w^19 + 4*w^18 - 3*w^17 + w^15 - w^14 + 4*w^13 - 3*w^12 + 3*w^11 - 3*w^10 + 3*w^9 - w^8 + w^7 + 2*w^6 - 4*w^5 + 4*w^4 - 5*w^3 + 5*w^2 - 2*w - 1)*b9 + (-w^21 - 3*w^20 + 5*w^19 - 4*w^18 + w^16 + 4*w^12 - 4*w^11 + 2*w^10 + w^9 - w^7 + w^6 + 2*w^5 - 5*w^4 + 4*w^3 - w^2 - 1)*b10 + (w^21 - 2*w^19 + w^18 - w^12 + 2*w^11 - w^9 - w^6 + 2*w^4 - w^3 + 1)*b11 + (-w^23 + w^22 + w^21 + w^20 - 4*w^19 + 2*w^18 + w^17 - w^16 + w^14 - w^13 - 2*w^12 + 4*w^11 - w^10 - w^9 - w^6 - w^5 + 4*w^4 - 2*w^3 - w^2 + w + 1)*b12 + (2*w^21 - 4*w^20 + 5*w^19 - 4*w^18 + w^17 + w^16 - w^15 - w^13 + 3*w^12 - 4*w^11 + 3*w^10 - w^9 - w^7 + 3*w^5 - 5*w^4 + 5*w^3 - 2*w^2 + 1)*b13 + (w^22 - 5*w^21 + 5*w^20 - 4*w^19 + 4*w^18 - 4*w^17 + w^16 + w^15 - 2*w^14 + 4*w^13 - 3*w^12 + 3*w^11 - 4*w^10 + 4*w^9 - w^8 + 3*w^6 - 4*w^5 + 4*w^4 - 5*w^3 + 5*w^2 - 2*w - 1)*b14 + (2*w^23 - 5*w^22 + 4*w^21 - 4*w^20 + 4*w^19 - 4*w^18 + 4*w^17 - 4*w^16 + 4*w^14 - 4*w^13 + 4*w^12 - 4*w^11 + 4*w^10 - 4*w^9 + 3*w^8 + 3*w^7 - 4*w^6 + 4*w^5 - 4*w^4 + 4*w^3 - 4*w^2 + 4*w - 3)*b15 + (-2*w^23 + 5*w^22 - 6*w^21 + 6*w^20 - 4*w^19 + 4*w^18 - 4*w^17 + 3*w^16 + w^15 - 5*w^14 + 4*w^13 - 3*w^12 + 2*w^11 - 4*w^10 + 5*w^9 - 3*w^8 - w^7 + 4*w^6 - 4*w^5 + 4*w^4 - 5*w^3 + 6*w^2 - 5*w + 3)*b16 + (-3*w^22 + 9*w^21 - 9*w^20 + 6*w^19 - 4*w^18 + 3*w^17 + w^16 - 4*w^15 + 4*w^14 - 4*w^13 + 3*w^10 - 5*w^9 + 4*w^8 - 2*w^7 - w^6 + 4*w^5 - 5*w^4 + 8*w^3 - 9*w^2 + 5*w)*b17 + (-w^23 + 4*w^22 - 6*w^21 + 9*w^20 - 9*w^19 + 5*w^18 + w^17 - 4*w^16 + 4*w^15 - 3*w^14 - w^12 + w^11 - w^10 + 2*w^9 - 4*w^8 + 4*w^7 - 2*w^6 - 2*w^5 + 8*w^4 - 9*w^3 + 7*w^2 - 4*w + 2)*b18 + (2*w^23 - 4*w^22 + 5*w^21 - 8*w^20 + 8*w^19 - 4*w^18 - 2*w^17 + 4*w^16 - 4*w^15 + 2*w^14 - w^9 + 4*w^8 - 4*w^7 + 3*w^6 + 2*w^5 - 6*w^4 + 8*w^3 - 6*w^2 + 4*w - 3)*b19 + (3*w^22 - 8*w^21 + 7*w^20 - 3*w^19 + w^18 - w^17 - 2*w^16 + 4*w^15 - 4*w^14 + 2*w^13 + 3*w^12 - 4*w^11 + 4*w^9 - 4*w^8 + 3*w^7 - w^5 + 2*w^4 - 5*w^3 + 8*w^2 - 5*w)*b20 + (w^23 - 4*w^22 + 5*w^21 - 3*w^20 + w^17 - w^16 - 2*w^15 + 4*w^14 - w^13 - 2*w^12 + 3*w^11 - 3*w^9 + 3*w^8 - w^6 + 2*w^3 - 4*w^2 + 4*w - 2)*b21 + (-2*w^23 + 3*w^22 + w^16 - w^14 - w^8 - w^7 - w + 3)*b22 + (-w^23 + 2*w^22 + w^16 - w^14 - w^8 - w^7 - w + 3)*b23],\n",
       " [a + (-5*w^23 + 4*w^22 + 2*w^21 - w^20 + 8*w^19 - 6*w^18 - 4*w^17 + 10*w^16 - 4*w^15 - 5*w^14 + 4*w^13 + 2*w^12 - 3*w^11 - 4*w^10 + 2*w^9 + w^8 - 4*w^7 + 6*w^6 - 4*w^5 - 8*w^4 + 10*w^3 - w^2 - 5*w + 6)*b1 + (-2*w^23 - 3*w^22 + 8*w^21 + 4*w^20 - 7*w^19 + 4*w^18 + 4*w^17 - 8*w^16 + 6*w^14 - 3*w^13 - 4*w^12 + 4*w^11 - w^10 - 8*w^9 + 4*w^8 + 7*w^7 - 8*w^6 - 2*w^5 + 6*w^4 - 4*w^3 - w^2 + 5*w)*b2 + (2*w^23 + 2*w^22 + w^21 + 2*w^20 + 3*w^18 - 6*w^16 + 2*w^14 - 2*w^13 - 3*w^12 - 2*w^11 - w^9 - 2*w^8 - w^6 + 2*w^5 + 2*w^4 - 3*w^3 + 2*w^2 + 4*w + 1)*b3 + (3*w^23 + 6*w^22 - 6*w^21 - 4*w^20 + 12*w^19 - 4*w^18 - 7*w^17 + 8*w^16 - 2*w^15 - 7*w^14 + 2*w^13 + 2*w^12 - 6*w^11 - 2*w^10 + 8*w^9 - 4*w^8 - 10*w^7 + 10*w^6 + 3*w^5 - 7*w^4 + 6*w^3 + w^2 - 2*w + 2)*b4 + (2*w^23 - 5*w^22 - 2*w^21 + 2*w^20 - 8*w^19 + 2*w^18 + 4*w^17 - 3*w^16 + 4*w^15 - 3*w^13 + 2*w^12 + 4*w^11 + 2*w^10 - 2*w^9 + 2*w^8 + 6*w^7 - 6*w^6 + w^5 + 7*w^4 - 6*w^3 - w - 6)*b5 + (-2*w^23 - 6*w^22 + w^21 - 8*w^19 + 6*w^17 + w^15 + 2*w^14 + w^12 + 4*w^11 + 4*w^10 - 2*w^9 + 2*w^8 + 6*w^7 - 3*w^6 - 2*w^5 + 2*w^4 - w^3 - 2*w^2 - 4*w - 5)*b6 + (-3*w^23 + 4*w^22 - 2*w^21 - 4*w^20 + 8*w^19 - 4*w^18 - 4*w^17 + 10*w^16 - 4*w^15 - 4*w^14 + 6*w^13 - 4*w^11 + 6*w^9 - 3*w^8 - 7*w^7 + 10*w^6 - 2*w^5 - 10*w^4 + 8*w^3 - 6*w + 4)*b7 + (2*w^23 + w^22 + 2*w^21 + 2*w^20 + 4*w^18 - 8*w^16 + 2*w^15 + 4*w^14 - 4*w^13 - 2*w^12 - 2*w^10 - 4*w^9 + w^8 + w^7 - 6*w^6 + 2*w^5 + 4*w^4 - 6*w^3 + 8*w + 2)*b8 + (2*w^23 + 3*w^21 + 4*w^20 - 2*w^19 + 4*w^18 - 8*w^16 + 2*w^15 + 4*w^14 - 4*w^13 - 2*w^12 + 2*w^11 - 4*w^10 - 5*w^9 + 2*w^8 + 2*w^7 - 7*w^6 + 6*w^4 - 6*w^3 + 8*w + 2)*b9 + (-4*w^23 + 4*w^22 - 3*w^20 + 8*w^19 - 6*w^18 - 4*w^17 + 10*w^16 - 4*w^15 - 4*w^14 + 6*w^13 + 2*w^12 - 4*w^11 - w^10 + 4*w^9 - 2*w^8 - 6*w^7 + 8*w^6 - 3*w^5 - 10*w^4 + 10*w^3 - 6*w + 4)*b10 + (-2*w^23 - 4*w^22 + 2*w^21 - 7*w^19 + 4*w^17 + 2*w^14 + 2*w^13 + 3*w^11 + 4*w^10 - 2*w^9 + 4*w^7 - 2*w^6 - 2*w^5 + w^4 - 4*w - 4)*b11 + (4*w^23 - 4*w^22 - 2*w^21 + 2*w^20 - 8*w^19 + 3*w^18 + 4*w^17 - 6*w^16 + 4*w^15 + 2*w^14 - 4*w^13 + w^12 + 4*w^11 + 2*w^10 - 2*w^9 + 4*w^7 - 6*w^6 + 2*w^5 + 8*w^4 - 7*w^3 + 2*w - 6)*b12 + (4*w^23 + 6*w^22 - 8*w^21 - 4*w^20 + 12*w^19 - 4*w^18 - 7*w^17 + 8*w^16 - 8*w^14 + w^13 + 4*w^12 - 6*w^11 - 2*w^10 + 8*w^9 - 4*w^8 - 10*w^7 + 8*w^6 + 4*w^5 - 6*w^4 + 4*w^3 + w^2 - 2*w + 2)*b13 + (2*w^18 - w^16 + w^14 - 2*w^12 - 2*w^3 + w)*b14 + (-4*w^23 - 6*w^22 + 8*w^21 + 4*w^20 - 10*w^19 + 4*w^18 + 8*w^17 - 8*w^16 + 8*w^14 - 2*w^13 - 4*w^12 + 4*w^11 + 2*w^10 - 8*w^9 + 4*w^8 + 10*w^7 - 8*w^6 - 4*w^5 + 4*w^4 - 4*w^3 - 2*w^2 + 2*w - 1)*b15 + (-5*w^23 + 4*w^22 + 2*w^21 - w^20 + 8*w^19 - 4*w^18 - 4*w^17 + 9*w^16 - 4*w^15 - 4*w^14 + 4*w^13 - 3*w^11 - 4*w^10 + 2*w^9 + w^8 - 4*w^7 + 6*w^6 - 4*w^5 - 8*w^4 + 8*w^3 - w^2 - 4*w + 6)*b16 + (2*w^23 + 3*w^22 + 5*w^19 - 3*w^17 - 2*w^14 - 2*w^13 - 2*w^11 - 3*w^10 - 3*w^7 + 2*w^5 + 3*w + 2)*b17 + (6*w^23 - 2*w^22 - w^21 + 4*w^20 - 8*w^19 + 6*w^18 + 4*w^17 - 12*w^16 + 4*w^15 + 4*w^14 - 6*w^13 - 2*w^12 + 2*w^11 + 2*w^10 - 3*w^9 - 2*w^8 + 4*w^7 - 7*w^6 + 4*w^5 + 10*w^4 - 10*w^3 + 2*w^2 + 6*w - 5)*b18 + (w^23 + 2*w^22 - 4*w^21 - 4*w^20 + 5*w^19 - 4*w^18 - 3*w^17 + 8*w^16 - 2*w^15 - 5*w^14 + 4*w^13 + 2*w^12 - 3*w^11 + 2*w^10 + 6*w^9 - 4*w^8 - 6*w^7 + 8*w^6 + w^5 - 6*w^4 + 6*w^3 + w^2 - 6*w - 2)*b19 + (-2*w^23 - w^22 - 2*w^21 - w^20 - 4*w^18 + 7*w^16 - 4*w^14 + 3*w^13 + 4*w^12 + w^10 + 2*w^9 + 2*w^6 - 2*w^5 - 3*w^4 + 4*w^3 - 7*w - 2)*b20 + (-6*w^22 + 4*w^21 + 4*w^20 - 10*w^19 + 4*w^18 + 6*w^17 - 8*w^16 + 3*w^15 + 6*w^14 - 4*w^13 - w^12 + 6*w^11 - 7*w^9 + 4*w^8 + 8*w^7 - 10*w^6 - 2*w^5 + 8*w^4 - 7*w^3 - 2*w^2 + 4*w - 3)*b21 + (-w^23 + 5*w^22 - 2*w^20 + 8*w^19 - 4*w^17 + 2*w^16 - 2*w^15 + 2*w^13 - 2*w^12 - 4*w^11 - 2*w^10 + 2*w^9 - 2*w^8 - 6*w^7 + 4*w^6 - 6*w^4 + 2*w^3 + 2*w + 6)*b22 + (-w^23 + 5*w^22 - 2*w^20 + 8*w^19 - 4*w^17 + 2*w^16 - 2*w^15 + 2*w^13 - 2*w^12 - 4*w^11 - 2*w^10 + 2*w^9 - 2*w^8 - 6*w^7 + 4*w^6 - 6*w^4 + 2*w^3 + 2*w + 6)*b23, b0 + (5*w^23 - 4*w^22 - 3*w^21 + w^20 - 8*w^19 + 5*w^18 + 4*w^17 - 9*w^16 + 4*w^15 + 4*w^14 - 4*w^13 - w^12 + 3*w^11 + 4*w^10 - w^9 - w^8 + 4*w^7 - 5*w^6 + 4*w^5 + 8*w^4 - 9*w^3 + w^2 + 4*w - 7)*b1 + (3*w^23 + 2*w^22 - 8*w^21 - 4*w^20 + 6*w^19 - 4*w^18 - 4*w^17 + 8*w^16 - 7*w^14 + 3*w^13 + 4*w^12 - 4*w^11 + 2*w^10 + 8*w^9 - 4*w^8 - 6*w^7 + 8*w^6 + 3*w^5 - 5*w^4 + 4*w^3 + 2*w^2 - 6*w - 2)*b2 + (-w^23 - w^22 - 2*w^21 - w^20 - 3*w^18 + 5*w^16 - 3*w^14 + w^13 + 3*w^12 + w^11 + 2*w^9 + w^8 + 2*w^6 - w^5 - w^4 + 3*w^3 - w^2 - 4*w - 2)*b3 + (-2*w^23 - 5*w^22 + 7*w^21 + 4*w^20 - 10*w^19 + 4*w^18 + 6*w^17 - 8*w^16 + w^15 + 6*w^14 - 3*w^13 - 3*w^12 + 5*w^11 + w^10 - 8*w^9 + 4*w^8 + 9*w^7 - 9*w^6 - 2*w^5 + 7*w^4 - 5*w^3 - w^2 + 3*w - 1)*b4 + (-3*w^23 + 6*w^22 + 3*w^21 - w^20 + 8*w^19 - w^18 - 4*w^17 + 2*w^16 - 4*w^15 + 2*w^13 - 3*w^12 - 4*w^11 - 3*w^10 + w^9 - w^8 - 5*w^7 + 5*w^6 - w^5 - 6*w^4 + 5*w^3 + 2*w + 7)*b5 + (w^23 + 5*w^22 + w^21 + 8*w^19 - 5*w^17 - 2*w^15 - w^14 - 2*w^12 - 4*w^11 - 4*w^10 + w^9 - w^8 - 5*w^7 + 3*w^6 + w^5 - 3*w^4 + 2*w^3 + w^2 + 4*w + 6)*b6 + (2*w^23 - 4*w^22 + w^21 + 4*w^20 - 8*w^19 + 4*w^18 + 4*w^17 - 9*w^16 + 4*w^15 + 4*w^14 - 5*w^13 + 4*w^11 - 5*w^9 + 3*w^8 + 7*w^7 - 9*w^6 + w^5 + 9*w^4 - 8*w^3 + 5*w - 4)*b7 + (-w^23 - 2*w^22 - 3*w^21 - 3*w^20 - 4*w^18 + 8*w^16 - w^15 - 4*w^14 + 4*w^13 + 3*w^12 + 3*w^10 + 4*w^9 - w^8 - w^7 + 5*w^6 - w^5 - 4*w^4 + 5*w^3 - 8*w - 3)*b8 + (-w^23 - 5*w^21 - 4*w^20 + w^19 - 4*w^18 + 8*w^16 - w^15 - 4*w^14 + 4*w^13 + 3*w^12 - w^11 + 4*w^10 + 6*w^9 - 3*w^8 - 3*w^7 + 7*w^6 - 5*w^4 + 5*w^3 - 8*w - 3)*b9 + (4*w^23 - 4*w^22 + 2*w^20 - 8*w^19 + 5*w^18 + 4*w^17 - 9*w^16 + 4*w^15 + 4*w^14 - 5*w^13 - w^12 + 4*w^11 + 2*w^10 - 4*w^9 + w^8 + 5*w^7 - 8*w^6 + 3*w^5 + 9*w^4 - 9*w^3 + 5*w - 4)*b10 + (w^23 + 4*w^22 - w^21 + 6*w^19 - 4*w^17 - w^14 - w^13 - 2*w^11 - 4*w^10 + w^9 - 4*w^7 + w^6 + w^5 - w^4 + 4*w + 4)*b11 + (-4*w^23 + 4*w^22 + 3*w^21 - w^20 + 8*w^19 - 3*w^18 - 4*w^17 + 5*w^16 - 4*w^15 - w^14 + 4*w^13 - w^12 - 4*w^11 - 3*w^10 + w^9 - 4*w^7 + 5*w^6 - 3*w^5 - 8*w^4 + 7*w^3 - w + 7)*b12 + (-4*w^23 - 5*w^22 + 8*w^21 + 4*w^20 - 10*w^19 + 4*w^18 + 6*w^17 - 8*w^16 + 8*w^14 - w^13 - 4*w^12 + 5*w^11 + w^10 - 8*w^9 + 4*w^8 + 9*w^7 - 8*w^6 - 4*w^5 + 5*w^4 - 4*w^3 - w^2 + 3*w - 1)*b13 + (-w^18 + w^16 - w^14 + w^12 + w^3 - w)*b14 + (4*w^23 + 5*w^22 - 8*w^21 - 4*w^20 + 9*w^19 - 4*w^18 - 6*w^17 + 8*w^16 - 8*w^14 + w^13 + 4*w^12 - 4*w^11 - w^10 + 8*w^9 - 4*w^8 - 9*w^7 + 8*w^6 + 4*w^5 - 4*w^4 + 4*w^3 + w^2 - 3*w)*b15 + (5*w^23 - 4*w^22 - 3*w^21 + w^20 - 8*w^19 + 4*w^18 + 4*w^17 - 7*w^16 + 4*w^15 + 2*w^14 - 4*w^13 + 3*w^11 + 4*w^10 - w^9 - w^8 + 4*w^7 - 5*w^6 + 4*w^5 + 8*w^4 - 8*w^3 + w^2 + 2*w - 7)*b16 + (-w^23 - 3*w^22 - 4*w^19 + 3*w^17 + w^14 + w^13 + w^11 + 3*w^10 + 3*w^7 - w^5 - 3*w - 3)*b17 + (-5*w^23 + 3*w^22 + w^21 - 2*w^20 + 8*w^19 - 5*w^18 - 4*w^17 + 10*w^16 - 4*w^15 - 4*w^14 + 5*w^13 + w^12 - 3*w^11 - 3*w^10 + 3*w^9 + w^8 - 4*w^7 + 7*w^6 - 4*w^5 - 9*w^4 + 9*w^3 - w^2 - 5*w + 5)*b18 + (-w^23 - w^22 + 6*w^21 + 4*w^20 - 3*w^19 + 4*w^18 + 2*w^17 - 8*w^16 + w^15 + 5*w^14 - 4*w^13 - 3*w^12 + 2*w^11 - 3*w^10 - 7*w^9 + 4*w^8 + 5*w^7 - 8*w^6 - w^5 + 5*w^4 - 5*w^3 - w^2 + 7*w + 3)*b19 + (w^23 + 2*w^22 + 3*w^21 + 2*w^20 + 4*w^18 - 7*w^16 + 4*w^14 - 3*w^13 - 4*w^12 - 2*w^10 - 3*w^9 - 3*w^6 + w^5 + 3*w^4 - 4*w^3 + 7*w + 3)*b20 + (5*w^22 - 3*w^21 - 4*w^20 + 9*w^19 - 4*w^18 - 5*w^17 + 8*w^16 - 3*w^15 - 5*w^14 + 4*w^13 + w^12 - 5*w^11 + 6*w^9 - 4*w^8 - 8*w^7 + 9*w^6 + w^5 - 8*w^4 + 7*w^3 + w^2 - 4*w + 3)*b21 + (w^23 - 5*w^22 - 2*w^21 + w^20 - 8*w^19 + 4*w^17 - w^16 + 3*w^15 - w^13 + 3*w^12 + 4*w^11 + 3*w^10 - w^9 + w^8 + 5*w^7 - 4*w^6 + 5*w^4 - 3*w^3 - 3*w - 7)*b22 + (2*w^23 - 6*w^22 - 2*w^21 + w^20 - 8*w^19 + 4*w^17 - w^16 + 3*w^15 - w^13 + 3*w^12 + 4*w^11 + 3*w^10 - w^9 + w^8 + 5*w^7 - 4*w^6 + 5*w^4 - 3*w^3 - 3*w - 7)*b23],\n",
       " [a + (7*w^23 + 10*w^22 + 6*w^21 + 7*w^20 + 4*w^19 - 4*w^18 - 8*w^17 - 6*w^16 - 2*w^15 - 5*w^14 - 4*w^13 + 2*w^12 - 3*w^11 - 8*w^10 - 4*w^9 - 5*w^8 - 6*w^7 - 2*w^6 + 4*w^5 + 8*w^4 + 6*w^3 + 7*w^2 + 7*w + 2)*b1 + (8*w^23 + 13*w^22 + 10*w^21 + 8*w^20 + 3*w^19 - 4*w^18 - 10*w^17 - 10*w^16 - 4*w^15 - 4*w^14 - 3*w^13 - 4*w^11 - 7*w^10 - 6*w^9 - 8*w^8 - 7*w^7 - 2*w^6 + 6*w^5 + 10*w^4 + 8*w^3 + 11*w^2 + 9*w)*b2 + (6*w^23 + 8*w^22 + 7*w^21 + 6*w^20 - 3*w^18 - 6*w^17 - 8*w^16 - 4*w^15 - 2*w^14 - w^12 - 4*w^11 - 2*w^10 - 3*w^9 - 8*w^8 - 4*w^7 + w^6 + 4*w^5 + 6*w^4 + 7*w^3 + 10*w^2 + 4*w - 1)*b3 + (w^23 - 2*w^21 - 2*w^18 - w^17 - w^14 + 2*w^12 + 2*w^9 + 2*w^6 + w^5 + w^4 + 2*w^3 + w^2 - 2)*b4 + (-4*w^23 - 9*w^22 - 8*w^21 - 6*w^20 - 2*w^19 + 2*w^18 + 4*w^17 + 7*w^16 + 4*w^15 + w^13 + 2*w^12 + 4*w^11 + 4*w^10 + 4*w^9 + 8*w^8 + 6*w^7 - w^5 - 3*w^4 - 6*w^3 - 6*w^2 - 5*w)*b5 + (-10*w^23 - 12*w^22 - 9*w^21 - 10*w^20 - 4*w^19 + 4*w^18 + 10*w^17 + 8*w^16 + 3*w^15 + 6*w^14 + 2*w^13 - w^12 + 6*w^11 + 8*w^10 + 6*w^9 + 10*w^8 + 8*w^7 + 3*w^6 - 4*w^5 - 8*w^4 - 7*w^3 - 12*w^2 - 6*w + 1)*b6 + (-9*w^23 - 10*w^22 - 4*w^21 - 8*w^20 - 4*w^19 + 4*w^18 + 8*w^17 + 6*w^16 + 6*w^14 + 4*w^13 - 4*w^12 + 4*w^11 + 8*w^10 + 4*w^9 + 7*w^8 + 7*w^7 + 4*w^6 - 4*w^5 - 8*w^4 - 4*w^3 - 8*w^2 - 6*w + 4)*b7 + (-4*w^23 - w^22 - 2*w^20 + 2*w^14 + 2*w^11 + 5*w^8 + 3*w^7 - 2*w^2 + 2*w + 2)*b8 + (6*w^23 + 6*w^22 + 5*w^21 + 6*w^20 + 2*w^19 - 4*w^18 - 8*w^17 - 6*w^16 - 2*w^15 - 4*w^14 - 2*w^13 + 2*w^12 - 2*w^11 - 6*w^10 - 3*w^9 - 2*w^8 - 2*w^7 - w^6 + 4*w^5 + 8*w^4 + 6*w^3 + 8*w^2 + 6*w + 2)*b9 + (8*w^23 + 12*w^22 + 6*w^21 + 7*w^20 + 2*w^19 - 6*w^18 - 10*w^17 - 10*w^16 - 4*w^15 - 4*w^14 - 2*w^13 + 2*w^12 - 4*w^11 - 5*w^10 - 2*w^9 - 8*w^8 - 6*w^7 + 2*w^6 + 7*w^5 + 10*w^4 + 10*w^3 + 12*w^2 + 8*w - 2)*b10 + (8*w^23 + 8*w^22 + 6*w^21 + 4*w^20 - w^19 - 4*w^18 - 8*w^17 - 8*w^16 - 4*w^15 - 4*w^14 - 3*w^11 - 2*w^9 - 8*w^8 - 4*w^7 + 2*w^6 + 8*w^5 + 9*w^4 + 8*w^3 + 12*w^2 + 4*w - 2)*b11 + (2*w^23 + 2*w^22 - 2*w^21 - 2*w^19 - 3*w^18 - 2*w^17 - 2*w^16 - 2*w^14 - 2*w^13 + 3*w^12 + 2*w^11 + 2*w^9 + 2*w^6 + 4*w^5 + 6*w^4 + 3*w^3 + 2*w^2 + 2*w - 2)*b12 + (-4*w^23 - 8*w^22 - 6*w^21 - 6*w^20 - 2*w^19 + 3*w^17 + 6*w^16 + 2*w^15 + w^13 + 2*w^12 + 4*w^11 + 4*w^10 + 4*w^9 + 8*w^8 + 6*w^7 + 2*w^6 - 2*w^4 - 2*w^3 - 5*w^2 - 4*w + 2)*b13 + (-12*w^23 - 12*w^22 - 8*w^21 - 10*w^20 - 4*w^19 + 4*w^18 + 8*w^17 + 7*w^16 + 2*w^15 + 7*w^14 + 4*w^13 - 2*w^12 + 6*w^11 + 8*w^10 + 6*w^9 + 12*w^8 + 10*w^7 + 4*w^6 - 4*w^5 - 8*w^4 - 6*w^3 - 10*w^2 - 5*w + 2)*b14 + (-10*w^23 - 12*w^22 - 4*w^21 - 8*w^20 - 4*w^19 + 4*w^18 + 8*w^17 + 4*w^16 + 8*w^14 + 4*w^13 - 4*w^12 + 4*w^11 + 8*w^10 + 4*w^9 + 10*w^8 + 10*w^7 + 4*w^6 - 4*w^5 - 8*w^4 - 4*w^3 - 8*w^2 - 4*w + 5)*b15 + (-5*w^23 - 2*w^22 - 2*w^21 - 3*w^20 + w^16 + 2*w^14 + 3*w^11 + 2*w^9 + 7*w^8 + 4*w^7 + 2*w^6 - 3*w^2 + 2*w + 4)*b16 + (4*w^23 + 5*w^22 + 4*w^21 + 2*w^20 + w^19 - 4*w^18 - 7*w^17 - 4*w^16 - 2*w^15 - 4*w^14 - 2*w^13 + 2*w^12 - 3*w^10 - 2*w^9 - w^7 + 6*w^5 + 8*w^4 + 6*w^3 + 6*w^2 + 5*w + 2)*b17 + (8*w^23 + 10*w^22 + 5*w^21 + 6*w^20 - 2*w^19 - 6*w^18 - 8*w^17 - 10*w^16 - 4*w^15 - 4*w^14 - 2*w^13 + 2*w^12 - 2*w^11 - 2*w^10 - w^9 - 8*w^8 - 4*w^7 + 3*w^6 + 8*w^5 + 12*w^4 + 10*w^3 + 12*w^2 + 6*w - 3)*b18 + (9*w^23 + 8*w^22 + 4*w^21 + 4*w^20 - w^19 - 6*w^18 - 9*w^17 - 8*w^16 - 4*w^15 - 5*w^14 + 2*w^12 - 3*w^11 - 8*w^8 - 4*w^7 + 4*w^6 + 9*w^5 + 10*w^4 + 10*w^3 + 13*w^2 + 4*w - 4)*b19 + (4*w^23 + 3*w^22 - 2*w^21 + w^20 - 4*w^18 - 6*w^17 - 3*w^16 - 4*w^14 - w^13 + 4*w^12 - w^10 + 2*w^9 + 2*w^6 + 6*w^5 + 7*w^4 + 4*w^3 + 6*w^2 + 3*w - 2)*b20 + (-4*w^23 - 6*w^22 - 4*w^21 - 4*w^20 - 2*w^19 + 2*w^17 + 2*w^16 + w^15 + 2*w^14 + w^12 + 4*w^11 + 2*w^10 + 3*w^9 + 8*w^8 + 6*w^7 + 2*w^6 - w^3 - 4*w^2 + 3)*b21 + (-13*w^23 - 11*w^22 - 4*w^21 - 10*w^20 - 4*w^19 + 4*w^18 + 8*w^17 + 6*w^16 + 8*w^14 + 4*w^13 - 4*w^12 + 6*w^11 + 8*w^10 + 4*w^9 + 12*w^8 + 10*w^7 + 4*w^6 - 4*w^5 - 8*w^4 - 4*w^3 - 10*w^2 - 4*w + 6)*b22 + (-13*w^23 - 11*w^22 - 4*w^21 - 10*w^20 - 4*w^19 + 4*w^18 + 8*w^17 + 6*w^16 + 8*w^14 + 4*w^13 - 4*w^12 + 6*w^11 + 8*w^10 + 4*w^9 + 12*w^8 + 10*w^7 + 4*w^6 - 4*w^5 - 8*w^4 - 4*w^3 - 10*w^2 - 4*w + 6)*b23, b0 + (-7*w^23 - 9*w^22 - 5*w^21 - 7*w^20 - 4*w^19 + 4*w^18 + 8*w^17 + 5*w^16 + w^15 + 6*w^14 + 4*w^13 - 3*w^12 + 3*w^11 + 8*w^10 + 4*w^9 + 4*w^8 + 5*w^7 + 3*w^6 - 4*w^5 - 8*w^4 - 5*w^3 - 7*w^2 - 6*w - 1)*b1 + (-8*w^23 - 12*w^22 - 9*w^21 - 8*w^20 - 3*w^19 + 4*w^18 + 9*w^17 + 9*w^16 + 4*w^15 + 4*w^14 + 3*w^13 + 4*w^11 + 7*w^10 + 5*w^9 + 8*w^8 + 7*w^7 + w^6 - 5*w^5 - 9*w^4 - 8*w^3 - 10*w^2 - 8*w)*b2 + (-5*w^23 - 8*w^22 - 7*w^21 - 5*w^20 + 2*w^18 + 5*w^17 + 8*w^16 + 4*w^15 + w^14 + 2*w^12 + 4*w^11 + w^10 + 3*w^9 + 8*w^8 + 4*w^7 - w^6 - 4*w^5 - 5*w^4 - 6*w^3 - 9*w^2 - 4*w + 1)*b3 + (-w^23 + w^21 + w^18 + w^17 + w^14 - w^12 - w^9 - w^6 - w^5 - w^4 - w^3 - w^2 + 1)*b4 + (4*w^23 + 8*w^22 + 8*w^21 + 5*w^20 + w^19 - w^18 - 4*w^17 - 7*w^16 - 4*w^15 - 3*w^12 - 4*w^11 - 2*w^10 - 4*w^9 - 8*w^8 - 5*w^7 + 2*w^5 + 3*w^4 + 5*w^3 + 7*w^2 + 4*w)*b5 + (9*w^23 + 12*w^22 + 8*w^21 + 9*w^20 + 4*w^19 - 4*w^18 - 9*w^17 - 8*w^16 - 3*w^15 - 5*w^14 - 3*w^13 + w^12 - 5*w^11 - 8*w^10 - 5*w^9 - 9*w^8 - 8*w^7 - 2*w^6 + 4*w^5 + 8*w^4 + 7*w^3 + 10*w^2 + 7*w - 1)*b6 + (9*w^23 + 9*w^22 + 4*w^21 + 8*w^20 + 4*w^19 - 4*w^18 - 8*w^17 - 5*w^16 - 7*w^14 - 4*w^13 + 4*w^12 - 4*w^11 - 8*w^10 - 4*w^9 - 6*w^8 - 6*w^7 - 4*w^6 + 4*w^5 + 8*w^4 + 4*w^3 + 8*w^2 + 5*w - 2)*b7 + (2*w^23 + w^22 + w^20 - w^14 - w^11 - 3*w^8 - 2*w^7 + w^2 - w - 3)*b8 + (-5*w^23 - 7*w^22 - 4*w^21 - 5*w^20 - 3*w^19 + 4*w^18 + 8*w^17 + 5*w^16 + w^15 + 4*w^14 + 3*w^13 - 3*w^12 + w^11 + 7*w^10 + 3*w^9 + w^8 + 3*w^7 + 2*w^6 - 4*w^5 - 8*w^4 - 5*w^3 - 6*w^2 - 7*w - 1)*b9 + (-8*w^23 - 10*w^22 - 7*w^21 - 7*w^20 - w^19 + 5*w^18 + 9*w^17 + 9*w^16 + 4*w^15 + 4*w^14 + w^13 - w^12 + 4*w^11 + 4*w^10 + 3*w^9 + 8*w^8 + 5*w^7 - w^6 - 6*w^5 - 9*w^4 - 9*w^3 - 12*w^2 - 6*w + 1)*b10 + (-6*w^23 - 8*w^22 - 5*w^21 - 4*w^20 + w^19 + 4*w^18 + 6*w^17 + 8*w^16 + 4*w^15 + 2*w^14 + 3*w^11 + w^9 + 8*w^8 + 4*w^7 - 3*w^6 - 6*w^5 - 7*w^4 - 8*w^3 - 10*w^2 - 4*w + 3)*b11 + (-3*w^23 - w^22 + w^21 + w^19 + 2*w^18 + 3*w^17 + w^16 + 3*w^14 + w^13 - 2*w^12 - w^11 - w^9 - w^6 - 4*w^5 - 5*w^4 - 2*w^3 - 3*w^2 - w + 1)*b12 + (4*w^23 + 6*w^22 + 7*w^21 + 5*w^20 + w^19 - 3*w^17 - 5*w^16 - 3*w^15 + w^13 - 3*w^12 - 4*w^11 - 2*w^10 - 4*w^9 - 8*w^8 - 5*w^7 - w^6 + w^4 + 3*w^3 + 6*w^2 + 2*w - 1)*b13 + (10*w^23 + 12*w^22 + 6*w^21 + 9*w^20 + 4*w^19 - 4*w^18 - 8*w^17 - 7*w^16 - w^15 - 6*w^14 - 4*w^13 + 3*w^12 - 5*w^11 - 8*w^10 - 5*w^9 - 10*w^8 - 9*w^7 - 4*w^6 + 4*w^5 + 8*w^4 + 5*w^3 + 9*w^2 + 6*w - 3)*b14 + (11*w^23 + 10*w^22 + 4*w^21 + 8*w^20 + 4*w^19 - 4*w^18 - 8*w^17 - 4*w^16 - 8*w^14 - 4*w^13 + 4*w^12 - 4*w^11 - 8*w^10 - 4*w^9 - 9*w^8 - 9*w^7 - 4*w^6 + 4*w^5 + 8*w^4 + 4*w^3 + 8*w^2 + 4*w - 3)*b15 + (3*w^23 + 3*w^22 + w^21 + 2*w^20 - w^16 - w^14 - 2*w^11 - w^9 - 6*w^8 - 4*w^7 - w^6 + 2*w^2 - w - 4)*b16 + (-4*w^23 - 6*w^22 - 2*w^21 - 3*w^20 - 2*w^19 + 4*w^18 + 7*w^17 + 4*w^16 + w^15 + 4*w^14 + 3*w^13 - 3*w^12 + 5*w^10 + w^9 + 2*w^7 - 5*w^5 - 8*w^4 - 5*w^3 - 5*w^2 - 6*w - 1)*b17 + (-8*w^23 - 9*w^22 - 6*w^21 - 5*w^20 + w^19 + 5*w^18 + 8*w^17 + 9*w^16 + 4*w^15 + 4*w^14 + w^13 - w^12 + 3*w^11 + w^10 + 2*w^9 + 8*w^8 + 4*w^7 - 2*w^6 - 8*w^5 - 10*w^4 - 9*w^3 - 12*w^2 - 5*w + 2)*b18 + (-7*w^23 - 8*w^22 - 4*w^21 - 4*w^20 + 2*w^19 + 5*w^18 + 7*w^17 + 8*w^16 + 4*w^15 + 3*w^14 - w^12 + 2*w^11 + 8*w^8 + 4*w^7 - 4*w^6 - 7*w^5 - 9*w^4 - 9*w^3 - 11*w^2 - 4*w + 4)*b19 + (-4*w^23 - 2*w^22 + w^21 - w^20 + 4*w^18 + 5*w^17 + 2*w^16 + 4*w^14 + w^13 - 4*w^12 + w^10 - w^9 - w^6 - 5*w^5 - 6*w^4 - 4*w^3 - 5*w^2 - 2*w + 1)*b20 + (4*w^23 + 5*w^22 + 5*w^21 + 4*w^20 + w^19 - w^17 - 3*w^16 - 2*w^15 - w^14 - 2*w^12 - 4*w^11 - w^10 - 3*w^9 - 8*w^8 - 5*w^7 - w^6 + 2*w^3 + 4*w^2 - 2)*b21 + (11*w^23 + 11*w^22 + 4*w^21 + 9*w^20 + 4*w^19 - 4*w^18 - 8*w^17 - 5*w^16 - 8*w^14 - 4*w^13 + 4*w^12 - 5*w^11 - 8*w^10 - 4*w^9 - 10*w^8 - 9*w^7 - 4*w^6 + 4*w^5 + 8*w^4 + 4*w^3 + 9*w^2 + 4*w - 5)*b22 + (12*w^23 + 10*w^22 + 4*w^21 + 9*w^20 + 4*w^19 - 4*w^18 - 8*w^17 - 5*w^16 - 8*w^14 - 4*w^13 + 4*w^12 - 5*w^11 - 8*w^10 - 4*w^9 - 10*w^8 - 9*w^7 - 4*w^6 + 4*w^5 + 8*w^4 + 4*w^3 + 9*w^2 + 4*w - 5)*b23],\n",
       " [a + (w^23 + w^20 + 2*w^18 - w^14 - 2*w^12 - w^11 - w^8 - 2*w^3 + w^2 - w)*b1 + (w^22 + 3*w^19 + 2*w^17 - 3*w^13 - 2*w^11 - w^10 - w^7 - 2*w^4 - 3*w^2 + w - 2)*b2 + (2*w^23 + w^21 + 4*w^20 + 3*w^18 + 2*w^16 - 4*w^14 - 3*w^12 - 2*w^11 - 2*w^10 - w^9 - 2*w^8 - w^6 - 2*w^5 - 3*w^3 + 2*w^2 - 4*w + 1)*b3 + (-w^23 + 2*w^22 + 2*w^21 + 4*w^19 + 3*w^17 + w^14 - 4*w^13 - 2*w^11 - 2*w^10 - 2*w^9 - 2*w^7 - 2*w^6 - w^5 - 3*w^4 - 5*w^2 + 2*w - 4)*b4 + (4*w^23 + w^22 + 2*w^21 + 6*w^20 + 4*w^18 + w^16 - 4*w^14 + w^13 - 4*w^12 - 4*w^11 - 2*w^10 - 2*w^9 - 6*w^8 - 2*w^7 - 2*w^6 - 3*w^5 - w^4 - 4*w^3 + 4*w^2 - 5*w + 2)*b5 + (4*w^22 + w^21 + 6*w^19 + 2*w^17 + w^15 + 2*w^14 - 4*w^13 + w^12 - 2*w^11 - 4*w^10 - 2*w^9 - 2*w^8 - 6*w^7 - 3*w^6 - 2*w^5 - 4*w^4 - w^3 - 6*w^2 + 4*w - 5)*b6 + (5*w^23 + 2*w^21 + 6*w^20 + 4*w^18 + 2*w^16 + 2*w^15 - 4*w^14 + 2*w^13 - 2*w^12 - 4*w^11 - 2*w^10 - 4*w^9 - 7*w^8 - 3*w^7 - 6*w^6 - 4*w^5 - 2*w^4 - 6*w^3 + 4*w^2 - 6*w + 2)*b7 + (-2*w^23 + 3*w^22 + 4*w^19 + 4*w^17 + 2*w^16 + 2*w^15 + 4*w^14 - 2*w^13 + 2*w^12 - 4*w^10 - 2*w^9 - 3*w^8 - 7*w^7 - 4*w^6 - 6*w^5 - 6*w^4 - 2*w^3 - 8*w^2 + 2*w - 6)*b8 + (4*w^23 - 2*w^22 + 3*w^21 + 4*w^20 + 4*w^18 + 2*w^17 + 4*w^16 + 2*w^15 - 2*w^14 + 4*w^13 - 2*w^12 - 4*w^11 - 5*w^9 - 8*w^8 - 4*w^7 - 7*w^6 - 6*w^5 - 6*w^4 - 6*w^3 + 2*w^2 - 8*w + 2)*b9 + (-2*w^23 + 4*w^22 - 2*w^21 + w^20 + 4*w^19 + 2*w^18 + 4*w^17 + 2*w^16 + 4*w^15 + 4*w^14 - 2*w^13 + 2*w^12 - 5*w^10 - 2*w^9 - 4*w^8 - 8*w^7 - 6*w^6 - 7*w^5 - 6*w^4 - 6*w^3 - 8*w^2 + 2*w - 6)*b10 + (6*w^23 - 2*w^22 + 4*w^21 + 4*w^20 + 3*w^19 + 4*w^18 + 2*w^17 + 4*w^16 + 2*w^15 - 2*w^14 + 2*w^13 - 2*w^12 - 5*w^11 - 2*w^10 - 6*w^9 - 8*w^8 - 6*w^7 - 8*w^6 - 6*w^5 - 7*w^4 - 6*w^3 - 6*w + 2)*b11 + (-2*w^23 + 6*w^22 - 2*w^21 + 4*w^20 + 4*w^19 + 3*w^18 + 4*w^17 + 2*w^16 + 4*w^15 + 2*w^14 - 2*w^13 + w^12 - 2*w^11 - 6*w^10 - 2*w^9 - 6*w^8 - 8*w^7 - 6*w^6 - 8*w^5 - 6*w^4 - 7*w^3 - 6*w^2 - 6)*b12 + (6*w^23 - 2*w^22 + 8*w^21 + 4*w^20 + 4*w^19 + 4*w^18 + 3*w^17 + 4*w^16 - 2*w^14 + w^13 - 4*w^12 - 6*w^11 - 2*w^10 - 8*w^9 - 8*w^8 - 6*w^7 - 8*w^6 - 6*w^5 - 8*w^4 - 4*w^3 - w^2 - 6*w)*b13 + (8*w^22 - 2*w^21 + 8*w^20 + 4*w^19 + 4*w^18 + 4*w^17 + w^16 + 4*w^15 - w^14 - 4*w^13 - 4*w^11 - 8*w^10 - 2*w^9 - 8*w^8 - 8*w^7 - 6*w^6 - 8*w^5 - 4*w^4 - 8*w^3 - 4*w^2 - w - 6)*b14 + (8*w^23 + 8*w^21 + 4*w^20 + 8*w^19 + 4*w^18 + 2*w^17 + 4*w^16 - 4*w^14 - 2*w^13 - 4*w^12 - 8*w^11 - 4*w^10 - 8*w^9 - 8*w^8 - 8*w^7 - 8*w^6 - 4*w^5 - 8*w^4 - 4*w^3 - 2*w^2 - 4*w - 1)*b15 + (w^23 + 8*w^22 - 2*w^21 + 9*w^20 + 4*w^19 + 6*w^18 + 4*w^17 + w^16 + 4*w^15 - 2*w^14 - 4*w^13 - 2*w^12 - 5*w^11 - 8*w^10 - 2*w^9 - 9*w^8 - 8*w^7 - 6*w^6 - 8*w^5 - 4*w^4 - 10*w^3 - 3*w^2 - 2*w - 6)*b16 + (6*w^23 - w^22 + 8*w^21 + 4*w^20 + 7*w^19 + 4*w^18 + 5*w^17 + 4*w^16 - 2*w^14 - 2*w^13 - 4*w^12 - 8*w^11 - 3*w^10 - 8*w^9 - 8*w^8 - 7*w^7 - 8*w^6 - 6*w^5 - 10*w^4 - 4*w^3 - 4*w^2 - 5*w - 2)*b17 + (6*w^22 - w^21 + 8*w^20 + 4*w^19 + 6*w^18 + 4*w^17 + 4*w^16 + 4*w^15 - 2*w^14 - 2*w^13 - 2*w^12 - 4*w^11 - 8*w^10 - 3*w^9 - 8*w^8 - 8*w^7 - 7*w^6 - 10*w^5 - 6*w^4 - 10*w^3 - 4*w^2 - 4*w - 5)*b18 + (5*w^23 + 6*w^21 + 4*w^20 + 7*w^19 + 4*w^18 + 5*w^17 + 4*w^16 + 2*w^15 - w^14 - 2*w^13 - 2*w^12 - 7*w^11 - 4*w^10 - 8*w^9 - 8*w^8 - 8*w^7 - 10*w^6 - 7*w^5 - 10*w^4 - 6*w^3 - 5*w^2 - 4*w - 2)*b19 + (2*w^23 + 5*w^22 + 7*w^20 + 4*w^19 + 6*w^18 + 4*w^17 + 3*w^16 + 4*w^15 - w^13 - 2*w^12 - 4*w^11 - 7*w^10 - 4*w^9 - 10*w^8 - 10*w^7 - 8*w^6 - 10*w^5 - 7*w^4 - 10*w^3 - 4*w^2 - 3*w - 4)*b20 + (4*w^23 + 2*w^22 + 4*w^21 + 4*w^20 + 6*w^19 + 4*w^18 + 4*w^17 + 4*w^16 + 3*w^15 - w^12 - 6*w^11 - 4*w^10 - 7*w^9 - 10*w^8 - 10*w^7 - 10*w^6 - 8*w^5 - 10*w^4 - 7*w^3 - 4*w^2 - 4*w - 3)*b21 + (3*w^23 + 3*w^22 + 2*w^21 + 6*w^20 + 4*w^19 + 4*w^18 + 4*w^17 + 4*w^16 + 4*w^15 - 4*w^11 - 6*w^10 - 6*w^9 - 10*w^8 - 10*w^7 - 10*w^6 - 10*w^5 - 8*w^4 - 8*w^3 - 4*w^2 - 4*w - 4)*b22 + (3*w^23 + 3*w^22 + 2*w^21 + 6*w^20 + 4*w^19 + 4*w^18 + 4*w^17 + 4*w^16 + 4*w^15 - 4*w^11 - 6*w^10 - 6*w^9 - 10*w^8 - 10*w^7 - 10*w^6 - 10*w^5 - 8*w^4 - 8*w^3 - 4*w^2 - 4*w - 4)*b23, b0 + (-2*w^23 - 2*w^20 - w^18 + 2*w^14 + w^12 + 2*w^11 + 2*w^8 + w^3 - 2*w^2 + 2*w)*b1 + (-2*w^22 - 3*w^19 - w^17 + 3*w^13 + w^11 + 2*w^10 + 2*w^7 + w^4 + 3*w^2 - 2*w + 3)*b2 + (-3*w^23 - 2*w^21 - 4*w^20 - 3*w^18 - w^16 + 4*w^14 + 3*w^12 + 3*w^11 + w^10 + 2*w^9 + 3*w^8 + 2*w^6 + w^5 + 3*w^3 - 3*w^2 + 4*w - 2)*b3 + (2*w^23 - 3*w^22 - w^21 - 4*w^19 - 3*w^17 - 2*w^14 + 4*w^13 + w^11 + 3*w^10 + w^9 + 3*w^7 + w^6 + 2*w^5 + 3*w^4 + 6*w^2 - 3*w + 4)*b4 + (-4*w^23 + w^22 - 3*w^21 - 5*w^20 - 4*w^18 - 2*w^16 + 4*w^14 - 2*w^13 + 4*w^12 + 4*w^11 + w^10 + 3*w^9 + 5*w^8 + w^7 + 3*w^6 + 3*w^5 + 2*w^4 + 4*w^3 - 4*w^2 + 6*w - 3)*b5 + (2*w^23 - 4*w^22 + w^21 - 5*w^19 - 3*w^17 - 2*w^15 - 3*w^14 + 4*w^13 - 2*w^12 + w^11 + 4*w^10 + w^9 + w^8 + 5*w^7 + 3*w^6 + 3*w^5 + 4*w^4 + 2*w^3 + 7*w^2 - 4*w + 6)*b6 + (-6*w^23 + 2*w^22 - 3*w^21 - 5*w^20 - 4*w^18 - 3*w^16 - w^15 + 4*w^14 - 3*w^13 + 3*w^12 + 4*w^11 + w^10 + 4*w^9 + 7*w^8 + 3*w^7 + 5*w^6 + 4*w^5 + 3*w^4 + 5*w^3 - 4*w^2 + 7*w - 3)*b7 + (3*w^23 - 5*w^22 + 2*w^21 - 4*w^19 - 4*w^17 - w^16 - 3*w^15 - 4*w^14 + 3*w^13 - 3*w^12 + 4*w^10 + w^9 + 3*w^8 + 7*w^7 + 4*w^6 + 5*w^5 + 5*w^4 + 3*w^3 + 8*w^2 - 3*w + 7)*b8 + (-6*w^23 + 3*w^22 - 5*w^21 - 4*w^20 - 4*w^18 - w^17 - 4*w^16 - w^15 + 3*w^14 - 4*w^13 + 3*w^12 + 4*w^11 + 6*w^9 + 8*w^8 + 4*w^7 + 7*w^6 + 5*w^5 + 5*w^4 + 5*w^3 - 3*w^2 + 8*w - 3)*b9 + (3*w^23 - 6*w^22 + 3*w^21 - 2*w^20 - 4*w^19 - w^18 - 4*w^17 - w^16 - 4*w^15 - 4*w^14 + 3*w^13 - 3*w^12 + 6*w^10 + w^9 + 4*w^8 + 8*w^7 + 5*w^6 + 7*w^5 + 5*w^4 + 5*w^3 + 8*w^2 - 3*w + 7)*b10 + (-7*w^23 + 3*w^22 - 6*w^21 - 4*w^20 - 3*w^19 - 4*w^18 - w^17 - 4*w^16 - w^15 + 3*w^14 - 3*w^13 + 3*w^12 + 6*w^11 + w^10 + 7*w^9 + 8*w^8 + 5*w^7 + 8*w^6 + 5*w^5 + 7*w^4 + 5*w^3 - 2*w^2 + 7*w - 3)*b11 + (3*w^23 - 7*w^22 + 3*w^21 - 4*w^20 - 4*w^19 - 3*w^18 - 4*w^17 - w^16 - 4*w^15 - 3*w^14 + 3*w^13 - w^12 + w^11 + 7*w^10 + w^9 + 5*w^8 + 8*w^7 + 5*w^6 + 8*w^5 + 5*w^4 + 7*w^3 + 7*w^2 - 2*w + 7)*b12 + (-7*w^23 + 3*w^22 - 8*w^21 - 4*w^20 - 4*w^19 - 4*w^18 - 3*w^17 - 4*w^16 + 3*w^14 - w^13 + 4*w^12 + 7*w^11 + w^10 + 8*w^9 + 8*w^8 + 5*w^7 + 8*w^6 + 5*w^5 + 8*w^4 + 4*w^3 + 7*w - 2)*b13 + (2*w^23 - 8*w^22 + 3*w^21 - 6*w^20 - 4*w^19 - 4*w^18 - 4*w^17 - 2*w^16 - 4*w^15 + 4*w^13 + 2*w^11 + 8*w^10 + w^9 + 6*w^8 + 8*w^7 + 5*w^6 + 8*w^5 + 4*w^4 + 8*w^3 + 6*w^2 + 7)*b14 + (-8*w^23 + 2*w^22 - 8*w^21 - 4*w^20 - 6*w^19 - 4*w^18 - 3*w^17 - 4*w^16 + 4*w^14 + w^13 + 4*w^12 + 8*w^11 + 2*w^10 + 8*w^9 + 8*w^8 + 6*w^7 + 8*w^6 + 4*w^5 + 8*w^4 + 4*w^3 + w^2 + 6*w)*b15 + (-8*w^22 + 3*w^21 - 8*w^20 - 4*w^19 - 5*w^18 - 4*w^17 - w^16 - 4*w^15 + w^14 + 4*w^13 + w^12 + 4*w^11 + 8*w^10 + w^9 + 8*w^8 + 8*w^7 + 5*w^6 + 8*w^5 + 4*w^4 + 9*w^3 + 4*w^2 + w + 7)*b16 + (-7*w^23 + w^22 - 8*w^21 - 4*w^20 - 7*w^19 - 4*w^18 - 3*w^17 - 4*w^16 + 3*w^14 + w^13 + 4*w^12 + 8*w^11 + 3*w^10 + 8*w^9 + 8*w^8 + 7*w^7 + 8*w^6 + 5*w^5 + 9*w^4 + 4*w^3 + 2*w^2 + 5*w + 1)*b17 + (-7*w^22 + w^21 - 8*w^20 - 4*w^19 - 5*w^18 - 4*w^17 - 2*w^16 - 4*w^15 + w^14 + 3*w^13 + w^12 + 4*w^11 + 8*w^10 + 3*w^9 + 8*w^8 + 8*w^7 + 7*w^6 + 9*w^5 + 5*w^4 + 9*w^3 + 4*w^2 + 2*w + 5)*b18 + (-5*w^23 - 7*w^21 - 4*w^20 - 6*w^19 - 4*w^18 - 4*w^17 - 4*w^16 - w^15 + w^14 + w^13 + 3*w^12 + 6*w^11 + 4*w^10 + 8*w^9 + 8*w^8 + 8*w^7 + 9*w^6 + 7*w^5 + 9*w^4 + 5*w^3 + 4*w^2 + 4*w + 1)*b19 + (-w^23 - 5*w^22 - 6*w^20 - 4*w^19 - 5*w^18 - 4*w^17 - 3*w^16 - 4*w^15 + w^13 + w^12 + 4*w^11 + 6*w^10 + 4*w^9 + 9*w^8 + 9*w^7 + 8*w^6 + 9*w^5 + 7*w^4 + 9*w^3 + 4*w^2 + 3*w + 4)*b20 + (-4*w^23 - w^22 - 3*w^21 - 4*w^20 - 5*w^19 - 4*w^18 - 4*w^17 - 4*w^16 - 3*w^15 + w^12 + 5*w^11 + 4*w^10 + 6*w^9 + 9*w^8 + 9*w^7 + 9*w^6 + 8*w^5 + 9*w^4 + 7*w^3 + 4*w^2 + 4*w + 3)*b21 + (-3*w^23 - 2*w^22 - w^21 - 5*w^20 - 4*w^19 - 4*w^18 - 4*w^17 - 4*w^16 - 4*w^15 + 4*w^11 + 5*w^10 + 5*w^9 + 9*w^8 + 9*w^7 + 9*w^6 + 9*w^5 + 8*w^4 + 8*w^3 + 4*w^2 + 4*w + 4)*b22 + (-2*w^23 - 3*w^22 - w^21 - 5*w^20 - 4*w^19 - 4*w^18 - 4*w^17 - 4*w^16 - 4*w^15 + 4*w^11 + 5*w^10 + 5*w^9 + 9*w^8 + 9*w^7 + 9*w^6 + 9*w^5 + 8*w^4 + 8*w^3 + 4*w^2 + 4*w + 4)*b23],\n",
       " [a + (-5*w^23 - 4*w^22 - 2*w^21 - 9*w^20 + 4*w^19 + 4*w^18 - 8*w^17 + 8*w^16 + 4*w^15 - 3*w^14 + 8*w^13 + w^11 + 4*w^10 - 2*w^9 + 9*w^8 + 4*w^7 - 6*w^6 + 4*w^5 - 4*w^4 - 8*w^3 + 3*w^2 - 3*w - 6)*b1 + (2*w^23 - 7*w^22 - 8*w^21 + 8*w^20 - 5*w^19 - 4*w^18 + 12*w^17 - 4*w^16 + 6*w^14 - 3*w^13 + 4*w^12 - 2*w^11 - w^10 + 8*w^9 - 4*w^8 + 3*w^7 + 8*w^6 - 10*w^5 - 4*w^4 + 4*w^3 - 5*w^2 - 3*w + 2)*b2 + (-4*w^23 - 2*w^22 + w^21 - 6*w^20 + 3*w^18 + 4*w^16 + 2*w^14 + 2*w^13 - 3*w^12 + 4*w^11 + 2*w^10 - w^9 + 4*w^8 - w^6 - 2*w^4 - 3*w^3 - 4*w^2 + 1)*b3 + (-5*w^23 + 4*w^22 + 4*w^21 - 8*w^20 + 2*w^19 + 4*w^18 - 5*w^17 + 4*w^16 + 2*w^15 - 3*w^14 + 2*w^13 - 2*w^12 + 2*w^11 + 4*w^10 - 6*w^9 + 4*w^8 - 8*w^6 + 7*w^5 + w^4 - 6*w^3 + w^2 + 2)*b4 + (6*w^23 + w^22 + 10*w^20 - 4*w^19 - 6*w^18 + 8*w^17 - 7*w^16 - 4*w^15 + 4*w^14 - 7*w^13 + 2*w^12 - 6*w^10 + 4*w^9 - 8*w^8 - 4*w^7 + 8*w^6 - 7*w^5 + 3*w^4 + 10*w^3 - 4*w^2 + 3*w + 4)*b5 + (2*w^23 + 2*w^22 + w^21 + 2*w^19 - 8*w^17 + w^15 - 4*w^14 + 4*w^13 + w^12 - 2*w^11 - 2*w^9 - 3*w^6 + 4*w^5 + 2*w^4 - w^3 + 8*w^2 - 5)*b6 + (w^23 + 2*w^22 - 2*w^20 + 4*w^19 - 8*w^17 + 2*w^15 - 4*w^14 + 4*w^13 + 2*w^12 - 4*w^11 + 2*w^10 - 2*w^9 + w^8 + w^7 - 4*w^6 + 6*w^5 - 2*w^3 + 8*w^2 - 6)*b7 + (6*w^23 - w^22 - 2*w^21 + 10*w^20 - 4*w^19 - 4*w^18 + 8*w^17 - 6*w^16 - 4*w^15 + 4*w^14 - 6*w^13 - 6*w^10 + 6*w^9 - 7*w^8 - 3*w^7 + 10*w^6 - 8*w^5 + 2*w^4 + 8*w^3 - 4*w^2 + 2*w + 4)*b8 + (-6*w^23 + 2*w^22 + 3*w^21 - 8*w^20 + 2*w^19 + 4*w^18 - 2*w^17 + 4*w^16 + 2*w^15 - 2*w^14 - 2*w^12 + 2*w^11 + 4*w^10 - 5*w^9 + 6*w^8 + 2*w^7 - 7*w^6 + 6*w^5 - 6*w^3 - 2*w^2 + 2)*b9 + (-6*w^23 - 2*w^22 + 2*w^21 - 7*w^20 + 4*w^18 + 6*w^16 + 2*w^13 - 4*w^12 + 4*w^11 + 3*w^10 - 2*w^9 + 6*w^8 + 2*w^7 - 2*w^6 + w^5 - 2*w^4 - 4*w^3 - 4*w^2 - 2*w + 2)*b10 + (2*w^23 - 6*w^22 - 6*w^21 + 8*w^20 - 5*w^19 - 4*w^18 + 12*w^17 - 4*w^16 - 2*w^15 + 6*w^14 - 4*w^13 + 2*w^12 - w^11 - 2*w^10 + 8*w^9 - 4*w^8 + 2*w^7 + 10*w^6 - 10*w^5 - 3*w^4 + 6*w^3 - 6*w^2 - 2*w + 2)*b11 + (-2*w^23 - 2*w^22 - 2*w^21 - 6*w^20 + 4*w^19 + 3*w^18 - 8*w^17 + 4*w^16 + 4*w^15 - 4*w^14 + 6*w^13 + w^12 - 2*w^11 + 4*w^10 - 2*w^9 + 6*w^8 + 4*w^7 - 6*w^6 + 6*w^5 - 2*w^4 - 7*w^3 + 6*w^2 - 2*w - 6)*b12 + (2*w^23 + 2*w^22 + 2*w^19 - 5*w^17 - 2*w^14 + w^13 - 2*w^10 - 2*w^7 + 2*w^5 + 2*w^4 + 3*w^2 + 2*w - 2)*b13 + (6*w^23 + 4*w^22 + 2*w^21 + 10*w^20 - 4*w^19 - 6*w^18 + 8*w^17 - 9*w^16 - 4*w^15 + 3*w^14 - 8*w^13 + 2*w^12 - 2*w^11 - 4*w^10 + 2*w^9 - 10*w^8 - 4*w^7 + 6*w^6 - 4*w^5 + 4*w^4 + 10*w^3 - 2*w^2 + 3*w + 6)*b14 + (-4*w^23 + 6*w^22 + 8*w^21 - 8*w^20 + 2*w^19 + 4*w^18 - 10*w^17 + 4*w^16 - 4*w^14 + 4*w^13 - 4*w^12 + 4*w^11 + 2*w^10 - 8*w^9 + 4*w^8 - 2*w^7 - 8*w^6 + 8*w^5 + 4*w^4 - 4*w^3 + 4*w^2 + 2*w - 1)*b15 + (w^23 + w^20 - 2*w^18 - w^16 + 2*w^12 - w^11 - w^8 + 2*w^3 + w^2)*b16 + (4*w^23 - 5*w^22 - 8*w^21 + 8*w^20 - 3*w^19 - 4*w^18 + 7*w^17 - 4*w^16 + 4*w^14 - 2*w^13 + 4*w^12 - 2*w^11 - 3*w^10 + 8*w^9 - 4*w^8 + w^7 + 8*w^6 - 8*w^5 - 2*w^4 + 4*w^3 - 2*w^2 - w)*b17 + (-6*w^23 - 4*w^22 - w^21 - 12*w^20 + 4*w^19 + 6*w^18 - 8*w^17 + 8*w^16 + 4*w^15 - 2*w^14 + 8*w^13 - 2*w^12 + 2*w^11 + 6*w^10 - 3*w^9 + 10*w^8 + 4*w^7 - 7*w^6 + 6*w^5 - 4*w^4 - 10*w^3 + 2*w^2 - 2*w - 5)*b18 + (-3*w^23 - 2*w^22 - 2*w^21 - 3*w^19 + 7*w^17 + 3*w^14 - 2*w^13 + w^11 + 2*w^10 + 2*w^9 + 2*w^7 + 2*w^6 - 3*w^5 - 2*w^4 - 5*w^2 - 2*w + 4)*b19 + (-w^22 + 2*w^21 + 3*w^20 - 4*w^19 - 2*w^18 + 8*w^17 - w^16 - 4*w^15 + 4*w^14 - 5*w^13 - 2*w^12 + 4*w^11 - 3*w^10 + 2*w^9 - 2*w^8 - 2*w^7 + 6*w^6 - 6*w^5 + w^4 + 6*w^3 - 8*w^2 + w + 6)*b20 + (-4*w^23 + 4*w^22 + 4*w^21 - 8*w^20 + 4*w^19 + 4*w^18 - 10*w^17 + 4*w^16 + 3*w^15 - 6*w^14 + 4*w^13 - w^12 + 4*w^10 - 7*w^9 + 6*w^8 + 2*w^7 - 10*w^6 + 10*w^5 + 2*w^4 - 7*w^3 + 6*w^2 - 3)*b21 + (7*w^23 + w^22 - 2*w^21 + 8*w^20 - 4*w^18 - 6*w^16 - 2*w^15 - 2*w^13 + 2*w^12 - 4*w^11 - 4*w^10 + 4*w^9 - 6*w^8 - 2*w^7 + 6*w^6 - 2*w^5 + 2*w^4 + 6*w^3 + 4*w^2 + 2*w - 2)*b22 + (7*w^23 + w^22 - 2*w^21 + 8*w^20 - 4*w^18 - 6*w^16 - 2*w^15 - 2*w^13 + 2*w^12 - 4*w^11 - 4*w^10 + 4*w^9 - 6*w^8 - 2*w^7 + 6*w^6 - 2*w^5 + 2*w^4 + 6*w^3 + 4*w^2 + 2*w - 2)*b23, b0 + (3*w^23 + 4*w^22 + 3*w^21 + 7*w^20 - 4*w^19 - 4*w^18 + 8*w^17 - 6*w^16 - 4*w^15 + 3*w^14 - 8*w^13 + w^11 - 4*w^10 + w^9 - 7*w^8 - 4*w^7 + 5*w^6 - 4*w^5 + 4*w^4 + 8*w^3 - 5*w^2 + 3*w + 7)*b1 + (-3*w^23 + 6*w^22 + 8*w^21 - 8*w^20 + 3*w^19 + 4*w^18 - 10*w^17 + 4*w^16 - 5*w^14 + 3*w^13 - 4*w^12 + 3*w^11 + 2*w^10 - 8*w^9 + 4*w^8 - 2*w^7 - 8*w^6 + 9*w^5 + 4*w^4 - 4*w^3 + 4*w^2 + 2*w - 1)*b2 + (4*w^23 + w^22 - 2*w^21 + 5*w^20 - 3*w^18 - 4*w^16 - w^14 - w^13 + 3*w^12 - 4*w^11 - w^10 + 2*w^9 - 4*w^8 + 2*w^6 + w^4 + 3*w^3 + 4*w^2 - 2)*b3 + (6*w^23 - 4*w^22 - 6*w^21 + 8*w^20 - w^19 - 4*w^18 + 3*w^17 - 4*w^16 - w^15 + 2*w^14 - w^13 + 3*w^12 - 3*w^11 - 4*w^10 + 7*w^9 - 4*w^8 + 8*w^6 - 6*w^5 - w^4 + 5*w^3 + w^2 - 3)*b4 + (-5*w^23 - w^22 - 9*w^20 + 4*w^19 + 5*w^18 - 8*w^17 + 6*w^16 + 4*w^15 - 4*w^14 + 6*w^13 - w^12 + 5*w^10 - 4*w^9 + 8*w^8 + 4*w^7 - 8*w^6 + 7*w^5 - 2*w^4 - 9*w^3 + 4*w^2 - 2*w - 4)*b5 + (-3*w^23 - w^22 + w^21 - 3*w^19 + 8*w^17 - 2*w^15 + 4*w^14 - 4*w^13 - 2*w^12 + 3*w^11 + w^9 + 3*w^6 - 4*w^5 - w^4 + 2*w^3 - 8*w^2 + 6)*b6 + (-2*w^23 - w^22 + 2*w^21 + w^20 - 4*w^19 + 8*w^17 - 3*w^15 + 4*w^14 - 4*w^13 - 3*w^12 + 4*w^11 - w^10 + w^9 - w^8 - w^7 + 4*w^6 - 5*w^5 + 3*w^3 - 8*w^2 + 7)*b7 + (-5*w^23 + w^22 + w^21 - 9*w^20 + 4*w^19 + 4*w^18 - 8*w^17 + 5*w^16 + 4*w^15 - 4*w^14 + 5*w^13 + 5*w^10 - 5*w^9 + 7*w^8 + 3*w^7 - 9*w^6 + 8*w^5 - w^4 - 8*w^3 + 4*w^2 - w - 4)*b8 + (7*w^23 - 3*w^22 - 5*w^21 + 8*w^20 - w^19 - 4*w^18 + w^17 - 4*w^16 - w^15 + w^14 + 3*w^12 - 3*w^11 - 4*w^10 + 6*w^9 - 5*w^8 - w^7 + 7*w^6 - 5*w^5 + 5*w^3 + 3*w^2 - 3)*b9 + (5*w^23 + w^22 - 3*w^21 + 6*w^20 - 4*w^18 - 5*w^16 - w^13 + 4*w^12 - 4*w^11 - 2*w^10 + 3*w^9 - 5*w^8 - w^7 + 3*w^6 - w^5 + w^4 + 4*w^3 + 4*w^2 + w - 3)*b10 + (-3*w^23 + 5*w^22 + 7*w^21 - 8*w^20 + 3*w^19 + 4*w^18 - 10*w^17 + 4*w^16 + w^15 - 5*w^14 + 4*w^13 - 3*w^12 + 2*w^11 + 3*w^10 - 8*w^9 + 4*w^8 - w^7 - 9*w^6 + 9*w^5 + 3*w^4 - 5*w^3 + 5*w^2 + w - 1)*b11 + (w^23 + 3*w^22 + 3*w^21 + 5*w^20 - 4*w^19 - 3*w^18 + 8*w^17 - 4*w^16 - 4*w^15 + 4*w^14 - 7*w^13 - w^12 + 3*w^11 - 4*w^10 + w^9 - 5*w^8 - 4*w^7 + 5*w^6 - 5*w^5 + 3*w^4 + 7*w^3 - 7*w^2 + 3*w + 7)*b12 + (-w^23 - w^22 - w^19 + 3*w^17 + w^14 - w^13 + w^10 + w^7 - w^5 - w^4 - 2*w^2 - w + 3)*b13 + (-5*w^23 - 4*w^22 - 3*w^21 - 9*w^20 + 4*w^19 + 5*w^18 - 8*w^17 + 7*w^16 + 4*w^15 - 2*w^14 + 8*w^13 - w^12 + w^11 + 4*w^10 - w^9 + 9*w^8 + 4*w^7 - 5*w^6 + 4*w^5 - 4*w^4 - 9*w^3 + 3*w^2 - 2*w - 7)*b14 + (4*w^23 - 7*w^22 - 8*w^21 + 8*w^20 - 3*w^19 - 4*w^18 + 9*w^17 - 4*w^16 + 4*w^14 - 2*w^13 + 4*w^12 - 4*w^11 - w^10 + 8*w^9 - 4*w^8 + 3*w^7 + 8*w^6 - 8*w^5 - 4*w^4 + 4*w^3 - 2*w^2 - 3*w)*b15 + (-2*w^23 - 2*w^20 + w^18 + 2*w^16 - w^12 + 2*w^11 + 2*w^8 - w^3 - 2*w^2)*b16 + (-4*w^23 + 5*w^22 + 8*w^21 - 8*w^20 + 2*w^19 + 4*w^18 - 6*w^17 + 4*w^16 - 4*w^14 + w^13 - 4*w^12 + 3*w^11 + 3*w^10 - 8*w^9 + 4*w^8 - w^7 - 8*w^6 + 8*w^5 + 3*w^4 - 4*w^3 + w^2 + w + 2)*b17 + (5*w^23 + 4*w^22 + w^21 + 10*w^20 - 4*w^19 - 5*w^18 + 8*w^17 - 8*w^16 - 4*w^15 + 3*w^14 - 8*w^13 + w^12 - w^11 - 5*w^10 + 3*w^9 - 9*w^8 - 4*w^7 + 7*w^6 - 5*w^5 + 4*w^4 + 9*w^3 - 3*w^2 + 3*w + 5)*b18 + (3*w^23 + w^22 + w^21 + 3*w^19 - 7*w^17 - 3*w^14 + 3*w^13 - 2*w^11 - w^10 - w^9 - w^7 - w^6 + 3*w^5 + w^4 + 6*w^2 + w - 4)*b19 + (-3*w^21 - 2*w^20 + 4*w^19 + w^18 - 8*w^17 + w^16 + 4*w^15 - 4*w^14 + 5*w^13 + 3*w^12 - 4*w^11 + 2*w^10 - w^9 + 3*w^8 + 3*w^7 - 5*w^6 + 5*w^5 - w^4 - 5*w^3 + 8*w^2 - w - 7)*b20 + (4*w^23 - 4*w^22 - 3*w^21 + 8*w^20 - 4*w^19 - 4*w^18 + 9*w^17 - 4*w^16 - 3*w^15 + 5*w^14 - 4*w^13 + w^12 - 4*w^10 + 6*w^9 - 5*w^8 - w^7 + 9*w^6 - 9*w^5 - w^4 + 7*w^3 - 5*w^2 + 3)*b21 + (-7*w^23 + w^22 + 3*w^21 - 8*w^20 + 4*w^18 + 5*w^16 + w^15 + w^13 - 3*w^12 + 4*w^11 + 4*w^10 - 4*w^9 + 5*w^8 + w^7 - 5*w^6 + 3*w^5 - w^4 - 5*w^3 - 4*w^2 - w + 3)*b22 + (-6*w^23 + 3*w^21 - 8*w^20 + 4*w^18 + 5*w^16 + w^15 + w^13 - 3*w^12 + 4*w^11 + 4*w^10 - 4*w^9 + 5*w^8 + w^7 - 5*w^6 + 3*w^5 - w^4 - 5*w^3 - 4*w^2 - w + 3)*b23],\n",
       " [a + (13*w^23 + 6*w^22 - 8*w^21 + 3*w^20 + 8*w^19 + 4*w^18 - 4*w^17 - 10*w^16 + 2*w^15 - w^14 - 8*w^13 - 2*w^12 - 7*w^11 - 4*w^10 + 6*w^9 - 7*w^8 - 8*w^7 + 4*w^6 + 8*w^5 + 4*w^4 - 6*w^3 + 3*w^2 + 11*w + 2)*b1 + (4*w^23 + 5*w^22 - 4*w^21 - 2*w^20 + 7*w^19 + 4*w^18 - 6*w^17 - 2*w^16 + 2*w^15 - 4*w^14 - 3*w^13 - 2*w^12 - 4*w^11 - w^10 + 2*w^9 - 3*w^7 + 8*w^5 + 2*w^4 - 6*w^3 + 3*w^2 + 5*w - 2)*b2 + (-6*w^23 - 6*w^22 + 7*w^21 + 2*w^20 - 6*w^19 - 3*w^18 + 6*w^17 + 6*w^16 - 4*w^15 - 2*w^14 + 2*w^13 - w^12 + 2*w^11 + 2*w^10 - 3*w^9 + 4*w^8 + 8*w^7 + w^6 - 6*w^5 - 2*w^4 + 7*w^3 - 2*w^2 - 10*w - 1)*b3 + (-9*w^23 - 4*w^22 + 6*w^21 + 4*w^20 - 8*w^19 - 4*w^18 + 9*w^17 + 4*w^16 - 4*w^15 + w^14 + 4*w^11 - 2*w^9 + 4*w^8 + 8*w^7 + 2*w^6 - 9*w^5 - w^4 + 8*w^3 - 5*w^2 - 8*w - 2)*b4 + (4*w^23 + 3*w^22 + 2*w^21 - 2*w^20 + 6*w^19 + 4*w^18 - 6*w^17 - w^16 - 4*w^14 - w^13 - 4*w^12 - 4*w^11 - 2*w^9 - 2*w^7 - 2*w^6 + 7*w^5 + w^4 - 4*w^3 + 4*w^2 + 3*w + 2)*b5 + (10*w^23 + 10*w^22 - 9*w^21 + 2*w^20 + 10*w^19 + 4*w^18 - 6*w^17 - 10*w^16 + 3*w^15 - 8*w^13 - w^12 - 6*w^11 - 6*w^10 + 6*w^9 - 6*w^8 - 10*w^7 + 3*w^6 + 8*w^5 + 4*w^4 - 7*w^3 + 2*w^2 + 14*w + 1)*b6 + (5*w^23 - 2*w^22 + 2*w^20 - 2*w^16 - 2*w^11 - 3*w^8 - w^7 + 2*w^2 + 2)*b7 + (-14*w^23 - 5*w^22 + 4*w^21 - 4*w^20 - 8*w^19 - 4*w^18 + 4*w^17 + 10*w^16 + 2*w^14 + 8*w^13 + 4*w^12 + 8*w^11 + 4*w^10 - 4*w^9 + 7*w^8 + 7*w^7 - 4*w^6 - 8*w^5 - 4*w^4 + 4*w^3 - 4*w^2 - 10*w - 6)*b8 + (-4*w^23 - 8*w^22 + 5*w^21 - 8*w^19 - 4*w^18 + 6*w^17 + 6*w^16 - 2*w^15 + 2*w^14 + 6*w^13 + 2*w^12 + 4*w^11 + 4*w^10 - 3*w^9 + 4*w^7 - w^6 - 8*w^5 - 4*w^4 + 6*w^3 - 2*w^2 - 10*w + 2)*b9 + (4*w^23 + 6*w^22 - 8*w^21 - w^20 + 4*w^19 + 2*w^18 - 2*w^17 - 6*w^16 + 4*w^15 + 4*w^14 - 4*w^13 + 2*w^12 - 3*w^10 + 4*w^9 - 4*w^8 - 8*w^7 + 3*w^5 + 2*w^4 - 6*w^3 - 2*w^2 + 10*w)*b10 + (10*w^23 + 4*w^22 - 4*w^21 - 4*w^20 + 9*w^19 + 6*w^18 - 10*w^17 - 4*w^16 + 4*w^15 - 2*w^14 - 2*w^12 - 5*w^11 - 4*w^8 - 8*w^7 - 4*w^6 + 10*w^5 + w^4 - 10*w^3 + 6*w^2 + 8*w + 4)*b11 + (-4*w^23 - 2*w^21 + 2*w^20 - 2*w^19 - 3*w^18 + 4*w^17 + 4*w^14 + 3*w^12 + 2*w^11 - 2*w^10 + 2*w^9 + 2*w^6 - 6*w^5 - 2*w^4 + 3*w^3 - 4*w^2 - 2)*b12 + (-8*w^23 - 10*w^22 + 10*w^21 + 2*w^20 - 10*w^19 - 4*w^18 + 7*w^17 + 8*w^16 - 4*w^15 + 7*w^13 + 4*w^11 + 4*w^10 - 6*w^9 + 4*w^8 + 10*w^7 - 2*w^6 - 10*w^5 - 4*w^4 + 8*w^3 - w^2 - 14*w)*b13 + (-6*w^23 + 2*w^22 + 2*w^21 - 2*w^20 + 3*w^16 - w^14 + 2*w^11 - 2*w^9 + 4*w^8 + 2*w^7 - 2*w^6 - 2*w^2 - w - 4)*b14 + (14*w^23 + 6*w^22 - 4*w^21 + 4*w^20 + 8*w^19 + 4*w^18 - 4*w^17 - 8*w^16 - 4*w^14 - 8*w^13 - 4*w^12 - 8*w^11 - 4*w^10 + 4*w^9 - 8*w^8 - 8*w^7 + 4*w^6 + 8*w^5 + 4*w^4 - 4*w^3 + 4*w^2 + 8*w + 5)*b15 + (7*w^23 + 8*w^22 - 6*w^21 + w^20 + 8*w^19 + 4*w^18 - 4*w^17 - 7*w^16 + 2*w^15 - 2*w^14 - 8*w^13 - 2*w^12 - 5*w^11 - 4*w^10 + 4*w^9 - 3*w^8 - 6*w^7 + 2*w^6 + 8*w^5 + 4*w^4 - 6*w^3 + w^2 + 10*w - 2)*b16 + (-4*w^23 - 5*w^22 + 6*w^21 - 3*w^19 + w^17 + 6*w^16 - 2*w^15 - 4*w^14 + 4*w^13 - 2*w^12 + 3*w^10 - 4*w^9 + 4*w^8 + 7*w^7 - 2*w^6 - 2*w^5 - 2*w^4 + 2*w^3 + 2*w^2 - 9*w - 2)*b17 + (-10*w^23 - 6*w^22 + 5*w^21 + 4*w^20 - 8*w^19 - 6*w^18 + 10*w^17 + 6*w^16 - 4*w^15 + 2*w^14 + 2*w^13 + 2*w^12 + 4*w^11 - w^9 + 4*w^8 + 8*w^7 + 3*w^6 - 12*w^5 - 4*w^4 + 10*w^3 - 6*w^2 - 10*w - 3)*b18 + (w^23 + 2*w^21 + w^19 + 2*w^18 - w^17 - w^14 - 2*w^12 - w^11 - 2*w^9 - 2*w^6 + w^5 - 2*w^3 + w^2 + 2)*b19 + (8*w^23 + 9*w^22 - 6*w^21 - 3*w^20 + 10*w^19 + 6*w^18 - 8*w^17 - 7*w^16 + 4*w^15 - 5*w^13 - 2*w^12 - 4*w^11 - 3*w^10 + 2*w^9 - 4*w^8 - 10*w^7 - 2*w^6 + 10*w^5 + 3*w^4 - 10*w^3 + 2*w^2 + 13*w + 2)*b20 + (6*w^23 + 2*w^22 - 4*w^21 + 2*w^20 + 2*w^19 - 4*w^16 + w^15 + 2*w^14 - 2*w^13 + w^12 - 2*w^11 - 2*w^10 + 3*w^9 - 6*w^8 - 6*w^7 + 2*w^6 - w^3 + 4*w + 3)*b21 + (-9*w^23 - 7*w^22 + 4*w^21 - 2*w^20 - 8*w^19 - 4*w^18 + 4*w^17 + 8*w^16 + 2*w^14 + 8*w^13 + 4*w^12 + 6*w^11 + 4*w^10 - 4*w^9 + 4*w^8 + 6*w^7 - 4*w^6 - 8*w^5 - 4*w^4 + 4*w^3 - 2*w^2 - 10*w - 4)*b22 + (-9*w^23 - 7*w^22 + 4*w^21 - 2*w^20 - 8*w^19 - 4*w^18 + 4*w^17 + 8*w^16 + 2*w^14 + 8*w^13 + 4*w^12 + 6*w^11 + 4*w^10 - 4*w^9 + 4*w^8 + 6*w^7 - 4*w^6 - 8*w^5 - 4*w^4 + 4*w^3 - 2*w^2 - 10*w - 4)*b23, b0 + (-12*w^23 - 7*w^22 + 6*w^21 - 3*w^20 - 8*w^19 - 4*w^18 + 4*w^17 + 9*w^16 - w^15 + 2*w^14 + 8*w^13 + 3*w^12 + 7*w^11 + 4*w^10 - 5*w^9 + 7*w^8 + 8*w^7 - 4*w^6 - 8*w^5 - 4*w^4 + 5*w^3 - 3*w^2 - 10*w - 3)*b1 + (-4*w^23 - 6*w^22 + 2*w^21 + w^20 - 7*w^19 - 4*w^18 + 5*w^17 + 3*w^16 - w^15 + 4*w^14 + 5*w^13 + 3*w^12 + 4*w^11 + 2*w^10 - w^9 + 3*w^7 - 8*w^5 - 3*w^4 + 5*w^3 - 2*w^2 - 6*w + 1)*b2 + (5*w^23 + 5*w^22 - 7*w^21 - 3*w^20 + 5*w^19 + 2*w^18 - 5*w^17 - 5*w^16 + 4*w^15 + 3*w^14 - w^13 + 2*w^12 - w^11 - w^10 + 3*w^9 - 4*w^8 - 8*w^7 - w^6 + 5*w^5 + w^4 - 6*w^3 + w^2 + 9*w + 1)*b3 + (8*w^23 + 4*w^22 - 5*w^21 - 4*w^20 + 6*w^19 + 4*w^18 - 8*w^17 - 4*w^16 + 4*w^15 - 2*w^11 + w^9 - 4*w^8 - 8*w^7 - 3*w^6 + 8*w^5 + 2*w^4 - 8*w^3 + 4*w^2 + 8*w + 3)*b4 + (-4*w^23 - 2*w^22 - w^21 + w^20 - 5*w^19 - 4*w^18 + 5*w^17 + w^16 + 4*w^14 + w^13 + 4*w^12 + 4*w^11 + w^9 + w^7 + w^6 - 6*w^5 - w^4 + 4*w^3 - 4*w^2 - 2*w - 1)*b5 + (-9*w^23 - 9*w^22 + 8*w^21 - w^20 - 9*w^19 - 4*w^18 + 5*w^17 + 9*w^16 - 3*w^15 + 8*w^13 + w^12 + 5*w^11 + 5*w^10 - 5*w^9 + 5*w^8 + 9*w^7 - 2*w^6 - 8*w^5 - 4*w^4 + 7*w^3 - w^2 - 13*w - 1)*b6 + (-4*w^23 + w^22 - w^20 + w^16 + w^11 + 3*w^8 + 2*w^7 - w^2 - 3)*b7 + (13*w^23 + 5*w^22 - 4*w^21 + 4*w^20 + 8*w^19 + 4*w^18 - 4*w^17 - 9*w^16 - 3*w^14 - 8*w^13 - 4*w^12 - 8*w^11 - 4*w^10 + 4*w^9 - 6*w^8 - 6*w^7 + 4*w^6 + 8*w^5 + 4*w^4 - 4*w^3 + 4*w^2 + 9*w + 5)*b8 + (4*w^23 + 8*w^22 - 4*w^21 + 8*w^19 + 4*w^18 - 5*w^17 - 5*w^16 + w^15 - 3*w^14 - 7*w^13 - 3*w^12 - 4*w^11 - 4*w^10 + 3*w^9 - 4*w^7 + 2*w^6 + 8*w^5 + 4*w^4 - 5*w^3 + w^2 + 9*w - 1)*b9 + (-4*w^23 - 5*w^22 + 8*w^21 + w^20 - 4*w^19 - w^18 + 3*w^17 + 5*w^16 - 4*w^15 - 4*w^14 + 2*w^13 - 3*w^12 + 3*w^10 - 4*w^9 + 4*w^8 + 8*w^7 - 2*w^5 - w^4 + 5*w^3 + w^2 - 9*w)*b10 + (-9*w^23 - 4*w^22 + 4*w^21 + 4*w^20 - 8*w^19 - 5*w^18 + 9*w^17 + 4*w^16 - 4*w^15 + w^14 + w^12 + 4*w^11 + 4*w^8 + 8*w^7 + 4*w^6 - 9*w^5 - w^4 + 9*w^3 - 5*w^2 - 8*w - 4)*b11 + (4*w^23 + w^21 - w^20 + 3*w^19 + 2*w^18 - 4*w^17 - 4*w^14 - 2*w^12 - 3*w^11 + w^10 - w^9 - w^6 + 5*w^5 + w^4 - 2*w^3 + 4*w^2 + 1)*b12 + (8*w^23 + 9*w^22 - 9*w^21 - w^20 + 9*w^19 + 4*w^18 - 7*w^17 - 8*w^16 + 4*w^15 - 6*w^13 - 4*w^11 - 4*w^10 + 5*w^9 - 4*w^8 - 9*w^7 + w^6 + 9*w^5 + 4*w^4 - 8*w^3 + 2*w^2 + 13*w)*b13 + (5*w^23 - w^22 - w^21 + w^20 - 3*w^16 + 2*w^14 - w^11 + w^9 - 4*w^8 - 3*w^7 + w^6 + w^2 + 2*w + 4)*b14 + (-13*w^23 - 5*w^22 + 4*w^21 - 4*w^20 - 8*w^19 - 4*w^18 + 4*w^17 + 8*w^16 + 4*w^14 + 8*w^13 + 4*w^12 + 8*w^11 + 4*w^10 - 4*w^9 + 6*w^8 + 6*w^7 - 4*w^6 - 8*w^5 - 4*w^4 + 4*w^3 - 4*w^2 - 8*w - 3)*b15 + (-7*w^23 - 8*w^22 + 5*w^21 - 2*w^20 - 8*w^19 - 4*w^18 + 4*w^17 + 7*w^16 - w^15 + 3*w^14 + 8*w^13 + 3*w^12 + 6*w^11 + 4*w^10 - 4*w^9 + 3*w^8 + 5*w^7 - 3*w^6 - 8*w^5 - 4*w^4 + 5*w^3 - 2*w^2 - 9*w + 1)*b16 + (4*w^23 + 3*w^22 - 7*w^21 + 2*w^19 - w^17 - 5*w^16 + 3*w^15 + 4*w^14 - 2*w^13 + 3*w^12 - 2*w^10 + 4*w^9 - 4*w^8 - 6*w^7 + w^6 + w^5 + w^4 - 3*w^3 - w^2 + 7*w + 1)*b17 + (9*w^23 + 5*w^22 - 6*w^21 - 4*w^20 + 8*w^19 + 5*w^18 - 9*w^17 - 5*w^16 + 4*w^15 - w^14 - w^13 - w^12 - 4*w^11 + 2*w^9 - 4*w^8 - 8*w^7 - 2*w^6 + 10*w^5 + 2*w^4 - 9*w^3 + 5*w^2 + 9*w + 2)*b18 + (-w^23 - w^21 - w^19 - w^18 + w^17 + w^14 + w^12 + w^11 + w^9 + w^6 - w^5 + w^3 - w^2 - 1)*b19 + (-8*w^23 - 7*w^22 + 7*w^21 + 3*w^20 - 9*w^19 - 5*w^18 + 8*w^17 + 6*w^16 - 4*w^15 + 3*w^13 + w^12 + 4*w^11 + 2*w^10 - 3*w^9 + 4*w^8 + 9*w^7 + w^6 - 9*w^5 - 2*w^4 + 9*w^3 - 3*w^2 - 11*w - 1)*b20 + (-5*w^23 - w^22 + 5*w^21 - w^20 - w^19 + 4*w^16 - 2*w^15 - 3*w^14 + w^13 - 2*w^12 + w^11 + w^10 - 3*w^9 + 5*w^8 + 5*w^7 - w^6 + 2*w^3 - 4*w - 2)*b21 + (9*w^23 + 7*w^22 - 4*w^21 + 3*w^20 + 8*w^19 + 4*w^18 - 4*w^17 - 8*w^16 - 3*w^14 - 8*w^13 - 4*w^12 - 7*w^11 - 4*w^10 + 4*w^9 - 4*w^8 - 5*w^7 + 4*w^6 + 8*w^5 + 4*w^4 - 4*w^3 + 3*w^2 + 9*w + 2)*b22 + (10*w^23 + 6*w^22 - 4*w^21 + 3*w^20 + 8*w^19 + 4*w^18 - 4*w^17 - 8*w^16 - 3*w^14 - 8*w^13 - 4*w^12 - 7*w^11 - 4*w^10 + 4*w^9 - 4*w^8 - 5*w^7 + 4*w^6 + 8*w^5 + 4*w^4 - 4*w^3 + 3*w^2 + 9*w + 2)*b23],\n",
       " [a + (-3*w^23 + 12*w^22 + 12*w^21 - 3*w^20 + 2*w^17 + 2*w^16 - 4*w^15 - 3*w^14 - 10*w^13 - 4*w^12 + 7*w^11 - 4*w^10 - 8*w^9 - w^8 - 8*w^7 - 4*w^6 + 4*w^5 + 8*w^4 + 4*w^3 - 9*w^2 + 5*w + 14)*b1 + (-2*w^23 + 9*w^22 + 12*w^21 - 2*w^20 - 3*w^19 + 2*w^18 + 2*w^17 - 2*w^16 - 4*w^15 - 7*w^13 - 6*w^12 + 6*w^11 - w^10 - 8*w^9 - 2*w^8 - 5*w^7 - 4*w^6 + 4*w^5 + 8*w^4 + 2*w^3 - 5*w^2 + 5*w + 8)*b2 + (4*w^23 - 2*w^22 - 3*w^21 + 4*w^20 - w^18 - 2*w^17 - 4*w^16 + 4*w^13 + w^12 - 6*w^11 + 2*w^10 + 3*w^9 - 4*w^8 + 2*w^7 + 3*w^6 - 2*w^4 + w^3 + 8*w^2 - 2*w - 7)*b3 + (7*w^23 - 8*w^22 - 14*w^21 + 6*w^20 + 6*w^19 - 4*w^18 - 7*w^17 + 4*w^15 - 3*w^14 + 8*w^13 + 8*w^12 - 10*w^11 - 2*w^10 + 10*w^9 + 4*w^7 + 6*w^6 - 3*w^5 - 7*w^4 + 11*w^2 - 4*w - 14)*b4 + (2*w^23 - 5*w^22 - 6*w^21 + 2*w^20 + 2*w^19 - 2*w^17 + w^16 + 4*w^15 - 2*w^14 + w^13 + 4*w^12 - 2*w^11 - 2*w^10 + 2*w^9 + 4*w^8 + 4*w^7 - 2*w^6 - w^5 - w^4 - 4*w^3 + 2*w^2 - w - 4)*b5 + (-8*w^23 + 4*w^22 + 9*w^21 - 6*w^20 - 4*w^19 + 4*w^18 + 8*w^17 + 2*w^16 - 3*w^15 + 4*w^14 - 6*w^13 - 7*w^12 + 8*w^11 + 2*w^10 - 6*w^9 + 2*w^8 - 2*w^7 - 3*w^6 + 2*w^4 - w^3 - 12*w^2 + 2*w + 11)*b6 + (-9*w^23 + 6*w^22 + 12*w^21 - 8*w^20 - 4*w^19 + 4*w^18 + 8*w^17 + 4*w^16 - 6*w^15 + 4*w^14 - 4*w^13 - 10*w^12 + 8*w^11 + 4*w^10 - 6*w^9 - w^8 - 5*w^7 + 2*w^3 - 12*w^2 + 14)*b7 + (-w^22 - 2*w^21 + 2*w^15 + 2*w^12 + w^8 + w^7 - 2*w^6 - 2*w^3 - 2)*b8 + (10*w^23 - 8*w^22 - 13*w^21 + 8*w^20 + 4*w^19 - 4*w^18 - 8*w^17 - 2*w^16 + 6*w^15 - 4*w^14 + 6*w^13 + 10*w^12 - 8*w^11 - 4*w^10 + 7*w^9 + 4*w^7 + w^6 - 2*w^5 - 2*w^4 - 2*w^3 + 12*w^2 - 2*w - 14)*b9 + (6*w^23 - 2*w^22 - 8*w^21 + 5*w^20 + 4*w^19 - 4*w^18 - 6*w^17 - 2*w^16 + 2*w^15 - 2*w^14 + 6*w^13 + 6*w^12 - 8*w^11 - w^10 + 6*w^9 - 4*w^8 + 4*w^6 - w^5 - 4*w^4 + 2*w^3 + 10*w^2 - 2*w - 10)*b10 + (-2*w^23 + 6*w^22 + 10*w^21 - 2*w^20 - 3*w^19 + 2*w^18 + 2*w^17 - 2*w^16 - 4*w^15 + 2*w^14 - 2*w^13 - 6*w^12 + 3*w^11 + 2*w^10 - 6*w^9 - 4*w^8 - 4*w^7 - 2*w^6 + 2*w^5 + 3*w^4 + 2*w^3 - 2*w^2 + 2*w + 6)*b11 + (-6*w^23 + 10*w^22 + 14*w^21 - 4*w^20 - 4*w^19 + 3*w^18 + 6*w^17 - 4*w^15 + 2*w^14 - 10*w^13 - 7*w^12 + 10*w^11 - 2*w^10 - 10*w^9 - 6*w^7 - 6*w^6 + 2*w^5 + 8*w^4 + w^3 - 12*w^2 + 6*w + 14)*b12 + (-2*w^23 + 2*w^22 + 2*w^21 - 2*w^20 + 2*w^19 + w^17 + 4*w^16 - 2*w^14 - 3*w^13 + 2*w^11 - 2*w^10 - 2*w^9 + 2*w^8 - 2*w^7 - 2*w^6 - 5*w^2 + 6)*b13 + (2*w^23 - 10*w^22 - 12*w^21 + 2*w^20 + 2*w^19 - 2*w^17 + w^16 + 4*w^15 + w^14 + 8*w^13 + 4*w^12 - 6*w^11 + 2*w^10 + 8*w^9 + 2*w^8 + 6*w^7 + 4*w^6 - 4*w^5 - 8*w^4 - 4*w^3 + 6*w^2 - 5*w - 12)*b14 + (4*w^23 - 12*w^22 - 12*w^21 + 4*w^20 - 2*w^16 + 4*w^15 + 2*w^14 + 8*w^13 + 4*w^12 - 8*w^11 + 4*w^10 + 8*w^9 + 8*w^7 + 4*w^6 - 4*w^5 - 8*w^4 - 4*w^3 + 8*w^2 - 6*w - 13)*b15 + (-w^23 + 2*w^22 - w^20 + 2*w^19 + 3*w^16 - 2*w^14 - 2*w^13 + w^11 - 2*w^10 + w^8 - 2*w^7 - 3*w^2 + 2)*b16 + (-4*w^23 + 11*w^22 + 14*w^21 - 4*w^20 - w^19 + 2*w^18 + 3*w^17 + 2*w^16 - 4*w^15 - 2*w^14 - 10*w^13 - 6*w^12 + 8*w^11 - 3*w^10 - 10*w^9 - 7*w^7 - 6*w^6 + 4*w^5 + 8*w^4 + 2*w^3 - 10*w^2 + 5*w + 14)*b17 + (-2*w^23 + 8*w^22 + 11*w^21 - 4*w^19 + 2*w^18 + 4*w^17 - 4*w^16 - 4*w^15 + 2*w^14 - 6*w^13 - 6*w^12 + 4*w^11 - 7*w^9 - 4*w^8 - 4*w^7 - 3*w^6 + 2*w^5 + 6*w^4 + 2*w^3 - 4*w^2 + 4*w + 7)*b18 + (5*w^23 - 2*w^22 - 4*w^21 + 4*w^20 + 3*w^19 - 2*w^18 - 5*w^17 - 2*w^16 - w^14 + 6*w^13 + 2*w^12 - 7*w^11 + 4*w^9 - 4*w^8 + 4*w^6 - w^5 - 4*w^4 + 2*w^3 + 9*w^2 - 2*w - 8)*b19 + (8*w^23 - 7*w^22 - 14*w^21 + 7*w^20 + 6*w^19 - 4*w^18 - 8*w^17 - w^16 + 6*w^15 - 4*w^14 + 7*w^13 + 10*w^12 - 10*w^11 - 3*w^10 + 8*w^9 + 4*w^7 + 2*w^6 - 2*w^5 - 5*w^4 - 2*w^3 + 12*w^2 - 3*w - 14)*b20 + (2*w^23 - 4*w^22 - 4*w^21 + 2*w^20 + 3*w^15 + 3*w^12 - 2*w^10 + w^9 + 2*w^8 + 2*w^7 - 2*w^6 - 2*w^5 - 3*w^3 - 3)*b21 + (-9*w^23 + 5*w^22 + 10*w^21 - 8*w^20 - 4*w^19 + 4*w^18 + 8*w^17 + 4*w^16 - 4*w^15 + 4*w^14 - 4*w^13 - 8*w^12 + 8*w^11 + 4*w^10 - 6*w^9 - 4*w^7 - 2*w^6 - 12*w^2 + 12)*b22 + (-9*w^23 + 5*w^22 + 10*w^21 - 8*w^20 - 4*w^19 + 4*w^18 + 8*w^17 + 4*w^16 - 4*w^15 + 4*w^14 - 4*w^13 - 8*w^12 + 8*w^11 + 4*w^10 - 6*w^9 - 4*w^7 - 2*w^6 - 12*w^2 + 12)*b23, b0 + (2*w^23 - 12*w^22 - 12*w^21 + 2*w^20 - w^17 - w^16 + 4*w^15 + 3*w^14 + 9*w^13 + 4*w^12 - 6*w^11 + 4*w^10 + 8*w^9 + 2*w^8 + 8*w^7 + 4*w^6 - 4*w^5 - 8*w^4 - 4*w^3 + 7*w^2 - 5*w - 13)*b1 + (w^23 - 10*w^22 - 12*w^21 + w^20 + 2*w^19 - w^18 - w^17 + 3*w^16 + 4*w^15 + 7*w^13 + 5*w^12 - 5*w^11 + 2*w^10 + 8*w^9 + 3*w^8 + 6*w^7 + 4*w^6 - 4*w^5 - 8*w^4 - 3*w^3 + 4*w^2 - 6*w - 8)*b2 + (-4*w^23 + w^22 + 2*w^21 - 4*w^20 + w^18 + 3*w^17 + 4*w^16 - 4*w^13 - w^12 + 5*w^11 - w^10 - 2*w^9 + 4*w^8 - w^7 - 2*w^6 + w^4 - w^3 - 8*w^2 + w + 6)*b3 + (-6*w^23 + 8*w^22 + 13*w^21 - 5*w^20 - 5*w^19 + 4*w^18 + 6*w^17 - 4*w^15 + 2*w^14 - 8*w^13 - 8*w^12 + 9*w^11 + w^10 - 9*w^9 - 4*w^7 - 5*w^6 + 3*w^5 + 7*w^4 - 10*w^2 + 4*w + 13)*b4 + (-w^23 + 6*w^22 + 7*w^21 - w^20 - w^19 + w^17 - 2*w^16 - 4*w^15 + w^14 - 2*w^13 - 4*w^12 + w^11 + w^10 - 3*w^9 - 4*w^8 - 4*w^7 + w^6 + 2*w^5 + 2*w^4 + 4*w^3 - w^2 + 2*w + 4)*b5 + (8*w^23 - 2*w^22 - 7*w^21 + 7*w^20 + 4*w^19 - 4*w^18 - 8*w^17 - 3*w^16 + 2*w^15 - 4*w^14 + 5*w^13 + 6*w^12 - 8*w^11 - 3*w^10 + 5*w^9 - 3*w^8 + w^7 + 3*w^6 - w^4 + 2*w^3 + 12*w^2 - w - 10)*b6 + (9*w^23 - 5*w^22 - 10*w^21 + 8*w^20 + 4*w^19 - 4*w^18 - 8*w^17 - 4*w^16 + 5*w^15 - 4*w^14 + 4*w^13 + 9*w^12 - 8*w^11 - 4*w^10 + 5*w^9 + 4*w^7 - w^3 + 12*w^2 - 13)*b7 + (w^22 + w^21 - w^15 - w^12 - w^8 - w^7 + w^6 + w^3 + 1)*b8 + (-9*w^23 + 6*w^22 + 11*w^21 - 8*w^20 - 4*w^19 + 4*w^18 + 8*w^17 + 3*w^16 - 5*w^15 + 4*w^14 - 5*w^13 - 9*w^12 + 8*w^11 + 4*w^10 - 6*w^9 - 4*w^7 - w^6 + w^5 + w^4 + w^3 - 12*w^2 + w + 13)*b9 + (-7*w^23 + w^22 + 6*w^21 - 6*w^20 - 4*w^19 + 4*w^18 + 7*w^17 + 3*w^16 - w^15 + 3*w^14 - 5*w^13 - 5*w^12 + 8*w^11 + 2*w^10 - 5*w^9 + 4*w^8 - 4*w^6 + 2*w^4 - 3*w^3 - 11*w^2 + w + 9)*b10 + (w^23 - 7*w^22 - 9*w^21 + w^20 + 2*w^19 - w^18 - w^17 + 3*w^16 + 4*w^15 - w^14 + 3*w^13 + 5*w^12 - 2*w^11 - w^10 + 5*w^9 + 4*w^8 + 4*w^7 + w^6 - 3*w^5 - 4*w^4 - 3*w^3 + w^2 - 3*w - 5)*b11 + (5*w^23 - 9*w^22 - 13*w^21 + 4*w^20 + 4*w^19 - 3*w^18 - 5*w^17 + 4*w^15 - w^14 + 9*w^13 + 7*w^12 - 9*w^11 + w^10 + 9*w^9 + 5*w^7 + 5*w^6 - 3*w^5 - 8*w^4 - w^3 + 10*w^2 - 5*w - 13)*b12 + (3*w^23 - w^22 - w^21 + 3*w^20 - w^19 - 2*w^17 - 4*w^16 + w^14 + 3*w^13 - 3*w^11 + w^10 + w^9 - 3*w^8 + w^7 + w^6 + 6*w^2 - 5)*b13 + (-w^23 + 11*w^22 + 12*w^21 - w^20 - w^19 + w^17 - 2*w^16 - 4*w^15 - w^14 - 8*w^13 - 4*w^12 + 5*w^11 - 3*w^10 - 8*w^9 - 3*w^8 - 7*w^7 - 4*w^6 + 4*w^5 + 8*w^4 + 4*w^3 - 5*w^2 + 6*w + 10)*b14 + (-2*w^23 + 12*w^22 + 12*w^21 - 2*w^20 + w^16 - 4*w^15 - 3*w^14 - 8*w^13 - 4*w^12 + 6*w^11 - 4*w^10 - 8*w^9 - 2*w^8 - 8*w^7 - 4*w^6 + 4*w^5 + 8*w^4 + 4*w^3 - 6*w^2 + 5*w + 12)*b15 + (w^23 - w^22 + w^20 - w^19 - 2*w^16 + w^14 + w^13 - w^11 + w^10 - w^8 + w^7 + 2*w^2 - 3)*b16 + (4*w^23 - 11*w^22 - 13*w^21 + 4*w^20 + w^19 - w^18 - 2*w^17 - w^16 + 4*w^15 + w^14 + 9*w^13 + 5*w^12 - 8*w^11 + 3*w^10 + 9*w^9 + 7*w^7 + 5*w^6 - 4*w^5 - 8*w^4 - 3*w^3 + 9*w^2 - 6*w - 13)*b17 + (w^23 - 8*w^22 - 11*w^21 + 4*w^19 - w^18 - 2*w^17 + 4*w^16 + 4*w^15 - w^14 + 5*w^13 + 5*w^12 - 4*w^11 + 7*w^9 + 4*w^8 + 4*w^7 + 3*w^6 - 3*w^5 - 7*w^4 - 3*w^3 + 2*w^2 - 4*w - 7)*b18 + (-5*w^23 + w^22 + 4*w^21 - 4*w^20 - 2*w^19 + 3*w^18 + 5*w^17 + 3*w^16 + w^14 - 5*w^13 - 3*w^12 + 6*w^11 - 4*w^9 + 4*w^8 - 4*w^6 + 2*w^4 - 3*w^3 - 9*w^2 + w + 8)*b19 + (-8*w^23 + 7*w^22 + 13*w^21 - 6*w^20 - 5*w^19 + 4*w^18 + 8*w^17 + w^16 - 5*w^15 + 4*w^14 - 7*w^13 - 9*w^12 + 9*w^11 + 2*w^10 - 8*w^9 - 4*w^7 - 3*w^6 + w^5 + 4*w^4 + w^3 - 12*w^2 + 3*w + 13)*b20 + (-w^23 + 4*w^22 + 5*w^21 - w^20 - 3*w^15 - 3*w^12 + w^10 - 2*w^9 - 3*w^8 - 3*w^7 + w^6 + w^5 + 3*w^3 + 3)*b21 + (9*w^23 - 3*w^22 - 9*w^21 + 8*w^20 + 4*w^19 - 4*w^18 - 8*w^17 - 4*w^16 + 4*w^15 - 4*w^14 + 4*w^13 + 8*w^12 - 8*w^11 - 4*w^10 + 5*w^9 - 2*w^8 + 2*w^7 + w^6 + 12*w^2 - 12)*b22 + (10*w^23 - 4*w^22 - 9*w^21 + 8*w^20 + 4*w^19 - 4*w^18 - 8*w^17 - 4*w^16 + 4*w^15 - 4*w^14 + 4*w^13 + 8*w^12 - 8*w^11 - 4*w^10 + 5*w^9 - 2*w^8 + 2*w^7 + w^6 + 12*w^2 - 12)*b23],\n",
       " [a + (-3*w^23 + 2*w^22 - 3*w^20 + 2*w^19 - 2*w^17 + 2*w^16 + w^14 + 3*w^11 - 2*w^10 + 3*w^8 - 2*w^7 - 3*w^2 + 3*w - 2)*b1 + (4*w^23 - 3*w^22 + 2*w^21 + 4*w^20 - 3*w^19 + 2*w^17 - 2*w^16 - 2*w^14 + w^13 - 4*w^11 + 3*w^10 - 2*w^9 - 4*w^8 + 3*w^7 - 2*w^6 + 5*w^2 - 5*w + 6)*b2 + (-6*w^23 + 4*w^22 - 3*w^21 - 4*w^20 + 2*w^19 - w^18 + 6*w^14 - 2*w^13 + w^12 + 6*w^11 - 4*w^10 + 3*w^9 + 4*w^8 - 4*w^7 + 3*w^6 - 2*w^5 + w^3 - 8*w^2 + 8*w - 7)*b3 + (7*w^23 - 6*w^22 + 4*w^21 + 2*w^20 - 2*w^19 + 2*w^18 - 3*w^17 + 2*w^16 - 7*w^14 + 6*w^13 - 2*w^12 - 6*w^11 + 6*w^10 - 4*w^9 - 4*w^8 + 4*w^7 - 4*w^6 + 3*w^5 - w^4 - 2*w^3 + 11*w^2 - 10*w + 8)*b4 + (-8*w^23 + 7*w^22 - 8*w^21 - 2*w^20 + 2*w^19 - 4*w^18 + 4*w^17 - 3*w^16 + 2*w^15 + 8*w^14 - 7*w^13 + 6*w^12 + 6*w^11 - 6*w^10 + 6*w^9 + 4*w^8 - 4*w^7 + 4*w^6 - 3*w^5 + w^4 + 2*w^3 - 12*w^2 + 11*w - 10)*b5 + (10*w^23 - 10*w^22 + 9*w^21 + 2*w^20 - 4*w^19 + 4*w^18 - 4*w^17 + 4*w^16 - 3*w^15 - 8*w^14 + 8*w^13 - 7*w^12 - 4*w^11 + 6*w^10 - 6*w^9 - 4*w^8 + 4*w^7 - 3*w^6 + 2*w^5 - w^3 + 12*w^2 - 12*w + 11)*b6 + (-13*w^23 + 12*w^22 - 10*w^21 - 4*w^20 + 4*w^19 - 4*w^18 + 4*w^17 - 4*w^16 + 4*w^15 + 8*w^14 - 8*w^13 + 8*w^12 + 4*w^11 - 4*w^10 + 6*w^9 + 5*w^8 - 3*w^7 + 2*w^6 - 12*w^2 + 12*w - 12)*b7 + (14*w^23 - 13*w^22 + 12*w^21 + 4*w^20 - 4*w^19 + 4*w^18 - 4*w^17 + 4*w^16 - 6*w^15 - 8*w^14 + 8*w^13 - 10*w^12 - 4*w^11 + 4*w^10 - 6*w^9 - 5*w^8 + 3*w^7 + 2*w^3 + 12*w^2 - 12*w + 14)*b8 + (-14*w^23 + 14*w^22 - 13*w^21 - 2*w^20 + 4*w^19 - 4*w^18 + 4*w^17 - 6*w^16 + 6*w^15 + 8*w^14 - 10*w^13 + 10*w^12 + 4*w^11 - 6*w^10 + 7*w^9 + 6*w^8 - 2*w^7 + w^6 + 2*w^4 - 2*w^3 - 12*w^2 + 14*w - 14)*b9 + (14*w^23 - 14*w^22 + 14*w^21 + w^20 - 2*w^19 + 4*w^18 - 6*w^17 + 6*w^16 - 6*w^15 - 10*w^14 + 10*w^13 - 10*w^12 - 6*w^11 + 7*w^10 - 8*w^9 - 4*w^8 + 4*w^7 - 2*w^6 + 3*w^5 - 2*w^4 + 2*w^3 + 14*w^2 - 14*w + 14)*b10 + (-14*w^23 + 14*w^22 - 14*w^21 + w^19 - 4*w^18 + 6*w^17 - 6*w^16 + 4*w^15 + 10*w^14 - 10*w^13 + 8*w^12 + 7*w^11 - 8*w^10 + 10*w^9 + 4*w^8 - 4*w^7 + 6*w^6 - 4*w^5 + 3*w^4 - 14*w^2 + 14*w - 14)*b11 + (14*w^23 - 14*w^22 + 14*w^21 - 2*w^19 + 3*w^18 - 4*w^17 + 4*w^16 - 4*w^15 - 10*w^14 + 8*w^13 - 7*w^12 - 8*w^11 + 10*w^10 - 10*w^9 - 4*w^8 + 6*w^7 - 6*w^6 + 6*w^5 - 2*w^4 + w^3 + 14*w^2 - 14*w + 14)*b12 + (-14*w^23 + 14*w^22 - 14*w^21 - 2*w^20 + 2*w^19 - 2*w^18 + w^17 - 2*w^16 + 4*w^15 + 8*w^14 - 7*w^13 + 6*w^12 + 10*w^11 - 10*w^10 + 10*w^9 + 6*w^8 - 6*w^7 + 6*w^6 - 4*w^5 + 4*w^4 - 2*w^3 - 13*w^2 + 14*w - 14)*b13 + (14*w^23 - 14*w^22 + 12*w^21 + 2*w^20 - 2*w^19 + w^16 - 4*w^15 - 7*w^14 + 6*w^13 - 4*w^12 - 10*w^11 + 10*w^10 - 8*w^9 - 6*w^8 + 6*w^7 - 4*w^6 + 4*w^5 - 4*w^4 + 4*w^3 + 12*w^2 - 13*w + 14)*b14 + (-14*w^23 + 12*w^22 - 12*w^21 - 2*w^20 - 2*w^16 + 4*w^15 + 8*w^14 - 4*w^13 + 4*w^12 + 10*w^11 - 8*w^10 + 8*w^9 + 6*w^8 - 4*w^7 + 4*w^6 - 4*w^5 + 4*w^4 - 4*w^3 - 10*w^2 + 12*w - 13)*b15 + (11*w^23 - 12*w^22 + 12*w^21 - w^20 - 2*w^17 + 3*w^16 - 4*w^15 - 6*w^14 + 6*w^13 - 4*w^12 - 7*w^11 + 8*w^10 - 8*w^9 - 3*w^8 + 4*w^7 - 4*w^6 + 4*w^5 - 4*w^4 + 4*w^3 + 9*w^2 - 10*w + 12)*b16 + (-10*w^23 + 11*w^22 - 12*w^21 + 2*w^20 - w^19 - 2*w^18 + 3*w^17 - 4*w^16 + 4*w^15 + 6*w^14 - 6*w^13 + 6*w^12 + 6*w^11 - 7*w^10 + 8*w^9 + 2*w^8 - 3*w^7 + 4*w^6 - 4*w^5 + 4*w^4 - 2*w^3 - 8*w^2 + 9*w - 8)*b17 + (8*w^23 - 10*w^22 + 11*w^21 - 4*w^20 + 2*w^18 - 4*w^17 + 4*w^16 - 4*w^15 - 4*w^14 + 6*w^13 - 6*w^12 - 2*w^11 + 6*w^10 - 7*w^9 + 2*w^7 - 3*w^6 + 4*w^5 - 2*w^4 + 2*w^3 + 6*w^2 - 6*w + 7)*b18 + (-7*w^23 + 8*w^22 - 10*w^21 + 2*w^20 - w^19 - 2*w^18 + 3*w^17 - 4*w^16 + 4*w^15 + 3*w^14 - 4*w^13 + 6*w^12 + w^11 - 2*w^10 + 6*w^9 + 2*w^6 - w^5 + 2*w^4 - 2*w^3 - 3*w^2 + 4*w - 6)*b19 + (6*w^23 - 7*w^22 + 6*w^21 - w^20 - 2*w^17 + 3*w^16 - 4*w^15 - 2*w^14 + 3*w^13 - 4*w^12 + w^10 - 2*w^9 + 2*w^6 - w^4 + 4*w^3 + 2*w^2 - 3*w + 4)*b20 + (-4*w^23 + 4*w^22 - 4*w^21 - 2*w^16 + 3*w^15 - 2*w^13 + 3*w^12 + w^9 + 2*w^8 + 2*w^7 - 2*w^6 + 2*w^5 + 2*w^4 - 3*w^3 + 2*w - 3)*b21 + (w^23 - w^22 + 2*w^21 - 2*w^15 - 2*w^12 + 2*w^6 + 2*w^3 + 2)*b22 + (w^23 - w^22 + 2*w^21 - 2*w^15 - 2*w^12 + 2*w^6 + 2*w^3 + 2)*b23, b0 + (2*w^23 - w^22 + 2*w^20 - w^19 + w^17 - w^16 - w^14 - 2*w^11 + w^10 - 2*w^8 + w^7 + 2*w^2 - 2*w + 3)*b1 + (-4*w^23 + 2*w^22 - w^21 - 4*w^20 + 2*w^19 - w^17 + w^16 + 3*w^14 - w^13 + 4*w^11 - 2*w^10 + w^9 + 4*w^8 - 2*w^7 + w^6 - 5*w^2 + 5*w - 5)*b2 + (5*w^23 - 4*w^22 + 2*w^21 + 4*w^20 - 3*w^19 + w^18 - 5*w^14 + 3*w^13 - w^12 - 5*w^11 + 4*w^10 - 2*w^9 - 4*w^8 + 4*w^7 - 2*w^6 + w^5 - w^3 + 8*w^2 - 8*w + 6)*b3 + (-6*w^23 + 5*w^22 - 4*w^21 - 3*w^20 + 3*w^19 - 3*w^18 + 2*w^17 - w^16 + 6*w^14 - 5*w^13 + 3*w^12 + 5*w^11 - 5*w^10 + 4*w^9 + 4*w^8 - 4*w^7 + 4*w^6 - 2*w^5 + 3*w^3 - 10*w^2 + 9*w - 8)*b4 + (8*w^23 - 6*w^22 + 6*w^21 + 3*w^20 - 3*w^19 + 4*w^18 - 4*w^17 + 2*w^16 - w^15 - 8*w^14 + 6*w^13 - 5*w^12 - 5*w^11 + 5*w^10 - 5*w^9 - 4*w^8 + 4*w^7 - 4*w^6 + 3*w^5 + w^4 - 3*w^3 + 12*w^2 - 10*w + 9)*b5 + (-9*w^23 + 9*w^22 - 7*w^21 - 3*w^20 + 4*w^19 - 4*w^18 + 4*w^17 - 4*w^16 + 2*w^15 + 8*w^14 - 8*w^13 + 6*w^12 + 4*w^11 - 5*w^10 + 5*w^9 + 4*w^8 - 4*w^7 + 3*w^6 - w^5 + 2*w^3 - 12*w^2 + 12*w - 10)*b6 + (11*w^23 - 10*w^22 + 9*w^21 + 4*w^20 - 4*w^19 + 4*w^18 - 4*w^17 + 4*w^16 - 4*w^15 - 8*w^14 + 8*w^13 - 8*w^12 - 4*w^11 + 4*w^10 - 5*w^9 - 5*w^8 + 3*w^7 - w^6 + 12*w^2 - 12*w + 12)*b7 + (-13*w^23 + 11*w^22 - 10*w^21 - 4*w^20 + 4*w^19 - 4*w^18 + 4*w^17 - 4*w^16 + 5*w^15 + 8*w^14 - 8*w^13 + 9*w^12 + 4*w^11 - 4*w^10 + 5*w^9 + 6*w^8 - 2*w^7 - w^3 - 12*w^2 + 12*w - 13)*b8 + (13*w^23 - 13*w^22 + 11*w^21 + 3*w^20 - 4*w^19 + 4*w^18 - 4*w^17 + 5*w^16 - 5*w^15 - 8*w^14 + 9*w^13 - 9*w^12 - 4*w^11 + 5*w^10 - 6*w^9 - 5*w^8 + 3*w^7 - w^6 - w^4 + w^3 + 12*w^2 - 13*w + 13)*b9 + (-13*w^23 + 13*w^22 - 13*w^21 - 2*w^20 + 3*w^19 - 4*w^18 + 5*w^17 - 5*w^16 + 5*w^15 + 9*w^14 - 9*w^13 + 9*w^12 + 5*w^11 - 6*w^10 + 8*w^9 + 4*w^8 - 4*w^7 + 3*w^6 - 2*w^5 + w^4 - w^3 - 13*w^2 + 13*w - 13)*b10 + (13*w^23 - 13*w^22 + 13*w^21 - 2*w^19 + 4*w^18 - 5*w^17 + 5*w^16 - 4*w^15 - 9*w^14 + 9*w^13 - 8*w^12 - 6*w^11 + 8*w^10 - 9*w^9 - 4*w^8 + 4*w^7 - 5*w^6 + 4*w^5 - 2*w^4 + 13*w^2 - 13*w + 13)*b11 + (-13*w^23 + 13*w^22 - 13*w^21 + w^19 - 3*w^18 + 4*w^17 - 4*w^16 + 4*w^15 + 9*w^14 - 8*w^13 + 7*w^12 + 8*w^11 - 9*w^10 + 9*w^9 + 4*w^8 - 5*w^7 + 5*w^6 - 5*w^5 + 3*w^4 - w^3 - 13*w^2 + 13*w - 13)*b12 + (13*w^23 - 13*w^22 + 13*w^21 + w^20 - w^19 + w^18 - 2*w^17 + 3*w^16 - 4*w^15 - 8*w^14 + 7*w^13 - 5*w^12 - 9*w^11 + 9*w^10 - 9*w^9 - 5*w^8 + 5*w^7 - 5*w^6 + 4*w^5 - 4*w^4 + 3*w^3 + 12*w^2 - 13*w + 13)*b13 + (-13*w^23 + 13*w^22 - 12*w^21 - w^20 + w^19 - 2*w^16 + 4*w^15 + 7*w^14 - 5*w^13 + 4*w^12 + 9*w^11 - 9*w^10 + 8*w^9 + 5*w^8 - 5*w^7 + 4*w^6 - 4*w^5 + 4*w^4 - 4*w^3 - 10*w^2 + 12*w - 13)*b14 + (13*w^23 - 12*w^22 + 12*w^21 + w^20 + w^16 - 4*w^15 - 6*w^14 + 4*w^13 - 4*w^12 - 9*w^11 + 8*w^10 - 8*w^9 - 5*w^8 + 4*w^7 - 4*w^6 + 4*w^5 - 4*w^4 + 4*w^3 + 9*w^2 - 10*w + 12)*b15 + (-11*w^23 + 12*w^22 - 12*w^21 + w^20 + w^17 - 2*w^16 + 4*w^15 + 5*w^14 - 5*w^13 + 4*w^12 + 7*w^11 - 8*w^10 + 8*w^9 + 3*w^8 - 4*w^7 + 4*w^6 - 4*w^5 + 4*w^4 - 4*w^3 - 8*w^2 + 9*w - 10)*b16 + (9*w^23 - 11*w^22 + 12*w^21 - 3*w^20 + w^19 + w^18 - 2*w^17 + 4*w^16 - 4*w^15 - 5*w^14 + 5*w^13 - 5*w^12 - 5*w^11 + 7*w^10 - 8*w^9 - w^8 + 3*w^7 - 4*w^6 + 4*w^5 - 4*w^4 + 3*w^3 + 6*w^2 - 8*w + 8)*b17 + (-8*w^23 + 9*w^22 - 11*w^21 + 4*w^20 - 2*w^19 - w^18 + 4*w^17 - 4*w^16 + 4*w^15 + 4*w^14 - 5*w^13 + 5*w^12 + 3*w^11 - 5*w^10 + 7*w^9 - w^7 + 3*w^6 - 4*w^5 + 3*w^4 - 3*w^3 - 5*w^2 + 5*w - 7)*b18 + (7*w^23 - 8*w^22 + 9*w^21 - 3*w^20 + 2*w^19 + w^18 - 3*w^17 + 4*w^16 - 4*w^15 - 3*w^14 + 4*w^13 - 5*w^12 - 2*w^11 + 3*w^10 - 5*w^9 - w^6 + 2*w^5 - 3*w^4 + 3*w^3 + 3*w^2 - 4*w + 5)*b19 + (-5*w^23 + 7*w^22 - 7*w^21 + 2*w^20 + w^17 - 3*w^16 + 4*w^15 + w^14 - 3*w^13 + 4*w^12 - 2*w^10 + 3*w^9 - w^6 + 2*w^4 - 4*w^3 - w^2 + 3*w - 4)*b20 + (4*w^23 - 4*w^22 + 5*w^21 + w^16 - 3*w^15 + w^13 - 3*w^12 - 2*w^9 - w^8 - w^7 + w^6 - w^5 - w^4 + 3*w^3 - w + 3)*b21 + (-2*w^23 + 2*w^22 - w^21 + w^15 + w^12 - w^6 - w^3 - 1)*b22 + (-w^23 + w^22 - w^21 + w^15 + w^12 - w^6 - w^3 - 1)*b23],\n",
       " [a + (-w^23 - 4*w^22 - 4*w^21 - 3*w^20 - 2*w^18 - 4*w^17 + 2*w^16 + 4*w^15 + 3*w^14 + 8*w^13 + 6*w^12 + w^11 + 2*w^10 + w^8 - 4*w^6 - 2*w^5 - 4*w^4 - 2*w^3 + 3*w^2 - w - 4)*b1 + (-5*w^22 - 6*w^21 - 5*w^19 - 4*w^18 + 4*w^15 + 8*w^14 + 9*w^13 + 8*w^12 + 4*w^11 + w^10 + 2*w^9 - 4*w^8 - 3*w^7 - 2*w^6 - 8*w^5 - 4*w^4 + w^2 - w)*b2 + (-4*w^23 - 2*w^22 - w^21 - 8*w^20 - 4*w^19 - 3*w^18 + 2*w^16 + 4*w^15 + 10*w^14 + 8*w^13 + 7*w^12 + 8*w^11 + 4*w^10 - 3*w^9 - 2*w^8 - 6*w^7 - 7*w^6 - 4*w^5 - 4*w^4 - w^3 - 4*w^2 + 2*w + 3)*b3 + (-5*w^23 - 8*w^20 - 6*w^19 - w^17 + 4*w^16 + 4*w^15 + 7*w^14 + 8*w^13 + 4*w^12 + 10*w^11 + 4*w^10 - 4*w^9 - 2*w^8 - 6*w^7 - 8*w^6 - 3*w^5 - w^4 - 4*w^3 - 3*w^2 + 6)*b4 + (-2*w^23 - 3*w^22 - 2*w^21 - 4*w^20 - 4*w^19 - 4*w^18 + 4*w^17 + w^16 + 2*w^15 + 8*w^14 + 3*w^13 + 6*w^12 + 6*w^11 + 2*w^10 - 2*w^8 - 4*w^7 - 2*w^6 - 5*w^5 - 3*w^4 + 2*w^3 - 6*w^2 + w + 2)*b5 + (-4*w^22 - 5*w^21 - 2*w^19 - 2*w^17 + 2*w^16 + 3*w^15 + 6*w^13 + 3*w^12 + 2*w^10 + 2*w^9 + 2*w^7 - w^6 - 2*w^5 - 2*w^4 - 3*w^3 + 4*w^2 - 4*w - 3)*b6 + (w^23 - 2*w^22 - 2*w^21 + 4*w^19 - 2*w^17 - 2*w^14 - 4*w^11 + 2*w^9 + 3*w^8 + 3*w^7 + 2*w^6 + 2*w^5 - 2*w^4 + 2*w^2 - 6)*b7 + (4*w^23 + 3*w^22 + 2*w^21 + 8*w^20 + 2*w^19 + 2*w^18 + 2*w^17 - 4*w^16 - 4*w^15 - 6*w^14 - 8*w^13 - 6*w^12 - 6*w^11 - 4*w^10 + 2*w^9 - w^8 + 3*w^7 + 6*w^6 + 2*w^5 + 4*w^4 + 2*w^3 + 2*w^2 + 2)*b8 + (8*w^22 + 9*w^21 + 2*w^20 + 6*w^19 + 4*w^18 - 2*w^16 - 6*w^15 - 8*w^14 - 12*w^13 - 10*w^12 - 4*w^11 - 4*w^10 - 3*w^9 + 4*w^8 + 2*w^7 + 3*w^6 + 8*w^5 + 6*w^4 + 2*w^3 - 2*w^2 + 4*w + 2)*b9 + (2*w^23 + 6*w^22 + 8*w^21 + 5*w^20 + 4*w^19 + 4*w^18 - 2*w^16 - 6*w^15 - 10*w^14 - 10*w^13 - 10*w^12 - 6*w^11 - 3*w^10 - 2*w^9 + 2*w^8 + 4*w^7 + 4*w^6 + 7*w^5 + 6*w^4 + 2*w^3 + 2*w^2 + 2)*b10 + (4*w^23 + 2*w^22 + 8*w^20 + 3*w^19 + 2*w^17 - 4*w^16 - 4*w^15 - 6*w^14 - 8*w^13 - 4*w^12 - 7*w^11 - 4*w^10 + 4*w^9 + 4*w^7 + 8*w^6 + 2*w^5 + 3*w^4 + 4*w^3 + 2*w^2 - 4)*b11 + (4*w^23 - 2*w^22 - 2*w^21 + 2*w^20 + 4*w^19 + w^18 - 4*w^17 - 6*w^14 - w^12 - 6*w^11 + 2*w^9 + 2*w^8 + 4*w^7 + 2*w^6 + 4*w^5 - w^3 + 6*w^2 - 2*w - 6)*b12 + (-4*w^21 - w^17 + 2*w^15 + w^13 + 2*w^12 + 2*w^9 - 2*w^3 + w^2 - 2)*b13 + (-2*w^23 - 2*w^22 + 2*w^21 - 4*w^20 - 4*w^19 - 2*w^18 + 4*w^17 + w^16 + 7*w^14 + 2*w^13 + 2*w^12 + 6*w^11 + 2*w^10 - 2*w^9 - 2*w^8 - 4*w^7 - 2*w^6 - 4*w^5 - 2*w^4 + 2*w^3 - 6*w^2 + w + 6)*b14 + (-8*w^23 - 8*w^20 - 6*w^19 + 4*w^16 + 4*w^15 + 8*w^14 + 8*w^13 + 4*w^12 + 10*w^11 + 4*w^10 - 4*w^9 - 4*w^7 - 8*w^6 - 4*w^5 - 2*w^4 - 4*w^3 - 4*w^2 + 5)*b15 + (-3*w^23 - 6*w^22 - 2*w^21 - 7*w^20 - 4*w^19 - 4*w^18 + 3*w^16 + 4*w^15 + 10*w^14 + 10*w^13 + 8*w^12 + 7*w^11 + 4*w^10 - 2*w^9 - w^8 - 4*w^7 - 6*w^6 - 6*w^5 - 6*w^4 - 3*w^2 + 2)*b16 + (-5*w^22 - 10*w^21 - 5*w^19 - 4*w^18 - w^17 + 6*w^15 + 8*w^14 + 10*w^13 + 10*w^12 + 4*w^11 + w^10 + 4*w^9 - 4*w^8 - 3*w^7 - 2*w^6 - 8*w^5 - 4*w^4 - 2*w^3 + 2*w^2 - w - 2)*b17 + (-4*w^22 - 3*w^21 - 6*w^20 - 2*w^18 - 4*w^17 + 2*w^16 + 4*w^15 + 4*w^14 + 8*w^13 + 6*w^12 + 2*w^11 + 4*w^10 - w^9 - 2*w^7 - 5*w^6 - 4*w^4 - 2*w^3 + 2*w^2 - 3)*b18 + (-w^23 + 2*w^22 - 3*w^19 + w^17 + w^14 + 3*w^11 - 2*w^8 - 2*w^7 - w^5 + 2*w^4 - w^2 + 2)*b19 + (3*w^22 + 6*w^21 + w^20 + 4*w^17 - w^16 - 4*w^15 - 2*w^14 - 7*w^13 - 4*w^12 - w^10 - 2*w^9 + 2*w^6 + 2*w^5 + 3*w^4 + 4*w^3 - 4*w^2 + w + 4)*b20 + (4*w^22 + 4*w^21 + 2*w^20 + 4*w^19 + 4*w^18 - 2*w^17 - 3*w^15 - 8*w^14 - 6*w^13 - 7*w^12 - 4*w^11 - 2*w^10 - w^9 + 4*w^8 + 4*w^7 + 2*w^6 + 6*w^5 + 4*w^4 - w^3 + 2*w^2 - 1)*b21 + (5*w^23 + w^22 + 8*w^20 + 6*w^19 + 2*w^18 - 4*w^16 - 4*w^15 - 8*w^14 - 8*w^13 - 6*w^12 - 10*w^11 - 4*w^10 + 4*w^9 + 2*w^8 + 6*w^7 + 8*w^6 + 4*w^5 + 2*w^4 + 2*w^3 + 4*w^2 - 4)*b22 + (5*w^23 + w^22 + 8*w^20 + 6*w^19 + 2*w^18 - 4*w^16 - 4*w^15 - 8*w^14 - 8*w^13 - 6*w^12 - 10*w^11 - 4*w^10 + 4*w^9 + 2*w^8 + 6*w^7 + 8*w^6 + 4*w^5 + 2*w^4 + 2*w^3 + 4*w^2 - 4)*b23, b0 + (w^23 + 4*w^22 + 4*w^21 + 4*w^20 + w^18 + 4*w^17 - 3*w^16 - 4*w^15 - 2*w^14 - 8*w^13 - 5*w^12 - w^11 - 3*w^10 - w^8 + 4*w^6 + w^5 + 4*w^4 + 3*w^3 - 3*w^2 + 2*w + 4)*b1 + (5*w^22 + 7*w^21 + 5*w^19 + 4*w^18 - 2*w^17 - 4*w^15 - 8*w^14 - 7*w^13 - 8*w^12 - 4*w^11 - w^10 - 3*w^9 + 4*w^8 + 3*w^7 + w^6 + 8*w^5 + 4*w^4 + w^2 + w)*b2 + (4*w^23 + 3*w^22 + w^21 + 8*w^20 + 4*w^19 + 2*w^18 - 3*w^16 - 4*w^15 - 9*w^14 - 8*w^13 - 6*w^12 - 8*w^11 - 4*w^10 + 3*w^9 + w^8 + 5*w^7 + 7*w^6 + 4*w^5 + 4*w^4 + 2*w^3 + 4*w^2 - w - 3)*b3 + (6*w^23 + 8*w^20 + 5*w^19 + w^17 - 4*w^16 - 4*w^15 - 7*w^14 - 8*w^13 - 4*w^12 - 9*w^11 - 4*w^10 + 4*w^9 + w^8 + 5*w^7 + 8*w^6 + 3*w^5 + 2*w^4 + 4*w^3 + 3*w^2 - 5)*b4 + (w^23 + 3*w^22 + w^21 + 2*w^20 + 4*w^19 + 4*w^18 - 4*w^17 - w^15 - 8*w^14 - 3*w^13 - 5*w^12 - 5*w^11 - w^10 + 3*w^8 + 4*w^7 + w^6 + 6*w^5 + 3*w^4 - 3*w^3 + 5*w^2 - w - 3)*b5 + (2*w^22 + 4*w^21 + w^19 + 3*w^17 - w^16 - 3*w^15 - 5*w^13 - 3*w^12 - w^10 - w^9 - w^7 + 2*w^6 + w^5 + w^4 + 3*w^3 - 4*w^2 + 2*w + 3)*b6 + (-2*w^23 + w^22 + w^21 - 4*w^19 + 3*w^17 + 3*w^14 + 4*w^11 - w^9 - 2*w^8 - 2*w^7 - w^6 - 3*w^5 + w^4 - 3*w^2 + 5)*b7 + (-4*w^23 - 3*w^22 - w^21 - 8*w^20 - w^19 - w^18 - 3*w^17 + 4*w^16 + 4*w^15 + 5*w^14 + 8*w^13 + 5*w^12 + 5*w^11 + 4*w^10 - 3*w^9 + 2*w^8 - 2*w^7 - 7*w^6 - w^5 - 4*w^4 - 3*w^3 - w^2 - 1)*b8 + (-6*w^22 - 8*w^21 - w^20 - 5*w^19 - 4*w^18 + w^16 + 5*w^15 + 8*w^14 + 10*w^13 + 9*w^12 + 4*w^11 + 2*w^10 + 3*w^9 - 4*w^8 - 3*w^7 - 2*w^6 - 8*w^5 - 5*w^4 - w^3 + w^2 - 2*w - 1)*b9 + (-w^23 - 5*w^22 - 6*w^21 - 4*w^20 - 4*w^19 - 4*w^18 + w^16 + 5*w^15 + 9*w^14 + 9*w^13 + 9*w^12 + 5*w^11 + 3*w^10 + w^9 - 3*w^8 - 4*w^7 - 4*w^6 - 6*w^5 - 5*w^4 - w^3 - w^2 - 1)*b10 + (-4*w^23 - w^22 - 8*w^20 - 3*w^19 - 3*w^17 + 4*w^16 + 4*w^15 + 5*w^14 + 8*w^13 + 4*w^12 + 7*w^11 + 4*w^10 - 4*w^9 - 4*w^7 - 8*w^6 - w^5 - 2*w^4 - 4*w^3 - w^2 + 2)*b11 + (-2*w^23 + w^22 + w^21 - w^20 - 4*w^19 - 2*w^18 + 4*w^17 + 5*w^14 + 2*w^12 + 5*w^11 - w^9 - 3*w^8 - 4*w^7 - w^6 - 4*w^5 + 2*w^3 - 5*w^2 + w + 5)*b12 + (2*w^21 + w^17 - w^15 - w^13 - w^12 - w^9 + w^3 - w^2 + 1)*b13 + (w^23 + w^22 - w^21 + 2*w^20 + 4*w^19 + 3*w^18 - 4*w^17 - 6*w^14 - w^13 - 3*w^12 - 5*w^11 - w^10 + w^9 + 3*w^8 + 4*w^7 + w^6 + 4*w^5 + w^4 - 3*w^3 + 5*w^2 - w - 5)*b14 + (6*w^23 + 8*w^20 + 5*w^19 + 2*w^17 - 4*w^16 - 4*w^15 - 6*w^14 - 8*w^13 - 4*w^12 - 9*w^11 - 4*w^10 + 4*w^9 + 4*w^7 + 8*w^6 + 2*w^5 + w^4 + 4*w^3 + 2*w^2 - 3)*b15 + (2*w^23 + 5*w^22 + 3*w^21 + 6*w^20 + 4*w^19 + 4*w^18 - 2*w^16 - 4*w^15 - 9*w^14 - 9*w^13 - 8*w^12 - 6*w^11 - 4*w^10 + w^9 + 2*w^8 + 4*w^7 + 5*w^6 + 5*w^5 + 5*w^4 + 2*w^2 - 1)*b16 + (5*w^22 + 9*w^21 + 5*w^19 + 4*w^18 - 5*w^15 - 8*w^14 - 9*w^13 - 9*w^12 - 4*w^11 - w^10 - 4*w^9 + 4*w^8 + 3*w^7 + w^6 + 8*w^5 + 4*w^4 + w^3 - w^2 + w + 1)*b17 + (2*w^23 + 4*w^22 + 2*w^21 + 7*w^20 + w^18 + 4*w^17 - 3*w^16 - 4*w^15 - 4*w^14 - 8*w^13 - 5*w^12 - 3*w^11 - 4*w^10 + 2*w^9 - 2*w^8 + w^7 + 6*w^6 + 4*w^4 + 3*w^3 - w^2 + 2)*b18 + (2*w^23 - w^22 + 3*w^19 - 2*w^17 - 2*w^14 - 3*w^11 + w^8 + w^7 + 2*w^5 - w^4 + 2*w^2 - 3)*b19 + (-2*w^22 - 5*w^21 - w^20 - 4*w^17 + w^16 + 4*w^15 + w^14 + 6*w^13 + 4*w^12 + w^10 + w^9 - 3*w^6 - w^5 - 2*w^4 - 4*w^3 + 4*w^2 - w - 4)*b20 + (-4*w^22 - 3*w^21 - w^20 - 4*w^19 - 4*w^18 + 3*w^17 + 2*w^15 + 8*w^14 + 5*w^13 + 6*w^12 + 4*w^11 + w^10 + w^9 - 4*w^8 - 4*w^7 - w^6 - 7*w^5 - 4*w^4 + 2*w^3 - 3*w^2 + 2)*b21 + (-6*w^23 - w^22 - 8*w^20 - 5*w^19 - w^18 + 4*w^16 + 4*w^15 + 8*w^14 + 8*w^13 + 5*w^12 + 9*w^11 + 4*w^10 - 4*w^9 - w^8 - 5*w^7 - 8*w^6 - 4*w^5 - 3*w^4 - 3*w^3 - 4*w^2 + 4)*b22 + (-5*w^23 - 2*w^22 - 8*w^20 - 5*w^19 - w^18 + 4*w^16 + 4*w^15 + 8*w^14 + 8*w^13 + 5*w^12 + 9*w^11 + 4*w^10 - 4*w^9 - w^8 - 5*w^7 - 8*w^6 - 4*w^5 - 3*w^4 - 3*w^3 - 4*w^2 + 4)*b23],\n",
       " [a + (9*w^23 - 2*w^22 - 12*w^21 - 3*w^20 - 2*w^19 + 2*w^16 + 4*w^15 - 7*w^14 - 2*w^13 + 4*w^12 - w^11 + 6*w^10 + 8*w^9 - 5*w^8 - 2*w^7 + 4*w^6 + 8*w^5 + 4*w^4 - 4*w^3 + 3*w^2 - 5*w - 12)*b1 + (10*w^23 - 3*w^22 - 14*w^21 - 2*w^20 - 3*w^19 - 2*w^18 + 2*w^17 + 4*w^16 + 4*w^15 - 10*w^14 - 3*w^13 + 6*w^12 - 2*w^11 + 7*w^10 + 10*w^9 - 6*w^8 - w^7 + 6*w^6 + 8*w^5 + 4*w^4 - 2*w^3 + 3*w^2 - 9*w - 14)*b2 + (2*w^23 - 2*w^22 - 3*w^21 - 2*w^19 - w^18 + 2*w^17 + 4*w^16 - 6*w^14 - 2*w^13 + w^12 + 2*w^10 + 3*w^9 + 2*w^7 + 3*w^6 + 2*w^5 + 2*w^4 + w^3 - 6*w - 7)*b3 + (-5*w^23 + 2*w^22 + 10*w^21 + 4*w^20 + 2*w^19 + 2*w^18 + w^17 - 2*w^16 - 4*w^15 + w^14 - 2*w^13 - 6*w^12 - 2*w^11 - 4*w^10 - 6*w^9 + 4*w^8 + 4*w^7 - 2*w^6 - 3*w^5 - w^4 + 2*w^3 - w^2 + 2*w + 6)*b4 + (-6*w^23 + 7*w^22 + 14*w^21 + 6*w^20 + 8*w^19 + 4*w^18 - 2*w^17 - 7*w^16 - 6*w^15 + 6*w^14 - 3*w^13 - 10*w^12 - 4*w^11 - 10*w^10 - 8*w^9 + 4*w^8 - 2*w^6 - 5*w^5 - 3*w^4 + 2*w^3 - 2*w^2 + 11*w + 14)*b5 + (-2*w^23 + 6*w^22 + 9*w^21 + 4*w^20 + 8*w^19 + 4*w^18 - 4*w^17 - 6*w^16 - 3*w^15 + 4*w^14 - 2*w^13 - 7*w^12 - 4*w^11 - 8*w^10 - 6*w^9 + 2*w^8 - 2*w^7 - 3*w^6 - 2*w^5 - 2*w^4 - w^3 + 10*w + 11)*b6 + (w^23 - 2*w^21 + 2*w^15 + 2*w^12 - w^8 - w^7 - 2*w^6 - 2*w^3 - 2)*b7 + (4*w^23 - 7*w^22 - 10*w^21 - 4*w^20 - 8*w^19 - 4*w^18 + 4*w^17 + 8*w^16 + 4*w^15 - 4*w^14 + 4*w^13 + 8*w^12 + 4*w^11 + 8*w^10 + 6*w^9 - 5*w^8 - w^7 + 2*w^6 - 12*w - 12)*b8 + (4*w^23 - 6*w^22 - 13*w^21 - 6*w^20 - 8*w^19 - 4*w^18 + 4*w^17 + 8*w^16 + 6*w^15 - 4*w^14 + 4*w^13 + 10*w^12 + 4*w^11 + 10*w^10 + 7*w^9 - 6*w^8 - 2*w^7 + w^6 + 2*w^5 - 2*w^3 - 12*w - 14)*b9 + (4*w^23 - 2*w^22 - 6*w^21 - 3*w^20 - 2*w^19 + 2*w^16 + 4*w^15 + 2*w^13 + 4*w^12 + 2*w^11 + 3*w^10 + 2*w^9 - 4*w^8 - 4*w^7 - 2*w^6 + w^5 - 4*w^3 - 2*w - 4)*b10 + (-2*w^23 + 4*w^22 + 4*w^21 + 2*w^20 + 5*w^19 + 2*w^18 - 2*w^17 - 4*w^16 + 6*w^14 - 2*w^12 - w^11 - 6*w^10 - 4*w^9 - 4*w^7 - 4*w^6 - 4*w^5 - 3*w^4 - 2*w^3 - 2*w^2 + 8*w + 8)*b11 + (-8*w^23 + 4*w^22 + 14*w^21 + 4*w^20 + 6*w^19 + 3*w^18 - 2*w^17 - 4*w^16 - 4*w^15 + 8*w^14 + 2*w^13 - 7*w^12 - 2*w^11 - 8*w^10 - 10*w^9 + 4*w^8 - 6*w^6 - 8*w^5 - 6*w^4 + w^3 - 2*w^2 + 8*w + 14)*b12 + (-8*w^23 + 2*w^22 + 12*w^21 + 4*w^20 + 2*w^19 + 2*w^18 + w^17 - 2*w^16 - 4*w^15 + 6*w^14 + w^13 - 6*w^12 - 6*w^10 - 8*w^9 + 4*w^8 + 2*w^7 - 4*w^6 - 8*w^5 - 4*w^4 + 2*w^3 - 3*w^2 + 4*w + 8)*b13 + (2*w^23 + 2*w^20 + 2*w^17 + w^16 - 3*w^14 - 2*w^13 - 2*w^11 - 2*w^8 - 3*w - 2)*b14 + (10*w^23 - 12*w^21 - 2*w^20 + 4*w^16 + 4*w^15 - 10*w^14 - 4*w^13 + 4*w^12 - 2*w^11 + 4*w^10 + 8*w^9 - 6*w^8 - 4*w^7 + 4*w^6 + 8*w^5 + 4*w^4 - 4*w^3 + 2*w^2 - 6*w - 13)*b15 + (11*w^23 - 2*w^22 - 12*w^21 - w^20 - 2*w^19 + 2*w^17 + 3*w^16 + 4*w^15 - 10*w^14 - 4*w^13 + 4*w^12 - 3*w^11 + 6*w^10 + 8*w^9 - 7*w^8 - 2*w^7 + 4*w^6 + 8*w^5 + 4*w^4 - 4*w^3 + 3*w^2 - 8*w - 14)*b16 + (2*w^23 - w^22 - 2*w^21 + 2*w^20 - w^19 + 3*w^17 + 2*w^16 - 4*w^14 - 2*w^13 - 2*w^11 + w^10 + 2*w^9 - 2*w^8 + w^7 + 2*w^6 - 5*w - 6)*b17 + (-6*w^23 + 2*w^22 + 11*w^21 + 4*w^20 + 4*w^19 + 2*w^18 - 4*w^15 + 2*w^14 - 6*w^12 - 2*w^11 - 6*w^10 - 7*w^9 + 4*w^8 + 2*w^7 - 3*w^6 - 6*w^5 - 4*w^4 + 2*w^3 - 2*w^2 + 2*w + 7)*b18 + (-7*w^23 + 6*w^22 + 14*w^21 + 6*w^20 + 7*w^19 + 4*w^18 - w^17 - 6*w^16 - 4*w^15 + 7*w^14 - 2*w^13 - 8*w^12 - 3*w^11 - 10*w^10 - 10*w^9 + 4*w^8 - 6*w^6 - 7*w^5 - 4*w^4 - 3*w^2 + 10*w + 14)*b19 + (-2*w^23 + 5*w^22 + 8*w^21 + 3*w^20 + 6*w^19 + 4*w^18 - 2*w^17 - 5*w^16 - 2*w^15 + 6*w^14 - w^13 - 6*w^12 - 2*w^11 - 7*w^10 - 6*w^9 - 4*w^7 - 4*w^6 - 4*w^5 - 3*w^4 - 2*w^3 - 2*w^2 + 9*w + 10)*b20 + (2*w^23 - 4*w^21 - 2*w^20 + 2*w^16 + 3*w^15 + 2*w^13 + 3*w^12 + 2*w^10 + w^9 - 4*w^8 - 4*w^7 - 2*w^6 - 2*w^4 - 3*w^3 - 2*w - 3)*b21 + (5*w^23 - 7*w^22 - 12*w^21 - 4*w^20 - 8*w^19 - 4*w^18 + 4*w^17 + 8*w^16 + 6*w^15 - 4*w^14 + 4*w^13 + 10*w^12 + 4*w^11 + 8*w^10 + 6*w^9 - 6*w^8 - 2*w^7 - 2*w^3 - 12*w - 14)*b22 + (5*w^23 - 7*w^22 - 12*w^21 - 4*w^20 - 8*w^19 - 4*w^18 + 4*w^17 + 8*w^16 + 6*w^15 - 4*w^14 + 4*w^13 + 10*w^12 + 4*w^11 + 8*w^10 + 6*w^9 - 6*w^8 - 2*w^7 - 2*w^3 - 12*w - 14)*b23, b0 + (-10*w^23 + w^22 + 12*w^21 + 2*w^20 + w^19 - w^16 - 4*w^15 + 7*w^14 + 3*w^13 - 4*w^12 + 2*w^11 - 5*w^10 - 8*w^9 + 6*w^8 + 3*w^7 - 4*w^6 - 8*w^5 - 4*w^4 + 4*w^3 - 3*w^2 + 4*w + 10)*b1 + (-9*w^23 + 2*w^22 + 13*w^21 + 3*w^20 + 2*w^19 + w^18 - w^17 - 4*w^16 - 4*w^15 + 9*w^14 + 3*w^13 - 5*w^12 + w^11 - 6*w^10 - 9*w^9 + 5*w^8 + 2*w^7 - 5*w^6 - 8*w^5 - 4*w^4 + 3*w^3 - 2*w^2 + 7*w + 13)*b2 + (-w^23 + 3*w^22 + 2*w^21 + 3*w^19 + w^18 - 3*w^17 - 4*w^16 + 5*w^14 + w^13 - w^12 - 3*w^10 - 2*w^9 - 3*w^7 - 2*w^6 - w^5 - w^4 - w^3 + 7*w + 6)*b3 + (6*w^23 - w^22 - 9*w^21 - 4*w^20 - w^19 - w^18 - 2*w^17 + w^16 + 4*w^15 - 2*w^14 + w^13 + 5*w^12 + w^11 + 4*w^10 + 5*w^9 - 4*w^8 - 4*w^7 + w^6 + 5*w^5 + 2*w^4 - 3*w^3 + 2*w^2 - w - 5)*b4 + (5*w^23 - 6*w^22 - 13*w^21 - 5*w^20 - 8*w^19 - 4*w^18 + 3*w^17 + 6*w^16 + 5*w^15 - 5*w^14 + 2*w^13 + 9*w^12 + 4*w^11 + 9*w^10 + 8*w^9 - 4*w^8 + 3*w^6 + 4*w^5 + 3*w^4 - w^3 + w^2 - 10*w - 13)*b5 + (w^23 - 7*w^22 - 7*w^21 - 4*w^20 - 8*w^19 - 4*w^18 + 4*w^17 + 7*w^16 + 2*w^15 - 4*w^14 + 3*w^13 + 6*w^12 + 4*w^11 + 8*w^10 + 5*w^9 - w^8 + 3*w^7 + 3*w^6 + w^5 + w^4 + 2*w^3 - 11*w - 10)*b6 + (-2*w^23 + w^21 - w^15 - w^12 + 2*w^8 + 2*w^7 + w^6 + w^3 + 1)*b7 + (-2*w^23 + 6*w^22 + 9*w^21 + 4*w^20 + 8*w^19 + 4*w^18 - 4*w^17 - 8*w^16 - 4*w^15 + 4*w^14 - 4*w^13 - 8*w^12 - 4*w^11 - 8*w^10 - 5*w^9 + 4*w^8 - w^6 + 12*w + 12)*b8 + (-4*w^23 + 7*w^22 + 11*w^21 + 5*w^20 + 8*w^19 + 4*w^18 - 4*w^17 - 8*w^16 - 5*w^15 + 4*w^14 - 4*w^13 - 9*w^12 - 4*w^11 - 9*w^10 - 6*w^9 + 5*w^8 + w^7 - w^6 - w^5 + w^3 + 12*w + 13)*b9 + (-4*w^23 + w^22 + 7*w^21 + 2*w^20 + w^19 - w^16 - 4*w^15 - w^13 - 4*w^12 - w^11 - 2*w^10 - 3*w^9 + 4*w^8 + 4*w^7 + w^6 - w^5 + 4*w^3 + w + 4)*b10 + (w^23 - 4*w^22 - 4*w^21 - w^20 - 6*w^19 - 3*w^18 + 3*w^17 + 4*w^16 - 5*w^14 + 3*w^12 + 2*w^11 + 5*w^10 + 4*w^9 + 4*w^7 + 4*w^6 + 2*w^5 + 3*w^4 + 3*w^3 + w^2 - 8*w - 8)*b11 + (8*w^23 - 4*w^22 - 13*w^21 - 4*w^20 - 5*w^19 - 3*w^18 + w^17 + 4*w^16 + 4*w^15 - 8*w^14 - w^13 + 7*w^12 + w^11 + 8*w^10 + 9*w^9 - 4*w^8 + 5*w^6 + 8*w^5 + 5*w^4 - w^3 + 3*w^2 - 8*w - 13)*b12 + (8*w^23 - w^22 - 12*w^21 - 4*w^20 - w^19 - w^18 - 2*w^17 + w^16 + 4*w^15 - 5*w^14 - w^13 + 5*w^12 + 5*w^10 + 8*w^9 - 4*w^8 - 3*w^7 + 4*w^6 + 8*w^5 + 4*w^4 - 3*w^3 + 3*w^2 - 2*w - 8)*b13 + (-w^23 - w^20 - w^17 - 2*w^16 + 3*w^14 + w^13 + w^11 + w^8 + 3*w + 3)*b14 + (-11*w^23 + 12*w^21 + w^20 - 2*w^16 - 4*w^15 + 9*w^14 + 4*w^13 - 4*w^12 + 3*w^11 - 4*w^10 - 8*w^9 + 7*w^8 + 4*w^7 - 4*w^6 - 8*w^5 - 4*w^4 + 4*w^3 - 3*w^2 + 5*w + 12)*b15 + (-11*w^23 + w^22 + 12*w^21 + w^20 + w^19 - w^17 - 2*w^16 - 4*w^15 + 9*w^14 + 4*w^13 - 4*w^12 + 3*w^11 - 5*w^10 - 8*w^9 + 7*w^8 + 3*w^7 - 4*w^6 - 8*w^5 - 4*w^4 + 4*w^3 - 3*w^2 + 6*w + 13)*b16 + (-w^23 + w^22 + w^21 - w^20 + w^19 - 2*w^17 - 3*w^16 + 4*w^14 + w^13 + w^11 - w^10 - w^9 + w^8 - w^7 - w^6 + 5*w + 5)*b17 + (7*w^23 - w^22 - 11*w^21 - 4*w^20 - 2*w^19 - w^18 - 2*w^17 + 4*w^15 - 3*w^14 + 5*w^12 + w^11 + 5*w^10 + 7*w^9 - 4*w^8 - 3*w^7 + 3*w^6 + 7*w^5 + 4*w^4 - 3*w^3 + 3*w^2 - w - 7)*b18 + (7*w^23 - 5*w^22 - 13*w^21 - 5*w^20 - 6*w^19 - 4*w^18 + w^17 + 5*w^16 + 4*w^15 - 7*w^14 + w^13 + 8*w^12 + 2*w^11 + 9*w^10 + 9*w^9 - 4*w^8 + 5*w^6 + 7*w^5 + 4*w^4 + 3*w^2 - 9*w - 13)*b19 + (w^23 - 5*w^22 - 6*w^21 - 2*w^20 - 7*w^19 - 4*w^18 + 3*w^17 + 5*w^16 + w^15 - 5*w^14 + w^13 + 5*w^12 + 3*w^11 + 6*w^10 + 5*w^9 + 4*w^7 + 4*w^6 + 2*w^5 + 3*w^4 + 3*w^3 + w^2 - 9*w - 9)*b20 + (-3*w^23 + 5*w^21 + w^20 - w^16 - 3*w^15 - w^13 - 3*w^12 - w^10 - 2*w^9 + 4*w^8 + 4*w^7 + w^6 + w^4 + 3*w^3 + w + 3)*b21 + (-4*w^23 + 7*w^22 + 10*w^21 + 4*w^20 + 8*w^19 + 4*w^18 - 4*w^17 - 8*w^16 - 5*w^15 + 4*w^14 - 4*w^13 - 9*w^12 - 4*w^11 - 8*w^10 - 5*w^9 + 5*w^8 + w^7 + w^3 + 12*w + 13)*b22 + (-3*w^23 + 6*w^22 + 10*w^21 + 4*w^20 + 8*w^19 + 4*w^18 - 4*w^17 - 8*w^16 - 5*w^15 + 4*w^14 - 4*w^13 - 9*w^12 - 4*w^11 - 8*w^10 - 5*w^9 + 5*w^8 + w^7 + w^3 + 12*w + 13)*b23],\n",
       " [a + (-w^23 + 6*w^22 + 2*w^21 + 3*w^20 + 4*w^19 - 2*w^18 - 4*w^16 - w^14 - 2*w^13 + 2*w^12 - 7*w^11 - 2*w^9 - 3*w^8 - 2*w^6 + 2*w^5 - 2*w^4 + 2*w^3 + 3*w^2 + w + 6)*b1 + (w^22 + 10*w^21 + w^19 + 4*w^18 - 6*w^17 - 6*w^15 + 4*w^14 + w^13 - 10*w^12 + 8*w^11 - 9*w^10 - 4*w^9 + 4*w^8 - 5*w^7 + 2*w^6 - 4*w^5 + 4*w^4 + 2*w^3 - 3*w^2 + 9*w + 2)*b2 + (4*w^22 - w^21 + 6*w^20 - 3*w^18 + 4*w^17 - 8*w^16 + 4*w^15 - 2*w^14 - 4*w^13 + 7*w^12 - 10*w^11 + 4*w^10 - 3*w^9 - 4*w^8 + 6*w^7 - 7*w^6 + 4*w^5 - w^3 + 6*w^2 - 2*w + 3)*b3 + (w^23 - 2*w^22 - 4*w^20 + 2*w^19 - 5*w^17 + 8*w^16 - 4*w^15 - w^14 + 4*w^13 - 4*w^12 + 6*w^11 - 4*w^10 + 4*w^9 + 2*w^8 - 6*w^7 + 8*w^6 - 3*w^5 - w^4 + 4*w^3 - 3*w^2 - 4)*b4 + (2*w^23 - 3*w^22 - 6*w^21 - 4*w^19 + 4*w^17 - w^16 + 4*w^15 - 2*w^14 - w^13 + 4*w^12 - 2*w^11 + 6*w^10 + 2*w^9 - 2*w^8 + 4*w^7 - 2*w^6 + 3*w^5 + w^4 - 4*w^3 + 2*w^2 - 5*w - 4)*b5 + (-2*w^22 - 5*w^21 - 2*w^20 - 2*w^19 + 4*w^17 + 3*w^15 - 2*w^13 + 3*w^12 + 4*w^10 + 2*w^9 + 2*w^7 - w^6 + 2*w^5 - 3*w^3 - 2*w^2 - 2*w - 3)*b6 + (-w^23 - 2*w^22 + 2*w^21 - 4*w^20 + 2*w^19 + 2*w^18 - 4*w^17 + 8*w^16 - 4*w^15 + 4*w^13 - 6*w^12 + 6*w^11 - 4*w^10 + 2*w^9 + 3*w^8 - 5*w^7 + 6*w^6 - 4*w^5 - 2*w^4 + 2*w^3 - 4*w^2 + 2)*b7 + (-4*w^23 + 3*w^22 + 4*w^20 - 2*w^18 + 6*w^17 - 8*w^16 + 4*w^15 + 2*w^14 - 4*w^13 + 6*w^12 - 8*w^11 + 4*w^10 - 4*w^9 - w^8 + 7*w^7 - 8*w^6 + 2*w^5 - 2*w^4 - 2*w^3 + 2*w^2 + 4)*b8 + (-2*w^22 + 9*w^21 + 4*w^18 - 6*w^17 + 2*w^16 - 6*w^15 + 4*w^14 + 4*w^13 - 10*w^12 + 8*w^11 - 8*w^10 - 3*w^9 + 4*w^8 - 4*w^7 + 3*w^6 - 6*w^5 + 2*w^4 + 2*w^3 - 2*w^2 + 6*w + 2)*b9 + (6*w^22 - 2*w^21 + 3*w^20 + 4*w^19 - 4*w^18 - 4*w^16 + 2*w^15 - 2*w^14 - 2*w^13 + 6*w^12 - 8*w^11 + w^10 - 4*w^8 - 2*w^6 + 3*w^5 - 2*w^4 + 2*w^3 + 4*w^2 + 2)*b10 + (4*w^23 - w^19 - 2*w^17 - 2*w^14 + w^11 - 2*w^8 - 2*w^7 + 2*w^5 + 3*w^4 + 2*w^2 - 2)*b11 + (2*w^23 - 2*w^22 - 2*w^21 - 2*w^20 - 4*w^19 + w^18 + 2*w^16 - w^12 + 6*w^11 + 2*w^9 - 2*w^7 + 2*w^6 + 4*w^4 - w^3 - 2*w^2 - 6)*b12 + (-6*w^21 - 4*w^18 + 5*w^17 + 4*w^15 - 4*w^14 - w^13 + 8*w^12 - 8*w^11 + 8*w^10 + 2*w^9 - 4*w^8 + 4*w^7 - 2*w^6 + 4*w^5 - 4*w^4 + 3*w^2 - 8*w)*b13 + (-2*w^23 - 4*w^22 + 2*w^21 - 4*w^20 + 4*w^18 - 4*w^17 + 7*w^16 - 4*w^15 + 3*w^14 + 4*w^13 - 8*w^12 + 10*w^11 - 6*w^10 + 2*w^9 + 6*w^8 - 4*w^7 + 6*w^6 - 6*w^5 - 6*w^2 + 3*w - 2)*b14 + (-2*w^23 + 4*w^20 + 6*w^17 - 8*w^16 + 4*w^15 + 2*w^14 - 4*w^13 + 4*w^12 - 8*w^11 + 4*w^10 - 4*w^9 + 8*w^7 - 8*w^6 + 2*w^5 - 2*w^4 - 4*w^3 + 2*w^2 + 5)*b15 + (-3*w^23 + 2*w^22 + 4*w^21 - w^20 + 4*w^19 + 2*w^18 - 4*w^17 + 3*w^16 - 4*w^15 + 2*w^14 + 2*w^13 - 6*w^12 + 3*w^11 - 6*w^10 + 3*w^8 - 4*w^7 + 4*w^6 - 4*w^5 - 2*w^4 + 2*w^3 - 3*w^2 + 4*w + 4)*b16 + (w^22 + 4*w^21 + w^19 - w^17 - 2*w^15 - 2*w^12 - w^10 - 2*w^9 - w^7 + 2*w^3 + w + 2)*b17 + (2*w^23 + 2*w^22 - 3*w^21 + 4*w^20 - 4*w^19 - 2*w^18 + 4*w^17 - 6*w^16 + 4*w^15 - 2*w^14 - 4*w^13 + 6*w^12 - 4*w^11 + 4*w^10 - w^9 - 4*w^8 + 4*w^7 - 5*w^6 + 4*w^5 + 4*w^4 - 2*w^3 + 4*w^2 - 2*w - 3)*b18 + (5*w^23 - 2*w^22 - 4*w^20 + w^19 - 7*w^17 + 8*w^16 - 4*w^15 - 3*w^14 + 4*w^13 - 4*w^12 + 7*w^11 - 4*w^10 + 4*w^9 - 8*w^7 + 8*w^6 - w^5 + 2*w^4 + 4*w^3 - w^2 - 6)*b19 + (2*w^23 + 3*w^22 - 8*w^21 + 3*w^20 - 4*w^18 + 4*w^17 - 5*w^16 + 6*w^15 - 4*w^14 - 3*w^13 + 10*w^12 - 10*w^11 + 7*w^10 + 2*w^9 - 6*w^8 + 4*w^7 - 4*w^6 + 6*w^5 - w^4 - 2*w^3 + 6*w^2 - 5*w - 2)*b20 + (-4*w^22 + 4*w^21 - 2*w^20 - 2*w^19 + 4*w^18 - 2*w^17 + 2*w^16 - 3*w^15 + 4*w^14 + 2*w^13 - 7*w^12 + 8*w^11 - 4*w^10 - w^9 + 4*w^8 - 2*w^7 + 2*w^6 - 4*w^5 + 2*w^4 - w^3 - 4*w^2 + 4*w - 1)*b21 + (-5*w^23 + w^22 + 2*w^21 + 2*w^19 + 2*w^17 + 2*w^14 - 2*w^11 - 2*w^9 + 2*w^8 + 2*w^7 - 2*w^6 - 2*w^5 - 4*w^4 - 2*w^2 + 6)*b22 + (-5*w^23 + w^22 + 2*w^21 + 2*w^19 + 2*w^17 + 2*w^14 - 2*w^11 - 2*w^9 + 2*w^8 + 2*w^7 - 2*w^6 - 2*w^5 - 4*w^4 - 2*w^2 + 6)*b23, b0 + (w^23 - 5*w^22 - w^21 - 3*w^20 - 4*w^19 + 3*w^18 + 2*w^16 + 2*w^14 + w^13 - 3*w^12 + 7*w^11 + w^9 + 3*w^8 + w^6 - w^5 + 3*w^4 - 3*w^3 - 3*w^2 + w - 5)*b1 + (-9*w^21 - 4*w^18 + 5*w^17 + 5*w^15 - 4*w^14 - w^13 + 9*w^12 - 8*w^11 + 8*w^10 + 4*w^9 - 4*w^8 + 4*w^7 - w^6 + 4*w^5 - 4*w^4 - w^3 + 3*w^2 - 8*w - 1)*b2 + (-4*w^22 + w^21 - 5*w^20 + 2*w^18 - 4*w^17 + 8*w^16 - 4*w^15 + w^14 + 4*w^13 - 6*w^12 + 9*w^11 - 4*w^10 + 3*w^9 + 4*w^8 - 5*w^7 + 7*w^6 - 4*w^5 + 2*w^3 - 5*w^2 + w - 3)*b3 + (-w^23 + w^22 + 4*w^20 - 3*w^19 + 5*w^17 - 8*w^16 + 4*w^15 + w^14 - 4*w^13 + 4*w^12 - 5*w^11 + 4*w^10 - 4*w^9 - w^8 + 7*w^7 - 8*w^6 + 3*w^5 + 2*w^4 - 4*w^3 + 3*w^2 + 2)*b4 + (-w^23 + 3*w^22 + 5*w^21 + 4*w^19 - 4*w^17 + w^16 - 4*w^15 + w^14 + w^13 - 4*w^12 + w^11 - 5*w^10 - w^9 + w^8 - 4*w^7 + 3*w^6 - 2*w^5 - w^4 + 4*w^3 - w^2 + 4*w + 4)*b5 + (3*w^22 + 4*w^21 + w^20 + 3*w^19 - 4*w^17 - 3*w^15 + w^13 - 3*w^12 - 4*w^10 - w^9 - 3*w^7 + 2*w^6 - w^5 + 3*w^3 + w^2 + 3*w + 3)*b6 + (w^23 + w^22 - w^21 + 4*w^20 - 3*w^19 - w^18 + 4*w^17 - 8*w^16 + 4*w^15 - 4*w^13 + 5*w^12 - 5*w^11 + 4*w^10 - 3*w^9 - 2*w^8 + 6*w^7 - 7*w^6 + 4*w^5 + 3*w^4 - 3*w^3 + 4*w^2 - 1)*b7 + (2*w^23 - 3*w^22 - 4*w^20 + w^18 - 5*w^17 + 8*w^16 - 4*w^15 - w^14 + 4*w^13 - 5*w^12 + 8*w^11 - 4*w^10 + 4*w^9 + 2*w^8 - 6*w^7 + 8*w^6 - 3*w^5 + w^4 + 3*w^3 - 3*w^2 - 4)*b8 + (w^22 - 8*w^21 - 4*w^18 + 5*w^17 - w^16 + 5*w^15 - 4*w^14 - 2*w^13 + 9*w^12 - 8*w^11 + 8*w^10 + 3*w^9 - 4*w^8 + 4*w^7 - 2*w^6 + 5*w^5 - 3*w^4 - w^3 + 3*w^2 - 7*w - 1)*b9 + (-5*w^22 + w^21 - 3*w^20 - 4*w^19 + 4*w^18 + 2*w^16 - w^15 + 3*w^14 + w^13 - 5*w^12 + 8*w^11 - w^10 + 4*w^8 + w^6 - 2*w^5 + 3*w^4 - 3*w^3 - 4*w^2 + 2*w - 3)*b10 + (-2*w^23 + w^19 + w^17 + w^14 - w^11 + w^8 + w^7 - w^5 - 2*w^4 - w^2 + 3)*b11 + (-3*w^23 + 3*w^22 + w^21 + w^20 + 4*w^19 - 2*w^18 - w^16 + 2*w^12 - 5*w^11 - w^9 + w^7 - w^6 - 4*w^4 + 2*w^3 + w^2 + 5)*b12 + (-2*w^22 + 7*w^21 - 2*w^19 + 4*w^18 - 4*w^17 - 4*w^15 + 4*w^14 + 2*w^13 - 8*w^12 + 8*w^11 - 6*w^10 - 3*w^9 + 4*w^8 - 2*w^7 + w^6 - 4*w^5 + 4*w^4 - 2*w^2 + 6*w)*b13 + (w^23 + 4*w^22 - 3*w^21 + 4*w^20 - 4*w^18 + 4*w^17 - 7*w^16 + 4*w^15 - 2*w^14 - 4*w^13 + 8*w^12 - 9*w^11 + 5*w^10 - w^9 - 5*w^8 + 4*w^7 - 5*w^6 + 5*w^5 + 5*w^2 - 2*w + 1)*b14 + (3*w^23 - 4*w^20 + 2*w^19 - 7*w^17 + 8*w^16 - 4*w^15 - 3*w^14 + 4*w^13 - 4*w^12 + 6*w^11 - 4*w^10 + 4*w^9 - 8*w^7 + 8*w^6 - w^5 + w^4 + 4*w^3 - w^2 - 3)*b15 + (2*w^23 - w^22 - 4*w^21 + w^20 - 4*w^19 - w^18 + 4*w^17 - 4*w^16 + 4*w^15 - w^14 - 3*w^13 + 5*w^12 - 2*w^11 + 5*w^10 - 2*w^8 + 4*w^7 - 4*w^6 + 4*w^5 + 3*w^4 - 3*w^3 + 2*w^2 - 2*w - 4)*b16 + (-2*w^22 - 2*w^21 - 2*w^19 + 2*w^17 + w^15 + w^12 + 2*w^10 + w^9 + 2*w^7 - w^3 - 2*w - 1)*b17 + (-3*w^23 - w^22 + 2*w^21 - 4*w^20 + 4*w^19 + w^18 - 4*w^17 + 7*w^16 - 4*w^15 + w^14 + 4*w^13 - 5*w^12 + 4*w^11 - 4*w^10 + 2*w^9 + 4*w^8 - 4*w^7 + 6*w^6 - 4*w^5 - 4*w^4 + 3*w^3 - 4*w^2 + w + 2)*b18 + (-3*w^23 + w^22 + 4*w^20 - w^19 + 6*w^17 - 8*w^16 + 4*w^15 + 2*w^14 - 4*w^13 + 4*w^12 - 7*w^11 + 4*w^10 - 4*w^9 + 8*w^7 - 8*w^6 + 2*w^5 - w^4 - 4*w^3 + 2*w^2 + 5)*b19 + (-w^23 - 2*w^22 + 6*w^21 - 2*w^20 + 4*w^18 - 4*w^17 + 3*w^16 - 5*w^15 + 4*w^14 + 2*w^13 - 9*w^12 + 9*w^11 - 7*w^10 - w^9 + 5*w^8 - 4*w^7 + 4*w^6 - 5*w^5 + 2*w^4 + w^3 - 5*w^2 + 6*w + 1)*b20 + (4*w^22 - 3*w^21 + w^20 + 3*w^19 - 4*w^18 + w^17 - w^16 + 2*w^15 - 4*w^14 - w^13 + 6*w^12 - 8*w^11 + 4*w^10 + w^9 - 4*w^8 + w^7 - w^6 + 4*w^5 - 3*w^4 + 2*w^3 + 4*w^2 - 4*w + 2)*b21 + (3*w^23 - w^22 - w^21 - 3*w^19 - w^17 - w^14 + 3*w^11 + w^9 - w^8 - w^7 + w^6 + w^5 + 4*w^4 + w^2 - 5)*b22 + (4*w^23 - 2*w^22 - w^21 - 3*w^19 - w^17 - w^14 + 3*w^11 + w^9 - w^8 - w^7 + w^6 + w^5 + 4*w^4 + w^2 - 5)*b23],\n",
       " [a + (-w^23 - 2*w^22 + 2*w^21 - 3*w^20 - 4*w^19 + 4*w^18 + 4*w^17 - 4*w^16 - 4*w^15 + 7*w^14 + 6*w^13 - 8*w^12 - 3*w^11 + 10*w^10 + 2*w^9 - 7*w^8 + 6*w^6 - 6*w^4 + 3*w^2 - 3*w - 2)*b1 + (w^22 - 4*w^21 + w^19 + 2*w^15 - w^13 + 2*w^12 - w^10 + 2*w^9 - w^7 - 2*w^3 - w^2 + w - 2)*b2 + (4*w^23 - 2*w^22 - w^21 + 2*w^20 + 4*w^19 - 3*w^18 - 4*w^17 + 6*w^16 + 4*w^15 - 8*w^14 - 4*w^13 + 7*w^12 + 2*w^11 - 8*w^10 - 3*w^9 + 6*w^8 - 7*w^6 + 4*w^4 - w^3 - 2*w^2 + 3)*b3 + (-5*w^23 + 2*w^22 - 2*w^19 + 3*w^17 + 3*w^14 + 2*w^11 - 3*w^5 - w^4 - 3*w^2 - 2)*b4 + (-3*w^22 + 8*w^21 - 2*w^20 - 4*w^19 + 4*w^18 + 4*w^17 - 3*w^16 - 6*w^15 + 6*w^14 + 7*w^13 - 10*w^12 - 4*w^11 + 10*w^10 - 2*w^9 - 8*w^8 + 4*w^6 - w^5 - 7*w^4 + 2*w^3 + 4*w^2 - 5*w + 2)*b5 + (6*w^22 - 5*w^21 + 2*w^20 + 4*w^19 - 2*w^17 - 2*w^16 + 3*w^15 - 4*w^13 + 3*w^12 - 6*w^10 + 2*w^9 - 4*w^7 - w^6 + 2*w^4 - 3*w^3 - 2*w^2 + 6*w - 3)*b6 + (9*w^23 - 2*w^22 + 4*w^20 + 6*w^19 - 2*w^18 - 6*w^17 + 4*w^16 + 4*w^15 - 10*w^14 - 4*w^13 + 6*w^12 - 2*w^11 - 8*w^10 - 4*w^9 + 3*w^8 - w^7 - 8*w^6 + 2*w^5 + 4*w^4 - 2*w^3 + 2*w^2 + 4)*b7 + (-6*w^23 + 3*w^22 - 2*w^21 - 2*w^19 + 4*w^17 + 4*w^14 + 2*w^11 + 2*w^9 - w^8 - w^7 + 2*w^6 - 4*w^5 - 2*w^4 - 4*w^2 - 6)*b8 + (-6*w^22 + 9*w^21 - 2*w^20 - 6*w^19 + 4*w^18 + 6*w^17 - 6*w^15 + 4*w^14 + 8*w^13 - 10*w^12 - 4*w^11 + 12*w^10 - 3*w^9 - 8*w^8 + 2*w^7 + 3*w^6 - 2*w^5 - 8*w^4 + 2*w^3 + 4*w^2 - 10*w + 2)*b9 + (-2*w^23 + 6*w^22 - 6*w^21 + w^20 + 4*w^19 + 4*w^15 - 6*w^13 + 4*w^12 + 2*w^11 - 7*w^10 + 2*w^9 + 2*w^8 - 4*w^7 - 2*w^6 - w^5 + 2*w^4 - 4*w^3 - 6*w^2 + 6*w - 4)*b10 + (10*w^23 - 2*w^22 + 4*w^20 + 7*w^19 - 6*w^17 + 4*w^16 + 4*w^15 - 10*w^14 - 4*w^13 + 4*w^12 - 3*w^11 - 8*w^10 - 4*w^9 + 2*w^8 - 2*w^7 - 8*w^6 + 2*w^5 + 3*w^4 - 4*w^3 + 2*w^2 + 6)*b11 + (-6*w^23 + 4*w^22 - 2*w^21 + w^18 + 4*w^17 - 2*w^16 + 6*w^14 - w^12 + 2*w^9 - 2*w^8 - 2*w^7 + 2*w^6 - 4*w^5 - 4*w^4 - w^3 - 4*w^2 + 2*w - 6)*b12 + (-6*w^22 + 10*w^21 - 6*w^19 + 4*w^18 + 5*w^17 - 6*w^15 + 4*w^14 + 9*w^13 - 10*w^12 - 4*w^11 + 10*w^10 - 4*w^9 - 8*w^8 + 2*w^7 + 2*w^6 - 4*w^5 - 8*w^4 + 2*w^3 + 5*w^2 - 10*w + 2)*b13 + (-2*w^23 + 6*w^22 - 4*w^21 + 2*w^20 + 4*w^19 - 2*w^18 + w^16 + 4*w^15 - w^14 - 6*w^13 + 6*w^12 + 2*w^11 - 8*w^10 + 2*w^8 - 4*w^7 - 4*w^6 - 2*w^5 + 2*w^4 - 2*w^3 - 6*w^2 + 5*w - 4)*b14 + (10*w^23 + 4*w^20 + 6*w^19 - 6*w^17 + 4*w^16 + 4*w^15 - 10*w^14 - 4*w^13 + 4*w^12 - 2*w^11 - 8*w^10 - 4*w^9 - 4*w^7 - 8*w^6 + 2*w^5 + 4*w^4 - 4*w^3 + 2*w^2 + 5)*b15 + (-3*w^23 + 4*w^22 - 2*w^21 - w^20 + 2*w^18 + 4*w^17 - 3*w^16 + 6*w^14 - 2*w^12 - w^11 + 2*w^10 + 2*w^9 - 5*w^8 - 4*w^7 + 2*w^6 - 2*w^5 - 4*w^4 - 2*w^3 - 3*w^2 + 2*w - 6)*b16 + (-5*w^22 + 6*w^21 - 5*w^19 + 4*w^18 + 5*w^17 - 4*w^15 + 4*w^14 + 8*w^13 - 8*w^12 - 4*w^11 + 9*w^10 - 2*w^9 - 8*w^8 + w^7 + 2*w^6 - 4*w^5 - 8*w^4 + 4*w^2 - 9*w)*b17 + (-2*w^23 + 2*w^22 - 3*w^21 + 2*w^20 + 4*w^19 - 2*w^18 + 4*w^16 + 4*w^15 - 2*w^14 - 4*w^13 + 6*w^12 + 2*w^11 - 8*w^10 - w^9 + 4*w^8 - 2*w^7 - 5*w^6 - 4*w^5 - 2*w^3 - 6*w^2 + 2*w - 3)*b18 + (5*w^23 + 4*w^20 + 5*w^19 - 3*w^17 + 4*w^16 + 4*w^15 - 7*w^14 - 4*w^13 + 4*w^12 - w^11 - 8*w^10 - 4*w^9 + 2*w^8 - 2*w^7 - 8*w^6 - w^5 + 2*w^4 - 4*w^3 - w^2 + 4)*b19 + (-2*w^23 + 3*w^22 + 2*w^21 - w^20 + 4*w^18 + 4*w^17 - 3*w^16 - 2*w^15 + 6*w^14 + w^13 - 6*w^12 - 2*w^11 + 3*w^10 - 6*w^8 - 4*w^7 + 2*w^6 - 2*w^5 - 5*w^4 - 2*w^3 - 2*w^2 + w - 2)*b20 + (4*w^21 - 2*w^19 + 4*w^18 + 4*w^17 - 2*w^16 - 3*w^15 + 4*w^14 + 4*w^13 - 7*w^12 - 4*w^11 + 6*w^10 - w^9 - 8*w^8 - 2*w^7 + 2*w^6 - 2*w^5 - 6*w^4 - w^3 + 2*w^2 - 4*w - 1)*b21 + (3*w^23 + w^22 - 2*w^21 + 4*w^20 + 4*w^19 - 2*w^18 - 2*w^17 + 4*w^16 + 4*w^15 - 6*w^14 - 4*w^13 + 6*w^12 - 8*w^10 - 2*w^9 + 2*w^8 - 2*w^7 - 6*w^6 - 2*w^5 + 2*w^4 - 2*w^3 - 2*w^2 - 2)*b22 + (3*w^23 + w^22 - 2*w^21 + 4*w^20 + 4*w^19 - 2*w^18 - 2*w^17 + 4*w^16 + 4*w^15 - 6*w^14 - 4*w^13 + 6*w^12 - 8*w^10 - 2*w^9 + 2*w^8 - 2*w^7 - 6*w^6 - 2*w^5 + 2*w^4 - 2*w^3 - 2*w^2 - 2)*b23, b0 + (w^23 + w^22 - 3*w^21 + 2*w^20 + 4*w^19 - 4*w^18 - 4*w^17 + 4*w^16 + 4*w^15 - 6*w^14 - 5*w^13 + 8*w^12 + 3*w^11 - 9*w^10 - w^9 + 7*w^8 - 5*w^6 + 5*w^4 - 3*w^2 + 3*w + 1)*b1 + (-2*w^22 + 2*w^21 - 2*w^19 - w^15 + 2*w^13 - w^12 + 2*w^10 - w^9 + 2*w^7 + w^3 + 2*w^2 - 2*w + 1)*b2 + (-4*w^23 + w^22 + w^21 - 3*w^20 - 4*w^19 + 2*w^18 + 4*w^17 - 5*w^16 - 4*w^15 + 8*w^14 + 4*w^13 - 6*w^12 - w^11 + 8*w^10 + 3*w^9 - 5*w^8 + 7*w^6 - 4*w^4 + 2*w^3 + w^2 - 3)*b3 + (4*w^23 - w^22 + w^19 - 3*w^17 - 3*w^14 - w^11 + 3*w^5 + 2*w^4 + 3*w^2 + 3)*b4 + (3*w^22 - 6*w^21 + w^20 + 4*w^19 - 4*w^18 - 4*w^17 + 2*w^16 + 5*w^15 - 5*w^14 - 7*w^13 + 9*w^12 + 4*w^11 - 9*w^10 + w^9 + 8*w^8 - 4*w^6 + 2*w^5 + 7*w^4 - w^3 - 4*w^2 + 6*w - 1)*b5 + (-5*w^22 + 4*w^21 - w^20 - 4*w^19 + w^17 + w^16 - 3*w^15 + 4*w^13 - 3*w^12 + 5*w^10 - w^9 + 4*w^7 + 2*w^6 - w^4 + 3*w^3 + 3*w^2 - 5*w + 3)*b6 + (-8*w^23 + w^22 - 4*w^20 - 5*w^19 + w^18 + 5*w^17 - 4*w^16 - 4*w^15 + 9*w^14 + 4*w^13 - 5*w^12 + w^11 + 8*w^10 + 4*w^9 - 2*w^8 + 2*w^7 + 8*w^6 - w^5 - 4*w^4 + 3*w^3 - w^2 - 4)*b7 + (5*w^23 - 3*w^22 + w^21 + w^19 - 4*w^17 - 4*w^14 - w^11 - w^9 + 2*w^8 + 2*w^7 - w^6 + 4*w^5 + 3*w^4 + 4*w^2 + 5)*b8 + (5*w^22 - 8*w^21 + w^20 + 5*w^19 - 4*w^18 - 5*w^17 + 5*w^15 - 4*w^14 - 8*w^13 + 9*w^12 + 4*w^11 - 10*w^10 + 3*w^9 + 8*w^8 - w^7 - 2*w^6 + 3*w^5 + 8*w^4 - w^3 - 4*w^2 + 9*w - 1)*b9 + (w^23 - 5*w^22 + 5*w^21 - 2*w^20 - 4*w^19 - 4*w^15 + 5*w^13 - 4*w^12 - w^11 + 7*w^10 - w^9 - w^8 + 4*w^7 + 3*w^6 + 2*w^5 - w^4 + 4*w^3 + 5*w^2 - 5*w + 4)*b10 + (-9*w^23 + w^22 - 4*w^20 - 7*w^19 + 5*w^17 - 4*w^16 - 4*w^15 + 9*w^14 + 4*w^13 - 4*w^12 + 3*w^11 + 8*w^10 + 4*w^9 - w^8 + 3*w^7 + 8*w^6 - w^5 - 2*w^4 + 4*w^3 - w^2 - 5)*b11 + (5*w^23 - 4*w^22 + w^21 - 2*w^18 - 4*w^17 + w^16 - 5*w^14 + 2*w^12 - w^9 + 3*w^8 + 3*w^7 - w^6 + 4*w^5 + 4*w^4 + 2*w^3 + 4*w^2 - w + 5)*b12 + (5*w^22 - 9*w^21 + 5*w^19 - 4*w^18 - 6*w^17 + 5*w^15 - 4*w^14 - 7*w^13 + 9*w^12 + 4*w^11 - 9*w^10 + 4*w^9 + 8*w^8 - w^7 - w^6 + 4*w^5 + 8*w^4 - w^3 - 3*w^2 + 9*w - 1)*b13 + (w^23 - 5*w^22 + 4*w^21 - 3*w^20 - 4*w^19 + w^18 - 2*w^16 - 4*w^15 + 2*w^14 + 5*w^13 - 5*w^12 - w^11 + 8*w^10 - w^8 + 4*w^7 + 4*w^6 + 3*w^5 - w^4 + 3*w^3 + 5*w^2 - 3*w + 4)*b14 + (-9*w^23 - 4*w^20 - 7*w^19 + 5*w^17 - 4*w^16 - 4*w^15 + 9*w^14 + 4*w^13 - 4*w^12 + 3*w^11 + 8*w^10 + 4*w^9 + 4*w^7 + 8*w^6 - w^5 - 2*w^4 + 4*w^3 - w^2 - 3)*b15 + (2*w^23 - 4*w^22 + w^21 - w^20 - 3*w^18 - 4*w^17 + 3*w^16 - 5*w^14 + 3*w^12 + 2*w^11 - w^10 - w^9 + 6*w^8 + 4*w^7 - w^6 + 3*w^5 + 4*w^4 + 3*w^3 + 2*w^2 - w + 5)*b16 + (3*w^22 - 7*w^21 + 3*w^19 - 4*w^18 - 5*w^17 + 4*w^15 - 4*w^14 - 6*w^13 + 8*w^12 + 4*w^11 - 7*w^10 + 3*w^9 + 8*w^8 + w^7 - w^6 + 4*w^5 + 8*w^4 - 2*w^2 + 7*w)*b17 + (w^23 - 3*w^22 + 2*w^21 - 3*w^20 - 4*w^19 + w^18 - 4*w^16 - 4*w^15 + 3*w^14 + 4*w^13 - 5*w^12 - w^11 + 8*w^10 + 2*w^9 - 2*w^8 + 3*w^7 + 6*w^6 + 4*w^5 + 3*w^3 + 5*w^2 - w + 2)*b18 + (-5*w^23 - 4*w^20 - 5*w^19 + 2*w^17 - 4*w^16 - 4*w^15 + 6*w^14 + 4*w^13 - 4*w^12 + w^11 + 8*w^10 + 4*w^9 - w^8 + 3*w^7 + 8*w^6 + 2*w^5 - w^4 + 4*w^3 + 2*w^2 - 2)*b19 + (w^23 - 2*w^22 - w^21 - 4*w^18 - 4*w^17 + 2*w^16 + w^15 - 5*w^14 - 2*w^13 + 5*w^12 + 3*w^11 - 3*w^10 + 7*w^8 + 4*w^7 - w^6 + 3*w^5 + 6*w^4 + 3*w^3 + w^2 + w + 3)*b20 + (-3*w^21 + w^19 - 4*w^18 - 4*w^17 + w^16 + 2*w^15 - 4*w^14 - 4*w^13 + 6*w^12 + 4*w^11 - 5*w^10 + w^9 + 8*w^8 + 3*w^7 - w^6 + 3*w^5 + 7*w^4 + 2*w^3 - w^2 + 4*w + 2)*b21 + (-3*w^23 - w^22 + w^21 - 4*w^20 - 4*w^19 + w^18 + w^17 - 4*w^16 - 4*w^15 + 5*w^14 + 4*w^13 - 5*w^12 + 8*w^10 + 3*w^9 - w^8 + 3*w^7 + 7*w^6 + 3*w^5 - w^4 + 3*w^3 + 3*w^2 + 1)*b22 + (-2*w^23 - 2*w^22 + w^21 - 4*w^20 - 4*w^19 + w^18 + w^17 - 4*w^16 - 4*w^15 + 5*w^14 + 4*w^13 - 5*w^12 + 8*w^10 + 3*w^9 - w^8 + 3*w^7 + 7*w^6 + 3*w^5 - w^4 + 3*w^3 + 3*w^2 + 1)*b23],\n",
       " [a + (5*w^23 - 4*w^22 - 2*w^21 + w^20 - 8*w^19 + 6*w^18 + 4*w^17 - 10*w^16 + 4*w^15 + 5*w^14 - 4*w^13 - 2*w^12 + 3*w^11 + 4*w^10 - 2*w^9 - w^8 + 4*w^7 - 6*w^6 + 4*w^5 + 8*w^4 - 10*w^3 + w^2 + 5*w - 6)*b1 + (2*w^23 + 3*w^22 - 8*w^21 - 4*w^20 + 7*w^19 - 4*w^18 - 4*w^17 + 8*w^16 - 6*w^14 + 3*w^13 + 4*w^12 - 4*w^11 + w^10 + 8*w^9 - 4*w^8 - 7*w^7 + 8*w^6 + 2*w^5 - 6*w^4 + 4*w^3 + w^2 - 5*w)*b2 + (-2*w^23 - 2*w^22 - w^21 - 2*w^20 - 3*w^18 + 6*w^16 - 2*w^14 + 2*w^13 + 3*w^12 + 2*w^11 + w^9 + 2*w^8 + w^6 - 2*w^5 - 2*w^4 + 3*w^3 - 2*w^2 - 4*w - 1)*b3 + (-3*w^23 - 6*w^22 + 6*w^21 + 4*w^20 - 12*w^19 + 4*w^18 + 7*w^17 - 8*w^16 + 2*w^15 + 7*w^14 - 2*w^13 - 2*w^12 + 6*w^11 + 2*w^10 - 8*w^9 + 4*w^8 + 10*w^7 - 10*w^6 - 3*w^5 + 7*w^4 - 6*w^3 - w^2 + 2*w - 2)*b4 + (-2*w^23 + 5*w^22 + 2*w^21 - 2*w^20 + 8*w^19 - 2*w^18 - 4*w^17 + 3*w^16 - 4*w^15 + 3*w^13 - 2*w^12 - 4*w^11 - 2*w^10 + 2*w^9 - 2*w^8 - 6*w^7 + 6*w^6 - w^5 - 7*w^4 + 6*w^3 + w + 6)*b5 + (2*w^23 + 6*w^22 - w^21 + 8*w^19 - 6*w^17 - w^15 - 2*w^14 - w^12 - 4*w^11 - 4*w^10 + 2*w^9 - 2*w^8 - 6*w^7 + 3*w^6 + 2*w^5 - 2*w^4 + w^3 + 2*w^2 + 4*w + 5)*b6 + (3*w^23 - 4*w^22 + 2*w^21 + 4*w^20 - 8*w^19 + 4*w^18 + 4*w^17 - 10*w^16 + 4*w^15 + 4*w^14 - 6*w^13 + 4*w^11 - 6*w^9 + 3*w^8 + 7*w^7 - 10*w^6 + 2*w^5 + 10*w^4 - 8*w^3 + 6*w - 4)*b7 + (-2*w^23 - w^22 - 2*w^21 - 2*w^20 - 4*w^18 + 8*w^16 - 2*w^15 - 4*w^14 + 4*w^13 + 2*w^12 + 2*w^10 + 4*w^9 - w^8 - w^7 + 6*w^6 - 2*w^5 - 4*w^4 + 6*w^3 - 8*w - 2)*b8 + (-2*w^23 - 3*w^21 - 4*w^20 + 2*w^19 - 4*w^18 + 8*w^16 - 2*w^15 - 4*w^14 + 4*w^13 + 2*w^12 - 2*w^11 + 4*w^10 + 5*w^9 - 2*w^8 - 2*w^7 + 7*w^6 - 6*w^4 + 6*w^3 - 8*w - 2)*b9 + (4*w^23 - 4*w^22 + 3*w^20 - 8*w^19 + 6*w^18 + 4*w^17 - 10*w^16 + 4*w^15 + 4*w^14 - 6*w^13 - 2*w^12 + 4*w^11 + w^10 - 4*w^9 + 2*w^8 + 6*w^7 - 8*w^6 + 3*w^5 + 10*w^4 - 10*w^3 + 6*w - 4)*b10 + (2*w^23 + 4*w^22 - 2*w^21 + 7*w^19 - 4*w^17 - 2*w^14 - 2*w^13 - 3*w^11 - 4*w^10 + 2*w^9 - 4*w^7 + 2*w^6 + 2*w^5 - w^4 + 4*w + 4)*b11 + (-4*w^23 + 4*w^22 + 2*w^21 - 2*w^20 + 8*w^19 - 3*w^18 - 4*w^17 + 6*w^16 - 4*w^15 - 2*w^14 + 4*w^13 - w^12 - 4*w^11 - 2*w^10 + 2*w^9 - 4*w^7 + 6*w^6 - 2*w^5 - 8*w^4 + 7*w^3 - 2*w + 6)*b12 + (-4*w^23 - 6*w^22 + 8*w^21 + 4*w^20 - 12*w^19 + 4*w^18 + 7*w^17 - 8*w^16 + 8*w^14 - w^13 - 4*w^12 + 6*w^11 + 2*w^10 - 8*w^9 + 4*w^8 + 10*w^7 - 8*w^6 - 4*w^5 + 6*w^4 - 4*w^3 - w^2 + 2*w - 2)*b13 + (-2*w^18 + w^16 - w^14 + 2*w^12 + 2*w^3 - w)*b14 + (4*w^23 + 6*w^22 - 8*w^21 - 4*w^20 + 10*w^19 - 4*w^18 - 8*w^17 + 8*w^16 - 8*w^14 + 2*w^13 + 4*w^12 - 4*w^11 - 2*w^10 + 8*w^9 - 4*w^8 - 10*w^7 + 8*w^6 + 4*w^5 - 4*w^4 + 4*w^3 + 2*w^2 - 2*w + 1)*b15 + (5*w^23 - 4*w^22 - 2*w^21 + w^20 - 8*w^19 + 4*w^18 + 4*w^17 - 9*w^16 + 4*w^15 + 4*w^14 - 4*w^13 + 3*w^11 + 4*w^10 - 2*w^9 - w^8 + 4*w^7 - 6*w^6 + 4*w^5 + 8*w^4 - 8*w^3 + w^2 + 4*w - 6)*b16 + (-2*w^23 - 3*w^22 - 5*w^19 + 3*w^17 + 2*w^14 + 2*w^13 + 2*w^11 + 3*w^10 + 3*w^7 - 2*w^5 - 3*w - 2)*b17 + (-6*w^23 + 2*w^22 + w^21 - 4*w^20 + 8*w^19 - 6*w^18 - 4*w^17 + 12*w^16 - 4*w^15 - 4*w^14 + 6*w^13 + 2*w^12 - 2*w^11 - 2*w^10 + 3*w^9 + 2*w^8 - 4*w^7 + 7*w^6 - 4*w^5 - 10*w^4 + 10*w^3 - 2*w^2 - 6*w + 5)*b18 + (-w^23 - 2*w^22 + 4*w^21 + 4*w^20 - 5*w^19 + 4*w^18 + 3*w^17 - 8*w^16 + 2*w^15 + 5*w^14 - 4*w^13 - 2*w^12 + 3*w^11 - 2*w^10 - 6*w^9 + 4*w^8 + 6*w^7 - 8*w^6 - w^5 + 6*w^4 - 6*w^3 - w^2 + 6*w + 2)*b19 + (2*w^23 + w^22 + 2*w^21 + w^20 + 4*w^18 - 7*w^16 + 4*w^14 - 3*w^13 - 4*w^12 - w^10 - 2*w^9 - 2*w^6 + 2*w^5 + 3*w^4 - 4*w^3 + 7*w + 2)*b20 + (6*w^22 - 4*w^21 - 4*w^20 + 10*w^19 - 4*w^18 - 6*w^17 + 8*w^16 - 3*w^15 - 6*w^14 + 4*w^13 + w^12 - 6*w^11 + 7*w^9 - 4*w^8 - 8*w^7 + 10*w^6 + 2*w^5 - 8*w^4 + 7*w^3 + 2*w^2 - 4*w + 3)*b21 + (w^23 - 5*w^22 + 2*w^20 - 8*w^19 + 4*w^17 - 2*w^16 + 2*w^15 - 2*w^13 + 2*w^12 + 4*w^11 + 2*w^10 - 2*w^9 + 2*w^8 + 6*w^7 - 4*w^6 + 6*w^4 - 2*w^3 - 2*w - 6)*b22 + (w^23 - 5*w^22 + 2*w^20 - 8*w^19 + 4*w^17 - 2*w^16 + 2*w^15 - 2*w^13 + 2*w^12 + 4*w^11 + 2*w^10 - 2*w^9 + 2*w^8 + 6*w^7 - 4*w^6 + 6*w^4 - 2*w^3 - 2*w - 6)*b23, b0 + (-6*w^23 + 4*w^22 + 3*w^21 - 2*w^20 + 8*w^19 - 5*w^18 - 4*w^17 + 9*w^16 - 4*w^15 - 3*w^14 + 4*w^13 + w^12 - 2*w^11 - 4*w^10 + w^9 + 2*w^8 - 4*w^7 + 5*w^6 - 4*w^5 - 8*w^4 + 9*w^3 - 2*w^2 - 3*w + 7)*b1 + (-3*w^23 - 3*w^22 + 8*w^21 + 4*w^20 - 7*w^19 + 4*w^18 + 4*w^17 - 8*w^16 + 7*w^14 - 2*w^13 - 4*w^12 + 4*w^11 - w^10 - 8*w^9 + 4*w^8 + 7*w^7 - 8*w^6 - 3*w^5 + 5*w^4 - 4*w^3 - w^2 + 5*w + 2)*b2 + (w^23 + w^22 + w^21 + w^20 + 2*w^18 - 5*w^16 + 3*w^14 - w^13 - 2*w^12 - w^11 - w^9 - w^8 - w^6 + w^5 + w^4 - 2*w^3 + w^2 + 4*w + 1)*b3 + (3*w^23 + 5*w^22 - 7*w^21 - 4*w^20 + 10*w^19 - 4*w^18 - 7*w^17 + 8*w^16 - w^15 - 7*w^14 + 3*w^13 + 3*w^12 - 5*w^11 - w^10 + 8*w^9 - 4*w^8 - 9*w^7 + 9*w^6 + 3*w^5 - 6*w^4 + 5*w^3 + 2*w^2 - 3*w + 1)*b4 + (3*w^23 - 5*w^22 - 3*w^21 + w^20 - 8*w^19 + w^18 + 4*w^17 - 3*w^16 + 4*w^15 - 3*w^13 + 3*w^12 + 4*w^11 + 3*w^10 - w^9 + w^8 + 5*w^7 - 5*w^6 + 2*w^5 + 7*w^4 - 5*w^3 - w - 7)*b5 + (-w^23 - 5*w^22 - 8*w^19 + 5*w^17 + w^15 + w^14 + w^12 + 4*w^11 + 4*w^10 - w^9 + w^8 + 5*w^7 - 2*w^6 - w^5 + 3*w^4 - w^3 - w^2 - 4*w - 5)*b6 + (-3*w^23 + 4*w^22 - w^21 - 4*w^20 + 8*w^19 - 4*w^18 - 4*w^17 + 9*w^16 - 4*w^15 - 4*w^14 + 5*w^13 - 4*w^11 + 5*w^9 - 2*w^8 - 6*w^7 + 9*w^6 - w^5 - 9*w^4 + 8*w^3 - 5*w + 4)*b7 + (w^23 + w^22 + 3*w^21 + 3*w^20 + 4*w^18 - 8*w^16 + w^15 + 4*w^14 - 4*w^13 - 3*w^12 - 3*w^10 - 4*w^9 + 2*w^8 + 2*w^7 - 5*w^6 + w^5 + 4*w^4 - 5*w^3 + 8*w + 3)*b8 + (w^23 + 4*w^21 + 4*w^20 - w^19 + 4*w^18 - 8*w^16 + w^15 + 4*w^14 - 4*w^13 - 3*w^12 + w^11 - 4*w^10 - 5*w^9 + 3*w^8 + 3*w^7 - 6*w^6 + 5*w^4 - 5*w^3 + 8*w + 3)*b9 + (-4*w^23 + 4*w^22 - 3*w^20 + 8*w^19 - 5*w^18 - 4*w^17 + 9*w^16 - 4*w^15 - 4*w^14 + 5*w^13 + w^12 - 4*w^11 - w^10 + 4*w^9 - w^8 - 5*w^7 + 8*w^6 - 2*w^5 - 9*w^4 + 9*w^3 - 5*w + 4)*b10 + (-w^23 - 4*w^22 + w^21 - 7*w^19 + 4*w^17 + w^14 + w^13 + 3*w^11 + 4*w^10 - w^9 + 4*w^7 - w^6 - w^5 + 2*w^4 - 4*w - 4)*b11 + (4*w^23 - 4*w^22 - 3*w^21 + w^20 - 8*w^19 + 2*w^18 + 4*w^17 - 5*w^16 + 4*w^15 + w^14 - 4*w^13 + 2*w^12 + 4*w^11 + 3*w^10 - w^9 + 4*w^7 - 5*w^6 + 3*w^5 + 8*w^4 - 6*w^3 + w - 7)*b12 + (4*w^23 + 5*w^22 - 8*w^21 - 4*w^20 + 10*w^19 - 4*w^18 - 7*w^17 + 8*w^16 - 8*w^14 + 2*w^13 + 4*w^12 - 5*w^11 - w^10 + 8*w^9 - 4*w^8 - 9*w^7 + 8*w^6 + 4*w^5 - 5*w^4 + 4*w^3 + 2*w^2 - 3*w + 1)*b13 + (w^18 - 2*w^16 + 2*w^14 - w^12 - w^3 + 2*w)*b14 + (-4*w^23 - 5*w^22 + 8*w^21 + 4*w^20 - 9*w^19 + 4*w^18 + 6*w^17 - 8*w^16 + 8*w^14 - w^13 - 4*w^12 + 4*w^11 + w^10 - 8*w^9 + 4*w^8 + 9*w^7 - 8*w^6 - 4*w^5 + 4*w^4 - 4*w^3 - w^2 + 3*w + 1)*b15 + (-6*w^23 + 4*w^22 + 3*w^21 - 2*w^20 + 8*w^19 - 4*w^18 - 4*w^17 + 8*w^16 - 4*w^15 - 2*w^14 + 4*w^13 - 2*w^11 - 4*w^10 + w^9 + 2*w^8 - 4*w^7 + 5*w^6 - 4*w^5 - 8*w^4 + 8*w^3 - 2*w^2 - 2*w + 7)*b16 + (w^23 + 2*w^22 + 3*w^19 - 2*w^17 - w^14 - w^13 - w^11 - 2*w^10 - 2*w^7 + w^5 + 2*w + 3)*b17 + (5*w^23 - 3*w^22 - 2*w^21 + 2*w^20 - 8*w^19 + 5*w^18 + 4*w^17 - 10*w^16 + 4*w^15 + 4*w^14 - 5*w^13 - w^12 + 3*w^11 + 3*w^10 - 2*w^9 - w^8 + 4*w^7 - 6*w^6 + 4*w^5 + 9*w^4 - 9*w^3 + w^2 + 5*w - 6)*b18 + (2*w^23 + w^22 - 6*w^21 - 4*w^20 + 4*w^19 - 4*w^18 - 3*w^17 + 8*w^16 - w^15 - 6*w^14 + 4*w^13 + 3*w^12 - 3*w^11 + 3*w^10 + 7*w^9 - 4*w^8 - 5*w^7 + 8*w^6 + 2*w^5 - 5*w^4 + 5*w^3 + 2*w^2 - 7*w - 3)*b19 + (-w^23 - w^22 - 3*w^21 - w^20 - 4*w^18 + 6*w^16 - 4*w^14 + 2*w^13 + 4*w^12 + w^10 + 3*w^9 + 3*w^6 - w^5 - 2*w^4 + 4*w^3 - 6*w - 3)*b20 + (-5*w^22 + 5*w^21 + 4*w^20 - 9*w^19 + 4*w^18 + 5*w^17 - 8*w^16 + 2*w^15 + 5*w^14 - 4*w^13 - 2*w^12 + 5*w^11 - 7*w^9 + 4*w^8 + 8*w^7 - 9*w^6 - w^5 + 8*w^4 - 6*w^3 - w^2 + 4*w - 2)*b21 + (-2*w^23 + 6*w^22 + 2*w^21 - w^20 + 8*w^19 - 4*w^17 + w^16 - 3*w^15 + w^13 - 3*w^12 - 4*w^11 - 3*w^10 + w^9 - w^8 - 5*w^7 + 4*w^6 - 5*w^4 + 3*w^3 + 3*w + 7)*b22 + (-w^23 + 5*w^22 + 2*w^21 - w^20 + 8*w^19 - 4*w^17 + w^16 - 3*w^15 + w^13 - 3*w^12 - 4*w^11 - 3*w^10 + w^9 - w^8 - 5*w^7 + 4*w^6 - 5*w^4 + 3*w^3 + 3*w + 7)*b23],\n",
       " [a + (-w^23 - w^20 - 2*w^18 + w^14 + 2*w^12 + w^11 + w^8 + 2*w^3 - w^2 + w)*b1 + (-w^22 - 3*w^19 - 2*w^17 + 3*w^13 + 2*w^11 + w^10 + w^7 + 2*w^4 + 3*w^2 - w + 2)*b2 + (-2*w^23 - w^21 - 4*w^20 - 3*w^18 - 2*w^16 + 4*w^14 + 3*w^12 + 2*w^11 + 2*w^10 + w^9 + 2*w^8 + w^6 + 2*w^5 + 3*w^3 - 2*w^2 + 4*w - 1)*b3 + (w^23 - 2*w^22 - 2*w^21 - 4*w^19 - 3*w^17 - w^14 + 4*w^13 + 2*w^11 + 2*w^10 + 2*w^9 + 2*w^7 + 2*w^6 + w^5 + 3*w^4 + 5*w^2 - 2*w + 4)*b4 + (-4*w^23 - w^22 - 2*w^21 - 6*w^20 - 4*w^18 - w^16 + 4*w^14 - w^13 + 4*w^12 + 4*w^11 + 2*w^10 + 2*w^9 + 6*w^8 + 2*w^7 + 2*w^6 + 3*w^5 + w^4 + 4*w^3 - 4*w^2 + 5*w - 2)*b5 + (-4*w^22 - w^21 - 6*w^19 - 2*w^17 - w^15 - 2*w^14 + 4*w^13 - w^12 + 2*w^11 + 4*w^10 + 2*w^9 + 2*w^8 + 6*w^7 + 3*w^6 + 2*w^5 + 4*w^4 + w^3 + 6*w^2 - 4*w + 5)*b6 + (-5*w^23 - 2*w^21 - 6*w^20 - 4*w^18 - 2*w^16 - 2*w^15 + 4*w^14 - 2*w^13 + 2*w^12 + 4*w^11 + 2*w^10 + 4*w^9 + 7*w^8 + 3*w^7 + 6*w^6 + 4*w^5 + 2*w^4 + 6*w^3 - 4*w^2 + 6*w - 2)*b7 + (2*w^23 - 3*w^22 - 4*w^19 - 4*w^17 - 2*w^16 - 2*w^15 - 4*w^14 + 2*w^13 - 2*w^12 + 4*w^10 + 2*w^9 + 3*w^8 + 7*w^7 + 4*w^6 + 6*w^5 + 6*w^4 + 2*w^3 + 8*w^2 - 2*w + 6)*b8 + (-4*w^23 + 2*w^22 - 3*w^21 - 4*w^20 - 4*w^18 - 2*w^17 - 4*w^16 - 2*w^15 + 2*w^14 - 4*w^13 + 2*w^12 + 4*w^11 + 5*w^9 + 8*w^8 + 4*w^7 + 7*w^6 + 6*w^5 + 6*w^4 + 6*w^3 - 2*w^2 + 8*w - 2)*b9 + (2*w^23 - 4*w^22 + 2*w^21 - w^20 - 4*w^19 - 2*w^18 - 4*w^17 - 2*w^16 - 4*w^15 - 4*w^14 + 2*w^13 - 2*w^12 + 5*w^10 + 2*w^9 + 4*w^8 + 8*w^7 + 6*w^6 + 7*w^5 + 6*w^4 + 6*w^3 + 8*w^2 - 2*w + 6)*b10 + (-6*w^23 + 2*w^22 - 4*w^21 - 4*w^20 - 3*w^19 - 4*w^18 - 2*w^17 - 4*w^16 - 2*w^15 + 2*w^14 - 2*w^13 + 2*w^12 + 5*w^11 + 2*w^10 + 6*w^9 + 8*w^8 + 6*w^7 + 8*w^6 + 6*w^5 + 7*w^4 + 6*w^3 + 6*w - 2)*b11 + (2*w^23 - 6*w^22 + 2*w^21 - 4*w^20 - 4*w^19 - 3*w^18 - 4*w^17 - 2*w^16 - 4*w^15 - 2*w^14 + 2*w^13 - w^12 + 2*w^11 + 6*w^10 + 2*w^9 + 6*w^8 + 8*w^7 + 6*w^6 + 8*w^5 + 6*w^4 + 7*w^3 + 6*w^2 + 6)*b12 + (-6*w^23 + 2*w^22 - 8*w^21 - 4*w^20 - 4*w^19 - 4*w^18 - 3*w^17 - 4*w^16 + 2*w^14 - w^13 + 4*w^12 + 6*w^11 + 2*w^10 + 8*w^9 + 8*w^8 + 6*w^7 + 8*w^6 + 6*w^5 + 8*w^4 + 4*w^3 + w^2 + 6*w)*b13 + (-8*w^22 + 2*w^21 - 8*w^20 - 4*w^19 - 4*w^18 - 4*w^17 - w^16 - 4*w^15 + w^14 + 4*w^13 + 4*w^11 + 8*w^10 + 2*w^9 + 8*w^8 + 8*w^7 + 6*w^6 + 8*w^5 + 4*w^4 + 8*w^3 + 4*w^2 + w + 6)*b14 + (-8*w^23 - 8*w^21 - 4*w^20 - 8*w^19 - 4*w^18 - 2*w^17 - 4*w^16 + 4*w^14 + 2*w^13 + 4*w^12 + 8*w^11 + 4*w^10 + 8*w^9 + 8*w^8 + 8*w^7 + 8*w^6 + 4*w^5 + 8*w^4 + 4*w^3 + 2*w^2 + 4*w + 1)*b15 + (-w^23 - 8*w^22 + 2*w^21 - 9*w^20 - 4*w^19 - 6*w^18 - 4*w^17 - w^16 - 4*w^15 + 2*w^14 + 4*w^13 + 2*w^12 + 5*w^11 + 8*w^10 + 2*w^9 + 9*w^8 + 8*w^7 + 6*w^6 + 8*w^5 + 4*w^4 + 10*w^3 + 3*w^2 + 2*w + 6)*b16 + (-6*w^23 + w^22 - 8*w^21 - 4*w^20 - 7*w^19 - 4*w^18 - 5*w^17 - 4*w^16 + 2*w^14 + 2*w^13 + 4*w^12 + 8*w^11 + 3*w^10 + 8*w^9 + 8*w^8 + 7*w^7 + 8*w^6 + 6*w^5 + 10*w^4 + 4*w^3 + 4*w^2 + 5*w + 2)*b17 + (-6*w^22 + w^21 - 8*w^20 - 4*w^19 - 6*w^18 - 4*w^17 - 4*w^16 - 4*w^15 + 2*w^14 + 2*w^13 + 2*w^12 + 4*w^11 + 8*w^10 + 3*w^9 + 8*w^8 + 8*w^7 + 7*w^6 + 10*w^5 + 6*w^4 + 10*w^3 + 4*w^2 + 4*w + 5)*b18 + (-5*w^23 - 6*w^21 - 4*w^20 - 7*w^19 - 4*w^18 - 5*w^17 - 4*w^16 - 2*w^15 + w^14 + 2*w^13 + 2*w^12 + 7*w^11 + 4*w^10 + 8*w^9 + 8*w^8 + 8*w^7 + 10*w^6 + 7*w^5 + 10*w^4 + 6*w^3 + 5*w^2 + 4*w + 2)*b19 + (-2*w^23 - 5*w^22 - 7*w^20 - 4*w^19 - 6*w^18 - 4*w^17 - 3*w^16 - 4*w^15 + w^13 + 2*w^12 + 4*w^11 + 7*w^10 + 4*w^9 + 10*w^8 + 10*w^7 + 8*w^6 + 10*w^5 + 7*w^4 + 10*w^3 + 4*w^2 + 3*w + 4)*b20 + (-4*w^23 - 2*w^22 - 4*w^21 - 4*w^20 - 6*w^19 - 4*w^18 - 4*w^17 - 4*w^16 - 3*w^15 + w^12 + 6*w^11 + 4*w^10 + 7*w^9 + 10*w^8 + 10*w^7 + 10*w^6 + 8*w^5 + 10*w^4 + 7*w^3 + 4*w^2 + 4*w + 3)*b21 + (-3*w^23 - 3*w^22 - 2*w^21 - 6*w^20 - 4*w^19 - 4*w^18 - 4*w^17 - 4*w^16 - 4*w^15 + 4*w^11 + 6*w^10 + 6*w^9 + 10*w^8 + 10*w^7 + 10*w^6 + 10*w^5 + 8*w^4 + 8*w^3 + 4*w^2 + 4*w + 4)*b22 + (-3*w^23 - 3*w^22 - 2*w^21 - 6*w^20 - 4*w^19 - 4*w^18 - 4*w^17 - 4*w^16 - 4*w^15 + 4*w^11 + 6*w^10 + 6*w^9 + 10*w^8 + 10*w^7 + 10*w^6 + 10*w^5 + 8*w^4 + 8*w^3 + 4*w^2 + 4*w + 4)*b23, b0 + (w^23 + w^20 + w^18 - w^14 - w^12 - w^11 - w^8 - w^3 + w^2 - w)*b1 + (w^22 + 2*w^19 + w^17 - 2*w^13 - w^11 - w^10 - w^7 - w^4 - 2*w^2 + w - 3)*b2 + (3*w^23 + w^21 + 4*w^20 + 2*w^18 + w^16 - 4*w^14 - 2*w^12 - 3*w^11 - w^10 - w^9 - 3*w^8 - w^6 - w^5 - 2*w^3 + 3*w^2 - 4*w + 1)*b3 + (-w^23 + 3*w^22 + w^21 + 4*w^19 + 2*w^17 + w^14 - 4*w^13 - w^11 - 3*w^10 - w^9 - 3*w^7 - w^6 - w^5 - 2*w^4 - 5*w^2 + 3*w - 4)*b4 + (4*w^23 + 3*w^21 + 5*w^20 + 4*w^18 + w^16 - 4*w^14 + w^13 - 4*w^12 - 4*w^11 - w^10 - 3*w^9 - 5*w^8 - w^7 - 3*w^6 - 2*w^5 - w^4 - 4*w^3 + 4*w^2 - 5*w + 3)*b5 + (-2*w^23 + 4*w^22 + 5*w^19 + 3*w^17 + w^15 + 3*w^14 - 4*w^13 + w^12 - w^11 - 4*w^10 - w^9 - w^8 - 5*w^7 - 2*w^6 - 3*w^5 - 4*w^4 - w^3 - 7*w^2 + 4*w - 5)*b6 + (5*w^23 - 2*w^22 + 3*w^21 + 5*w^20 + 4*w^18 + 3*w^16 + w^15 - 4*w^14 + 3*w^13 - 3*w^12 - 4*w^11 - w^10 - 4*w^9 - 6*w^8 - 2*w^7 - 5*w^6 - 4*w^5 - 3*w^4 - 5*w^3 + 4*w^2 - 7*w + 3)*b7 + (-3*w^23 + 4*w^22 - 2*w^21 + 4*w^19 + 4*w^17 + w^16 + 3*w^15 + 4*w^14 - 3*w^13 + 3*w^12 - 4*w^10 - w^9 - 2*w^8 - 6*w^7 - 4*w^6 - 5*w^5 - 5*w^4 - 3*w^3 - 8*w^2 + 3*w - 7)*b8 + (6*w^23 - 3*w^22 + 4*w^21 + 4*w^20 + 4*w^18 + w^17 + 4*w^16 + w^15 - 3*w^14 + 4*w^13 - 3*w^12 - 4*w^11 - 5*w^9 - 8*w^8 - 4*w^7 - 6*w^6 - 5*w^5 - 5*w^4 - 5*w^3 + 3*w^2 - 8*w + 3)*b9 + (-3*w^23 + 6*w^22 - 3*w^21 + w^20 + 4*w^19 + w^18 + 4*w^17 + w^16 + 4*w^15 + 4*w^14 - 3*w^13 + 3*w^12 - 5*w^10 - w^9 - 4*w^8 - 8*w^7 - 5*w^6 - 6*w^5 - 5*w^4 - 5*w^3 - 8*w^2 + 3*w - 7)*b10 + (7*w^23 - 3*w^22 + 6*w^21 + 4*w^20 + 2*w^19 + 4*w^18 + w^17 + 4*w^16 + w^15 - 3*w^14 + 3*w^13 - 3*w^12 - 5*w^11 - w^10 - 7*w^9 - 8*w^8 - 5*w^7 - 8*w^6 - 5*w^5 - 6*w^4 - 5*w^3 + 2*w^2 - 7*w + 3)*b11 + (-3*w^23 + 7*w^22 - 3*w^21 + 4*w^20 + 4*w^19 + 2*w^18 + 4*w^17 + w^16 + 4*w^15 + 3*w^14 - 3*w^13 + 2*w^12 - w^11 - 7*w^10 - w^9 - 5*w^8 - 8*w^7 - 5*w^6 - 8*w^5 - 5*w^4 - 6*w^3 - 7*w^2 + 2*w - 7)*b12 + (7*w^23 - 3*w^22 + 8*w^21 + 4*w^20 + 4*w^19 + 4*w^18 + 2*w^17 + 4*w^16 - 3*w^14 + 2*w^13 - 4*w^12 - 7*w^11 - w^10 - 8*w^9 - 8*w^8 - 5*w^7 - 8*w^6 - 5*w^5 - 8*w^4 - 4*w^3 + w^2 - 7*w + 2)*b13 + (-2*w^23 + 8*w^22 - 3*w^21 + 6*w^20 + 4*w^19 + 4*w^18 + 4*w^17 + w^16 + 4*w^15 + w^14 - 4*w^13 - 2*w^11 - 8*w^10 - w^9 - 6*w^8 - 8*w^7 - 5*w^6 - 8*w^5 - 4*w^4 - 8*w^3 - 6*w^2 + w - 7)*b14 + (8*w^23 - 2*w^22 + 8*w^21 + 4*w^20 + 6*w^19 + 4*w^18 + 3*w^17 + 4*w^16 - 4*w^14 - w^13 - 4*w^12 - 8*w^11 - 2*w^10 - 8*w^9 - 8*w^8 - 6*w^7 - 8*w^6 - 4*w^5 - 8*w^4 - 4*w^3 - w^2 - 6*w + 1)*b15 + (-w^23 + 8*w^22 - 3*w^21 + 7*w^20 + 4*w^19 + 5*w^18 + 4*w^17 + 2*w^16 + 4*w^15 - w^14 - 4*w^13 - w^12 - 3*w^11 - 8*w^10 - w^9 - 7*w^8 - 8*w^7 - 5*w^6 - 8*w^5 - 4*w^4 - 9*w^3 - 5*w^2 - w - 7)*b16 + (7*w^23 - 2*w^22 + 8*w^21 + 4*w^20 + 6*w^19 + 4*w^18 + 4*w^17 + 4*w^16 - 3*w^14 - w^13 - 4*w^12 - 8*w^11 - 2*w^10 - 8*w^9 - 8*w^8 - 6*w^7 - 8*w^6 - 5*w^5 - 9*w^4 - 4*w^3 - 2*w^2 - 6*w - 1)*b17 + (7*w^22 - 2*w^21 + 8*w^20 + 4*w^19 + 5*w^18 + 4*w^17 + 2*w^16 + 4*w^15 - w^14 - 3*w^13 - w^12 - 4*w^11 - 8*w^10 - 2*w^9 - 8*w^8 - 8*w^7 - 6*w^6 - 9*w^5 - 5*w^4 - 9*w^3 - 4*w^2 - 2*w - 6)*b18 + (6*w^23 + 7*w^21 + 4*w^20 + 7*w^19 + 4*w^18 + 3*w^17 + 4*w^16 + w^15 - 2*w^14 - w^13 - 3*w^12 - 7*w^11 - 4*w^10 - 8*w^9 - 8*w^8 - 8*w^7 - 9*w^6 - 6*w^5 - 9*w^4 - 5*w^3 - 3*w^2 - 4*w - 1)*b19 + (w^23 + 6*w^22 + 7*w^20 + 4*w^19 + 5*w^18 + 4*w^17 + 2*w^16 + 4*w^15 - 2*w^13 - w^12 - 4*w^11 - 7*w^10 - 4*w^9 - 9*w^8 - 9*w^7 - 8*w^6 - 9*w^5 - 6*w^4 - 9*w^3 - 4*w^2 - 2*w - 4)*b20 + (4*w^23 + w^22 + 5*w^21 + 4*w^20 + 5*w^19 + 4*w^18 + 4*w^17 + 4*w^16 + 2*w^15 - 2*w^12 - 5*w^11 - 4*w^10 - 7*w^9 - 9*w^8 - 9*w^7 - 9*w^6 - 8*w^5 - 9*w^4 - 6*w^3 - 4*w^2 - 4*w - 2)*b21 + (2*w^23 + 3*w^22 + w^21 + 5*w^20 + 4*w^19 + 4*w^18 + 4*w^17 + 4*w^16 + 4*w^15 - 4*w^11 - 5*w^10 - 5*w^9 - 9*w^8 - 9*w^7 - 9*w^6 - 9*w^5 - 8*w^4 - 8*w^3 - 4*w^2 - 4*w - 4)*b22 + (3*w^23 + 2*w^22 + w^21 + 5*w^20 + 4*w^19 + 4*w^18 + 4*w^17 + 4*w^16 + 4*w^15 - 4*w^11 - 5*w^10 - 5*w^9 - 9*w^8 - 9*w^7 - 9*w^6 - 9*w^5 - 8*w^4 - 8*w^3 - 4*w^2 - 4*w - 4)*b23],\n",
       " [a + (5*w^23 + 4*w^22 + 2*w^21 + 9*w^20 - 4*w^19 - 4*w^18 + 8*w^17 - 8*w^16 - 4*w^15 + 3*w^14 - 8*w^13 - w^11 - 4*w^10 + 2*w^9 - 9*w^8 - 4*w^7 + 6*w^6 - 4*w^5 + 4*w^4 + 8*w^3 - 3*w^2 + 3*w + 6)*b1 + (-2*w^23 + 7*w^22 + 8*w^21 - 8*w^20 + 5*w^19 + 4*w^18 - 12*w^17 + 4*w^16 - 6*w^14 + 3*w^13 - 4*w^12 + 2*w^11 + w^10 - 8*w^9 + 4*w^8 - 3*w^7 - 8*w^6 + 10*w^5 + 4*w^4 - 4*w^3 + 5*w^2 + 3*w - 2)*b2 + (4*w^23 + 2*w^22 - w^21 + 6*w^20 - 3*w^18 - 4*w^16 - 2*w^14 - 2*w^13 + 3*w^12 - 4*w^11 - 2*w^10 + w^9 - 4*w^8 + w^6 + 2*w^4 + 3*w^3 + 4*w^2 - 1)*b3 + (5*w^23 - 4*w^22 - 4*w^21 + 8*w^20 - 2*w^19 - 4*w^18 + 5*w^17 - 4*w^16 - 2*w^15 + 3*w^14 - 2*w^13 + 2*w^12 - 2*w^11 - 4*w^10 + 6*w^9 - 4*w^8 + 8*w^6 - 7*w^5 - w^4 + 6*w^3 - w^2 - 2)*b4 + (-6*w^23 - w^22 - 10*w^20 + 4*w^19 + 6*w^18 - 8*w^17 + 7*w^16 + 4*w^15 - 4*w^14 + 7*w^13 - 2*w^12 + 6*w^10 - 4*w^9 + 8*w^8 + 4*w^7 - 8*w^6 + 7*w^5 - 3*w^4 - 10*w^3 + 4*w^2 - 3*w - 4)*b5 + (-2*w^23 - 2*w^22 - w^21 - 2*w^19 + 8*w^17 - w^15 + 4*w^14 - 4*w^13 - w^12 + 2*w^11 + 2*w^9 + 3*w^6 - 4*w^5 - 2*w^4 + w^3 - 8*w^2 + 5)*b6 + (-w^23 - 2*w^22 + 2*w^20 - 4*w^19 + 8*w^17 - 2*w^15 + 4*w^14 - 4*w^13 - 2*w^12 + 4*w^11 - 2*w^10 + 2*w^9 - w^8 - w^7 + 4*w^6 - 6*w^5 + 2*w^3 - 8*w^2 + 6)*b7 + (-6*w^23 + w^22 + 2*w^21 - 10*w^20 + 4*w^19 + 4*w^18 - 8*w^17 + 6*w^16 + 4*w^15 - 4*w^14 + 6*w^13 + 6*w^10 - 6*w^9 + 7*w^8 + 3*w^7 - 10*w^6 + 8*w^5 - 2*w^4 - 8*w^3 + 4*w^2 - 2*w - 4)*b8 + (6*w^23 - 2*w^22 - 3*w^21 + 8*w^20 - 2*w^19 - 4*w^18 + 2*w^17 - 4*w^16 - 2*w^15 + 2*w^14 + 2*w^12 - 2*w^11 - 4*w^10 + 5*w^9 - 6*w^8 - 2*w^7 + 7*w^6 - 6*w^5 + 6*w^3 + 2*w^2 - 2)*b9 + (6*w^23 + 2*w^22 - 2*w^21 + 7*w^20 - 4*w^18 - 6*w^16 - 2*w^13 + 4*w^12 - 4*w^11 - 3*w^10 + 2*w^9 - 6*w^8 - 2*w^7 + 2*w^6 - w^5 + 2*w^4 + 4*w^3 + 4*w^2 + 2*w - 2)*b10 + (-2*w^23 + 6*w^22 + 6*w^21 - 8*w^20 + 5*w^19 + 4*w^18 - 12*w^17 + 4*w^16 + 2*w^15 - 6*w^14 + 4*w^13 - 2*w^12 + w^11 + 2*w^10 - 8*w^9 + 4*w^8 - 2*w^7 - 10*w^6 + 10*w^5 + 3*w^4 - 6*w^3 + 6*w^2 + 2*w - 2)*b11 + (2*w^23 + 2*w^22 + 2*w^21 + 6*w^20 - 4*w^19 - 3*w^18 + 8*w^17 - 4*w^16 - 4*w^15 + 4*w^14 - 6*w^13 - w^12 + 2*w^11 - 4*w^10 + 2*w^9 - 6*w^8 - 4*w^7 + 6*w^6 - 6*w^5 + 2*w^4 + 7*w^3 - 6*w^2 + 2*w + 6)*b12 + (-2*w^23 - 2*w^22 - 2*w^19 + 5*w^17 + 2*w^14 - w^13 + 2*w^10 + 2*w^7 - 2*w^5 - 2*w^4 - 3*w^2 - 2*w + 2)*b13 + (-6*w^23 - 4*w^22 - 2*w^21 - 10*w^20 + 4*w^19 + 6*w^18 - 8*w^17 + 9*w^16 + 4*w^15 - 3*w^14 + 8*w^13 - 2*w^12 + 2*w^11 + 4*w^10 - 2*w^9 + 10*w^8 + 4*w^7 - 6*w^6 + 4*w^5 - 4*w^4 - 10*w^3 + 2*w^2 - 3*w - 6)*b14 + (4*w^23 - 6*w^22 - 8*w^21 + 8*w^20 - 2*w^19 - 4*w^18 + 10*w^17 - 4*w^16 + 4*w^14 - 4*w^13 + 4*w^12 - 4*w^11 - 2*w^10 + 8*w^9 - 4*w^8 + 2*w^7 + 8*w^6 - 8*w^5 - 4*w^4 + 4*w^3 - 4*w^2 - 2*w + 1)*b15 + (-w^23 - w^20 + 2*w^18 + w^16 - 2*w^12 + w^11 + w^8 - 2*w^3 - w^2)*b16 + (-4*w^23 + 5*w^22 + 8*w^21 - 8*w^20 + 3*w^19 + 4*w^18 - 7*w^17 + 4*w^16 - 4*w^14 + 2*w^13 - 4*w^12 + 2*w^11 + 3*w^10 - 8*w^9 + 4*w^8 - w^7 - 8*w^6 + 8*w^5 + 2*w^4 - 4*w^3 + 2*w^2 + w)*b17 + (6*w^23 + 4*w^22 + w^21 + 12*w^20 - 4*w^19 - 6*w^18 + 8*w^17 - 8*w^16 - 4*w^15 + 2*w^14 - 8*w^13 + 2*w^12 - 2*w^11 - 6*w^10 + 3*w^9 - 10*w^8 - 4*w^7 + 7*w^6 - 6*w^5 + 4*w^4 + 10*w^3 - 2*w^2 + 2*w + 5)*b18 + (3*w^23 + 2*w^22 + 2*w^21 + 3*w^19 - 7*w^17 - 3*w^14 + 2*w^13 - w^11 - 2*w^10 - 2*w^9 - 2*w^7 - 2*w^6 + 3*w^5 + 2*w^4 + 5*w^2 + 2*w - 4)*b19 + (w^22 - 2*w^21 - 3*w^20 + 4*w^19 + 2*w^18 - 8*w^17 + w^16 + 4*w^15 - 4*w^14 + 5*w^13 + 2*w^12 - 4*w^11 + 3*w^10 - 2*w^9 + 2*w^8 + 2*w^7 - 6*w^6 + 6*w^5 - w^4 - 6*w^3 + 8*w^2 - w - 6)*b20 + (4*w^23 - 4*w^22 - 4*w^21 + 8*w^20 - 4*w^19 - 4*w^18 + 10*w^17 - 4*w^16 - 3*w^15 + 6*w^14 - 4*w^13 + w^12 - 4*w^10 + 7*w^9 - 6*w^8 - 2*w^7 + 10*w^6 - 10*w^5 - 2*w^4 + 7*w^3 - 6*w^2 + 3)*b21 + (-7*w^23 - w^22 + 2*w^21 - 8*w^20 + 4*w^18 + 6*w^16 + 2*w^15 + 2*w^13 - 2*w^12 + 4*w^11 + 4*w^10 - 4*w^9 + 6*w^8 + 2*w^7 - 6*w^6 + 2*w^5 - 2*w^4 - 6*w^3 - 4*w^2 - 2*w + 2)*b22 + (-7*w^23 - w^22 + 2*w^21 - 8*w^20 + 4*w^18 + 6*w^16 + 2*w^15 + 2*w^13 - 2*w^12 + 4*w^11 + 4*w^10 - 4*w^9 + 6*w^8 + 2*w^7 - 6*w^6 + 2*w^5 - 2*w^4 - 6*w^3 - 4*w^2 - 2*w + 2)*b23, b0 + (-4*w^23 - 4*w^22 - 3*w^21 - 8*w^20 + 4*w^19 + 4*w^18 - 8*w^17 + 6*w^16 + 4*w^15 - 2*w^14 + 8*w^13 + 4*w^10 - w^9 + 8*w^8 + 4*w^7 - 5*w^6 + 4*w^5 - 4*w^4 - 8*w^3 + 4*w^2 - 2*w - 7)*b1 + (3*w^23 - 7*w^22 - 8*w^21 + 8*w^20 - 4*w^19 - 4*w^18 + 10*w^17 - 4*w^16 + 5*w^14 - 2*w^13 + 4*w^12 - 3*w^11 - w^10 + 8*w^9 - 4*w^8 + 3*w^7 + 8*w^6 - 9*w^5 - 4*w^4 + 4*w^3 - 3*w^2 - 3*w + 1)*b2 + (-4*w^23 - w^22 + w^21 - 5*w^20 + 2*w^18 + 4*w^16 + w^14 + w^13 - 2*w^12 + 4*w^11 + w^10 - w^9 + 4*w^8 - w^6 - w^4 - 2*w^3 - 4*w^2 + 1)*b3 + (-5*w^23 + 4*w^22 + 6*w^21 - 8*w^20 + w^19 + 4*w^18 - 4*w^17 + 4*w^16 + w^15 - 3*w^14 + w^13 - 3*w^12 + 3*w^11 + 4*w^10 - 7*w^9 + 4*w^8 - 8*w^6 + 7*w^5 + 2*w^4 - 5*w^3 + 3)*b4 + (5*w^23 + 2*w^22 + 9*w^20 - 4*w^19 - 5*w^18 + 8*w^17 - 7*w^16 - 4*w^15 + 4*w^14 - 7*w^13 + w^12 - 5*w^10 + 4*w^9 - 8*w^8 - 4*w^7 + 8*w^6 - 6*w^5 + 3*w^4 + 9*w^3 - 4*w^2 + 3*w + 4)*b5 + (3*w^23 + w^22 + 3*w^19 - 8*w^17 + w^15 - 4*w^14 + 4*w^13 + w^12 - 3*w^11 - w^9 - 2*w^6 + 4*w^5 + w^4 - w^3 + 8*w^2 - 5)*b6 + (w^23 + w^22 - 2*w^21 - w^20 + 4*w^19 - 8*w^17 + 3*w^15 - 4*w^14 + 4*w^13 + 3*w^12 - 4*w^11 + w^10 - w^9 + 2*w^8 + 2*w^7 - 4*w^6 + 5*w^5 - 3*w^3 + 8*w^2 - 7)*b7 + (5*w^23 - 2*w^22 - w^21 + 9*w^20 - 4*w^19 - 4*w^18 + 8*w^17 - 5*w^16 - 4*w^15 + 4*w^14 - 5*w^13 - 5*w^10 + 5*w^9 - 6*w^8 - 2*w^7 + 9*w^6 - 8*w^5 + w^4 + 8*w^3 - 4*w^2 + w + 4)*b8 + (-7*w^23 + 3*w^22 + 4*w^21 - 8*w^20 + w^19 + 4*w^18 - w^17 + 4*w^16 + w^15 - w^14 - 3*w^12 + 3*w^11 + 4*w^10 - 5*w^9 + 5*w^8 + w^7 - 6*w^6 + 5*w^5 - 5*w^3 - 3*w^2 + 3)*b9 + (-5*w^23 - w^22 + 3*w^21 - 7*w^20 + 4*w^18 + 5*w^16 + w^13 - 4*w^12 + 4*w^11 + 3*w^10 - 3*w^9 + 5*w^8 + w^7 - 3*w^6 + 2*w^5 - w^4 - 4*w^3 - 4*w^2 - w + 3)*b10 + (3*w^23 - 5*w^22 - 7*w^21 + 8*w^20 - 4*w^19 - 4*w^18 + 10*w^17 - 4*w^16 - w^15 + 5*w^14 - 4*w^13 + 3*w^12 - w^11 - 3*w^10 + 8*w^9 - 4*w^8 + w^7 + 9*w^6 - 9*w^5 - 2*w^4 + 5*w^3 - 5*w^2 - w + 1)*b11 + (-w^23 - 3*w^22 - 3*w^21 - 5*w^20 + 4*w^19 + 2*w^18 - 8*w^17 + 4*w^16 + 4*w^15 - 4*w^14 + 7*w^13 + 2*w^12 - 3*w^11 + 4*w^10 - w^9 + 5*w^8 + 4*w^7 - 5*w^6 + 5*w^5 - 3*w^4 - 6*w^3 + 7*w^2 - 3*w - 7)*b12 + (w^23 + w^22 + w^19 - 4*w^17 - w^14 + 2*w^13 - w^10 - w^7 + w^5 + w^4 + 3*w^2 + w - 3)*b13 + (5*w^23 + 4*w^22 + 3*w^21 + 9*w^20 - 4*w^19 - 5*w^18 + 8*w^17 - 8*w^16 - 4*w^15 + 3*w^14 - 8*w^13 + w^12 - w^11 - 4*w^10 + w^9 - 9*w^8 - 4*w^7 + 5*w^6 - 4*w^5 + 4*w^4 + 9*w^3 - 3*w^2 + 3*w + 7)*b14 + (-4*w^23 + 7*w^22 + 8*w^21 - 8*w^20 + 3*w^19 + 4*w^18 - 9*w^17 + 4*w^16 - 4*w^14 + 2*w^13 - 4*w^12 + 4*w^11 + w^10 - 8*w^9 + 4*w^8 - 3*w^7 - 8*w^6 + 8*w^5 + 4*w^4 - 4*w^3 + 2*w^2 + 3*w + 1)*b15 + (w^23 + w^20 - w^18 - w^16 + w^12 - w^11 - w^8 + w^3 + w^2)*b16 + (4*w^23 - 6*w^22 - 8*w^21 + 8*w^20 - 3*w^19 - 4*w^18 + 7*w^17 - 4*w^16 + 4*w^14 - w^13 + 4*w^12 - 3*w^11 - 2*w^10 + 8*w^9 - 4*w^8 + 2*w^7 + 8*w^6 - 8*w^5 - 3*w^4 + 4*w^3 - w^2 - 2*w - 2)*b17 + (-5*w^23 - 4*w^22 - 2*w^21 - 10*w^20 + 4*w^19 + 5*w^18 - 8*w^17 + 8*w^16 + 4*w^15 - 3*w^14 + 8*w^13 - w^12 + w^11 + 5*w^10 - 2*w^9 + 9*w^8 + 4*w^7 - 6*w^6 + 5*w^5 - 4*w^4 - 9*w^3 + 3*w^2 - 3*w - 6)*b18 + (-2*w^23 - w^22 - w^21 - 2*w^19 + 6*w^17 + 2*w^14 - 3*w^13 + w^11 + w^10 + w^9 + w^7 + w^6 - 2*w^5 - w^4 - 5*w^2 - w + 4)*b19 + (w^22 + 3*w^21 + 3*w^20 - 4*w^19 - w^18 + 8*w^17 - 2*w^16 - 4*w^15 + 4*w^14 - 6*w^13 - 3*w^12 + 4*w^11 - 3*w^10 + w^9 - 3*w^8 - 3*w^7 + 5*w^6 - 5*w^5 + 2*w^4 + 5*w^3 - 8*w^2 + 2*w + 7)*b20 + (-4*w^23 + 4*w^22 + 5*w^21 - 8*w^20 + 4*w^19 + 4*w^18 - 9*w^17 + 4*w^16 + 2*w^15 - 5*w^14 + 4*w^13 - 2*w^12 + 4*w^10 - 7*w^9 + 5*w^8 + w^7 - 9*w^6 + 9*w^5 + w^4 - 6*w^3 + 5*w^2 - 2)*b21 + (6*w^23 - 3*w^21 + 8*w^20 - 4*w^18 - 5*w^16 - w^15 - w^13 + 3*w^12 - 4*w^11 - 4*w^10 + 4*w^9 - 5*w^8 - w^7 + 5*w^6 - 3*w^5 + w^4 + 5*w^3 + 4*w^2 + w - 3)*b22 + (7*w^23 - w^22 - 3*w^21 + 8*w^20 - 4*w^18 - 5*w^16 - w^15 - w^13 + 3*w^12 - 4*w^11 - 4*w^10 + 4*w^9 - 5*w^8 - w^7 + 5*w^6 - 3*w^5 + w^4 + 5*w^3 + 4*w^2 + w - 3)*b23],\n",
       " [a + (-13*w^23 - 6*w^22 + 8*w^21 - 3*w^20 - 8*w^19 - 4*w^18 + 4*w^17 + 10*w^16 - 2*w^15 + w^14 + 8*w^13 + 2*w^12 + 7*w^11 + 4*w^10 - 6*w^9 + 7*w^8 + 8*w^7 - 4*w^6 - 8*w^5 - 4*w^4 + 6*w^3 - 3*w^2 - 11*w - 2)*b1 + (-4*w^23 - 5*w^22 + 4*w^21 + 2*w^20 - 7*w^19 - 4*w^18 + 6*w^17 + 2*w^16 - 2*w^15 + 4*w^14 + 3*w^13 + 2*w^12 + 4*w^11 + w^10 - 2*w^9 + 3*w^7 - 8*w^5 - 2*w^4 + 6*w^3 - 3*w^2 - 5*w + 2)*b2 + (6*w^23 + 6*w^22 - 7*w^21 - 2*w^20 + 6*w^19 + 3*w^18 - 6*w^17 - 6*w^16 + 4*w^15 + 2*w^14 - 2*w^13 + w^12 - 2*w^11 - 2*w^10 + 3*w^9 - 4*w^8 - 8*w^7 - w^6 + 6*w^5 + 2*w^4 - 7*w^3 + 2*w^2 + 10*w + 1)*b3 + (9*w^23 + 4*w^22 - 6*w^21 - 4*w^20 + 8*w^19 + 4*w^18 - 9*w^17 - 4*w^16 + 4*w^15 - w^14 - 4*w^11 + 2*w^9 - 4*w^8 - 8*w^7 - 2*w^6 + 9*w^5 + w^4 - 8*w^3 + 5*w^2 + 8*w + 2)*b4 + (-4*w^23 - 3*w^22 - 2*w^21 + 2*w^20 - 6*w^19 - 4*w^18 + 6*w^17 + w^16 + 4*w^14 + w^13 + 4*w^12 + 4*w^11 + 2*w^9 + 2*w^7 + 2*w^6 - 7*w^5 - w^4 + 4*w^3 - 4*w^2 - 3*w - 2)*b5 + (-10*w^23 - 10*w^22 + 9*w^21 - 2*w^20 - 10*w^19 - 4*w^18 + 6*w^17 + 10*w^16 - 3*w^15 + 8*w^13 + w^12 + 6*w^11 + 6*w^10 - 6*w^9 + 6*w^8 + 10*w^7 - 3*w^6 - 8*w^5 - 4*w^4 + 7*w^3 - 2*w^2 - 14*w - 1)*b6 + (-5*w^23 + 2*w^22 - 2*w^20 + 2*w^16 + 2*w^11 + 3*w^8 + w^7 - 2*w^2 - 2)*b7 + (14*w^23 + 5*w^22 - 4*w^21 + 4*w^20 + 8*w^19 + 4*w^18 - 4*w^17 - 10*w^16 - 2*w^14 - 8*w^13 - 4*w^12 - 8*w^11 - 4*w^10 + 4*w^9 - 7*w^8 - 7*w^7 + 4*w^6 + 8*w^5 + 4*w^4 - 4*w^3 + 4*w^2 + 10*w + 6)*b8 + (4*w^23 + 8*w^22 - 5*w^21 + 8*w^19 + 4*w^18 - 6*w^17 - 6*w^16 + 2*w^15 - 2*w^14 - 6*w^13 - 2*w^12 - 4*w^11 - 4*w^10 + 3*w^9 - 4*w^7 + w^6 + 8*w^5 + 4*w^4 - 6*w^3 + 2*w^2 + 10*w - 2)*b9 + (-4*w^23 - 6*w^22 + 8*w^21 + w^20 - 4*w^19 - 2*w^18 + 2*w^17 + 6*w^16 - 4*w^15 - 4*w^14 + 4*w^13 - 2*w^12 + 3*w^10 - 4*w^9 + 4*w^8 + 8*w^7 - 3*w^5 - 2*w^4 + 6*w^3 + 2*w^2 - 10*w)*b10 + (-10*w^23 - 4*w^22 + 4*w^21 + 4*w^20 - 9*w^19 - 6*w^18 + 10*w^17 + 4*w^16 - 4*w^15 + 2*w^14 + 2*w^12 + 5*w^11 + 4*w^8 + 8*w^7 + 4*w^6 - 10*w^5 - w^4 + 10*w^3 - 6*w^2 - 8*w - 4)*b11 + (4*w^23 + 2*w^21 - 2*w^20 + 2*w^19 + 3*w^18 - 4*w^17 - 4*w^14 - 3*w^12 - 2*w^11 + 2*w^10 - 2*w^9 - 2*w^6 + 6*w^5 + 2*w^4 - 3*w^3 + 4*w^2 + 2)*b12 + (8*w^23 + 10*w^22 - 10*w^21 - 2*w^20 + 10*w^19 + 4*w^18 - 7*w^17 - 8*w^16 + 4*w^15 - 7*w^13 - 4*w^11 - 4*w^10 + 6*w^9 - 4*w^8 - 10*w^7 + 2*w^6 + 10*w^5 + 4*w^4 - 8*w^3 + w^2 + 14*w)*b13 + (6*w^23 - 2*w^22 - 2*w^21 + 2*w^20 - 3*w^16 + w^14 - 2*w^11 + 2*w^9 - 4*w^8 - 2*w^7 + 2*w^6 + 2*w^2 + w + 4)*b14 + (-14*w^23 - 6*w^22 + 4*w^21 - 4*w^20 - 8*w^19 - 4*w^18 + 4*w^17 + 8*w^16 + 4*w^14 + 8*w^13 + 4*w^12 + 8*w^11 + 4*w^10 - 4*w^9 + 8*w^8 + 8*w^7 - 4*w^6 - 8*w^5 - 4*w^4 + 4*w^3 - 4*w^2 - 8*w - 5)*b15 + (-7*w^23 - 8*w^22 + 6*w^21 - w^20 - 8*w^19 - 4*w^18 + 4*w^17 + 7*w^16 - 2*w^15 + 2*w^14 + 8*w^13 + 2*w^12 + 5*w^11 + 4*w^10 - 4*w^9 + 3*w^8 + 6*w^7 - 2*w^6 - 8*w^5 - 4*w^4 + 6*w^3 - w^2 - 10*w + 2)*b16 + (4*w^23 + 5*w^22 - 6*w^21 + 3*w^19 - w^17 - 6*w^16 + 2*w^15 + 4*w^14 - 4*w^13 + 2*w^12 - 3*w^10 + 4*w^9 - 4*w^8 - 7*w^7 + 2*w^6 + 2*w^5 + 2*w^4 - 2*w^3 - 2*w^2 + 9*w + 2)*b17 + (10*w^23 + 6*w^22 - 5*w^21 - 4*w^20 + 8*w^19 + 6*w^18 - 10*w^17 - 6*w^16 + 4*w^15 - 2*w^14 - 2*w^13 - 2*w^12 - 4*w^11 + w^9 - 4*w^8 - 8*w^7 - 3*w^6 + 12*w^5 + 4*w^4 - 10*w^3 + 6*w^2 + 10*w + 3)*b18 + (-w^23 - 2*w^21 - w^19 - 2*w^18 + w^17 + w^14 + 2*w^12 + w^11 + 2*w^9 + 2*w^6 - w^5 + 2*w^3 - w^2 - 2)*b19 + (-8*w^23 - 9*w^22 + 6*w^21 + 3*w^20 - 10*w^19 - 6*w^18 + 8*w^17 + 7*w^16 - 4*w^15 + 5*w^13 + 2*w^12 + 4*w^11 + 3*w^10 - 2*w^9 + 4*w^8 + 10*w^7 + 2*w^6 - 10*w^5 - 3*w^4 + 10*w^3 - 2*w^2 - 13*w - 2)*b20 + (-6*w^23 - 2*w^22 + 4*w^21 - 2*w^20 - 2*w^19 + 4*w^16 - w^15 - 2*w^14 + 2*w^13 - w^12 + 2*w^11 + 2*w^10 - 3*w^9 + 6*w^8 + 6*w^7 - 2*w^6 + w^3 - 4*w - 3)*b21 + (9*w^23 + 7*w^22 - 4*w^21 + 2*w^20 + 8*w^19 + 4*w^18 - 4*w^17 - 8*w^16 - 2*w^14 - 8*w^13 - 4*w^12 - 6*w^11 - 4*w^10 + 4*w^9 - 4*w^8 - 6*w^7 + 4*w^6 + 8*w^5 + 4*w^4 - 4*w^3 + 2*w^2 + 10*w + 4)*b22 + (9*w^23 + 7*w^22 - 4*w^21 + 2*w^20 + 8*w^19 + 4*w^18 - 4*w^17 - 8*w^16 - 2*w^14 - 8*w^13 - 4*w^12 - 6*w^11 - 4*w^10 + 4*w^9 - 4*w^8 - 6*w^7 + 4*w^6 + 8*w^5 + 4*w^4 - 4*w^3 + 2*w^2 + 10*w + 4)*b23, b0 + (11*w^23 + 7*w^22 - 6*w^21 + 2*w^20 + 8*w^19 + 4*w^18 - 4*w^17 - 9*w^16 + w^15 - w^14 - 8*w^13 - 3*w^12 - 6*w^11 - 4*w^10 + 5*w^9 - 6*w^8 - 8*w^7 + 4*w^6 + 8*w^5 + 4*w^4 - 5*w^3 + 2*w^2 + 11*w + 3)*b1 + (4*w^23 + 5*w^22 - 2*w^21 - w^20 + 6*w^19 + 4*w^18 - 5*w^17 - 3*w^16 + w^15 - 4*w^14 - 4*w^13 - 3*w^12 - 4*w^11 - w^10 + w^9 - 2*w^7 + 8*w^5 + 3*w^4 - 5*w^3 + 3*w^2 + 5*w - 1)*b2 + (-5*w^23 - 5*w^22 + 6*w^21 + 3*w^20 - 5*w^19 - 3*w^18 + 5*w^17 + 5*w^16 - 4*w^15 - 3*w^14 + w^13 - w^12 + w^11 + w^10 - 2*w^9 + 4*w^8 + 8*w^7 + 2*w^6 - 5*w^5 - w^4 + 7*w^3 - w^2 - 9*w - 2)*b3 + (-7*w^23 - 4*w^22 + 5*w^21 + 4*w^20 - 6*w^19 - 4*w^18 + 7*w^17 + 4*w^16 - 4*w^15 - w^14 + 2*w^11 - w^9 + 4*w^8 + 8*w^7 + 3*w^6 - 7*w^5 - w^4 + 8*w^3 - 3*w^2 - 8*w - 3)*b4 + (4*w^23 + 3*w^22 + w^21 - w^20 + 5*w^19 + 4*w^18 - 5*w^17 - 2*w^16 - 4*w^14 - 2*w^13 - 4*w^12 - 4*w^11 - w^9 - w^7 - w^6 + 7*w^5 + 2*w^4 - 4*w^3 + 4*w^2 + 3*w + 1)*b5 + (9*w^23 + 9*w^22 - 7*w^21 + w^20 + 9*w^19 + 4*w^18 - 5*w^17 - 9*w^16 + 2*w^15 - 8*w^13 - 2*w^12 - 5*w^11 - 5*w^10 + 5*w^9 - 5*w^8 - 9*w^7 + 3*w^6 + 8*w^5 + 4*w^4 - 6*w^3 + w^2 + 13*w + 2)*b6 + (3*w^23 - w^22 + w^20 - w^16 - w^11 - 2*w^8 - w^7 + w^2 + 3)*b7 + (-13*w^23 - 6*w^22 + 4*w^21 - 4*w^20 - 8*w^19 - 4*w^18 + 4*w^17 + 9*w^16 + 3*w^14 + 8*w^13 + 4*w^12 + 8*w^11 + 4*w^10 - 4*w^9 + 7*w^8 + 7*w^7 - 4*w^6 - 8*w^5 - 4*w^4 + 4*w^3 - 4*w^2 - 9*w - 5)*b8 + (-4*w^23 - 8*w^22 + 3*w^21 - 8*w^19 - 4*w^18 + 5*w^17 + 5*w^16 - w^15 + 3*w^14 + 7*w^13 + 3*w^12 + 4*w^11 + 4*w^10 - 2*w^9 + 4*w^7 - w^6 - 8*w^5 - 4*w^4 + 5*w^3 - w^2 - 9*w + 1)*b9 + (4*w^23 + 5*w^22 - 8*w^21 - 2*w^20 + 4*w^19 + w^18 - 3*w^17 - 5*w^16 + 4*w^15 + 4*w^14 - 2*w^13 + 3*w^12 - 2*w^10 + 4*w^9 - 4*w^8 - 8*w^7 + 3*w^5 + w^4 - 5*w^3 - w^2 + 9*w)*b10 + (9*w^23 + 4*w^22 - 4*w^21 - 4*w^20 + 7*w^19 + 5*w^18 - 9*w^17 - 4*w^16 + 4*w^15 - w^14 - w^12 - 3*w^11 - 4*w^8 - 8*w^7 - 4*w^6 + 9*w^5 + 2*w^4 - 9*w^3 + 5*w^2 + 8*w + 4)*b11 + (-4*w^23 - w^21 + w^20 - 3*w^19 - 3*w^18 + 4*w^17 + 4*w^14 + 3*w^12 + 3*w^11 - w^10 + w^9 + w^6 - 5*w^5 - w^4 + 3*w^3 - 4*w^2 - 1)*b12 + (-8*w^23 - 9*w^22 + 9*w^21 + w^20 - 9*w^19 - 4*w^18 + 6*w^17 + 8*w^16 - 4*w^15 + 7*w^13 + 4*w^11 + 4*w^10 - 5*w^9 + 4*w^8 + 9*w^7 - w^6 - 9*w^5 - 4*w^4 + 8*w^3 - w^2 - 13*w)*b13 + (-5*w^23 + w^22 + w^21 - w^20 + 2*w^16 - w^14 + w^11 - w^9 + 4*w^8 + 3*w^7 - w^6 - w^2 - w - 4)*b14 + (13*w^23 + 5*w^22 - 4*w^21 + 4*w^20 + 8*w^19 + 4*w^18 - 4*w^17 - 8*w^16 - 4*w^14 - 8*w^13 - 4*w^12 - 8*w^11 - 4*w^10 + 4*w^9 - 6*w^8 - 6*w^7 + 4*w^6 + 8*w^5 + 4*w^4 - 4*w^3 + 4*w^2 + 8*w + 4)*b15 + (6*w^23 + 8*w^22 - 5*w^21 + w^20 + 8*w^19 + 4*w^18 - 4*w^17 - 6*w^16 + w^15 - 3*w^14 - 8*w^13 - 3*w^12 - 5*w^11 - 4*w^10 + 4*w^9 - 2*w^8 - 5*w^7 + 3*w^6 + 8*w^5 + 4*w^4 - 5*w^3 + w^2 + 9*w - 1)*b16 + (-4*w^23 - 4*w^22 + 7*w^21 - 3*w^19 + 2*w^17 + 5*w^16 - 3*w^15 - 4*w^14 + 2*w^13 - 3*w^12 + 3*w^10 - 4*w^9 + 4*w^8 + 7*w^7 - w^6 - w^5 - w^4 + 3*w^3 + w^2 - 8*w - 1)*b17 + (-9*w^23 - 5*w^22 + 5*w^21 + 4*w^20 - 8*w^19 - 5*w^18 + 9*w^17 + 5*w^16 - 4*w^15 + w^14 + w^13 + w^12 + 4*w^11 - w^9 + 4*w^8 + 8*w^7 + 3*w^6 - 10*w^5 - 2*w^4 + 9*w^3 - 5*w^2 - 9*w - 3)*b18 + (2*w^23 + w^21 + 2*w^19 + w^18 - 2*w^17 - 2*w^14 - w^12 - 2*w^11 - w^9 - w^6 + 2*w^5 - w^3 + 2*w^2 + 1)*b19 + (8*w^23 + 8*w^22 - 7*w^21 - 2*w^20 + 9*w^19 + 5*w^18 - 8*w^17 - 7*w^16 + 4*w^15 - 4*w^13 - w^12 - 4*w^11 - 3*w^10 + 3*w^9 - 4*w^8 - 9*w^7 - w^6 + 9*w^5 + 3*w^4 - 9*w^3 + 3*w^2 + 12*w + 1)*b20 + (5*w^23 + w^22 - 3*w^21 + w^20 + w^19 - 4*w^16 + w^15 + 3*w^14 - w^13 + w^12 - w^11 - w^10 + 2*w^9 - 5*w^8 - 5*w^7 + w^6 - w^3 + 4*w + 3)*b21 + (-10*w^23 - 6*w^22 + 4*w^21 - 3*w^20 - 8*w^19 - 4*w^18 + 4*w^17 + 8*w^16 + 3*w^14 + 8*w^13 + 4*w^12 + 7*w^11 + 4*w^10 - 4*w^9 + 4*w^8 + 5*w^7 - 4*w^6 - 8*w^5 - 4*w^4 + 4*w^3 - 3*w^2 - 9*w - 2)*b22 + (-9*w^23 - 7*w^22 + 4*w^21 - 3*w^20 - 8*w^19 - 4*w^18 + 4*w^17 + 8*w^16 + 3*w^14 + 8*w^13 + 4*w^12 + 7*w^11 + 4*w^10 - 4*w^9 + 4*w^8 + 5*w^7 - 4*w^6 - 8*w^5 - 4*w^4 + 4*w^3 - 3*w^2 - 9*w - 2)*b23],\n",
       " [a + (-w^23 + 4*w^22 - 2*w^21 + w^20 + 2*w^16 - 3*w^14 - w^11 + 2*w^9 - 3*w^8 - 2*w^7 + 2*w^6 + w^2 - 3*w + 4)*b1 + (-3*w^22 + 6*w^21 - 6*w^20 + w^19 + 2*w^17 - 2*w^15 + 4*w^14 - 3*w^13 - 2*w^12 + 4*w^11 + w^10 - 4*w^9 + 4*w^8 - w^7 - 2*w^6 + 2*w^5 + 2*w^3 - 7*w^2 + 5*w - 2)*b2 + (2*w^22 - 7*w^21 + 8*w^20 - 6*w^19 + 3*w^18 - 2*w^16 + 4*w^15 - 4*w^14 + 2*w^13 + w^12 - 2*w^11 + 3*w^9 - 4*w^8 + 4*w^7 - w^6 - 2*w^5 + 4*w^4 - 7*w^3 + 8*w^2 - 6*w + 1)*b3 + (w^23 - 4*w^22 + 4*w^21 - 8*w^20 + 10*w^19 - 6*w^18 - w^17 + 4*w^16 - 4*w^15 + 3*w^14 + 2*w^12 - 2*w^11 + 4*w^8 - 4*w^7 + 4*w^6 + w^5 - 9*w^4 + 10*w^3 - 7*w^2 + 4*w - 4)*b4 + (3*w^22 - 6*w^21 + 10*w^20 - 8*w^19 + 6*w^18 - 2*w^17 - 3*w^16 + 4*w^15 - 4*w^14 + 3*w^13 - 2*w^12 - 2*w^10 + 2*w^9 - 4*w^8 + 4*w^7 - 2*w^6 - 3*w^5 + 7*w^4 - 10*w^3 + 10*w^2 - 5*w + 2)*b5 + (-2*w^22 + 9*w^21 - 8*w^20 + 6*w^19 - 4*w^18 + 4*w^17 - 2*w^16 - 3*w^15 + 6*w^14 - 6*w^13 + w^12 + 2*w^10 - 6*w^9 + 4*w^8 - 2*w^7 - 3*w^6 + 4*w^5 - 4*w^4 + 7*w^3 - 10*w^2 + 8*w - 1)*b6 + (-w^23 + 6*w^22 - 4*w^21 + 6*w^20 - 4*w^19 + 4*w^18 - 4*w^17 + 4*w^16 - 6*w^14 + 4*w^13 - 4*w^12 + 2*w^11 - 4*w^10 + 4*w^9 - 5*w^8 - 3*w^7 + 4*w^6 - 4*w^5 + 4*w^4 - 4*w^3 + 6*w^2 - 6*w + 6)*b7 + (-3*w^22 + 4*w^21 - 6*w^20 + 4*w^19 - 4*w^18 + 4*w^17 - 2*w^16 + 4*w^14 - 4*w^13 + 4*w^12 - 2*w^11 + 4*w^10 - 4*w^9 + 3*w^8 + w^7 - 4*w^6 + 4*w^5 - 4*w^4 + 4*w^3 - 6*w^2 + 4*w - 4)*b8 + (2*w^23 - 2*w^22 - 5*w^21 + 6*w^20 - 6*w^19 + 4*w^18 - 2*w^17 + 2*w^15 - 2*w^14 + 4*w^13 - 2*w^12 + 2*w^11 - 2*w^10 + 3*w^9 - 2*w^8 + 2*w^7 + w^6 - 4*w^5 + 4*w^4 - 6*w^3 + 6*w^2 - 4*w - 2)*b9 + (-2*w^21 - 3*w^20 + 6*w^19 - 4*w^18 + 2*w^16 + 4*w^12 - 4*w^11 + w^10 + 2*w^9 - 2*w^7 + 2*w^6 + w^5 - 6*w^4 + 4*w^3 - 2*w^2 - 2)*b10 + (2*w^21 - w^19 + 2*w^18 - 2*w^12 + w^11 - 2*w^9 - 2*w^6 + w^4 - 2*w^3 + 2)*b11 + (-2*w^23 + 2*w^22 + 2*w^21 + 2*w^20 - 4*w^19 + 3*w^18 + 2*w^17 - 2*w^16 + 2*w^14 - 2*w^13 - 3*w^12 + 4*w^11 - 2*w^10 - 2*w^9 - 2*w^6 - 2*w^5 + 4*w^4 - 3*w^3 - 2*w^2 + 2*w + 2)*b12 + (4*w^21 - 4*w^20 + 6*w^19 - 4*w^18 + w^17 + 2*w^16 - 2*w^15 - w^13 + 2*w^12 - 4*w^11 + 2*w^10 - 2*w^9 - 2*w^7 + 2*w^5 - 6*w^4 + 6*w^3 - 3*w^2 + 2)*b13 + (2*w^22 - 6*w^21 + 6*w^20 - 4*w^19 + 4*w^18 - 4*w^17 + w^16 + 2*w^15 - 3*w^14 + 4*w^13 - 2*w^12 + 2*w^11 - 4*w^10 + 4*w^9 - 2*w^8 + 2*w^6 - 4*w^5 + 4*w^4 - 6*w^3 + 6*w^2 - 3*w - 2)*b14 + (4*w^23 - 6*w^22 + 4*w^21 - 4*w^20 + 4*w^19 - 4*w^18 + 4*w^17 - 4*w^16 + 4*w^14 - 4*w^13 + 4*w^12 - 4*w^11 + 4*w^10 - 4*w^9 + 2*w^8 + 2*w^7 - 4*w^6 + 4*w^5 - 4*w^4 + 4*w^3 - 4*w^2 + 4*w - 5)*b15 + (-w^23 + 6*w^22 - 8*w^21 + 7*w^20 - 4*w^19 + 4*w^18 - 4*w^17 + 3*w^16 + 2*w^15 - 6*w^14 + 4*w^13 - 2*w^12 + w^11 - 4*w^10 + 6*w^9 - 5*w^8 - 2*w^7 + 4*w^6 - 4*w^5 + 4*w^4 - 6*w^3 + 7*w^2 - 6*w + 2)*b16 + (-3*w^22 + 10*w^21 - 10*w^20 + 7*w^19 - 4*w^18 + 3*w^17 + 2*w^16 - 4*w^15 + 4*w^14 - 4*w^13 + 3*w^10 - 6*w^9 + 4*w^8 - 3*w^7 - 2*w^6 + 4*w^5 - 6*w^4 + 8*w^3 - 10*w^2 + 5*w)*b17 + (-2*w^23 + 4*w^22 - 5*w^21 + 10*w^20 - 10*w^19 + 6*w^18 + 2*w^17 - 4*w^16 + 4*w^15 - 2*w^14 - 2*w^12 + 2*w^11 - 2*w^10 + w^9 - 4*w^8 + 4*w^7 - 3*w^6 - 4*w^5 + 8*w^4 - 10*w^3 + 6*w^2 - 4*w + 3)*b18 + (w^23 - 4*w^22 + 6*w^21 - 8*w^20 + 9*w^19 - 4*w^18 - w^17 + 4*w^16 - 4*w^15 + 3*w^14 - w^11 - 2*w^9 + 4*w^8 - 4*w^7 + 2*w^6 + w^5 - 8*w^4 + 8*w^3 - 7*w^2 + 4*w - 2)*b19 + (3*w^22 - 8*w^21 + 7*w^20 - 2*w^19 + 2*w^18 - 2*w^17 - w^16 + 4*w^15 - 4*w^14 + 3*w^13 + 2*w^12 - 4*w^11 - w^10 + 4*w^9 - 4*w^8 + 2*w^7 - 2*w^5 + w^4 - 6*w^3 + 8*w^2 - 5*w)*b20 + (2*w^23 - 4*w^22 + 4*w^21 - 2*w^20 + 2*w^17 - 2*w^16 - w^15 + 4*w^14 - 2*w^13 - w^12 + 2*w^11 - 3*w^9 + 2*w^8 - 2*w^6 + w^3 - 4*w^2 + 4*w - 3)*b21 + (-w^23 + 3*w^22 + 2*w^16 - 2*w^14 - 2*w^8 - 2*w^7 - 2*w + 2)*b22 + (-w^23 + 3*w^22 + 2*w^16 - 2*w^14 - 2*w^8 - 2*w^7 - 2*w + 2)*b23, b0 + (w^23 - 4*w^22 + w^21 - 2*w^20 - w^16 + 3*w^14 + 2*w^11 - w^9 + 3*w^8 + w^7 - w^6 - 2*w^2 + 3*w - 4)*b1 + (2*w^22 - 7*w^21 + 5*w^20 - 2*w^19 - w^17 + 3*w^15 - 4*w^14 + 3*w^13 + 3*w^12 - 4*w^11 + w^10 + 4*w^9 - 4*w^8 + 2*w^7 + w^6 - w^5 - 3*w^3 + 7*w^2 - 6*w + 1)*b2 + (-3*w^22 + 6*w^21 - 8*w^20 + 5*w^19 - 3*w^18 + 3*w^16 - 4*w^15 + 4*w^14 - w^13 - w^12 + 3*w^11 - 2*w^9 + 4*w^8 - 4*w^7 + 2*w^6 + w^5 - 4*w^4 + 7*w^3 - 8*w^2 + 5*w - 2)*b3 + (-w^23 + 4*w^22 - 4*w^21 + 8*w^20 - 9*w^19 + 5*w^18 + w^17 - 4*w^16 + 4*w^15 - 3*w^14 - w^12 + w^11 - 4*w^8 + 4*w^7 - 4*w^6 - w^5 + 8*w^4 - 9*w^3 + 7*w^2 - 4*w + 4)*b4 + (-2*w^22 + 7*w^21 - 9*w^20 + 8*w^19 - 5*w^18 + w^17 + 2*w^16 - 4*w^15 + 4*w^14 - 3*w^13 + w^12 + w^10 - 3*w^9 + 4*w^8 - 4*w^7 + w^6 + 3*w^5 - 6*w^4 + 9*w^3 - 9*w^2 + 6*w - 1)*b5 + (3*w^22 - 7*w^21 + 8*w^20 - 5*w^19 + 4*w^18 - 4*w^17 + w^16 + 2*w^15 - 5*w^14 + 5*w^13 - 2*w^12 - 3*w^10 + 5*w^9 - 4*w^8 + w^7 + 3*w^6 - 4*w^5 + 4*w^4 - 6*w^3 + 9*w^2 - 6*w + 2)*b6 + (w^23 - 5*w^22 + 4*w^21 - 5*w^20 + 4*w^19 - 4*w^18 + 4*w^17 - 4*w^16 + 5*w^14 - 4*w^13 + 4*w^12 - 3*w^11 + 4*w^10 - 4*w^9 + 4*w^8 + 3*w^7 - 4*w^6 + 4*w^5 - 4*w^4 + 4*w^3 - 5*w^2 + 5*w - 5)*b7 + (2*w^22 - 4*w^21 + 5*w^20 - 4*w^19 + 4*w^18 - 4*w^17 + 3*w^16 - 4*w^14 + 4*w^13 - 4*w^12 + 3*w^11 - 4*w^10 + 4*w^9 - 2*w^8 - w^7 + 4*w^6 - 4*w^5 + 4*w^4 - 4*w^3 + 5*w^2 - 4*w + 2)*b8 + (-w^23 + w^22 + 3*w^21 - 5*w^20 + 5*w^19 - 4*w^18 + 3*w^17 - w^15 + w^14 - 4*w^13 + 3*w^12 - 3*w^11 + 3*w^10 - 2*w^9 + w^8 - w^7 - w^6 + 4*w^5 - 4*w^4 + 5*w^3 - 5*w^2 + 2*w + 1)*b9 + (w^21 + 2*w^20 - 5*w^19 + 4*w^18 - w^16 - 4*w^12 + 4*w^11 - w^10 - w^9 + w^7 - w^6 - w^5 + 5*w^4 - 4*w^3 + w^2 + 1)*b10 + (-w^21 + w^19 - w^18 + w^12 - w^11 + w^9 + w^6 - w^4 + w^3 - 1)*b11 + (w^23 - w^22 - w^21 - w^20 + 4*w^19 - 3*w^18 - w^17 + w^16 - w^14 + w^13 + 3*w^12 - 4*w^11 + w^10 + w^9 + w^6 + w^5 - 4*w^4 + 3*w^3 + w^2 - w - 1)*b12 + (-2*w^21 + 4*w^20 - 5*w^19 + 4*w^18 - 2*w^17 - w^16 + w^15 + 2*w^13 - 3*w^12 + 4*w^11 - 3*w^10 + w^9 + w^7 - 3*w^5 + 5*w^4 - 5*w^3 + 3*w^2 - 1)*b13 + (-w^22 + 5*w^21 - 5*w^20 + 4*w^19 - 4*w^18 + 4*w^17 - 2*w^16 - w^15 + 3*w^14 - 4*w^13 + 3*w^12 - 3*w^11 + 4*w^10 - 4*w^9 + w^8 - 3*w^6 + 4*w^5 - 4*w^4 + 5*w^3 - 5*w^2 + 3*w + 1)*b14 + (-2*w^23 + 5*w^22 - 4*w^21 + 4*w^20 - 4*w^19 + 4*w^18 - 4*w^17 + 4*w^16 - 4*w^14 + 4*w^13 - 4*w^12 + 4*w^11 - 4*w^10 + 4*w^9 - 3*w^8 - 3*w^7 + 4*w^6 - 4*w^5 + 4*w^4 - 4*w^3 + 4*w^2 - 4*w + 4)*b15 + (w^23 - 5*w^22 + 6*w^21 - 7*w^20 + 4*w^19 - 4*w^18 + 4*w^17 - 2*w^16 - w^15 + 5*w^14 - 4*w^13 + 3*w^12 - w^11 + 4*w^10 - 5*w^9 + 4*w^8 + w^7 - 4*w^6 + 4*w^5 - 4*w^4 + 5*w^3 - 7*w^2 + 5*w - 3)*b16 + (2*w^22 - 9*w^21 + 9*w^20 - 7*w^19 + 4*w^18 - 2*w^17 - w^16 + 4*w^15 - 4*w^14 + 4*w^13 - 2*w^10 + 5*w^9 - 4*w^8 + 3*w^7 + w^6 - 4*w^5 + 5*w^4 - 8*w^3 + 9*w^2 - 6*w)*b17 + (w^23 - 4*w^22 + 5*w^21 - 9*w^20 + 9*w^19 - 5*w^18 - w^17 + 4*w^16 - 4*w^15 + 3*w^14 + w^12 - w^11 + w^10 - w^9 + 4*w^8 - 4*w^7 + 3*w^6 + 2*w^5 - 8*w^4 + 9*w^3 - 7*w^2 + 4*w - 3)*b18 + (-w^23 + 4*w^22 - 5*w^21 + 8*w^20 - 7*w^19 + 4*w^18 + w^17 - 4*w^16 + 4*w^15 - 3*w^14 - w^11 + w^9 - 4*w^8 + 4*w^7 - 3*w^6 - w^5 + 6*w^4 - 8*w^3 + 7*w^2 - 4*w + 3)*b19 + (-2*w^22 + 8*w^21 - 6*w^20 + 3*w^19 - w^18 + w^17 + w^16 - 4*w^15 + 4*w^14 - 3*w^13 - 3*w^12 + 4*w^11 - w^10 - 4*w^9 + 4*w^8 - 3*w^7 + w^5 - w^4 + 5*w^3 - 8*w^2 + 6*w)*b20 + (-w^23 + 4*w^22 - 3*w^21 + 3*w^20 - w^17 + w^16 + w^15 - 4*w^14 + w^13 + w^12 - 3*w^11 + 2*w^9 - 3*w^8 + w^6 - w^3 + 4*w^2 - 4*w + 3)*b21 + (w^23 - 2*w^22 - w^16 + w^14 + w^8 + w^7 + w - 3)*b22 + (2*w^23 - 3*w^22 - w^16 + w^14 + w^8 + w^7 + w - 3)*b23],\n",
       " [a + (-7*w^23 - 10*w^22 - 6*w^21 - 7*w^20 - 4*w^19 + 4*w^18 + 8*w^17 + 6*w^16 + 2*w^15 + 5*w^14 + 4*w^13 - 2*w^12 + 3*w^11 + 8*w^10 + 4*w^9 + 5*w^8 + 6*w^7 + 2*w^6 - 4*w^5 - 8*w^4 - 6*w^3 - 7*w^2 - 7*w - 2)*b1 + (-8*w^23 - 13*w^22 - 10*w^21 - 8*w^20 - 3*w^19 + 4*w^18 + 10*w^17 + 10*w^16 + 4*w^15 + 4*w^14 + 3*w^13 + 4*w^11 + 7*w^10 + 6*w^9 + 8*w^8 + 7*w^7 + 2*w^6 - 6*w^5 - 10*w^4 - 8*w^3 - 11*w^2 - 9*w)*b2 + (-6*w^23 - 8*w^22 - 7*w^21 - 6*w^20 + 3*w^18 + 6*w^17 + 8*w^16 + 4*w^15 + 2*w^14 + w^12 + 4*w^11 + 2*w^10 + 3*w^9 + 8*w^8 + 4*w^7 - w^6 - 4*w^5 - 6*w^4 - 7*w^3 - 10*w^2 - 4*w + 1)*b3 + (-w^23 + 2*w^21 + 2*w^18 + w^17 + w^14 - 2*w^12 - 2*w^9 - 2*w^6 - w^5 - w^4 - 2*w^3 - w^2 + 2)*b4 + (4*w^23 + 9*w^22 + 8*w^21 + 6*w^20 + 2*w^19 - 2*w^18 - 4*w^17 - 7*w^16 - 4*w^15 - w^13 - 2*w^12 - 4*w^11 - 4*w^10 - 4*w^9 - 8*w^8 - 6*w^7 + w^5 + 3*w^4 + 6*w^3 + 6*w^2 + 5*w)*b5 + (10*w^23 + 12*w^22 + 9*w^21 + 10*w^20 + 4*w^19 - 4*w^18 - 10*w^17 - 8*w^16 - 3*w^15 - 6*w^14 - 2*w^13 + w^12 - 6*w^11 - 8*w^10 - 6*w^9 - 10*w^8 - 8*w^7 - 3*w^6 + 4*w^5 + 8*w^4 + 7*w^3 + 12*w^2 + 6*w - 1)*b6 + (9*w^23 + 10*w^22 + 4*w^21 + 8*w^20 + 4*w^19 - 4*w^18 - 8*w^17 - 6*w^16 - 6*w^14 - 4*w^13 + 4*w^12 - 4*w^11 - 8*w^10 - 4*w^9 - 7*w^8 - 7*w^7 - 4*w^6 + 4*w^5 + 8*w^4 + 4*w^3 + 8*w^2 + 6*w - 4)*b7 + (4*w^23 + w^22 + 2*w^20 - 2*w^14 - 2*w^11 - 5*w^8 - 3*w^7 + 2*w^2 - 2*w - 2)*b8 + (-6*w^23 - 6*w^22 - 5*w^21 - 6*w^20 - 2*w^19 + 4*w^18 + 8*w^17 + 6*w^16 + 2*w^15 + 4*w^14 + 2*w^13 - 2*w^12 + 2*w^11 + 6*w^10 + 3*w^9 + 2*w^8 + 2*w^7 + w^6 - 4*w^5 - 8*w^4 - 6*w^3 - 8*w^2 - 6*w - 2)*b9 + (-8*w^23 - 12*w^22 - 6*w^21 - 7*w^20 - 2*w^19 + 6*w^18 + 10*w^17 + 10*w^16 + 4*w^15 + 4*w^14 + 2*w^13 - 2*w^12 + 4*w^11 + 5*w^10 + 2*w^9 + 8*w^8 + 6*w^7 - 2*w^6 - 7*w^5 - 10*w^4 - 10*w^3 - 12*w^2 - 8*w + 2)*b10 + (-8*w^23 - 8*w^22 - 6*w^21 - 4*w^20 + w^19 + 4*w^18 + 8*w^17 + 8*w^16 + 4*w^15 + 4*w^14 + 3*w^11 + 2*w^9 + 8*w^8 + 4*w^7 - 2*w^6 - 8*w^5 - 9*w^4 - 8*w^3 - 12*w^2 - 4*w + 2)*b11 + (-2*w^23 - 2*w^22 + 2*w^21 + 2*w^19 + 3*w^18 + 2*w^17 + 2*w^16 + 2*w^14 + 2*w^13 - 3*w^12 - 2*w^11 - 2*w^9 - 2*w^6 - 4*w^5 - 6*w^4 - 3*w^3 - 2*w^2 - 2*w + 2)*b12 + (4*w^23 + 8*w^22 + 6*w^21 + 6*w^20 + 2*w^19 - 3*w^17 - 6*w^16 - 2*w^15 - w^13 - 2*w^12 - 4*w^11 - 4*w^10 - 4*w^9 - 8*w^8 - 6*w^7 - 2*w^6 + 2*w^4 + 2*w^3 + 5*w^2 + 4*w - 2)*b13 + (12*w^23 + 12*w^22 + 8*w^21 + 10*w^20 + 4*w^19 - 4*w^18 - 8*w^17 - 7*w^16 - 2*w^15 - 7*w^14 - 4*w^13 + 2*w^12 - 6*w^11 - 8*w^10 - 6*w^9 - 12*w^8 - 10*w^7 - 4*w^6 + 4*w^5 + 8*w^4 + 6*w^3 + 10*w^2 + 5*w - 2)*b14 + (10*w^23 + 12*w^22 + 4*w^21 + 8*w^20 + 4*w^19 - 4*w^18 - 8*w^17 - 4*w^16 - 8*w^14 - 4*w^13 + 4*w^12 - 4*w^11 - 8*w^10 - 4*w^9 - 10*w^8 - 10*w^7 - 4*w^6 + 4*w^5 + 8*w^4 + 4*w^3 + 8*w^2 + 4*w - 5)*b15 + (5*w^23 + 2*w^22 + 2*w^21 + 3*w^20 - w^16 - 2*w^14 - 3*w^11 - 2*w^9 - 7*w^8 - 4*w^7 - 2*w^6 + 3*w^2 - 2*w - 4)*b16 + (-4*w^23 - 5*w^22 - 4*w^21 - 2*w^20 - w^19 + 4*w^18 + 7*w^17 + 4*w^16 + 2*w^15 + 4*w^14 + 2*w^13 - 2*w^12 + 3*w^10 + 2*w^9 + w^7 - 6*w^5 - 8*w^4 - 6*w^3 - 6*w^2 - 5*w - 2)*b17 + (-8*w^23 - 10*w^22 - 5*w^21 - 6*w^20 + 2*w^19 + 6*w^18 + 8*w^17 + 10*w^16 + 4*w^15 + 4*w^14 + 2*w^13 - 2*w^12 + 2*w^11 + 2*w^10 + w^9 + 8*w^8 + 4*w^7 - 3*w^6 - 8*w^5 - 12*w^4 - 10*w^3 - 12*w^2 - 6*w + 3)*b18 + (-9*w^23 - 8*w^22 - 4*w^21 - 4*w^20 + w^19 + 6*w^18 + 9*w^17 + 8*w^16 + 4*w^15 + 5*w^14 - 2*w^12 + 3*w^11 + 8*w^8 + 4*w^7 - 4*w^6 - 9*w^5 - 10*w^4 - 10*w^3 - 13*w^2 - 4*w + 4)*b19 + (-4*w^23 - 3*w^22 + 2*w^21 - w^20 + 4*w^18 + 6*w^17 + 3*w^16 + 4*w^14 + w^13 - 4*w^12 + w^10 - 2*w^9 - 2*w^6 - 6*w^5 - 7*w^4 - 4*w^3 - 6*w^2 - 3*w + 2)*b20 + (4*w^23 + 6*w^22 + 4*w^21 + 4*w^20 + 2*w^19 - 2*w^17 - 2*w^16 - w^15 - 2*w^14 - w^12 - 4*w^11 - 2*w^10 - 3*w^9 - 8*w^8 - 6*w^7 - 2*w^6 + w^3 + 4*w^2 - 3)*b21 + (13*w^23 + 11*w^22 + 4*w^21 + 10*w^20 + 4*w^19 - 4*w^18 - 8*w^17 - 6*w^16 - 8*w^14 - 4*w^13 + 4*w^12 - 6*w^11 - 8*w^10 - 4*w^9 - 12*w^8 - 10*w^7 - 4*w^6 + 4*w^5 + 8*w^4 + 4*w^3 + 10*w^2 + 4*w - 6)*b22 + (13*w^23 + 11*w^22 + 4*w^21 + 10*w^20 + 4*w^19 - 4*w^18 - 8*w^17 - 6*w^16 - 8*w^14 - 4*w^13 + 4*w^12 - 6*w^11 - 8*w^10 - 4*w^9 - 12*w^8 - 10*w^7 - 4*w^6 + 4*w^5 + 8*w^4 + 4*w^3 + 10*w^2 + 4*w - 6)*b23, b0 + (6*w^23 + 9*w^22 + 5*w^21 + 6*w^20 + 4*w^19 - 4*w^18 - 8*w^17 - 5*w^16 - w^15 - 5*w^14 - 4*w^13 + 3*w^12 - 2*w^11 - 8*w^10 - 4*w^9 - 3*w^8 - 5*w^7 - 3*w^6 + 4*w^5 + 8*w^4 + 5*w^3 + 6*w^2 + 7*w + 1)*b1 + (8*w^23 + 11*w^22 + 9*w^21 + 8*w^20 + 2*w^19 - 4*w^18 - 9*w^17 - 9*w^16 - 4*w^15 - 4*w^14 - 2*w^13 - 4*w^11 - 6*w^10 - 5*w^9 - 8*w^8 - 6*w^7 - w^6 + 5*w^5 + 9*w^4 + 8*w^3 + 11*w^2 + 7*w)*b2 + (5*w^23 + 8*w^22 + 6*w^21 + 5*w^20 - 3*w^18 - 5*w^17 - 8*w^16 - 4*w^15 - w^14 - w^12 - 4*w^11 - w^10 - 2*w^9 - 8*w^8 - 4*w^7 + 2*w^6 + 4*w^5 + 5*w^4 + 7*w^3 + 9*w^2 + 4*w - 2)*b3 + (2*w^23 - w^21 - w^18 - 2*w^17 - 2*w^14 + w^12 + w^9 + w^6 + 2*w^5 + 2*w^4 + w^3 + 2*w^2 - 1)*b4 + (-4*w^23 - 7*w^22 - 8*w^21 - 5*w^20 - w^19 + w^18 + 4*w^17 + 6*w^16 + 4*w^15 - w^13 + 3*w^12 + 4*w^11 + 2*w^10 + 4*w^9 + 8*w^8 + 5*w^7 - w^5 - 2*w^4 - 5*w^3 - 7*w^2 - 3*w)*b5 + (-9*w^23 - 12*w^22 - 7*w^21 - 9*w^20 - 4*w^19 + 4*w^18 + 9*w^17 + 8*w^16 + 2*w^15 + 5*w^14 + 3*w^13 - 2*w^12 + 5*w^11 + 8*w^10 + 5*w^9 + 9*w^8 + 8*w^7 + 3*w^6 - 4*w^5 - 8*w^4 - 6*w^3 - 10*w^2 - 7*w + 2)*b6 + (-10*w^23 - 9*w^22 - 4*w^21 - 8*w^20 - 4*w^19 + 4*w^18 + 8*w^17 + 5*w^16 + 7*w^14 + 4*w^13 - 4*w^12 + 4*w^11 + 8*w^10 + 4*w^9 + 7*w^8 + 7*w^7 + 4*w^6 - 4*w^5 - 8*w^4 - 4*w^3 - 8*w^2 - 5*w + 2)*b7 + (-2*w^23 - 2*w^22 - w^20 + w^14 + w^11 + 4*w^8 + 3*w^7 - w^2 + w + 3)*b8 + (5*w^23 + 7*w^22 + 3*w^21 + 5*w^20 + 3*w^19 - 4*w^18 - 8*w^17 - 5*w^16 - w^15 - 4*w^14 - 3*w^13 + 3*w^12 - w^11 - 7*w^10 - 2*w^9 - w^8 - 3*w^7 - w^6 + 4*w^5 + 8*w^4 + 5*w^3 + 6*w^2 + 7*w + 1)*b9 + (8*w^23 + 10*w^22 + 7*w^21 + 6*w^20 + w^19 - 5*w^18 - 9*w^17 - 9*w^16 - 4*w^15 - 4*w^14 - w^13 + w^12 - 4*w^11 - 3*w^10 - 3*w^9 - 8*w^8 - 5*w^7 + w^6 + 7*w^5 + 9*w^4 + 9*w^3 + 12*w^2 + 6*w - 1)*b10 + (6*w^23 + 8*w^22 + 5*w^21 + 4*w^20 - 2*w^19 - 4*w^18 - 6*w^17 - 8*w^16 - 4*w^15 - 2*w^14 - 2*w^11 - w^9 - 8*w^8 - 4*w^7 + 3*w^6 + 6*w^5 + 8*w^4 + 8*w^3 + 10*w^2 + 4*w - 3)*b11 + (3*w^23 + w^22 - w^21 - w^19 - 3*w^18 - 3*w^17 - w^16 - 3*w^14 - w^13 + 3*w^12 + w^11 + w^9 + w^6 + 4*w^5 + 5*w^4 + 3*w^3 + 3*w^2 + w - 1)*b12 + (-4*w^23 - 6*w^22 - 7*w^21 - 5*w^20 - w^19 + 2*w^17 + 5*w^16 + 3*w^15 + 3*w^12 + 4*w^11 + 2*w^10 + 4*w^9 + 8*w^8 + 5*w^7 + w^6 - w^4 - 3*w^3 - 5*w^2 - 2*w + 1)*b13 + (-10*w^23 - 12*w^22 - 6*w^21 - 9*w^20 - 4*w^19 + 4*w^18 + 8*w^17 + 6*w^16 + w^15 + 7*w^14 + 4*w^13 - 3*w^12 + 5*w^11 + 8*w^10 + 5*w^9 + 10*w^8 + 9*w^7 + 4*w^6 - 4*w^5 - 8*w^4 - 5*w^3 - 9*w^2 - 5*w + 3)*b14 + (-11*w^23 - 10*w^22 - 4*w^21 - 8*w^20 - 4*w^19 + 4*w^18 + 8*w^17 + 4*w^16 + 8*w^14 + 4*w^13 - 4*w^12 + 4*w^11 + 8*w^10 + 4*w^9 + 9*w^8 + 9*w^7 + 4*w^6 - 4*w^5 - 8*w^4 - 4*w^3 - 8*w^2 - 4*w + 4)*b15 + (-4*w^23 - 3*w^22 - w^21 - 3*w^20 + 2*w^16 + w^14 + 3*w^11 + w^9 + 7*w^8 + 4*w^7 + w^6 - 3*w^2 + w + 4)*b16 + (4*w^23 + 5*w^22 + 2*w^21 + 3*w^20 + w^19 - 4*w^18 - 6*w^17 - 4*w^16 - w^15 - 4*w^14 - 3*w^13 + 3*w^12 - 4*w^10 - w^9 - w^7 + 5*w^5 + 8*w^4 + 5*w^3 + 5*w^2 + 5*w + 1)*b17 + (8*w^23 + 9*w^22 + 5*w^21 + 5*w^20 - w^19 - 5*w^18 - 8*w^17 - 9*w^16 - 4*w^15 - 4*w^14 - w^13 + w^12 - 3*w^11 - w^10 - w^9 - 8*w^8 - 4*w^7 + 3*w^6 + 8*w^5 + 10*w^4 + 9*w^3 + 12*w^2 + 5*w - 3)*b18 + (8*w^23 + 8*w^22 + 4*w^21 + 4*w^20 - w^19 - 5*w^18 - 8*w^17 - 8*w^16 - 4*w^15 - 4*w^14 + w^12 - 3*w^11 - 8*w^8 - 4*w^7 + 4*w^6 + 8*w^5 + 9*w^4 + 9*w^3 + 12*w^2 + 4*w - 4)*b19 + (4*w^23 + 3*w^22 - w^21 + 2*w^20 - 4*w^18 - 5*w^17 - 3*w^16 - 4*w^14 - 2*w^13 + 4*w^12 - 2*w^10 + w^9 + w^6 + 5*w^5 + 7*w^4 + 4*w^3 + 5*w^2 + 3*w - 1)*b20 + (-4*w^23 - 5*w^22 - 3*w^21 - 4*w^20 - w^19 + w^17 + 3*w^16 + w^15 + w^14 + w^12 + 4*w^11 + w^10 + 2*w^9 + 8*w^8 + 5*w^7 + w^6 - w^3 - 4*w^2 + 3)*b21 + (-12*w^23 - 10*w^22 - 4*w^21 - 9*w^20 - 4*w^19 + 4*w^18 + 8*w^17 + 5*w^16 + 8*w^14 + 4*w^13 - 4*w^12 + 5*w^11 + 8*w^10 + 4*w^9 + 10*w^8 + 9*w^7 + 4*w^6 - 4*w^5 - 8*w^4 - 4*w^3 - 9*w^2 - 4*w + 5)*b22 + (-11*w^23 - 11*w^22 - 4*w^21 - 9*w^20 - 4*w^19 + 4*w^18 + 8*w^17 + 5*w^16 + 8*w^14 + 4*w^13 - 4*w^12 + 5*w^11 + 8*w^10 + 4*w^9 + 10*w^8 + 9*w^7 + 4*w^6 - 4*w^5 - 8*w^4 - 4*w^3 - 9*w^2 - 4*w + 5)*b23]]"
      ]
     },
     "execution_count": 32,
     "metadata": {},
     "output_type": "execute_result"
    }
   ],
   "source": [
    "Bo1=list();\n",
    "for i in range(len(ob1)):\n",
    "    RelHerm=(conjugate(transpose(R1ob1[i]))*H*(R1ob1[i])-H)\n",
    "    B=[RelHerm[0,0],(RelHerm[0,1]),(RelHerm[0,2]),RelHerm[1,0],(RelHerm[1,1]),(RelHerm[1,2]),RelHerm[2,0],RelHerm[2,1],(RelHerm[2,2])];\n",
    "    Bo1.append(B)\n",
    "Go1=list()\n",
    "for i in range(len(ob1)):\n",
    "    J=Pol.ideal(Bo1[i])\n",
    "    Grob=J.groebner_basis()\n",
    "    Go1.append(Grob)\n",
    "Go1"
   ]
  },
  {
   "cell_type": "code",
   "execution_count": 33,
   "metadata": {},
   "outputs": [
    {
     "data": {
      "text/plain": [
       "[[a + 2*b0 - 2*b2 + (2*w^23 + 2*w^20 - 2*w^14 - 2*w^11 - 2*w^8 + 2*w^2 - 2*w)*b3 + (2*w^22 + 2*w^19 - 2*w^13 - 2*w^10 - 2*w^7 - 2*w^2 + 2*w - 2)*b4 + (2*w^23 + 2*w^21 + 2*w^20 + 2*w^18 - 2*w^14 - 2*w^12 - 2*w^11 - 2*w^9 - 2*w^8 - 2*w^6 - 2*w^3 + 2*w^2 - 2*w + 2)*b5 + (-2*w^23 + 2*w^22 + 2*w^19 + 2*w^17 + 2*w^14 - 2*w^13 - 2*w^10 - 2*w^7 - 2*w^5 - 2*w^4 - 4*w^2 + 2*w - 2)*b6 + (2*w^23 - 2*w^22 + 2*w^21 + 2*w^20 + 2*w^18 + 2*w^16 - 2*w^14 + 2*w^13 - 2*w^12 - 2*w^11 - 2*w^9 - 2*w^8 - 2*w^6 - 2*w^5 - 2*w^4 - 2*w^3 + 2*w^2 - 4*w + 2)*b7 + (-2*w^23 + 2*w^22 - 2*w^21 + 2*w^19 + 2*w^17 + 2*w^15 + 2*w^14 - 2*w^13 + 2*w^12 - 2*w^10 - 2*w^7 - 2*w^6 - 2*w^5 - 2*w^4 - 2*w^3 - 4*w^2 + 2*w - 4)*b8 + (4*w^23 - 2*w^22 + 2*w^21 + 2*w^20 + 2*w^18 + 2*w^16 - 2*w^14 + 2*w^13 - 2*w^12 - 2*w^11 - 2*w^9 - 4*w^8 - 2*w^7 - 2*w^6 - 2*w^5 - 2*w^4 - 2*w^3 + 2*w^2 - 4*w + 2)*b9 + (-2*w^23 + 4*w^22 - 2*w^21 + 2*w^19 + 2*w^17 + 2*w^15 + 2*w^14 - 2*w^13 + 2*w^12 - 2*w^10 - 2*w^8 - 4*w^7 - 2*w^6 - 2*w^5 - 2*w^4 - 2*w^3 - 4*w^2 + 2*w - 4)*b10 + (4*w^23 - 2*w^22 + 4*w^21 + 2*w^20 + 2*w^18 + 2*w^16 - 2*w^14 + 2*w^13 - 2*w^12 - 2*w^11 - 4*w^9 - 4*w^8 - 2*w^7 - 4*w^6 - 2*w^5 - 2*w^4 - 2*w^3 + 2*w^2 - 4*w + 2)*b11 + (-2*w^23 + 4*w^22 - 2*w^21 + 2*w^20 + 2*w^19 + 2*w^17 + 2*w^15 + 2*w^14 - 2*w^13 + 2*w^12 - 4*w^10 - 2*w^8 - 4*w^7 - 2*w^6 - 4*w^5 - 2*w^4 - 2*w^3 - 4*w^2 + 2*w - 4)*b12 + (4*w^23 - 2*w^22 + 4*w^21 + 2*w^20 + 2*w^19 + 2*w^18 + 2*w^16 - 2*w^14 + 2*w^13 - 2*w^12 - 4*w^11 - 4*w^9 - 4*w^8 - 2*w^7 - 4*w^6 - 2*w^5 - 4*w^4 - 2*w^3 + 2*w^2 - 4*w + 2)*b13 + (-2*w^23 + 4*w^22 - 2*w^21 + 2*w^20 + 2*w^19 + 2*w^18 + 2*w^17 + 2*w^15 + 2*w^14 - 2*w^13 - 4*w^10 - 2*w^8 - 4*w^7 - 2*w^6 - 4*w^5 - 2*w^4 - 4*w^3 - 4*w^2 + 2*w - 4)*b14 + (4*w^23 - 2*w^22 + 4*w^21 + 2*w^20 + 2*w^19 + 2*w^18 + 2*w^17 + 2*w^16 - 2*w^14 - 2*w^12 - 4*w^11 - 4*w^9 - 4*w^8 - 2*w^7 - 4*w^6 - 2*w^5 - 4*w^4 - 2*w^3 - 4*w + 2)*b15 + (-2*w^23 + 4*w^22 - 2*w^21 + 2*w^20 + 2*w^19 + 2*w^18 + 2*w^17 + 2*w^16 + 2*w^15 - 2*w^13 - 4*w^10 - 2*w^8 - 4*w^7 - 2*w^6 - 4*w^5 - 2*w^4 - 4*w^3 - 4*w^2 - 4)*b16 + (4*w^23 - 2*w^22 + 4*w^21 + 2*w^20 + 2*w^19 + 2*w^18 + 2*w^17 + 2*w^16 - 2*w^14 - 2*w^12 - 4*w^11 - 4*w^9 - 4*w^8 - 2*w^7 - 4*w^6 - 2*w^5 - 4*w^4 - 2*w^3 - 4*w)*b17 + (4*w^22 - 2*w^21 + 4*w^20 + 2*w^19 + 2*w^18 + 2*w^17 + 2*w^15 - 2*w^13 - 2*w^11 - 4*w^10 - 4*w^8 - 4*w^7 - 2*w^6 - 4*w^5 - 2*w^4 - 4*w^3 - 2*w^2 - 4)*b18 + (4*w^23 + 4*w^21 + 2*w^20 + 4*w^19 + 2*w^18 + 2*w^16 - 2*w^14 - 2*w^12 - 4*w^11 - 2*w^10 - 4*w^9 - 4*w^8 - 4*w^7 - 4*w^6 - 2*w^5 - 4*w^4 - 2*w^3 - 2*w)*b19 + (4*w^22 + 4*w^20 + 2*w^19 + 2*w^18 + 2*w^17 + 2*w^15 - 2*w^13 - 2*w^11 - 4*w^10 - 2*w^9 - 4*w^8 - 4*w^7 - 4*w^6 - 4*w^5 - 2*w^4 - 4*w^3 - 2*w^2 - 2)*b20 + (2*w^23 + 4*w^21 + 2*w^20 + 2*w^19 + 2*w^18 + 2*w^17 + 2*w^16 - 2*w^12 - 2*w^11 - 2*w^10 - 4*w^9 - 4*w^8 - 4*w^7 - 4*w^6 - 4*w^5 - 4*w^4 - 2*w^3 - 2*w^2 - 2*w)*b21 + (2*w^22 + 2*w^20 + 2*w^19 + 2*w^18 + 2*w^17 + 2*w^16 + 2*w^15 - 2*w^11 - 2*w^10 - 2*w^9 - 4*w^8 - 4*w^7 - 4*w^6 - 4*w^5 - 4*w^4 - 4*w^3 - 2*w^2 - 2*w - 2)*b22 + (2*w^23 + 2*w^20 + 2*w^19 + 2*w^18 + 2*w^17 + 2*w^16 + 2*w^15 - 2*w^11 - 2*w^10 - 2*w^9 - 4*w^8 - 4*w^7 - 4*w^6 - 4*w^5 - 4*w^4 - 4*w^3 - 2*w^2 - 2*w - 2)*b23, b1 + (-w^23 - w^20 + w^14 + w^11 + w^8 - w^2 + w)*b2 + (-w^22 - w^19 + w^13 + w^10 + w^7 + w^2 - w + 1)*b3 + (-w^23 - w^21 - w^20 - w^18 + w^14 + w^12 + w^11 + w^9 + w^8 + w^6 + w^3 - w^2 + w - 1)*b4 + (w^23 - w^22 - w^19 - w^17 - w^14 + w^13 + w^10 + w^7 + w^5 + w^4 + 2*w^2 - w + 1)*b5 + (-w^23 + w^22 - w^21 - w^20 - w^18 - w^16 + w^14 - w^13 + w^12 + w^11 + w^9 + w^8 + w^6 + w^5 + w^4 + w^3 - w^2 + 2*w - 1)*b6 + (w^23 - w^22 + w^21 - w^19 - w^17 - w^15 - w^14 + w^13 - w^12 + w^10 + w^7 + w^6 + w^5 + w^4 + w^3 + 2*w^2 - w + 2)*b7 + (-2*w^23 + w^22 - w^21 - w^20 - w^18 - w^16 + w^14 - w^13 + w^12 + w^11 + w^9 + 2*w^8 + w^7 + w^6 + w^5 + w^4 + w^3 - w^2 + 2*w - 1)*b8 + (w^23 - 2*w^22 + w^21 - w^19 - w^17 - w^15 - w^14 + w^13 - w^12 + w^10 + w^8 + 2*w^7 + w^6 + w^5 + w^4 + w^3 + 2*w^2 - w + 2)*b9 + (-2*w^23 + w^22 - 2*w^21 - w^20 - w^18 - w^16 + w^14 - w^13 + w^12 + w^11 + 2*w^9 + 2*w^8 + w^7 + 2*w^6 + w^5 + w^4 + w^3 - w^2 + 2*w - 1)*b10 + (w^23 - 2*w^22 + w^21 - w^20 - w^19 - w^17 - w^15 - w^14 + w^13 - w^12 + 2*w^10 + w^8 + 2*w^7 + w^6 + 2*w^5 + w^4 + w^3 + 2*w^2 - w + 2)*b11 + (-2*w^23 + w^22 - 2*w^21 - w^20 - w^19 - w^18 - w^16 + w^14 - w^13 + w^12 + 2*w^11 + 2*w^9 + 2*w^8 + w^7 + 2*w^6 + w^5 + 2*w^4 + w^3 - w^2 + 2*w - 1)*b12 + (w^23 - 2*w^22 + w^21 - w^20 - w^19 - w^18 - w^17 - w^15 - w^14 + w^13 + 2*w^10 + w^8 + 2*w^7 + w^6 + 2*w^5 + w^4 + 2*w^3 + 2*w^2 - w + 2)*b13 + (-2*w^23 + w^22 - 2*w^21 - w^20 - w^19 - w^18 - w^17 - w^16 + w^14 + w^12 + 2*w^11 + 2*w^9 + 2*w^8 + w^7 + 2*w^6 + w^5 + 2*w^4 + w^3 + 2*w - 1)*b14 + (w^23 - 2*w^22 + w^21 - w^20 - w^19 - w^18 - w^17 - w^16 - w^15 + w^13 + 2*w^10 + w^8 + 2*w^7 + w^6 + 2*w^5 + w^4 + 2*w^3 + 2*w^2 + 2)*b15 + (-2*w^23 + w^22 - 2*w^21 - w^20 - w^19 - w^18 - w^17 - w^16 + w^14 + w^12 + 2*w^11 + 2*w^9 + 2*w^8 + w^7 + 2*w^6 + w^5 + 2*w^4 + w^3 + 2*w)*b16 + (-2*w^22 + w^21 - 2*w^20 - w^19 - w^18 - w^17 - w^15 + w^13 + w^11 + 2*w^10 + 2*w^8 + 2*w^7 + w^6 + 2*w^5 + w^4 + 2*w^3 + w^2 + 2)*b17 + (-2*w^23 - 2*w^21 - w^20 - 2*w^19 - w^18 - w^16 + w^14 + w^12 + 2*w^11 + w^10 + 2*w^9 + 2*w^8 + 2*w^7 + 2*w^6 + w^5 + 2*w^4 + w^3 + w)*b18 + (-2*w^22 - 2*w^20 - w^19 - w^18 - w^17 - w^15 + w^13 + w^11 + 2*w^10 + w^9 + 2*w^8 + 2*w^7 + 2*w^6 + 2*w^5 + w^4 + 2*w^3 + w^2 + 1)*b19 + (-w^23 - 2*w^21 - w^20 - w^19 - w^18 - w^17 - w^16 + w^12 + w^11 + w^10 + 2*w^9 + 2*w^8 + 2*w^7 + 2*w^6 + 2*w^5 + 2*w^4 + w^3 + w^2 + w)*b20 + (-w^22 - w^20 - w^19 - w^18 - w^17 - w^16 - w^15 + w^11 + w^10 + w^9 + 2*w^8 + 2*w^7 + 2*w^6 + 2*w^5 + 2*w^4 + 2*w^3 + w^2 + w + 1)*b21 + (-w^23 - w^20 - w^19 - w^18 - w^17 - w^16 - w^15 + w^11 + w^10 + w^9 + 2*w^8 + 2*w^7 + 2*w^6 + 2*w^5 + 2*w^4 + 2*w^3 + w^2 + w + 1)*b22 + (-w^23 - w^20 - w^19 - w^18 - w^17 - w^16 - w^15 + w^11 + w^10 + w^9 + 2*w^8 + 2*w^7 + 2*w^6 + 2*w^5 + 2*w^4 + 2*w^3 + w^2 + w + 1)*b23],\n",
       " [a + 2*b0 - 2*b2 + (2*w^23 + 2*w^20 - 2*w^14 - 2*w^11 - 2*w^8 + 2*w^2 - 2*w)*b3 + (2*w^22 + 2*w^19 - 2*w^13 - 2*w^10 - 2*w^7 - 2*w^2 + 2*w - 2)*b4 + (2*w^23 + 2*w^21 + 2*w^20 + 2*w^18 - 2*w^14 - 2*w^12 - 2*w^11 - 2*w^9 - 2*w^8 - 2*w^6 - 2*w^3 + 2*w^2 - 2*w + 2)*b5 + (-2*w^23 + 2*w^22 + 2*w^19 + 2*w^17 + 2*w^14 - 2*w^13 - 2*w^10 - 2*w^7 - 2*w^5 - 2*w^4 - 4*w^2 + 2*w - 2)*b6 + (2*w^23 - 2*w^22 + 2*w^21 + 2*w^20 + 2*w^18 + 2*w^16 - 2*w^14 + 2*w^13 - 2*w^12 - 2*w^11 - 2*w^9 - 2*w^8 - 2*w^6 - 2*w^5 - 2*w^4 - 2*w^3 + 2*w^2 - 4*w + 2)*b7 + (-2*w^23 + 2*w^22 - 2*w^21 + 2*w^19 + 2*w^17 + 2*w^15 + 2*w^14 - 2*w^13 + 2*w^12 - 2*w^10 - 2*w^7 - 2*w^6 - 2*w^5 - 2*w^4 - 2*w^3 - 4*w^2 + 2*w - 4)*b8 + (4*w^23 - 2*w^22 + 2*w^21 + 2*w^20 + 2*w^18 + 2*w^16 - 2*w^14 + 2*w^13 - 2*w^12 - 2*w^11 - 2*w^9 - 4*w^8 - 2*w^7 - 2*w^6 - 2*w^5 - 2*w^4 - 2*w^3 + 2*w^2 - 4*w + 2)*b9 + (-2*w^23 + 4*w^22 - 2*w^21 + 2*w^19 + 2*w^17 + 2*w^15 + 2*w^14 - 2*w^13 + 2*w^12 - 2*w^10 - 2*w^8 - 4*w^7 - 2*w^6 - 2*w^5 - 2*w^4 - 2*w^3 - 4*w^2 + 2*w - 4)*b10 + (4*w^23 - 2*w^22 + 4*w^21 + 2*w^20 + 2*w^18 + 2*w^16 - 2*w^14 + 2*w^13 - 2*w^12 - 2*w^11 - 4*w^9 - 4*w^8 - 2*w^7 - 4*w^6 - 2*w^5 - 2*w^4 - 2*w^3 + 2*w^2 - 4*w + 2)*b11 + (-2*w^23 + 4*w^22 - 2*w^21 + 2*w^20 + 2*w^19 + 2*w^17 + 2*w^15 + 2*w^14 - 2*w^13 + 2*w^12 - 4*w^10 - 2*w^8 - 4*w^7 - 2*w^6 - 4*w^5 - 2*w^4 - 2*w^3 - 4*w^2 + 2*w - 4)*b12 + (4*w^23 - 2*w^22 + 4*w^21 + 2*w^20 + 2*w^19 + 2*w^18 + 2*w^16 - 2*w^14 + 2*w^13 - 2*w^12 - 4*w^11 - 4*w^9 - 4*w^8 - 2*w^7 - 4*w^6 - 2*w^5 - 4*w^4 - 2*w^3 + 2*w^2 - 4*w + 2)*b13 + (-2*w^23 + 4*w^22 - 2*w^21 + 2*w^20 + 2*w^19 + 2*w^18 + 2*w^17 + 2*w^15 + 2*w^14 - 2*w^13 - 4*w^10 - 2*w^8 - 4*w^7 - 2*w^6 - 4*w^5 - 2*w^4 - 4*w^3 - 4*w^2 + 2*w - 4)*b14 + (4*w^23 - 2*w^22 + 4*w^21 + 2*w^20 + 2*w^19 + 2*w^18 + 2*w^17 + 2*w^16 - 2*w^14 - 2*w^12 - 4*w^11 - 4*w^9 - 4*w^8 - 2*w^7 - 4*w^6 - 2*w^5 - 4*w^4 - 2*w^3 - 4*w + 2)*b15 + (-2*w^23 + 4*w^22 - 2*w^21 + 2*w^20 + 2*w^19 + 2*w^18 + 2*w^17 + 2*w^16 + 2*w^15 - 2*w^13 - 4*w^10 - 2*w^8 - 4*w^7 - 2*w^6 - 4*w^5 - 2*w^4 - 4*w^3 - 4*w^2 - 4)*b16 + (4*w^23 - 2*w^22 + 4*w^21 + 2*w^20 + 2*w^19 + 2*w^18 + 2*w^17 + 2*w^16 - 2*w^14 - 2*w^12 - 4*w^11 - 4*w^9 - 4*w^8 - 2*w^7 - 4*w^6 - 2*w^5 - 4*w^4 - 2*w^3 - 4*w)*b17 + (4*w^22 - 2*w^21 + 4*w^20 + 2*w^19 + 2*w^18 + 2*w^17 + 2*w^15 - 2*w^13 - 2*w^11 - 4*w^10 - 4*w^8 - 4*w^7 - 2*w^6 - 4*w^5 - 2*w^4 - 4*w^3 - 2*w^2 - 4)*b18 + (4*w^23 + 4*w^21 + 2*w^20 + 4*w^19 + 2*w^18 + 2*w^16 - 2*w^14 - 2*w^12 - 4*w^11 - 2*w^10 - 4*w^9 - 4*w^8 - 4*w^7 - 4*w^6 - 2*w^5 - 4*w^4 - 2*w^3 - 2*w)*b19 + (4*w^22 + 4*w^20 + 2*w^19 + 2*w^18 + 2*w^17 + 2*w^15 - 2*w^13 - 2*w^11 - 4*w^10 - 2*w^9 - 4*w^8 - 4*w^7 - 4*w^6 - 4*w^5 - 2*w^4 - 4*w^3 - 2*w^2 - 2)*b20 + (2*w^23 + 4*w^21 + 2*w^20 + 2*w^19 + 2*w^18 + 2*w^17 + 2*w^16 - 2*w^12 - 2*w^11 - 2*w^10 - 4*w^9 - 4*w^8 - 4*w^7 - 4*w^6 - 4*w^5 - 4*w^4 - 2*w^3 - 2*w^2 - 2*w)*b21 + (2*w^22 + 2*w^20 + 2*w^19 + 2*w^18 + 2*w^17 + 2*w^16 + 2*w^15 - 2*w^11 - 2*w^10 - 2*w^9 - 4*w^8 - 4*w^7 - 4*w^6 - 4*w^5 - 4*w^4 - 4*w^3 - 2*w^2 - 2*w - 2)*b22 + (2*w^23 + 2*w^20 + 2*w^19 + 2*w^18 + 2*w^17 + 2*w^16 + 2*w^15 - 2*w^11 - 2*w^10 - 2*w^9 - 4*w^8 - 4*w^7 - 4*w^6 - 4*w^5 - 4*w^4 - 4*w^3 - 2*w^2 - 2*w - 2)*b23, b1 + (-w^23 - w^20 + w^14 + w^11 + w^8 - w^2 + w)*b2 + (-w^22 - w^19 + w^13 + w^10 + w^7 + w^2 - w + 1)*b3 + (-w^23 - w^21 - w^20 - w^18 + w^14 + w^12 + w^11 + w^9 + w^8 + w^6 + w^3 - w^2 + w - 1)*b4 + (w^23 - w^22 - w^19 - w^17 - w^14 + w^13 + w^10 + w^7 + w^5 + w^4 + 2*w^2 - w + 1)*b5 + (-w^23 + w^22 - w^21 - w^20 - w^18 - w^16 + w^14 - w^13 + w^12 + w^11 + w^9 + w^8 + w^6 + w^5 + w^4 + w^3 - w^2 + 2*w - 1)*b6 + (w^23 - w^22 + w^21 - w^19 - w^17 - w^15 - w^14 + w^13 - w^12 + w^10 + w^7 + w^6 + w^5 + w^4 + w^3 + 2*w^2 - w + 2)*b7 + (-2*w^23 + w^22 - w^21 - w^20 - w^18 - w^16 + w^14 - w^13 + w^12 + w^11 + w^9 + 2*w^8 + w^7 + w^6 + w^5 + w^4 + w^3 - w^2 + 2*w - 1)*b8 + (w^23 - 2*w^22 + w^21 - w^19 - w^17 - w^15 - w^14 + w^13 - w^12 + w^10 + w^8 + 2*w^7 + w^6 + w^5 + w^4 + w^3 + 2*w^2 - w + 2)*b9 + (-2*w^23 + w^22 - 2*w^21 - w^20 - w^18 - w^16 + w^14 - w^13 + w^12 + w^11 + 2*w^9 + 2*w^8 + w^7 + 2*w^6 + w^5 + w^4 + w^3 - w^2 + 2*w - 1)*b10 + (w^23 - 2*w^22 + w^21 - w^20 - w^19 - w^17 - w^15 - w^14 + w^13 - w^12 + 2*w^10 + w^8 + 2*w^7 + w^6 + 2*w^5 + w^4 + w^3 + 2*w^2 - w + 2)*b11 + (-2*w^23 + w^22 - 2*w^21 - w^20 - w^19 - w^18 - w^16 + w^14 - w^13 + w^12 + 2*w^11 + 2*w^9 + 2*w^8 + w^7 + 2*w^6 + w^5 + 2*w^4 + w^3 - w^2 + 2*w - 1)*b12 + (w^23 - 2*w^22 + w^21 - w^20 - w^19 - w^18 - w^17 - w^15 - w^14 + w^13 + 2*w^10 + w^8 + 2*w^7 + w^6 + 2*w^5 + w^4 + 2*w^3 + 2*w^2 - w + 2)*b13 + (-2*w^23 + w^22 - 2*w^21 - w^20 - w^19 - w^18 - w^17 - w^16 + w^14 + w^12 + 2*w^11 + 2*w^9 + 2*w^8 + w^7 + 2*w^6 + w^5 + 2*w^4 + w^3 + 2*w - 1)*b14 + (w^23 - 2*w^22 + w^21 - w^20 - w^19 - w^18 - w^17 - w^16 - w^15 + w^13 + 2*w^10 + w^8 + 2*w^7 + w^6 + 2*w^5 + w^4 + 2*w^3 + 2*w^2 + 2)*b15 + (-2*w^23 + w^22 - 2*w^21 - w^20 - w^19 - w^18 - w^17 - w^16 + w^14 + w^12 + 2*w^11 + 2*w^9 + 2*w^8 + w^7 + 2*w^6 + w^5 + 2*w^4 + w^3 + 2*w)*b16 + (-2*w^22 + w^21 - 2*w^20 - w^19 - w^18 - w^17 - w^15 + w^13 + w^11 + 2*w^10 + 2*w^8 + 2*w^7 + w^6 + 2*w^5 + w^4 + 2*w^3 + w^2 + 2)*b17 + (-2*w^23 - 2*w^21 - w^20 - 2*w^19 - w^18 - w^16 + w^14 + w^12 + 2*w^11 + w^10 + 2*w^9 + 2*w^8 + 2*w^7 + 2*w^6 + w^5 + 2*w^4 + w^3 + w)*b18 + (-2*w^22 - 2*w^20 - w^19 - w^18 - w^17 - w^15 + w^13 + w^11 + 2*w^10 + w^9 + 2*w^8 + 2*w^7 + 2*w^6 + 2*w^5 + w^4 + 2*w^3 + w^2 + 1)*b19 + (-w^23 - 2*w^21 - w^20 - w^19 - w^18 - w^17 - w^16 + w^12 + w^11 + w^10 + 2*w^9 + 2*w^8 + 2*w^7 + 2*w^6 + 2*w^5 + 2*w^4 + w^3 + w^2 + w)*b20 + (-w^22 - w^20 - w^19 - w^18 - w^17 - w^16 - w^15 + w^11 + w^10 + w^9 + 2*w^8 + 2*w^7 + 2*w^6 + 2*w^5 + 2*w^4 + 2*w^3 + w^2 + w + 1)*b21 + (-w^23 - w^20 - w^19 - w^18 - w^17 - w^16 - w^15 + w^11 + w^10 + w^9 + 2*w^8 + 2*w^7 + 2*w^6 + 2*w^5 + 2*w^4 + 2*w^3 + w^2 + w + 1)*b22 + (-w^23 - w^20 - w^19 - w^18 - w^17 - w^16 - w^15 + w^11 + w^10 + w^9 + 2*w^8 + 2*w^7 + 2*w^6 + 2*w^5 + 2*w^4 + 2*w^3 + w^2 + w + 1)*b23]]"
      ]
     },
     "execution_count": 33,
     "metadata": {},
     "output_type": "execute_result"
    }
   ],
   "source": [
    "Bo2=list();\n",
    "for i in range(len(ob2)):\n",
    "    RelHerm=(conjugate(transpose(R1ob2[i]))*H*(R1ob2[i])-H)\n",
    "    B=[RelHerm[0,0],(RelHerm[0,1]),(RelHerm[0,2]),RelHerm[1,0],(RelHerm[1,1]),(RelHerm[1,2]),RelHerm[2,0],RelHerm[2,1],(RelHerm[2,2])];\n",
    "    Bo2.append(B)\n",
    "Go2=list()\n",
    "for i in range(len(ob2)):\n",
    "    J=Pol.ideal(Bo2[i])\n",
    "    Grob=J.groebner_basis()\n",
    "    Go2.append(Grob)\n",
    "Go2"
   ]
  },
  {
   "cell_type": "markdown",
   "metadata": {},
   "source": [
    "Notice that each element of the Groebner basis are linear polynomials. \n",
    "\n",
    "We solve the overdetermined system."
   ]
  },
  {
   "cell_type": "code",
   "execution_count": 34,
   "metadata": {},
   "outputs": [],
   "source": [
    "Pola.<a>=PolynomialRing(K,'a')\n",
    "Polb.<b0>=PolynomialRing(K,'b0')\n",
    "aroots=list();\n",
    "broots=list();\n",
    "for i in range(len(ob1)):\n",
    "    aux=[Go1[i][0].substitute(b1=1,b2=1,b3=1,b4=1,b5=1,b6=1,b7=1,b8=1,b9=1,b10=1,b11=1,b12=1,b13=1,b14=1,b15=1,b16=1,b17=1,b18=1,b19=1,b20=1,b21=1,b22=1,b23=1),Go1[i][1].substitute(b1=1,b2=1,b3=1,b4=1,b5=1,b6=1,b7=1,b8=1,b9=1,b10=1,b11=1,b12=1,b13=1,b14=1,b15=1,b16=1,b17=1,b18=1,b19=1,b20=1,b21=1,b22=1,b23=1)]\n",
    "    aux1=(Pola(aux[0]).roots(ring=K)[0][0])\n",
    "    aux2=(Polb(aux[1]).roots(ring=K)[0][0])\n",
    "    aroots.append(aux1)\n",
    "    broots.append(aux2)"
   ]
  },
  {
   "cell_type": "code",
   "execution_count": 38,
   "metadata": {},
   "outputs": [
    {
     "data": {
      "text/plain": [
       "[a + 2*b0 - 2*b2 + (2*w^23 + 2*w^20 - 2*w^14 - 2*w^11 - 2*w^8 + 2*w^2 - 2*w)*b3 + (2*w^22 + 2*w^19 - 2*w^13 - 2*w^10 - 2*w^7 - 2*w^2 + 2*w - 2)*b4 + (2*w^23 + 2*w^21 + 2*w^20 + 2*w^18 - 2*w^14 - 2*w^12 - 2*w^11 - 2*w^9 - 2*w^8 - 2*w^6 - 2*w^3 + 2*w^2 - 2*w + 2)*b5 + (-2*w^23 + 2*w^22 + 2*w^19 + 2*w^17 + 2*w^14 - 2*w^13 - 2*w^10 - 2*w^7 - 2*w^5 - 2*w^4 - 4*w^2 + 2*w - 2)*b6 + (2*w^23 - 2*w^22 + 2*w^21 + 2*w^20 + 2*w^18 + 2*w^16 - 2*w^14 + 2*w^13 - 2*w^12 - 2*w^11 - 2*w^9 - 2*w^8 - 2*w^6 - 2*w^5 - 2*w^4 - 2*w^3 + 2*w^2 - 4*w + 2)*b7 + (-2*w^23 + 2*w^22 - 2*w^21 + 2*w^19 + 2*w^17 + 2*w^15 + 2*w^14 - 2*w^13 + 2*w^12 - 2*w^10 - 2*w^7 - 2*w^6 - 2*w^5 - 2*w^4 - 2*w^3 - 4*w^2 + 2*w - 4)*b8 + (4*w^23 - 2*w^22 + 2*w^21 + 2*w^20 + 2*w^18 + 2*w^16 - 2*w^14 + 2*w^13 - 2*w^12 - 2*w^11 - 2*w^9 - 4*w^8 - 2*w^7 - 2*w^6 - 2*w^5 - 2*w^4 - 2*w^3 + 2*w^2 - 4*w + 2)*b9 + (-2*w^23 + 4*w^22 - 2*w^21 + 2*w^19 + 2*w^17 + 2*w^15 + 2*w^14 - 2*w^13 + 2*w^12 - 2*w^10 - 2*w^8 - 4*w^7 - 2*w^6 - 2*w^5 - 2*w^4 - 2*w^3 - 4*w^2 + 2*w - 4)*b10 + (4*w^23 - 2*w^22 + 4*w^21 + 2*w^20 + 2*w^18 + 2*w^16 - 2*w^14 + 2*w^13 - 2*w^12 - 2*w^11 - 4*w^9 - 4*w^8 - 2*w^7 - 4*w^6 - 2*w^5 - 2*w^4 - 2*w^3 + 2*w^2 - 4*w + 2)*b11 + (-2*w^23 + 4*w^22 - 2*w^21 + 2*w^20 + 2*w^19 + 2*w^17 + 2*w^15 + 2*w^14 - 2*w^13 + 2*w^12 - 4*w^10 - 2*w^8 - 4*w^7 - 2*w^6 - 4*w^5 - 2*w^4 - 2*w^3 - 4*w^2 + 2*w - 4)*b12 + (4*w^23 - 2*w^22 + 4*w^21 + 2*w^20 + 2*w^19 + 2*w^18 + 2*w^16 - 2*w^14 + 2*w^13 - 2*w^12 - 4*w^11 - 4*w^9 - 4*w^8 - 2*w^7 - 4*w^6 - 2*w^5 - 4*w^4 - 2*w^3 + 2*w^2 - 4*w + 2)*b13 + (-2*w^23 + 4*w^22 - 2*w^21 + 2*w^20 + 2*w^19 + 2*w^18 + 2*w^17 + 2*w^15 + 2*w^14 - 2*w^13 - 4*w^10 - 2*w^8 - 4*w^7 - 2*w^6 - 4*w^5 - 2*w^4 - 4*w^3 - 4*w^2 + 2*w - 4)*b14 + (4*w^23 - 2*w^22 + 4*w^21 + 2*w^20 + 2*w^19 + 2*w^18 + 2*w^17 + 2*w^16 - 2*w^14 - 2*w^12 - 4*w^11 - 4*w^9 - 4*w^8 - 2*w^7 - 4*w^6 - 2*w^5 - 4*w^4 - 2*w^3 - 4*w + 2)*b15 + (-2*w^23 + 4*w^22 - 2*w^21 + 2*w^20 + 2*w^19 + 2*w^18 + 2*w^17 + 2*w^16 + 2*w^15 - 2*w^13 - 4*w^10 - 2*w^8 - 4*w^7 - 2*w^6 - 4*w^5 - 2*w^4 - 4*w^3 - 4*w^2 - 4)*b16 + (4*w^23 - 2*w^22 + 4*w^21 + 2*w^20 + 2*w^19 + 2*w^18 + 2*w^17 + 2*w^16 - 2*w^14 - 2*w^12 - 4*w^11 - 4*w^9 - 4*w^8 - 2*w^7 - 4*w^6 - 2*w^5 - 4*w^4 - 2*w^3 - 4*w)*b17 + (4*w^22 - 2*w^21 + 4*w^20 + 2*w^19 + 2*w^18 + 2*w^17 + 2*w^15 - 2*w^13 - 2*w^11 - 4*w^10 - 4*w^8 - 4*w^7 - 2*w^6 - 4*w^5 - 2*w^4 - 4*w^3 - 2*w^2 - 4)*b18 + (4*w^23 + 4*w^21 + 2*w^20 + 4*w^19 + 2*w^18 + 2*w^16 - 2*w^14 - 2*w^12 - 4*w^11 - 2*w^10 - 4*w^9 - 4*w^8 - 4*w^7 - 4*w^6 - 2*w^5 - 4*w^4 - 2*w^3 - 2*w)*b19 + (4*w^22 + 4*w^20 + 2*w^19 + 2*w^18 + 2*w^17 + 2*w^15 - 2*w^13 - 2*w^11 - 4*w^10 - 2*w^9 - 4*w^8 - 4*w^7 - 4*w^6 - 4*w^5 - 2*w^4 - 4*w^3 - 2*w^2 - 2)*b20 + (2*w^23 + 4*w^21 + 2*w^20 + 2*w^19 + 2*w^18 + 2*w^17 + 2*w^16 - 2*w^12 - 2*w^11 - 2*w^10 - 4*w^9 - 4*w^8 - 4*w^7 - 4*w^6 - 4*w^5 - 4*w^4 - 2*w^3 - 2*w^2 - 2*w)*b21 + (2*w^22 + 2*w^20 + 2*w^19 + 2*w^18 + 2*w^17 + 2*w^16 + 2*w^15 - 2*w^11 - 2*w^10 - 2*w^9 - 4*w^8 - 4*w^7 - 4*w^6 - 4*w^5 - 4*w^4 - 4*w^3 - 2*w^2 - 2*w - 2)*b22 + (2*w^23 + 2*w^20 + 2*w^19 + 2*w^18 + 2*w^17 + 2*w^16 + 2*w^15 - 2*w^11 - 2*w^10 - 2*w^9 - 4*w^8 - 4*w^7 - 4*w^6 - 4*w^5 - 4*w^4 - 4*w^3 - 2*w^2 - 2*w - 2)*b23, b1 + (-w^23 - w^20 + w^14 + w^11 + w^8 - w^2 + w)*b2 + (-w^22 - w^19 + w^13 + w^10 + w^7 + w^2 - w + 1)*b3 + (-w^23 - w^21 - w^20 - w^18 + w^14 + w^12 + w^11 + w^9 + w^8 + w^6 + w^3 - w^2 + w - 1)*b4 + (w^23 - w^22 - w^19 - w^17 - w^14 + w^13 + w^10 + w^7 + w^5 + w^4 + 2*w^2 - w + 1)*b5 + (-w^23 + w^22 - w^21 - w^20 - w^18 - w^16 + w^14 - w^13 + w^12 + w^11 + w^9 + w^8 + w^6 + w^5 + w^4 + w^3 - w^2 + 2*w - 1)*b6 + (w^23 - w^22 + w^21 - w^19 - w^17 - w^15 - w^14 + w^13 - w^12 + w^10 + w^7 + w^6 + w^5 + w^4 + w^3 + 2*w^2 - w + 2)*b7 + (-2*w^23 + w^22 - w^21 - w^20 - w^18 - w^16 + w^14 - w^13 + w^12 + w^11 + w^9 + 2*w^8 + w^7 + w^6 + w^5 + w^4 + w^3 - w^2 + 2*w - 1)*b8 + (w^23 - 2*w^22 + w^21 - w^19 - w^17 - w^15 - w^14 + w^13 - w^12 + w^10 + w^8 + 2*w^7 + w^6 + w^5 + w^4 + w^3 + 2*w^2 - w + 2)*b9 + (-2*w^23 + w^22 - 2*w^21 - w^20 - w^18 - w^16 + w^14 - w^13 + w^12 + w^11 + 2*w^9 + 2*w^8 + w^7 + 2*w^6 + w^5 + w^4 + w^3 - w^2 + 2*w - 1)*b10 + (w^23 - 2*w^22 + w^21 - w^20 - w^19 - w^17 - w^15 - w^14 + w^13 - w^12 + 2*w^10 + w^8 + 2*w^7 + w^6 + 2*w^5 + w^4 + w^3 + 2*w^2 - w + 2)*b11 + (-2*w^23 + w^22 - 2*w^21 - w^20 - w^19 - w^18 - w^16 + w^14 - w^13 + w^12 + 2*w^11 + 2*w^9 + 2*w^8 + w^7 + 2*w^6 + w^5 + 2*w^4 + w^3 - w^2 + 2*w - 1)*b12 + (w^23 - 2*w^22 + w^21 - w^20 - w^19 - w^18 - w^17 - w^15 - w^14 + w^13 + 2*w^10 + w^8 + 2*w^7 + w^6 + 2*w^5 + w^4 + 2*w^3 + 2*w^2 - w + 2)*b13 + (-2*w^23 + w^22 - 2*w^21 - w^20 - w^19 - w^18 - w^17 - w^16 + w^14 + w^12 + 2*w^11 + 2*w^9 + 2*w^8 + w^7 + 2*w^6 + w^5 + 2*w^4 + w^3 + 2*w - 1)*b14 + (w^23 - 2*w^22 + w^21 - w^20 - w^19 - w^18 - w^17 - w^16 - w^15 + w^13 + 2*w^10 + w^8 + 2*w^7 + w^6 + 2*w^5 + w^4 + 2*w^3 + 2*w^2 + 2)*b15 + (-2*w^23 + w^22 - 2*w^21 - w^20 - w^19 - w^18 - w^17 - w^16 + w^14 + w^12 + 2*w^11 + 2*w^9 + 2*w^8 + w^7 + 2*w^6 + w^5 + 2*w^4 + w^3 + 2*w)*b16 + (-2*w^22 + w^21 - 2*w^20 - w^19 - w^18 - w^17 - w^15 + w^13 + w^11 + 2*w^10 + 2*w^8 + 2*w^7 + w^6 + 2*w^5 + w^4 + 2*w^3 + w^2 + 2)*b17 + (-2*w^23 - 2*w^21 - w^20 - 2*w^19 - w^18 - w^16 + w^14 + w^12 + 2*w^11 + w^10 + 2*w^9 + 2*w^8 + 2*w^7 + 2*w^6 + w^5 + 2*w^4 + w^3 + w)*b18 + (-2*w^22 - 2*w^20 - w^19 - w^18 - w^17 - w^15 + w^13 + w^11 + 2*w^10 + w^9 + 2*w^8 + 2*w^7 + 2*w^6 + 2*w^5 + w^4 + 2*w^3 + w^2 + 1)*b19 + (-w^23 - 2*w^21 - w^20 - w^19 - w^18 - w^17 - w^16 + w^12 + w^11 + w^10 + 2*w^9 + 2*w^8 + 2*w^7 + 2*w^6 + 2*w^5 + 2*w^4 + w^3 + w^2 + w)*b20 + (-w^22 - w^20 - w^19 - w^18 - w^17 - w^16 - w^15 + w^11 + w^10 + w^9 + 2*w^8 + 2*w^7 + 2*w^6 + 2*w^5 + 2*w^4 + 2*w^3 + w^2 + w + 1)*b21 + (-w^23 - w^20 - w^19 - w^18 - w^17 - w^16 - w^15 + w^11 + w^10 + w^9 + 2*w^8 + 2*w^7 + 2*w^6 + 2*w^5 + 2*w^4 + 2*w^3 + w^2 + w + 1)*b22 + (-w^23 - w^20 - w^19 - w^18 - w^17 - w^16 - w^15 + w^11 + w^10 + w^9 + 2*w^8 + 2*w^7 + 2*w^6 + 2*w^5 + 2*w^4 + 2*w^3 + w^2 + w + 1)*b23]"
      ]
     },
     "execution_count": 38,
     "metadata": {},
     "output_type": "execute_result"
    }
   ],
   "source": [
    "Go2[0]"
   ]
  },
  {
   "cell_type": "code",
   "execution_count": 42,
   "metadata": {},
   "outputs": [
    {
     "name": "stdout",
     "output_type": "stream",
     "text": [
      "0\n",
      "12*w^23 + 10*w^22 + 9*w^21 + 20*w^20 + 18*w^19 + 16*w^18 + 14*w^17 + 12*w^16 + 10*w^15 - 4*w^14 - 5*w^13 - 6*w^12 - 19*w^11 - 19*w^10 - 19*w^9 - 31*w^8 - 30*w^7 - 29*w^6 - 28*w^5 - 27*w^4 - 26*w^3 - 13*w^2 - 13*w - 12\n",
      "1\n",
      "12*w^23 + 10*w^22 + 9*w^21 + 20*w^20 + 18*w^19 + 16*w^18 + 14*w^17 + 12*w^16 + 10*w^15 - 4*w^14 - 5*w^13 - 6*w^12 - 19*w^11 - 19*w^10 - 19*w^9 - 31*w^8 - 30*w^7 - 29*w^6 - 28*w^5 - 27*w^4 - 26*w^3 - 13*w^2 - 13*w - 12\n"
     ]
    }
   ],
   "source": [
    "Polb1.<b1>=PolynomialRing(K,'b1')\n",
    "aroots2=list();\n",
    "broots2=list();\n",
    "for i in range(len(ob2)):\n",
    "    aux=[Go2[i][0].substitute(b0=1,b2=1,b3=1,b4=1,b5=1,b6=1,b7=1,b8=1,b9=1,b10=1,b11=1,b12=1,b13=1,b14=1,b15=1,b16=1,b17=1,b18=1,b19=1,b20=1,b21=1,b22=1,b23=1),Go2[i][1].substitute(b0=1,b2=1,b3=1,b4=1,b5=1,b6=1,b7=1,b8=1,b9=1,b10=1,b11=1,b12=1,b13=1,b14=1,b15=1,b16=1,b17=1,b18=1,b19=1,b20=1,b21=1,b22=1,b23=1)]\n",
    "    aux1=(Pola(aux[0]).roots(ring=K)[0][0])\n",
    "    aux2=(Polb1(aux[1]).roots(ring=K)[0][0])\n",
    "    print(aux2)\n",
    "    aroots2.append(aux1)\n",
    "    broots2.append(aux2)"
   ]
  },
  {
   "cell_type": "code",
   "execution_count": 43,
   "metadata": {},
   "outputs": [
    {
     "data": {
      "text/plain": [
       "Ring morphism:\n",
       "  From: Cyclotomic Field of order 90 and degree 24\n",
       "  To:   Algebraic Field\n",
       "  Defn: w |--> 0.8829475928589269? + 0.4694715627858908?*I"
      ]
     },
     "execution_count": 43,
     "metadata": {},
     "output_type": "execute_result"
    }
   ],
   "source": [
    "KEd=K.embeddings(QQbar)\n",
    "KEd[1]"
   ]
  },
  {
   "cell_type": "code",
   "execution_count": 44,
   "metadata": {},
   "outputs": [
    {
     "name": "stdout",
     "output_type": "stream",
     "text": [
      "No  0 : [2.876148902803200? + 0.?e-33*I, -0.7095244595554758? + 0.?e-32*I, -5.371206827333061? + 0.?e-33*I]\n",
      "No  1 : [7.018203086446344? + 0.?e-33*I, 3.432529724087669? + 0.?e-33*I, 1.023491372611851? + 0.?e-33*I]\n",
      "No  2 : [2.412090768504374? + 0.?e-31*I, 1.141243109157110? + 0.?e-31*I, -2.444430253201566? + 0.?e-31*I]\n",
      "No  3 : [31.68738054112977? + 0.?e-32*I, 3.874491598709905? + 0.?e-31*I, 0.2888182363512289? + 0.?e-31*I]\n",
      "No  4 : [-0.1356745980802217? + 0.?e-34*I, -3.721347960438898? + 0.?e-33*I, -7.280289459020170? + 0.?e-33*I]\n",
      "No  5 : [65.1400665429861? + 0.?e-34*I, -4.017392011960310? + 0.?e-34*I, -7.603065374318985? + 0.?e-34*I]\n",
      "No  8 : [5.779739935531242? + 0.?e-32*I, 3.085149240312751? + 0.?e-32*I, 2.194066573172567? + 0.?e-32*I]\n",
      "No  9 : [-0.5521833926146929? + 0.?e-33*I, -4.137856754973368? + 0.?e-32*I, -6.283143042372136? + 0.?e-33*I]\n",
      "No  10 : [-3.262663146037588? + 0.?e-34*I, -6.848336508396263? + 0.?e-34*I, -197.8525324431022? + 0.?e-34*I]\n",
      "No  11 : [58.26415963674415? + 0.?e-33*I, 5.529463544159478? + 0.?e-33*I, 1.943790181800802? + 0.?e-33*I]\n",
      "No  12 : [3.838892525324450? + 0.?e-33*I, 2.126030130288020? + 0.?e-32*I, 0.2532191629657741? + 0.?e-33*I]\n",
      "No  13 : [-0.5762293792868622? + 0.?e-30*I, -1.098101623457535? + 0.?e-30*I, -4.161902741645538? + 0.?e-30*I]\n",
      "No  14 : [-1.023491372611851? + 0.?e-33*I, -3.432529724087669? + 0.?e-33*I, -7.018203086446344? + 0.?e-33*I]\n",
      "No  15 : [-0.2888182363512289? + 0.?e-31*I, -3.874491598709905? + 0.?e-31*I, -31.68738054112977? + 0.?e-32*I]\n",
      "No  16 : [7.280289459020170? + 0.?e-33*I, 3.721347960438898? + 0.?e-33*I, 0.1356745980802217? + 0.?e-34*I]\n",
      "No  17 : [7.603065374318985? + 0.?e-34*I, 4.017392011960310? + 0.?e-34*I, -65.1400665429861? + 0.?e-34*I]\n",
      "No  18 : [5.371206827333061? + 0.?e-33*I, 0.7095244595554758? + 0.?e-32*I, -2.876148902803200? + 0.?e-33*I]\n",
      "No  19 : [2.444430253201566? + 0.?e-31*I, -1.141243109157110? + 0.?e-31*I, -2.412090768504374? + 0.?e-31*I]\n"
     ]
    }
   ],
   "source": [
    "Ho1=list();\n",
    "evo1=list()\n",
    "for i in range(len(ob1)):\n",
    "    aux=H.substitute(a=aroots[i],b0=broots[i],b1=1,b2=1,b3=1,b4=1,b5=1,b6=1,b7=1,b8=1,b9=1,b10=1,b11=1,b12=1,b13=1,b14=1,b15=1,b16=1,b17=1,b18=1,b19=1,b20=1,b21=1,b22=1,b23=1)\n",
    "    Ho1.append(aux)\n",
    "aux=matrix(QQbar,3,3,[[0,0,0],[0,0,0],[0,0,0]])\n",
    "for i in range(len(ob1)):\n",
    "    for j in range(3):\n",
    "        for k in range(3):\n",
    "            aux[j,k]=KEd[1](Ho1[i][j,k])\n",
    "    evo1.append(aux.eigenvalues())\n",
    "for i in range(len(ob1)):\n",
    "    print('No ',ob1[i],':',evo1[i])"
   ]
  },
  {
   "cell_type": "code",
   "execution_count": 45,
   "metadata": {},
   "outputs": [
    {
     "name": "stdout",
     "output_type": "stream",
     "text": [
      "No  6 : [5.296034874689935? + 0.?e-33*I, -3.943244729472540? + 0.?e-32*I, -4.557372529302732? + 0.?e-32*I]\n",
      "No  7 : [8.915403417538415? + 0.?e-32*I, 1.661540734282142? + 0.?e-31*I, 0.897280031325306? + 0.?e-31*I]\n"
     ]
    }
   ],
   "source": [
    "Ho2=list();\n",
    "evo2=list()\n",
    "for i in range(len(ob2)):\n",
    "    aux=H.substitute(a=aroots[i],b1=broots[i],b0=1,b2=1,b3=1,b4=1,b5=1,b6=1,b7=1,b8=1,b9=1,b10=1,b11=1,b12=1,b13=1,b14=1,b15=1,b16=1,b17=1,b18=1,b19=1,b20=1,b21=1,b22=1,b23=1)\n",
    "    Ho2.append(aux)\n",
    "aux=matrix(QQbar,3,3,[[0,0,0],[0,0,0],[0,0,0]])\n",
    "for i in range(len(ob2)):\n",
    "    for j in range(3):\n",
    "        for k in range(3):\n",
    "            aux[j,k]=KEd[1](Ho2[i][j,k])\n",
    "    evo2.append(aux.eigenvalues())\n",
    "for i in range(len(ob2)):\n",
    "    print('No ',ob2[i],':',evo2[i])"
   ]
  },
  {
   "cell_type": "markdown",
   "metadata": {},
   "source": [
    "## 2. The degenerate configuration.\n",
    "\n",
    "The degenerate configuration is when one of the fixed point of $J$ belong to the fixed line of $R_1$. We can reduce this case by assuming tha the fixed  point of $J$ in question is $e_1.$\n",
    "\n",
    "On this configuration, $J$ correspond to a diagonal element of order three and $R_1$ preserve the same form as the non-degenerate configuration."
   ]
  },
  {
   "cell_type": "code",
   "execution_count": 30,
   "metadata": {},
   "outputs": [],
   "source": [
    "RR.<r1,r2,x,y>=PolynomialRing(K,['r1','r2','x','y'],order='lex')\n",
    "Jd=matrix(RR,3,3,[[1,0,0],[0,y,0],[0,0,y^2]])\n",
    "R1d=matrix(RR,3,3,[[1,-r1,r1],[0,1-r2,r2],[0,1-r2-x,r2+x]]);\n",
    "R2d=Jd*R1d*(Jd*Jd);\n",
    "Pd=(R1d*R2d);\n",
    "\n",
    "rel5=((R1d*Jd)**(6));\n",
    "R14d=(R1d^4)\n",
    "rel6=((R1d*Jd*R1d*Jd*Jd*R1d*Jd*R14d*Jd*Jd*R14d*Jd*R14d*Jd*Jd));\n",
    "\n",
    "eq0d=[(rel5[0,1]), (rel5[0,2]), (rel5[1,0]), (rel5[1,2]), (rel5[2,0]), (rel5[2,1]), (rel6[0,1]), (rel6[0,2]), (rel6[1,0]),(rel6[1,2]),(rel6[2,0]),(rel6[2,1])];\n",
    "eq1d=[(rel5[0,0]-rel5[1,1]),(rel5[1,1]-rel5[2,2]),(rel6[0,0]-rel6[1,1]),(rel6[1,1]-rel6[2,2])];\n",
    "\n",
    "\n",
    "Bd=list();\n",
    "Bd.append(1+y+y^2)\n",
    "for i in range(len(eq0d)):\n",
    "    Bd.append(eq0d[i]);\n",
    "for i in range(len(eq1)):\n",
    "    Bd.append(eq1d[i]);"
   ]
  },
  {
   "cell_type": "code",
   "execution_count": 31,
   "metadata": {},
   "outputs": [
    {
     "name": "stdout",
     "output_type": "stream",
     "text": [
      "[r1, r2 + 2/3*x^2*y + 1/3*x^2 - 1/3*x*y + 1/3*x - 1/3*y - 2/3, x^3 - 1, y^2 + y + 1]\n"
     ]
    },
    {
     "data": {
      "text/plain": [
       "4"
      ]
     },
     "execution_count": 31,
     "metadata": {},
     "output_type": "execute_result"
    }
   ],
   "source": [
    "# We define the Ideal in the polynomial ring and the \n",
    "# associated Groebner Basis\n",
    "Jdegenerate=RR.ideal(Bd);\n",
    "Gdegenerate=Jdegenerate.groebner_basis()\n",
    "print(Gdegenerate)\n",
    "len(Gdegenerate)"
   ]
  },
  {
   "cell_type": "code",
   "execution_count": 32,
   "metadata": {},
   "outputs": [
    {
     "name": "stdout",
     "output_type": "stream",
     "text": [
      "r1 in [0, v^15 + 1, -v^15 + 2]\n"
     ]
    }
   ],
   "source": [
    "r2rootsdegenerate=list();\n",
    "r2idealdegenerate=Jdegenerate.elimination_ideal([x,y,r1]);\n",
    "r2poldegenerate=r2idealdegenerate.gens();\n",
    "aux=(SR(r2poldegenerate[0]).roots(ring=K))\n",
    "for i in range(len(aux)):\n",
    "    r2rootsdegenerate.append(aux[i][0])\n",
    "\n",
    "print('r1 in', r2rootsdegenerate)"
   ]
  },
  {
   "cell_type": "code",
   "execution_count": 35,
   "metadata": {},
   "outputs": [],
   "source": [
    "r1xGroebner=list();\n",
    "r1xB=list();\n",
    "RR1.<x>=PolynomialRing(K,['x'],order='lex');\n",
    "for j in range(len(r2rootsdegenerate)):\n",
    "    Bd1=list();\n",
    "    for i in range(len(Gdegenerate)):\n",
    "        aux=((Gdegenerate[i])).substitute(r1=0,r2=r2rootsdegenerate[j], y=K(1/2*I*sqrt(3) - 1/2))\n",
    "        if aux==0:\n",
    "            continue\n",
    "        else:\n",
    "            Bd1.append(aux)\n",
    "    r1xB.append(Bd1)\n",
    "    Jd1=RR1.ideal(Bd1)\n",
    "    Gd1=Jd1.groebner_basis()\n",
    "    r1xGroebner.append(Gd1)"
   ]
  },
  {
   "cell_type": "code",
   "execution_count": 37,
   "metadata": {},
   "outputs": [
    {
     "data": {
      "text/plain": [
       "[(1, 1), (v^15 - 1, 1)]"
      ]
     },
     "execution_count": 37,
     "metadata": {},
     "output_type": "execute_result"
    }
   ],
   "source": [
    "r1xGroebner[0][0].roots(ring=K)"
   ]
  },
  {
   "cell_type": "code",
   "execution_count": 39,
   "metadata": {},
   "outputs": [
    {
     "name": "stdout",
     "output_type": "stream",
     "text": [
      "(r1,r2) in [[0, 1], [0, v^15 - 1], [v^15 + 1, -v^15]]\n"
     ]
    }
   ],
   "source": [
    "PairsValuesDegenerate=list();\n",
    "for i in range(len(r1xGroebner)):\n",
    "    if (r1xGroebner[i][0])==1:\n",
    "        continue\n",
    "    else:\n",
    "        aux=SR(r1xGroebner[i][0]).roots(ring=K);\n",
    "        for j in range(len(aux)):\n",
    "            PairsValuesDegenerate.append([r2rootsdegenerate[i] , aux[j][0]])\n",
    "print(('(r1,r2) in'), PairsValuesDegenerate)"
   ]
  },
  {
   "cell_type": "code",
   "execution_count": 40,
   "metadata": {},
   "outputs": [
    {
     "data": {
      "text/plain": [
       "1/2*I*sqrt(3) + 1/2"
      ]
     },
     "execution_count": 40,
     "metadata": {},
     "output_type": "execute_result"
    }
   ],
   "source": [
    "SR(v^15)"
   ]
  },
  {
   "cell_type": "code",
   "execution_count": 46,
   "metadata": {},
   "outputs": [
    {
     "name": "stdout",
     "output_type": "stream",
     "text": [
      "[2]\n"
     ]
    }
   ],
   "source": [
    "from sage.structure.list_clone_demo import IncreasingLists\n",
    "ob1d=list()\n",
    "x=IncreasingLists()([0,1,2])\n",
    "j=2;\n",
    "k=0;\n",
    "while j<(len(PairsValuesDegenerate)):\n",
    "    while k<len(Gal):\n",
    "        aux0=(Gal[k])(PairsValuesDegenerate[j][0])\n",
    "        aux1=(Gal[k])(PairsValuesDegenerate[j][1])\n",
    "        if aux0-Gal[0](PairsValuesDegenerate[2][0])==0 and aux1-Gal[0](PairsValuesDegenerate[2][1])==0:\n",
    "            ob1d.append(j)\n",
    "            k=len(Gal)\n",
    "            \n",
    "        else:\n",
    "            k=k+1\n",
    "    k=0;\n",
    "    j=j+1;\n",
    "print(ob1d)"
   ]
  },
  {
   "cell_type": "markdown",
   "metadata": {},
   "source": [
    "We use Groebner basis to reduce the system $B_d.$ In the particular case of $(5,3),$ there are three different solutions."
   ]
  },
  {
   "cell_type": "code",
   "execution_count": null,
   "metadata": {},
   "outputs": [],
   "source": []
  }
 ],
 "metadata": {
  "kernelspec": {
   "display_name": "Sage 9.3",
   "language": "sage",
   "name": "sagemath_9_3_all"
  },
  "language_info": {
   "codemirror_mode": {
    "name": "ipython",
    "version": 3
   },
   "file_extension": ".py",
   "mimetype": "text/x-python",
   "name": "python",
   "nbconvert_exporter": "python",
   "pygments_lexer": "ipython3",
   "version": "3.9.2"
  }
 },
 "nbformat": 4,
 "nbformat_minor": 4
}

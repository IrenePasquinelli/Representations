{
 "cells": [
  {
   "cell_type": "markdown",
   "metadata": {},
   "source": [
    "# The compact Deligne-Mostow $(3,4)$\n",
    "\n",
    "We want to determine the representations of the compact Deligne-Mostow lattice $(3,4)$ using the configurations of fixed subsets for $J$ and $R_1$."
   ]
  },
  {
   "cell_type": "markdown",
   "metadata": {},
   "source": [
    "## 1. The non-degenerate configuration.\n",
    "\n",
    "The non-degenerate configuration of fixed subsets for $J$ and $R_1$ where the fixed points of $J$ does not belong to the fixed line of $R_1$ and does not coindice with the fixed point $R_1.$"
   ]
  },
  {
   "cell_type": "markdown",
   "metadata": {},
   "source": [
    "We initialize the problem, the set of parameters belong to the field-extension $\\mathbb{Q}(x^{12}-x^6+1).$"
   ]
  },
  {
   "cell_type": "code",
   "execution_count": 1,
   "metadata": {},
   "outputs": [],
   "source": [
    "K.<w>=CyclotomicField(36)\n",
    "RR.<r1,r2,y>=PolynomialRing(K,3,['r1','r2','y'],order='deglex');\n",
    "J=matrix(K,3,3,[[0,0,1],[-1,0,0],[0,1,0]]);\n",
    "R1=matrix(RR,3,3,[[1,-r1,r1],[0,1-r2,r2],[0,1-r2-y,r2+y]]);"
   ]
  },
  {
   "cell_type": "markdown",
   "metadata": {},
   "source": [
    "The group relations for the Deligne-Mostow $(3,4)$ are:\n",
    "\n",
    "$(R_1 J)^8=Id$\n",
    "$R_1 J R_1 J^2 R_1 J R_1^2 J^2 R_1^2 J R_1^2 J^2=Id\\\\$\n",
    "that induce the system of equations on $B.$"
   ]
  },
  {
   "cell_type": "code",
   "execution_count": 2,
   "metadata": {},
   "outputs": [],
   "source": [
    "rel5=((R1*J)**(8));\n",
    "rel6=((R1*J*R1*J*J*R1*J*R1*R1*J*J*R1*R1*J*R1*R1*J*J));\n",
    "\n",
    "eq0=[(rel5[0,1]), (rel5[0,2]), (rel5[1,0]), (rel5[1,2]), (rel5[2,0]), (rel5[2,1]), (rel6[0,1]), (rel6[0,2]), (rel6[1,0]),(rel6[1,2]),(rel6[2,0]),(rel6[2,1])];\n",
    "eq1=[(rel5[0,0]-rel5[1,1]),(rel5[1,1]-rel5[2,2]),(rel6[0,0]-rel6[1,1]),(rel6[1,1]-rel6[2,2])];\n",
    "\n",
    "B=list();\n",
    "for i in range(len(eq0)):\n",
    "    B.append(eq0[i]);\n",
    "for i in range(len(eq1)):\n",
    "    B.append(eq1[i]);"
   ]
  },
  {
   "cell_type": "markdown",
   "metadata": {},
   "source": [
    "#### Groebner Basis\n",
    "\n",
    "We use Groebner basis to solve the system of equations $B.$"
   ]
  },
  {
   "cell_type": "code",
   "execution_count": 3,
   "metadata": {
    "scrolled": true
   },
   "outputs": [],
   "source": [
    "Jideal=RR.ideal(B);\n",
    "G=Jideal.groebner_basis()\n",
    "#print('Number of elements in the Basis',len(G))\n",
    "#print('The basis is:')\n",
    "#print(G)"
   ]
  },
  {
   "cell_type": "markdown",
   "metadata": {},
   "source": [
    "We start to reduce the variables on the system of equations. The first variable that we will reduce is $y$ where the set of values is small. \n",
    "\n",
    "Recall that $y\\neq 1.$"
   ]
  },
  {
   "cell_type": "code",
   "execution_count": 4,
   "metadata": {
    "scrolled": true
   },
   "outputs": [
    {
     "name": "stdout",
     "output_type": "stream",
     "text": [
      "[y^2 + y + 1]\n"
     ]
    }
   ],
   "source": [
    "yroots=list();\n",
    "yideal=Jideal.elimination_ideal([r2,r1]);\n",
    "ypol=yideal.gens();\n",
    "print(ypol)\n",
    "Poly.<y>=PolynomialRing(K,'y')\n",
    "aux=Poly(ypol[0]).roots(ring=K)\n",
    "for i in range(len(aux)):\n",
    "    if aux[i][0]==1:\n",
    "        continue\n",
    "    else:\n",
    "        yroots.append(aux[i][0])\n",
    "#print('y in',yroots)"
   ]
  },
  {
   "cell_type": "markdown",
   "metadata": {},
   "source": [
    "There exists two possible cases for $y.$ Notice that these two values of $y$ are complex conjugate.\n",
    "\n",
    "We proceed to substitute $y$ on the Groebner basis $G$ and find the values of $r_j$ $(j=1,2).$"
   ]
  },
  {
   "cell_type": "markdown",
   "metadata": {},
   "source": [
    "#### Case 1: $y= \\frac{-1+i\\sqrt{3}}{2}.$\n",
    "\n",
    "For the value of $y,$ we use Groebner basis on the system $G$ with the value of $y.$"
   ]
  },
  {
   "cell_type": "code",
   "execution_count": 5,
   "metadata": {},
   "outputs": [],
   "source": [
    "B1=list();\n",
    "for i in range(len(G)):\n",
    "    B1.append(G[i].substitute(y=yroots[0]))\n",
    "RR1.<r1,r2>=PolynomialRing(K,['r1','r2'],order='lex')\n",
    "J1=RR1.ideal(B1)\n",
    "GB1=J1.groebner_basis()\n",
    "#print('Number of elements in the basis',len(GB1))\n",
    "#print('The basis is:')\n",
    "#print(GB1)"
   ]
  },
  {
   "cell_type": "markdown",
   "metadata": {},
   "source": [
    "The next polynomials define contains all possible values of $r_j.$"
   ]
  },
  {
   "cell_type": "code",
   "execution_count": 6,
   "metadata": {},
   "outputs": [],
   "source": [
    "r1roots=list();\n",
    "r1Ideal=J1.elimination_ideal([r2]);\n",
    "r1pol=r1Ideal.gens();\n",
    "#print('Polynomial describing r1:', r1pol[0].factor())\n",
    "\n",
    "r2roots=list();\n",
    "r2Ideal=J1.elimination_ideal([r1]);\n",
    "r2pol=r2Ideal.gens();\n",
    "\n",
    "#print('Polynomial describing r2:', r2pol[0].factor())\n"
   ]
  },
  {
   "cell_type": "markdown",
   "metadata": {},
   "source": [
    "We collect all possible values of $r_2$ and substitute on the Groebner basis $GB_1.$"
   ]
  },
  {
   "cell_type": "code",
   "execution_count": 7,
   "metadata": {},
   "outputs": [],
   "source": [
    "Poly2.<r2>=PolynomialRing(K,'r2')\n",
    "\n",
    "aux=Poly2(r2pol[0]).roots(ring=K)\n",
    "r2roots=list();\n",
    "for i in range(len(aux)):\n",
    "    r2roots.append(aux[i][0]);\n",
    "#print(r2roots)"
   ]
  },
  {
   "cell_type": "markdown",
   "metadata": {},
   "source": [
    "For each value of $r_2,$ we use Groebner basis and find the associated polynomial on $r_1$ associated to each $r_2.$"
   ]
  },
  {
   "cell_type": "code",
   "execution_count": 8,
   "metadata": {},
   "outputs": [],
   "source": [
    "Br1=list();\n",
    "for i in range(len(r2roots)):\n",
    "    B2=list();\n",
    "    for j in range(len(GB1)):\n",
    "        aux=GB1[j].substitute(r2=r2roots[i])\n",
    "        if aux==0:\n",
    "            continue\n",
    "        else:\n",
    "            B2.append(aux)\n",
    "    RR3.<r1>=PolynomialRing(K,['r1'],order='lex')\n",
    "    J3=RR3.ideal(B2)\n",
    "    G3=J3.groebner_basis(J3)\n",
    "    Br1.append(G3)\n",
    "    #print('r2 root No',i,':', Br1[i])"
   ]
  },
  {
   "cell_type": "code",
   "execution_count": 9,
   "metadata": {},
   "outputs": [],
   "source": [
    "Parameters=list();\n",
    "for i in range(len(r2roots)):\n",
    "    aux=Br1[i][0].roots(ring=K)\n",
    "    for j in range(len(aux)):\n",
    "        Parameters.append([yroots[0],aux[j][0],r2roots[i]])\n",
    "#for i in range(len(Parameters)):\n",
    "#    print('No ', i,':', Parameters[i])"
   ]
  },
  {
   "cell_type": "markdown",
   "metadata": {},
   "source": [
    "#### Case 2: $y=\\frac{-1-i\\sqrt{3}}{2}$\n",
    "\n",
    "We reproduce the same process for case 1, for the second value."
   ]
  },
  {
   "cell_type": "code",
   "execution_count": 10,
   "metadata": {},
   "outputs": [],
   "source": [
    "B1=list();\n",
    "for i in range(len(G)):\n",
    "    B1.append(G[i].substitute(y=yroots[1]))\n",
    "RR1.<r1,r2>=PolynomialRing(K,['r1','r2'],order='lex')\n",
    "J1=RR1.ideal(B1)\n",
    "GB1=J1.groebner_basis()\n",
    "#print('Number of elements in the basis',len(GB1))\n",
    "#print('The basis is:')\n",
    "#print(GB1)"
   ]
  },
  {
   "cell_type": "code",
   "execution_count": 11,
   "metadata": {},
   "outputs": [],
   "source": [
    "r1Ideal1=J1.elimination_ideal([r2]);\n",
    "r1pol1=r1Ideal1.gens();\n",
    "#print('Polynomial describing r1:', r1pol1[0].factor())\n",
    "\n",
    "r2Ideal1=J1.elimination_ideal([r1]);\n",
    "r2pol1=r2Ideal1.gens();\n",
    "\n",
    "#print('Polynomial describing r2:', r2pol1[0].factor())"
   ]
  },
  {
   "cell_type": "code",
   "execution_count": 12,
   "metadata": {},
   "outputs": [],
   "source": [
    "Poly2.<r2>=PolynomialRing(K,'r2')\n",
    "r2roots1=list()\n",
    "aux=Poly2(r2pol1[0]).roots(ring=K)\n",
    "for i in range(len(aux)):\n",
    "    r2roots1.append(aux[i][0]);"
   ]
  },
  {
   "cell_type": "code",
   "execution_count": 13,
   "metadata": {},
   "outputs": [],
   "source": [
    "Br11=list();\n",
    "for i in range(len(r2roots1)):\n",
    "    B2=list();\n",
    "    for j in range(len(GB1)):\n",
    "        aux=GB1[j].substitute(r2=r2roots1[i])\n",
    "        if aux==0:\n",
    "            continue\n",
    "        else:\n",
    "            B2.append(aux)\n",
    "    RR3.<r1>=PolynomialRing(K,['r1'],order='lex')\n",
    "    J3=RR3.ideal(B2)\n",
    "    G3=J3.groebner_basis(J3)\n",
    "    Br11.append(G3)"
   ]
  },
  {
   "cell_type": "code",
   "execution_count": 14,
   "metadata": {},
   "outputs": [],
   "source": [
    "for i in range(len(r2roots1)):\n",
    "    aux=Br11[i][0].roots(ring=K)\n",
    "    for j in range(len(aux)):\n",
    "        Parameters.append([yroots[1],aux[j][0],r2roots1[i]])\n",
    "#for i in range(len(Parameters)):\n",
    "#    print('No ', i,':', Parameters[i])"
   ]
  },
  {
   "cell_type": "markdown",
   "metadata": {},
   "source": [
    "#### All posible values of $(y,r_1,r_2):$"
   ]
  },
  {
   "cell_type": "code",
   "execution_count": 15,
   "metadata": {},
   "outputs": [
    {
     "name": "stdout",
     "output_type": "stream",
     "text": [
      "Number of parameter configurations 18\n",
      "(y,r1,r2) in [[w^6 - 1, 1/2*w^7 + 1/2*w^6 - 1/2*w^5 - 1, 1/2*w^7 - 1/2*w^6 + 1/2*w^5 + 1], [w^6 - 1, -1/2*w^7 + 1/2*w^6 + 1/2*w^5 - 1, -1/2*w^7 - 1/2*w^6 - 1/2*w^5 + 1], [w^6 - 1, 1/2*w^8 + 1/2*w^6 - 1/2*w^4 - 1, -1/2*w^8 - 1/2*w^6 - 1/2*w^4 + 1], [w^6 - 1, 1/2*w^10 + 1/2*w^6 - 1/2*w^2 - 1, 1/2*w^10 - 1/2*w^6 + 1/2*w^2 + 1], [w^6 - 1, -1/2*w^10 - 1/2*w^8 + 1/2*w^6 + 1/2*w^4 + 1/2*w^2 - 1, -1/2*w^10 + 1/2*w^8 - 1/2*w^6 + 1/2*w^4 - 1/2*w^2 + 1], [w^6 - 1, -1/2*w^11 + 1/2*w^6 + 1/2*w - 1, 1/2*w^11 - 1/2*w^6 + 1/2*w + 1], [w^6 - 1, -1/2*w^11 - 1/2*w^7 + 1/2*w^6 + 1/2*w^5 + 1/2*w - 1, 1/2*w^11 - 1/2*w^7 - 1/2*w^6 - 1/2*w^5 + 1/2*w + 1], [w^6 - 1, 1/2*w^11 + 1/2*w^7 + 1/2*w^6 - 1/2*w^5 - 1/2*w - 1, -1/2*w^11 + 1/2*w^7 - 1/2*w^6 + 1/2*w^5 - 1/2*w + 1], [w^6 - 1, 1/2*w^11 + 1/2*w^6 - 1/2*w - 1, -1/2*w^11 - 1/2*w^6 - 1/2*w + 1], [-w^6, -1/2*w^6 + 1/2*w^5 + 1/2*w - 1/2, 1/2*w^6 + 1/2*w^5 - 1/2*w + 1/2], [-w^6, -1/2*w^6 + 1/2*w^4 + 1/2*w^2 - 1/2, 1/2*w^6 - 1/2*w^4 + 1/2*w^2 + 1/2], [-w^6, -1/2*w^6 - 1/2*w^5 - 1/2*w - 1/2, 1/2*w^6 - 1/2*w^5 + 1/2*w + 1/2], [-w^6, -1/2*w^10 + 1/2*w^8 - 1/2*w^6 - 1/2*w^2 - 1/2, 1/2*w^10 + 1/2*w^8 + 1/2*w^6 - 1/2*w^2 + 1/2], [-w^6, 1/2*w^10 - 1/2*w^8 - 1/2*w^6 - 1/2*w^4 - 1/2, -1/2*w^10 - 1/2*w^8 + 1/2*w^6 + 1/2*w^4 + 1/2], [-w^6, 1/2*w^11 - 1/2*w^7 - 1/2*w^6 + 1/2*w - 1/2, 1/2*w^11 + 1/2*w^7 + 1/2*w^6 - 1/2*w + 1/2], [-w^6, 1/2*w^11 - 1/2*w^7 - 1/2*w^6 - 1/2*w^5 - 1/2, 1/2*w^11 + 1/2*w^7 + 1/2*w^6 - 1/2*w^5 + 1/2], [-w^6, -1/2*w^11 + 1/2*w^7 - 1/2*w^6 + 1/2*w^5 - 1/2, -1/2*w^11 - 1/2*w^7 + 1/2*w^6 + 1/2*w^5 + 1/2], [-w^6, -1/2*w^11 + 1/2*w^7 - 1/2*w^6 - 1/2*w - 1/2, -1/2*w^11 - 1/2*w^7 + 1/2*w^6 + 1/2*w + 1/2]]\n"
     ]
    }
   ],
   "source": [
    "print('Number of parameter configurations', len(Parameters))\n",
    "print('(y,r1,r2) in', Parameters)"
   ]
  },
  {
   "cell_type": "markdown",
   "metadata": {},
   "source": [
    "## 1.1 The Galois group action.\n",
    "\n",
    "The Galois group action on $\\mathbb{Q}(x^{12}-x^6+1)$ induce one in the set of parameters. Such action induce a partition by orbits on the set of parameters."
   ]
  },
  {
   "cell_type": "code",
   "execution_count": 16,
   "metadata": {},
   "outputs": [],
   "source": [
    "Gal=K.galois_group()\n"
   ]
  },
  {
   "cell_type": "markdown",
   "metadata": {},
   "source": [
    "We compute the orbits."
   ]
  },
  {
   "cell_type": "code",
   "execution_count": 17,
   "metadata": {},
   "outputs": [],
   "source": [
    "from sage.structure.list_clone_demo import IncreasingLists"
   ]
  },
  {
   "cell_type": "code",
   "execution_count": 18,
   "metadata": {},
   "outputs": [
    {
     "name": "stdout",
     "output_type": "stream",
     "text": [
      "[0, 1, 5, 6, 7, 8, 9, 11, 14, 15, 16, 17]\n"
     ]
    }
   ],
   "source": [
    "ob1=[0]\n",
    "x=IncreasingLists()([1..17])\n",
    "j=1;\n",
    "k=0;\n",
    "while j<(len(Parameters)):\n",
    "    while k<len(Gal)-1:\n",
    "        aux0=(Gal[k+1])(Parameters[j][0])\n",
    "        aux1=(Gal[k+1])(Parameters[j][1])\n",
    "        aux2=(Gal[k+1])(Parameters[j][2])\n",
    "        if aux0-Gal[0](Parameters[0][0])==0 and aux1-Gal[0](Parameters[0][1])==0 and aux2-Gal[0](Parameters[0][2])==0:\n",
    "            ob1.append(j)\n",
    "            k=len(Gal)\n",
    "            \n",
    "        else:\n",
    "            k=k+1\n",
    "    k=0;\n",
    "    j=j+1;\n",
    "print(ob1)    "
   ]
  },
  {
   "cell_type": "code",
   "execution_count": 19,
   "metadata": {},
   "outputs": [
    {
     "name": "stdout",
     "output_type": "stream",
     "text": [
      "[2, 3, 4, 10, 12, 13]\n"
     ]
    }
   ],
   "source": [
    "ob2=list()\n",
    "x=IncreasingLists()([0..17])\n",
    "j=1;\n",
    "k=0;\n",
    "while j<(len(Parameters)):\n",
    "    while k<len(Gal)-1:\n",
    "        aux0=(Gal[k+1])(Parameters[j][0])\n",
    "        aux1=(Gal[k+1])(Parameters[j][1])\n",
    "        aux2=(Gal[k+1])(Parameters[j][2])\n",
    "        if aux0-Gal[0](Parameters[2][0])==0 and aux1-Gal[0](Parameters[2][1])==0 and aux2-Gal[0](Parameters[2][2])==0:\n",
    "            ob2.append(j)\n",
    "            k=len(Gal)\n",
    "            \n",
    "        else:\n",
    "            k=k+1\n",
    "    k=0;\n",
    "    j=j+1;\n",
    "print(ob2)"
   ]
  },
  {
   "cell_type": "markdown",
   "metadata": {},
   "source": [
    "Notice that these two orbits are disjoint and all parameters are in one of them."
   ]
  },
  {
   "cell_type": "code",
   "execution_count": 20,
   "metadata": {},
   "outputs": [
    {
     "data": {
      "text/plain": [
       "True"
      ]
     },
     "execution_count": 20,
     "metadata": {},
     "output_type": "execute_result"
    }
   ],
   "source": [
    "len(ob1)+len(ob2)==len(Parameters)"
   ]
  },
  {
   "cell_type": "markdown",
   "metadata": {},
   "source": [
    "## 1.2 The associated Hermitian form\n",
    "\n",
    "As these set of parameters provide a representation of the Deligne-Mostow (3,4) in $PGL(3,\\mathbb{C})$, we should have a representation whose image group is conjugated to a $PU(2,1)$ subgroup. To determine this representation we need to determine the Hermitian form preserved by the group image and compute its signature. \n",
    "\n",
    "From the initial data of our representation, an Hermitian form $H$ should satisfy the equation $(J^*)HJ=H.$ This imply that $H$ is of the form:\n",
    "\n",
    "$H=\\begin{bmatrix}\n",
    "a&-\\overline{c}&c\\\\-c& a&\\overline{c}\\\\ \\overline{c}&c&a\n",
    "\\end{bmatrix}$\n",
    "\n",
    "Therefore, in order to compute the values of $a$ and $c,$ we need to solve the equation ${R_1}^* H R_1=H$ for all possible parameters $(y,r_1,r_2).$"
   ]
  },
  {
   "cell_type": "code",
   "execution_count": 22,
   "metadata": {},
   "outputs": [],
   "source": [
    "J0=matrix(K,3,3,[[0,0,1],[-1,0,0],[0,1,0]]);\n",
    "R1ob1=list();\n",
    "R1ob2=list();\n",
    "for i in range(len(ob1)):\n",
    "    aux=matrix(K,[[1,-Parameters[ob1[i]][1],Parameters[ob1[i]][1]],[0,1-Parameters[ob1[i]][2],Parameters[ob1[i]][2]],[0,1-Parameters[ob1[i]][2]-Parameters[ob1[i]][0],Parameters[ob1[i]][2]+Parameters[ob1[i]][0]]])\n",
    "    R1ob1.append(aux)\n",
    "for i in range(len(ob2)):\n",
    "    aux1=matrix(K,[[1,-Parameters[ob2[i]][1],Parameters[ob2[i]][1]],[0,1-Parameters[ob2[i]][2],Parameters[ob2[i]][2]],[0,1-Parameters[ob2[i]][2]-Parameters[ob2[i]][0],Parameters[ob2[i]][2]+Parameters[ob2[i]][0]]])\n",
    "    R1ob2.append(aux1)\n"
   ]
  },
  {
   "cell_type": "markdown",
   "metadata": {},
   "source": [
    "Initialize the values of $c$ an $\\overline{c}$ as polynomials with coefficients on $\\mathbb{Q}(x^{12}-x^6+1)[\\cdot].$\n",
    "\n",
    "Without loose of generality we can assume that $c=\\sum_{j=0}^{11}b_j w^{j},$ where $\\{1,w^j\\}_{j=1}^{11}$ is the integral basis of $\\mathbb{Q}(x^{12}-x^6+1).$"
   ]
  },
  {
   "cell_type": "code",
   "execution_count": 23,
   "metadata": {},
   "outputs": [
    {
     "name": "stdout",
     "output_type": "stream",
     "text": [
      "[                                                                                                                                                                           a           -b0 + (w^11 - w^5)*b1 + (w^10 - w^4)*b2 + (w^9 - w^3)*b3 + (w^8 - w^2)*b4 + (w^7 - w)*b5 + (w^6 - 1)*b6 + (w^11)*b7 + (w^10)*b8 + (w^9)*b9 + (w^8)*b10 + (w^7)*b11                                                b0 + (w)*b1 + (w^2)*b2 + (w^3)*b3 + (w^4)*b4 + (w^5)*b5 + (w^6)*b6 + (w^7)*b7 + (w^8)*b8 + (w^9)*b9 + (w^10)*b10 + (w^11)*b11]\n",
      "[                                   -b0 + (-w)*b1 + (-w^2)*b2 + (-w^3)*b3 + (-w^4)*b4 + (-w^5)*b5 + (-w^6)*b6 + (-w^7)*b7 + (-w^8)*b8 + (-w^9)*b9 + (-w^10)*b10 + (-w^11)*b11                                                                                                                                                                            a b0 + (-w^11 + w^5)*b1 + (-w^10 + w^4)*b2 + (-w^9 + w^3)*b3 + (-w^8 + w^2)*b4 + (-w^7 + w)*b5 + (-w^6 + 1)*b6 + (-w^11)*b7 + (-w^10)*b8 + (-w^9)*b9 + (-w^8)*b10 + (-w^7)*b11]\n",
      "[b0 + (-w^11 + w^5)*b1 + (-w^10 + w^4)*b2 + (-w^9 + w^3)*b3 + (-w^8 + w^2)*b4 + (-w^7 + w)*b5 + (-w^6 + 1)*b6 + (-w^11)*b7 + (-w^10)*b8 + (-w^9)*b9 + (-w^8)*b10 + (-w^7)*b11                                                b0 + (w)*b1 + (w^2)*b2 + (w^3)*b3 + (w^4)*b4 + (w^5)*b5 + (w^6)*b6 + (w^7)*b7 + (w^8)*b8 + (w^9)*b9 + (w^10)*b10 + (w^11)*b11                                                                                                                                                                            a]\n"
     ]
    }
   ],
   "source": [
    "Pol.<a,b0,b1,b2,b3,b4,b5,b6,b7,b8,b9,b10,b11>=PolynomialRing(K,['a','b0','b1','b2','b3','b4','b5','b6','b7','b8','b9','b10','b11'],order='lex')\n",
    "c=b0+b1*w+b2*w^2+b3*w^3+b4*w^4+b5*w^5+b6*w^6+b7*w^7+b8*w^8+b9*w^9+b10*w^(10)+b11*w^(11);\n",
    "cconj=b0+b1*conjugate(w)+b2*conjugate(w^2)+b3*conjugate(w^3)+b4*conjugate(w^4)+b5*conjugate(w^5)+b6*conjugate(w^6)+b7*conjugate(w^7)+b8*conjugate(w^8)+b9*conjugate(w^9)+b10*conjugate(w^(10))+b11*conjugate(w^(11))\n",
    "H=matrix(Pol,3,3,[[a,-cconj,c],[-c,a,cconj],[cconj,c,a]]); print(H)"
   ]
  },
  {
   "cell_type": "markdown",
   "metadata": {},
   "source": [
    "For each orbit we compute the system of equations, and use Groebner basis for each element on the orbit."
   ]
  },
  {
   "cell_type": "code",
   "execution_count": 24,
   "metadata": {
    "collapsed": true
   },
   "outputs": [
    {
     "data": {
      "text/plain": [
       "[[a + (-13*w^11 - 28*w^10 - 12*w^9 + 12*w^8 + 36*w^7 - 23*w^5 + 16*w^4 + 24*w^3 + 16*w^2 - 23*w - 34)*b1 + (6*w^11 - 25*w^10 - 16*w^9 + 24*w^8 + 12*w^7 - 18*w^5 + w^4 + 32*w^3 + w^2 - 18*w - 10)*b2 + (-2*w^11 + 18*w^10 + 11*w^9 - 16*w^8 - 12*w^7 + 14*w^5 - 2*w^4 - 22*w^3 - 2*w^2 + 14*w + 10)*b3 + (2*w^11 + 34*w^10 + 18*w^9 - 25*w^8 - 28*w^7 + 26*w^5 - 9*w^4 - 36*w^3 - 9*w^2 + 26*w + 26)*b4 + (10*w^11 + 2*w^10 - 2*w^9 + 6*w^8 - 13*w^7 + 3*w^5 - 8*w^4 + 4*w^3 - 8*w^2 + 3*w + 14)*b5 + (-14*w^11 - 26*w^10 - 10*w^9 + 10*w^8 + 34*w^7 - 20*w^5 + 16*w^4 + 20*w^3 + 16*w^2 - 20*w - 33)*b6 + (-3*w^11 - 26*w^10 - 14*w^9 + 18*w^8 + 23*w^7 - 20*w^5 + 8*w^4 + 28*w^3 + 8*w^2 - 20*w - 20)*b7 + (8*w^11 + 9*w^10 + 2*w^9 - w^8 - 16*w^7 + 8*w^5 - 8*w^4 - 4*w^3 - 8*w^2 + 8*w + 16)*b8 + (-4*w^11 + 36*w^10 + 22*w^9 - 32*w^8 - 24*w^7 + 28*w^5 - 4*w^4 - 44*w^3 - 4*w^2 + 28*w + 20)*b9 + (8*w^11 + 9*w^10 + 2*w^9 - w^8 - 16*w^7 + 8*w^5 - 8*w^4 - 4*w^3 - 8*w^2 + 8*w + 16)*b10 + (-3*w^11 - 26*w^10 - 14*w^9 + 18*w^8 + 23*w^7 - 20*w^5 + 8*w^4 + 28*w^3 + 8*w^2 - 20*w - 20)*b11, b0 + (37/3*w^11 + 30*w^10 + 38/3*w^9 - 14*w^8 - 110/3*w^7 + 73/3*w^5 - 16*w^4 - 76/3*w^3 - 16*w^2 + 73/3*w + 35)*b1 + (-5*w^11 + 25*w^10 + 16*w^9 - 24*w^8 - 14*w^7 + 19*w^5 - w^4 - 32*w^3 - w^2 + 19*w + 11)*b2 + (5/3*w^11 - 19*w^10 - 35/3*w^9 + 16*w^8 + 38/3*w^7 - 43/3*w^5 + 3*w^4 + 70/3*w^3 + 3*w^2 - 43/3*w - 11)*b3 + (-3*w^11 - 35*w^10 - 19*w^9 + 25*w^8 + 30*w^7 - 27*w^5 + 10*w^4 + 38*w^3 + 10*w^2 - 27*w - 27)*b4 + (-29/3*w^11 - 3*w^10 + 5/3*w^9 - 5*w^8 + 37/3*w^7 - 8/3*w^5 + 8*w^4 - 10/3*w^3 + 8*w^2 - 8/3*w - 13)*b5 + (13*w^11 + 27*w^10 + 11*w^9 - 11*w^8 - 35*w^7 + 22*w^5 - 16*w^4 - 22*w^3 - 16*w^2 + 22*w + 34)*b6 + (8/3*w^11 + 27*w^10 + 43/3*w^9 - 19*w^8 - 70/3*w^7 + 62/3*w^5 - 8*w^4 - 86/3*w^3 - 8*w^2 + 62/3*w + 22)*b7 + (-8*w^11 - 10*w^10 - 3*w^9 + 2*w^8 + 16*w^7 - 8*w^5 + 8*w^4 + 6*w^3 + 8*w^2 - 8*w - 16)*b8 + (10/3*w^11 - 38*w^10 - 67/3*w^9 + 32*w^8 + 76/3*w^7 - 86/3*w^5 + 6*w^4 + 134/3*w^3 + 6*w^2 - 86/3*w - 22)*b9 + (-8*w^11 - 9*w^10 - 3*w^9 + w^8 + 16*w^7 - 8*w^5 + 8*w^4 + 6*w^3 + 8*w^2 - 8*w - 16)*b10 + (11/3*w^11 + 27*w^10 + 43/3*w^9 - 19*w^8 - 73/3*w^7 + 62/3*w^5 - 8*w^4 - 86/3*w^3 - 8*w^2 + 62/3*w + 22)*b11],\n",
       " [a + (-13*w^11 + 28*w^10 - 12*w^9 - 12*w^8 + 36*w^7 - 23*w^5 - 16*w^4 + 24*w^3 - 16*w^2 - 23*w + 34)*b1 + (-6*w^11 - 25*w^10 + 16*w^9 + 24*w^8 - 12*w^7 + 18*w^5 + w^4 - 32*w^3 + w^2 + 18*w - 10)*b2 + (-2*w^11 - 18*w^10 + 11*w^9 + 16*w^8 - 12*w^7 + 14*w^5 + 2*w^4 - 22*w^3 + 2*w^2 + 14*w - 10)*b3 + (-2*w^11 + 34*w^10 - 18*w^9 - 25*w^8 + 28*w^7 - 26*w^5 - 9*w^4 + 36*w^3 - 9*w^2 - 26*w + 26)*b4 + (10*w^11 - 2*w^10 - 2*w^9 - 6*w^8 - 13*w^7 + 3*w^5 + 8*w^4 + 4*w^3 + 8*w^2 + 3*w - 14)*b5 + (14*w^11 - 26*w^10 + 10*w^9 + 10*w^8 - 34*w^7 + 20*w^5 + 16*w^4 - 20*w^3 + 16*w^2 + 20*w - 33)*b6 + (-3*w^11 + 26*w^10 - 14*w^9 - 18*w^8 + 23*w^7 - 20*w^5 - 8*w^4 + 28*w^3 - 8*w^2 - 20*w + 20)*b7 + (-8*w^11 + 9*w^10 - 2*w^9 - w^8 + 16*w^7 - 8*w^5 - 8*w^4 + 4*w^3 - 8*w^2 - 8*w + 16)*b8 + (-4*w^11 - 36*w^10 + 22*w^9 + 32*w^8 - 24*w^7 + 28*w^5 + 4*w^4 - 44*w^3 + 4*w^2 + 28*w - 20)*b9 + (-8*w^11 + 9*w^10 - 2*w^9 - w^8 + 16*w^7 - 8*w^5 - 8*w^4 + 4*w^3 - 8*w^2 - 8*w + 16)*b10 + (-3*w^11 + 26*w^10 - 14*w^9 - 18*w^8 + 23*w^7 - 20*w^5 - 8*w^4 + 28*w^3 - 8*w^2 - 20*w + 20)*b11, b0 + (37/3*w^11 - 30*w^10 + 38/3*w^9 + 14*w^8 - 110/3*w^7 + 73/3*w^5 + 16*w^4 - 76/3*w^3 + 16*w^2 + 73/3*w - 35)*b1 + (5*w^11 + 25*w^10 - 16*w^9 - 24*w^8 + 14*w^7 - 19*w^5 - w^4 + 32*w^3 - w^2 - 19*w + 11)*b2 + (5/3*w^11 + 19*w^10 - 35/3*w^9 - 16*w^8 + 38/3*w^7 - 43/3*w^5 - 3*w^4 + 70/3*w^3 - 3*w^2 - 43/3*w + 11)*b3 + (3*w^11 - 35*w^10 + 19*w^9 + 25*w^8 - 30*w^7 + 27*w^5 + 10*w^4 - 38*w^3 + 10*w^2 + 27*w - 27)*b4 + (-29/3*w^11 + 3*w^10 + 5/3*w^9 + 5*w^8 + 37/3*w^7 - 8/3*w^5 - 8*w^4 - 10/3*w^3 - 8*w^2 - 8/3*w + 13)*b5 + (-13*w^11 + 27*w^10 - 11*w^9 - 11*w^8 + 35*w^7 - 22*w^5 - 16*w^4 + 22*w^3 - 16*w^2 - 22*w + 34)*b6 + (8/3*w^11 - 27*w^10 + 43/3*w^9 + 19*w^8 - 70/3*w^7 + 62/3*w^5 + 8*w^4 - 86/3*w^3 + 8*w^2 + 62/3*w - 22)*b7 + (8*w^11 - 10*w^10 + 3*w^9 + 2*w^8 - 16*w^7 + 8*w^5 + 8*w^4 - 6*w^3 + 8*w^2 + 8*w - 16)*b8 + (10/3*w^11 + 38*w^10 - 67/3*w^9 - 32*w^8 + 76/3*w^7 - 86/3*w^5 - 6*w^4 + 134/3*w^3 - 6*w^2 - 86/3*w + 22)*b9 + (8*w^11 - 9*w^10 + 3*w^9 + w^8 - 16*w^7 + 8*w^5 + 8*w^4 - 6*w^3 + 8*w^2 + 8*w - 16)*b10 + (11/3*w^11 - 27*w^10 + 43/3*w^9 + 19*w^8 - 73/3*w^7 + 62/3*w^5 + 8*w^4 - 86/3*w^3 + 8*w^2 + 62/3*w - 22)*b11],\n",
       " [a + (-23*w^11 + 8*w^10 + 14*w^9 - 26*w^8 + 20*w^7 + 3*w^5 + 18*w^4 - 28*w^3 + 18*w^2 + 3*w - 20)*b1 + (28*w^11 - 9*w^10 - 18*w^9 + 34*w^8 - 26*w^7 - 2*w^5 - 25*w^4 + 36*w^3 - 25*w^2 - 2*w + 26)*b2 + (-12*w^11 + 2*w^10 + 11*w^9 - 18*w^8 + 14*w^7 - 2*w^5 + 16*w^4 - 22*w^3 + 16*w^2 - 2*w - 10)*b3 + (-16*w^11 + 8*w^10 + 2*w^9 - 9*w^8 + 8*w^7 + 8*w^5 + w^4 - 4*w^3 + w^2 + 8*w - 16)*b4 + (36*w^11 - 16*w^10 - 12*w^9 + 28*w^8 - 23*w^7 - 13*w^5 - 12*w^4 + 24*w^3 - 12*w^2 - 13*w + 34)*b5 + (-34*w^11 + 16*w^10 + 10*w^9 - 26*w^8 + 20*w^7 + 14*w^5 + 10*w^4 - 20*w^3 + 10*w^2 + 14*w - 33)*b6 + (13*w^11 - 8*w^10 + 2*w^9 + 2*w^8 - 3*w^7 - 10*w^5 + 6*w^4 - 4*w^3 + 6*w^2 - 10*w + 14)*b7 + (12*w^11 - w^10 - 16*w^9 + 25*w^8 - 18*w^7 + 6*w^5 - 24*w^4 + 32*w^3 - 24*w^2 + 6*w + 10)*b8 + (-24*w^11 + 4*w^10 + 22*w^9 - 36*w^8 + 28*w^7 - 4*w^5 + 32*w^4 - 44*w^3 + 32*w^2 - 4*w - 20)*b9 + (12*w^11 - w^10 - 16*w^9 + 25*w^8 - 18*w^7 + 6*w^5 - 24*w^4 + 32*w^3 - 24*w^2 + 6*w + 10)*b10 + (13*w^11 - 8*w^10 + 2*w^9 + 2*w^8 - 3*w^7 - 10*w^5 + 6*w^4 - 4*w^3 + 6*w^2 - 10*w + 14)*b11, b0 + (70/3*w^11 - 8*w^10 - 43/3*w^9 + 27*w^8 - 62/3*w^7 - 8/3*w^5 - 19*w^4 + 86/3*w^3 - 19*w^2 - 8/3*w + 22)*b1 + (-30*w^11 + 9*w^10 + 19*w^9 - 35*w^8 + 27*w^7 + 3*w^5 + 26*w^4 - 38*w^3 + 26*w^2 + 3*w - 27)*b2 + (38/3*w^11 - 3*w^10 - 35/3*w^9 + 19*w^8 - 43/3*w^7 + 5/3*w^5 - 16*w^4 + 70/3*w^3 - 16*w^2 + 5/3*w + 11)*b3 + (16*w^11 - 8*w^10 - 3*w^9 + 9*w^8 - 8*w^7 - 8*w^5 - w^4 + 6*w^3 - w^2 - 8*w + 16)*b4 + (-110/3*w^11 + 16*w^10 + 38/3*w^9 - 30*w^8 + 70/3*w^7 + 40/3*w^5 + 14*w^4 - 76/3*w^3 + 14*w^2 + 40/3*w - 35)*b5 + (35*w^11 - 16*w^10 - 11*w^9 + 27*w^8 - 22*w^7 - 13*w^5 - 11*w^4 + 22*w^3 - 11*w^2 - 13*w + 34)*b6 + (-40/3*w^11 + 8*w^10 - 5/3*w^9 - 3*w^8 + 11/3*w^7 + 29/3*w^5 - 5*w^4 + 10/3*w^3 - 5*w^2 + 29/3*w - 13)*b7 + (-14*w^11 + w^10 + 16*w^9 - 25*w^8 + 19*w^7 - 5*w^5 + 24*w^4 - 32*w^3 + 24*w^2 - 5*w - 11)*b8 + (76/3*w^11 - 6*w^10 - 67/3*w^9 + 38*w^8 - 86/3*w^7 + 10/3*w^5 - 32*w^4 + 134/3*w^3 - 32*w^2 + 10/3*w + 22)*b9 + (-14*w^11 + 2*w^10 + 16*w^9 - 26*w^8 + 19*w^7 - 5*w^5 + 24*w^4 - 32*w^3 + 24*w^2 - 5*w - 11)*b10 + (-37/3*w^11 + 8*w^10 - 5/3*w^9 - 3*w^8 + 8/3*w^7 + 29/3*w^5 - 5*w^4 + 10/3*w^3 - 5*w^2 + 29/3*w - 13)*b11],\n",
       " [a + (3*w^11 + 6*w^10 - 2*w^9 - 8*w^8 + 10*w^7 - 13*w^5 + 2*w^4 + 4*w^3 + 2*w^2 - 13*w + 14)*b1 + (-8*w^11 + w^10 - 2*w^9 + 8*w^8 - 8*w^7 + 16*w^5 - 9*w^4 + 4*w^3 - 9*w^2 + 16*w - 16)*b2 + (14*w^11 - 16*w^10 + 11*w^9 - 2*w^8 - 2*w^7 - 12*w^5 + 18*w^4 - 22*w^3 + 18*w^2 - 12*w + 10)*b3 + (-18*w^11 + 24*w^10 - 16*w^9 + w^8 + 6*w^7 + 12*w^5 - 25*w^4 + 32*w^3 - 25*w^2 + 12*w - 10)*b4 + (20*w^11 - 18*w^10 + 14*w^9 - 8*w^8 + 3*w^7 - 23*w^5 + 26*w^4 - 28*w^3 + 26*w^2 - 23*w + 20)*b5 + (-20*w^11 + 10*w^10 - 10*w^9 + 16*w^8 - 14*w^7 + 34*w^5 - 26*w^4 + 20*w^3 - 26*w^2 + 34*w - 33)*b6 + (23*w^11 - 12*w^10 + 12*w^9 - 16*w^8 + 13*w^7 - 36*w^5 + 28*w^4 - 24*w^3 + 28*w^2 - 36*w + 34)*b7 + (-26*w^11 + 25*w^10 - 18*w^9 + 9*w^8 - 2*w^7 + 28*w^5 - 34*w^4 + 36*w^3 - 34*w^2 + 28*w - 26)*b8 + (28*w^11 - 32*w^10 + 22*w^9 - 4*w^8 - 4*w^7 - 24*w^5 + 36*w^4 - 44*w^3 + 36*w^2 - 24*w + 20)*b9 + (-26*w^11 + 25*w^10 - 18*w^9 + 9*w^8 - 2*w^7 + 28*w^5 - 34*w^4 + 36*w^3 - 34*w^2 + 28*w - 26)*b10 + (23*w^11 - 12*w^10 + 12*w^9 - 16*w^8 + 13*w^7 - 36*w^5 + 28*w^4 - 24*w^3 + 28*w^2 - 36*w + 34)*b11, b0 + (-11/3*w^11 - 5*w^10 + 5/3*w^9 + 8*w^8 - 29/3*w^7 + 40/3*w^5 - 3*w^4 - 10/3*w^3 - 3*w^2 + 40/3*w - 13)*b1 + (8*w^11 - 2*w^10 + 3*w^9 - 8*w^8 + 8*w^7 - 16*w^5 + 10*w^4 - 6*w^3 + 10*w^2 - 16*w + 16)*b2 + (-43/3*w^11 + 16*w^10 - 35/3*w^9 + 3*w^8 + 5/3*w^7 + 38/3*w^5 - 19*w^4 + 70/3*w^3 - 19*w^2 + 38/3*w - 11)*b3 + (19*w^11 - 24*w^10 + 16*w^9 - 2*w^8 - 5*w^7 - 14*w^5 + 26*w^4 - 32*w^3 + 26*w^2 - 14*w + 11)*b4 + (-62/3*w^11 + 19*w^10 - 43/3*w^9 + 8*w^8 - 11/3*w^7 + 73/3*w^5 - 27*w^4 + 86/3*w^3 - 27*w^2 + 73/3*w - 22)*b5 + (22*w^11 - 11*w^10 + 11*w^9 - 16*w^8 + 13*w^7 - 35*w^5 + 27*w^4 - 22*w^3 + 27*w^2 - 35*w + 34)*b6 + (-73/3*w^11 + 14*w^10 - 38/3*w^9 + 16*w^8 - 37/3*w^7 + 110/3*w^5 - 30*w^4 + 76/3*w^3 - 30*w^2 + 110/3*w - 35)*b7 + (27*w^11 - 26*w^10 + 19*w^9 - 9*w^8 + 3*w^7 - 30*w^5 + 35*w^4 - 38*w^3 + 35*w^2 - 30*w + 27)*b8 + (-86/3*w^11 + 32*w^10 - 67/3*w^9 + 6*w^8 + 10/3*w^7 + 76/3*w^5 - 38*w^4 + 134/3*w^3 - 38*w^2 + 76/3*w - 22)*b9 + (27*w^11 - 25*w^10 + 19*w^9 - 10*w^8 + 3*w^7 - 30*w^5 + 35*w^4 - 38*w^3 + 35*w^2 - 30*w + 27)*b10 + (-70/3*w^11 + 14*w^10 - 38/3*w^9 + 16*w^8 - 40/3*w^7 + 110/3*w^5 - 30*w^4 + 76/3*w^3 - 30*w^2 + 110/3*w - 35)*b11],\n",
       " [a + (3*w^11 - 6*w^10 - 2*w^9 + 8*w^8 + 10*w^7 - 13*w^5 - 2*w^4 + 4*w^3 - 2*w^2 - 13*w - 14)*b1 + (8*w^11 + w^10 + 2*w^9 + 8*w^8 + 8*w^7 - 16*w^5 - 9*w^4 - 4*w^3 - 9*w^2 - 16*w - 16)*b2 + (14*w^11 + 16*w^10 + 11*w^9 + 2*w^8 - 2*w^7 - 12*w^5 - 18*w^4 - 22*w^3 - 18*w^2 - 12*w - 10)*b3 + (18*w^11 + 24*w^10 + 16*w^9 + w^8 - 6*w^7 - 12*w^5 - 25*w^4 - 32*w^3 - 25*w^2 - 12*w - 10)*b4 + (20*w^11 + 18*w^10 + 14*w^9 + 8*w^8 + 3*w^7 - 23*w^5 - 26*w^4 - 28*w^3 - 26*w^2 - 23*w - 20)*b5 + (20*w^11 + 10*w^10 + 10*w^9 + 16*w^8 + 14*w^7 - 34*w^5 - 26*w^4 - 20*w^3 - 26*w^2 - 34*w - 33)*b6 + (23*w^11 + 12*w^10 + 12*w^9 + 16*w^8 + 13*w^7 - 36*w^5 - 28*w^4 - 24*w^3 - 28*w^2 - 36*w - 34)*b7 + (26*w^11 + 25*w^10 + 18*w^9 + 9*w^8 + 2*w^7 - 28*w^5 - 34*w^4 - 36*w^3 - 34*w^2 - 28*w - 26)*b8 + (28*w^11 + 32*w^10 + 22*w^9 + 4*w^8 - 4*w^7 - 24*w^5 - 36*w^4 - 44*w^3 - 36*w^2 - 24*w - 20)*b9 + (26*w^11 + 25*w^10 + 18*w^9 + 9*w^8 + 2*w^7 - 28*w^5 - 34*w^4 - 36*w^3 - 34*w^2 - 28*w - 26)*b10 + (23*w^11 + 12*w^10 + 12*w^9 + 16*w^8 + 13*w^7 - 36*w^5 - 28*w^4 - 24*w^3 - 28*w^2 - 36*w - 34)*b11, b0 + (-11/3*w^11 + 5*w^10 + 5/3*w^9 - 8*w^8 - 29/3*w^7 + 40/3*w^5 + 3*w^4 - 10/3*w^3 + 3*w^2 + 40/3*w + 13)*b1 + (-8*w^11 - 2*w^10 - 3*w^9 - 8*w^8 - 8*w^7 + 16*w^5 + 10*w^4 + 6*w^3 + 10*w^2 + 16*w + 16)*b2 + (-43/3*w^11 - 16*w^10 - 35/3*w^9 - 3*w^8 + 5/3*w^7 + 38/3*w^5 + 19*w^4 + 70/3*w^3 + 19*w^2 + 38/3*w + 11)*b3 + (-19*w^11 - 24*w^10 - 16*w^9 - 2*w^8 + 5*w^7 + 14*w^5 + 26*w^4 + 32*w^3 + 26*w^2 + 14*w + 11)*b4 + (-62/3*w^11 - 19*w^10 - 43/3*w^9 - 8*w^8 - 11/3*w^7 + 73/3*w^5 + 27*w^4 + 86/3*w^3 + 27*w^2 + 73/3*w + 22)*b5 + (-22*w^11 - 11*w^10 - 11*w^9 - 16*w^8 - 13*w^7 + 35*w^5 + 27*w^4 + 22*w^3 + 27*w^2 + 35*w + 34)*b6 + (-73/3*w^11 - 14*w^10 - 38/3*w^9 - 16*w^8 - 37/3*w^7 + 110/3*w^5 + 30*w^4 + 76/3*w^3 + 30*w^2 + 110/3*w + 35)*b7 + (-27*w^11 - 26*w^10 - 19*w^9 - 9*w^8 - 3*w^7 + 30*w^5 + 35*w^4 + 38*w^3 + 35*w^2 + 30*w + 27)*b8 + (-86/3*w^11 - 32*w^10 - 67/3*w^9 - 6*w^8 + 10/3*w^7 + 76/3*w^5 + 38*w^4 + 134/3*w^3 + 38*w^2 + 76/3*w + 22)*b9 + (-27*w^11 - 25*w^10 - 19*w^9 - 10*w^8 - 3*w^7 + 30*w^5 + 35*w^4 + 38*w^3 + 35*w^2 + 30*w + 27)*b10 + (-70/3*w^11 - 14*w^10 - 38/3*w^9 - 16*w^8 - 40/3*w^7 + 110/3*w^5 + 30*w^4 + 76/3*w^3 + 30*w^2 + 110/3*w + 35)*b11],\n",
       " [a + (-23*w^11 - 8*w^10 + 14*w^9 + 26*w^8 + 20*w^7 + 3*w^5 - 18*w^4 - 28*w^3 - 18*w^2 + 3*w + 20)*b1 + (-28*w^11 - 9*w^10 + 18*w^9 + 34*w^8 + 26*w^7 + 2*w^5 - 25*w^4 - 36*w^3 - 25*w^2 + 2*w + 26)*b2 + (-12*w^11 - 2*w^10 + 11*w^9 + 18*w^8 + 14*w^7 - 2*w^5 - 16*w^4 - 22*w^3 - 16*w^2 - 2*w + 10)*b3 + (16*w^11 + 8*w^10 - 2*w^9 - 9*w^8 - 8*w^7 - 8*w^5 + w^4 + 4*w^3 + w^2 - 8*w - 16)*b4 + (36*w^11 + 16*w^10 - 12*w^9 - 28*w^8 - 23*w^7 - 13*w^5 + 12*w^4 + 24*w^3 + 12*w^2 - 13*w - 34)*b5 + (34*w^11 + 16*w^10 - 10*w^9 - 26*w^8 - 20*w^7 - 14*w^5 + 10*w^4 + 20*w^3 + 10*w^2 - 14*w - 33)*b6 + (13*w^11 + 8*w^10 + 2*w^9 - 2*w^8 - 3*w^7 - 10*w^5 - 6*w^4 - 4*w^3 - 6*w^2 - 10*w - 14)*b7 + (-12*w^11 - w^10 + 16*w^9 + 25*w^8 + 18*w^7 - 6*w^5 - 24*w^4 - 32*w^3 - 24*w^2 - 6*w + 10)*b8 + (-24*w^11 - 4*w^10 + 22*w^9 + 36*w^8 + 28*w^7 - 4*w^5 - 32*w^4 - 44*w^3 - 32*w^2 - 4*w + 20)*b9 + (-12*w^11 - w^10 + 16*w^9 + 25*w^8 + 18*w^7 - 6*w^5 - 24*w^4 - 32*w^3 - 24*w^2 - 6*w + 10)*b10 + (13*w^11 + 8*w^10 + 2*w^9 - 2*w^8 - 3*w^7 - 10*w^5 - 6*w^4 - 4*w^3 - 6*w^2 - 10*w - 14)*b11, b0 + (70/3*w^11 + 8*w^10 - 43/3*w^9 - 27*w^8 - 62/3*w^7 - 8/3*w^5 + 19*w^4 + 86/3*w^3 + 19*w^2 - 8/3*w - 22)*b1 + (30*w^11 + 9*w^10 - 19*w^9 - 35*w^8 - 27*w^7 - 3*w^5 + 26*w^4 + 38*w^3 + 26*w^2 - 3*w - 27)*b2 + (38/3*w^11 + 3*w^10 - 35/3*w^9 - 19*w^8 - 43/3*w^7 + 5/3*w^5 + 16*w^4 + 70/3*w^3 + 16*w^2 + 5/3*w - 11)*b3 + (-16*w^11 - 8*w^10 + 3*w^9 + 9*w^8 + 8*w^7 + 8*w^5 - w^4 - 6*w^3 - w^2 + 8*w + 16)*b4 + (-110/3*w^11 - 16*w^10 + 38/3*w^9 + 30*w^8 + 70/3*w^7 + 40/3*w^5 - 14*w^4 - 76/3*w^3 - 14*w^2 + 40/3*w + 35)*b5 + (-35*w^11 - 16*w^10 + 11*w^9 + 27*w^8 + 22*w^7 + 13*w^5 - 11*w^4 - 22*w^3 - 11*w^2 + 13*w + 34)*b6 + (-40/3*w^11 - 8*w^10 - 5/3*w^9 + 3*w^8 + 11/3*w^7 + 29/3*w^5 + 5*w^4 + 10/3*w^3 + 5*w^2 + 29/3*w + 13)*b7 + (14*w^11 + w^10 - 16*w^9 - 25*w^8 - 19*w^7 + 5*w^5 + 24*w^4 + 32*w^3 + 24*w^2 + 5*w - 11)*b8 + (76/3*w^11 + 6*w^10 - 67/3*w^9 - 38*w^8 - 86/3*w^7 + 10/3*w^5 + 32*w^4 + 134/3*w^3 + 32*w^2 + 10/3*w - 22)*b9 + (14*w^11 + 2*w^10 - 16*w^9 - 26*w^8 - 19*w^7 + 5*w^5 + 24*w^4 + 32*w^3 + 24*w^2 + 5*w - 11)*b10 + (-37/3*w^11 - 8*w^10 - 5/3*w^9 + 3*w^8 + 8/3*w^7 + 29/3*w^5 + 5*w^4 + 10/3*w^3 + 5*w^2 + 29/3*w + 13)*b11],\n",
       " [a + (-3*w^11 - 6*w^10 + 2*w^9 + 8*w^8 - 10*w^7 + 13*w^5 - 2*w^4 - 4*w^3 - 2*w^2 + 13*w - 14)*b1 + (8*w^11 - w^10 + 2*w^9 - 8*w^8 + 8*w^7 - 16*w^5 + 9*w^4 - 4*w^3 + 9*w^2 - 16*w + 16)*b2 + (-14*w^11 + 16*w^10 - 11*w^9 + 2*w^8 + 2*w^7 + 12*w^5 - 18*w^4 + 22*w^3 - 18*w^2 + 12*w - 10)*b3 + (18*w^11 - 24*w^10 + 16*w^9 - w^8 - 6*w^7 - 12*w^5 + 25*w^4 - 32*w^3 + 25*w^2 - 12*w + 10)*b4 + (-20*w^11 + 18*w^10 - 14*w^9 + 8*w^8 - 3*w^7 + 23*w^5 - 26*w^4 + 28*w^3 - 26*w^2 + 23*w - 20)*b5 + (20*w^11 - 10*w^10 + 10*w^9 - 16*w^8 + 14*w^7 - 34*w^5 + 26*w^4 - 20*w^3 + 26*w^2 - 34*w + 33)*b6 + (-23*w^11 + 12*w^10 - 12*w^9 + 16*w^8 - 13*w^7 + 36*w^5 - 28*w^4 + 24*w^3 - 28*w^2 + 36*w - 34)*b7 + (26*w^11 - 25*w^10 + 18*w^9 - 9*w^8 + 2*w^7 - 28*w^5 + 34*w^4 - 36*w^3 + 34*w^2 - 28*w + 26)*b8 + (-28*w^11 + 32*w^10 - 22*w^9 + 4*w^8 + 4*w^7 + 24*w^5 - 36*w^4 + 44*w^3 - 36*w^2 + 24*w - 20)*b9 + (26*w^11 - 25*w^10 + 18*w^9 - 9*w^8 + 2*w^7 - 28*w^5 + 34*w^4 - 36*w^3 + 34*w^2 - 28*w + 26)*b10 + (-23*w^11 + 12*w^10 - 12*w^9 + 16*w^8 - 13*w^7 + 36*w^5 - 28*w^4 + 24*w^3 - 28*w^2 + 36*w - 34)*b11, b0 + (8/3*w^11 + 5*w^10 - 5/3*w^9 - 8*w^8 + 29/3*w^7 - 37/3*w^5 + 3*w^4 + 10/3*w^3 + 3*w^2 - 37/3*w + 13)*b1 + (-8*w^11 + w^10 - 3*w^9 + 8*w^8 - 8*w^7 + 16*w^5 - 9*w^4 + 6*w^3 - 9*w^2 + 16*w - 16)*b2 + (43/3*w^11 - 16*w^10 + 32/3*w^9 - 3*w^8 - 5/3*w^7 - 38/3*w^5 + 19*w^4 - 64/3*w^3 + 19*w^2 - 38/3*w + 11)*b3 + (-19*w^11 + 24*w^10 - 16*w^9 + w^8 + 5*w^7 + 14*w^5 - 25*w^4 + 32*w^3 - 25*w^2 + 14*w - 11)*b4 + (62/3*w^11 - 19*w^10 + 43/3*w^9 - 8*w^8 + 8/3*w^7 - 70/3*w^5 + 27*w^4 - 86/3*w^3 + 27*w^2 - 70/3*w + 22)*b5 + (-22*w^11 + 11*w^10 - 11*w^9 + 16*w^8 - 13*w^7 + 35*w^5 - 27*w^4 + 22*w^3 - 27*w^2 + 35*w - 33)*b6 + (70/3*w^11 - 14*w^10 + 38/3*w^9 - 16*w^8 + 40/3*w^7 - 110/3*w^5 + 30*w^4 - 76/3*w^3 + 30*w^2 - 110/3*w + 35)*b7 + (-27*w^11 + 25*w^10 - 19*w^9 + 10*w^8 - 3*w^7 + 30*w^5 - 35*w^4 + 38*w^3 - 35*w^2 + 30*w - 27)*b8 + (86/3*w^11 - 32*w^10 + 67/3*w^9 - 6*w^8 - 10/3*w^7 - 76/3*w^5 + 38*w^4 - 134/3*w^3 + 38*w^2 - 76/3*w + 22)*b9 + (-27*w^11 + 26*w^10 - 19*w^9 + 9*w^8 - 3*w^7 + 30*w^5 - 35*w^4 + 38*w^3 - 35*w^2 + 30*w - 27)*b10 + (73/3*w^11 - 14*w^10 + 38/3*w^9 - 16*w^8 + 37/3*w^7 - 110/3*w^5 + 30*w^4 - 76/3*w^3 + 30*w^2 - 110/3*w + 35)*b11],\n",
       " [a + (-3*w^11 + 6*w^10 + 2*w^9 - 8*w^8 - 10*w^7 + 13*w^5 + 2*w^4 - 4*w^3 + 2*w^2 + 13*w + 14)*b1 + (-8*w^11 - w^10 - 2*w^9 - 8*w^8 - 8*w^7 + 16*w^5 + 9*w^4 + 4*w^3 + 9*w^2 + 16*w + 16)*b2 + (-14*w^11 - 16*w^10 - 11*w^9 - 2*w^8 + 2*w^7 + 12*w^5 + 18*w^4 + 22*w^3 + 18*w^2 + 12*w + 10)*b3 + (-18*w^11 - 24*w^10 - 16*w^9 - w^8 + 6*w^7 + 12*w^5 + 25*w^4 + 32*w^3 + 25*w^2 + 12*w + 10)*b4 + (-20*w^11 - 18*w^10 - 14*w^9 - 8*w^8 - 3*w^7 + 23*w^5 + 26*w^4 + 28*w^3 + 26*w^2 + 23*w + 20)*b5 + (-20*w^11 - 10*w^10 - 10*w^9 - 16*w^8 - 14*w^7 + 34*w^5 + 26*w^4 + 20*w^3 + 26*w^2 + 34*w + 33)*b6 + (-23*w^11 - 12*w^10 - 12*w^9 - 16*w^8 - 13*w^7 + 36*w^5 + 28*w^4 + 24*w^3 + 28*w^2 + 36*w + 34)*b7 + (-26*w^11 - 25*w^10 - 18*w^9 - 9*w^8 - 2*w^7 + 28*w^5 + 34*w^4 + 36*w^3 + 34*w^2 + 28*w + 26)*b8 + (-28*w^11 - 32*w^10 - 22*w^9 - 4*w^8 + 4*w^7 + 24*w^5 + 36*w^4 + 44*w^3 + 36*w^2 + 24*w + 20)*b9 + (-26*w^11 - 25*w^10 - 18*w^9 - 9*w^8 - 2*w^7 + 28*w^5 + 34*w^4 + 36*w^3 + 34*w^2 + 28*w + 26)*b10 + (-23*w^11 - 12*w^10 - 12*w^9 - 16*w^8 - 13*w^7 + 36*w^5 + 28*w^4 + 24*w^3 + 28*w^2 + 36*w + 34)*b11, b0 + (8/3*w^11 - 5*w^10 - 5/3*w^9 + 8*w^8 + 29/3*w^7 - 37/3*w^5 - 3*w^4 + 10/3*w^3 - 3*w^2 - 37/3*w - 13)*b1 + (8*w^11 + w^10 + 3*w^9 + 8*w^8 + 8*w^7 - 16*w^5 - 9*w^4 - 6*w^3 - 9*w^2 - 16*w - 16)*b2 + (43/3*w^11 + 16*w^10 + 32/3*w^9 + 3*w^8 - 5/3*w^7 - 38/3*w^5 - 19*w^4 - 64/3*w^3 - 19*w^2 - 38/3*w - 11)*b3 + (19*w^11 + 24*w^10 + 16*w^9 + w^8 - 5*w^7 - 14*w^5 - 25*w^4 - 32*w^3 - 25*w^2 - 14*w - 11)*b4 + (62/3*w^11 + 19*w^10 + 43/3*w^9 + 8*w^8 + 8/3*w^7 - 70/3*w^5 - 27*w^4 - 86/3*w^3 - 27*w^2 - 70/3*w - 22)*b5 + (22*w^11 + 11*w^10 + 11*w^9 + 16*w^8 + 13*w^7 - 35*w^5 - 27*w^4 - 22*w^3 - 27*w^2 - 35*w - 33)*b6 + (70/3*w^11 + 14*w^10 + 38/3*w^9 + 16*w^8 + 40/3*w^7 - 110/3*w^5 - 30*w^4 - 76/3*w^3 - 30*w^2 - 110/3*w - 35)*b7 + (27*w^11 + 25*w^10 + 19*w^9 + 10*w^8 + 3*w^7 - 30*w^5 - 35*w^4 - 38*w^3 - 35*w^2 - 30*w - 27)*b8 + (86/3*w^11 + 32*w^10 + 67/3*w^9 + 6*w^8 - 10/3*w^7 - 76/3*w^5 - 38*w^4 - 134/3*w^3 - 38*w^2 - 76/3*w - 22)*b9 + (27*w^11 + 26*w^10 + 19*w^9 + 9*w^8 + 3*w^7 - 30*w^5 - 35*w^4 - 38*w^3 - 35*w^2 - 30*w - 27)*b10 + (73/3*w^11 + 14*w^10 + 38/3*w^9 + 16*w^8 + 37/3*w^7 - 110/3*w^5 - 30*w^4 - 76/3*w^3 - 30*w^2 - 110/3*w - 35)*b11],\n",
       " [a + (13*w^11 - 28*w^10 + 12*w^9 + 12*w^8 - 36*w^7 + 23*w^5 + 16*w^4 - 24*w^3 + 16*w^2 + 23*w - 34)*b1 + (6*w^11 + 25*w^10 - 16*w^9 - 24*w^8 + 12*w^7 - 18*w^5 - w^4 + 32*w^3 - w^2 - 18*w + 10)*b2 + (2*w^11 + 18*w^10 - 11*w^9 - 16*w^8 + 12*w^7 - 14*w^5 - 2*w^4 + 22*w^3 - 2*w^2 - 14*w + 10)*b3 + (2*w^11 - 34*w^10 + 18*w^9 + 25*w^8 - 28*w^7 + 26*w^5 + 9*w^4 - 36*w^3 + 9*w^2 + 26*w - 26)*b4 + (-10*w^11 + 2*w^10 + 2*w^9 + 6*w^8 + 13*w^7 - 3*w^5 - 8*w^4 - 4*w^3 - 8*w^2 - 3*w + 14)*b5 + (-14*w^11 + 26*w^10 - 10*w^9 - 10*w^8 + 34*w^7 - 20*w^5 - 16*w^4 + 20*w^3 - 16*w^2 - 20*w + 33)*b6 + (3*w^11 - 26*w^10 + 14*w^9 + 18*w^8 - 23*w^7 + 20*w^5 + 8*w^4 - 28*w^3 + 8*w^2 + 20*w - 20)*b7 + (8*w^11 - 9*w^10 + 2*w^9 + w^8 - 16*w^7 + 8*w^5 + 8*w^4 - 4*w^3 + 8*w^2 + 8*w - 16)*b8 + (4*w^11 + 36*w^10 - 22*w^9 - 32*w^8 + 24*w^7 - 28*w^5 - 4*w^4 + 44*w^3 - 4*w^2 - 28*w + 20)*b9 + (8*w^11 - 9*w^10 + 2*w^9 + w^8 - 16*w^7 + 8*w^5 + 8*w^4 - 4*w^3 + 8*w^2 + 8*w - 16)*b10 + (3*w^11 - 26*w^10 + 14*w^9 + 18*w^8 - 23*w^7 + 20*w^5 + 8*w^4 - 28*w^3 + 8*w^2 + 20*w - 20)*b11, b0 + (-40/3*w^11 + 30*w^10 - 38/3*w^9 - 14*w^8 + 110/3*w^7 - 70/3*w^5 - 16*w^4 + 76/3*w^3 - 16*w^2 - 70/3*w + 35)*b1 + (-5*w^11 - 26*w^10 + 16*w^9 + 24*w^8 - 14*w^7 + 19*w^5 + 2*w^4 - 32*w^3 + 2*w^2 + 19*w - 11)*b2 + (-5/3*w^11 - 19*w^10 + 32/3*w^9 + 16*w^8 - 38/3*w^7 + 43/3*w^5 + 3*w^4 - 64/3*w^3 + 3*w^2 + 43/3*w - 11)*b3 + (-3*w^11 + 35*w^10 - 19*w^9 - 26*w^8 + 30*w^7 - 27*w^5 - 9*w^4 + 38*w^3 - 9*w^2 - 27*w + 27)*b4 + (29/3*w^11 - 3*w^10 - 5/3*w^9 - 5*w^8 - 40/3*w^7 + 11/3*w^5 + 8*w^4 + 10/3*w^3 + 8*w^2 + 11/3*w - 13)*b5 + (13*w^11 - 27*w^10 + 11*w^9 + 11*w^8 - 35*w^7 + 22*w^5 + 16*w^4 - 22*w^3 + 16*w^2 + 22*w - 33)*b6 + (-11/3*w^11 + 27*w^10 - 43/3*w^9 - 19*w^8 + 73/3*w^7 - 62/3*w^5 - 8*w^4 + 86/3*w^3 - 8*w^2 - 62/3*w + 22)*b7 + (-8*w^11 + 9*w^10 - 3*w^9 - w^8 + 16*w^7 - 8*w^5 - 8*w^4 + 6*w^3 - 8*w^2 - 8*w + 16)*b8 + (-10/3*w^11 - 38*w^10 + 67/3*w^9 + 32*w^8 - 76/3*w^7 + 86/3*w^5 + 6*w^4 - 134/3*w^3 + 6*w^2 + 86/3*w - 22)*b9 + (-8*w^11 + 10*w^10 - 3*w^9 - 2*w^8 + 16*w^7 - 8*w^5 - 8*w^4 + 6*w^3 - 8*w^2 - 8*w + 16)*b10 + (-8/3*w^11 + 27*w^10 - 43/3*w^9 - 19*w^8 + 70/3*w^7 - 62/3*w^5 - 8*w^4 + 86/3*w^3 - 8*w^2 - 62/3*w + 22)*b11],\n",
       " [a + (23*w^11 + 8*w^10 - 14*w^9 - 26*w^8 - 20*w^7 - 3*w^5 + 18*w^4 + 28*w^3 + 18*w^2 - 3*w - 20)*b1 + (28*w^11 + 9*w^10 - 18*w^9 - 34*w^8 - 26*w^7 - 2*w^5 + 25*w^4 + 36*w^3 + 25*w^2 - 2*w - 26)*b2 + (12*w^11 + 2*w^10 - 11*w^9 - 18*w^8 - 14*w^7 + 2*w^5 + 16*w^4 + 22*w^3 + 16*w^2 + 2*w - 10)*b3 + (-16*w^11 - 8*w^10 + 2*w^9 + 9*w^8 + 8*w^7 + 8*w^5 - w^4 - 4*w^3 - w^2 + 8*w + 16)*b4 + (-36*w^11 - 16*w^10 + 12*w^9 + 28*w^8 + 23*w^7 + 13*w^5 - 12*w^4 - 24*w^3 - 12*w^2 + 13*w + 34)*b5 + (-34*w^11 - 16*w^10 + 10*w^9 + 26*w^8 + 20*w^7 + 14*w^5 - 10*w^4 - 20*w^3 - 10*w^2 + 14*w + 33)*b6 + (-13*w^11 - 8*w^10 - 2*w^9 + 2*w^8 + 3*w^7 + 10*w^5 + 6*w^4 + 4*w^3 + 6*w^2 + 10*w + 14)*b7 + (12*w^11 + w^10 - 16*w^9 - 25*w^8 - 18*w^7 + 6*w^5 + 24*w^4 + 32*w^3 + 24*w^2 + 6*w - 10)*b8 + (24*w^11 + 4*w^10 - 22*w^9 - 36*w^8 - 28*w^7 + 4*w^5 + 32*w^4 + 44*w^3 + 32*w^2 + 4*w - 20)*b9 + (12*w^11 + w^10 - 16*w^9 - 25*w^8 - 18*w^7 + 6*w^5 + 24*w^4 + 32*w^3 + 24*w^2 + 6*w - 10)*b10 + (-13*w^11 - 8*w^10 - 2*w^9 + 2*w^8 + 3*w^7 + 10*w^5 + 6*w^4 + 4*w^3 + 6*w^2 + 10*w + 14)*b11, b0 + (-73/3*w^11 - 8*w^10 + 43/3*w^9 + 27*w^8 + 62/3*w^7 + 11/3*w^5 - 19*w^4 - 86/3*w^3 - 19*w^2 + 11/3*w + 22)*b1 + (-30*w^11 - 10*w^10 + 19*w^9 + 35*w^8 + 27*w^7 + 3*w^5 - 25*w^4 - 38*w^3 - 25*w^2 + 3*w + 27)*b2 + (-38/3*w^11 - 3*w^10 + 32/3*w^9 + 19*w^8 + 43/3*w^7 - 5/3*w^5 - 16*w^4 - 64/3*w^3 - 16*w^2 - 5/3*w + 11)*b3 + (16*w^11 + 8*w^10 - 3*w^9 - 10*w^8 - 8*w^7 - 8*w^5 + 2*w^4 + 6*w^3 + 2*w^2 - 8*w - 16)*b4 + (110/3*w^11 + 16*w^10 - 38/3*w^9 - 30*w^8 - 73/3*w^7 - 37/3*w^5 + 14*w^4 + 76/3*w^3 + 14*w^2 - 37/3*w - 35)*b5 + (35*w^11 + 16*w^10 - 11*w^9 - 27*w^8 - 22*w^7 - 13*w^5 + 11*w^4 + 22*w^3 + 11*w^2 - 13*w - 33)*b6 + (37/3*w^11 + 8*w^10 + 5/3*w^9 - 3*w^8 - 8/3*w^7 - 29/3*w^5 - 5*w^4 - 10/3*w^3 - 5*w^2 - 29/3*w - 13)*b7 + (-14*w^11 - 2*w^10 + 16*w^9 + 26*w^8 + 19*w^7 - 5*w^5 - 24*w^4 - 32*w^3 - 24*w^2 - 5*w + 11)*b8 + (-76/3*w^11 - 6*w^10 + 67/3*w^9 + 38*w^8 + 86/3*w^7 - 10/3*w^5 - 32*w^4 - 134/3*w^3 - 32*w^2 - 10/3*w + 22)*b9 + (-14*w^11 - w^10 + 16*w^9 + 25*w^8 + 19*w^7 - 5*w^5 - 24*w^4 - 32*w^3 - 24*w^2 - 5*w + 11)*b10 + (40/3*w^11 + 8*w^10 + 5/3*w^9 - 3*w^8 - 11/3*w^7 - 29/3*w^5 - 5*w^4 - 10/3*w^3 - 5*w^2 - 29/3*w - 13)*b11],\n",
       " [a + (23*w^11 - 8*w^10 - 14*w^9 + 26*w^8 - 20*w^7 - 3*w^5 - 18*w^4 + 28*w^3 - 18*w^2 - 3*w + 20)*b1 + (-28*w^11 + 9*w^10 + 18*w^9 - 34*w^8 + 26*w^7 + 2*w^5 + 25*w^4 - 36*w^3 + 25*w^2 + 2*w - 26)*b2 + (12*w^11 - 2*w^10 - 11*w^9 + 18*w^8 - 14*w^7 + 2*w^5 - 16*w^4 + 22*w^3 - 16*w^2 + 2*w + 10)*b3 + (16*w^11 - 8*w^10 - 2*w^9 + 9*w^8 - 8*w^7 - 8*w^5 - w^4 + 4*w^3 - w^2 - 8*w + 16)*b4 + (-36*w^11 + 16*w^10 + 12*w^9 - 28*w^8 + 23*w^7 + 13*w^5 + 12*w^4 - 24*w^3 + 12*w^2 + 13*w - 34)*b5 + (34*w^11 - 16*w^10 - 10*w^9 + 26*w^8 - 20*w^7 - 14*w^5 - 10*w^4 + 20*w^3 - 10*w^2 - 14*w + 33)*b6 + (-13*w^11 + 8*w^10 - 2*w^9 - 2*w^8 + 3*w^7 + 10*w^5 - 6*w^4 + 4*w^3 - 6*w^2 + 10*w - 14)*b7 + (-12*w^11 + w^10 + 16*w^9 - 25*w^8 + 18*w^7 - 6*w^5 + 24*w^4 - 32*w^3 + 24*w^2 - 6*w - 10)*b8 + (24*w^11 - 4*w^10 - 22*w^9 + 36*w^8 - 28*w^7 + 4*w^5 - 32*w^4 + 44*w^3 - 32*w^2 + 4*w + 20)*b9 + (-12*w^11 + w^10 + 16*w^9 - 25*w^8 + 18*w^7 - 6*w^5 + 24*w^4 - 32*w^3 + 24*w^2 - 6*w - 10)*b10 + (-13*w^11 + 8*w^10 - 2*w^9 - 2*w^8 + 3*w^7 + 10*w^5 - 6*w^4 + 4*w^3 - 6*w^2 + 10*w - 14)*b11, b0 + (-73/3*w^11 + 8*w^10 + 43/3*w^9 - 27*w^8 + 62/3*w^7 + 11/3*w^5 + 19*w^4 - 86/3*w^3 + 19*w^2 + 11/3*w - 22)*b1 + (30*w^11 - 10*w^10 - 19*w^9 + 35*w^8 - 27*w^7 - 3*w^5 - 25*w^4 + 38*w^3 - 25*w^2 - 3*w + 27)*b2 + (-38/3*w^11 + 3*w^10 + 32/3*w^9 - 19*w^8 + 43/3*w^7 - 5/3*w^5 + 16*w^4 - 64/3*w^3 + 16*w^2 - 5/3*w - 11)*b3 + (-16*w^11 + 8*w^10 + 3*w^9 - 10*w^8 + 8*w^7 + 8*w^5 + 2*w^4 - 6*w^3 + 2*w^2 + 8*w - 16)*b4 + (110/3*w^11 - 16*w^10 - 38/3*w^9 + 30*w^8 - 73/3*w^7 - 37/3*w^5 - 14*w^4 + 76/3*w^3 - 14*w^2 - 37/3*w + 35)*b5 + (-35*w^11 + 16*w^10 + 11*w^9 - 27*w^8 + 22*w^7 + 13*w^5 + 11*w^4 - 22*w^3 + 11*w^2 + 13*w - 33)*b6 + (37/3*w^11 - 8*w^10 + 5/3*w^9 + 3*w^8 - 8/3*w^7 - 29/3*w^5 + 5*w^4 - 10/3*w^3 + 5*w^2 - 29/3*w + 13)*b7 + (14*w^11 - 2*w^10 - 16*w^9 + 26*w^8 - 19*w^7 + 5*w^5 - 24*w^4 + 32*w^3 - 24*w^2 + 5*w + 11)*b8 + (-76/3*w^11 + 6*w^10 + 67/3*w^9 - 38*w^8 + 86/3*w^7 - 10/3*w^5 + 32*w^4 - 134/3*w^3 + 32*w^2 - 10/3*w - 22)*b9 + (14*w^11 - w^10 - 16*w^9 + 25*w^8 - 19*w^7 + 5*w^5 - 24*w^4 + 32*w^3 - 24*w^2 + 5*w + 11)*b10 + (40/3*w^11 - 8*w^10 + 5/3*w^9 + 3*w^8 - 11/3*w^7 - 29/3*w^5 + 5*w^4 - 10/3*w^3 + 5*w^2 - 29/3*w + 13)*b11],\n",
       " [a + (13*w^11 + 28*w^10 + 12*w^9 - 12*w^8 - 36*w^7 + 23*w^5 - 16*w^4 - 24*w^3 - 16*w^2 + 23*w + 34)*b1 + (-6*w^11 + 25*w^10 + 16*w^9 - 24*w^8 - 12*w^7 + 18*w^5 - w^4 - 32*w^3 - w^2 + 18*w + 10)*b2 + (2*w^11 - 18*w^10 - 11*w^9 + 16*w^8 + 12*w^7 - 14*w^5 + 2*w^4 + 22*w^3 + 2*w^2 - 14*w - 10)*b3 + (-2*w^11 - 34*w^10 - 18*w^9 + 25*w^8 + 28*w^7 - 26*w^5 + 9*w^4 + 36*w^3 + 9*w^2 - 26*w - 26)*b4 + (-10*w^11 - 2*w^10 + 2*w^9 - 6*w^8 + 13*w^7 - 3*w^5 + 8*w^4 - 4*w^3 + 8*w^2 - 3*w - 14)*b5 + (14*w^11 + 26*w^10 + 10*w^9 - 10*w^8 - 34*w^7 + 20*w^5 - 16*w^4 - 20*w^3 - 16*w^2 + 20*w + 33)*b6 + (3*w^11 + 26*w^10 + 14*w^9 - 18*w^8 - 23*w^7 + 20*w^5 - 8*w^4 - 28*w^3 - 8*w^2 + 20*w + 20)*b7 + (-8*w^11 - 9*w^10 - 2*w^9 + w^8 + 16*w^7 - 8*w^5 + 8*w^4 + 4*w^3 + 8*w^2 - 8*w - 16)*b8 + (4*w^11 - 36*w^10 - 22*w^9 + 32*w^8 + 24*w^7 - 28*w^5 + 4*w^4 + 44*w^3 + 4*w^2 - 28*w - 20)*b9 + (-8*w^11 - 9*w^10 - 2*w^9 + w^8 + 16*w^7 - 8*w^5 + 8*w^4 + 4*w^3 + 8*w^2 - 8*w - 16)*b10 + (3*w^11 + 26*w^10 + 14*w^9 - 18*w^8 - 23*w^7 + 20*w^5 - 8*w^4 - 28*w^3 - 8*w^2 + 20*w + 20)*b11, b0 + (-40/3*w^11 - 30*w^10 - 38/3*w^9 + 14*w^8 + 110/3*w^7 - 70/3*w^5 + 16*w^4 + 76/3*w^3 + 16*w^2 - 70/3*w - 35)*b1 + (5*w^11 - 26*w^10 - 16*w^9 + 24*w^8 + 14*w^7 - 19*w^5 + 2*w^4 + 32*w^3 + 2*w^2 - 19*w - 11)*b2 + (-5/3*w^11 + 19*w^10 + 32/3*w^9 - 16*w^8 - 38/3*w^7 + 43/3*w^5 - 3*w^4 - 64/3*w^3 - 3*w^2 + 43/3*w + 11)*b3 + (3*w^11 + 35*w^10 + 19*w^9 - 26*w^8 - 30*w^7 + 27*w^5 - 9*w^4 - 38*w^3 - 9*w^2 + 27*w + 27)*b4 + (29/3*w^11 + 3*w^10 - 5/3*w^9 + 5*w^8 - 40/3*w^7 + 11/3*w^5 - 8*w^4 + 10/3*w^3 - 8*w^2 + 11/3*w + 13)*b5 + (-13*w^11 - 27*w^10 - 11*w^9 + 11*w^8 + 35*w^7 - 22*w^5 + 16*w^4 + 22*w^3 + 16*w^2 - 22*w - 33)*b6 + (-11/3*w^11 - 27*w^10 - 43/3*w^9 + 19*w^8 + 73/3*w^7 - 62/3*w^5 + 8*w^4 + 86/3*w^3 + 8*w^2 - 62/3*w - 22)*b7 + (8*w^11 + 9*w^10 + 3*w^9 - w^8 - 16*w^7 + 8*w^5 - 8*w^4 - 6*w^3 - 8*w^2 + 8*w + 16)*b8 + (-10/3*w^11 + 38*w^10 + 67/3*w^9 - 32*w^8 - 76/3*w^7 + 86/3*w^5 - 6*w^4 - 134/3*w^3 - 6*w^2 + 86/3*w + 22)*b9 + (8*w^11 + 10*w^10 + 3*w^9 - 2*w^8 - 16*w^7 + 8*w^5 - 8*w^4 - 6*w^3 - 8*w^2 + 8*w + 16)*b10 + (-8/3*w^11 - 27*w^10 - 43/3*w^9 + 19*w^8 + 70/3*w^7 - 62/3*w^5 + 8*w^4 + 86/3*w^3 + 8*w^2 - 62/3*w - 22)*b11]]"
      ]
     },
     "execution_count": 24,
     "metadata": {},
     "output_type": "execute_result"
    }
   ],
   "source": [
    "Bo1=list();\n",
    "for i in range(len(ob1)):\n",
    "    RelHerm=(conjugate(transpose(R1ob1[i]))*H*(R1ob1[i])-H)\n",
    "    B=[RelHerm[0,0],(RelHerm[0,1]),(RelHerm[0,2]),RelHerm[1,0],(RelHerm[1,1]),(RelHerm[1,2]),RelHerm[2,0],RelHerm[2,1],(RelHerm[2,2])];\n",
    "    Bo1.append(B)\n",
    "Go1=list()\n",
    "for i in range(len(ob1)):\n",
    "    J=Pol.ideal(Bo1[i])\n",
    "    Grob=J.groebner_basis()\n",
    "    Go1.append(Grob)\n",
    "#Go1"
   ]
  },
  {
   "cell_type": "code",
   "execution_count": 25,
   "metadata": {
    "collapsed": true
   },
   "outputs": [
    {
     "data": {
      "text/plain": [
       "[[a + (7/3*w^11 + 8/3*w^9 - 20/3*w^7 + 13/3*w^5 - 16/3*w^3 + 13/3*w)*b1 + (5*w^10 - 4*w^8 - w^4 - w^2 + 2)*b2 + (2/3*w^11 - 5/3*w^9 + 8/3*w^7 - 10/3*w^5 + 10/3*w^3 - 10/3*w)*b3 + (-6*w^10 + 5*w^8 + w^4 + w^2 - 6)*b4 + (-2/3*w^11 + 2/3*w^9 + 7/3*w^7 - 5/3*w^5 - 4/3*w^3 - 5/3*w)*b5 + (6*w^10 - 2*w^8 - 4*w^4 - 4*w^2 + 5)*b6 + (5/3*w^11 + 10/3*w^9 - 13/3*w^7 + 8/3*w^5 - 20/3*w^3 + 8/3*w)*b7 + (-w^10 + w^8 - 4)*b8 + (4/3*w^11 - 10/3*w^9 + 16/3*w^7 - 20/3*w^5 + 20/3*w^3 - 20/3*w)*b9 + (-w^10 + w^8 - 4)*b10 + (5/3*w^11 + 10/3*w^9 - 13/3*w^7 + 8/3*w^5 - 20/3*w^3 + 8/3*w)*b11, b0 + (-4/3*w^11 - 8/3*w^9 + 14/3*w^7 - 10/3*w^5 + 16/3*w^3 - 10/3*w)*b1 + (-4*w^10 + 2*w^8 + 2*w^4 + 2*w^2 - 3)*b2 + (1/3*w^11 + 2/3*w^9 - 8/3*w^7 + 7/3*w^5 - 4/3*w^3 + 7/3*w)*b3 + (5*w^10 - 4*w^8 - w^4 - w^2 + 5)*b4 + (-1/3*w^11 + 1/3*w^9 - 4/3*w^7 + 5/3*w^5 - 2/3*w^3 + 5/3*w)*b5 + (-5*w^10 + 3*w^8 + 2*w^4 + 2*w^2 - 3)*b6 + (-5/3*w^11 - 7/3*w^9 + 13/3*w^7 - 8/3*w^5 + 14/3*w^3 - 8/3*w)*b7 + (w^10 - w^8 + 2)*b8 + (2/3*w^11 + 7/3*w^9 - 16/3*w^7 + 14/3*w^5 - 14/3*w^3 + 14/3*w)*b9 + (2*w^10 - 2*w^8 + 2)*b10 + (-2/3*w^11 - 7/3*w^9 + 10/3*w^7 - 8/3*w^5 + 14/3*w^3 - 8/3*w)*b11],\n",
       " [a + (-5/3*w^11 + 2/3*w^9 - 2/3*w^7 + 7/3*w^5 - 4/3*w^3 + 7/3*w)*b1 + (-w^10 + w^4 + w^2 + 4)*b2 + (-10/3*w^11 - 5/3*w^9 + 2/3*w^7 + 8/3*w^5 + 10/3*w^3 + 8/3*w)*b3 + (-4*w^10 - w^8 + 5*w^4 + 5*w^2 + 2)*b4 + (-8/3*w^11 - 10/3*w^9 - 5/3*w^7 + 13/3*w^5 + 20/3*w^3 + 13/3*w)*b5 + (-2*w^10 - 4*w^8 + 6*w^4 + 6*w^2 + 5)*b6 + (-13/3*w^11 - 8/3*w^9 - 7/3*w^7 + 20/3*w^5 + 16/3*w^3 + 20/3*w)*b7 + (-5*w^10 - w^8 + 6*w^4 + 6*w^2 + 6)*b8 + (-20/3*w^11 - 10/3*w^9 + 4/3*w^7 + 16/3*w^5 + 20/3*w^3 + 16/3*w)*b9 + (-5*w^10 - w^8 + 6*w^4 + 6*w^2 + 6)*b10 + (-13/3*w^11 - 8/3*w^9 - 7/3*w^7 + 20/3*w^5 + 16/3*w^3 + 20/3*w)*b11, b0 + (2/3*w^11 + 1/3*w^9 - 1/3*w^7 - 1/3*w^5 - 2/3*w^3 - 1/3*w)*b1 + (w^10 - w^4 - w^2 - 2)*b2 + (7/3*w^11 + 2/3*w^9 + 1/3*w^7 - 8/3*w^5 - 4/3*w^3 - 8/3*w)*b3 + (2*w^10 + w^8 - 3*w^4 - 3*w^2 - 3)*b4 + (8/3*w^11 + 7/3*w^9 + 2/3*w^7 - 10/3*w^5 - 14/3*w^3 - 10/3*w)*b5 + (3*w^10 + 2*w^8 - 5*w^4 - 5*w^2 - 3)*b6 + (10/3*w^11 + 8/3*w^9 + 4/3*w^7 - 14/3*w^5 - 16/3*w^3 - 14/3*w)*b7 + (3*w^10 + 2*w^8 - 5*w^4 - 5*w^2 - 5)*b8 + (14/3*w^11 + 7/3*w^9 + 2/3*w^7 - 16/3*w^5 - 14/3*w^3 - 16/3*w)*b9 + (4*w^10 + w^8 - 5*w^4 - 5*w^2 - 5)*b10 + (13/3*w^11 + 8/3*w^9 + 1/3*w^7 - 14/3*w^5 - 16/3*w^3 - 14/3*w)*b11],\n",
       " [a + (13/3*w^11 - 10/3*w^9 - 8/3*w^7 - 5/3*w^5 + 20/3*w^3 - 5/3*w)*b1 + (w^10 - 6*w^8 + 5*w^4 + 5*w^2 - 6)*b2 + (8/3*w^11 - 5/3*w^9 - 10/3*w^7 + 2/3*w^5 + 10/3*w^3 + 2/3*w)*b3 + (w^8 - w^4 - w^2 + 4)*b4 + (-20/3*w^11 + 8/3*w^9 + 13/3*w^7 + 7/3*w^5 - 16/3*w^3 + 7/3*w)*b5 + (-4*w^10 + 6*w^8 - 2*w^4 - 2*w^2 + 5)*b6 + (-7/3*w^11 - 2/3*w^9 + 5/3*w^7 + 2/3*w^5 + 4/3*w^3 + 2/3*w)*b7 + (w^10 - 5*w^8 + 4*w^4 + 4*w^2 - 2)*b8 + (16/3*w^11 - 10/3*w^9 - 20/3*w^7 + 4/3*w^5 + 20/3*w^3 + 4/3*w)*b9 + (w^10 - 5*w^8 + 4*w^4 + 4*w^2 - 2)*b10 + (-7/3*w^11 - 2/3*w^9 + 5/3*w^7 + 2/3*w^5 + 4/3*w^3 + 2/3*w)*b11, b0 + (-13/3*w^11 + 7/3*w^9 + 8/3*w^7 + 5/3*w^5 - 14/3*w^3 + 5/3*w)*b1 + (-2*w^10 + 5*w^8 - 3*w^4 - 3*w^2 + 5)*b2 + (-8/3*w^11 + 2/3*w^9 + 7/3*w^7 + 1/3*w^5 - 4/3*w^3 + 1/3*w)*b3 + (-2*w^8 + 2*w^4 + 2*w^2 - 2)*b4 + (14/3*w^11 - 8/3*w^9 - 13/3*w^7 - 1/3*w^5 + 16/3*w^3 - 1/3*w)*b5 + (2*w^10 - 5*w^8 + 3*w^4 + 3*w^2 - 3)*b6 + (1/3*w^11 - 1/3*w^9 - 2/3*w^7 + 1/3*w^5 + 2/3*w^3 + 1/3*w)*b7 + (-2*w^10 + 4*w^8 - 2*w^4 - 2*w^2 + 3)*b8 + (-16/3*w^11 + 7/3*w^9 + 14/3*w^7 + 2/3*w^5 - 14/3*w^3 + 2/3*w)*b9 + (-w^10 + 3*w^8 - 2*w^4 - 2*w^2 + 3)*b10 + (4/3*w^11 - 1/3*w^9 - 5/3*w^7 + 1/3*w^5 + 2/3*w^3 + 1/3*w)*b11],\n",
       " [a + (-13/3*w^11 + 10/3*w^9 + 8/3*w^7 + 5/3*w^5 - 20/3*w^3 + 5/3*w)*b1 + (-w^10 + 6*w^8 - 5*w^4 - 5*w^2 + 6)*b2 + (-8/3*w^11 + 5/3*w^9 + 10/3*w^7 - 2/3*w^5 - 10/3*w^3 - 2/3*w)*b3 + (-w^8 + w^4 + w^2 - 4)*b4 + (20/3*w^11 - 8/3*w^9 - 13/3*w^7 - 7/3*w^5 + 16/3*w^3 - 7/3*w)*b5 + (4*w^10 - 6*w^8 + 2*w^4 + 2*w^2 - 5)*b6 + (7/3*w^11 + 2/3*w^9 - 5/3*w^7 - 2/3*w^5 - 4/3*w^3 - 2/3*w)*b7 + (-w^10 + 5*w^8 - 4*w^4 - 4*w^2 + 2)*b8 + (-16/3*w^11 + 10/3*w^9 + 20/3*w^7 - 4/3*w^5 - 20/3*w^3 - 4/3*w)*b9 + (-w^10 + 5*w^8 - 4*w^4 - 4*w^2 + 2)*b10 + (7/3*w^11 + 2/3*w^9 - 5/3*w^7 - 2/3*w^5 - 4/3*w^3 - 2/3*w)*b11, b0 + (10/3*w^11 - 7/3*w^9 - 8/3*w^7 - 2/3*w^5 + 14/3*w^3 - 2/3*w)*b1 + (w^10 - 5*w^8 + 4*w^4 + 4*w^2 - 5)*b2 + (8/3*w^11 - 5/3*w^9 - 7/3*w^7 - 1/3*w^5 + 10/3*w^3 - 1/3*w)*b3 + (w^8 - w^4 - w^2 + 2)*b4 + (-14/3*w^11 + 8/3*w^9 + 10/3*w^7 + 4/3*w^5 - 16/3*w^3 + 4/3*w)*b5 + (-2*w^10 + 5*w^8 - 3*w^4 - 3*w^2 + 4)*b6 + (-4/3*w^11 + 1/3*w^9 + 5/3*w^7 - 1/3*w^5 - 2/3*w^3 - 1/3*w)*b7 + (w^10 - 3*w^8 + 2*w^4 + 2*w^2 - 3)*b8 + (16/3*w^11 - 7/3*w^9 - 14/3*w^7 - 2/3*w^5 + 14/3*w^3 - 2/3*w)*b9 + (2*w^10 - 4*w^8 + 2*w^4 + 2*w^2 - 3)*b10 + (-1/3*w^11 + 1/3*w^9 + 2/3*w^7 - 1/3*w^5 - 2/3*w^3 - 1/3*w)*b11],\n",
       " [a + (-7/3*w^11 - 8/3*w^9 + 20/3*w^7 - 13/3*w^5 + 16/3*w^3 - 13/3*w)*b1 + (-5*w^10 + 4*w^8 + w^4 + w^2 - 2)*b2 + (-2/3*w^11 + 5/3*w^9 - 8/3*w^7 + 10/3*w^5 - 10/3*w^3 + 10/3*w)*b3 + (6*w^10 - 5*w^8 - w^4 - w^2 + 6)*b4 + (2/3*w^11 - 2/3*w^9 - 7/3*w^7 + 5/3*w^5 + 4/3*w^3 + 5/3*w)*b5 + (-6*w^10 + 2*w^8 + 4*w^4 + 4*w^2 - 5)*b6 + (-5/3*w^11 - 10/3*w^9 + 13/3*w^7 - 8/3*w^5 + 20/3*w^3 - 8/3*w)*b7 + (w^10 - w^8 + 4)*b8 + (-4/3*w^11 + 10/3*w^9 - 16/3*w^7 + 20/3*w^5 - 20/3*w^3 + 20/3*w)*b9 + (w^10 - w^8 + 4)*b10 + (-5/3*w^11 - 10/3*w^9 + 13/3*w^7 - 8/3*w^5 + 20/3*w^3 - 8/3*w)*b11, b0 + (1/3*w^11 + 8/3*w^9 - 14/3*w^7 + 13/3*w^5 - 16/3*w^3 + 13/3*w)*b1 + (3*w^10 - 2*w^8 - w^4 - w^2 + 3)*b2 + (-1/3*w^11 - 5/3*w^9 + 8/3*w^7 - 7/3*w^5 + 10/3*w^3 - 7/3*w)*b3 + (-5*w^10 + 3*w^8 + 2*w^4 + 2*w^2 - 5)*b4 + (1/3*w^11 - 1/3*w^9 + 1/3*w^7 - 2/3*w^5 + 2/3*w^3 - 2/3*w)*b5 + (5*w^10 - 3*w^8 - 2*w^4 - 2*w^2 + 4)*b6 + (2/3*w^11 + 7/3*w^9 - 10/3*w^7 + 8/3*w^5 - 14/3*w^3 + 8/3*w)*b7 + (-2*w^10 + 2*w^8 - 2)*b8 + (-2/3*w^11 - 7/3*w^9 + 16/3*w^7 - 14/3*w^5 + 14/3*w^3 - 14/3*w)*b9 + (-w^10 + w^8 - 2)*b10 + (5/3*w^11 + 7/3*w^9 - 13/3*w^7 + 8/3*w^5 - 14/3*w^3 + 8/3*w)*b11],\n",
       " [a + (5/3*w^11 - 2/3*w^9 + 2/3*w^7 - 7/3*w^5 + 4/3*w^3 - 7/3*w)*b1 + (w^10 - w^4 - w^2 - 4)*b2 + (10/3*w^11 + 5/3*w^9 - 2/3*w^7 - 8/3*w^5 - 10/3*w^3 - 8/3*w)*b3 + (4*w^10 + w^8 - 5*w^4 - 5*w^2 - 2)*b4 + (8/3*w^11 + 10/3*w^9 + 5/3*w^7 - 13/3*w^5 - 20/3*w^3 - 13/3*w)*b5 + (2*w^10 + 4*w^8 - 6*w^4 - 6*w^2 - 5)*b6 + (13/3*w^11 + 8/3*w^9 + 7/3*w^7 - 20/3*w^5 - 16/3*w^3 - 20/3*w)*b7 + (5*w^10 + w^8 - 6*w^4 - 6*w^2 - 6)*b8 + (20/3*w^11 + 10/3*w^9 - 4/3*w^7 - 16/3*w^5 - 20/3*w^3 - 16/3*w)*b9 + (5*w^10 + w^8 - 6*w^4 - 6*w^2 - 6)*b10 + (13/3*w^11 + 8/3*w^9 + 7/3*w^7 - 20/3*w^5 - 16/3*w^3 - 20/3*w)*b11, b0 + (-5/3*w^11 - 1/3*w^9 + 1/3*w^7 + 4/3*w^5 + 2/3*w^3 + 4/3*w)*b1 + (-2*w^10 + 2*w^4 + 2*w^2 + 2)*b2 + (-7/3*w^11 - 5/3*w^9 - 1/3*w^7 + 8/3*w^5 + 10/3*w^3 + 8/3*w)*b3 + (-2*w^10 - 2*w^8 + 4*w^4 + 4*w^2 + 3)*b4 + (-8/3*w^11 - 7/3*w^9 - 5/3*w^7 + 13/3*w^5 + 14/3*w^3 + 13/3*w)*b5 + (-3*w^10 - 2*w^8 + 5*w^4 + 5*w^2 + 4)*b6 + (-13/3*w^11 - 8/3*w^9 - 1/3*w^7 + 14/3*w^5 + 16/3*w^3 + 14/3*w)*b7 + (-4*w^10 - w^8 + 5*w^4 + 5*w^2 + 5)*b8 + (-14/3*w^11 - 7/3*w^9 - 2/3*w^7 + 16/3*w^5 + 14/3*w^3 + 16/3*w)*b9 + (-3*w^10 - 2*w^8 + 5*w^4 + 5*w^2 + 5)*b10 + (-10/3*w^11 - 8/3*w^9 - 4/3*w^7 + 14/3*w^5 + 16/3*w^3 + 14/3*w)*b11]]"
      ]
     },
     "execution_count": 25,
     "metadata": {},
     "output_type": "execute_result"
    }
   ],
   "source": [
    "Bo2=list();\n",
    "for i in range(len(ob2)):\n",
    "    RelHerm=(conjugate(transpose(R1ob2[i]))*H*(R1ob2[i])-H)\n",
    "    B=[RelHerm[0,0],(RelHerm[0,1]),(RelHerm[0,2]),RelHerm[1,0],(RelHerm[1,1]),(RelHerm[1,2]),RelHerm[2,0],RelHerm[2,1],(RelHerm[2,2])];\n",
    "    Bo2.append(B)\n",
    "Go2=list()\n",
    "for i in range(len(ob2)):\n",
    "    J=Pol.ideal(Bo2[i])\n",
    "    Grob=J.groebner_basis()\n",
    "    Go2.append(Grob)\n",
    "#∫Go2"
   ]
  },
  {
   "cell_type": "markdown",
   "metadata": {},
   "source": [
    "Notice that each element of the Groebner basis are linear polynomials. \n",
    "\n",
    "We solve the overdetermined system."
   ]
  },
  {
   "cell_type": "code",
   "execution_count": 27,
   "metadata": {},
   "outputs": [
    {
     "name": "stdout",
     "output_type": "stream",
     "text": [
      "[5*w^11 + 23*w^10 + 13*w^9 - 13*w^8 - 19*w^7 + 14*w^5 - 10*w^4 - 26*w^3 - 10*w^2 + 14*w + 15, 25*w^11 - 25*w^10 + 5*w^9 - w^8 - 47*w^7 + 22*w^5 + 26*w^4 - 10*w^3 + 26*w^2 + 22*w - 45, -5*w^11 + 5*w^10 - w^9 - w^8 + w^7 + 4*w^5 - 4*w^4 + 2*w^3 - 4*w^2 + 4*w - 9, -13*w^11 - w^10 - 5*w^9 + 11*w^8 - 13*w^7 + 26*w^5 - 10*w^4 + 10*w^3 - 10*w^2 + 26*w - 21, -209*w^11 - 169*w^10 - 133*w^9 - 97*w^8 - 53*w^7 + 262*w^5 + 266*w^4 + 266*w^3 + 266*w^2 + 262*w + 243, -w^11 - 31*w^10 - 77*w^9 - 97*w^8 - 67*w^7 + 68*w^5 + 128*w^4 + 154*w^3 + 128*w^2 + 68*w + 15, 13*w^11 + w^10 + 5*w^9 - 11*w^8 + 13*w^7 - 26*w^5 + 10*w^4 - 10*w^3 + 10*w^2 - 26*w + 21, 209*w^11 + 169*w^10 + 133*w^9 + 97*w^8 + 53*w^7 - 262*w^5 - 266*w^4 - 266*w^3 - 266*w^2 - 262*w - 243, -25*w^11 + 25*w^10 - 5*w^9 + w^8 + 47*w^7 - 22*w^5 - 26*w^4 + 10*w^3 - 26*w^2 - 22*w + 45, w^11 + 31*w^10 + 77*w^9 + 97*w^8 + 67*w^7 - 68*w^5 - 128*w^4 - 154*w^3 - 128*w^2 - 68*w - 15, 5*w^11 - 5*w^10 + w^9 + w^8 - w^7 - 4*w^5 + 4*w^4 - 2*w^3 + 4*w^2 - 4*w + 9, -5*w^11 - 23*w^10 - 13*w^9 + 13*w^8 + 19*w^7 - 14*w^5 + 10*w^4 + 26*w^3 + 10*w^2 - 14*w - 15]\n",
      "[-3*w^11 - 22*w^10 - 11*w^9 + 16*w^8 + 21*w^7 - 18*w^5 + 6*w^4 + 22*w^3 + 6*w^2 - 18*w - 19, -25*w^11 + 26*w^10 - 7*w^9 - 2*w^8 + 47*w^7 - 22*w^5 - 24*w^4 + 14*w^3 - 24*w^2 - 22*w + 47, 8*w^11 - 3*w^10 + 2*w^9 + 2*w^8 - w^7 - 7*w^5 + w^4 - 4*w^3 + w^2 - 7*w + 5, 12*w^11 - 2*w^10 + 4*w^9 - 12*w^8 + 12*w^7 - 24*w^5 + 14*w^4 - 8*w^3 + 14*w^2 - 24*w + 23, 218*w^11 + 178*w^10 + 140*w^9 + 102*w^8 + 56*w^7 - 274*w^5 - 280*w^4 - 280*w^3 - 280*w^2 - 274*w - 253, -6*w^11 + 27*w^10 + 76*w^9 + 98*w^8 + 69*w^7 - 63*w^5 - 125*w^4 - 152*w^3 - 125*w^2 - 63*w - 7, -11*w^11 + 3*w^10 - 3*w^9 + 13*w^8 - 11*w^7 + 22*w^5 - 16*w^4 + 6*w^3 - 16*w^2 + 22*w - 24, -217*w^11 - 177*w^10 - 139*w^9 - 101*w^8 - 55*w^7 + 272*w^5 + 278*w^4 + 278*w^3 + 278*w^2 + 272*w + 252, 26*w^11 - 25*w^10 + 8*w^9 + 3*w^8 - 46*w^7 + 20*w^5 + 22*w^4 - 16*w^3 + 22*w^2 + 20*w - 48, 7*w^11 - 26*w^10 - 75*w^9 - 97*w^8 - 68*w^7 + 61*w^5 + 123*w^4 + 150*w^3 + 123*w^2 + 61*w + 6, -7*w^11 + 4*w^10 - w^9 - w^8 + 2*w^7 + 5*w^5 - 3*w^4 + 2*w^3 - 3*w^2 + 5*w - 6, 4*w^11 + 23*w^10 + 12*w^9 - 15*w^8 - 20*w^7 + 16*w^5 - 8*w^4 - 24*w^3 - 8*w^2 + 16*w + 18]\n"
     ]
    }
   ],
   "source": [
    "Pola.<a>=PolynomialRing(K,'a')\n",
    "Polb.<b0>=PolynomialRing(K,'b0')\n",
    "aroots=list();\n",
    "broots=list();\n",
    "for i in range(len(ob1)):\n",
    "    aux=[Go1[i][0].substitute(b1=1,b2=1,b3=1,b4=1,b5=1,b6=1,b7=1,b8=1,b9=1,b10=1,b11=1),Go1[i][1].substitute(b1=1,b2=1,b3=1,b4=1,b5=1,b6=1,b7=1,b8=1,b9=1,b10=1,b11=1)]\n",
    "    aroots.append(Pola(aux[0]).roots(ring=K)[0][0])\n",
    "    broots.append(Polb(aux[1]).roots(ring=K)[0][0])\n",
    "print(aroots)\n",
    "print(broots)"
   ]
  },
  {
   "cell_type": "code",
   "execution_count": 30,
   "metadata": {},
   "outputs": [
    {
     "data": {
      "text/plain": [
       "Ring morphism:\n",
       "  From: Cyclotomic Field of order 36 and degree 12\n",
       "  To:   Algebraic Field\n",
       "  Defn: w |--> 0.6427876096865393? + 0.7660444431189781?*I"
      ]
     },
     "execution_count": 30,
     "metadata": {},
     "output_type": "execute_result"
    }
   ],
   "source": [
    "Kem=K.embeddings(QQbar)\n",
    "Kem[1]"
   ]
  },
  {
   "cell_type": "code",
   "execution_count": 34,
   "metadata": {},
   "outputs": [
    {
     "name": "stdout",
     "output_type": "stream",
     "text": [
      "No, 0 : [6.603681301496397? + 0.?e-16*I, -0.4679111137620440? + 0.?e-17*I, -1.192289225535020? + 0.?e-16*I]\n",
      "No, 1 : [-4.397763512766530? + 0.?e-35*I, -11.46935592802498? + 0.?e-35*I, -317.7053226912499? + 0.?e-34*I]\n",
      "No, 5 : [-1.193499426558007? + 0.?e-16*I, -1.830522398489525? + 0.?e-16*I, -8.26509184181645? + 0.?e-16*I]\n",
      "No, 6 : [1.917702005077002? + 0.?e-16*I, 0.3054072893322786? + 0.?e-18*I, -6.766185125926163? + 0.?e-16*I]\n",
      "No, 7 : [7.486090416195089? + 0.?e-31*I, 4.324038880577827? + 0.?e-31*I, 0.4144980009366486? + 0.?e-31*I]\n",
      "No, 8 : [19.48245359333454? + 0.?e-34*I, 12.41086117807610? + 0.?e-34*I, -1099.832089622069? + 0.?e-33*I]\n",
      "No, 9 : [6.766185125926163? + 0.?e-16*I, -0.3054072893322786? + 0.?e-18*I, -1.917702005077002? + 0.?e-16*I]\n",
      "No, 11 : [-0.4144980009366486? + 0.?e-31*I, -4.324038880577827? + 0.?e-31*I, -7.486090416195089? + 0.?e-31*I]\n",
      "No, 14 : [317.7053226912499? + 0.?e-34*I, 11.46935592802498? + 0.?e-35*I, 4.397763512766530? + 0.?e-35*I]\n",
      "No, 15 : [1099.832089622069? + 0.?e-33*I, -12.41086117807610? + 0.?e-34*I, -19.48245359333454? + 0.?e-34*I]\n",
      "No, 16 : [8.26509184181645? + 0.?e-16*I, 1.830522398489525? + 0.?e-16*I, 1.193499426558007? + 0.?e-16*I]\n",
      "No, 17 : [1.192289225535020? + 0.?e-16*I, 0.4679111137620440? + 0.?e-17*I, -6.603681301496397? + 0.?e-16*I]\n"
     ]
    }
   ],
   "source": [
    "Ho1=list();\n",
    "evo1=list()\n",
    "for i in range(len(ob1)):\n",
    "    aux=H.substitute(a=aroots[i],b0=broots[i],b1=1,b2=1,b3=1,b4=1,b5=1,b6=1,b7=1,b8=1,b9=1,b10=1,b11=1)\n",
    "    Ho1.append(aux)\n",
    "aux=matrix(QQbar,3,3,[[0,0,0],[0,0,0],[0,0,0]])\n",
    "for i in range(len(ob1)):\n",
    "    for j in range(3):\n",
    "        for k in range(3):\n",
    "            aux[j,k]=Kem[1](Ho1[i][j,k])\n",
    "    evo1.append(aux.eigenvalues())\n",
    "\n",
    "for i in range(len(ob1)):\n",
    "    print('No,', ob1[i],':', evo1[i])"
   ]
  },
  {
   "cell_type": "code",
   "execution_count": 35,
   "metadata": {},
   "outputs": [
    {
     "name": "stdout",
     "output_type": "stream",
     "text": [
      "[-7*w^11 - 3*w^10 - 5*w^9 - w^8 + 5*w^7 + 2*w^5 + 4*w^4 + 10*w^3 + 4*w^2 + 2*w + 7, 23*w^11 + 17*w^10 + 13*w^9 + 7*w^8 + 5*w^7 - 28*w^5 - 24*w^4 - 26*w^3 - 24*w^2 - 28*w - 23, -w^11 + w^10 + 7*w^9 + 9*w^8 + 5*w^7 - 4*w^5 - 10*w^4 - 14*w^3 - 10*w^2 - 4*w + 1, w^11 - w^10 - 7*w^9 - 9*w^8 - 5*w^7 + 4*w^5 + 10*w^4 + 14*w^3 + 10*w^2 + 4*w - 1, 7*w^11 + 3*w^10 + 5*w^9 + w^8 - 5*w^7 - 2*w^5 - 4*w^4 - 10*w^3 - 4*w^2 - 2*w - 7, -23*w^11 - 17*w^10 - 13*w^9 - 7*w^8 - 5*w^7 + 28*w^5 + 24*w^4 + 26*w^3 + 24*w^2 + 28*w + 23]\n",
      "[3*w^11 + w^10 + 4*w^9 + 2*w^8 - 3*w^7 - 3*w^4 - 8*w^3 - 3*w^2 - 3, -18*w^11 - 13*w^10 - 11*w^9 - 6*w^8 - 3*w^7 + 21*w^5 + 19*w^4 + 22*w^3 + 19*w^2 + 21*w + 18, 6*w^11 + 3*w^10 - 2*w^9 - 5*w^8 - 3*w^7 - 3*w^5 + 2*w^4 + 4*w^3 + 2*w^2 - 3*w - 6, -5*w^11 - 2*w^10 + 3*w^9 + 6*w^8 + 4*w^7 + w^5 - 4*w^4 - 6*w^3 - 4*w^2 + w + 5, -2*w^11 - 3*w^9 - w^8 + 4*w^7 - 2*w^5 + w^4 + 6*w^3 + w^2 - 2*w + 2, 19*w^11 + 14*w^10 + 12*w^9 + 7*w^8 + 4*w^7 - 23*w^5 - 21*w^4 - 24*w^3 - 21*w^2 - 23*w - 19]\n"
     ]
    }
   ],
   "source": [
    "Pola.<a>=PolynomialRing(K,'a')\n",
    "Polb.<b0>=PolynomialRing(K,'b0')\n",
    "aroots2=list();\n",
    "broots2=list();\n",
    "for i in range(len(ob2)):\n",
    "    aux=[Go2[i][0].substitute(b1=1,b2=1,b3=1,b4=1,b5=1,b6=1,b7=1,b8=1,b9=1,b10=1,b11=1),Go2[i][1].substitute(b1=1,b2=1,b3=1,b4=1,b5=1,b6=1,b7=1,b8=1,b9=1,b10=1,b11=1)]\n",
    "    aroots2.append(Pola(aux[0]).roots(ring=K)[0][0])\n",
    "    broots2.append(Polb(aux[1]).roots(ring=K)[0][0])\n",
    "print(aroots2)\n",
    "print(broots2)"
   ]
  },
  {
   "cell_type": "code",
   "execution_count": 37,
   "metadata": {},
   "outputs": [
    {
     "name": "stdout",
     "output_type": "stream",
     "text": [
      "No, 2 : [12.32032064588303? + 0.?e-16*I, 5.944049993843756? + 0.?e-16*I, 5.248728230624580? + 0.?e-16*I]\n",
      "No, 3 : [-0.9699257737648906? + 0.?e-34*I, -8.04151818902334? + 0.?e-33*I, -13.70345618396288? + 0.?e-33*I]\n",
      "No, 4 : [92.61851517322041? + 0.?e-34*I, 9.86438237365720? + 0.?e-35*I, 2.792789958398751? + 0.?e-35*I]\n",
      "No, 10 : [-2.792789958398751? + 0.?e-35*I, -9.86438237365720? + 0.?e-35*I, -92.61851517322041? + 0.?e-34*I]\n",
      "No, 12 : [-5.248728230624580? + 0.?e-16*I, -5.944049993843756? + 0.?e-16*I, -12.32032064588303? + 0.?e-16*I]\n",
      "No, 13 : [13.70345618396288? + 0.?e-33*I, 8.04151818902334? + 0.?e-33*I, 0.9699257737648906? + 0.?e-34*I]\n"
     ]
    }
   ],
   "source": [
    "Ho2=list();\n",
    "evo2=list()\n",
    "for i in range(len(ob2)):\n",
    "    aux=H.substitute(a=aroots2[i],b0=broots2[i],b1=1,b2=1,b3=1,b4=1,b5=1,b6=1,b7=1,b8=1,b9=1,b10=1,b11=1)\n",
    "    Ho2.append(aux)\n",
    "aux=matrix(QQbar,3,3,[[0,0,0],[0,0,0],[0,0,0]])\n",
    "for i in range(len(ob2)):\n",
    "    for j in range(3):\n",
    "        for k in range(3):\n",
    "            aux[j,k]=Kem[1](Ho2[i][j,k])\n",
    "    evo2.append(aux.eigenvalues())\n",
    "for i in range(len(ob2)):\n",
    "    print('No,', ob2[i],':', evo2[i])"
   ]
  },
  {
   "cell_type": "markdown",
   "metadata": {},
   "source": [
    "## 2. The degenerate configuration.\n",
    "\n",
    "The degenerate configuration is when one of the fixed point of $J$ belong to the fixed line of $R_1$. We can reduce this case by assuming tha the fixed  point of $J$ in question is $e_1.$\n",
    "\n",
    "On this configuration, $J$ correspond to a diagonal element of order three and $R_1$ preserve the same form as the non-degenerate configuration."
   ]
  },
  {
   "cell_type": "code",
   "execution_count": 60,
   "metadata": {},
   "outputs": [],
   "source": [
    "RR.<r1,r2,x,y>=PolynomialRing(K,['r1','r2','x','y'],order='lex');\n",
    "\n",
    "Jd=matrix(RR,3,3,[[1,0,0],[0,y,0],[0,0,y^2]])\n",
    "R1d=matrix(RR,3,3,[[1,-r1,r1],[0,1-r2,r2],[0,1-r2-x,r2+x]]);\n",
    "\n",
    "rel5d=((R1d*Jd)**(8));\n",
    "rel6d=((R1d*Jd*R1d*Jd*Jd*R1d*Jd*R1d*R1d*Jd*Jd*R1d*R1d*Jd*R1d*R1d*Jd*Jd));\n",
    "\n",
    "eq0d=[(rel5d[0,1]), (rel5d[0,2]), (rel5d[1,0]), (rel5d[1,2]), (rel5d[2,0]), (rel5d[2,1]), (rel6d[0,1]), (rel6d[0,2]), (rel6d[1,0]),(rel6d[1,2]),(rel6d[2,0]),(rel6d[2,1])];\n",
    "eq1d=[(rel5d[0,0]-rel5d[1,1]),(rel5d[1,1]-rel5d[2,2]),(rel6d[0,0]-rel6d[1,1]),(rel6d[1,1]-rel6d[2,2])];\n",
    "\n",
    "Bd=list();\n",
    "for i in range(len(eq0d)):\n",
    "    Bd.append(eq0d[i]);\n",
    "for i in range(len(eq1)):\n",
    "    Bd.append(eq1d[i]);\n",
    "Bd.append(y^2+y+1);"
   ]
  },
  {
   "cell_type": "markdown",
   "metadata": {},
   "source": [
    "We use Groebner basis to reduce the system $B_d.$ In the particular case of $(3,4),$ there is no solution."
   ]
  },
  {
   "cell_type": "code",
   "execution_count": 61,
   "metadata": {},
   "outputs": [
    {
     "name": "stdout",
     "output_type": "stream",
     "text": [
      "[1]\n"
     ]
    },
    {
     "data": {
      "text/plain": [
       "1"
      ]
     },
     "execution_count": 61,
     "metadata": {},
     "output_type": "execute_result"
    }
   ],
   "source": [
    "Jdegenerate=RR.ideal(Bd);\n",
    "Gdegenerate=Jdegenerate.groebner_basis()\n",
    "print(Gdegenerate)\n",
    "len(Gdegenerate)"
   ]
  }
 ],
 "metadata": {
  "kernelspec": {
   "display_name": "Sage 9.3",
   "language": "sage",
   "name": "sagemath_9_3_all"
  },
  "language_info": {
   "codemirror_mode": {
    "name": "ipython",
    "version": 3
   },
   "file_extension": ".py",
   "mimetype": "text/x-python",
   "name": "python",
   "nbconvert_exporter": "python",
   "pygments_lexer": "ipython3",
   "version": "3.9.2"
  }
 },
 "nbformat": 4,
 "nbformat_minor": 4
}

{
 "cells": [
  {
   "cell_type": "markdown",
   "metadata": {},
   "source": [
    "# The compact Deligne-Mostow $(5,2)$\n",
    "\n",
    "We want to determine the representations of the compact Deligne-Mostow lattice $(5,2)$ using the configurations of fixed subsets for $J$ and $R_1.$"
   ]
  },
  {
   "cell_type": "markdown",
   "metadata": {},
   "source": [
    "## 1. The non-degenerate configuration.\n",
    "\n",
    "The non-degenerate configuration of fixed subsets for $J$ and $R_1$ where the fixed points of $J$ does not belong to the fixed line of $R_1$ and does not coindice with the fixed point $R_1.$"
   ]
  },
  {
   "cell_type": "markdown",
   "metadata": {},
   "source": [
    "We initialize the problem, the set of parameters belong to the field-extension $\\mathbb{Q}(x^{24}-x^{21}+x^{15}-x^{12}+x^9-x^3+1).$"
   ]
  },
  {
   "cell_type": "code",
   "execution_count": 1,
   "metadata": {},
   "outputs": [],
   "source": [
    "K.<w>=CyclotomicField(45)\n",
    "RR.<r1,r2,y>=PolynomialRing(K,3,['r1','r2','y'],order='deglex');\n",
    "\n",
    "J=matrix(K,3,3,[[0,0,1],[-1,0,0],[0,1,0]]);\n",
    "R1=matrix(RR,3,3,[[1,-r1,r1],[0,1-r2,r2],[0,1-r2-y,r2+y]]);"
   ]
  },
  {
   "cell_type": "markdown",
   "metadata": {},
   "source": [
    "The group relations for the Deligne-Mostow $(5,2)$ are:\n",
    "\n",
    "$(R_1 J)^4=Id$\n",
    "    \n",
    "$R_1 J R_1 J^2 R_1 J R_1^4 J^2 R_1^4 J R_1^4 J^2=Id$\n",
    "\n",
    "that induce the system of equations on $B.$"
   ]
  },
  {
   "cell_type": "code",
   "execution_count": 2,
   "metadata": {},
   "outputs": [],
   "source": [
    "rel5=((R1*J)**(4));\n",
    "R14=(R1^4)\n",
    "rel6=((R1*J*R1*J*J*R1*J*R14*J*J*R14*J*R14*J*J))\n",
    "\n",
    "eq0=[(rel5[0,1]), (rel5[0,2]), (rel5[1,0]), (rel5[1,2]), (rel5[2,0]), (rel5[2,1]), (rel6[0,1]), (rel6[0,2]), (rel6[1,0]),(rel6[1,2]),(rel6[2,0]),(rel6[2,1])];\n",
    "eq1=[(rel5[0,0]-rel5[1,1]),(rel5[1,1]-rel5[2,2]),(rel6[0,0]-rel6[1,1]),(rel6[1,1]-rel6[2,2])];\n",
    "\n",
    "B=list();\n",
    "for i in range(len(eq0)):\n",
    "    B.append(eq0[i]);\n",
    "for i in range(len(eq1)):\n",
    "    B.append(eq1[i]);"
   ]
  },
  {
   "cell_type": "markdown",
   "metadata": {},
   "source": [
    "#### Groebner Basis\n",
    "\n",
    "We use Groebner basis to solve the system of equations $B.$"
   ]
  },
  {
   "cell_type": "code",
   "execution_count": 3,
   "metadata": {
    "scrolled": true
   },
   "outputs": [],
   "source": [
    "RR.<r1,r2,y>=PolynomialRing(K,3,['r1','r2','y'],order='deglex');\n",
    "\n",
    "\n",
    "Jideal=RR.ideal(B);\n",
    "G=Jideal.groebner_basis()\n",
    "#print('Number of elements in the Basis',len(G))\n",
    "#print('The basis is:')\n",
    "#print(G)"
   ]
  },
  {
   "cell_type": "markdown",
   "metadata": {},
   "source": [
    "We start to reduce the variables on the system of equations. The first variable that we will reduce is $y$ where the set of values is small. \n",
    "\n",
    "Recall that $y\\neq 1.$"
   ]
  },
  {
   "cell_type": "code",
   "execution_count": 4,
   "metadata": {
    "scrolled": true
   },
   "outputs": [
    {
     "name": "stdout",
     "output_type": "stream",
     "text": [
      "y^4 + y^3 + y^2 + y + 1\n"
     ]
    }
   ],
   "source": [
    "yroots=list();\n",
    "yideal=Jideal.elimination_ideal([r2,r1]);\n",
    "ypol=yideal.gens();\n",
    "print(ypol[0])\n",
    "aux=(SR(ypol[0])).roots(ring=K)\n",
    "for i in range(len(aux)):\n",
    "    yroots.append(aux[i][0])\n",
    "#print('y in',yroots)"
   ]
  },
  {
   "cell_type": "markdown",
   "metadata": {},
   "source": [
    "There exists four possible cases for $y.$ Notice that these four values of $y$ there are two pairs of complex conjugate numbers.\n",
    "\n",
    "We proceed to substitute $y$ on the Groebner basis $G$ and find the values of $r_j$ $(j=1,2).$"
   ]
  },
  {
   "cell_type": "markdown",
   "metadata": {},
   "source": [
    "#### Case 1:\n",
    "\n",
    "For the value of $y,$ we use Groebner basis on the system $G$ with the value of $y.$"
   ]
  },
  {
   "cell_type": "code",
   "execution_count": 5,
   "metadata": {},
   "outputs": [],
   "source": [
    "B1=list();\n",
    "for i in range(len(G)):\n",
    "    B1.append(G[i].substitute(y=yroots[0]))\n",
    "RR1.<r1,r2>=PolynomialRing(K,2,order='deglex')\n",
    "J1=RR1.ideal(B1)\n",
    "GB1=J1.groebner_basis()\n",
    "#print('Number of elements in the basis',len(GB1))\n",
    "#print('The basis is:')\n",
    "#print(GB1)"
   ]
  },
  {
   "cell_type": "markdown",
   "metadata": {},
   "source": [
    "The next polynomials define contains all possible values of $r_j.$"
   ]
  },
  {
   "cell_type": "code",
   "execution_count": 6,
   "metadata": {
    "scrolled": true
   },
   "outputs": [
    {
     "name": "stdout",
     "output_type": "stream",
     "text": [
      "Polynomio defining r2: (8) * (r2 + (-1/2*w^21 + 1/2*w^18 + 1/2*w^9 - 1/2*w^6 - 1/2)) * (r2 + (1/2*w^21 - 1/2*w^18 + 1/2*w^9 - 1/2*w^3 - 1/2)) * (r2 + (1/2*w^9 + 1/2*w^6 + 1/2*w^3 - 1/2))\n"
     ]
    }
   ],
   "source": [
    "#r1Ideal=J1.elimination_ideal([r2]);\n",
    "#r1pol=r1Ideal.gens();\n",
    "#print('Polynomio defining r1:', r1pol[0].factor())\n",
    "\n",
    "r2Ideal=J1.elimination_ideal([r1]);\n",
    "r2pol=r2Ideal.gens();\n",
    "\n",
    "print('Polynomio defining r2:', r2pol[0].factor())\n"
   ]
  },
  {
   "cell_type": "markdown",
   "metadata": {},
   "source": [
    "We collect all possible values of $r_2$ and substitute on the Groebner basis $GB_1.$"
   ]
  },
  {
   "cell_type": "code",
   "execution_count": 7,
   "metadata": {
    "scrolled": true
   },
   "outputs": [],
   "source": [
    "Poly.<r2>=PolynomialRing(K,'r2')\n",
    "r2roots=list();\n",
    "aux=Poly(r2pol[0]).roots(ring=K)\n",
    "for i in range(len(aux)):\n",
    "    r2roots.append(aux[i][0])\n",
    "#r2roots"
   ]
  },
  {
   "cell_type": "markdown",
   "metadata": {},
   "source": [
    "For each value of $r_2,$ we use Groebner basis and find the associated polynomial on $r_1$ associated to each $r_2.$"
   ]
  },
  {
   "cell_type": "code",
   "execution_count": 8,
   "metadata": {},
   "outputs": [],
   "source": [
    "Poly1.<r1,r2>=PolynomialRing(K,['r1','r2'],order='lex')\n",
    "Br1=list();\n",
    "for i in range(3):\n",
    "    B2=list();\n",
    "    for j in range(len(GB1)):\n",
    "        aux=Poly1(GB1[j]).substitute(r2=r2roots[i])\n",
    "        if aux==0:\n",
    "            continue\n",
    "        else:\n",
    "            B2.append(aux)\n",
    "    RR3.<r1>=PolynomialRing(K,['r1'],order='lex')\n",
    "    J3=RR3.ideal(B2)\n",
    "    G3=J3.groebner_basis(J3)\n",
    "    Br1.append(G3)\n",
    "    #print('r2 root No',i,':', Br1[i])"
   ]
  },
  {
   "cell_type": "code",
   "execution_count": 9,
   "metadata": {},
   "outputs": [],
   "source": [
    "Parameters=list();\n",
    "for i in range(3):\n",
    "    aux=Br1[i][0].roots(ring=K)\n",
    "    for j in range(len(aux)):\n",
    "        Parameters.append([yroots[0],aux[j][0],r2roots[i]])\n",
    "#for i in range(len(Parameters)):\n",
    "#    print('No ', i,':', Parameters[i])"
   ]
  },
  {
   "cell_type": "markdown",
   "metadata": {},
   "source": [
    "#### Case 2: \n",
    "\n",
    "We reproduce the same process for case 1, for the second value."
   ]
  },
  {
   "cell_type": "code",
   "execution_count": 10,
   "metadata": {},
   "outputs": [],
   "source": [
    "B1=list();\n",
    "for i in range(len(G)):\n",
    "    B1.append(G[i].substitute(y=yroots[1]))\n",
    "RR1.<r1,r2>=PolynomialRing(K,2,order='deglex')\n",
    "J1=RR1.ideal(B1)\n",
    "GB1=J1.groebner_basis()\n",
    "#print('Number of elements in the basis',len(GB1))\n",
    "#print('The basis is:')\n",
    "#print(GB1)"
   ]
  },
  {
   "cell_type": "code",
   "execution_count": 11,
   "metadata": {},
   "outputs": [
    {
     "name": "stdout",
     "output_type": "stream",
     "text": [
      "Polynomio defining r2: (8) * (r2 + (-1/2*w^9 - 1)) * (r2 + (1/2*w^18 + 1/2*w^12 + 1/2*w^6 - 1/2)) * (r2 + (w^18 - 1/2*w^12 + 1/2*w^9 - 1/2*w^6))\n"
     ]
    }
   ],
   "source": [
    "#r1Ideal1=J1.elimination_ideal([r2]);\n",
    "#r1pol1=r1Ideal1.gens();\n",
    "#print('Polynomio defining r1:', r1pol1[0].factor())\n",
    "\n",
    "\n",
    "r2Ideal1=J1.elimination_ideal([r1]);\n",
    "r2pol1=r2Ideal1.gens();\n",
    "print('Polynomio defining r2:', r2pol1[0].factor())"
   ]
  },
  {
   "cell_type": "code",
   "execution_count": 12,
   "metadata": {},
   "outputs": [],
   "source": [
    "r2roots1=list();\n",
    "aux=Poly(r2pol1[0]).roots(ring=K)\n",
    "for i in range(len(aux)):\n",
    "    r2roots1.append(aux[i][0])\n",
    "#r2roots1"
   ]
  },
  {
   "cell_type": "code",
   "execution_count": 13,
   "metadata": {
    "scrolled": false
   },
   "outputs": [],
   "source": [
    "Poly1.<r1,r2>=PolynomialRing(K,['r1','r2'],order='lex')\n",
    "Br12=list();\n",
    "for i in range(3):\n",
    "    B2=list();\n",
    "    for j in range(len(GB1)):\n",
    "        aux=Poly1(GB1[j]).substitute(r2=r2roots1[i])\n",
    "        if aux==0:\n",
    "            continue\n",
    "        else:\n",
    "            B2.append(aux)\n",
    "    RR3.<r1>=PolynomialRing(K,['r1'],order='lex')\n",
    "    J3=RR3.ideal(B2)\n",
    "    G3=J3.groebner_basis(J3)\n",
    "    Br12.append(G3)\n",
    "    #print('r2 root No',i,':', Br12[i])"
   ]
  },
  {
   "cell_type": "code",
   "execution_count": 14,
   "metadata": {},
   "outputs": [],
   "source": [
    "for i in range(len(r2roots1)):\n",
    "    aux=Br12[i][0].roots(ring=K)\n",
    "    for j in range(len(aux)):\n",
    "        Parameters.append([yroots[1],aux[j][0],r2roots1[i]])"
   ]
  },
  {
   "cell_type": "markdown",
   "metadata": {},
   "source": [
    "#### Case 3:\n",
    "\n",
    "We reproduce the same process for case 1, for the third value."
   ]
  },
  {
   "cell_type": "code",
   "execution_count": 15,
   "metadata": {},
   "outputs": [],
   "source": [
    "B3=list();\n",
    "for i in range(len(G)):\n",
    "    B3.append(G[i].substitute(y=yroots[2]))\n",
    "RR1.<r1,r2>=PolynomialRing(K,2,order='deglex')\n",
    "J3=RR1.ideal(B3)\n",
    "GB3=J3.groebner_basis()\n",
    "\n",
    "r2Ideal3=J3.elimination_ideal([r1]);\n",
    "r2pol3=r2Ideal3.gens();\n",
    "\n",
    "r2roots2=list();\n",
    "\n",
    "aux=Poly(r2pol3[0]).roots(ring=K)\n",
    "for i in range(len(aux)):\n",
    "    r2roots2.append(aux[i][0])\n"
   ]
  },
  {
   "cell_type": "code",
   "execution_count": 16,
   "metadata": {},
   "outputs": [],
   "source": [
    "Br13=list();\n",
    "for i in range(len(r2roots2)):\n",
    "    B2=list();\n",
    "    for j in range(len(GB3)):\n",
    "        aux=Poly1(GB3[j]).substitute(r2=r2roots2[i])\n",
    "        if aux==0:\n",
    "            continue\n",
    "        else:\n",
    "            B2.append(aux)\n",
    "    RR3.<r1>=PolynomialRing(K,['r1'],order='lex')\n",
    "    J3=RR3.ideal(B2)\n",
    "    G3=J3.groebner_basis(J3)\n",
    "    Br13.append(G3)"
   ]
  },
  {
   "cell_type": "code",
   "execution_count": 17,
   "metadata": {},
   "outputs": [],
   "source": [
    "for i in range(len(r2roots2)):\n",
    "    aux=Br13[i][0].roots(ring=K)\n",
    "    for j in range(len(aux)):\n",
    "        Parameters.append([yroots[2],aux[j][0],r2roots2[i]])"
   ]
  },
  {
   "cell_type": "markdown",
   "metadata": {},
   "source": [
    "#### Case 4\n",
    "\n",
    "We reproduce the same process for case 1, for the forth value."
   ]
  },
  {
   "cell_type": "code",
   "execution_count": 18,
   "metadata": {},
   "outputs": [],
   "source": [
    "B4=list();\n",
    "for i in range(len(G)):\n",
    "    B4.append(G[i].substitute(y=yroots[3]))\n",
    "RR1.<r1,r2>=PolynomialRing(K,2,order='deglex')\n",
    "J4=RR1.ideal(B4)\n",
    "GB4=J4.groebner_basis()\n",
    "\n",
    "r2Ideal4=J4.elimination_ideal([r1]);\n",
    "r2pol4=r2Ideal4.gens();\n",
    "\n",
    "r2roots3=list();\n",
    "\n",
    "aux=Poly(r2pol4[0]).roots(ring=K)\n",
    "for i in range(len(aux)):\n",
    "    r2roots3.append(aux[i][0])"
   ]
  },
  {
   "cell_type": "code",
   "execution_count": 19,
   "metadata": {},
   "outputs": [],
   "source": [
    "Br14=list();\n",
    "for i in range(len(r2roots3)):\n",
    "    B2=list();\n",
    "    for j in range(len(GB4)):\n",
    "        aux=Poly1(GB4[j]).substitute(r2=r2roots3[i])\n",
    "        if aux==0:\n",
    "            continue\n",
    "        else:\n",
    "            B2.append(aux)\n",
    "    RR3.<r1>=PolynomialRing(K,['r1'],order='lex')\n",
    "    J3=RR3.ideal(B2)\n",
    "    G3=J3.groebner_basis(J3)\n",
    "    Br14.append(G3)"
   ]
  },
  {
   "cell_type": "code",
   "execution_count": 20,
   "metadata": {},
   "outputs": [],
   "source": [
    "for i in range(len(r2roots2)):\n",
    "    aux=Br14[i][0].roots(ring=K)\n",
    "    for j in range(len(aux)):\n",
    "        Parameters.append([yroots[3],aux[j][0],r2roots3[i]])"
   ]
  },
  {
   "cell_type": "code",
   "execution_count": 21,
   "metadata": {},
   "outputs": [
    {
     "name": "stdout",
     "output_type": "stream",
     "text": [
      "No.  0 : [w^9, 1/2*w^9 + 1/2*w^6 - 1/2*w^3 - 1/2, -1/2*w^9 - 1/2*w^6 - 1/2*w^3 + 1/2]\n",
      "No.  1 : [w^9, -1/2*w^21 - 1/2*w^18 + 1/2*w^9 - 1/2*w^6 - 1/2, 1/2*w^21 - 1/2*w^18 - 1/2*w^9 + 1/2*w^6 + 1/2]\n",
      "No.  2 : [w^9, 1/2*w^21 + 1/2*w^18 + 1/2*w^9 + 1/2*w^3 - 1/2, -1/2*w^21 + 1/2*w^18 - 1/2*w^9 + 1/2*w^3 + 1/2]\n",
      "No.  3 : [w^18, w^21 - 1/2*w^9 + w^6 - 1, 1/2*w^9 + 1]\n",
      "No.  4 : [w^18, 1/2*w^18 + 1/2*w^12 - 1/2*w^6 - 1/2, -1/2*w^18 - 1/2*w^12 - 1/2*w^6 + 1/2]\n",
      "No.  5 : [w^18, -w^21 + w^18 - 1/2*w^12 + 1/2*w^9 - 1/2*w^6, -w^18 + 1/2*w^12 - 1/2*w^9 + 1/2*w^6]\n",
      "No.  6 : [w^21 - w^18 - w^9 + w^6 - 1, w^21 - w^18 - 1/2*w^15 + 1/2*w^12 - 1/2*w^9 + 1/2*w^6 - 3/2, w^18 - 1/2*w^15 + 1/2*w^12 + 1/2*w^9 - 1/2*w^6 + w^3 + 1/2]\n",
      "No.  7 : [w^21 - w^18 - w^9 + w^6 - 1, 1/2*w^21 - w^9 + 1/2*w^6 - 1, -1/2*w^21 - 1/2*w^6 + 1]\n",
      "No.  8 : [w^21 - w^18 - w^9 + w^6 - 1, -1/2*w^18 + 1/2*w^15 - 1/2*w^12 + 1/2*w^6 - 1/2, -w^21 + 1/2*w^18 + 1/2*w^15 - 1/2*w^12 + w^9 - 1/2*w^6 - w^3 + 3/2]\n",
      "No.  9 : [-w^21 - w^6, -1/2*w^15 - 1/2*w^9 - 1/2*w^6 + 1/2*w^3 - 1, 1/2*w^15 - w^12 + 1/2*w^9 + 1/2*w^6 - 1/2*w^3 + 1]\n",
      "No.  10 : [-w^21 - w^6, -w^21 + 1/2*w^18 + w^9 - w^6, 1/2*w^18 + 1]\n",
      "No.  11 : [-w^21 - w^6, -1/2*w^21 - 1/2*w^18 + 1/2*w^15 - 1/2*w^9 - 1/2*w^3 - 1/2, 3/2*w^21 - 1/2*w^18 - 1/2*w^15 + w^12 - 1/2*w^9 + w^6 + 1/2*w^3 - 1/2]\n"
     ]
    }
   ],
   "source": [
    "for i in range(len(Parameters)):\n",
    "    print('No. ',i,':', Parameters[i])"
   ]
  },
  {
   "cell_type": "markdown",
   "metadata": {},
   "source": [
    "## 1.1 The Galois group action.\n",
    "\n",
    "The Galois group action on $\\mathbb{Q}(x^{24}-x^{21}+x^{15}-x^{12}+x^9-x^3+1)$ induce one in the set of parameters. Such action induce a partition by orbits on the set of parameters."
   ]
  },
  {
   "cell_type": "code",
   "execution_count": 22,
   "metadata": {},
   "outputs": [],
   "source": [
    "Gal=K.galois_group()\n"
   ]
  },
  {
   "cell_type": "markdown",
   "metadata": {},
   "source": [
    "We compute the orbits."
   ]
  },
  {
   "cell_type": "code",
   "execution_count": 23,
   "metadata": {},
   "outputs": [
    {
     "name": "stdout",
     "output_type": "stream",
     "text": [
      "[0, 2, 4, 5, 6, 8, 9, 11]\n"
     ]
    }
   ],
   "source": [
    "from sage.structure.list_clone_demo import IncreasingLists\n",
    "ob1=[0]\n",
    "x=IncreasingLists()([1..17])\n",
    "j=1;\n",
    "k=0;\n",
    "while j<(len(Parameters)):\n",
    "    while k<len(Gal)-1:\n",
    "        aux0=(Gal[k+1])(Parameters[j][0])\n",
    "        aux1=(Gal[k+1])(Parameters[j][1])\n",
    "        aux2=(Gal[k+1])(Parameters[j][2])\n",
    "        if aux0-Gal[0](Parameters[0][0])==0 and aux1-Gal[0](Parameters[0][1])==0 and aux2-Gal[0](Parameters[0][2])==0:\n",
    "            ob1.append(j)\n",
    "            k=len(Gal)\n",
    "            \n",
    "        else:\n",
    "            k=k+1\n",
    "    k=0;\n",
    "    j=j+1;\n",
    "print(ob1)"
   ]
  },
  {
   "cell_type": "code",
   "execution_count": 24,
   "metadata": {},
   "outputs": [
    {
     "name": "stdout",
     "output_type": "stream",
     "text": [
      "[1, 3, 7, 10]\n"
     ]
    }
   ],
   "source": [
    "ob2=list()\n",
    "x=IncreasingLists()([0..17])\n",
    "j=1;\n",
    "k=0;\n",
    "while j<(len(Parameters)):\n",
    "    while k<len(Gal)-1:\n",
    "        aux0=(Gal[k+1])(Parameters[j][0])\n",
    "        aux1=(Gal[k+1])(Parameters[j][1])\n",
    "        aux2=(Gal[k+1])(Parameters[j][2])\n",
    "        if aux0-Gal[0](Parameters[1][0])==0 and aux1-Gal[0](Parameters[1][1])==0 and aux2-Gal[0](Parameters[1][2])==0:\n",
    "            ob2.append(j)\n",
    "            k=len(Gal)\n",
    "            \n",
    "        else:\n",
    "            k=k+1\n",
    "    k=0;\n",
    "    j=j+1;\n",
    "print(ob2)"
   ]
  },
  {
   "cell_type": "markdown",
   "metadata": {},
   "source": [
    "Notice that these two orbits are disjoint and all parameters are in one of them."
   ]
  },
  {
   "cell_type": "code",
   "execution_count": 25,
   "metadata": {},
   "outputs": [
    {
     "data": {
      "text/plain": [
       "True"
      ]
     },
     "execution_count": 25,
     "metadata": {},
     "output_type": "execute_result"
    }
   ],
   "source": [
    "len(ob1)+len(ob2)==len(Parameters)"
   ]
  },
  {
   "cell_type": "markdown",
   "metadata": {},
   "source": [
    "## 1.2 The associated Hermitian form\n",
    "\n",
    "As these set of parameters provide a representation of the Deligne-Mostow (5,2) in $PGL(3,\\mathbb{C})$, we should have a representation whose image group is conjugated to a $PU(2,1)$ subgroup. To determine this representation we need to determine the Hermitian form preserved by the group image and compute its signature. \n",
    "\n",
    "From the initial data of our representation, an Hermitian form $H$ should satisfy the equation $(J^*)HJ=H.$ This imply that $H$ is of the form:\n",
    "\n",
    "$H=\\begin{bmatrix}\n",
    "a&-\\overline{c}&c\\\\-c& a&\\overline{c}\\\\ \\overline{c}&c&a\n",
    "\\end{bmatrix}$\n",
    "\n",
    "Therefore, in order to compute the values of $a$ and $c,$ we need to solve the equation ${R_1}^* H R_1=H$ for all possible parameters $(y,r_1,r_2).$"
   ]
  },
  {
   "cell_type": "markdown",
   "metadata": {},
   "source": [
    "Initialize the values of $c$ an $\\overline{c}$ as polynomials with coefficients on $\\mathbb{Q}(x^{24}-x^{21}+x^{15}-x^{12}+x^9-x^3+1)[\\cdot].$\n",
    "\n",
    "$c=\\sum_{j=0}^{23}b_j w^{j},$ where $\\{1,w^j\\}_{j=1}^{23}$ is the integral basis of $\\mathbb{Q}(x^{24}-x^{21}+x^{15}-x^{12}+x^9-x^3+1).$"
   ]
  },
  {
   "cell_type": "code",
   "execution_count": 26,
   "metadata": {
    "scrolled": true
   },
   "outputs": [
    {
     "name": "stdout",
     "output_type": "stream",
     "text": [
      "[                                                                                                                                                                                                                                                                                                                                                                                                                                                                                                                                                                                                                                                                                                                   a       -b0 + (w^23 - w^20 + w^14 - w^11 + w^8 - w^2)*b1 + (w^22 - w^19 + w^13 - w^10 + w^7 - w)*b2 + (w^21 - w^18 + w^12 - w^9 + w^6 - 1)*b3 + (w^23 - w^17 + w^14 + w^5 - w^2)*b4 + (w^22 - w^16 + w^13 + w^4 - w)*b5 + (w^21 - w^15 + w^12 + w^3 - 1)*b6 + (w^23 + w^8)*b7 + (w^22 + w^7)*b8 + (w^21 + w^6)*b9 + (w^20 + w^5)*b10 + (w^19 + w^4)*b11 + (w^18 + w^3)*b12 + (w^17 + w^2)*b13 + (w^16 + w)*b14 + (w^15 + 1)*b15 + (-w^23 + w^20 + w^11 - w^8 + w^2)*b16 + (-w^22 + w^19 + w^10 - w^7 + w)*b17 + (-w^21 + w^18 + w^9 - w^6 + 1)*b18 + (-w^23 + w^17 - w^14 + w^11 - w^5 + w^2)*b19 + (-w^22 + w^16 - w^13 + w^10 - w^4 + w)*b20 + (-w^21 + w^15 - w^12 + w^9 - w^3 + 1)*b21 + (-w^23)*b22 + (-w^22)*b23                                                                                                                                                                                                                                                                                                                                                                                                                            b0 + (w)*b1 + (w^2)*b2 + (w^3)*b3 + (w^4)*b4 + (w^5)*b5 + (w^6)*b6 + (w^7)*b7 + (w^8)*b8 + (w^9)*b9 + (w^10)*b10 + (w^11)*b11 + (w^12)*b12 + (w^13)*b13 + (w^14)*b14 + (w^15)*b15 + (w^16)*b16 + (w^17)*b17 + (w^18)*b18 + (w^19)*b19 + (w^20)*b20 + (w^21)*b21 + (w^22)*b22 + (w^23)*b23]\n",
      "[                                                                                                                                                                                                                                                                                                                                                                                                   -b0 + (-w)*b1 + (-w^2)*b2 + (-w^3)*b3 + (-w^4)*b4 + (-w^5)*b5 + (-w^6)*b6 + (-w^7)*b7 + (-w^8)*b8 + (-w^9)*b9 + (-w^10)*b10 + (-w^11)*b11 + (-w^12)*b12 + (-w^13)*b13 + (-w^14)*b14 + (-w^15)*b15 + (-w^16)*b16 + (-w^17)*b17 + (-w^18)*b18 + (-w^19)*b19 + (-w^20)*b20 + (-w^21)*b21 + (-w^22)*b22 + (-w^23)*b23                                                                                                                                                                                                                                                                                                                                                                                                                                                                                                                                                                                                                                                                                                                    a b0 + (-w^23 + w^20 - w^14 + w^11 - w^8 + w^2)*b1 + (-w^22 + w^19 - w^13 + w^10 - w^7 + w)*b2 + (-w^21 + w^18 - w^12 + w^9 - w^6 + 1)*b3 + (-w^23 + w^17 - w^14 - w^5 + w^2)*b4 + (-w^22 + w^16 - w^13 - w^4 + w)*b5 + (-w^21 + w^15 - w^12 - w^3 + 1)*b6 + (-w^23 - w^8)*b7 + (-w^22 - w^7)*b8 + (-w^21 - w^6)*b9 + (-w^20 - w^5)*b10 + (-w^19 - w^4)*b11 + (-w^18 - w^3)*b12 + (-w^17 - w^2)*b13 + (-w^16 - w)*b14 + (-w^15 - 1)*b15 + (w^23 - w^20 - w^11 + w^8 - w^2)*b16 + (w^22 - w^19 - w^10 + w^7 - w)*b17 + (w^21 - w^18 - w^9 + w^6 - 1)*b18 + (w^23 - w^17 + w^14 - w^11 + w^5 - w^2)*b19 + (w^22 - w^16 + w^13 - w^10 + w^4 - w)*b20 + (w^21 - w^15 + w^12 - w^9 + w^3 - 1)*b21 + (w^23)*b22 + (w^22)*b23]\n",
      "[b0 + (-w^23 + w^20 - w^14 + w^11 - w^8 + w^2)*b1 + (-w^22 + w^19 - w^13 + w^10 - w^7 + w)*b2 + (-w^21 + w^18 - w^12 + w^9 - w^6 + 1)*b3 + (-w^23 + w^17 - w^14 - w^5 + w^2)*b4 + (-w^22 + w^16 - w^13 - w^4 + w)*b5 + (-w^21 + w^15 - w^12 - w^3 + 1)*b6 + (-w^23 - w^8)*b7 + (-w^22 - w^7)*b8 + (-w^21 - w^6)*b9 + (-w^20 - w^5)*b10 + (-w^19 - w^4)*b11 + (-w^18 - w^3)*b12 + (-w^17 - w^2)*b13 + (-w^16 - w)*b14 + (-w^15 - 1)*b15 + (w^23 - w^20 - w^11 + w^8 - w^2)*b16 + (w^22 - w^19 - w^10 + w^7 - w)*b17 + (w^21 - w^18 - w^9 + w^6 - 1)*b18 + (w^23 - w^17 + w^14 - w^11 + w^5 - w^2)*b19 + (w^22 - w^16 + w^13 - w^10 + w^4 - w)*b20 + (w^21 - w^15 + w^12 - w^9 + w^3 - 1)*b21 + (w^23)*b22 + (w^22)*b23                                                                                                                                                                                                                                                                                                                                                                                                                            b0 + (w)*b1 + (w^2)*b2 + (w^3)*b3 + (w^4)*b4 + (w^5)*b5 + (w^6)*b6 + (w^7)*b7 + (w^8)*b8 + (w^9)*b9 + (w^10)*b10 + (w^11)*b11 + (w^12)*b12 + (w^13)*b13 + (w^14)*b14 + (w^15)*b15 + (w^16)*b16 + (w^17)*b17 + (w^18)*b18 + (w^19)*b19 + (w^20)*b20 + (w^21)*b21 + (w^22)*b22 + (w^23)*b23                                                                                                                                                                                                                                                                                                                                                                                                                                                                                                                                                                                                                                                                                                                    a]\n"
     ]
    }
   ],
   "source": [
    "Pol.<a,b0,b1,b2,b3,b4,b5,b6,b7,b8,b9,b10,b11,b12,b13,b14,b15,b16,b17,b18,b19,b20,b21,b22,b23>=PolynomialRing(K,['a','b0','b1','b2','b3','b4','b5','b6','b7','b8','b9','b10','b11','b12','b13','b14','b15','b16','b17','b18','b19','b20','b21','b22','b23'],order='lex')\n",
    "c=b0+b1*w+b2*w^2+b3*w^3+b4*w^4+b5*w^5+b6*w^6+b7*w^7+b8*w^8+b9*w^9+b10*w^(10)+b11*w^(11)+b12*w^12+b13*w^13+b14*w^14+b15*w^15+b16*w^16+b17*w^17+b18*w^18+b19*w^19+b20*w^20+b21*w^21+b22*w^22+b23*w^23;\n",
    "cconj=b0+b1*conjugate(w)+b2*conjugate(w^2)+b3*conjugate(w^3)+b4*conjugate(w^4)+b5*conjugate(w^5)+b6*conjugate(w^6)+b7*conjugate(w^7)+b8*conjugate(w^8)+b9*conjugate(w^9)+b10*conjugate(w^(10))+b11*conjugate(w^(11))+b12*conjugate(w^12)+b13*conjugate(w^13)+b14*conjugate(w^14)+b15*conjugate(w^15)+b16*conjugate(w^16)+b17*conjugate(w^17)+b18*conjugate(w^18)+b19*conjugate(w^19)+b20*conjugate(w^20)+b21*conjugate(w^21)+b22*conjugate(w^22)+b23*conjugate(w^23);\n",
    "H=matrix(Pol,3,3,[[a,-cconj,c],[-c,a,cconj],[cconj,c,a]]); print(H)"
   ]
  },
  {
   "cell_type": "code",
   "execution_count": 27,
   "metadata": {},
   "outputs": [],
   "source": [
    "R1ob1=list();\n",
    "R1ob2=list();\n",
    "for i in range(len(ob1)):\n",
    "    aux=matrix(K,3,3,[[1,-Parameters[ob1[i]][1],Parameters[ob1[i]][1]],[0,1-Parameters[ob1[i]][2],Parameters[ob1[i]][2]],[0,1-Parameters[ob1[i]][2]-Parameters[ob1[i]][0],Parameters[ob1[i]][2]+Parameters[ob1[i]][0]]])\n",
    "    R1ob1.append(aux)\n",
    "for i in range(len(ob2)):\n",
    "    aux=matrix(K,3,3,[[1,-Parameters[ob2[i]][1],Parameters[ob2[i]][1]],[0,1-Parameters[ob2[i]][2],Parameters[ob2[i]][2]],[0,1-Parameters[ob2[i]][2]-Parameters[ob2[i]][0],Parameters[ob2[i]][2]+Parameters[ob2[i]][0]]])\n",
    "    R1ob2.append(aux)"
   ]
  },
  {
   "cell_type": "markdown",
   "metadata": {},
   "source": [
    "For each orbit we compute the system of equations, and use Groebner basis for each element on the orbit."
   ]
  },
  {
   "cell_type": "code",
   "execution_count": 28,
   "metadata": {},
   "outputs": [
    {
     "data": {
      "text/plain": [
       "[[a + (-w^23 + w^20 + 2*w^19 - 2*w^17 - 4*w^16 + 3*w^14 + w^11 + 2*w^10 - 3*w^8 + w^2 - w)*b1 + (-w^22 + 2*w^20 + w^19 - 4*w^17 - 2*w^16 + 3*w^13 + 2*w^11 + w^10 - 3*w^7 - w^2 + w)*b2 + (w^21 - 3*w^18 - 2*w^15 + 5*w^12 + w^9 - 3*w^6 - w^3 + 1)*b3 + (-w^23 + 2*w^22 - 4*w^19 + w^17 - 3*w^14 + 2*w^13 + 4*w^11 - 3*w^5 - w^4 + w^2)*b4 + (2*w^23 - w^22 - 4*w^20 + w^16 + 2*w^14 - 3*w^13 + 4*w^10 - w^5 - 3*w^4 + w)*b5 + (-3*w^21 + w^15 - w^12 + 2*w^9 - w^6 - w^3 - 1)*b6 + (-w^23 - 2*w^22 + 2*w^13 - 2*w^11 - 2*w^10 + 3*w^8 - w^7 + 2*w^4 - 2*w^2 - 2*w)*b7 + (-2*w^23 - w^22 + 2*w^14 - 2*w^11 - 2*w^10 - w^8 + 3*w^7 + 2*w^5 - 2*w^2 - 2*w)*b8 + (-3*w^21 + 4*w^15 - 4*w^12 - w^9 + 5*w^6 - 4*w^3)*b9 + (2*w^23 - 2*w^22 - 3*w^20 + 4*w^16 + 2*w^14 - 4*w^13 - 2*w^11 + w^10 + 2*w^7 + 3*w^5 - 4*w^4 - 2*w^2 + 2*w)*b10 + (-2*w^23 + 2*w^22 - 3*w^19 + 4*w^17 - 4*w^14 + 2*w^13 + w^11 - 2*w^10 + 2*w^8 - 4*w^5 + 3*w^4 + 2*w^2 - 2*w)*b11 + (w^18 - 2*w^15 + w^12 + 2*w^9 - 4*w^6 + 3*w^3)*b12 + (2*w^23 - 2*w^22 + 4*w^19 - 3*w^17 - 2*w^16 + 2*w^14 - w^13 + 4*w^10 - 4*w^7 + w^2 + 2*w)*b13 + (-2*w^23 + 2*w^22 + 4*w^20 - 2*w^17 - 3*w^16 - w^14 + 2*w^13 + 4*w^11 - 4*w^8 + 2*w^2 + w)*b14 + (4*w^21 - 2*w^18 - 2*w^15 + 4*w^12 - 2*w^9 + 3)*b15 + (-w^23 + 2*w^22 + 3*w^20 - 2*w^19 + w^16 - 4*w^14 + 2*w^13 + 3*w^11 - 2*w^10 - w^8 + w^2 + 2*w)*b16 + (2*w^23 - w^22 - 2*w^20 + 3*w^19 + w^17 + 2*w^14 - 4*w^13 - 2*w^11 + 3*w^10 - w^7 + 2*w^2 + w)*b17 + (-w^21 + 4*w^18 - 4*w^12 + w^9 - w^6 + 4*w^3 - 1)*b18 + (-w^23 + w^19 + 3*w^17 - w^14 - 3*w^11 - 2*w^10 + 2*w^8 - w^5 + 4*w^4 + w^2 - 2*w)*b19 + (-w^22 + w^20 + 3*w^16 - w^13 - 2*w^11 - 3*w^10 + 2*w^7 + 4*w^5 - w^4 - 2*w^2 + w)*b20 + (3*w^15 - 3*w^12 - 3*w^9 + 6*w^6 - 3*w^3 + 1)*b21 + (-w^23 + w^22 + 2*w^14 - 2*w^13 - 4*w^8 + 4*w^7 + 2*w^5 - 2*w^4)*b22 + (w^23 - w^22 - 2*w^14 + 2*w^13 + 4*w^8 - 4*w^7 - 2*w^5 + 2*w^4)*b23, b0 + (-w^23 + w^20 - w^19 + w^17 + 2*w^16 - 3*w^14 + 2*w^13 - w^11 - 3*w^10 + 2*w^8 + 2*w^4 - w^2)*b1 + (-w^22 - w^20 + w^19 + 2*w^17 + w^16 + 2*w^14 - 3*w^13 - 3*w^11 - w^10 + 2*w^7 + 2*w^5 - w)*b2 + (-2*w^21 + 3*w^18 + 3*w^15 - 6*w^12 - w^9 + 4*w^6 - 1)*b3 + (w^23 - w^22 - 2*w^20 + 2*w^19 + w^17 + 2*w^16 + 2*w^14 - 3*w^13 - 4*w^11 + 2*w^7 + 2*w^5 - w^2)*b4 + (-w^23 + w^22 + 2*w^20 - 2*w^19 + 2*w^17 + w^16 - 3*w^14 + 2*w^13 - 4*w^10 + 2*w^8 + 2*w^4 - w)*b5 + (2*w^21 - w^15 + w^12 - w^9 + w^3)*b6 + (w^23 + w^22 + 2*w^19 - 2*w^17 - 2*w^16 + 2*w^14 - w^13 + w^11 + 3*w^10 - 3*w^8 - w^4 + w^2 + w)*b7 + (w^23 + w^22 + 2*w^20 - 2*w^17 - 2*w^16 - w^14 + 2*w^13 + 3*w^11 + w^10 - 3*w^7 - w^5 + w^2 + w)*b8 + (4*w^21 - 2*w^18 - 4*w^15 + 6*w^12 - 4*w^6 + 2*w^3)*b9 + (-w^23 + 3*w^22 + 2*w^20 - 2*w^19 - 2*w^16 - 3*w^14 + 4*w^13 + 3*w^11 - w^10 - w^7 - 3*w^5 + 2*w^4 + w^2 - w)*b10 + (3*w^23 - w^22 - 2*w^20 + 2*w^19 - 2*w^17 + 4*w^14 - 3*w^13 - w^11 + 3*w^10 - w^8 + 2*w^5 - 3*w^4 - w^2 + w)*b11 + (w^15 - w^12 - w^9 + 2*w^6 - w^3 - 2)*b12 + (-w^23 + w^22 - 2*w^19 + 2*w^17 + w^16 - w^14 + 2*w^13 - 2*w^11 - 4*w^10 + 2*w^8 + 2*w^7 + 2*w^4 - 2*w^2 - 3*w)*b13 + (w^23 - w^22 - 2*w^20 + w^17 + 2*w^16 + 2*w^14 - w^13 - 4*w^11 - 2*w^10 + 2*w^8 + 2*w^7 + 2*w^5 - 3*w^2 - 2*w)*b14 + (-2*w^21 + w^18 + 3*w^15 - 4*w^12 - w^9 + 4*w^6 - 2*w^3 - 3)*b15 + (2*w^23 - w^22 - 3*w^20 + w^19 + w^16 + 4*w^14 - 3*w^13 - 3*w^11 + w^10 + 2*w^7 + 2*w^5 - 2*w^4 - 2*w^2 - w)*b16 + (-w^23 + 2*w^22 + w^20 - 3*w^19 + w^17 - 3*w^14 + 4*w^13 + w^11 - 3*w^10 + 2*w^8 - 2*w^5 + 2*w^4 - w^2 - 2*w)*b17 + (2*w^21 - 2*w^18 - 2*w^15 + 4*w^12 - 2*w^6 - 1)*b18 + (2*w^23 + w^19 - 3*w^17 - 2*w^16 + 2*w^14 + 2*w^11 + 3*w^10 - w^8 - 2*w^7 - 2*w^4 + w)*b19 + (2*w^22 + w^20 - 2*w^17 - 3*w^16 + 2*w^13 + 3*w^11 + 2*w^10 - 2*w^8 - w^7 - 2*w^5 + w^2)*b20 + (3*w^21 - 2*w^18 - 3*w^15 + 5*w^12 - 3*w^6 + w^3)*b21 + (w^22 + 2*w^20 - 2*w^19 - 3*w^14 + 3*w^13 + 2*w^11 - 2*w^10 + 2*w^8 - 2*w^7 - w^5 + w^4)*b22 + (w^23 - 2*w^20 + 2*w^19 + 3*w^14 - 3*w^13 - 2*w^11 + 2*w^10 - 2*w^8 + 2*w^7 + w^5 - w^4)*b23],\n",
       " [a + (3*w^23 - 3*w^20 + 2*w^19 - 2*w^17 + 4*w^16 - w^14 - 3*w^11 + 2*w^10 + w^8 - 3*w^2 + 3*w)*b1 + (3*w^22 + 2*w^20 - 3*w^19 + 4*w^17 - 2*w^16 - w^13 + 2*w^11 - 3*w^10 + w^7 + 3*w^2 - 3*w)*b2 + (5*w^21 + w^18 - 2*w^15 + w^12 - 3*w^9 + w^6 + 3*w^3 - 3)*b3 + (3*w^23 + 2*w^22 + 4*w^19 - 3*w^17 + w^14 + 2*w^13 - 4*w^11 + w^5 + 3*w^4 - 3*w^2)*b4 + (2*w^23 + 3*w^22 + 4*w^20 - 3*w^16 + 2*w^14 + w^13 - 4*w^10 + 3*w^5 + w^4 - 3*w)*b5 + (9*w^21 - 3*w^15 + 3*w^12 - 6*w^9 + 3*w^6 + 3*w^3 - 5)*b6 + (3*w^23 + 6*w^22 + 2*w^13 - 2*w^11 - 2*w^10 - w^8 + 3*w^7 + 2*w^4 - 2*w^2 - 2*w)*b7 + (6*w^23 + 3*w^22 + 2*w^14 - 2*w^11 - 2*w^10 + 3*w^8 - w^7 + 2*w^5 - 2*w^2 - 2*w)*b8 + (9*w^21 - 4*w^15 + 4*w^12 - 5*w^9 + w^6 + 4*w^3 - 8)*b9 + (2*w^23 + 6*w^22 + w^20 - 4*w^16 + 2*w^14 + 4*w^13 - 2*w^11 - 3*w^10 + 2*w^7 - w^5 + 4*w^4 - 2*w^2 - 6*w)*b10 + (6*w^23 + 2*w^22 + w^19 - 4*w^17 + 4*w^14 + 2*w^13 - 3*w^11 - 2*w^10 + 2*w^8 + 4*w^5 - w^4 - 6*w^2 - 2*w)*b11 + (8*w^21 - 3*w^18 - 2*w^15 + 5*w^12 - 6*w^9 + 4*w^6 - w^3 - 8)*b12 + (2*w^23 + 6*w^22 - 4*w^19 + w^17 - 2*w^16 + 2*w^14 + 3*w^13 - 4*w^10 + 4*w^7 - 3*w^2 - 6*w)*b13 + (6*w^23 + 2*w^22 - 4*w^20 - 2*w^17 + w^16 + 3*w^14 + 2*w^13 - 4*w^11 + 4*w^8 - 6*w^2 - 3*w)*b14 + (4*w^21 - 2*w^18 - 2*w^15 + 4*w^12 - 2*w^9 - 9)*b15 + (3*w^23 + 2*w^22 - w^20 - 2*w^19 - 3*w^16 + 4*w^14 + 2*w^13 - w^11 - 2*w^10 + 3*w^8 - 3*w^2 - 6*w)*b16 + (2*w^23 + 3*w^22 - 2*w^20 - w^19 - 3*w^17 + 2*w^14 + 4*w^13 - 2*w^11 - w^10 + 3*w^7 - 6*w^2 - 3*w)*b17 + (3*w^21 - 4*w^18 + 4*w^12 - 3*w^9 + 3*w^6 - 4*w^3 - 5)*b18 + (3*w^23 - 3*w^19 - w^17 + 3*w^14 + w^11 - 2*w^10 + 2*w^8 + 3*w^5 - 4*w^4 - 3*w^2 - 2*w)*b19 + (3*w^22 - 3*w^20 - w^16 + 3*w^13 - 2*w^11 + w^10 + 2*w^7 - 4*w^5 + 3*w^4 - 2*w^2 - 3*w)*b20 + (-w^15 + w^12 + w^9 - 2*w^6 + w^3 - 3)*b21 + (3*w^23 - 3*w^22 + 2*w^14 - 2*w^13 + 4*w^8 - 4*w^7 + 2*w^5 - 2*w^4)*b22 + (-3*w^23 + 3*w^22 - 2*w^14 + 2*w^13 - 4*w^8 + 4*w^7 - 2*w^5 + 2*w^4)*b23, b0 + (-w^23 - 2*w^22 + 3*w^20 - w^19 + w^17 - 2*w^16 + w^14 - 2*w^13 + 3*w^11 - w^10 - 2*w^7 + 2*w^5 - 2*w^4 + 3*w^2)*b1 + (-2*w^23 - w^22 - w^20 + 3*w^19 - 2*w^17 + w^16 - 2*w^14 + w^13 - w^11 + 3*w^10 - 2*w^8 - 2*w^5 + 2*w^4 + 3*w)*b2 + (-4*w^21 + w^18 + w^15 - 2*w^12 + 3*w^9 - 2*w^6 + 5)*b3 + (-3*w^23 - 3*w^22 + 2*w^20 - 2*w^19 + 3*w^17 - 2*w^14 - 3*w^13 + 4*w^11 - 2*w^7 - 2*w^4 + 5*w^2 + 2*w)*b4 + (-3*w^23 - 3*w^22 - 2*w^20 + 2*w^19 + 3*w^16 - 3*w^14 - 2*w^13 + 4*w^10 - 2*w^8 - 2*w^5 + 2*w^2 + 5*w)*b5 + (-8*w^21 + 2*w^18 + 3*w^15 - 5*w^12 + 5*w^9 - 2*w^6 - w^3 + 8)*b6 + (-5*w^23 - 5*w^22 + 2*w^20 + 2*w^17 - 2*w^14 - 3*w^13 + 3*w^11 + w^10 - w^8 - 2*w^7 - w^4 + 5*w^2 + 3*w)*b7 + (-5*w^23 - 5*w^22 + 2*w^19 + 2*w^16 - 3*w^14 - 2*w^13 + w^11 + 3*w^10 - 2*w^8 - w^7 - w^5 + 3*w^2 + 5*w)*b8 + (-10*w^21 + 2*w^18 + 4*w^15 - 6*w^12 + 6*w^9 - 2*w^6 - 2*w^3 + 10)*b9 + (-5*w^23 - 5*w^22 + 2*w^17 + 2*w^16 - 3*w^14 - 4*w^13 + 3*w^11 + 3*w^10 - 2*w^8 - w^7 - w^5 - 2*w^4 + 5*w^2 + 5*w)*b10 + (-5*w^23 - 5*w^22 + 2*w^17 + 2*w^16 - 4*w^14 - 3*w^13 + 3*w^11 + 3*w^10 - w^8 - 2*w^7 - 2*w^5 - w^4 + 5*w^2 + 5*w)*b11 + (-10*w^21 + 2*w^18 + 3*w^15 - 5*w^12 + 7*w^9 - 4*w^6 - w^3 + 10)*b12 + (-5*w^23 - 5*w^22 + 2*w^19 + w^16 - 3*w^14 - 2*w^13 + 2*w^11 + 4*w^10 - 2*w^8 - 2*w^7 - 2*w^5 + 4*w^2 + 5*w)*b13 + (-5*w^23 - 5*w^22 + 2*w^20 + w^17 - 2*w^14 - 3*w^13 + 4*w^11 + 2*w^10 - 2*w^8 - 2*w^7 - 2*w^4 + 5*w^2 + 4*w)*b14 + (-8*w^21 + w^18 + 3*w^15 - 4*w^12 + 5*w^9 - 2*w^6 - 2*w^3 + 9)*b15 + (-4*w^23 - 3*w^22 - w^20 + w^19 + 3*w^16 - 4*w^14 - w^13 + w^11 + 3*w^10 - 2*w^8 - 2*w^5 + 2*w^2 + 5*w)*b16 + (-3*w^23 - 4*w^22 + w^20 - w^19 + 3*w^17 - w^14 - 4*w^13 + 3*w^11 + w^10 - 2*w^7 - 2*w^4 + 5*w^2 + 2*w)*b17 + (-6*w^21 + 2*w^18 + 2*w^15 - 4*w^12 + 4*w^9 - 2*w^6 + 5)*b18 + (-2*w^23 - 2*w^22 - 2*w^20 + 3*w^19 - w^17 + 2*w^16 - 2*w^14 - 2*w^11 + 3*w^10 - w^8 - 2*w^5 + 2*w^4 + 3*w)*b19 + (-2*w^23 - 2*w^22 + 3*w^20 - 2*w^19 + 2*w^17 - w^16 - 2*w^13 + 3*w^11 - 2*w^10 - w^7 + 2*w^5 - 2*w^4 + 3*w^2)*b20 + (-w^21 + w^15 - w^12 + w^6 - w^3 + 2)*b21 + (w^22 - 2*w^20 + 2*w^19 - 2*w^17 + 2*w^16 - w^14 + w^13 - 2*w^11 + 2*w^10 - 2*w^8 + 2*w^7 - w^5 + w^4 - 2*w^2 + 2*w)*b22 + (w^23 + 2*w^20 - 2*w^19 + 2*w^17 - 2*w^16 + w^14 - w^13 + 2*w^11 - 2*w^10 + 2*w^8 - 2*w^7 + w^5 - w^4 + 2*w^2 - 2*w)*b23],\n",
       " [a + (3*w^23 - 2*w^22 - w^20 + 2*w^19 - 2*w^17 + 4*w^16 - w^14 - 3*w^11 + 3*w^8 - 2*w^7 + 2*w^5 - 3*w^2 + 3*w)*b1 + (-2*w^23 + 3*w^22 + 2*w^20 - w^19 + 4*w^17 - 2*w^16 - w^13 - 3*w^10 - 2*w^8 + 3*w^7 + 2*w^4 + 3*w^2 - 3*w)*b2 + (3*w^21 + 3*w^18 - 3*w^12 - 3*w^9 + 3*w^6 + 3*w^3 - 1)*b3 + (3*w^23 + 4*w^19 - w^17 + 2*w^16 + w^14 - 2*w^13 - 4*w^11 + 3*w^5 + w^4 - w^2 + 2*w)*b4 + (3*w^22 + 4*w^20 + 2*w^17 - w^16 - 2*w^14 + w^13 - 4*w^10 + w^5 + 3*w^4 + 2*w^2 - w)*b5 + (7*w^21 + 2*w^18 - 3*w^15 + w^12 - 4*w^9 + w^6 + 5*w^3 - 1)*b6 + (w^23 + 4*w^22 + 2*w^20 + 2*w^19 - 2*w^16 - 3*w^8 + w^7 + 2*w^4 + 2*w^2)*b7 + (4*w^23 + w^22 + 2*w^20 + 2*w^19 - 2*w^17 + w^8 - 3*w^7 + 2*w^5 + 2*w)*b8 + (7*w^21 - 4*w^15 + 4*w^12 - 3*w^9 - w^6 + 4*w^3 - 2)*b9 + (-2*w^23 + 6*w^22 + 3*w^20 - 2*w^19 + 2*w^17 - 4*w^16 - 2*w^14 + 4*w^13 + 2*w^11 - 3*w^10 - 2*w^8 + 2*w^7 - 3*w^5 + 4*w^4 + 2*w^2 - 4*w)*b10 + (6*w^23 - 2*w^22 - 2*w^20 + 3*w^19 - 4*w^17 + 2*w^16 + 4*w^14 - 2*w^13 - 3*w^11 + 2*w^10 + 2*w^8 - 2*w^7 + 4*w^5 - 3*w^4 - 4*w^2 + 2*w)*b11 + (2*w^21 - w^18 + w^12 - 2*w^9 + 2*w^6 - w^3 - 4)*b12 + (-2*w^23 + 4*w^22 - 4*w^19 + 3*w^17 - 2*w^16 + 3*w^13 - 4*w^10 + 4*w^7 - 2*w^5 + 2*w^4 - w^2 - 6*w)*b13 + (4*w^23 - 2*w^22 - 4*w^20 - 2*w^17 + 3*w^16 + 3*w^14 - 4*w^11 + 4*w^8 + 2*w^5 - 2*w^4 - 6*w^2 - w)*b14 + (-2*w^21 - 2*w^18 + 2*w^15 + 2*w^6 - 4*w^3 - 5)*b15 + (w^23 - 3*w^20 - 2*w^19 - w^16 + 4*w^14 - w^11 + w^8 + 2*w^7 - 2*w^4 - 3*w^2 - 4*w)*b16 + (w^22 - 2*w^20 - 3*w^19 - w^17 + 4*w^13 - w^10 + 2*w^8 + w^7 - 2*w^5 - 4*w^2 - 3*w)*b17 + (-w^21 - 4*w^18 + 4*w^12 + w^9 - w^6 - 4*w^3 - 3)*b18 + (3*w^23 - 2*w^22 - 2*w^20 - w^19 - 3*w^17 + 3*w^14 + w^11 + 2*w^10 + 2*w^8 - 2*w^7 + w^5 - 4*w^4 - 3*w^2)*b19 + (-2*w^23 + 3*w^22 - w^20 - 2*w^19 - 3*w^16 + 3*w^13 + 2*w^11 + w^10 - 2*w^8 + 2*w^7 - 4*w^5 + w^4 - 3*w)*b20 + (-2*w^18 - w^15 + 3*w^12 + w^9 - 2*w^6 - w^3 - 1)*b21 + (3*w^23 - 3*w^22 - 2*w^17 + 2*w^16 + 4*w^8 - 4*w^7 + 2*w^5 - 2*w^4 - 2*w^2 + 2*w)*b22 + (-3*w^23 + 3*w^22 + 2*w^17 - 2*w^16 - 4*w^8 + 4*w^7 - 2*w^5 + 2*w^4 + 2*w^2 - 2*w)*b23, b0 + (-5*w^23 + 3*w^22 + 2*w^20 - 3*w^19 + 3*w^17 - 4*w^16 - w^14 + 2*w^13 + 3*w^11 - 2*w^10 - 3*w^8 + 3*w^7 - 3*w^5 + 2*w^4 + 3*w^2 - 4*w)*b1 + (3*w^23 - 5*w^22 - 3*w^20 + 2*w^19 - 4*w^17 + 3*w^16 + 2*w^14 - w^13 - 2*w^11 + 3*w^10 + 3*w^8 - 3*w^7 + 2*w^5 - 3*w^4 - 4*w^2 + 3*w)*b2 + (-5*w^21 - 2*w^18 + 2*w^15 + 3*w^9 - w^6 - 4*w^3)*b3 + (-3*w^23 - 2*w^20 - 4*w^19 + 2*w^17 - w^16 + w^13 + 2*w^11 + 2*w^7 - 3*w^5 - w^4 - 3*w)*b4 + (-3*w^22 - 4*w^20 - 2*w^19 - w^17 + 2*w^16 + w^14 + 2*w^10 + 2*w^8 - w^5 - 3*w^4 - 3*w^2)*b5 + (-7*w^21 - 3*w^18 + 3*w^15 + 4*w^9 - w^6 - 6*w^3)*b6 + (-4*w^22 - 3*w^20 - w^19 - 2*w^17 + w^16 + 2*w^14 + 2*w^10 + 2*w^8 - w^7 - 3*w^4 - 3*w^2)*b7 + (-4*w^23 - w^20 - 3*w^19 + w^17 - 2*w^16 + 2*w^13 + 2*w^11 - w^8 + 2*w^7 - 3*w^5 - 3*w)*b8 + (-5*w^21 - 2*w^18 + 2*w^15 + 3*w^9 - w^6 - 4*w^3 + 1)*b9 + (3*w^23 - 5*w^22 - 3*w^20 + w^19 - 3*w^17 + 4*w^16 + w^14 - 2*w^13 - w^11 + 3*w^10 + 3*w^8 - 3*w^7 + 2*w^5 - 4*w^4 - 3*w^2 + 4*w)*b10 + (-5*w^23 + 3*w^22 + w^20 - 3*w^19 + 4*w^17 - 3*w^16 - 2*w^14 + w^13 + 3*w^11 - w^10 - 3*w^8 + 3*w^7 - 4*w^5 + 2*w^4 + 4*w^2 - 3*w)*b11 + (-w^21 + w^18 - w^12 + w^9 - w^6 + w^3 + 2)*b12 + (3*w^23 - 4*w^22 + 4*w^19 - 3*w^17 + 3*w^16 - 2*w^13 - 2*w^11 + 2*w^10 + 2*w^8 - 4*w^7 + 3*w^5 - w^4 - w^2 + 5*w)*b13 + (-4*w^23 + 3*w^22 + 4*w^20 + 3*w^17 - 3*w^16 - 2*w^14 + 2*w^11 - 2*w^10 - 4*w^8 + 2*w^7 - w^5 + 3*w^4 + 5*w^2 - w)*b14 + (3*w^21 + 3*w^18 - w^15 - 2*w^12 - 2*w^9 + w^6 + 4*w^3 + 3)*b15 + (w^23 + 2*w^20 + 3*w^19 + 2*w^16 - 2*w^14 - 2*w^13 - w^11 - w^8 - w^7 + 2*w^5 + w^4 + 2*w^2 + 4*w)*b16 + (w^22 + 3*w^20 + 2*w^19 + 2*w^17 - 2*w^14 - 2*w^13 - w^10 - w^8 - w^7 + w^5 + 2*w^4 + 4*w^2 + 2*w)*b17 + (4*w^21 + 4*w^18 - 2*w^15 - 2*w^12 - 2*w^9 + 6*w^3 + 2)*b18 + (-2*w^23 + 3*w^22 + 3*w^20 + 2*w^19 + 2*w^17 - 2*w^16 - 2*w^14 - w^10 - 3*w^8 + w^7 - w^5 + 4*w^4 + 4*w^2)*b19 + (3*w^23 - 2*w^22 + 2*w^20 + 3*w^19 - 2*w^17 + 2*w^16 - 2*w^13 - w^11 + w^8 - 3*w^7 + 4*w^5 - w^4 + 4*w)*b20 + (3*w^21 + w^18 - w^15 - 2*w^9 + w^6 + 2*w^3 + 1)*b21 + (-4*w^23 + 5*w^22 + 2*w^20 - 2*w^19 + 3*w^17 - 3*w^16 - 2*w^14 + 2*w^13 + 2*w^11 - 2*w^10 - 4*w^8 + 4*w^7 - 3*w^5 + 3*w^4 + 3*w^2 - 3*w)*b22 + (5*w^23 - 4*w^22 - 2*w^20 + 2*w^19 - 3*w^17 + 3*w^16 + 2*w^14 - 2*w^13 - 2*w^11 + 2*w^10 + 4*w^8 - 4*w^7 + 3*w^5 - 3*w^4 - 3*w^2 + 3*w)*b23],\n",
       " [a + (-w^23 - 2*w^22 + 3*w^20 + 2*w^19 - 2*w^17 - 4*w^16 + 3*w^14 + w^11 - w^8 - 2*w^7 + 2*w^5 + w^2 - w)*b1 + (-2*w^23 - w^22 + 2*w^20 + 3*w^19 - 4*w^17 - 2*w^16 + 3*w^13 + w^10 - 2*w^8 - w^7 + 2*w^4 - w^2 + w)*b2 + (-w^21 - w^18 + w^12 + w^9 - w^6 - w^3 + 3)*b3 + (-w^23 - 4*w^19 + 3*w^17 + 2*w^16 - 3*w^14 - 2*w^13 + 4*w^11 - w^5 - 3*w^4 + 3*w^2 + 2*w)*b4 + (-w^22 - 4*w^20 + 2*w^17 + 3*w^16 - 2*w^14 - 3*w^13 + 4*w^10 - 3*w^5 - w^4 + 2*w^2 + 3*w)*b5 + (-5*w^21 + 2*w^18 + w^15 - 3*w^12 + 4*w^9 - 3*w^6 + w^3 + 3)*b6 + (-3*w^23 - 4*w^22 + 2*w^20 + 2*w^19 - 2*w^16 + w^8 - 3*w^7 + 2*w^4 + 2*w^2)*b7 + (-4*w^23 - 3*w^22 + 2*w^20 + 2*w^19 - 2*w^17 - 3*w^8 + w^7 + 2*w^5 + 2*w)*b8 + (-5*w^21 + 4*w^15 - 4*w^12 + w^9 + 3*w^6 - 4*w^3 + 6)*b9 + (-2*w^23 - 2*w^22 - w^20 - 2*w^19 + 2*w^17 + 4*w^16 - 2*w^14 - 4*w^13 + 2*w^11 + w^10 - 2*w^8 + 2*w^7 + w^5 - 4*w^4 + 2*w^2 + 4*w)*b10 + (-2*w^23 - 2*w^22 - 2*w^20 - w^19 + 4*w^17 + 2*w^16 - 4*w^14 - 2*w^13 + w^11 + 2*w^10 + 2*w^8 - 2*w^7 - 4*w^5 + w^4 + 4*w^2 + 2*w)*b11 + (-6*w^21 + 3*w^18 - 3*w^12 + 6*w^9 - 6*w^6 + 3*w^3 + 4)*b12 + (-2*w^23 - 4*w^22 + 4*w^19 - w^17 - 2*w^16 - w^13 + 4*w^10 - 4*w^7 - 2*w^5 + 2*w^4 + 3*w^2 + 2*w)*b13 + (-4*w^23 - 2*w^22 + 4*w^20 - 2*w^17 - w^16 - w^14 + 4*w^11 - 4*w^8 + 2*w^5 - 2*w^4 + 2*w^2 + 3*w)*b14 + (-2*w^21 - 2*w^18 + 2*w^15 + 2*w^6 - 4*w^3 + 7)*b15 + (-3*w^23 + w^20 - 2*w^19 + 3*w^16 - 4*w^14 + 3*w^11 - 3*w^8 + 2*w^7 - 2*w^4 + w^2 + 4*w)*b16 + (-3*w^22 - 2*w^20 + w^19 + 3*w^17 - 4*w^13 + 3*w^10 + 2*w^8 - 3*w^7 - 2*w^5 + 4*w^2 + w)*b17 + (-5*w^21 + 4*w^18 - 4*w^12 + 5*w^9 - 5*w^6 + 4*w^3 + 1)*b18 + (-w^23 - 2*w^22 - 2*w^20 + 3*w^19 + w^17 - w^14 - 3*w^11 + 2*w^10 + 2*w^8 - 2*w^7 - 3*w^5 + 4*w^4 + w^2)*b19 + (-2*w^23 - w^22 + 3*w^20 - 2*w^19 + w^16 - w^13 + 2*w^11 - 3*w^10 - 2*w^8 + 2*w^7 + 4*w^5 - 3*w^4 + w)*b20 + (-2*w^18 + 3*w^15 - w^12 - 3*w^9 + 6*w^6 - 5*w^3 + 3)*b21 + (-w^23 + w^22 - 2*w^17 + 2*w^16 - 4*w^8 + 4*w^7 + 2*w^5 - 2*w^4 - 2*w^2 + 2*w)*b22 + (w^23 - w^22 + 2*w^17 - 2*w^16 + 4*w^8 - 4*w^7 - 2*w^5 + 2*w^4 + 2*w^2 - 2*w)*b23, b0 + (w^23 + w^22 - 2*w^20 - 3*w^19 + 3*w^17 + 4*w^16 - 3*w^14 - 2*w^13 + w^11 + w^8 + w^7 - w^5 - 2*w^4 + w^2 + 2*w)*b1 + (w^23 + w^22 - 3*w^20 - 2*w^19 + 4*w^17 + 3*w^16 - 2*w^14 - 3*w^13 + w^10 + w^8 + w^7 - 2*w^5 - w^4 + 2*w^2 + w)*b2 + (-w^21 + 2*w^18 - 2*w^12 + w^9 - w^6 + 2*w^3)*b3 + (-w^23 - 2*w^22 + 2*w^20 + 4*w^19 - 2*w^17 - 3*w^16 + 2*w^14 + w^13 - 2*w^11 - 2*w^7 + w^5 + 3*w^4 - w)*b4 + (-2*w^23 - w^22 + 4*w^20 + 2*w^19 - 3*w^17 - 2*w^16 + w^14 + 2*w^13 - 2*w^10 - 2*w^8 + 3*w^5 + w^4 - w^2)*b5 + (w^21 - w^18 + w^15 - 2*w^9 + 3*w^6 - 2*w^3 + 2)*b6 + (2*w^22 - w^20 - 3*w^19 + 2*w^17 + 3*w^16 - 2*w^14 - 2*w^13 + 2*w^11 - 2*w^8 + 3*w^7 - 3*w^4 + w^2 + 2*w)*b7 + (2*w^23 - 3*w^20 - w^19 + 3*w^17 + 2*w^16 - 2*w^14 - 2*w^13 + 2*w^10 + 3*w^8 - 2*w^7 - 3*w^5 + 2*w^2 + w)*b8 + (-w^21 + 2*w^18 - 2*w^15 + 3*w^9 - 5*w^6 + 4*w^3 - 1)*b9 + (-w^23 - w^22 + w^20 + 3*w^19 - w^17 - 4*w^16 + w^14 + 2*w^13 - w^11 + w^10 + w^8 - 3*w^7 - 2*w^5 + 4*w^4 + w^2 - 2*w)*b10 + (-w^23 - w^22 + 3*w^20 + w^19 - 4*w^17 - w^16 + 2*w^14 + w^13 + w^11 - w^10 - 3*w^8 + w^7 + 4*w^5 - 2*w^4 - 2*w^2 + w)*b11 + (w^21 - 3*w^18 + 2*w^15 + w^12 - 3*w^9 + 5*w^6 - 5*w^3 + 2)*b12 + (-w^23 + 2*w^22 - 4*w^19 + w^17 + 3*w^16 - 2*w^14 + 2*w^11 - 2*w^10 - 2*w^8 + 4*w^7 + w^5 - 3*w^4 - w^2 + w)*b13 + (2*w^23 - w^22 - 4*w^20 + 3*w^17 + w^16 - 2*w^13 - 2*w^11 + 2*w^10 + 4*w^8 - 2*w^7 - 3*w^5 + w^4 + w^2 - w)*b14 + (-3*w^21 + 3*w^18 - w^15 - 2*w^12 + 4*w^9 - 5*w^6 + 4*w^3 - 3)*b15 + (w^23 - 2*w^22 - 2*w^20 + 3*w^19 - 2*w^16 + 2*w^14 - 3*w^11 + 2*w^10 + 3*w^8 - 3*w^7 - 2*w^5 + 3*w^4 - 2*w)*b16 + (-2*w^23 + w^22 + 3*w^20 - 2*w^19 - 2*w^17 + 2*w^13 + 2*w^11 - 3*w^10 - 3*w^8 + 3*w^7 + 3*w^5 - 2*w^4 - 2*w^2)*b17 + (2*w^21 - 4*w^18 + 2*w^15 + 2*w^12 - 4*w^9 + 6*w^6 - 6*w^3 + 2)*b18 + (w^22 + w^20 - 2*w^19 - 2*w^17 + 2*w^16 + 2*w^11 - w^10 - 3*w^8 + 3*w^7 + 3*w^5 - 4*w^4 - 2*w^2 + 2*w)*b19 + (w^23 - 2*w^20 + w^19 + 2*w^17 - 2*w^16 - w^11 + 2*w^10 + 3*w^8 - 3*w^7 - 4*w^5 + 3*w^4 + 2*w^2 - 2*w)*b20 + (-w^21 + 3*w^18 - 3*w^15 + 4*w^9 - 7*w^6 + 6*w^3 - 3)*b21 + (2*w^23 - w^22 - 2*w^20 + 2*w^19 + w^17 - w^16 - 2*w^11 + 2*w^10 + 4*w^8 - 4*w^7 - 3*w^5 + 3*w^4 + w^2 - w)*b22 + (-w^23 + 2*w^22 + 2*w^20 - 2*w^19 - w^17 + w^16 + 2*w^11 - 2*w^10 - 4*w^8 + 4*w^7 + 3*w^5 - 3*w^4 - w^2 + w)*b23],\n",
       " [a + (-3*w^23 + 2*w^22 + w^20 - 2*w^19 + 2*w^17 - 4*w^16 + w^14 + 3*w^11 - 3*w^8 + 2*w^7 - 2*w^5 + 3*w^2 - 3*w)*b1 + (2*w^23 - 3*w^22 - 2*w^20 + w^19 - 4*w^17 + 2*w^16 + w^13 + 3*w^10 + 2*w^8 - 3*w^7 - 2*w^4 - 3*w^2 + 3*w)*b2 + (-3*w^21 - 3*w^18 + 3*w^12 + 3*w^9 - 3*w^6 - 3*w^3 + 1)*b3 + (-3*w^23 - 4*w^19 + w^17 - 2*w^16 - w^14 + 2*w^13 + 4*w^11 - 3*w^5 - w^4 + w^2 - 2*w)*b4 + (-3*w^22 - 4*w^20 - 2*w^17 + w^16 + 2*w^14 - w^13 + 4*w^10 - w^5 - 3*w^4 - 2*w^2 + w)*b5 + (-7*w^21 - 2*w^18 + 3*w^15 - w^12 + 4*w^9 - w^6 - 5*w^3 + 1)*b6 + (-w^23 - 4*w^22 - 2*w^20 - 2*w^19 + 2*w^16 + 3*w^8 - w^7 - 2*w^4 - 2*w^2)*b7 + (-4*w^23 - w^22 - 2*w^20 - 2*w^19 + 2*w^17 - w^8 + 3*w^7 - 2*w^5 - 2*w)*b8 + (-7*w^21 + 4*w^15 - 4*w^12 + 3*w^9 + w^6 - 4*w^3 + 2)*b9 + (2*w^23 - 6*w^22 - 3*w^20 + 2*w^19 - 2*w^17 + 4*w^16 + 2*w^14 - 4*w^13 - 2*w^11 + 3*w^10 + 2*w^8 - 2*w^7 + 3*w^5 - 4*w^4 - 2*w^2 + 4*w)*b10 + (-6*w^23 + 2*w^22 + 2*w^20 - 3*w^19 + 4*w^17 - 2*w^16 - 4*w^14 + 2*w^13 + 3*w^11 - 2*w^10 - 2*w^8 + 2*w^7 - 4*w^5 + 3*w^4 + 4*w^2 - 2*w)*b11 + (-2*w^21 + w^18 - w^12 + 2*w^9 - 2*w^6 + w^3 + 4)*b12 + (2*w^23 - 4*w^22 + 4*w^19 - 3*w^17 + 2*w^16 - 3*w^13 + 4*w^10 - 4*w^7 + 2*w^5 - 2*w^4 + w^2 + 6*w)*b13 + (-4*w^23 + 2*w^22 + 4*w^20 + 2*w^17 - 3*w^16 - 3*w^14 + 4*w^11 - 4*w^8 - 2*w^5 + 2*w^4 + 6*w^2 + w)*b14 + (2*w^21 + 2*w^18 - 2*w^15 - 2*w^6 + 4*w^3 + 5)*b15 + (-w^23 + 3*w^20 + 2*w^19 + w^16 - 4*w^14 + w^11 - w^8 - 2*w^7 + 2*w^4 + 3*w^2 + 4*w)*b16 + (-w^22 + 2*w^20 + 3*w^19 + w^17 - 4*w^13 + w^10 - 2*w^8 - w^7 + 2*w^5 + 4*w^2 + 3*w)*b17 + (w^21 + 4*w^18 - 4*w^12 - w^9 + w^6 + 4*w^3 + 3)*b18 + (-3*w^23 + 2*w^22 + 2*w^20 + w^19 + 3*w^17 - 3*w^14 - w^11 - 2*w^10 - 2*w^8 + 2*w^7 - w^5 + 4*w^4 + 3*w^2)*b19 + (2*w^23 - 3*w^22 + w^20 + 2*w^19 + 3*w^16 - 3*w^13 - 2*w^11 - w^10 + 2*w^8 - 2*w^7 + 4*w^5 - w^4 + 3*w)*b20 + (2*w^18 + w^15 - 3*w^12 - w^9 + 2*w^6 + w^3 + 1)*b21 + (-3*w^23 + 3*w^22 + 2*w^17 - 2*w^16 - 4*w^8 + 4*w^7 - 2*w^5 + 2*w^4 + 2*w^2 - 2*w)*b22 + (3*w^23 - 3*w^22 - 2*w^17 + 2*w^16 + 4*w^8 - 4*w^7 + 2*w^5 - 2*w^4 - 2*w^2 + 2*w)*b23, b0 + (4*w^23 - 3*w^22 - w^20 + 3*w^19 - 3*w^17 + 4*w^16 - 2*w^13 - 2*w^11 + 2*w^10 + 2*w^8 - 3*w^7 + 3*w^5 - 2*w^4 - 2*w^2 + 5*w)*b1 + (-3*w^23 + 4*w^22 + 3*w^20 - w^19 + 4*w^17 - 3*w^16 - 2*w^14 + 2*w^11 - 2*w^10 - 3*w^8 + 2*w^7 - 2*w^5 + 3*w^4 + 5*w^2 - 2*w)*b2 + (4*w^21 + 3*w^18 - 2*w^15 - w^12 - 2*w^9 + 5*w^3 + 1)*b3 + (2*w^23 + 2*w^20 + 4*w^19 - w^17 + w^16 - w^14 - w^13 - 2*w^11 - 2*w^7 + 2*w^5 + 2*w^4 + w^2 + 3*w)*b4 + (2*w^22 + 4*w^20 + 2*w^19 + w^17 - w^16 - w^14 - w^13 - 2*w^10 - 2*w^8 + 2*w^5 + 2*w^4 + 3*w^2 + w)*b5 + (6*w^21 + 3*w^18 - 2*w^15 - w^12 - 4*w^9 + 2*w^6 + 5*w^3 + 1)*b6 + (-w^23 + 4*w^22 + 3*w^20 + w^19 + 2*w^17 - w^16 - 2*w^14 - 2*w^10 - 3*w^8 + 2*w^7 + 3*w^4 + 3*w^2)*b7 + (4*w^23 - w^22 + w^20 + 3*w^19 - w^17 + 2*w^16 - 2*w^13 - 2*w^11 + 2*w^8 - 3*w^7 + 3*w^5 + 3*w)*b8 + (4*w^21 + 2*w^18 - 2*w^15 - 2*w^9 + 4*w^3 - 1)*b9 + (-3*w^23 + 5*w^22 + 2*w^20 - w^19 + 3*w^17 - 4*w^16 - w^14 + 2*w^13 + w^11 - 2*w^10 - 3*w^8 + 3*w^7 - 3*w^5 + 4*w^4 + 3*w^2 - 4*w)*b10 + (5*w^23 - 3*w^22 - w^20 + 2*w^19 - 4*w^17 + 3*w^16 + 2*w^14 - w^13 - 2*w^11 + w^10 + 3*w^8 - 3*w^7 + 4*w^5 - 3*w^4 - 4*w^2 + 3*w)*b11 + (w^21 - 2*w^18 + 2*w^12 - w^9 + w^6 - 2*w^3 - 2)*b12 + (-3*w^23 + 4*w^22 - 4*w^19 + 2*w^17 - 3*w^16 + 3*w^13 + 2*w^11 - 2*w^10 - 2*w^8 + 4*w^7 - 3*w^5 + w^4 - 5*w)*b13 + (4*w^23 - 3*w^22 - 4*w^20 - 3*w^17 + 2*w^16 + 3*w^14 - 2*w^11 + 2*w^10 + 4*w^8 - 2*w^7 + w^5 - 3*w^4 - 5*w^2)*b14 + (-3*w^21 - 3*w^18 + w^15 + 2*w^12 + 2*w^9 - w^6 - 4*w^3 - 4)*b15 + (-3*w^20 - 3*w^19 - w^16 + 2*w^14 + 2*w^13 + 2*w^8 + w^7 - 2*w^5 - w^4 - 3*w^2 - 4*w)*b16 + (-3*w^20 - 3*w^19 - w^17 + 2*w^14 + 2*w^13 + w^8 + 2*w^7 - w^5 - 2*w^4 - 4*w^2 - 3*w)*b17 + (-3*w^21 - 4*w^18 + 2*w^15 + 2*w^12 + w^9 + w^6 - 6*w^3 - 3)*b18 + (3*w^23 - 3*w^22 - 3*w^20 - w^19 - 3*w^17 + 2*w^16 + 3*w^14 - w^11 + w^10 + 3*w^8 - w^7 + 2*w^5 - 4*w^4 - 5*w^2)*b19 + (-3*w^23 + 3*w^22 - w^20 - 3*w^19 + 2*w^17 - 3*w^16 + 3*w^13 + w^11 - w^10 - w^8 + 3*w^7 - 4*w^5 + 2*w^4 - 5*w)*b20 + (-w^21 - w^18 + w^12 + w^9 - w^6 - w^3 - 2)*b21 + (5*w^23 - 4*w^22 - 2*w^20 + 2*w^19 - 3*w^17 + 3*w^16 + 2*w^14 - 2*w^13 - 2*w^11 + 2*w^10 + 4*w^8 - 4*w^7 + 3*w^5 - 3*w^4 - 3*w^2 + 3*w)*b22 + (-4*w^23 + 5*w^22 + 2*w^20 - 2*w^19 + 3*w^17 - 3*w^16 - 2*w^14 + 2*w^13 + 2*w^11 - 2*w^10 - 4*w^8 + 4*w^7 - 3*w^5 + 3*w^4 + 3*w^2 - 3*w)*b23],\n",
       " [a + (w^23 + 2*w^22 - 3*w^20 - 2*w^19 + 2*w^17 + 4*w^16 - 3*w^14 - w^11 + w^8 + 2*w^7 - 2*w^5 - w^2 + w)*b1 + (2*w^23 + w^22 - 2*w^20 - 3*w^19 + 4*w^17 + 2*w^16 - 3*w^13 - w^10 + 2*w^8 + w^7 - 2*w^4 + w^2 - w)*b2 + (w^21 + w^18 - w^12 - w^9 + w^6 + w^3 - 3)*b3 + (w^23 + 4*w^19 - 3*w^17 - 2*w^16 + 3*w^14 + 2*w^13 - 4*w^11 + w^5 + 3*w^4 - 3*w^2 - 2*w)*b4 + (w^22 + 4*w^20 - 2*w^17 - 3*w^16 + 2*w^14 + 3*w^13 - 4*w^10 + 3*w^5 + w^4 - 2*w^2 - 3*w)*b5 + (5*w^21 - 2*w^18 - w^15 + 3*w^12 - 4*w^9 + 3*w^6 - w^3 - 3)*b6 + (3*w^23 + 4*w^22 - 2*w^20 - 2*w^19 + 2*w^16 - w^8 + 3*w^7 - 2*w^4 - 2*w^2)*b7 + (4*w^23 + 3*w^22 - 2*w^20 - 2*w^19 + 2*w^17 + 3*w^8 - w^7 - 2*w^5 - 2*w)*b8 + (5*w^21 - 4*w^15 + 4*w^12 - w^9 - 3*w^6 + 4*w^3 - 6)*b9 + (2*w^23 + 2*w^22 + w^20 + 2*w^19 - 2*w^17 - 4*w^16 + 2*w^14 + 4*w^13 - 2*w^11 - w^10 + 2*w^8 - 2*w^7 - w^5 + 4*w^4 - 2*w^2 - 4*w)*b10 + (2*w^23 + 2*w^22 + 2*w^20 + w^19 - 4*w^17 - 2*w^16 + 4*w^14 + 2*w^13 - w^11 - 2*w^10 - 2*w^8 + 2*w^7 + 4*w^5 - w^4 - 4*w^2 - 2*w)*b11 + (6*w^21 - 3*w^18 + 3*w^12 - 6*w^9 + 6*w^6 - 3*w^3 - 4)*b12 + (2*w^23 + 4*w^22 - 4*w^19 + w^17 + 2*w^16 + w^13 - 4*w^10 + 4*w^7 + 2*w^5 - 2*w^4 - 3*w^2 - 2*w)*b13 + (4*w^23 + 2*w^22 - 4*w^20 + 2*w^17 + w^16 + w^14 - 4*w^11 + 4*w^8 - 2*w^5 + 2*w^4 - 2*w^2 - 3*w)*b14 + (2*w^21 + 2*w^18 - 2*w^15 - 2*w^6 + 4*w^3 - 7)*b15 + (3*w^23 - w^20 + 2*w^19 - 3*w^16 + 4*w^14 - 3*w^11 + 3*w^8 - 2*w^7 + 2*w^4 - w^2 - 4*w)*b16 + (3*w^22 + 2*w^20 - w^19 - 3*w^17 + 4*w^13 - 3*w^10 - 2*w^8 + 3*w^7 + 2*w^5 - 4*w^2 - w)*b17 + (5*w^21 - 4*w^18 + 4*w^12 - 5*w^9 + 5*w^6 - 4*w^3 - 1)*b18 + (w^23 + 2*w^22 + 2*w^20 - 3*w^19 - w^17 + w^14 + 3*w^11 - 2*w^10 - 2*w^8 + 2*w^7 + 3*w^5 - 4*w^4 - w^2)*b19 + (2*w^23 + w^22 - 3*w^20 + 2*w^19 - w^16 + w^13 - 2*w^11 + 3*w^10 + 2*w^8 - 2*w^7 - 4*w^5 + 3*w^4 - w)*b20 + (2*w^18 - 3*w^15 + w^12 + 3*w^9 - 6*w^6 + 5*w^3 - 3)*b21 + (w^23 - w^22 + 2*w^17 - 2*w^16 + 4*w^8 - 4*w^7 - 2*w^5 + 2*w^4 + 2*w^2 - 2*w)*b22 + (-w^23 + w^22 - 2*w^17 + 2*w^16 - 4*w^8 + 4*w^7 + 2*w^5 - 2*w^4 - 2*w^2 + 2*w)*b23, b0 + (-2*w^23 - w^22 + 3*w^20 + 3*w^19 - 3*w^17 - 4*w^16 + 2*w^14 + 2*w^13 - 2*w^8 - w^7 + w^5 + 2*w^4 - w)*b1 + (-w^23 - 2*w^22 + 3*w^20 + 3*w^19 - 4*w^17 - 3*w^16 + 2*w^14 + 2*w^13 - w^8 - 2*w^7 + 2*w^5 + w^4 - w^2)*b2 + (-w^18 + w^12 - w^3 + 1)*b3 + (2*w^22 - 2*w^20 - 4*w^19 + 3*w^17 + 3*w^16 - 3*w^14 - w^13 + 2*w^11 + 2*w^7 - 2*w^5 - 2*w^4 + w^2 + w)*b4 + (2*w^23 - 4*w^20 - 2*w^19 + 3*w^17 + 3*w^16 - w^14 - 3*w^13 + 2*w^10 + 2*w^8 - 2*w^5 - 2*w^4 + w^2 + w)*b5 + (-2*w^21 + w^18 - w^12 + 2*w^9 - 2*w^6 + w^3 - 1)*b6 + (-w^23 - 2*w^22 + w^20 + 3*w^19 - 2*w^17 - 3*w^16 + 2*w^14 + 2*w^13 - 2*w^11 + w^8 - 2*w^7 + 3*w^4 - w^2 - 2*w)*b7 + (-2*w^23 - w^22 + 3*w^20 + w^19 - 3*w^17 - 2*w^16 + 2*w^14 + 2*w^13 - 2*w^10 - 2*w^8 + w^7 + 3*w^5 - 2*w^2 - w)*b8 + (-2*w^18 + 2*w^15 - 2*w^9 + 4*w^6 - 4*w^3 + 1)*b9 + (w^23 + w^22 - 2*w^20 - 3*w^19 + w^17 + 4*w^16 - w^14 - 2*w^13 + w^11 - w^8 + 3*w^7 + w^5 - 4*w^4 - w^2 + 2*w)*b10 + (w^23 + w^22 - 3*w^20 - 2*w^19 + 4*w^17 + w^16 - 2*w^14 - w^13 + w^10 + 3*w^8 - w^7 - 4*w^5 + w^4 + 2*w^2 - w)*b11 + (-w^21 + 2*w^18 - 2*w^15 + 3*w^9 - 5*w^6 + 4*w^3 - 2)*b12 + (w^23 - 2*w^22 + 4*w^19 - 2*w^17 - 3*w^16 + 2*w^14 + w^13 - 2*w^11 + 2*w^10 + 2*w^8 - 4*w^7 - w^5 + 3*w^4 - w)*b13 + (-2*w^23 + w^22 + 4*w^20 - 3*w^17 - 2*w^16 + w^14 + 2*w^13 + 2*w^11 - 2*w^10 - 4*w^8 + 2*w^7 + 3*w^5 - w^4 - w^2)*b14 + (3*w^21 - 3*w^18 + w^15 + 2*w^12 - 4*w^9 + 5*w^6 - 4*w^3 + 2)*b15 + (2*w^22 + w^20 - 3*w^19 + 3*w^16 - 2*w^14 + 2*w^11 - 2*w^10 - 2*w^8 + 3*w^7 + 2*w^5 - 3*w^4 - w^2 + 2*w)*b16 + (2*w^23 - 3*w^20 + w^19 + 3*w^17 - 2*w^13 - 2*w^11 + 2*w^10 + 3*w^8 - 2*w^7 - 3*w^5 + 2*w^4 + 2*w^2 - w)*b17 + (-w^21 + 4*w^18 - 2*w^15 - 2*w^12 + 3*w^9 - 5*w^6 + 6*w^3 - 3)*b18 + (w^23 - w^22 - w^20 + 3*w^19 + w^17 - 2*w^16 + w^14 - 3*w^11 + w^10 + 3*w^8 - 3*w^7 - 2*w^5 + 4*w^4 + w^2 - 2*w)*b19 + (-w^23 + w^22 + 3*w^20 - w^19 - 2*w^17 + w^16 + w^13 + w^11 - 3*w^10 - 3*w^8 + 3*w^7 + 4*w^5 - 2*w^4 - 2*w^2 + w)*b20 + (3*w^21 - 3*w^18 + 2*w^15 + w^12 - 5*w^9 + 7*w^6 - 5*w^3 + 2)*b21 + (-w^23 + 2*w^22 + 2*w^20 - 2*w^19 - w^17 + w^16 + 2*w^11 - 2*w^10 - 4*w^8 + 4*w^7 + 3*w^5 - 3*w^4 - w^2 + w)*b22 + (2*w^23 - w^22 - 2*w^20 + 2*w^19 + w^17 - w^16 - 2*w^11 + 2*w^10 + 4*w^8 - 4*w^7 - 3*w^5 + 3*w^4 + w^2 - w)*b23],\n",
       " [a + (-3*w^23 + 3*w^20 - 2*w^19 + 2*w^17 - 4*w^16 + w^14 + 3*w^11 - 2*w^10 - w^8 + 3*w^2 - 3*w)*b1 + (-3*w^22 - 2*w^20 + 3*w^19 - 4*w^17 + 2*w^16 + w^13 - 2*w^11 + 3*w^10 - w^7 - 3*w^2 + 3*w)*b2 + (-5*w^21 - w^18 + 2*w^15 - w^12 + 3*w^9 - w^6 - 3*w^3 + 3)*b3 + (-3*w^23 - 2*w^22 - 4*w^19 + 3*w^17 - w^14 - 2*w^13 + 4*w^11 - w^5 - 3*w^4 + 3*w^2)*b4 + (-2*w^23 - 3*w^22 - 4*w^20 + 3*w^16 - 2*w^14 - w^13 + 4*w^10 - 3*w^5 - w^4 + 3*w)*b5 + (-9*w^21 + 3*w^15 - 3*w^12 + 6*w^9 - 3*w^6 - 3*w^3 + 5)*b6 + (-3*w^23 - 6*w^22 - 2*w^13 + 2*w^11 + 2*w^10 + w^8 - 3*w^7 - 2*w^4 + 2*w^2 + 2*w)*b7 + (-6*w^23 - 3*w^22 - 2*w^14 + 2*w^11 + 2*w^10 - 3*w^8 + w^7 - 2*w^5 + 2*w^2 + 2*w)*b8 + (-9*w^21 + 4*w^15 - 4*w^12 + 5*w^9 - w^6 - 4*w^3 + 8)*b9 + (-2*w^23 - 6*w^22 - w^20 + 4*w^16 - 2*w^14 - 4*w^13 + 2*w^11 + 3*w^10 - 2*w^7 + w^5 - 4*w^4 + 2*w^2 + 6*w)*b10 + (-6*w^23 - 2*w^22 - w^19 + 4*w^17 - 4*w^14 - 2*w^13 + 3*w^11 + 2*w^10 - 2*w^8 - 4*w^5 + w^4 + 6*w^2 + 2*w)*b11 + (-8*w^21 + 3*w^18 + 2*w^15 - 5*w^12 + 6*w^9 - 4*w^6 + w^3 + 8)*b12 + (-2*w^23 - 6*w^22 + 4*w^19 - w^17 + 2*w^16 - 2*w^14 - 3*w^13 + 4*w^10 - 4*w^7 + 3*w^2 + 6*w)*b13 + (-6*w^23 - 2*w^22 + 4*w^20 + 2*w^17 - w^16 - 3*w^14 - 2*w^13 + 4*w^11 - 4*w^8 + 6*w^2 + 3*w)*b14 + (-4*w^21 + 2*w^18 + 2*w^15 - 4*w^12 + 2*w^9 + 9)*b15 + (-3*w^23 - 2*w^22 + w^20 + 2*w^19 + 3*w^16 - 4*w^14 - 2*w^13 + w^11 + 2*w^10 - 3*w^8 + 3*w^2 + 6*w)*b16 + (-2*w^23 - 3*w^22 + 2*w^20 + w^19 + 3*w^17 - 2*w^14 - 4*w^13 + 2*w^11 + w^10 - 3*w^7 + 6*w^2 + 3*w)*b17 + (-3*w^21 + 4*w^18 - 4*w^12 + 3*w^9 - 3*w^6 + 4*w^3 + 5)*b18 + (-3*w^23 + 3*w^19 + w^17 - 3*w^14 - w^11 + 2*w^10 - 2*w^8 - 3*w^5 + 4*w^4 + 3*w^2 + 2*w)*b19 + (-3*w^22 + 3*w^20 + w^16 - 3*w^13 + 2*w^11 - w^10 - 2*w^7 + 4*w^5 - 3*w^4 + 2*w^2 + 3*w)*b20 + (w^15 - w^12 - w^9 + 2*w^6 - w^3 + 3)*b21 + (-3*w^23 + 3*w^22 - 2*w^14 + 2*w^13 - 4*w^8 + 4*w^7 - 2*w^5 + 2*w^4)*b22 + (3*w^23 - 3*w^22 + 2*w^14 - 2*w^13 + 4*w^8 - 4*w^7 + 2*w^5 - 2*w^4)*b23, b0 + (2*w^22 - 2*w^20 + w^19 - w^17 + 2*w^16 - 2*w^14 + 2*w^13 - 2*w^11 + w^10 - w^8 + 2*w^7 - 2*w^5 + 2*w^4 - 2*w^2 + w)*b1 + (2*w^23 + w^20 - 2*w^19 + 2*w^17 - w^16 + 2*w^14 - 2*w^13 + w^11 - 2*w^10 + 2*w^8 - w^7 + 2*w^5 - 2*w^4 + w^2 - 2*w)*b2 + (3*w^21 - w^15 + w^12 - 2*w^9 + w^6 + w^3 - 4)*b3 + (2*w^23 + 3*w^22 - 2*w^20 + 2*w^19 - 2*w^17 + w^14 + 3*w^13 - 4*w^11 + 2*w^7 - w^5 + 3*w^4 - 4*w^2 - 2*w)*b4 + (3*w^23 + 2*w^22 + 2*w^20 - 2*w^19 - 2*w^16 + 3*w^14 + w^13 - 4*w^10 + 2*w^8 + 3*w^5 - w^4 - 2*w^2 - 4*w)*b5 + (7*w^21 - 2*w^18 - 2*w^15 + 4*w^12 - 5*w^9 + 3*w^6 - 7)*b6 + (4*w^23 + 5*w^22 - 2*w^20 - 2*w^17 + 2*w^14 + 3*w^13 - 3*w^11 - w^10 + 3*w^7 + w^4 - 5*w^2 - 3*w)*b7 + (5*w^23 + 4*w^22 - 2*w^19 - 2*w^16 + 3*w^14 + 2*w^13 - w^11 - 3*w^10 + 3*w^8 + w^5 - 3*w^2 - 5*w)*b8 + (9*w^21 - 2*w^18 - 4*w^15 + 6*w^12 - 5*w^9 + w^6 + 2*w^3 - 10)*b9 + (5*w^23 + 5*w^22 - w^20 - 2*w^17 - 2*w^16 + 3*w^14 + 4*w^13 - 3*w^11 - 2*w^10 + 2*w^8 + w^7 + 2*w^4 - 5*w^2 - 5*w)*b10 + (5*w^23 + 5*w^22 - w^19 - 2*w^17 - 2*w^16 + 4*w^14 + 3*w^13 - 2*w^11 - 3*w^10 + w^8 + 2*w^7 + 2*w^5 - 5*w^2 - 5*w)*b11 + (10*w^21 - 3*w^18 - 3*w^15 + 6*w^12 - 7*w^9 + 4*w^6 - 10)*b12 + (5*w^23 + 5*w^22 - 2*w^19 - w^17 - w^16 + 3*w^14 + 3*w^13 - 2*w^11 - 4*w^10 + 2*w^8 + 2*w^7 + 2*w^5 - 5*w^2 - 5*w)*b13 + (5*w^23 + 5*w^22 - 2*w^20 - w^17 - w^16 + 3*w^14 + 3*w^13 - 4*w^11 - 2*w^10 + 2*w^8 + 2*w^7 + 2*w^4 - 5*w^2 - 5*w)*b14 + (8*w^21 - w^18 - 3*w^15 + 4*w^12 - 5*w^9 + 2*w^6 + 2*w^3 - 10)*b15 + (5*w^23 + 3*w^22 - w^19 - 2*w^16 + 4*w^14 + w^13 - 2*w^11 - 3*w^10 + 3*w^8 + 2*w^5 - 3*w^2 - 5*w)*b16 + (3*w^23 + 5*w^22 - w^20 - 2*w^17 + w^14 + 4*w^13 - 3*w^11 - 2*w^10 + 3*w^7 + 2*w^4 - 5*w^2 - 3*w)*b17 + (7*w^21 - 2*w^18 - 2*w^15 + 4*w^12 - 5*w^9 + 3*w^6 - 6)*b18 + (3*w^23 + 2*w^22 + 2*w^20 - 2*w^19 - 2*w^16 + 3*w^14 + w^11 - 3*w^10 + w^8 + 3*w^5 - 2*w^4 - w^2 - 3*w)*b19 + (2*w^23 + 3*w^22 - 2*w^20 + 2*w^19 - 2*w^17 + 3*w^13 - 3*w^11 + w^10 + w^7 - 2*w^5 + 3*w^4 - 3*w^2 - w)*b20 + (3*w^21 - 2*w^15 + 2*w^12 - w^9 - w^6 + 2*w^3 - 3)*b21 + (w^23 + 2*w^20 - 2*w^19 + 2*w^17 - 2*w^16 + w^14 - w^13 + 2*w^11 - 2*w^10 + 2*w^8 - 2*w^7 + w^5 - w^4 + 2*w^2 - 2*w)*b22 + (w^22 - 2*w^20 + 2*w^19 - 2*w^17 + 2*w^16 - w^14 + w^13 - 2*w^11 + 2*w^10 - 2*w^8 + 2*w^7 - w^5 + w^4 - 2*w^2 + 2*w)*b23],\n",
       " [a + (w^23 - w^20 - 2*w^19 + 2*w^17 + 4*w^16 - 3*w^14 - w^11 - 2*w^10 + 3*w^8 - w^2 + w)*b1 + (w^22 - 2*w^20 - w^19 + 4*w^17 + 2*w^16 - 3*w^13 - 2*w^11 - w^10 + 3*w^7 + w^2 - w)*b2 + (-w^21 + 3*w^18 + 2*w^15 - 5*w^12 - w^9 + 3*w^6 + w^3 - 1)*b3 + (w^23 - 2*w^22 + 4*w^19 - w^17 + 3*w^14 - 2*w^13 - 4*w^11 + 3*w^5 + w^4 - w^2)*b4 + (-2*w^23 + w^22 + 4*w^20 - w^16 - 2*w^14 + 3*w^13 - 4*w^10 + w^5 + 3*w^4 - w)*b5 + (3*w^21 - w^15 + w^12 - 2*w^9 + w^6 + w^3 + 1)*b6 + (w^23 + 2*w^22 - 2*w^13 + 2*w^11 + 2*w^10 - 3*w^8 + w^7 - 2*w^4 + 2*w^2 + 2*w)*b7 + (2*w^23 + w^22 - 2*w^14 + 2*w^11 + 2*w^10 + w^8 - 3*w^7 - 2*w^5 + 2*w^2 + 2*w)*b8 + (3*w^21 - 4*w^15 + 4*w^12 + w^9 - 5*w^6 + 4*w^3)*b9 + (-2*w^23 + 2*w^22 + 3*w^20 - 4*w^16 - 2*w^14 + 4*w^13 + 2*w^11 - w^10 - 2*w^7 - 3*w^5 + 4*w^4 + 2*w^2 - 2*w)*b10 + (2*w^23 - 2*w^22 + 3*w^19 - 4*w^17 + 4*w^14 - 2*w^13 - w^11 + 2*w^10 - 2*w^8 + 4*w^5 - 3*w^4 - 2*w^2 + 2*w)*b11 + (-w^18 + 2*w^15 - w^12 - 2*w^9 + 4*w^6 - 3*w^3)*b12 + (-2*w^23 + 2*w^22 - 4*w^19 + 3*w^17 + 2*w^16 - 2*w^14 + w^13 - 4*w^10 + 4*w^7 - w^2 - 2*w)*b13 + (2*w^23 - 2*w^22 - 4*w^20 + 2*w^17 + 3*w^16 + w^14 - 2*w^13 - 4*w^11 + 4*w^8 - 2*w^2 - w)*b14 + (-4*w^21 + 2*w^18 + 2*w^15 - 4*w^12 + 2*w^9 - 3)*b15 + (w^23 - 2*w^22 - 3*w^20 + 2*w^19 - w^16 + 4*w^14 - 2*w^13 - 3*w^11 + 2*w^10 + w^8 - w^2 - 2*w)*b16 + (-2*w^23 + w^22 + 2*w^20 - 3*w^19 - w^17 - 2*w^14 + 4*w^13 + 2*w^11 - 3*w^10 + w^7 - 2*w^2 - w)*b17 + (w^21 - 4*w^18 + 4*w^12 - w^9 + w^6 - 4*w^3 + 1)*b18 + (w^23 - w^19 - 3*w^17 + w^14 + 3*w^11 + 2*w^10 - 2*w^8 + w^5 - 4*w^4 - w^2 + 2*w)*b19 + (w^22 - w^20 - 3*w^16 + w^13 + 2*w^11 + 3*w^10 - 2*w^7 - 4*w^5 + w^4 + 2*w^2 - w)*b20 + (-3*w^15 + 3*w^12 + 3*w^9 - 6*w^6 + 3*w^3 - 1)*b21 + (w^23 - w^22 - 2*w^14 + 2*w^13 + 4*w^8 - 4*w^7 - 2*w^5 + 2*w^4)*b22 + (-w^23 + w^22 + 2*w^14 - 2*w^13 - 4*w^8 + 4*w^7 + 2*w^5 - 2*w^4)*b23, b0 + (w^19 - w^17 - 2*w^16 + 2*w^14 - 2*w^13 + 2*w^11 + 3*w^10 - 3*w^8 - 2*w^4 + 2*w^2 + w)*b1 + (w^20 - 2*w^17 - w^16 - 2*w^14 + 2*w^13 + 3*w^11 + 2*w^10 - 3*w^7 - 2*w^5 + w^2 + 2*w)*b2 + (w^21 - 2*w^18 - 3*w^15 + 5*w^12 + 2*w^9 - 5*w^6 + w^3 + 2)*b3 + (-2*w^23 + w^22 + 2*w^20 - 2*w^19 - 2*w^16 - 3*w^14 + 3*w^13 + 4*w^11 - 2*w^7 - 3*w^5 + w^4 + 2*w^2)*b4 + (w^23 - 2*w^22 - 2*w^20 + 2*w^19 - 2*w^17 + 3*w^14 - 3*w^13 + 4*w^10 - 2*w^8 + w^5 - 3*w^4 + 2*w)*b5 + (-3*w^21 + 2*w^15 - 2*w^12 + w^9 + w^6 - 2*w^3 + 1)*b6 + (-2*w^23 - w^22 - 2*w^19 + 2*w^17 + 2*w^16 - 2*w^14 + w^13 - w^11 - 3*w^10 + 2*w^8 + w^7 + w^4 - w^2 - w)*b7 + (-w^23 - 2*w^22 - 2*w^20 + 2*w^17 + 2*w^16 + w^14 - 2*w^13 - 3*w^11 - w^10 + w^8 + 2*w^7 + w^5 - w^2 - w)*b8 + (-5*w^21 + 2*w^18 + 4*w^15 - 6*w^12 + w^9 + 3*w^6 - 2*w^3)*b9 + (w^23 - 3*w^22 - 3*w^20 + 2*w^19 + 2*w^16 + 3*w^14 - 4*w^13 - 3*w^11 + 2*w^10 + w^7 + 2*w^5 - 2*w^4 - w^2 + w)*b10 + (-3*w^23 + w^22 + 2*w^20 - 3*w^19 + 2*w^17 - 4*w^14 + 3*w^13 + 2*w^11 - 3*w^10 + w^8 - 2*w^5 + 2*w^4 + w^2 - w)*b11 + (-w^18 - w^15 + 2*w^12 + w^9 - 2*w^6 + 2)*b12 + (w^23 - w^22 + 2*w^19 - 3*w^17 - w^16 + w^14 - w^13 + 2*w^11 + 4*w^10 - 2*w^8 - 2*w^7 - 2*w^4 + w^2 + 3*w)*b13 + (-w^23 + w^22 + 2*w^20 - w^17 - 3*w^16 - w^14 + w^13 + 4*w^11 + 2*w^10 - 2*w^8 - 2*w^7 - 2*w^5 + 3*w^2 + w)*b14 + (2*w^21 - w^18 - 3*w^15 + 4*w^12 + w^9 - 4*w^6 + 2*w^3 + 2)*b15 + (-w^23 + w^22 + 2*w^20 - w^19 - 4*w^14 + 3*w^13 + 2*w^11 - w^10 + w^8 - 2*w^7 - 2*w^5 + 2*w^4 + w^2 + w)*b16 + (w^23 - w^22 - w^20 + 2*w^19 + 3*w^14 - 4*w^13 - w^11 + 2*w^10 - 2*w^8 + w^7 + 2*w^5 - 2*w^4 + w^2 + w)*b17 + (-w^21 + 2*w^18 + 2*w^15 - 4*w^12 - w^9 + 3*w^6)*b18 + (-w^23 + 2*w^17 + 2*w^16 - w^14 - 3*w^11 - 3*w^10 + w^8 + 2*w^7 + w^5 + 2*w^4 - w^2 - w)*b19 + (-w^22 + 2*w^17 + 2*w^16 - w^13 - 3*w^11 - 3*w^10 + 2*w^8 + w^7 + 2*w^5 + w^4 - w^2 - w)*b20 + (-w^21 + 2*w^18 + 2*w^15 - 4*w^12 - w^9 + 3*w^6 - 1)*b21 + (w^23 - 2*w^20 + 2*w^19 + 3*w^14 - 3*w^13 - 2*w^11 + 2*w^10 - 2*w^8 + 2*w^7 + w^5 - w^4)*b22 + (w^22 + 2*w^20 - 2*w^19 - 3*w^14 + 3*w^13 + 2*w^11 - 2*w^10 + 2*w^8 - 2*w^7 - w^5 + w^4)*b23]]"
      ]
     },
     "execution_count": 28,
     "metadata": {},
     "output_type": "execute_result"
    }
   ],
   "source": [
    "Bo1=list();\n",
    "for i in range(len(ob1)):\n",
    "    RelHerm=(conjugate(transpose(R1ob1[i]))*H*(R1ob1[i])-H)\n",
    "    B=[RelHerm[0,0],(RelHerm[0,1]),(RelHerm[0,2]),RelHerm[1,0],(RelHerm[1,1]),(RelHerm[1,2]),RelHerm[2,0],RelHerm[2,1],(RelHerm[2,2])];\n",
    "    Bo1.append(B)\n",
    "Go1=list()\n",
    "for i in range(len(ob1)):\n",
    "    J=Pol.ideal(Bo1[i])\n",
    "    Grob=J.groebner_basis()\n",
    "    Go1.append(Grob)\n",
    "Go1"
   ]
  },
  {
   "cell_type": "code",
   "execution_count": 29,
   "metadata": {},
   "outputs": [
    {
     "data": {
      "text/plain": [
       "[[a + (11/5*w^23 - 18/5*w^22 + 7/5*w^20 + 22/5*w^19 - 22/5*w^17 + 11/5*w^14 - 11/5*w^11 + 4/5*w^10 + 7/5*w^8 - 18/5*w^7 + 18/5*w^5 - 11/5*w^2 + 11/5*w)*b1 + (-18/5*w^23 + 11/5*w^22 + 22/5*w^20 + 7/5*w^19 - 22/5*w^16 + 11/5*w^13 + 4/5*w^11 - 11/5*w^10 - 18/5*w^8 + 7/5*w^7 + 18/5*w^4 + 11/5*w^2 - 11/5*w)*b2 + (3*w^21 + 7/5*w^18 - 4/5*w^15 - 3/5*w^12 - 11/5*w^9 + 7/5*w^6 + 11/5*w^3 + 7/5)*b3 + (11/5*w^23 + 4/5*w^22 + 7/5*w^17 + 18/5*w^16 - 11/5*w^14 - 14/5*w^13 + 7/5*w^5 - 7/5*w^4 + 7/5*w^2 + 18/5*w)*b4 + (4/5*w^23 + 11/5*w^22 + 18/5*w^17 + 7/5*w^16 - 14/5*w^14 - 11/5*w^13 - 7/5*w^5 + 7/5*w^4 + 18/5*w^2 + 7/5*w)*b5 + (3*w^21 + 18/5*w^18 - 11/5*w^15 - 7/5*w^12 - 4/5*w^9 - 7/5*w^6 + 29/5*w^3 + 3/5)*b6 + (-7/5*w^23 + 4/5*w^22 + 18/5*w^20 + 18/5*w^19 - 18/5*w^16 + 4/5*w^13 - 4/5*w^11 - 4/5*w^10 - 7/5*w^8 - 7/5*w^7 + 22/5*w^4 + 14/5*w^2 - 4/5*w)*b7 + (4/5*w^23 - 7/5*w^22 + 18/5*w^20 + 18/5*w^19 - 18/5*w^17 + 4/5*w^14 - 4/5*w^11 - 4/5*w^10 - 7/5*w^8 - 7/5*w^7 + 22/5*w^5 - 4/5*w^2 + 14/5*w)*b8 + (3*w^21 - 3*w^9 + 3*w^6 + 2)*b9 + (-14/5*w^23 + 22/5*w^22 + 7/5*w^20 - 18/5*w^19 + 18/5*w^17 - 14/5*w^14 + 14/5*w^11 - 11/5*w^10 - 18/5*w^8 + 22/5*w^7 - 7/5*w^5 + 14/5*w^2 - 4/5*w)*b10 + (22/5*w^23 - 14/5*w^22 - 18/5*w^20 + 7/5*w^19 + 18/5*w^16 - 14/5*w^13 - 11/5*w^11 + 14/5*w^10 + 22/5*w^8 - 18/5*w^7 - 7/5*w^4 - 4/5*w^2 + 14/5*w)*b11 + (-2*w^21 + 7/5*w^18 - 4/5*w^15 - 3/5*w^12 + 14/5*w^9 - 18/5*w^6 + 11/5*w^3 - 8/5)*b12 + (-14/5*w^23 + 4/5*w^22 + 7/5*w^17 - 22/5*w^16 + 4/5*w^14 + 11/5*w^13 - 18/5*w^5 + 18/5*w^4 + 7/5*w^2 - 22/5*w)*b13 + (4/5*w^23 - 14/5*w^22 - 22/5*w^17 + 7/5*w^16 + 11/5*w^14 + 4/5*w^13 + 18/5*w^5 - 18/5*w^4 - 22/5*w^2 + 7/5*w)*b14 + (-2*w^21 - 22/5*w^18 + 14/5*w^15 + 8/5*w^12 - 4/5*w^9 + 18/5*w^6 - 36/5*w^3 + 3/5)*b15 + (-7/5*w^23 + 4/5*w^22 - 7/5*w^20 - 22/5*w^19 + 7/5*w^16 + 4/5*w^13 + 11/5*w^11 - 4/5*w^10 - 7/5*w^8 + 18/5*w^7 - 18/5*w^4 - 11/5*w^2 - 4/5*w)*b16 + (4/5*w^23 - 7/5*w^22 - 22/5*w^20 - 7/5*w^19 + 7/5*w^17 + 4/5*w^14 - 4/5*w^11 + 11/5*w^10 + 18/5*w^8 - 7/5*w^7 - 18/5*w^5 - 4/5*w^2 - 11/5*w)*b17 + (-5*w^21 + 5*w^9 - 5*w^6 - 3)*b18 + (11/5*w^23 - 18/5*w^22 - 18/5*w^20 + 7/5*w^19 - 7/5*w^17 + 11/5*w^14 - 11/5*w^11 + 14/5*w^10 + 22/5*w^8 - 18/5*w^7 - 7/5*w^5 - 11/5*w^2 - 4/5*w)*b19 + (-18/5*w^23 + 11/5*w^22 + 7/5*w^20 - 18/5*w^19 - 7/5*w^16 + 11/5*w^13 + 14/5*w^11 - 11/5*w^10 - 18/5*w^8 + 22/5*w^7 - 7/5*w^4 - 4/5*w^2 - 11/5*w)*b20 + (-18/5*w^18 + 11/5*w^15 + 7/5*w^12 - 11/5*w^9 + 22/5*w^6 - 29/5*w^3 + 7/5)*b21 + (11/5*w^23 - 11/5*w^22 - 18/5*w^17 + 18/5*w^16 + 4/5*w^14 - 4/5*w^13 + 22/5*w^5 - 22/5*w^4 - 18/5*w^2 + 18/5*w)*b22 + (-11/5*w^23 + 11/5*w^22 + 18/5*w^17 - 18/5*w^16 - 4/5*w^14 + 4/5*w^13 - 22/5*w^5 + 22/5*w^4 + 18/5*w^2 - 18/5*w)*b23, b0 + (-11/5*w^23 + 13/5*w^22 - 2/5*w^20 - 17/5*w^19 + 17/5*w^17 - 11/5*w^14 + 11/5*w^11 - 4/5*w^10 - 7/5*w^8 + 13/5*w^7 - 13/5*w^5 + 11/5*w^2 - 6/5*w)*b1 + (13/5*w^23 - 11/5*w^22 - 17/5*w^20 - 2/5*w^19 + 17/5*w^16 - 11/5*w^13 - 4/5*w^11 + 11/5*w^10 + 13/5*w^8 - 7/5*w^7 - 13/5*w^4 - 6/5*w^2 + 11/5*w)*b2 + (-3*w^21 - 2/5*w^18 + 4/5*w^15 - 2/5*w^12 + 11/5*w^9 - 7/5*w^6 - 6/5*w^3 - 2/5)*b3 + (-11/5*w^23 - 4/5*w^22 - 2/5*w^17 - 13/5*w^16 + 6/5*w^14 + 9/5*w^13 - 7/5*w^5 + 7/5*w^4 - 2/5*w^2 - 13/5*w)*b4 + (-4/5*w^23 - 11/5*w^22 - 13/5*w^17 - 2/5*w^16 + 9/5*w^14 + 6/5*w^13 + 7/5*w^5 - 7/5*w^4 - 13/5*w^2 - 2/5*w)*b5 + (-3*w^21 - 13/5*w^18 + 11/5*w^15 + 2/5*w^12 + 4/5*w^9 + 7/5*w^6 - 24/5*w^3 + 2/5)*b6 + (2/5*w^23 - 4/5*w^22 - 13/5*w^20 - 13/5*w^19 + 13/5*w^16 - 4/5*w^13 + 4/5*w^11 + 4/5*w^10 + 2/5*w^8 + 7/5*w^7 - 17/5*w^4 - 9/5*w^2 + 4/5*w)*b7 + (-4/5*w^23 + 2/5*w^22 - 13/5*w^20 - 13/5*w^19 + 13/5*w^17 - 4/5*w^14 + 4/5*w^11 + 4/5*w^10 + 7/5*w^8 + 2/5*w^7 - 17/5*w^5 + 4/5*w^2 - 9/5*w)*b8 + (-3*w^21 + 3*w^9 - 3*w^6 - 1)*b9 + (9/5*w^23 - 17/5*w^22 - 7/5*w^20 + 13/5*w^19 - 13/5*w^17 + 9/5*w^14 - 9/5*w^11 + 11/5*w^10 + 13/5*w^8 - 17/5*w^7 + 2/5*w^5 - 9/5*w^2 + 4/5*w)*b10 + (-17/5*w^23 + 9/5*w^22 + 13/5*w^20 - 7/5*w^19 - 13/5*w^16 + 9/5*w^13 + 11/5*w^11 - 9/5*w^10 - 17/5*w^8 + 13/5*w^7 + 2/5*w^4 + 4/5*w^2 - 9/5*w)*b11 + (w^21 - 7/5*w^18 + 4/5*w^15 + 3/5*w^12 - 9/5*w^9 + 13/5*w^6 - 11/5*w^3 + 8/5)*b12 + (9/5*w^23 - 4/5*w^22 - 7/5*w^17 + 17/5*w^16 - 4/5*w^14 - 6/5*w^13 + 13/5*w^5 - 13/5*w^4 - 7/5*w^2 + 17/5*w)*b13 + (-4/5*w^23 + 9/5*w^22 + 17/5*w^17 - 7/5*w^16 - 6/5*w^14 - 4/5*w^13 - 13/5*w^5 + 13/5*w^4 + 17/5*w^2 - 7/5*w)*b14 + (w^21 + 17/5*w^18 - 9/5*w^15 - 8/5*w^12 + 4/5*w^9 - 13/5*w^6 + 26/5*w^3 - 3/5)*b15 + (7/5*w^23 - 4/5*w^22 + 2/5*w^20 + 17/5*w^19 - 2/5*w^16 - 4/5*w^13 - 11/5*w^11 + 4/5*w^10 + 7/5*w^8 - 13/5*w^7 + 13/5*w^4 + 6/5*w^2 + 4/5*w)*b16 + (-4/5*w^23 + 7/5*w^22 + 17/5*w^20 + 2/5*w^19 - 2/5*w^17 - 4/5*w^14 + 4/5*w^11 - 11/5*w^10 - 13/5*w^8 + 7/5*w^7 + 13/5*w^5 + 4/5*w^2 + 6/5*w)*b17 + (4*w^21 - 4*w^9 + 4*w^6 + 2)*b18 + (-6/5*w^23 + 13/5*w^22 + 13/5*w^20 - 2/5*w^19 + 2/5*w^17 - 6/5*w^14 + 6/5*w^11 - 9/5*w^10 - 17/5*w^8 + 13/5*w^7 + 7/5*w^5 + 6/5*w^2 + 4/5*w)*b19 + (13/5*w^23 - 6/5*w^22 - 2/5*w^20 + 13/5*w^19 + 2/5*w^16 - 6/5*w^13 - 9/5*w^11 + 6/5*w^10 + 13/5*w^8 - 17/5*w^7 + 7/5*w^4 + 4/5*w^2 + 6/5*w)*b20 + (w^21 + 13/5*w^18 - 11/5*w^15 - 2/5*w^12 + 6/5*w^9 - 17/5*w^6 + 24/5*w^3 - 7/5)*b21 + (-6/5*w^23 + 11/5*w^22 + 13/5*w^17 - 13/5*w^16 - 4/5*w^14 + 4/5*w^13 - 17/5*w^5 + 17/5*w^4 + 13/5*w^2 - 13/5*w)*b22 + (11/5*w^23 - 6/5*w^22 - 13/5*w^17 + 13/5*w^16 + 4/5*w^14 - 4/5*w^13 + 17/5*w^5 - 17/5*w^4 - 13/5*w^2 + 13/5*w)*b23],\n",
       " [a + (-7/5*w^23 - 4/5*w^22 + 11/5*w^20 - 14/5*w^19 + 14/5*w^17 - 7/5*w^14 + 7/5*w^11 - 18/5*w^10 + 11/5*w^8 - 4/5*w^7 + 4/5*w^5 + 7/5*w^2 - 7/5*w)*b1 + (-4/5*w^23 - 7/5*w^22 - 14/5*w^20 + 11/5*w^19 + 14/5*w^16 - 7/5*w^13 - 18/5*w^11 + 7/5*w^10 - 4/5*w^8 + 11/5*w^7 + 4/5*w^4 - 7/5*w^2 + 7/5*w)*b2 + (-5*w^21 + 11/5*w^18 + 18/5*w^15 - 29/5*w^12 + 7/5*w^9 + 11/5*w^6 - 7/5*w^3 + 11/5)*b3 + (-7/5*w^23 - 18/5*w^22 + 11/5*w^17 + 4/5*w^16 + 7/5*w^14 - 22/5*w^13 + 11/5*w^5 - 11/5*w^4 + 11/5*w^2 + 4/5*w)*b4 + (-18/5*w^23 - 7/5*w^22 + 4/5*w^17 + 11/5*w^16 - 22/5*w^14 + 7/5*w^13 - 11/5*w^5 + 11/5*w^4 + 4/5*w^2 + 11/5*w)*b5 + (-5*w^21 + 4/5*w^18 + 7/5*w^15 - 11/5*w^12 + 18/5*w^9 - 11/5*w^6 - 3/5*w^3 + 29/5)*b6 + (-11/5*w^23 - 18/5*w^22 + 4/5*w^20 + 4/5*w^19 - 4/5*w^16 - 18/5*w^13 + 18/5*w^11 + 18/5*w^10 - 11/5*w^8 - 11/5*w^7 - 14/5*w^4 + 22/5*w^2 + 18/5*w)*b7 + (-18/5*w^23 - 11/5*w^22 + 4/5*w^20 + 4/5*w^19 - 4/5*w^17 - 18/5*w^14 + 18/5*w^11 + 18/5*w^10 - 11/5*w^8 - 11/5*w^7 - 14/5*w^5 + 18/5*w^2 + 22/5*w)*b8 + (-5*w^21 + 5*w^9 - 5*w^6 + 8)*b9 + (-22/5*w^23 - 14/5*w^22 + 11/5*w^20 - 4/5*w^19 + 4/5*w^17 - 22/5*w^14 + 22/5*w^11 + 7/5*w^10 - 4/5*w^8 - 14/5*w^7 - 11/5*w^5 + 22/5*w^2 + 18/5*w)*b10 + (-14/5*w^23 - 22/5*w^22 - 4/5*w^20 + 11/5*w^19 + 4/5*w^16 - 22/5*w^13 + 7/5*w^11 + 22/5*w^10 - 14/5*w^8 - 4/5*w^7 - 11/5*w^4 + 18/5*w^2 + 22/5*w)*b11 + (-8*w^21 + 11/5*w^18 + 18/5*w^15 - 29/5*w^12 + 22/5*w^9 - 4/5*w^6 - 7/5*w^3 + 36/5)*b12 + (-22/5*w^23 - 18/5*w^22 + 11/5*w^17 + 14/5*w^16 - 18/5*w^14 - 7/5*w^13 - 4/5*w^5 + 4/5*w^4 + 11/5*w^2 + 14/5*w)*b13 + (-18/5*w^23 - 22/5*w^22 + 14/5*w^17 + 11/5*w^16 - 7/5*w^14 - 18/5*w^13 + 4/5*w^5 - 4/5*w^4 + 14/5*w^2 + 11/5*w)*b14 + (-8*w^21 + 14/5*w^18 + 22/5*w^15 - 36/5*w^12 + 18/5*w^9 + 4/5*w^6 - 8/5*w^3 + 29/5)*b15 + (-11/5*w^23 - 18/5*w^22 - 11/5*w^20 + 14/5*w^19 + 11/5*w^16 - 18/5*w^13 - 7/5*w^11 + 18/5*w^10 - 11/5*w^8 + 4/5*w^7 - 4/5*w^4 + 7/5*w^2 + 18/5*w)*b16 + (-18/5*w^23 - 11/5*w^22 + 14/5*w^20 - 11/5*w^19 + 11/5*w^17 - 18/5*w^14 + 18/5*w^11 - 7/5*w^10 + 4/5*w^8 - 11/5*w^7 - 4/5*w^5 + 18/5*w^2 + 7/5*w)*b17 + (-3*w^21 + 3*w^9 - 3*w^6 + 5)*b18 + (-7/5*w^23 - 4/5*w^22 - 4/5*w^20 + 11/5*w^19 - 11/5*w^17 - 7/5*w^14 + 7/5*w^11 + 22/5*w^10 - 14/5*w^8 - 4/5*w^7 - 11/5*w^5 + 7/5*w^2 + 18/5*w)*b19 + (-4/5*w^23 - 7/5*w^22 + 11/5*w^20 - 4/5*w^19 - 11/5*w^16 - 7/5*w^13 + 22/5*w^11 + 7/5*w^10 - 4/5*w^8 - 14/5*w^7 - 11/5*w^4 + 18/5*w^2 + 7/5*w)*b20 + (-4/5*w^18 - 7/5*w^15 + 11/5*w^12 + 7/5*w^9 - 14/5*w^6 + 3/5*w^3 + 11/5)*b21 + (-7/5*w^23 + 7/5*w^22 - 4/5*w^17 + 4/5*w^16 - 18/5*w^14 + 18/5*w^13 - 14/5*w^5 + 14/5*w^4 - 4/5*w^2 + 4/5*w)*b22 + (7/5*w^23 - 7/5*w^22 + 4/5*w^17 - 4/5*w^16 + 18/5*w^14 - 18/5*w^13 + 14/5*w^5 - 14/5*w^4 + 4/5*w^2 - 4/5*w)*b23, b0 + (2/5*w^23 + 4/5*w^22 - 6/5*w^20 + 9/5*w^19 - 9/5*w^17 + 2/5*w^14 - 2/5*w^11 + 13/5*w^10 - 11/5*w^8 + 4/5*w^7 - 4/5*w^5 - 2/5*w^2 + 7/5*w)*b1 + (4/5*w^23 + 2/5*w^22 + 9/5*w^20 - 6/5*w^19 - 9/5*w^16 + 2/5*w^13 + 13/5*w^11 - 2/5*w^10 + 4/5*w^8 - 11/5*w^7 - 4/5*w^4 + 7/5*w^2 - 2/5*w)*b2 + (3*w^21 - 6/5*w^18 - 13/5*w^15 + 19/5*w^12 - 2/5*w^9 - 11/5*w^6 + 7/5*w^3 - 6/5)*b3 + (2/5*w^23 + 13/5*w^22 - 6/5*w^17 - 4/5*w^16 - 7/5*w^14 + 17/5*w^13 - 11/5*w^5 + 11/5*w^4 - 6/5*w^2 - 4/5*w)*b4 + (13/5*w^23 + 2/5*w^22 - 4/5*w^17 - 6/5*w^16 + 17/5*w^14 - 7/5*w^13 + 11/5*w^5 - 11/5*w^4 - 4/5*w^2 - 6/5*w)*b5 + (3*w^21 - 4/5*w^18 - 2/5*w^15 + 6/5*w^12 - 13/5*w^9 + 11/5*w^6 - 2/5*w^3 - 19/5)*b6 + (6/5*w^23 + 13/5*w^22 - 4/5*w^20 - 4/5*w^19 + 4/5*w^16 + 13/5*w^13 - 13/5*w^11 - 13/5*w^10 + 6/5*w^8 + 11/5*w^7 + 9/5*w^4 - 17/5*w^2 - 13/5*w)*b7 + (13/5*w^23 + 6/5*w^22 - 4/5*w^20 - 4/5*w^19 + 4/5*w^17 + 13/5*w^14 - 13/5*w^11 - 13/5*w^10 + 11/5*w^8 + 6/5*w^7 + 9/5*w^5 - 13/5*w^2 - 17/5*w)*b8 + (3*w^21 - 3*w^9 + 3*w^6 - 6)*b9 + (17/5*w^23 + 9/5*w^22 - 11/5*w^20 + 4/5*w^19 - 4/5*w^17 + 17/5*w^14 - 17/5*w^11 - 2/5*w^10 + 4/5*w^8 + 9/5*w^7 + 6/5*w^5 - 17/5*w^2 - 13/5*w)*b10 + (9/5*w^23 + 17/5*w^22 + 4/5*w^20 - 11/5*w^19 - 4/5*w^16 + 17/5*w^13 - 2/5*w^11 - 17/5*w^10 + 9/5*w^8 + 4/5*w^7 + 6/5*w^4 - 13/5*w^2 - 17/5*w)*b11 + (6*w^21 - 11/5*w^18 - 13/5*w^15 + 24/5*w^12 - 17/5*w^9 + 4/5*w^6 + 2/5*w^3 - 26/5)*b12 + (17/5*w^23 + 13/5*w^22 - 11/5*w^17 - 9/5*w^16 + 13/5*w^14 + 7/5*w^13 + 4/5*w^5 - 4/5*w^4 - 11/5*w^2 - 9/5*w)*b13 + (13/5*w^23 + 17/5*w^22 - 9/5*w^17 - 11/5*w^16 + 7/5*w^14 + 13/5*w^13 - 4/5*w^5 + 4/5*w^4 - 9/5*w^2 - 11/5*w)*b14 + (6*w^21 - 9/5*w^18 - 17/5*w^15 + 26/5*w^12 - 13/5*w^9 - 4/5*w^6 + 8/5*w^3 - 24/5)*b15 + (11/5*w^23 + 13/5*w^22 + 6/5*w^20 - 9/5*w^19 - 6/5*w^16 + 13/5*w^13 + 2/5*w^11 - 13/5*w^10 + 11/5*w^8 - 4/5*w^7 + 4/5*w^4 - 7/5*w^2 - 13/5*w)*b16 + (13/5*w^23 + 11/5*w^22 - 9/5*w^20 + 6/5*w^19 - 6/5*w^17 + 13/5*w^14 - 13/5*w^11 + 2/5*w^10 - 4/5*w^8 + 11/5*w^7 + 4/5*w^5 - 13/5*w^2 - 7/5*w)*b17 + (3*w^21 - 3*w^9 + 3*w^6 - 4)*b18 + (7/5*w^23 + 4/5*w^22 + 4/5*w^20 - 6/5*w^19 + 6/5*w^17 + 7/5*w^14 - 7/5*w^11 - 17/5*w^10 + 9/5*w^8 + 4/5*w^7 + 11/5*w^5 - 7/5*w^2 - 13/5*w)*b19 + (4/5*w^23 + 7/5*w^22 - 6/5*w^20 + 4/5*w^19 + 6/5*w^16 + 7/5*w^13 - 17/5*w^11 - 7/5*w^10 + 4/5*w^8 + 9/5*w^7 + 11/5*w^4 - 13/5*w^2 - 7/5*w)*b20 + (w^21 + 4/5*w^18 + 2/5*w^15 - 6/5*w^12 - 7/5*w^9 + 9/5*w^6 + 2/5*w^3 - 11/5)*b21 + (7/5*w^23 - 2/5*w^22 + 4/5*w^17 - 4/5*w^16 + 13/5*w^14 - 13/5*w^13 + 9/5*w^5 - 9/5*w^4 + 4/5*w^2 - 4/5*w)*b22 + (-2/5*w^23 + 7/5*w^22 - 4/5*w^17 + 4/5*w^16 - 13/5*w^14 + 13/5*w^13 - 9/5*w^5 + 9/5*w^4 - 4/5*w^2 + 4/5*w)*b23],\n",
       " [a + (7/5*w^23 + 4/5*w^22 - 11/5*w^20 + 14/5*w^19 - 14/5*w^17 + 7/5*w^14 - 7/5*w^11 + 18/5*w^10 - 11/5*w^8 + 4/5*w^7 - 4/5*w^5 - 7/5*w^2 + 7/5*w)*b1 + (4/5*w^23 + 7/5*w^22 + 14/5*w^20 - 11/5*w^19 - 14/5*w^16 + 7/5*w^13 + 18/5*w^11 - 7/5*w^10 + 4/5*w^8 - 11/5*w^7 - 4/5*w^4 + 7/5*w^2 - 7/5*w)*b2 + (5*w^21 - 11/5*w^18 - 18/5*w^15 + 29/5*w^12 - 7/5*w^9 - 11/5*w^6 + 7/5*w^3 - 11/5)*b3 + (7/5*w^23 + 18/5*w^22 - 11/5*w^17 - 4/5*w^16 - 7/5*w^14 + 22/5*w^13 - 11/5*w^5 + 11/5*w^4 - 11/5*w^2 - 4/5*w)*b4 + (18/5*w^23 + 7/5*w^22 - 4/5*w^17 - 11/5*w^16 + 22/5*w^14 - 7/5*w^13 + 11/5*w^5 - 11/5*w^4 - 4/5*w^2 - 11/5*w)*b5 + (5*w^21 - 4/5*w^18 - 7/5*w^15 + 11/5*w^12 - 18/5*w^9 + 11/5*w^6 + 3/5*w^3 - 29/5)*b6 + (11/5*w^23 + 18/5*w^22 - 4/5*w^20 - 4/5*w^19 + 4/5*w^16 + 18/5*w^13 - 18/5*w^11 - 18/5*w^10 + 11/5*w^8 + 11/5*w^7 + 14/5*w^4 - 22/5*w^2 - 18/5*w)*b7 + (18/5*w^23 + 11/5*w^22 - 4/5*w^20 - 4/5*w^19 + 4/5*w^17 + 18/5*w^14 - 18/5*w^11 - 18/5*w^10 + 11/5*w^8 + 11/5*w^7 + 14/5*w^5 - 18/5*w^2 - 22/5*w)*b8 + (5*w^21 - 5*w^9 + 5*w^6 - 8)*b9 + (22/5*w^23 + 14/5*w^22 - 11/5*w^20 + 4/5*w^19 - 4/5*w^17 + 22/5*w^14 - 22/5*w^11 - 7/5*w^10 + 4/5*w^8 + 14/5*w^7 + 11/5*w^5 - 22/5*w^2 - 18/5*w)*b10 + (14/5*w^23 + 22/5*w^22 + 4/5*w^20 - 11/5*w^19 - 4/5*w^16 + 22/5*w^13 - 7/5*w^11 - 22/5*w^10 + 14/5*w^8 + 4/5*w^7 + 11/5*w^4 - 18/5*w^2 - 22/5*w)*b11 + (8*w^21 - 11/5*w^18 - 18/5*w^15 + 29/5*w^12 - 22/5*w^9 + 4/5*w^6 + 7/5*w^3 - 36/5)*b12 + (22/5*w^23 + 18/5*w^22 - 11/5*w^17 - 14/5*w^16 + 18/5*w^14 + 7/5*w^13 + 4/5*w^5 - 4/5*w^4 - 11/5*w^2 - 14/5*w)*b13 + (18/5*w^23 + 22/5*w^22 - 14/5*w^17 - 11/5*w^16 + 7/5*w^14 + 18/5*w^13 - 4/5*w^5 + 4/5*w^4 - 14/5*w^2 - 11/5*w)*b14 + (8*w^21 - 14/5*w^18 - 22/5*w^15 + 36/5*w^12 - 18/5*w^9 - 4/5*w^6 + 8/5*w^3 - 29/5)*b15 + (11/5*w^23 + 18/5*w^22 + 11/5*w^20 - 14/5*w^19 - 11/5*w^16 + 18/5*w^13 + 7/5*w^11 - 18/5*w^10 + 11/5*w^8 - 4/5*w^7 + 4/5*w^4 - 7/5*w^2 - 18/5*w)*b16 + (18/5*w^23 + 11/5*w^22 - 14/5*w^20 + 11/5*w^19 - 11/5*w^17 + 18/5*w^14 - 18/5*w^11 + 7/5*w^10 - 4/5*w^8 + 11/5*w^7 + 4/5*w^5 - 18/5*w^2 - 7/5*w)*b17 + (3*w^21 - 3*w^9 + 3*w^6 - 5)*b18 + (7/5*w^23 + 4/5*w^22 + 4/5*w^20 - 11/5*w^19 + 11/5*w^17 + 7/5*w^14 - 7/5*w^11 - 22/5*w^10 + 14/5*w^8 + 4/5*w^7 + 11/5*w^5 - 7/5*w^2 - 18/5*w)*b19 + (4/5*w^23 + 7/5*w^22 - 11/5*w^20 + 4/5*w^19 + 11/5*w^16 + 7/5*w^13 - 22/5*w^11 - 7/5*w^10 + 4/5*w^8 + 14/5*w^7 + 11/5*w^4 - 18/5*w^2 - 7/5*w)*b20 + (4/5*w^18 + 7/5*w^15 - 11/5*w^12 - 7/5*w^9 + 14/5*w^6 - 3/5*w^3 - 11/5)*b21 + (7/5*w^23 - 7/5*w^22 + 4/5*w^17 - 4/5*w^16 + 18/5*w^14 - 18/5*w^13 + 14/5*w^5 - 14/5*w^4 + 4/5*w^2 - 4/5*w)*b22 + (-7/5*w^23 + 7/5*w^22 - 4/5*w^17 + 4/5*w^16 - 18/5*w^14 + 18/5*w^13 - 14/5*w^5 + 14/5*w^4 - 4/5*w^2 + 4/5*w)*b23, b0 + (-7/5*w^23 - 4/5*w^22 + 11/5*w^20 - 9/5*w^19 + 9/5*w^17 - 7/5*w^14 + 7/5*w^11 - 13/5*w^10 + 6/5*w^8 - 4/5*w^7 + 4/5*w^5 + 7/5*w^2 - 2/5*w)*b1 + (-4/5*w^23 - 7/5*w^22 - 9/5*w^20 + 11/5*w^19 + 9/5*w^16 - 7/5*w^13 - 13/5*w^11 + 7/5*w^10 - 4/5*w^8 + 6/5*w^7 + 4/5*w^4 - 2/5*w^2 + 7/5*w)*b2 + (-4*w^21 + 11/5*w^18 + 13/5*w^15 - 24/5*w^12 + 7/5*w^9 + 6/5*w^6 - 2/5*w^3 + 11/5)*b3 + (-7/5*w^23 - 13/5*w^22 + 11/5*w^17 + 4/5*w^16 + 2/5*w^14 - 17/5*w^13 + 6/5*w^5 - 6/5*w^4 + 11/5*w^2 + 4/5*w)*b4 + (-13/5*w^23 - 7/5*w^22 + 4/5*w^17 + 11/5*w^16 - 17/5*w^14 + 2/5*w^13 - 6/5*w^5 + 6/5*w^4 + 4/5*w^2 + 11/5*w)*b5 + (-4*w^21 + 4/5*w^18 + 7/5*w^15 - 11/5*w^12 + 13/5*w^9 - 6/5*w^6 - 3/5*w^3 + 24/5)*b6 + (-11/5*w^23 - 13/5*w^22 + 4/5*w^20 + 4/5*w^19 - 4/5*w^16 - 13/5*w^13 + 13/5*w^11 + 13/5*w^10 - 11/5*w^8 - 6/5*w^7 - 9/5*w^4 + 17/5*w^2 + 13/5*w)*b7 + (-13/5*w^23 - 11/5*w^22 + 4/5*w^20 + 4/5*w^19 - 4/5*w^17 - 13/5*w^14 + 13/5*w^11 + 13/5*w^10 - 6/5*w^8 - 11/5*w^7 - 9/5*w^5 + 13/5*w^2 + 17/5*w)*b8 + (-4*w^21 + 4*w^9 - 4*w^6 + 6)*b9 + (-17/5*w^23 - 9/5*w^22 + 6/5*w^20 - 4/5*w^19 + 4/5*w^17 - 17/5*w^14 + 17/5*w^11 + 7/5*w^10 - 4/5*w^8 - 9/5*w^7 - 11/5*w^5 + 17/5*w^2 + 13/5*w)*b10 + (-9/5*w^23 - 17/5*w^22 - 4/5*w^20 + 6/5*w^19 + 4/5*w^16 - 17/5*w^13 + 7/5*w^11 + 17/5*w^10 - 9/5*w^8 - 4/5*w^7 - 11/5*w^4 + 13/5*w^2 + 17/5*w)*b11 + (-6*w^21 + 6/5*w^18 + 13/5*w^15 - 19/5*w^12 + 17/5*w^9 - 4/5*w^6 - 7/5*w^3 + 26/5)*b12 + (-17/5*w^23 - 13/5*w^22 + 6/5*w^17 + 9/5*w^16 - 13/5*w^14 - 2/5*w^13 - 4/5*w^5 + 4/5*w^4 + 6/5*w^2 + 9/5*w)*b13 + (-13/5*w^23 - 17/5*w^22 + 9/5*w^17 + 6/5*w^16 - 2/5*w^14 - 13/5*w^13 + 4/5*w^5 - 4/5*w^4 + 9/5*w^2 + 6/5*w)*b14 + (-6*w^21 + 9/5*w^18 + 17/5*w^15 - 26/5*w^12 + 13/5*w^9 + 4/5*w^6 - 8/5*w^3 + 19/5)*b15 + (-6/5*w^23 - 13/5*w^22 - 11/5*w^20 + 9/5*w^19 + 11/5*w^16 - 13/5*w^13 - 7/5*w^11 + 13/5*w^10 - 6/5*w^8 + 4/5*w^7 - 4/5*w^4 + 2/5*w^2 + 13/5*w)*b16 + (-13/5*w^23 - 6/5*w^22 + 9/5*w^20 - 11/5*w^19 + 11/5*w^17 - 13/5*w^14 + 13/5*w^11 - 7/5*w^10 + 4/5*w^8 - 6/5*w^7 - 4/5*w^5 + 13/5*w^2 + 2/5*w)*b17 + (-2*w^21 + 2*w^9 - 2*w^6 + 3)*b18 + (-2/5*w^23 - 4/5*w^22 - 4/5*w^20 + 11/5*w^19 - 11/5*w^17 - 2/5*w^14 + 2/5*w^11 + 17/5*w^10 - 9/5*w^8 - 4/5*w^7 - 6/5*w^5 + 2/5*w^2 + 13/5*w)*b19 + (-4/5*w^23 - 2/5*w^22 + 11/5*w^20 - 4/5*w^19 - 11/5*w^16 - 2/5*w^13 + 17/5*w^11 + 2/5*w^10 - 4/5*w^8 - 9/5*w^7 - 6/5*w^4 + 13/5*w^2 + 2/5*w)*b20 + (w^21 - 4/5*w^18 - 7/5*w^15 + 11/5*w^12 + 2/5*w^9 - 9/5*w^6 + 3/5*w^3 + 6/5)*b21 + (-2/5*w^23 + 7/5*w^22 - 4/5*w^17 + 4/5*w^16 - 13/5*w^14 + 13/5*w^13 - 9/5*w^5 + 9/5*w^4 - 4/5*w^2 + 4/5*w)*b22 + (7/5*w^23 - 2/5*w^22 + 4/5*w^17 - 4/5*w^16 + 13/5*w^14 - 13/5*w^13 + 9/5*w^5 - 9/5*w^4 + 4/5*w^2 - 4/5*w)*b23],\n",
       " [a + (-11/5*w^23 + 18/5*w^22 - 7/5*w^20 - 22/5*w^19 + 22/5*w^17 - 11/5*w^14 + 11/5*w^11 - 4/5*w^10 - 7/5*w^8 + 18/5*w^7 - 18/5*w^5 + 11/5*w^2 - 11/5*w)*b1 + (18/5*w^23 - 11/5*w^22 - 22/5*w^20 - 7/5*w^19 + 22/5*w^16 - 11/5*w^13 - 4/5*w^11 + 11/5*w^10 + 18/5*w^8 - 7/5*w^7 - 18/5*w^4 - 11/5*w^2 + 11/5*w)*b2 + (-3*w^21 - 7/5*w^18 + 4/5*w^15 + 3/5*w^12 + 11/5*w^9 - 7/5*w^6 - 11/5*w^3 - 7/5)*b3 + (-11/5*w^23 - 4/5*w^22 - 7/5*w^17 - 18/5*w^16 + 11/5*w^14 + 14/5*w^13 - 7/5*w^5 + 7/5*w^4 - 7/5*w^2 - 18/5*w)*b4 + (-4/5*w^23 - 11/5*w^22 - 18/5*w^17 - 7/5*w^16 + 14/5*w^14 + 11/5*w^13 + 7/5*w^5 - 7/5*w^4 - 18/5*w^2 - 7/5*w)*b5 + (-3*w^21 - 18/5*w^18 + 11/5*w^15 + 7/5*w^12 + 4/5*w^9 + 7/5*w^6 - 29/5*w^3 - 3/5)*b6 + (7/5*w^23 - 4/5*w^22 - 18/5*w^20 - 18/5*w^19 + 18/5*w^16 - 4/5*w^13 + 4/5*w^11 + 4/5*w^10 + 7/5*w^8 + 7/5*w^7 - 22/5*w^4 - 14/5*w^2 + 4/5*w)*b7 + (-4/5*w^23 + 7/5*w^22 - 18/5*w^20 - 18/5*w^19 + 18/5*w^17 - 4/5*w^14 + 4/5*w^11 + 4/5*w^10 + 7/5*w^8 + 7/5*w^7 - 22/5*w^5 + 4/5*w^2 - 14/5*w)*b8 + (-3*w^21 + 3*w^9 - 3*w^6 - 2)*b9 + (14/5*w^23 - 22/5*w^22 - 7/5*w^20 + 18/5*w^19 - 18/5*w^17 + 14/5*w^14 - 14/5*w^11 + 11/5*w^10 + 18/5*w^8 - 22/5*w^7 + 7/5*w^5 - 14/5*w^2 + 4/5*w)*b10 + (-22/5*w^23 + 14/5*w^22 + 18/5*w^20 - 7/5*w^19 - 18/5*w^16 + 14/5*w^13 + 11/5*w^11 - 14/5*w^10 - 22/5*w^8 + 18/5*w^7 + 7/5*w^4 + 4/5*w^2 - 14/5*w)*b11 + (2*w^21 - 7/5*w^18 + 4/5*w^15 + 3/5*w^12 - 14/5*w^9 + 18/5*w^6 - 11/5*w^3 + 8/5)*b12 + (14/5*w^23 - 4/5*w^22 - 7/5*w^17 + 22/5*w^16 - 4/5*w^14 - 11/5*w^13 + 18/5*w^5 - 18/5*w^4 - 7/5*w^2 + 22/5*w)*b13 + (-4/5*w^23 + 14/5*w^22 + 22/5*w^17 - 7/5*w^16 - 11/5*w^14 - 4/5*w^13 - 18/5*w^5 + 18/5*w^4 + 22/5*w^2 - 7/5*w)*b14 + (2*w^21 + 22/5*w^18 - 14/5*w^15 - 8/5*w^12 + 4/5*w^9 - 18/5*w^6 + 36/5*w^3 - 3/5)*b15 + (7/5*w^23 - 4/5*w^22 + 7/5*w^20 + 22/5*w^19 - 7/5*w^16 - 4/5*w^13 - 11/5*w^11 + 4/5*w^10 + 7/5*w^8 - 18/5*w^7 + 18/5*w^4 + 11/5*w^2 + 4/5*w)*b16 + (-4/5*w^23 + 7/5*w^22 + 22/5*w^20 + 7/5*w^19 - 7/5*w^17 - 4/5*w^14 + 4/5*w^11 - 11/5*w^10 - 18/5*w^8 + 7/5*w^7 + 18/5*w^5 + 4/5*w^2 + 11/5*w)*b17 + (5*w^21 - 5*w^9 + 5*w^6 + 3)*b18 + (-11/5*w^23 + 18/5*w^22 + 18/5*w^20 - 7/5*w^19 + 7/5*w^17 - 11/5*w^14 + 11/5*w^11 - 14/5*w^10 - 22/5*w^8 + 18/5*w^7 + 7/5*w^5 + 11/5*w^2 + 4/5*w)*b19 + (18/5*w^23 - 11/5*w^22 - 7/5*w^20 + 18/5*w^19 + 7/5*w^16 - 11/5*w^13 - 14/5*w^11 + 11/5*w^10 + 18/5*w^8 - 22/5*w^7 + 7/5*w^4 + 4/5*w^2 + 11/5*w)*b20 + (18/5*w^18 - 11/5*w^15 - 7/5*w^12 + 11/5*w^9 - 22/5*w^6 + 29/5*w^3 - 7/5)*b21 + (-11/5*w^23 + 11/5*w^22 + 18/5*w^17 - 18/5*w^16 - 4/5*w^14 + 4/5*w^13 - 22/5*w^5 + 22/5*w^4 + 18/5*w^2 - 18/5*w)*b22 + (11/5*w^23 - 11/5*w^22 - 18/5*w^17 + 18/5*w^16 + 4/5*w^14 - 4/5*w^13 + 22/5*w^5 - 22/5*w^4 - 18/5*w^2 + 18/5*w)*b23, b0 + (6/5*w^23 - 13/5*w^22 + 7/5*w^20 + 17/5*w^19 - 17/5*w^17 + 6/5*w^14 - 6/5*w^11 + 4/5*w^10 + 2/5*w^8 - 13/5*w^7 + 13/5*w^5 - 6/5*w^2 + 11/5*w)*b1 + (-13/5*w^23 + 6/5*w^22 + 17/5*w^20 + 7/5*w^19 - 17/5*w^16 + 6/5*w^13 + 4/5*w^11 - 6/5*w^10 - 13/5*w^8 + 2/5*w^7 + 13/5*w^4 + 11/5*w^2 - 6/5*w)*b2 + (2*w^21 + 7/5*w^18 - 4/5*w^15 - 3/5*w^12 - 6/5*w^9 + 2/5*w^6 + 11/5*w^3 + 7/5)*b3 + (6/5*w^23 + 4/5*w^22 + 7/5*w^17 + 13/5*w^16 - 11/5*w^14 - 9/5*w^13 + 2/5*w^5 - 2/5*w^4 + 7/5*w^2 + 13/5*w)*b4 + (4/5*w^23 + 6/5*w^22 + 13/5*w^17 + 7/5*w^16 - 9/5*w^14 - 11/5*w^13 - 2/5*w^5 + 2/5*w^4 + 13/5*w^2 + 7/5*w)*b5 + (2*w^21 + 13/5*w^18 - 6/5*w^15 - 7/5*w^12 - 4/5*w^9 - 2/5*w^6 + 19/5*w^3 + 3/5)*b6 + (-7/5*w^23 + 4/5*w^22 + 13/5*w^20 + 13/5*w^19 - 13/5*w^16 + 4/5*w^13 - 4/5*w^11 - 4/5*w^10 - 7/5*w^8 - 2/5*w^7 + 17/5*w^4 + 9/5*w^2 - 4/5*w)*b7 + (4/5*w^23 - 7/5*w^22 + 13/5*w^20 + 13/5*w^19 - 13/5*w^17 + 4/5*w^14 - 4/5*w^11 - 4/5*w^10 - 2/5*w^8 - 7/5*w^7 + 17/5*w^5 - 4/5*w^2 + 9/5*w)*b8 + (2*w^21 - 2*w^9 + 2*w^6 + 1)*b9 + (-9/5*w^23 + 17/5*w^22 + 2/5*w^20 - 13/5*w^19 + 13/5*w^17 - 9/5*w^14 + 9/5*w^11 - 6/5*w^10 - 13/5*w^8 + 17/5*w^7 - 7/5*w^5 + 9/5*w^2 - 4/5*w)*b10 + (17/5*w^23 - 9/5*w^22 - 13/5*w^20 + 2/5*w^19 + 13/5*w^16 - 9/5*w^13 - 6/5*w^11 + 9/5*w^10 + 17/5*w^8 - 13/5*w^7 - 7/5*w^4 - 4/5*w^2 + 9/5*w)*b11 + (-w^21 + 2/5*w^18 - 4/5*w^15 + 2/5*w^12 + 9/5*w^9 - 13/5*w^6 + 6/5*w^3 - 8/5)*b12 + (-9/5*w^23 + 4/5*w^22 + 2/5*w^17 - 17/5*w^16 + 4/5*w^14 + 11/5*w^13 - 13/5*w^5 + 13/5*w^4 + 2/5*w^2 - 17/5*w)*b13 + (4/5*w^23 - 9/5*w^22 - 17/5*w^17 + 2/5*w^16 + 11/5*w^14 + 4/5*w^13 + 13/5*w^5 - 13/5*w^4 - 17/5*w^2 + 2/5*w)*b14 + (-w^21 - 17/5*w^18 + 9/5*w^15 + 8/5*w^12 - 4/5*w^9 + 13/5*w^6 - 26/5*w^3 - 2/5)*b15 + (-2/5*w^23 + 4/5*w^22 - 7/5*w^20 - 17/5*w^19 + 7/5*w^16 + 4/5*w^13 + 6/5*w^11 - 4/5*w^10 - 2/5*w^8 + 13/5*w^7 - 13/5*w^4 - 11/5*w^2 - 4/5*w)*b16 + (4/5*w^23 - 2/5*w^22 - 17/5*w^20 - 7/5*w^19 + 7/5*w^17 + 4/5*w^14 - 4/5*w^11 + 6/5*w^10 + 13/5*w^8 - 2/5*w^7 - 13/5*w^5 - 4/5*w^2 - 11/5*w)*b17 + (-3*w^21 + 3*w^9 - 3*w^6 - 3)*b18 + (11/5*w^23 - 13/5*w^22 - 13/5*w^20 + 7/5*w^19 - 7/5*w^17 + 11/5*w^14 - 11/5*w^11 + 9/5*w^10 + 17/5*w^8 - 13/5*w^7 - 2/5*w^5 - 11/5*w^2 - 4/5*w)*b19 + (-13/5*w^23 + 11/5*w^22 + 7/5*w^20 - 13/5*w^19 - 7/5*w^16 + 11/5*w^13 + 9/5*w^11 - 11/5*w^10 - 13/5*w^8 + 17/5*w^7 - 2/5*w^4 - 4/5*w^2 - 11/5*w)*b20 + (w^21 - 13/5*w^18 + 6/5*w^15 + 7/5*w^12 - 11/5*w^9 + 17/5*w^6 - 19/5*w^3 + 2/5)*b21 + (11/5*w^23 - 6/5*w^22 - 13/5*w^17 + 13/5*w^16 + 4/5*w^14 - 4/5*w^13 + 17/5*w^5 - 17/5*w^4 - 13/5*w^2 + 13/5*w)*b22 + (-6/5*w^23 + 11/5*w^22 + 13/5*w^17 - 13/5*w^16 - 4/5*w^14 + 4/5*w^13 - 17/5*w^5 + 17/5*w^4 + 13/5*w^2 - 13/5*w)*b23]]"
      ]
     },
     "execution_count": 29,
     "metadata": {},
     "output_type": "execute_result"
    }
   ],
   "source": [
    "Bo2=list();\n",
    "for i in range(len(ob2)):\n",
    "    RelHerm=(conjugate(transpose(R1ob2[i]))*H*(R1ob2[i])-H)\n",
    "    B=[RelHerm[0,0],(RelHerm[0,1]),(RelHerm[0,2]),RelHerm[1,0],(RelHerm[1,1]),(RelHerm[1,2]),RelHerm[2,0],RelHerm[2,1],(RelHerm[2,2])];\n",
    "    Bo2.append(B)\n",
    "Go2=list()\n",
    "for i in range(len(ob2)):\n",
    "    J=Pol.ideal(Bo2[i])\n",
    "    Grob=J.groebner_basis()\n",
    "    Go2.append(Grob)\n",
    "Go2"
   ]
  },
  {
   "cell_type": "markdown",
   "metadata": {},
   "source": [
    "Notice that each element of the Groebner basis are linear polynomials. \n",
    "\n",
    "We solve the overdetermined system."
   ]
  },
  {
   "cell_type": "code",
   "execution_count": 30,
   "metadata": {},
   "outputs": [
    {
     "name": "stdout",
     "output_type": "stream",
     "text": [
      "[3*w^23 + 3*w^22 + 2*w^21 - 2*w^20 - 2*w^19 + 2*w^17 + 2*w^16 - 2*w^15 + 2*w^12 - 2*w^11 - 2*w^10 + 2*w^8 + 2*w^7 - 2*w^6 + 2*w^3 - 2*w^2 - 2*w - 3, -41*w^23 - 41*w^22 - 38*w^21 + 6*w^20 + 6*w^19 + 8*w^18 + 10*w^17 + 10*w^16 + 14*w^15 - 24*w^14 - 24*w^13 - 22*w^12 + 22*w^11 + 22*w^10 + 24*w^9 - 14*w^8 - 14*w^7 - 10*w^6 - 8*w^5 - 8*w^4 - 6*w^3 + 38*w^2 + 38*w + 41, -17*w^23 - 17*w^22 - 16*w^21 + 2*w^20 + 2*w^19 + 4*w^18 + 4*w^17 + 4*w^16 + 6*w^15 - 10*w^14 - 10*w^13 - 10*w^12 + 10*w^11 + 10*w^10 + 10*w^9 - 6*w^8 - 6*w^7 - 4*w^6 - 4*w^5 - 4*w^4 - 2*w^3 + 16*w^2 + 16*w + 17, 27*w^23 + 27*w^22 + 24*w^21 - 6*w^20 - 6*w^19 - 4*w^18 - 4*w^17 - 4*w^16 - 10*w^15 + 14*w^14 + 14*w^13 + 14*w^12 - 14*w^11 - 14*w^10 - 14*w^9 + 10*w^8 + 10*w^7 + 4*w^6 + 4*w^5 + 4*w^4 + 6*w^3 - 24*w^2 - 24*w - 27, 17*w^23 + 17*w^22 + 16*w^21 - 2*w^20 - 2*w^19 - 4*w^18 - 4*w^17 - 4*w^16 - 6*w^15 + 10*w^14 + 10*w^13 + 10*w^12 - 10*w^11 - 10*w^10 - 10*w^9 + 6*w^8 + 6*w^7 + 4*w^6 + 4*w^5 + 4*w^4 + 2*w^3 - 16*w^2 - 16*w - 17, -27*w^23 - 27*w^22 - 24*w^21 + 6*w^20 + 6*w^19 + 4*w^18 + 4*w^17 + 4*w^16 + 10*w^15 - 14*w^14 - 14*w^13 - 14*w^12 + 14*w^11 + 14*w^10 + 14*w^9 - 10*w^8 - 10*w^7 - 4*w^6 - 4*w^5 - 4*w^4 - 6*w^3 + 24*w^2 + 24*w + 27, 41*w^23 + 41*w^22 + 38*w^21 - 6*w^20 - 6*w^19 - 8*w^18 - 10*w^17 - 10*w^16 - 14*w^15 + 24*w^14 + 24*w^13 + 22*w^12 - 22*w^11 - 22*w^10 - 24*w^9 + 14*w^8 + 14*w^7 + 10*w^6 + 8*w^5 + 8*w^4 + 6*w^3 - 38*w^2 - 38*w - 41, -3*w^23 - 3*w^22 - 2*w^21 + 2*w^20 + 2*w^19 - 2*w^17 - 2*w^16 + 2*w^15 - 2*w^12 + 2*w^11 + 2*w^10 - 2*w^8 - 2*w^7 + 2*w^6 - 2*w^3 + 2*w^2 + 2*w + 3]\n",
      "[-7*w^23 - 7*w^22 - 7*w^21 + w^20 + w^19 + 2*w^18 + w^17 + w^16 + 3*w^15 - 4*w^14 - 4*w^13 - 5*w^12 + 5*w^11 + 5*w^10 + 4*w^9 - 3*w^8 - 3*w^7 - w^6 - 2*w^5 - 2*w^4 - w^3 + 7*w^2 + 7*w + 7, 49*w^23 + 49*w^22 + 47*w^21 - 7*w^20 - 7*w^19 - 10*w^18 - 13*w^17 - 13*w^16 - 17*w^15 + 30*w^14 + 30*w^13 + 27*w^12 - 27*w^11 - 27*w^10 - 30*w^9 + 17*w^8 + 17*w^7 + 13*w^6 + 10*w^5 + 10*w^4 + 7*w^3 - 47*w^2 - 47*w - 49, 9*w^23 + 9*w^22 + 8*w^21 - w^20 - w^19 - 2*w^18 - 2*w^17 - 2*w^16 - 3*w^15 + 5*w^14 + 5*w^13 + 5*w^12 - 5*w^11 - 5*w^10 - 5*w^9 + 3*w^8 + 3*w^7 + 2*w^6 + 2*w^5 + 2*w^4 + w^3 - 8*w^2 - 8*w - 9, -w^23 - w^22 + 2*w^21 + 3*w^20 + 3*w^19 - 2*w^18 - 4*w^17 - 4*w^16 + w^15 + 3*w^14 + 3*w^13 + w^12 - w^11 - w^10 - 3*w^9 - w^8 - w^7 + 4*w^6 + 2*w^5 + 2*w^4 - 3*w^3 - 2*w^2 - 2*w + 1, -10*w^23 - 10*w^22 - 8*w^21 + w^20 + w^19 + 2*w^18 + 2*w^17 + 2*w^16 + 3*w^15 - 5*w^14 - 5*w^13 - 5*w^12 + 5*w^11 + 5*w^10 + 5*w^9 - 3*w^8 - 3*w^7 - 2*w^6 - 2*w^5 - 2*w^4 - w^3 + 8*w^2 + 8*w + 10, -2*w^21 - 3*w^20 - 3*w^19 + 2*w^18 + 4*w^17 + 4*w^16 - w^15 - 3*w^14 - 3*w^13 - w^12 + w^11 + w^10 + 3*w^9 + w^8 + w^7 - 4*w^6 - 2*w^5 - 2*w^4 + 3*w^3 + 2*w^2 + 2*w, -50*w^23 - 50*w^22 - 47*w^21 + 7*w^20 + 7*w^19 + 10*w^18 + 13*w^17 + 13*w^16 + 17*w^15 - 30*w^14 - 30*w^13 - 27*w^12 + 27*w^11 + 27*w^10 + 30*w^9 - 17*w^8 - 17*w^7 - 13*w^6 - 10*w^5 - 10*w^4 - 7*w^3 + 47*w^2 + 47*w + 50, 6*w^23 + 6*w^22 + 7*w^21 - w^20 - w^19 - 2*w^18 - w^17 - w^16 - 3*w^15 + 4*w^14 + 4*w^13 + 5*w^12 - 5*w^11 - 5*w^10 - 4*w^9 + 3*w^8 + 3*w^7 + w^6 + 2*w^5 + 2*w^4 + w^3 - 7*w^2 - 7*w - 6]\n"
     ]
    }
   ],
   "source": [
    "Pola.<a>=PolynomialRing(K,'a')\n",
    "Polb.<b0>=PolynomialRing(K,'b0')\n",
    "aroots=list();\n",
    "broots=list();\n",
    "for i in range(len(ob1)):\n",
    "    aux=[Go1[i][0].substitute(b1=1,b2=1,b3=1,b4=1,b5=1,b6=1,b7=1,b8=1,b9=1,b10=1,b11=1,b12=1,b13=1,b14=1,b15=1,b16=1,b17=1,b18=1,b19=1,b20=1,b21=1,b22=1,b23=1),Go1[i][1].substitute(b1=1,b2=1,b3=1,b4=1,b5=1,b6=1,b7=1,b8=1,b9=1,b10=1,b11=1,b12=1,b13=1,b14=1,b15=1,b16=1,b17=1,b18=1,b19=1,b20=1,b21=1,b22=1,b23=1)]\n",
    "    aroots.append(Pola(aux[0]).roots(ring=K)[0][0])\n",
    "    broots.append(Polb(aux[1]).roots(ring=K)[0][0])\n",
    "print(aroots)\n",
    "print(broots)"
   ]
  },
  {
   "cell_type": "code",
   "execution_count": 31,
   "metadata": {},
   "outputs": [
    {
     "data": {
      "text/plain": [
       "Ring morphism:\n",
       "  From: Cyclotomic Field of order 45 and degree 24\n",
       "  To:   Algebraic Field\n",
       "  Defn: w |--> 0.9612616959383188? + 0.2756373558169992?*I"
      ]
     },
     "execution_count": 31,
     "metadata": {},
     "output_type": "execute_result"
    }
   ],
   "source": [
    "KEd=K.embeddings(QQbar)\n",
    "KEd[1]"
   ]
  },
  {
   "cell_type": "code",
   "execution_count": 32,
   "metadata": {},
   "outputs": [
    {
     "name": "stdout",
     "output_type": "stream",
     "text": [
      "No. 0 : [1.184932311126238? + 0.?e-16*I, 0.4438709232455214? + 0.?e-16*I, 0.0828779505235032? + 0.?e-18*I]\n",
      "No. 2 : [-0.724326875882657? + 0.?e-29*I, -0.810587763281625? + 0.?e-29*I, -1.085319848604676? + 0.?e-30*I]\n",
      "No. 4 : [0.4793151884425546? + 0.?e-32*I, 0.11832221572053631? + 0.?e-32*I, -4.687942016572662? + 0.?e-33*I]\n",
      "No. 5 : [0.536397363459841? + 0.?e-30*I, 0.03310333475841270? + 0.?e-30*I, -0.3278896379636056? + 0.?e-30*I]\n",
      "No. 6 : [4.687942016572662? + 0.?e-33*I, -0.11832221572053631? + 0.?e-32*I, -0.4793151884425546? + 0.?e-32*I]\n",
      "No. 8 : [0.3278896379636056? + 0.?e-30*I, -0.03310333475841270? + 0.?e-30*I, -0.536397363459841? + 0.?e-30*I]\n",
      "No. 9 : [1.085319848604676? + 0.?e-30*I, 0.810587763281625? + 0.?e-29*I, 0.724326875882657? + 0.?e-29*I]\n",
      "No. 11 : [-0.0828779505235032? + 0.?e-18*I, -0.4438709232455214? + 0.?e-16*I, -1.184932311126238? + 0.?e-16*I]\n"
     ]
    }
   ],
   "source": [
    "Ho1=list();\n",
    "evo1=list()\n",
    "for i in range(len(ob1)):\n",
    "    aux=H.substitute(a=aroots[i],b0=broots[i],b1=1,b2=1,b3=1,b4=1,b5=1,b6=1,b7=1,b8=1,b9=1,b10=1,b11=1,b12=1,b13=1,b14=1,b15=1,b16=1,b17=1,b18=1,b19=1,b20=1,b21=1,b22=1,b23=1)\n",
    "    Ho1.append(aux)\n",
    "aux=matrix(QQbar,3,3,[[0,0,0],[0,0,0],[0,0,0]])\n",
    "for i in range(len(ob1)):\n",
    "    for j in range(3):\n",
    "        for k in range(3):\n",
    "            aux[j,k]=KEd[1](Ho1[i][j,k])\n",
    "    evo1.append(aux.eigenvalues())\n",
    "for i in range(len(ob1)):\n",
    "    print('No.',ob1[i],':',evo1[i])"
   ]
  },
  {
   "cell_type": "code",
   "execution_count": 33,
   "metadata": {},
   "outputs": [
    {
     "name": "stdout",
     "output_type": "stream",
     "text": [
      "[7/5*w^23 + 7/5*w^22 - 14/5*w^20 - 14/5*w^19 + 8/5*w^18 + 12/5*w^17 + 12/5*w^16 - 6/5*w^15 - 6/5*w^14 - 6/5*w^13 - 2/5*w^12 + 2/5*w^11 + 2/5*w^10 + 6/5*w^9 + 6/5*w^8 + 6/5*w^7 - 12/5*w^6 - 8/5*w^5 - 8/5*w^4 + 14/5*w^3 - 7/5, 181/5*w^23 + 181/5*w^22 + 34*w^21 - 22/5*w^20 - 22/5*w^19 - 36/5*w^18 - 54/5*w^17 - 54/5*w^16 - 58/5*w^15 + 112/5*w^14 + 112/5*w^13 + 94/5*w^12 - 94/5*w^11 - 94/5*w^10 - 112/5*w^9 + 58/5*w^8 + 58/5*w^7 + 54/5*w^6 + 36/5*w^5 + 36/5*w^4 + 22/5*w^3 - 34*w^2 - 34*w - 181/5, -181/5*w^23 - 181/5*w^22 - 34*w^21 + 22/5*w^20 + 22/5*w^19 + 36/5*w^18 + 54/5*w^17 + 54/5*w^16 + 58/5*w^15 - 112/5*w^14 - 112/5*w^13 - 94/5*w^12 + 94/5*w^11 + 94/5*w^10 + 112/5*w^9 - 58/5*w^8 - 58/5*w^7 - 54/5*w^6 - 36/5*w^5 - 36/5*w^4 - 22/5*w^3 + 34*w^2 + 34*w + 181/5, -7/5*w^23 - 7/5*w^22 + 14/5*w^20 + 14/5*w^19 - 8/5*w^18 - 12/5*w^17 - 12/5*w^16 + 6/5*w^15 + 6/5*w^14 + 6/5*w^13 + 2/5*w^12 - 2/5*w^11 - 2/5*w^10 - 6/5*w^9 - 6/5*w^8 - 6/5*w^7 + 12/5*w^6 + 8/5*w^5 + 8/5*w^4 - 14/5*w^3 + 7/5]\n",
      "[3/5*w^23 + 3/5*w^22 + 2*w^21 + 9/5*w^20 + 9/5*w^19 - 8/5*w^18 - 12/5*w^17 - 12/5*w^16 + 1/5*w^15 + 11/5*w^14 + 11/5*w^13 + 7/5*w^12 - 7/5*w^11 - 7/5*w^10 - 11/5*w^9 - 1/5*w^8 - 1/5*w^7 + 12/5*w^6 + 8/5*w^5 + 8/5*w^4 - 9/5*w^3 - 2*w^2 - 2*w - 3/5, -136/5*w^23 - 136/5*w^22 - 25*w^21 + 17/5*w^20 + 17/5*w^19 + 26/5*w^18 + 39/5*w^17 + 39/5*w^16 + 43/5*w^15 - 82/5*w^14 - 82/5*w^13 - 69/5*w^12 + 69/5*w^11 + 69/5*w^10 + 82/5*w^9 - 43/5*w^8 - 43/5*w^7 - 39/5*w^6 - 26/5*w^5 - 26/5*w^4 - 17/5*w^3 + 25*w^2 + 25*w + 136/5, 131/5*w^23 + 131/5*w^22 + 25*w^21 - 17/5*w^20 - 17/5*w^19 - 26/5*w^18 - 39/5*w^17 - 39/5*w^16 - 43/5*w^15 + 82/5*w^14 + 82/5*w^13 + 69/5*w^12 - 69/5*w^11 - 69/5*w^10 - 82/5*w^9 + 43/5*w^8 + 43/5*w^7 + 39/5*w^6 + 26/5*w^5 + 26/5*w^4 + 17/5*w^3 - 25*w^2 - 25*w - 131/5, -8/5*w^23 - 8/5*w^22 - 2*w^21 - 9/5*w^20 - 9/5*w^19 + 8/5*w^18 + 12/5*w^17 + 12/5*w^16 - 1/5*w^15 - 11/5*w^14 - 11/5*w^13 - 7/5*w^12 + 7/5*w^11 + 7/5*w^10 + 11/5*w^9 + 1/5*w^8 + 1/5*w^7 - 12/5*w^6 - 8/5*w^5 - 8/5*w^4 + 9/5*w^3 + 2*w^2 + 2*w + 8/5]\n"
     ]
    }
   ],
   "source": [
    "Pola.<a>=PolynomialRing(K,'a')\n",
    "Polb.<b0>=PolynomialRing(K,'b0')\n",
    "aroots2=list();\n",
    "broots2=list();\n",
    "for i in range(len(ob2)):\n",
    "    aux=[Go2[i][0].substitute(b1=1,b2=1,b3=1,b4=1,b5=1,b6=1,b7=1,b8=1,b9=1,b10=1,b11=1,b12=1,b13=1,b14=1,b15=1,b16=1,b17=1,b18=1,b19=1,b20=1,b21=1,b22=1,b23=1),Go2[i][1].substitute(b1=1,b2=1,b3=1,b4=1,b5=1,b6=1,b7=1,b8=1,b9=1,b10=1,b11=1,b12=1,b13=1,b14=1,b15=1,b16=1,b17=1,b18=1,b19=1,b20=1,b21=1,b22=1,b23=1)]\n",
    "    aroots2.append(Pola(aux[0]).roots(ring=K)[0][0])\n",
    "    broots2.append(Polb(aux[1]).roots(ring=K)[0][0])\n",
    "print(aroots2)\n",
    "print(broots2)"
   ]
  },
  {
   "cell_type": "code",
   "execution_count": 34,
   "metadata": {},
   "outputs": [
    {
     "name": "stdout",
     "output_type": "stream",
     "text": [
      "No. 1 : [-0.1402279763185678? + 0.?e-18*I, -0.5012209490405861? + 0.?e-16*I, -3.004085932155016? + 0.?e-16*I]\n",
      "No. 3 : [0.2562092616004837? + 0.?e-30*I, -0.10346628832360897? + 0.?e-28*I, -0.1047837111215347? + 0.?e-28*I]\n",
      "No. 7 : [0.1047837111215347? + 0.?e-28*I, 0.10346628832360897? + 0.?e-28*I, -0.2562092616004837? + 0.?e-30*I]\n",
      "No. 10 : [3.004085932155016? + 0.?e-16*I, 0.5012209490405861? + 0.?e-16*I, 0.1402279763185678? + 0.?e-18*I]\n"
     ]
    }
   ],
   "source": [
    "Ho2=list();\n",
    "evo2=list()\n",
    "for i in range(len(ob2)):\n",
    "    aux=H.substitute(a=aroots2[i],b0=broots2[i],b1=1,b2=1,b3=1,b4=1,b5=1,b6=1,b7=1,b8=1,b9=1,b10=1,b11=1,b12=1,b13=1,b14=1,b15=1,b16=1,b17=1,b18=1,b19=1,b20=1,b21=1,b22=1,b23=1)\n",
    "    Ho2.append(aux)\n",
    "aux=matrix(QQbar,3,3,[[0,0,0],[0,0,0],[0,0,0]])\n",
    "for i in range(len(ob2)):\n",
    "    for j in range(3):\n",
    "        for k in range(3):\n",
    "            aux[j,k]=KEd[1](Ho2[i][j,k])\n",
    "    evo2.append(aux.eigenvalues())\n",
    "for i in range(len(ob2)):\n",
    "    print('No.',ob2[i],':',evo2[i])"
   ]
  },
  {
   "cell_type": "markdown",
   "metadata": {},
   "source": [
    "## 2. The degenerate configuration.\n",
    "\n",
    "The degenerate configuration is when one of the fixed point of $J$ belong to the fixed line of $R_1$. We can reduce this case by assuming tha the fixed  point of $J$ in question is $e_1.$\n",
    "\n",
    "On this configuration, $J$ correspond to a diagonal element of order three and $R_1$ preserve the same form as the non-degenerate configuration."
   ]
  },
  {
   "cell_type": "code",
   "execution_count": 29,
   "metadata": {},
   "outputs": [],
   "source": [
    "RR.<r1,r2,x,y>=PolynomialRing(K,['r1','r2','x','y'],order='lex');\n",
    "\n",
    "Jd=matrix(RR,3,3,[[1,0,0],[0,y,0],[0,0,y^2]])\n",
    "R1d=matrix(RR,3,3,[[1,-r1,r1],[0,1-r2,r2],[0,1-r2-x,r2+x]]);\n",
    "\n",
    "rel5d=((R1d*Jd)**(4));\n",
    "R14d=(R1d^4)\n",
    "rel6d=((R1d*Jd*R1d*Jd*Jd*R1d*Jd*R14d*Jd*Jd*R14d*Jd*R14d*Jd*Jd))\n",
    "\n",
    "\n",
    "eq0d=[(rel5d[0,1]), (rel5d[0,2]), (rel5d[1,0]), (rel5d[1,2]), (rel5d[2,0]), (rel5d[2,1]), (rel6d[0,1]), (rel6d[0,2]), (rel6d[1,0]),(rel6d[1,2]),(rel6d[2,0]),(rel6d[2,1])];\n",
    "eq1d=[(rel5d[0,0]-rel5d[1,1]),(rel5d[1,1]-rel5d[2,2]),(rel6d[0,0]-rel6d[1,1]),(rel6d[1,1]-rel6d[2,2])];\n",
    "\n",
    "Bd=list();\n",
    "Bd.append(RR(1+y+y^2))\n",
    "for i in range(len(eq0d)):\n",
    "    Bd.append(eq0d[i]);\n",
    "for i in range(len(eq1)):\n",
    "    Bd.append(eq1d[i]);"
   ]
  },
  {
   "cell_type": "markdown",
   "metadata": {},
   "source": [
    "We use Groebner basis to reduce the system $B_d.$ In the particular case of $(3,4),$ there is no solution."
   ]
  },
  {
   "cell_type": "code",
   "execution_count": 30,
   "metadata": {},
   "outputs": [
    {
     "name": "stdout",
     "output_type": "stream",
     "text": [
      "[1]\n"
     ]
    },
    {
     "data": {
      "text/plain": [
       "1"
      ]
     },
     "execution_count": 30,
     "metadata": {},
     "output_type": "execute_result"
    }
   ],
   "source": [
    "Gdegenerate=Jdegenerate.groebner_basis()\n",
    "print(Gdegenerate)\n",
    "len(Gdegenerate)"
   ]
  },
  {
   "cell_type": "code",
   "execution_count": null,
   "metadata": {},
   "outputs": [],
   "source": []
  }
 ],
 "metadata": {
  "kernelspec": {
   "display_name": "Sage 9.3",
   "language": "sage",
   "name": "sagemath_9_3_all"
  },
  "language_info": {
   "codemirror_mode": {
    "name": "ipython",
    "version": 3
   },
   "file_extension": ".py",
   "mimetype": "text/x-python",
   "name": "python",
   "nbconvert_exporter": "python",
   "pygments_lexer": "ipython3",
   "version": "3.9.2"
  }
 },
 "nbformat": 4,
 "nbformat_minor": 4
}

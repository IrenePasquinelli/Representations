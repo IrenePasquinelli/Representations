{
 "cells": [
  {
   "cell_type": "markdown",
   "metadata": {},
   "source": [
    "# The non-compact Deligne-Mostow $(4,4)$\n",
    "\n",
    "We want to determine the representations of the compact Deligne-Mostow lattice $(4,4)$ using the configurations of fixed subsets for $J$ and $R_1.$"
   ]
  },
  {
   "cell_type": "markdown",
   "metadata": {},
   "source": [
    "## 1. The non-degenerate configuration.\n",
    "\n",
    "The non-degenerate configuration of fixed subsets for $J$ and $R_1$ where the fixed points of $J$ does not belong to the fixed line of $R_1$ and does not coindice with the fixed point $R_1.$"
   ]
  },
  {
   "cell_type": "markdown",
   "metadata": {},
   "source": [
    "We initialize the problem, the set of parameters belong to the field-extension $\\mathbb{Q}(x^4-x^2+1).$"
   ]
  },
  {
   "cell_type": "code",
   "execution_count": 1,
   "metadata": {},
   "outputs": [],
   "source": [
    "K.<w>=CyclotomicField(12)\n",
    "RR.<r1,r2,y>=PolynomialRing(K,3,['r1','r2','y'],order='deglex');\n",
    "\n",
    "J=matrix(K,3,3,[[0,0,1],[-1,0,0],[0,1,0]]);\n",
    "R1=matrix(RR,3,3,[[1,-r1,r1],[0,1-r2,r2],[0,1-r2-y,r2+y]]);"
   ]
  },
  {
   "cell_type": "markdown",
   "metadata": {},
   "source": [
    "The group relations for the Deligne-Mostow $(4,4)$ are:\n",
    "\n",
    "$(R_1 J)^8=Id$\n",
    "\n",
    "\n",
    "$R_1 J R_1 J^2 R_1 J R_1^3 J^2 R_1^3 J R_1^3 J^2=Id$\n",
    "\n",
    "that induce the system of equations on $B.$"
   ]
  },
  {
   "cell_type": "code",
   "execution_count": 2,
   "metadata": {},
   "outputs": [],
   "source": [
    "rel5=((R1*J)**(8));\n",
    "R13=(R1^3)\n",
    "rel6=((R1*J*R1*J*J*R1*J*R13*J*J*R13*J*R13*J*J));\n",
    "\n",
    "eq0=[(rel5[0,1]), (rel5[0,2]), (rel5[1,0]), (rel5[1,2]), (rel5[2,0]), (rel5[2,1]), (rel6[0,1]), (rel6[0,2]), (rel6[1,0]),(rel6[1,2]),(rel6[2,0]),(rel6[2,1])];\n",
    "eq1=[(rel5[0,0]-rel5[1,1]),(rel5[1,1]-rel5[2,2]),(rel6[0,0]-rel6[1,1]),(rel6[1,1]-rel6[2,2])];\n",
    "\n",
    "B=list();\n",
    "for i in range(len(eq0)):\n",
    "    B.append(eq0[i]);\n",
    "for i in range(len(eq1)):\n",
    "    B.append(eq1[i]);"
   ]
  },
  {
   "cell_type": "markdown",
   "metadata": {},
   "source": [
    "#### Groebner Basis\n",
    "\n",
    "We use Groebner basis to solve the system of equations $B.$"
   ]
  },
  {
   "cell_type": "code",
   "execution_count": 3,
   "metadata": {
    "scrolled": true
   },
   "outputs": [],
   "source": [
    "RR.<r1,r2,y>=PolynomialRing(K,3,['r1','r2','y'],order='deglex');\n",
    "\n",
    "Jideal=RR.ideal(B);\n",
    "G=Jideal.groebner_basis()\n",
    "#print('Number of elements in the Basis',len(G))\n",
    "#print('The basis is:')\n",
    "#print(G)"
   ]
  },
  {
   "cell_type": "markdown",
   "metadata": {},
   "source": [
    "We start to reduce the variables on the system of equations. The first variable that we will reduce is $y$ where the set of values is small. \n",
    "\n",
    "Recall that $y\\neq 1.$"
   ]
  },
  {
   "cell_type": "code",
   "execution_count": 4,
   "metadata": {
    "scrolled": true
   },
   "outputs": [
    {
     "name": "stdout",
     "output_type": "stream",
     "text": [
      "[y^3 + y^2 + y + 1]\n",
      "y in [-1, w^3, -w^3]\n"
     ]
    }
   ],
   "source": [
    "yroots=list();\n",
    "yideal=Jideal.elimination_ideal([r2,r1]);\n",
    "ypol=yideal.gens();\n",
    "print(ypol)\n",
    "aux=SR(ypol[0]).roots(ring=K)\n",
    "for i in range(len(aux)):\n",
    "    yroots.append(aux[i][0])\n",
    "print('y in',yroots)"
   ]
  },
  {
   "cell_type": "markdown",
   "metadata": {},
   "source": [
    "There exists three possible cases for $y.$ Notice that two of these values of $y$ are complex conjugate.\n",
    "\n",
    "We proceed to substitute $y$ on the Groebner basis $G$ and find the values of $r_j$ $(j=1,2).$"
   ]
  },
  {
   "cell_type": "markdown",
   "metadata": {},
   "source": [
    "#### Case 1: $y= i.$\n",
    "\n",
    "For the value of $y,$ we use Groebner basis on the system $G$ with the value of $y.$"
   ]
  },
  {
   "cell_type": "code",
   "execution_count": 5,
   "metadata": {},
   "outputs": [],
   "source": [
    "B1=list();\n",
    "for i in range(len(G)):\n",
    "    aux=G[i].substitute(y=yroots[1])\n",
    "    if aux==0:\n",
    "        continue\n",
    "    else:\n",
    "        B1.append(aux)\n",
    "RR1.<r1,r2>=PolynomialRing(K,2,order='deglex')\n",
    "J1=RR1.ideal(B1)\n",
    "GB1=J1.groebner_basis()\n",
    "#print('Number of elements in the basis',len(GB1))\n",
    "#print('The basis is:')\n",
    "#print(GB1)"
   ]
  },
  {
   "cell_type": "markdown",
   "metadata": {},
   "source": [
    "The next polynomials define contains all possible values of $r_j.$"
   ]
  },
  {
   "cell_type": "code",
   "execution_count": 6,
   "metadata": {
    "scrolled": true
   },
   "outputs": [],
   "source": [
    "#r1Ideal=J1.elimination_ideal([r2]);\n",
    "#r1pol=r1Ideal.gens();\n",
    "#print('Polynomial describing r1:', r1pol[0].factor())\n",
    "\n",
    "r2Ideal=J1.elimination_ideal([r1]);\n",
    "r2pol=r2Ideal.gens();\n",
    "#print('Polynomial describing r2:', r2pol[0].factor())"
   ]
  },
  {
   "cell_type": "markdown",
   "metadata": {},
   "source": [
    "We collect all possible values of $r_2$ and substitute on the Groebner basis $GB_1.$"
   ]
  },
  {
   "cell_type": "code",
   "execution_count": 7,
   "metadata": {},
   "outputs": [],
   "source": [
    "Poly2.<r2>=PolynomialRing(K,'r2',order='lex')\n",
    "aux=Poly2(r2pol[0]).roots(ring=K)\n",
    "r2roots=list();\n",
    "for i in range(len(aux)):\n",
    "    r2roots.append(aux[i][0])\n",
    "#print('r2 in', r2roots)"
   ]
  },
  {
   "cell_type": "markdown",
   "metadata": {},
   "source": [
    "For each value of $r_2,$ we use Groebner basis and find the associated polynomial on $r_1$ associated to each $r_2.$"
   ]
  },
  {
   "cell_type": "code",
   "execution_count": 8,
   "metadata": {},
   "outputs": [],
   "source": [
    "Poly3.<r1,r2>=PolynomialRing(K,['r1','r2'],order='lex')\n",
    "Br1=list();\n",
    "for i in range(len(r2roots)):\n",
    "    B2=list();\n",
    "    for j in range(len(GB1)):\n",
    "        aux=Poly3(GB1[j]).substitute(r2=r2roots[i])\n",
    "        if aux==0:\n",
    "            continue\n",
    "        else:\n",
    "            B2.append(aux)\n",
    "    RR3.<r1>=PolynomialRing(K,['r1'],order='lex')\n",
    "    J3=RR3.ideal(B2)\n",
    "    G3=J3.groebner_basis(J3)\n",
    "    Br1.append(G3)\n",
    "    #print('r2 root No',i,':', Br1[i])"
   ]
  },
  {
   "cell_type": "code",
   "execution_count": 9,
   "metadata": {},
   "outputs": [],
   "source": [
    "Parameters=list();\n",
    "for i in range(len(r2roots)):\n",
    "    aux=Br1[i][0].roots(ring=K)\n",
    "    for j in range(len(aux)):\n",
    "        Parameters.append([yroots[1],aux[j][0],r2roots[i]])\n",
    "#print('Parameters:', Parameters)"
   ]
  },
  {
   "cell_type": "markdown",
   "metadata": {},
   "source": [
    "#### Case 2: $y=-1$\n",
    "\n",
    "We reproduce the same process for case 1, for the second value."
   ]
  },
  {
   "cell_type": "code",
   "execution_count": 10,
   "metadata": {},
   "outputs": [],
   "source": [
    "B2=list();\n",
    "for i in range(len(G)):\n",
    "    aux=G[i].substitute(y=yroots[0])\n",
    "    if aux==0:\n",
    "        continue\n",
    "    else:\n",
    "        B2.append(aux)\n",
    "RR1.<r1,r2>=PolynomialRing(K,2,order='deglex')\n",
    "J2=RR1.ideal(B2)\n",
    "GB2=J2.groebner_basis()\n",
    "#print('Number of elements in the basis',len(GB2))\n",
    "#print('The basis is:')\n",
    "#print(GB2)"
   ]
  },
  {
   "cell_type": "code",
   "execution_count": 11,
   "metadata": {
    "scrolled": false
   },
   "outputs": [],
   "source": [
    "#r1Ideal2=J2.elimination_ideal([r2]);\n",
    "#r1pol2=r1Ideal2.gens();\n",
    "#print('Polynomial describing r1:', r1pol2[0].factor())\n",
    "\n",
    "r2Ideal2=J2.elimination_ideal([r1]);\n",
    "r2pol2=r2Ideal2.gens();\n",
    "#print('Polynomial describing r2:', r2pol2[0].factor())\n"
   ]
  },
  {
   "cell_type": "code",
   "execution_count": 12,
   "metadata": {},
   "outputs": [],
   "source": [
    "Poly2.<r2>=PolynomialRing(K,'r2',order='lex')\n",
    "aux=Poly2(r2pol2[0]).roots(ring=K)\n",
    "r2roots2=list();\n",
    "for i in range(len(aux)):\n",
    "    r2roots2.append(aux[i][0])\n",
    "#print('r2 in', r2roots2)"
   ]
  },
  {
   "cell_type": "code",
   "execution_count": 13,
   "metadata": {},
   "outputs": [],
   "source": [
    "Poly3.<r1,r2>=PolynomialRing(K,['r1','r2'],order='lex')\n",
    "Br1c2=list();\n",
    "for i in range(len(r2roots2)):\n",
    "    B2=list();\n",
    "    for j in range(len(GB2)):\n",
    "        aux=Poly3(GB2[j]).substitute(r2=r2roots2[i])\n",
    "        if aux==0:\n",
    "            continue\n",
    "        else:\n",
    "            B2.append(aux)\n",
    "    RR3.<r1>=PolynomialRing(K,['r1'],order='lex')\n",
    "    J3=RR3.ideal(B2)\n",
    "    G3=J3.groebner_basis(J3)\n",
    "    Br1c2.append(G3)\n",
    "    #print('r2 root No',i,':', Br1c2[i])"
   ]
  },
  {
   "cell_type": "code",
   "execution_count": 14,
   "metadata": {},
   "outputs": [],
   "source": [
    "for i in range(len(r2roots2)):\n",
    "    aux=Br1c2[i][0].roots(ring=K)\n",
    "    for j in range(len(aux)):\n",
    "        Parameters.append([yroots[0],aux[j][0],r2roots2[i]])"
   ]
  },
  {
   "cell_type": "markdown",
   "metadata": {},
   "source": [
    "#### Case 3: $y=-i$\n",
    "\n",
    "We reproduce the same process for case 1, for the third value."
   ]
  },
  {
   "cell_type": "code",
   "execution_count": 15,
   "metadata": {},
   "outputs": [],
   "source": [
    "B3=list();\n",
    "for i in range(len(G)):\n",
    "    aux=G[i].substitute(y=yroots[2])\n",
    "    if aux==0:\n",
    "        continue\n",
    "    else:\n",
    "        B3.append(aux)\n",
    "RR1.<r1,r2>=PolynomialRing(K,2,order='deglex')\n",
    "J3=RR1.ideal(B3)\n",
    "GB3=J3.groebner_basis()\n",
    "#print('Number of elements in the basis',len(GB3))\n",
    "#print('The basis is:')\n",
    "#print(GB3)"
   ]
  },
  {
   "cell_type": "code",
   "execution_count": 16,
   "metadata": {
    "scrolled": false
   },
   "outputs": [],
   "source": [
    "#r1Ideal3=J3.elimination_ideal([r2]);\n",
    "#r1pol3=r1Ideal3.gens();\n",
    "#print('Polynomial describing r1:', r1pol3[0].factor())\n",
    "\n",
    "r2Ideal3=J3.elimination_ideal([r1]);\n",
    "r2pol3=r2Ideal3.gens();\n",
    "#print('Polynomial describing r2:', r2pol3[0].factor())\n"
   ]
  },
  {
   "cell_type": "code",
   "execution_count": 17,
   "metadata": {},
   "outputs": [],
   "source": [
    "Poly2.<r2>=PolynomialRing(K,'r2',order='lex')\n",
    "aux=Poly2(r2pol3[0]).roots(ring=K)\n",
    "r2roots3=list();\n",
    "for i in range(len(aux)):\n",
    "    r2roots3.append(aux[i][0])\n",
    "#print('r2 in', r2roots3)"
   ]
  },
  {
   "cell_type": "code",
   "execution_count": 18,
   "metadata": {},
   "outputs": [],
   "source": [
    "Poly3.<r1,r2>=PolynomialRing(K,['r1','r2'],order='lex')\n",
    "Br1c3=list();\n",
    "for i in range(len(r2roots3)):\n",
    "    B2=list();\n",
    "    for j in range(len(GB3)):\n",
    "        aux=Poly3(GB3[j]).substitute(r2=r2roots3[i])\n",
    "        if aux==0:\n",
    "            continue\n",
    "        else:\n",
    "            B2.append(aux)\n",
    "    RR3.<r1>=PolynomialRing(K,['r1'],order='lex')\n",
    "    J3=RR3.ideal(B2)\n",
    "    G3=J3.groebner_basis(J3)\n",
    "    Br1c3.append(G3)\n",
    "    #print('r2 root No',i,':', Br1c3[i])"
   ]
  },
  {
   "cell_type": "code",
   "execution_count": 19,
   "metadata": {},
   "outputs": [],
   "source": [
    "for i in range(len(r2roots3)):\n",
    "    aux=Br1c3[i][0].roots(ring=K)\n",
    "    for j in range(len(aux)):\n",
    "        Parameters.append([yroots[2],aux[j][0],r2roots3[i]])"
   ]
  },
  {
   "cell_type": "markdown",
   "metadata": {},
   "source": [
    "#### All posible values of $(y,r_1,r_2):$"
   ]
  },
  {
   "cell_type": "code",
   "execution_count": 20,
   "metadata": {},
   "outputs": [
    {
     "name": "stdout",
     "output_type": "stream",
     "text": [
      "No  0 : [w^3, 0, 1]\n",
      "No  1 : [w^3, w^3 - 1, 1]\n",
      "No  2 : [w^3, -1/2*w^2 + 1/2*w, -1/2*w^2 - 1/2*w + 1]\n",
      "No  3 : [w^3, 1/2*w^3 + 1/2*w^2 - 1/2*w - 1/2, -1/2*w^3 + 1/2*w^2 + 1/2*w + 1/2]\n",
      "No  4 : [w^3, 1/2*w^3 + 1/2*w^2 - 1/2*w - 1/2, -1/2*w^3 - 1/2*w^2 - 1/2*w + 1/2]\n",
      "No  5 : [w^3, 1/2*w^3 - 1/2*w^2 + 1/2*w - 1/2, -1/2*w^3 - 1/2*w^2 - 1/2*w + 1/2]\n",
      "No  6 : [w^3, -1/2*w^2 + 1/2*w, -w^3 + 1/2*w^2 + 1/2*w]\n",
      "No  7 : [w^3, w^3 + 1/2*w^2 - 1/2*w - 1, -w^3 + 1/2*w^2 + 1/2*w]\n",
      "No  8 : [w^3, w^3 - 1, -w^3]\n",
      "No  9 : [-1, 0, 1]\n",
      "No  10 : [-1, -3/2, w^2 + 1/2]\n",
      "No  11 : [-1, -3/2, -w^2 + 3/2]\n",
      "No  12 : [-1, -1, w^3 + 1]\n",
      "No  13 : [-1, 1/2*w^3 - w - 1, 1/2*w^3 + 1]\n",
      "No  14 : [-1, -1/2*w^3 + w - 1, 1/2*w^3 + 1]\n",
      "No  15 : [-1, 1/2*w^3 - w - 1, -1/2*w^3 + 1]\n",
      "No  16 : [-1, -1/2*w^3 + w - 1, -1/2*w^3 + 1]\n",
      "No  17 : [-1, -1, -w^3 + 1]\n",
      "No  18 : [-w^3, 0, 1]\n",
      "No  19 : [-w^3, -w^3 - 1, 1]\n",
      "No  20 : [-w^3, -1/2*w^2 - 1/2*w, -1/2*w^2 + 1/2*w + 1]\n",
      "No  21 : [-w^3, -1/2*w^2 - 1/2*w, w^3 + 1/2*w^2 - 1/2*w]\n",
      "No  22 : [-w^3, -w^3 + 1/2*w^2 + 1/2*w - 1, w^3 + 1/2*w^2 - 1/2*w]\n",
      "No  23 : [-w^3, -w^3 - 1, w^3]\n",
      "No  24 : [-w^3, -1/2*w^3 + 1/2*w^2 + 1/2*w - 1/2, 1/2*w^3 + 1/2*w^2 - 1/2*w + 1/2]\n",
      "No  25 : [-w^3, -1/2*w^3 + 1/2*w^2 + 1/2*w - 1/2, 1/2*w^3 - 1/2*w^2 + 1/2*w + 1/2]\n",
      "No  26 : [-w^3, -1/2*w^3 - 1/2*w^2 - 1/2*w - 1/2, 1/2*w^3 - 1/2*w^2 + 1/2*w + 1/2]\n"
     ]
    }
   ],
   "source": [
    "for i in range(len(Parameters)):\n",
    "    print('No ',i,':',Parameters[i])"
   ]
  },
  {
   "cell_type": "markdown",
   "metadata": {},
   "source": [
    "## 1.1 The Galois group action.\n",
    "\n",
    "The Galois group action on $\\mathbb{Q}(x^4-x^2+1)$ induce one in the set of parameters. Such action induce a partition by orbits on the set of parameters."
   ]
  },
  {
   "cell_type": "code",
   "execution_count": 21,
   "metadata": {},
   "outputs": [
    {
     "data": {
      "text/plain": [
       "Galois group 4T2 (2[x]2) with order 4 of x^4 - x^2 + 1"
      ]
     },
     "execution_count": 21,
     "metadata": {},
     "output_type": "execute_result"
    }
   ],
   "source": [
    "Gal=K.galois_group()\n",
    "Gal"
   ]
  },
  {
   "cell_type": "markdown",
   "metadata": {},
   "source": [
    "We compute the orbits."
   ]
  },
  {
   "cell_type": "code",
   "execution_count": 24,
   "metadata": {},
   "outputs": [],
   "source": [
    "from sage.structure.list_clone_demo import IncreasingLists"
   ]
  },
  {
   "cell_type": "code",
   "execution_count": 29,
   "metadata": {},
   "outputs": [
    {
     "name": "stdout",
     "output_type": "stream",
     "text": [
      "[0, 18]\n"
     ]
    }
   ],
   "source": [
    "ob1=[]\n",
    "x=IncreasingLists()([0..26])\n",
    "j=0;\n",
    "k=0;\n",
    "while j<(len(Parameters)):\n",
    "    while k<len(Gal):\n",
    "        aux0=(Gal[k])(Parameters[j][0])\n",
    "        aux1=(Gal[k])(Parameters[j][1])\n",
    "        aux2=(Gal[k])(Parameters[j][2])\n",
    "        if aux0-Gal[0](Parameters[0][0])==0 and aux1-Gal[0](Parameters[0][1])==0 and aux2-Gal[0](Parameters[0][2])==0:\n",
    "            ob1.append(j)\n",
    "            k=len(Gal)\n",
    "            \n",
    "        else:\n",
    "            k=k+1\n",
    "    k=0;\n",
    "    j=j+1;\n",
    "print(ob1)"
   ]
  },
  {
   "cell_type": "code",
   "execution_count": 30,
   "metadata": {},
   "outputs": [
    {
     "name": "stdout",
     "output_type": "stream",
     "text": [
      "[1, 19]\n"
     ]
    }
   ],
   "source": [
    "ob2=[]\n",
    "x=IncreasingLists()([0..26])\n",
    "j=1;\n",
    "k=0;\n",
    "while j<(len(Parameters)):\n",
    "    while k<len(Gal)-1:\n",
    "        aux0=(Gal[k+1])(Parameters[j][0])\n",
    "        aux1=(Gal[k+1])(Parameters[j][1])\n",
    "        aux2=(Gal[k+1])(Parameters[j][2])\n",
    "        if aux0-Gal[0](Parameters[1][0])==0 and aux1-Gal[0](Parameters[1][1])==0 and aux2-Gal[0](Parameters[1][2])==0:\n",
    "            ob2.append(j)\n",
    "            k=len(Gal)\n",
    "            \n",
    "        else:\n",
    "            k=k+1\n",
    "    k=0;\n",
    "    j=j+1;\n",
    "print(ob2)"
   ]
  },
  {
   "cell_type": "code",
   "execution_count": 31,
   "metadata": {},
   "outputs": [
    {
     "name": "stdout",
     "output_type": "stream",
     "text": [
      "[2, 3, 20, 24]\n"
     ]
    }
   ],
   "source": [
    "ob3=[2]\n",
    "x=IncreasingLists()([1..17])\n",
    "j=1;\n",
    "k=0;\n",
    "while j<(len(Parameters)):\n",
    "    while k<len(Gal)-1:\n",
    "        aux0=(Gal[k+1])(Parameters[j][0])\n",
    "        aux1=(Gal[k+1])(Parameters[j][1])\n",
    "        aux2=(Gal[k+1])(Parameters[j][2])\n",
    "        if aux0-Gal[0](Parameters[2][0])==0 and aux1-Gal[0](Parameters[2][1])==0 and aux2-Gal[0](Parameters[2][2])==0:\n",
    "            ob3.append(j)\n",
    "            k=len(Gal)\n",
    "            \n",
    "        else:\n",
    "            k=k+1\n",
    "    k=0;\n",
    "    j=j+1;\n",
    "print(ob3)"
   ]
  },
  {
   "cell_type": "code",
   "execution_count": 32,
   "metadata": {},
   "outputs": [
    {
     "name": "stdout",
     "output_type": "stream",
     "text": [
      "[4, 6, 21, 25]\n"
     ]
    }
   ],
   "source": [
    "ob4=[4]\n",
    "x=IncreasingLists()([1..17])\n",
    "j=1;\n",
    "k=0;\n",
    "while j<(len(Parameters)):\n",
    "    while k<len(Gal)-1:\n",
    "        aux0=(Gal[k+1])(Parameters[j][0])\n",
    "        aux1=(Gal[k+1])(Parameters[j][1])\n",
    "        aux2=(Gal[k+1])(Parameters[j][2])\n",
    "        if aux0-Gal[0](Parameters[4][0])==0 and aux1-Gal[0](Parameters[4][1])==0 and aux2-Gal[0](Parameters[4][2])==0:\n",
    "            ob4.append(j)\n",
    "            k=len(Gal)\n",
    "            \n",
    "        else:\n",
    "            k=k+1\n",
    "    k=0;\n",
    "    j=j+1;\n",
    "print(ob4)"
   ]
  },
  {
   "cell_type": "code",
   "execution_count": 33,
   "metadata": {},
   "outputs": [
    {
     "name": "stdout",
     "output_type": "stream",
     "text": [
      "[5, 7, 22, 26]\n"
     ]
    }
   ],
   "source": [
    "ob5=[5]\n",
    "x=IncreasingLists()([1..17])\n",
    "j=1;\n",
    "k=0;\n",
    "while j<(len(Parameters)):\n",
    "    while k<len(Gal)-1:\n",
    "        aux0=(Gal[k+1])(Parameters[j][0])\n",
    "        aux1=(Gal[k+1])(Parameters[j][1])\n",
    "        aux2=(Gal[k+1])(Parameters[j][2])\n",
    "        if aux0-Gal[0](Parameters[5][0])==0 and aux1-Gal[0](Parameters[5][1])==0 and aux2-Gal[0](Parameters[5][2])==0:\n",
    "            ob5.append(j)\n",
    "            k=len(Gal)\n",
    "            \n",
    "        else:\n",
    "            k=k+1\n",
    "    k=0;\n",
    "    j=j+1;\n",
    "print(ob5)"
   ]
  },
  {
   "cell_type": "code",
   "execution_count": 34,
   "metadata": {},
   "outputs": [
    {
     "name": "stdout",
     "output_type": "stream",
     "text": [
      "[8, 23]\n"
     ]
    }
   ],
   "source": [
    "ob6=[]\n",
    "x=IncreasingLists()([0..26])\n",
    "j=0;\n",
    "k=0;\n",
    "while j<(len(Parameters)):\n",
    "    while k<len(Gal)-1:\n",
    "        aux0=(Gal[k+1])(Parameters[j][0])\n",
    "        aux1=(Gal[k+1])(Parameters[j][1])\n",
    "        aux2=(Gal[k+1])(Parameters[j][2])\n",
    "        if aux0-Gal[0](Parameters[8][0])==0 and aux1-Gal[0](Parameters[8][1])==0 and aux2-Gal[0](Parameters[8][2])==0:\n",
    "            ob6.append(j)\n",
    "            k=len(Gal)\n",
    "            \n",
    "        else:\n",
    "            k=k+1\n",
    "    k=0;\n",
    "    j=j+1;\n",
    "print(ob6)"
   ]
  },
  {
   "cell_type": "code",
   "execution_count": 35,
   "metadata": {},
   "outputs": [
    {
     "name": "stdout",
     "output_type": "stream",
     "text": [
      "[9]\n"
     ]
    }
   ],
   "source": [
    "ob7=[]\n",
    "x=IncreasingLists()([0..26])\n",
    "j=0;\n",
    "k=0;\n",
    "while j<(len(Parameters)):\n",
    "    while k<len(Gal)-1:\n",
    "        aux0=(Gal[k+1])(Parameters[j][0])\n",
    "        aux1=(Gal[k+1])(Parameters[j][1])\n",
    "        aux2=(Gal[k+1])(Parameters[j][2])\n",
    "        if aux0-Gal[0](Parameters[9][0])==0 and aux1-Gal[0](Parameters[9][1])==0 and aux2-Gal[0](Parameters[9][2])==0:\n",
    "            ob7.append(j)\n",
    "            k=len(Gal)\n",
    "            \n",
    "        else:\n",
    "            k=k+1\n",
    "    k=0;\n",
    "    j=j+1;\n",
    "print(ob7)"
   ]
  },
  {
   "cell_type": "code",
   "execution_count": 36,
   "metadata": {},
   "outputs": [
    {
     "name": "stdout",
     "output_type": "stream",
     "text": [
      "[10, 11]\n"
     ]
    }
   ],
   "source": [
    "ob8=[]\n",
    "x=IncreasingLists()([0..26])\n",
    "j=0;\n",
    "k=0;\n",
    "while j<(len(Parameters)):\n",
    "    while k<len(Gal)-1:\n",
    "        aux0=(Gal[k+1])(Parameters[j][0])\n",
    "        aux1=(Gal[k+1])(Parameters[j][1])\n",
    "        aux2=(Gal[k+1])(Parameters[j][2])\n",
    "        if aux0-Gal[0](Parameters[10][0])==0 and aux1-Gal[0](Parameters[10][1])==0 and aux2-Gal[0](Parameters[10][2])==0:\n",
    "            ob8.append(j)\n",
    "            k=len(Gal)\n",
    "            \n",
    "        else:\n",
    "            k=k+1\n",
    "    k=0;\n",
    "    j=j+1;\n",
    "print(ob8)"
   ]
  },
  {
   "cell_type": "code",
   "execution_count": 37,
   "metadata": {},
   "outputs": [
    {
     "name": "stdout",
     "output_type": "stream",
     "text": [
      "[12, 17]\n"
     ]
    }
   ],
   "source": [
    "ob9=[]\n",
    "x=IncreasingLists()([0..26])\n",
    "j=0;\n",
    "k=0;\n",
    "while j<(len(Parameters)):\n",
    "    while k<len(Gal):\n",
    "        aux0=(Gal[k])(Parameters[j][0])\n",
    "        aux1=(Gal[k])(Parameters[j][1])\n",
    "        aux2=(Gal[k])(Parameters[j][2])\n",
    "        if aux0-Gal[0](Parameters[12][0])==0 and aux1-Gal[0](Parameters[12][1])==0 and aux2-Gal[0](Parameters[12][2])==0:\n",
    "            ob9.append(j)\n",
    "            k=len(Gal)\n",
    "            \n",
    "        else:\n",
    "            k=k+1\n",
    "    k=0;\n",
    "    j=j+1;\n",
    "print(ob9)"
   ]
  },
  {
   "cell_type": "code",
   "execution_count": 102,
   "metadata": {},
   "outputs": [
    {
     "name": "stdout",
     "output_type": "stream",
     "text": [
      "[13, 14, 15, 16]\n"
     ]
    }
   ],
   "source": [
    "ob10=[]\n",
    "x=IncreasingLists()([0..26])\n",
    "j=0;\n",
    "k=0;\n",
    "GalOb=list()\n",
    "while j<(len(Parameters)):\n",
    "    while k<len(Gal):\n",
    "        aux0=(Gal[k])(Parameters[j][0])\n",
    "        aux1=(Gal[k])(Parameters[j][1])\n",
    "        aux2=(Gal[k])(Parameters[j][2])\n",
    "        if aux0-Gal[0](Parameters[13][0])==0 and aux1-Gal[0](Parameters[13][1])==0 and aux2-Gal[0](Parameters[13][2])==0:\n",
    "            ob10.append(j)\n",
    "            GalOb.append(k)\n",
    "            k=len(Gal)\n",
    "            \n",
    "        else:\n",
    "            k=k+1\n",
    "    k=0;\n",
    "    j=j+1;\n",
    "print(ob10)"
   ]
  },
  {
   "cell_type": "code",
   "execution_count": 39,
   "metadata": {},
   "outputs": [
    {
     "data": {
      "text/plain": [
       "True"
      ]
     },
     "execution_count": 39,
     "metadata": {},
     "output_type": "execute_result"
    }
   ],
   "source": [
    "len(ob1)+len(ob2)+len(ob3)+len(ob4)+len(ob5)+len(ob6)+len(ob7)+len(ob8)+len(ob9)+len(ob10)==len(Parameters)"
   ]
  },
  {
   "cell_type": "markdown",
   "metadata": {},
   "source": [
    "Remark: In this particular case we have several orbits of lenght 2 or 1, to speed the computation in the sequent sections, we treat them as one list."
   ]
  },
  {
   "cell_type": "code",
   "execution_count": 40,
   "metadata": {},
   "outputs": [],
   "source": [
    "orbs=[0,18,1,19,8,23,9,10,11,12,17]"
   ]
  },
  {
   "cell_type": "markdown",
   "metadata": {},
   "source": [
    "## 1.2 The associated Hermitian form\n",
    "\n",
    "As these set of parameters provide a representation of the Deligne-Mostow $(3,6)$ in $PGL(3,\\mathbb{C})$, we should have a representation whose image group is conjugated to a $PU(2,1)$ subgroup. To determine this representation we need to determine the Hermitian form preserved by the group image and compute its signature. \n",
    "\n",
    "From the initial data of our representation, an Hermitian form $H$ should satisfy the equation $(J^*)HJ=H.$ This imply that $H$ is of the form:\n",
    "\n",
    "$H=\\begin{bmatrix}\n",
    "a&-\\overline{c}&c\\\\-c& a&\\overline{c}\\\\ \\overline{c}&c&a\n",
    "\\end{bmatrix}$\n",
    "\n",
    "Therefore, in order to compute the values of $a$ and $c,$ we need to solve the equation ${R_1}^* H R_1=H$ for all possible parameters $(y,r_1,r_2).$"
   ]
  },
  {
   "cell_type": "code",
   "execution_count": 41,
   "metadata": {},
   "outputs": [],
   "source": [
    "R1o3=list();\n",
    "R1o4=list();\n",
    "R1o5=list();\n",
    "R1o10=list();\n",
    "R1orbs=list()\n",
    "for i in range(len(ob3)):\n",
    "    aux=matrix(K,3,3,[[1,-Parameters[ob3[i]][1],Parameters[ob3[i]][1]],[0,1-Parameters[ob3[i]][2],Parameters[ob3[i]][2]],[0,1-Parameters[ob3[i]][2]-Parameters[ob3[i]][0],Parameters[ob3[i]][2]+Parameters[ob3[i]][0]]])\n",
    "    R1o3.append(aux)\n",
    "for i in range(len(ob4)):\n",
    "    aux=matrix(K,3,3,[[1,-Parameters[ob4[i]][1],Parameters[ob4[i]][1]],[0,1-Parameters[ob4[i]][2],Parameters[ob4[i]][2]],[0,1-Parameters[ob4[i]][2]-Parameters[ob4[i]][0],Parameters[ob4[i]][2]+Parameters[ob4[i]][0]]])\n",
    "    R1o4.append(aux)\n",
    "for i in range(len(ob5)):\n",
    "    aux=matrix(K,3,3,[[1,-Parameters[ob5[i]][1],Parameters[ob5[i]][1]],[0,1-Parameters[ob5[i]][2],Parameters[ob5[i]][2]],[0,1-Parameters[ob5[i]][2]-Parameters[ob5[i]][0],Parameters[ob5[i]][2]+Parameters[ob5[i]][0]]])\n",
    "    R1o5.append(aux)\n",
    "for i in range(len(ob10)):\n",
    "    aux=matrix(K,3,3,[[1,-Parameters[ob10[i]][1],Parameters[ob10[i]][1]],[0,1-Parameters[ob10[i]][2],Parameters[ob10[i]][2]],[0,1-Parameters[ob10[i]][2]-Parameters[ob10[i]][0],Parameters[ob10[i]][2]+Parameters[ob10[i]][0]]])\n",
    "    R1o10.append(aux)\n",
    "for i in range(len(orbs)):\n",
    "    aux=matrix(K,3,3,[[1,-Parameters[orbs[i]][1],Parameters[orbs[i]][1]],[0,1-Parameters[orbs[i]][2],Parameters[orbs[i]][2]],[0,1-Parameters[orbs[i]][2]-Parameters[orbs[i]][0],Parameters[orbs[i]][2]+Parameters[orbs[i]][0]]])\n",
    "    R1orbs.append(aux)\n"
   ]
  },
  {
   "cell_type": "markdown",
   "metadata": {},
   "source": [
    "Initialize the values of $c$ an $\\overline{c}$ as polynomials with coefficients on $\\mathbb{Q}(x^4-x^2+1)[\\cdot].$\n",
    "\n",
    "Without loose of generality we can assume that $c=\\sum_{j=0}^{3}b_j w^{j},$ where $\\{1,w^j\\}_{j=1}^{4}$ is the integral basis of $\\mathbb{Q}(x^4-x^2+1).$"
   ]
  },
  {
   "cell_type": "code",
   "execution_count": 42,
   "metadata": {},
   "outputs": [
    {
     "data": {
      "text/plain": [
       "[1, w, w^2, w^3]"
      ]
     },
     "execution_count": 42,
     "metadata": {},
     "output_type": "execute_result"
    }
   ],
   "source": [
    "K.integral_basis()"
   ]
  },
  {
   "cell_type": "code",
   "execution_count": 43,
   "metadata": {},
   "outputs": [
    {
     "name": "stdout",
     "output_type": "stream",
     "text": [
      "[                                             a   -b0 + (w^3 - w)*b1 + (w^2 - 1)*b2 + (w^3)*b3              b0 + (w)*b1 + (w^2)*b2 + (w^3)*b3]\n",
      "[         -b0 + (-w)*b1 + (-w^2)*b2 + (-w^3)*b3                                              a b0 + (-w^3 + w)*b1 + (-w^2 + 1)*b2 + (-w^3)*b3]\n",
      "[b0 + (-w^3 + w)*b1 + (-w^2 + 1)*b2 + (-w^3)*b3              b0 + (w)*b1 + (w^2)*b2 + (w^3)*b3                                              a]\n"
     ]
    }
   ],
   "source": [
    "Pol.<a,b0,b1,b2,b3>=PolynomialRing(K,['a','b0','b1','b2','b3'],order='lex')\n",
    "c=b0+w*b1+(w^2)*b2+(w^3)*b3;\n",
    "cconj=b0+conjugate(w)*b1+conjugate(w^2)*b2+conjugate(w^3)*b3\n",
    "H=matrix(Pol,3,3,[[a,-cconj,c],[-c,a,cconj],[cconj,c,a]]); print(H)"
   ]
  },
  {
   "cell_type": "code",
   "execution_count": 44,
   "metadata": {},
   "outputs": [
    {
     "data": {
      "text/plain": [
       "[[a + (1/3*w^3 - 2/3*w)*b1 - b2 + (2/3*w^3 - 4/3*w)*b3, b0 + (-1/3*w^3 + 2/3*w)*b1 + (1/3*w^3 - 2/3*w)*b3],\n",
       " [a + (-1/3*w^3 + 2/3*w)*b1 + b2 + (-2/3*w^3 + 4/3*w)*b3, b0 + (-2/3*w^3 + 4/3*w)*b1 + b2 + (-1/3*w^3 + 2/3*w)*b3],\n",
       " [a + (1/3*w^3 - 2/3*w)*b1 - b2 + (2/3*w^3 - 4/3*w)*b3, b0 + (-1/3*w^3 + 2/3*w)*b1 + (1/3*w^3 - 2/3*w)*b3],\n",
       " [a + (-1/3*w^3 + 2/3*w)*b1 + b2 + (-2/3*w^3 + 4/3*w)*b3, b0 + (-2/3*w^3 + 4/3*w)*b1 + b2 + (-1/3*w^3 + 2/3*w)*b3]]"
      ]
     },
     "execution_count": 44,
     "metadata": {},
     "output_type": "execute_result"
    }
   ],
   "source": [
    "Bo1=list();\n",
    "for i in range(len(ob3)):\n",
    "    RelHerm=(conjugate(transpose(R1o3[i]))*H*(R1o3[i])-H)\n",
    "    B=[RelHerm[0,0],(RelHerm[0,1]),(RelHerm[0,2]),RelHerm[1,0],(RelHerm[1,1]),(RelHerm[1,2]),RelHerm[2,0],RelHerm[2,1],(RelHerm[2,2])];\n",
    "    Bo1.append(B)\n",
    "Go1=list()\n",
    "for i in range(len(ob3)):\n",
    "    J=Pol.ideal(Bo1[i])\n",
    "    Grob=J.groebner_basis()\n",
    "    Go1.append(Grob)\n",
    "Go1"
   ]
  },
  {
   "cell_type": "code",
   "execution_count": 112,
   "metadata": {},
   "outputs": [
    {
     "data": {
      "text/plain": [
       "[[-w^3 + 2*w + 1, 0, 1, 1, 1],\n",
       " [w^3 - 2*w - 1, w^3 - 2*w - 1, 1, 1, 1],\n",
       " [-w^3 + 2*w + 1, 0, 1, 1, 1],\n",
       " [w^3 - 2*w - 1, w^3 - 2*w - 1, 1, 1, 1]]"
      ]
     },
     "execution_count": 112,
     "metadata": {},
     "output_type": "execute_result"
    }
   ],
   "source": [
    "Pola.<a>=PolynomialRing(K,'a')\n",
    "Polb.<b0>=PolynomialRing(K,'b0')\n",
    "Hparam=list();\n",
    "for i in range(len(ob3)):\n",
    "        aux=[Go1[i][0].substitute(b2=1,b1=1,b3=1),Go1[i][1].substitute(b2=1,b1=1,b3=1)]\n",
    "        aux1=Polb(aux[1]).roots(ring=K)[0][0]\n",
    "        aux2=Pola((aux[0]).substitute(b0=aux1)).roots(ring=K)[0][0]\n",
    "        Hparam.append([aux2,aux1,1,1,1])\n",
    "Hparam"
   ]
  },
  {
   "cell_type": "code",
   "execution_count": 46,
   "metadata": {},
   "outputs": [
    {
     "data": {
      "text/plain": [
       "Ring morphism:\n",
       "  From: Cyclotomic Field of order 12 and degree 4\n",
       "  To:   Algebraic Field\n",
       "  Defn: w |--> 0.866025403784439? + 0.500000000000000?*I"
      ]
     },
     "execution_count": 46,
     "metadata": {},
     "output_type": "execute_result"
    }
   ],
   "source": [
    "KEd=K.embeddings(QQbar)\n",
    "KEd[0]"
   ]
  },
  {
   "cell_type": "code",
   "execution_count": 113,
   "metadata": {},
   "outputs": [
    {
     "name": "stdout",
     "output_type": "stream",
     "text": [
      "No  2 [8.19615242270664? + 0.?e-17*I, 0, 0]\n",
      "No  3 [-8.19615242270664? + 0.?e-17*I, 0, 0]\n",
      "No  20 [8.19615242270664? + 0.?e-17*I, 0, 0]\n",
      "No  24 [-8.19615242270664? + 0.?e-17*I, 0, 0]\n"
     ]
    }
   ],
   "source": [
    "Ho1=list();\n",
    "evo1=list()\n",
    "for i in range(len(ob3)):\n",
    "    aux=H.substitute(a=Hparam[i][0],b0=Hparam[i][1],b1=Hparam[i][2],b2=Hparam[i][3],b3=Hparam[i][4])\n",
    "    Ho1.append(aux)\n",
    "aux=matrix(QQbar,3,3,[[0,0,0],[0,0,0],[0,0,0]])\n",
    "for i in range(len(ob3)):\n",
    "    for j in range(3):\n",
    "        for k in range(3):\n",
    "            aux[j,k]=KEd[0](Ho1[i][j,k])\n",
    "    evo1.append(aux.eigenvalues())\n",
    "for i in range(len(ob3)):\n",
    "    print('No ',ob3[i], evo1[i])"
   ]
  },
  {
   "cell_type": "code",
   "execution_count": 48,
   "metadata": {},
   "outputs": [
    {
     "data": {
      "text/plain": [
       "[[a + (1/3*w^3 - 2/3*w)*b1 - b2 + (2/3*w^3 - 4/3*w)*b3, b0 + (-1/3*w^3 + 2/3*w)*b1 + (1/3*w^3 - 2/3*w)*b3],\n",
       " [a + (-1/3*w^3 + 2/3*w)*b1 + b2 + (-2/3*w^3 + 4/3*w)*b3, b0 + (-2/3*w^3 + 4/3*w)*b1 + b2 + (-1/3*w^3 + 2/3*w)*b3],\n",
       " [a + (-1/3*w^3 + 2/3*w)*b1 + b2 + (-2/3*w^3 + 4/3*w)*b3, b0 + (-2/3*w^3 + 4/3*w)*b1 + b2 + (-1/3*w^3 + 2/3*w)*b3],\n",
       " [a + (1/3*w^3 - 2/3*w)*b1 - b2 + (2/3*w^3 - 4/3*w)*b3, b0 + (-1/3*w^3 + 2/3*w)*b1 + (1/3*w^3 - 2/3*w)*b3]]"
      ]
     },
     "execution_count": 48,
     "metadata": {},
     "output_type": "execute_result"
    }
   ],
   "source": [
    "Bo4=list();\n",
    "for i in range(len(ob4)):\n",
    "    RelHerm=(conjugate(transpose(R1o4[i]))*H*(R1o4[i])-H)\n",
    "    B=[RelHerm[0,0],(RelHerm[0,1]),(RelHerm[0,2]),RelHerm[1,0],(RelHerm[1,1]),(RelHerm[1,2]),RelHerm[2,0],RelHerm[2,1],(RelHerm[2,2])];\n",
    "    Bo4.append(B)\n",
    "Go2=list()\n",
    "for i in range(len(ob4)):\n",
    "    J=Pol.ideal(Bo4[i])\n",
    "    Grob=J.groebner_basis()\n",
    "    Go2.append(Grob)\n",
    "Go2"
   ]
  },
  {
   "cell_type": "code",
   "execution_count": 49,
   "metadata": {},
   "outputs": [],
   "source": [
    "Pola.<a>=PolynomialRing(K,'a')\n",
    "Polb.<b0>=PolynomialRing(K,'b0')\n",
    "aroots2=list();\n",
    "broots2=list();\n",
    "for i in range(len(ob4)):\n",
    "    aux=[Go2[i][0].substitute(b1=1,b2=1,b3=1),Go2[i][1].substitute(b1=1,b2=1,b3=1)]\n",
    "    aux1=Polb(aux[1]).roots(ring=K)[0][0]\n",
    "    broots2.append(aux1)\n",
    "    aroots2.append(Pola(aux[0].substitute(b0=aux1)).roots(ring=K)[0][0])"
   ]
  },
  {
   "cell_type": "code",
   "execution_count": 50,
   "metadata": {},
   "outputs": [
    {
     "name": "stdout",
     "output_type": "stream",
     "text": [
      "No  4 [8.19615242270664? + 0.?e-17*I, 0, 0]\n",
      "No  6 [-8.19615242270664? + 0.?e-17*I, 0, 0]\n",
      "No  21 [-8.19615242270664? + 0.?e-17*I, 0, 0]\n",
      "No  25 [8.19615242270664? + 0.?e-17*I, 0, 0]\n"
     ]
    }
   ],
   "source": [
    "Ho2=list();\n",
    "evo2=list()\n",
    "for i in range(len(ob4)):\n",
    "    aux=H.substitute(a=aroots2[i],b0=broots2[i],b1=1,b2=1,b3=1)\n",
    "    Ho2.append(aux)\n",
    "aux=matrix(QQbar,3,3,[[0,0,0],[0,0,0],[0,0,0]])\n",
    "for i in range(len(ob4)):\n",
    "    for j in range(3):\n",
    "        for k in range(3):\n",
    "            aux[j,k]=KEd[0](Ho2[i][j,k])\n",
    "    evo2.append(aux.eigenvalues())\n",
    "for i in range(len(ob4)):\n",
    "    print('No ',ob4[i], evo2[i])"
   ]
  },
  {
   "cell_type": "code",
   "execution_count": 51,
   "metadata": {},
   "outputs": [
    {
     "data": {
      "text/plain": [
       "[[a + (-7*w^3 + 14*w - 12)*b1 + (12*w^3 - 24*w + 21)*b2 + (-14*w^3 + 28*w - 24)*b3, b0 + (8*w^3 - 16*w + 14)*b1 + (-14*w^3 + 28*w - 25)*b2 + (17*w^3 - 34*w + 28)*b3],\n",
       " [a + (7*w^3 - 14*w - 12)*b1 + (12*w^3 - 24*w - 21)*b2 + (14*w^3 - 28*w - 24)*b3, b0 + (-9*w^3 + 18*w + 14)*b1 + (-14*w^3 + 28*w + 26)*b2 + (-17*w^3 + 34*w + 28)*b3],\n",
       " [a + (7*w^3 - 14*w + 12)*b1 + (-12*w^3 + 24*w - 21)*b2 + (14*w^3 - 28*w + 24)*b3, b0 + (-9*w^3 + 18*w - 14)*b1 + (14*w^3 - 28*w + 26)*b2 + (-17*w^3 + 34*w - 28)*b3],\n",
       " [a + (-7*w^3 + 14*w + 12)*b1 + (-12*w^3 + 24*w + 21)*b2 + (-14*w^3 + 28*w + 24)*b3, b0 + (8*w^3 - 16*w - 14)*b1 + (14*w^3 - 28*w - 25)*b2 + (17*w^3 - 34*w - 28)*b3]]"
      ]
     },
     "execution_count": 51,
     "metadata": {},
     "output_type": "execute_result"
    }
   ],
   "source": [
    "Bo5=list();\n",
    "Go3=list();\n",
    "for i in range(len(ob5)):\n",
    "    RelHerm=(conjugate(transpose(R1o5[i]))*H*(R1o5[i])-H)\n",
    "    B=[RelHerm[0,0],(RelHerm[0,1]),(RelHerm[0,2]),RelHerm[1,0],(RelHerm[1,1]),(RelHerm[1,2]),RelHerm[2,0],RelHerm[2,1],(RelHerm[2,2])];\n",
    "    Bo5.append(B)\n",
    "for i in range(len(ob5)):\n",
    "    J=Pol.ideal(Bo5[i])\n",
    "    Grob=J.groebner_basis()\n",
    "    Go3.append(Grob)\n",
    "Go3"
   ]
  },
  {
   "cell_type": "code",
   "execution_count": 52,
   "metadata": {},
   "outputs": [],
   "source": [
    "Pola.<a>=PolynomialRing(K,'a')\n",
    "Polb.<b0>=PolynomialRing(K,'b0')\n",
    "aroots3=list();\n",
    "broots3=list();\n",
    "for i in range(len(ob5)):\n",
    "    aux=[Go3[i][0].substitute(b1=1,b2=1,b3=1),Go3[i][1].substitute(b1=1,b2=1,b3=1)]\n",
    "    aux1=Polb(aux[1]).roots(ring=K)[0][0]\n",
    "    broots3.append(aux1)\n",
    "    aroots3.append(Pola(aux[0].substitute(b0=aux1)).roots(ring=K)[0][0])"
   ]
  },
  {
   "cell_type": "code",
   "execution_count": 53,
   "metadata": {},
   "outputs": [
    {
     "name": "stdout",
     "output_type": "stream",
     "text": [
      "No  5 [6.928203230275509? + 0.?e-17*I, -1.267949192431123? + 0.?e-18*I, -7.425625842204073? + 0.?e-17*I]\n",
      "No  7 [385.9896904477143? + 0.?e-16*I, -17.66025403784439? + 0.?e-17*I, -25.85640646055102? + 0.?e-17*I]\n",
      "No  22 [7.425625842204073? + 0.?e-17*I, 1.267949192431123? + 0.?e-18*I, -6.928203230275509? + 0.?e-17*I]\n",
      "No  26 [25.85640646055102? + 0.?e-17*I, 17.66025403784439? + 0.?e-17*I, -385.9896904477143? + 0.?e-16*I]\n"
     ]
    }
   ],
   "source": [
    "Ho3=list();\n",
    "evo3=list();\n",
    "for i in range(len(ob5)):\n",
    "    aux=H.substitute(a=aroots3[i],b0=broots3[i],b1=1,b2=1,b3=1)\n",
    "    Ho3.append(aux)\n",
    "aux=matrix(QQbar,3,3,[[0,0,0],[0,0,0],[0,0,0]])\n",
    "for i in range(len(ob5)):\n",
    "    for j in range(3):\n",
    "        for k in range(3):\n",
    "            aux[j,k]=KEd[0](Ho3[i][j,k])\n",
    "    evo3.append(aux.eigenvalues())\n",
    "for i in range(len(ob5)):\n",
    "    print('No ',ob5[i], evo3[i])"
   ]
  },
  {
   "cell_type": "code",
   "execution_count": 54,
   "metadata": {},
   "outputs": [
    {
     "data": {
      "text/plain": [
       "[[a + (-11*w^3 + 22*w + 20)*b1 + (-20*w^3 + 40*w + 33)*b2 + (-22*w^3 + 44*w + 40)*b3, b0 + (10*w^3 - 20*w - 18)*b1 + (18*w^3 - 36*w - 31)*b2 + (21*w^3 - 42*w - 36)*b3],\n",
       " [a + (11*w^3 - 22*w + 20)*b1 + (-20*w^3 + 40*w - 33)*b2 + (22*w^3 - 44*w + 40)*b3, b0 + (-11*w^3 + 22*w - 18)*b1 + (18*w^3 - 36*w + 32)*b2 + (-21*w^3 + 42*w - 36)*b3],\n",
       " [a + (11*w^3 - 22*w - 20)*b1 + (20*w^3 - 40*w - 33)*b2 + (22*w^3 - 44*w - 40)*b3, b0 + (-11*w^3 + 22*w + 18)*b1 + (-18*w^3 + 36*w + 32)*b2 + (-21*w^3 + 42*w + 36)*b3],\n",
       " [a + (-11*w^3 + 22*w - 20)*b1 + (20*w^3 - 40*w + 33)*b2 + (-22*w^3 + 44*w - 40)*b3, b0 + (10*w^3 - 20*w + 18)*b1 + (-18*w^3 + 36*w - 31)*b2 + (21*w^3 - 42*w + 36)*b3]]"
      ]
     },
     "execution_count": 54,
     "metadata": {},
     "output_type": "execute_result"
    }
   ],
   "source": [
    "Bo10=list();\n",
    "Go4=list();\n",
    "for i in range(len(ob10)):\n",
    "    RelHerm=(conjugate(transpose(R1o10[i]))*H*(R1o10[i])-H)\n",
    "    B=[RelHerm[0,0],(RelHerm[0,1]),(RelHerm[0,2]),RelHerm[1,0],(RelHerm[1,1]),(RelHerm[1,2]),RelHerm[2,0],RelHerm[2,1],(RelHerm[2,2])];\n",
    "    Bo10.append(B)\n",
    "for i in range(len(ob10)):\n",
    "    J=Pol.ideal(Bo10[i])\n",
    "    Grob=J.groebner_basis()\n",
    "    Go4.append(Grob)\n",
    "Go4"
   ]
  },
  {
   "cell_type": "code",
   "execution_count": 114,
   "metadata": {},
   "outputs": [],
   "source": [
    "Pola.<a>=PolynomialRing(K,'a')\n",
    "Polb.<b0>=PolynomialRing(K,'b0')\n",
    "aroots4=list();\n",
    "broots4=list();\n",
    "for i in range(len(ob10)):\n",
    "    aux=[Go4[i][0].substitute(b1=1,b2=1,b3=1),Go4[i][1].substitute(b1=1,b2=1,b3=1)]\n",
    "    aux1=Polb(aux[1]).roots(ring=K)[0][0]\n",
    "    broots4.append(aux1)\n",
    "    aroots4.append(Pola(aux[0].substitute(b0=aux1)).roots(ring=K)[0][0])"
   ]
  },
  {
   "cell_type": "code",
   "execution_count": 115,
   "metadata": {},
   "outputs": [
    {
     "name": "stdout",
     "output_type": "stream",
     "text": [
      "No  13 [-9.46410161513776? + 0.?e-36*I, -17.66025403784439? + 0.?e-35*I, -527.2717227504693? + 0.?e-35*I]\n",
      "No  14 [-1.267949192431123? + 0.?e-17*I, -2.717967697244908? + 0.?e-16*I, -9.46410161513776? + 0.?e-16*I]\n",
      "No  15 [527.2717227504693? + 0.?e-35*I, 17.66025403784439? + 0.?e-35*I, 9.46410161513776? + 0.?e-36*I]\n",
      "No  16 [9.46410161513776? + 0.?e-16*I, 2.717967697244908? + 0.?e-16*I, 1.267949192431123? + 0.?e-17*I]\n"
     ]
    }
   ],
   "source": [
    "Ho4=list();\n",
    "evo4=list();\n",
    "for i in range(len(ob10)):\n",
    "    aux=H.substitute(a=aroots4[i],b0=broots4[i],b1=1,b2=1,b3=1)\n",
    "    Ho4.append(aux)\n",
    "aux=matrix(QQbar,3,3,[[0,0,0],[0,0,0],[0,0,0]])\n",
    "for i in range(len(ob10)):\n",
    "    for j in range(3):\n",
    "        for k in range(3):\n",
    "            aux[j,k]=KEd[0](Ho4[i][j,k])\n",
    "    evo4.append(aux.eigenvalues())\n",
    "for i in range(len(ob10)):\n",
    "    print('No ',ob10[i], evo4[i])"
   ]
  },
  {
   "cell_type": "code",
   "execution_count": 58,
   "metadata": {},
   "outputs": [
    {
     "data": {
      "text/plain": [
       "[[a, b0 + (-1/2*w^3 + w + 1/2)*b1 + (-1/2*w^3 + w + 1/2)*b2 + b3],\n",
       " [a, b0 + (-1/2*w^3 + w - 1/2)*b1 + (1/2*w^3 - w + 1/2)*b2 - b3],\n",
       " [a + b0 - b2 + (w^3 - 2*w)*b3, b1 + (-w^3 + 2*w)*b2 + 2*b3],\n",
       " [a + b0 - b2 + (w^3 - 2*w)*b3, b1 + (-w^3 + 2*w)*b2 + 2*b3],\n",
       " [a + b0 - b2 + (w^3 - 2*w)*b3, b1 + (-w^3 + 2*w)*b2 + 2*b3],\n",
       " [a + b0 - b2 + (w^3 - 2*w)*b3, b1 + (-w^3 + 2*w)*b2 + 2*b3],\n",
       " [b0 - b2 + (w^3 - 2*w)*b3, b1 + (-w^3 + 2*w)*b2 + 2*b3],\n",
       " [a + (-7/3*w^3 + 14/3*w)*b1 + 7*b2 + (-14/3*w^3 + 28/3*w)*b3, b0 + (w^3 - 2*w)*b1 - 4*b2 + (3*w^3 - 6*w)*b3],\n",
       " [a + (7/3*w^3 - 14/3*w)*b1 - 7*b2 + (14/3*w^3 - 28/3*w)*b3, b0 + (-2*w^3 + 4*w)*b1 + 5*b2 + (-3*w^3 + 6*w)*b3],\n",
       " [a + b1 + (-w^3 + 2*w)*b2 + 2*b3, b0 + (-1/2*w^3 + w)*b1 + 1/2*b2],\n",
       " [a - b1 + (w^3 - 2*w)*b2 - 2*b3, b0 + (-1/2*w^3 + w)*b1 + 1/2*b2]]"
      ]
     },
     "execution_count": 58,
     "metadata": {},
     "output_type": "execute_result"
    }
   ],
   "source": [
    "Borbs=list();\n",
    "Go5=list();\n",
    "for i in range(len(orbs)):\n",
    "    RelHerm=(conjugate(transpose(R1orbs[i]))*H*(R1orbs[i])-H)\n",
    "    B=[RelHerm[0,0],(RelHerm[0,1]),(RelHerm[0,2]),RelHerm[1,0],(RelHerm[1,1]),(RelHerm[1,2]),RelHerm[2,0],RelHerm[2,1],(RelHerm[2,2])];\n",
    "    Borbs.append(B)\n",
    "for i in range(len(orbs)):\n",
    "    J=Pol.ideal(Borbs[i])\n",
    "    Grob=J.groebner_basis()\n",
    "    Go5.append(Grob)\n",
    "Go5"
   ]
  },
  {
   "cell_type": "markdown",
   "metadata": {},
   "source": [
    "We compute the $a$ and $c$ parameters for the orbit $\\{0,18\\}.$"
   ]
  },
  {
   "cell_type": "code",
   "execution_count": 76,
   "metadata": {},
   "outputs": [],
   "source": [
    "Pola.<a>=PolynomialRing(K,'a')\n",
    "Polb.<b0>=PolynomialRing(K,'b0')\n",
    "Hpob1=list()\n",
    "for i in range(2):\n",
    "    aux=[Go5[i][0].substitute(b1=1,b2=1,b3=1),Go5[i][1].substitute(b1=1,b2=1,b3=1)]\n",
    "    aux1=Pola(aux[0]).roots(ring=K)[0][0]\n",
    "    aux2=Polb(aux[1]).roots(ring=K)[0][0]\n",
    "    Hpob1.append([aux1,aux2])\n"
   ]
  },
  {
   "cell_type": "code",
   "execution_count": 85,
   "metadata": {},
   "outputs": [
    {
     "name": "stdout",
     "output_type": "stream",
     "text": [
      "No 0 : [4.732050807568877? + 0.?e-18*I, 1.732050807568878? + 0.?e-18*I, -6.464101615137755? + 0.?e-18*I]\n",
      "No 18 : [6.464101615137755? + 0.?e-18*I, -1.732050807568878? + 0.?e-18*I, -4.732050807568877? + 0.?e-18*I]\n"
     ]
    }
   ],
   "source": [
    "Hob1=list()\n",
    "evob1=list()\n",
    "for i in range(2):\n",
    "    aux=H.substitute(a=Hpob1[i][0],b0=Hpob1[i][1],b1=1,b2=1,b3=1);\n",
    "    Hob1.append(aux)\n",
    "aux=matrix(QQbar,3,3,[[0,0,0],[0,0,0],[0,0,0]])\n",
    "for i in range(2):\n",
    "    for j in range(3):\n",
    "        for k in range(3):\n",
    "            aux[j,k]=KEd[0](Hob1[i][j,k])\n",
    "    evob1.append(aux.eigenvalues())\n",
    "for i in range(2):\n",
    "    print('No',ob1[i],':',evob1[i])"
   ]
  },
  {
   "cell_type": "code",
   "execution_count": 86,
   "metadata": {},
   "outputs": [
    {
     "name": "stdout",
     "output_type": "stream",
     "text": [
      "No 1 : [5.196152422706632? + 0.?e-17*I, 0, 0]\n",
      "No 19 : [5.196152422706632? + 0.?e-17*I, 0, 0]\n"
     ]
    }
   ],
   "source": [
    "Pola.<a>=PolynomialRing(K,'a')\n",
    "Polb.<b1>=PolynomialRing(K,'b1')\n",
    "Hpob2=list()\n",
    "for i in range(2):\n",
    "    aux=[Go5[2+i][0].substitute(b0=1,b2=1,b3=1),Go5[2+i][1].substitute(b0=1,b2=1,b3=1)]\n",
    "    aux1=Pola(aux[0]).roots(ring=K)[0][0]\n",
    "    aux2=Polb(aux[1]).roots(ring=K)[0][0]\n",
    "    Hpob2.append([aux1,aux2])\n",
    "\n",
    "Hob2=list()\n",
    "evob2=list()\n",
    "for i in range(2):\n",
    "    aux=H.substitute(a=Hpob2[i][0],b0=1,b1=Hpob2[i][1],b2=1,b3=1);\n",
    "    Hob2.append(aux)\n",
    "aux=matrix(QQbar,3,3,[[0,0,0],[0,0,0],[0,0,0]])\n",
    "for i in range(2):\n",
    "    for j in range(3):\n",
    "        for k in range(3):\n",
    "            aux[j,k]=KEd[0](Hob2[i][j,k])\n",
    "    evob2.append(aux.eigenvalues())\n",
    "for i in range(2):\n",
    "    print('No',ob2[i],':',evob2[i])"
   ]
  },
  {
   "cell_type": "code",
   "execution_count": 88,
   "metadata": {},
   "outputs": [
    {
     "name": "stdout",
     "output_type": "stream",
     "text": [
      "No 8 : [5.196152422706632? + 0.?e-17*I, 0, 0]\n",
      "No 23 : [5.196152422706632? + 0.?e-17*I, 0, 0]\n"
     ]
    }
   ],
   "source": [
    "Pola.<a>=PolynomialRing(K,'a')\n",
    "Polb.<b1>=PolynomialRing(K,'b1')\n",
    "Hpob6=list()\n",
    "for i in range(2):\n",
    "    aux=[Go5[4+i][0].substitute(b0=1,b2=1,b3=1),Go5[4+i][1].substitute(b0=1,b2=1,b3=1)]\n",
    "    aux1=Pola(aux[0]).roots(ring=K)[0][0]\n",
    "    aux2=Polb(aux[1]).roots(ring=K)[0][0]\n",
    "    Hpob6.append([aux1,aux2])\n",
    "\n",
    "Hob6=list()\n",
    "evob6=list()\n",
    "for i in range(2):\n",
    "    aux=H.substitute(a=Hpob6[i][0],b0=1,b1=Hpob6[i][1],b2=1,b3=1);\n",
    "    Hob6.append(aux)\n",
    "aux=matrix(QQbar,3,3,[[0,0,0],[0,0,0],[0,0,0]])\n",
    "for i in range(2):\n",
    "    for j in range(3):\n",
    "        for k in range(3):\n",
    "            aux[j,k]=KEd[0](Hob6[i][j,k])\n",
    "    evob6.append(aux.eigenvalues())\n",
    "for i in range(2):\n",
    "    print('No',ob6[i],':',evob6[i])"
   ]
  },
  {
   "cell_type": "code",
   "execution_count": 89,
   "metadata": {},
   "outputs": [
    {
     "name": "stdout",
     "output_type": "stream",
     "text": [
      "No 1 : [5.196152422706632? + 0.?e-17*I, 0, 0]\n",
      "No 19 : [5.196152422706632? + 0.?e-17*I, 0, 0]\n"
     ]
    }
   ],
   "source": [
    "Pola.<a>=PolynomialRing(K,'a')\n",
    "Polb.<b1>=PolynomialRing(K,'b1')\n",
    "Hpob2=list()\n",
    "for i in range(2):\n",
    "    aux=[Go5[2+i][0].substitute(b0=1,b2=1,b3=1),Go5[2+i][1].substitute(b0=1,b2=1,b3=1)]\n",
    "    aux1=Pola(aux[0]).roots(ring=K)[0][0]\n",
    "    aux2=Polb(aux[1]).roots(ring=K)[0][0]\n",
    "    Hpob2.append([aux1,aux2])\n",
    "\n",
    "Hob2=list()\n",
    "evob2=list()\n",
    "for i in range(2):\n",
    "    aux=H.substitute(a=Hpob2[i][0],b0=1,b1=Hpob2[i][1],b2=1,b3=1);\n",
    "    Hob2.append(aux)\n",
    "aux=matrix(QQbar,3,3,[[0,0,0],[0,0,0],[0,0,0]])\n",
    "for i in range(2):\n",
    "    for j in range(3):\n",
    "        for k in range(3):\n",
    "            aux[j,k]=KEd[0](Hob2[i][j,k])\n",
    "    evob2.append(aux.eigenvalues())\n",
    "for i in range(2):\n",
    "    print('No',ob2[i],':',evob2[i])"
   ]
  },
  {
   "cell_type": "code",
   "execution_count": 91,
   "metadata": {},
   "outputs": [
    {
     "name": "stdout",
     "output_type": "stream",
     "text": [
      "No 9 : [1, 1, 1]\n"
     ]
    }
   ],
   "source": [
    "Hpob7=[1,1-(w^3-2*w),-(-w^3+2*w)-2,1,1]\n",
    "Hob7=H.substitute(a=Hpob9[0],b0=Hpob9[1],b1=Hpob9[2],b2=Hpob9[3],b3=Hpob9[4]);\n",
    "aux=matrix(QQbar,3,3,[[0,0,0],[0,0,0],[0,0,0]])\n",
    "for j in range(3):\n",
    "    for k in range(3):\n",
    "        aux[j,k]=KEd[0](Hob7[j,k])\n",
    "ev7=aux.eigenvalues()\n",
    "\n",
    "print('No',ob7[0],':',ev7)"
   ]
  },
  {
   "cell_type": "code",
   "execution_count": 92,
   "metadata": {},
   "outputs": [
    {
     "name": "stdout",
     "output_type": "stream",
     "text": [
      "No 10 : [-14.39230484541327? + 0.?e-16*I, -17.39230484541327? + 0.?e-16*I, -25.58845726811990? + 0.?e-16*I]\n",
      "No 11 : [23.85640646055102? + 0.?e-15*I, 20.85640646055102? + 0.?e-15*I, 12.66025403784439? + 0.?e-16*I]\n"
     ]
    }
   ],
   "source": [
    "Pola.<a>=PolynomialRing(K,'a')\n",
    "Polb.<b0>=PolynomialRing(K,'b0')\n",
    "Hpob8=list()\n",
    "for i in range(2):\n",
    "    aux=[Go5[7+i][0].substitute(b1=1,b2=1,b3=1),Go5[7+i][1].substitute(b1=1,b2=1,b3=1)]\n",
    "    aux1=Pola(aux[0]).roots(ring=K)[0][0]\n",
    "    aux2=Polb(aux[1]).roots(ring=K)[0][0]\n",
    "    Hpob8.append([aux1,aux2])\n",
    "\n",
    "Hob8=list()\n",
    "evob8=list()\n",
    "for i in range(2):\n",
    "    aux=H.substitute(a=Hpob8[i][0],b0=Hpob2[i][1],b1=1,b2=1,b3=1);\n",
    "    Hob8.append(aux)\n",
    "aux=matrix(QQbar,3,3,[[0,0,0],[0,0,0],[0,0,0]])\n",
    "for i in range(2):\n",
    "    for j in range(3):\n",
    "        for k in range(3):\n",
    "            aux[j,k]=KEd[0](Hob8[i][j,k])\n",
    "    evob8.append(aux.eigenvalues())\n",
    "for i in range(2):\n",
    "    print('No',ob8[i],':',evob8[i])"
   ]
  },
  {
   "cell_type": "code",
   "execution_count": 93,
   "metadata": {},
   "outputs": [
    {
     "name": "stdout",
     "output_type": "stream",
     "text": [
      "No 12 : [-0.633974596215562? + 0.?e-18*I, -4.732050807568877? + 0.?e-17*I, -8.83012701892220? + 0.?e-17*I]\n",
      "No 17 : [8.83012701892220? + 0.?e-17*I, 4.732050807568877? + 0.?e-17*I, 0.633974596215562? + 0.?e-18*I]\n"
     ]
    }
   ],
   "source": [
    "Pola.<a>=PolynomialRing(K,'a')\n",
    "Polb.<b0>=PolynomialRing(K,'b0')\n",
    "Hpob9=list()\n",
    "for i in range(2):\n",
    "    aux=[Go5[9+i][0].substitute(b1=1,b2=1,b3=1),Go5[9+i][1].substitute(b1=1,b2=1,b3=1)]\n",
    "    aux1=Pola(aux[0]).roots(ring=K)[0][0]\n",
    "    aux2=Polb(aux[1]).roots(ring=K)[0][0]\n",
    "    Hpob9.append([aux1,aux2])\n",
    "\n",
    "Hob9=list()\n",
    "evob9=list()\n",
    "for i in range(2):\n",
    "    aux=H.substitute(a=Hpob9[i][0],b0=Hpob9[i][1],b1=1,b2=1,b3=1);\n",
    "    Hob9.append(aux)\n",
    "aux=matrix(QQbar,3,3,[[0,0,0],[0,0,0],[0,0,0]])\n",
    "for i in range(2):\n",
    "    for j in range(3):\n",
    "        for k in range(3):\n",
    "            aux[j,k]=KEd[0](Hob9[i][j,k])\n",
    "    evob9.append(aux.eigenvalues())\n",
    "for i in range(2):\n",
    "    print('No',ob9[i],':',evob9[i])"
   ]
  },
  {
   "cell_type": "markdown",
   "metadata": {},
   "source": [
    "## 1.3 The Cusp Stabilizer\n",
    "\n",
    "For the Deligne-Mostow $(4,4)$ lattice, the cusp stabilizer, $\\Gamma_{cusp},$ is generated by the $J R_1 J^2$ and $J R_1^3 J^2 R_1^3 J.$ In particular, the centralizer of $\\Gamma_{cusp}$ is generated by $\\left(R_1^3 J\\right)^2.$\n",
    "\n",
    "For certains parameters, their centralizer group generator is a finite order elliptic element. In what follows, we compute the Jordan decomposition of the centralizer generator."
   ]
  },
  {
   "cell_type": "code",
   "execution_count": 107,
   "metadata": {},
   "outputs": [
    {
     "name": "stdout",
     "output_type": "stream",
     "text": [
      "No 2 : [ w^2    0    0]\n",
      "[   0 -w^2    0]\n",
      "[   0    0 -w^2]\n",
      "No 3 : [-w^2 + 1        0        0]\n",
      "[       0  w^2 - 1        0]\n",
      "[       0        0  w^2 - 1]\n",
      "No 20 : [ w^2    0    0]\n",
      "[   0 -w^2    0]\n",
      "[   0    0 -w^2]\n",
      "No 24 : [-w^2 + 1        0        0]\n",
      "[       0  w^2 - 1        0]\n",
      "[       0        0  w^2 - 1]\n"
     ]
    }
   ],
   "source": [
    "J0=matrix(K,3,3,[[0,0,1],[-1,0,0],[0,1,0]]);\n",
    "CJFob3=list();\n",
    "for i in range(len(ob3)):\n",
    "    aux=((R1o3[i]**3)*J0)**2\n",
    "    CJFob3.append(aux.jordan_form(subdivide=False))\n",
    "for i in range(len(ob3)):\n",
    "    print('No',ob3[i],':',CJFob3[i])"
   ]
  },
  {
   "cell_type": "code",
   "execution_count": 108,
   "metadata": {},
   "outputs": [
    {
     "name": "stdout",
     "output_type": "stream",
     "text": [
      "No 4 : [    -w^2        0        0]\n",
      "[       0 -w^3 + w        0]\n",
      "[       0        0 -w^3 + w]\n",
      "No 6 : [w^2 - 1       0       0]\n",
      "[      0      -w       0]\n",
      "[      0       0      -w]\n",
      "No 21 : [w^2 - 1       0       0]\n",
      "[      0       w       0]\n",
      "[      0       0       w]\n",
      "No 25 : [   -w^2       0       0]\n",
      "[      0 w^3 - w       0]\n",
      "[      0       0 w^3 - w]\n"
     ]
    }
   ],
   "source": [
    "CJFob4=list();\n",
    "for i in range(len(ob4)):\n",
    "    aux=((R1o4[i]**3)*J0)**2\n",
    "    CJFob4.append(aux.jordan_form(subdivide=False))\n",
    "for i in range(len(ob4)):\n",
    "    print('No',ob4[i],':',CJFob4[i])"
   ]
  },
  {
   "cell_type": "code",
   "execution_count": 109,
   "metadata": {},
   "outputs": [
    {
     "name": "stdout",
     "output_type": "stream",
     "text": [
      "No 5 : [-w^2 + 1        1        0]\n",
      "[       0 -w^2 + 1        0]\n",
      "[       0        0 -w^2 + 1]\n",
      "No 7 : [w^2   1   0]\n",
      "[  0 w^2   0]\n",
      "[  0   0 w^2]\n",
      "No 22 : [w^2   1   0]\n",
      "[  0 w^2   0]\n",
      "[  0   0 w^2]\n",
      "No 26 : [-w^2 + 1        1        0]\n",
      "[       0 -w^2 + 1        0]\n",
      "[       0        0 -w^2 + 1]\n"
     ]
    }
   ],
   "source": [
    "CJFob5=list();\n",
    "for i in range(len(ob5)):\n",
    "    aux=((R1o5[i]**3)*J0)**2\n",
    "    CJFob5.append(aux.jordan_form(subdivide=False))\n",
    "for i in range(len(ob5)):\n",
    "    print('No',ob5[i],':',CJFob5[i])"
   ]
  },
  {
   "cell_type": "code",
   "execution_count": 110,
   "metadata": {},
   "outputs": [
    {
     "name": "stdout",
     "output_type": "stream",
     "text": [
      "No 13 : [-w^2 + 1        0        0]\n",
      "[       0        w        0]\n",
      "[       0        0        w]\n",
      "No 14 : [    w^2       0       0]\n",
      "[      0 w^3 - w       0]\n",
      "[      0       0 w^3 - w]\n",
      "No 15 : [     w^2        0        0]\n",
      "[       0 -w^3 + w        0]\n",
      "[       0        0 -w^3 + w]\n",
      "No 16 : [-w^2 + 1        0        0]\n",
      "[       0       -w        0]\n",
      "[       0        0       -w]\n"
     ]
    }
   ],
   "source": [
    "CJFob10=list();\n",
    "for i in range(len(ob10)):\n",
    "    aux=((R1o10[i]**3)*J0)**2\n",
    "    CJFob10.append(aux.jordan_form(subdivide=False))\n",
    "for i in range(len(ob10)):\n",
    "    print('No',ob10[i],':',CJFob10[i])"
   ]
  },
  {
   "cell_type": "code",
   "execution_count": 111,
   "metadata": {},
   "outputs": [
    {
     "name": "stdout",
     "output_type": "stream",
     "text": [
      "No 0 : [-1  1  0]\n",
      "[ 0 -1  0]\n",
      "[ 0  0 -1]\n",
      "No 18 : [-1  1  0]\n",
      "[ 0 -1  0]\n",
      "[ 0  0 -1]\n",
      "No 1 : [  1   0   0]\n",
      "[  0 w^3   0]\n",
      "[  0   0 w^3]\n",
      "No 19 : [   1    0    0]\n",
      "[   0 -w^3    0]\n",
      "[   0    0 -w^3]\n",
      "No 8 : [-1  0  0]\n",
      "[ 0  1  0]\n",
      "[ 0  0  1]\n",
      "No 23 : [-1  0  0]\n",
      "[ 0  1  0]\n",
      "[ 0  0  1]\n",
      "No 9 : [ 1  0  0]\n",
      "[ 0 -1  0]\n",
      "[ 0  0 -1]\n",
      "No 10 : [-w^2    0    0]\n",
      "[   0  w^2    0]\n",
      "[   0    0  w^2]\n",
      "No 11 : [ w^2 - 1        0        0]\n",
      "[       0 -w^2 + 1        0]\n",
      "[       0        0 -w^2 + 1]\n",
      "No 12 : [ -1   0   0]\n",
      "[  0 w^3   0]\n",
      "[  0   0 w^3]\n",
      "No 17 : [  -1    0    0]\n",
      "[   0 -w^3    0]\n",
      "[   0    0 -w^3]\n"
     ]
    }
   ],
   "source": [
    "CJForbs=list();\n",
    "for i in range(len(orbs)):\n",
    "    aux=((R1orbs[i]**3)*J0)**2\n",
    "    CJForbs.append(aux.jordan_form(subdivide=False))\n",
    "for i in range(len(orbs)):\n",
    "    print('No',orbs[i],':',CJForbs[i])"
   ]
  },
  {
   "cell_type": "markdown",
   "metadata": {},
   "source": [
    "# 2. The degenerate configuration.\n",
    "\n",
    "The degenerate configuration is when one of the fixed point of $J$ belong to the fixed line of $R_1$. We can reduce this case by assuming tha the fixed  point of $J$ in question is $e_1.$\n",
    "\n",
    "On this configuration, $J$ correspond to a diagonal element of order three and $R_1$ preserve the same form as the non-degenerate configuration."
   ]
  },
  {
   "cell_type": "code",
   "execution_count": 116,
   "metadata": {},
   "outputs": [],
   "source": [
    "K.<w>=CyclotomicField(12)"
   ]
  },
  {
   "cell_type": "code",
   "execution_count": 117,
   "metadata": {},
   "outputs": [],
   "source": [
    "RR.<r2,x,y>=PolynomialRing(K,['r2','x','y'],order='lex');\n",
    "Jd=matrix(RR,3,3,[[1,0,0],[0,y,0],[0,0,y^2]])\n",
    "R1d=matrix(RR,3,3,[[1,-1,1],[0,1-r2,r2],[0,1-r2-x,r2+x]]);\n",
    "R2d=Jd*R1d*(Jd*Jd);\n",
    "Pd=(R1d*R2d);\n",
    "\n",
    "rel5=((R1d*Jd)**(8));\n",
    "R13=(R1d^3)\n",
    "rel6=((R1d*Jd*R1d*Jd*Jd*R1d*Jd*R13*Jd*Jd*R13*Jd*R13*Jd*Jd));\n",
    "\n",
    "eq0d=[(rel5[0,1]), (rel5[0,2]), (rel5[1,0]), (rel5[1,2]), (rel5[2,0]), (rel5[2,1]), (rel6[0,1]), (rel6[0,2]), (rel6[1,0]),(rel6[1,2]),(rel6[2,0]),(rel6[2,1])];\n",
    "eq1d=[(rel5[0,0]-rel5[1,1]),(rel5[1,1]-rel5[2,2]),(rel6[0,0]-rel6[1,1]),(rel6[1,1]-rel6[2,2])];\n",
    "\n",
    "\n",
    "Bd=list();\n",
    "for i in range(len(eq0d)):\n",
    "    Bd.append(eq0d[i]);\n",
    "for i in range(len(eq1d)):\n",
    "    Bd.append(eq1d[i]);"
   ]
  },
  {
   "cell_type": "markdown",
   "metadata": {},
   "source": [
    "We use Groebner basis to reduce the system $B_d.$ In the particular case of $(3,6),$ there is no solution."
   ]
  },
  {
   "cell_type": "code",
   "execution_count": 118,
   "metadata": {},
   "outputs": [
    {
     "name": "stdout",
     "output_type": "stream",
     "text": [
      "[r2^2 + r2*x - r2 - 1/3*x, x^2 + 1, y^2 + y + 1]\n"
     ]
    },
    {
     "data": {
      "text/plain": [
       "3"
      ]
     },
     "execution_count": 118,
     "metadata": {},
     "output_type": "execute_result"
    }
   ],
   "source": [
    "RR.<r2,x,y>=PolynomialRing(K,['r2','x','y'],order='lex');\n",
    "Bd.append(y^2+y+1);\n",
    "\n",
    "Jdegenerate=RR.ideal(Bd);\n",
    "Gdegenerate=Jdegenerate.groebner_basis()\n",
    "print(Gdegenerate)\n",
    "len(Gdegenerate)"
   ]
  },
  {
   "cell_type": "code",
   "execution_count": 119,
   "metadata": {},
   "outputs": [
    {
     "name": "stdout",
     "output_type": "stream",
     "text": [
      "r2 in [2/3*w^3 - 1/3*w^2 - 1/3*w + 2/3, 1/3*w^3 + 1/3*w^2 + 1/3*w + 1/3, -1/3*w^3 + 1/3*w^2 - 1/3*w + 1/3, -2/3*w^3 - 1/3*w^2 + 1/3*w + 2/3]\n"
     ]
    }
   ],
   "source": [
    "r2rootsdegenerate=list();\n",
    "r2idealdegenerate=Jdegenerate.elimination_ideal([x,y]);\n",
    "r2poldegenerate=r2idealdegenerate.gens();\n",
    "Poly2.<r2>=PolynomialRing(K,'r2')\n",
    "aux=Poly2(r2poldegenerate[0]).roots(ring=K)\n",
    "for i in range(len(aux)):\n",
    "    r2rootsdegenerate.append(aux[i][0])\n",
    "\n",
    "print('r2 in', r2rootsdegenerate)"
   ]
  },
  {
   "cell_type": "code",
   "execution_count": 120,
   "metadata": {},
   "outputs": [
    {
     "name": "stdout",
     "output_type": "stream",
     "text": [
      "[[x + w^3], [x + w^3], [x - w^3], [x - w^3]]\n"
     ]
    }
   ],
   "source": [
    "xGroebner=list();\n",
    "xB=list();\n",
    "RR1.<x>=PolynomialRing(K,['x'],order='lex');\n",
    "for j in range(len(r2rootsdegenerate)):\n",
    "    Bd1=list();\n",
    "    for i in range(len(Gdegenerate)):\n",
    "        aux=(Gdegenerate[i]).substitute(r2=r2rootsdegenerate[j], y=K(1/2*I*sqrt(3) - 1/2))\n",
    "        if aux==0:\n",
    "            continue\n",
    "        else:\n",
    "            Bd1.append(aux)\n",
    "    xB.append(Bd1)\n",
    "    Jd1=RR1.ideal(Bd1)\n",
    "    Gd1=Jd1.groebner_basis()\n",
    "    xGroebner.append(Gd1)\n",
    "print(xGroebner)"
   ]
  },
  {
   "cell_type": "code",
   "execution_count": 121,
   "metadata": {},
   "outputs": [
    {
     "data": {
      "text/plain": [
       "[[2/3*w^3 - 1/3*w^2 - 1/3*w + 2/3, -w^3],\n",
       " [1/3*w^3 + 1/3*w^2 + 1/3*w + 1/3, -w^3],\n",
       " [-1/3*w^3 + 1/3*w^2 - 1/3*w + 1/3, w^3],\n",
       " [-2/3*w^3 - 1/3*w^2 + 1/3*w + 2/3, w^3]]"
      ]
     },
     "execution_count": 121,
     "metadata": {},
     "output_type": "execute_result"
    }
   ],
   "source": [
    "DParameters=list();\n",
    "Polyx.<x>=PolynomialRing(K,'x')\n",
    "for i in range(len(xGroebner)):\n",
    "    aux=Polyx(xGroebner[i][0]).roots(ring=K)\n",
    "    for j in range(len(aux)):\n",
    "        DParameters.append([r2rootsdegenerate[i],aux[j][0]])\n",
    "DParameters"
   ]
  },
  {
   "cell_type": "markdown",
   "metadata": {},
   "source": [
    "As in the Non-degenerate configuration, the Galois group induce an action on the set of parameters. We compute the orbits for this action restricted to the degenerate configuration parameters."
   ]
  },
  {
   "cell_type": "code",
   "execution_count": 122,
   "metadata": {},
   "outputs": [
    {
     "name": "stdout",
     "output_type": "stream",
     "text": [
      "Orbit No 1 : [[0, 3], [1, 2], [2, 1], [3, 0]]\n",
      "Orbit No 2 : [[0, 1], [1, 0], [2, 3], [3, 2]]\n",
      "Orbit No 3 : [[0, 2], [1, 3], [2, 0], [3, 1]]\n"
     ]
    }
   ],
   "source": [
    "Gal=K.galois_group();\n",
    "DOrbits=list();\n",
    "for k in range(len(Gal)-1):\n",
    "    auxorbit=list()\n",
    "    j=0;\n",
    "    while j<len(DParameters):\n",
    "        aux0=(Gal[k+1])(DParameters[j][0])\n",
    "        aux1=(Gal[k+1](DParameters[j][1]))\n",
    "        for i in range(len(DParameters)):\n",
    "            if aux0-Gal[0](DParameters[i][0])==0 and aux1-Gal[0](DParameters[i][1])==0:\n",
    "                auxorbit.append([j,i])\n",
    "        j=j+1;\n",
    "    DOrbits.append(auxorbit)\n",
    "\n",
    "        \n",
    "for i in range(len(Gal)-1):\n",
    "    print('Orbit No',i+1,':',DOrbits[i])"
   ]
  },
  {
   "cell_type": "markdown",
   "metadata": {},
   "source": [
    "Notice that there are two possible orbits and they correspond to a complex conjugated pair."
   ]
  },
  {
   "cell_type": "markdown",
   "metadata": {},
   "source": [
    "#### All possible parameter values $(r2,x)$ for the Degenerate groups."
   ]
  },
  {
   "cell_type": "code",
   "execution_count": null,
   "metadata": {},
   "outputs": [],
   "source": [
    "print(DParameters)"
   ]
  },
  {
   "cell_type": "markdown",
   "metadata": {},
   "source": [
    "### 2.1 The Cusp Centralizer for the Degenerate configuration"
   ]
  },
  {
   "cell_type": "code",
   "execution_count": 127,
   "metadata": {},
   "outputs": [
    {
     "name": "stdout",
     "output_type": "stream",
     "text": [
      "No 0 : [   1    0    0]\n",
      "[   0 -w^3    0]\n",
      "[   0    0 -w^3]\n",
      "No 1 : [-1  0  0]\n",
      "[ 0  1  0]\n",
      "[ 0  0  1]\n",
      "No 2 : [-1  0  0]\n",
      "[ 0  1  0]\n",
      "[ 0  0  1]\n",
      "No 3 : [  1   0   0]\n",
      "[  0 w^3   0]\n",
      "[  0   0 w^3]\n"
     ]
    }
   ],
   "source": [
    "Jd=matrix(K,3,3,[[1,0,0],[0,K(-1/2+I*sqrt(3)/2),0],[0,0,K((-1/2+I*sqrt(3)/2)^2)]])\n",
    "R1alld=list()\n",
    "for i in range(len(DParameters)):\n",
    "    aux=matrix(K,3,3,[[1,-1,1],[0,1-DParameters[i][0],DParameters[i][0]],[0,1-DParameters[i][0]-DParameters[i][1],DParameters[i][0]+DParameters[i][1]]]);\n",
    "    R1alld.append(aux)\n",
    "\n",
    "CJFd=list();\n",
    "for i in range(len(DParameters)):\n",
    "    aux=((R1alld[i]**3)*Jd)**2\n",
    "    CJFd.append(aux.jordan_form(subdivide=False))\n",
    "for i in range(len(DParameters)):\n",
    "    print('No',i,':',CJFd[i])\n"
   ]
  },
  {
   "cell_type": "code",
   "execution_count": null,
   "metadata": {},
   "outputs": [],
   "source": []
  }
 ],
 "metadata": {
  "kernelspec": {
   "display_name": "Sage 9.3",
   "language": "sage",
   "name": "sagemath_9_3_all"
  },
  "language_info": {
   "codemirror_mode": {
    "name": "ipython",
    "version": 3
   },
   "file_extension": ".py",
   "mimetype": "text/x-python",
   "name": "python",
   "nbconvert_exporter": "python",
   "pygments_lexer": "ipython3",
   "version": "3.9.2"
  }
 },
 "nbformat": 4,
 "nbformat_minor": 4
}

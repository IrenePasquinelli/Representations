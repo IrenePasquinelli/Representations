{
 "cells": [
  {
   "cell_type": "markdown",
   "metadata": {},
   "source": [
    "# The non-compact Deligne-Mostow $(3,6)$\n",
    "\n",
    "We want to determine the representations of the compact Deligne-Mostow lattice $(3,6)$ using the configurations of fixed subsets for $J$ and $R_1$."
   ]
  },
  {
   "cell_type": "markdown",
   "metadata": {},
   "source": [
    "## 1. The non-degenerate configuration.\n",
    "\n",
    "The non-degenerate configuration of fixed subsets for $J$ and $R_1$ where the fixed points of $J$ does not belong to the fixed line of $R_1$ and does not coindice with the fixed point $R_1.$"
   ]
  },
  {
   "cell_type": "markdown",
   "metadata": {},
   "source": [
    "We initialize the problem, the set of parameters belong to the field-extension $\\mathbb{Q}(x^6+x^3+1).$"
   ]
  },
  {
   "cell_type": "code",
   "execution_count": 1,
   "metadata": {},
   "outputs": [],
   "source": [
    "K.<zeta9>=CyclotomicField(9)"
   ]
  },
  {
   "cell_type": "code",
   "execution_count": 2,
   "metadata": {},
   "outputs": [],
   "source": [
    "RR.<r1,r2,y>=PolynomialRing(K,3,['r1','r2','y'],order='deglex');\n",
    "\n",
    "J=matrix(K,3,3,[[0,0,1],[-1,0,0],[0,1,0]]);\n",
    "R1=matrix(RR,3,3,[[1,-r1,r1],[0,1-r2,r2],[0,1-r2-y,r2+y]]);"
   ]
  },
  {
   "cell_type": "markdown",
   "metadata": {},
   "source": [
    "The group relations for the Deligne-Mostow $(3,6)$ are:\n",
    "\n",
    "$(R_1 J)^{12}=Id$\n",
    "\n",
    "$R_1 J R_1 J^2 R_1 J R_1^3 J^2 R_1^3 J R_1^3 J^2=Id$\n",
    "\n",
    "that induce the system of equations $B.$"
   ]
  },
  {
   "cell_type": "code",
   "execution_count": 3,
   "metadata": {},
   "outputs": [],
   "source": [
    "rel5=((R1*J)**(12));\n",
    "R12=(R1^2)\n",
    "rel6=((R1*J*R1*J*J*R1*J*R12*J*J*R12*J*R12*J*J));\n",
    "\n",
    "eq0=[(rel5[0,1]), (rel5[0,2]), (rel5[1,0]), (rel5[1,2]), (rel5[2,0]), (rel5[2,1]), (rel6[0,1]), (rel6[0,2]), (rel6[1,0]),(rel6[1,2]),(rel6[2,0]),(rel6[2,1])];\n",
    "eq1=[(rel5[0,0]-rel5[1,1]),(rel5[1,1]-rel5[2,2]),(rel6[0,0]-rel6[1,1]),(rel6[1,1]-rel6[2,2])];\n",
    "\n",
    "B=list();\n",
    "for i in range(len(eq0)):\n",
    "    B.append(eq0[i]);\n",
    "for i in range(len(eq1)):\n",
    "    B.append(eq1[i]);"
   ]
  },
  {
   "cell_type": "markdown",
   "metadata": {},
   "source": [
    "#### Groebner Basis\n",
    "\n",
    "We use Groebner basis to solve the system of equations $B.$"
   ]
  },
  {
   "cell_type": "code",
   "execution_count": 4,
   "metadata": {
    "scrolled": true
   },
   "outputs": [],
   "source": [
    "Jideal=RR.ideal(B);\n",
    "G=Jideal.groebner_basis()\n",
    "#print('Number of elements in the Basis',len(G))\n",
    "#print('The basis is:')\n",
    "#print(G)"
   ]
  },
  {
   "cell_type": "markdown",
   "metadata": {},
   "source": [
    "We start to reduce the variables on the system of equations. The first variable that we will reduce is $y$ where the set of values is small. \n",
    "\n",
    "Recall that $y\\neq 1.$"
   ]
  },
  {
   "cell_type": "code",
   "execution_count": 5,
   "metadata": {
    "scrolled": true
   },
   "outputs": [],
   "source": [
    "yroots=list();\n",
    "yideal=Jideal.elimination_ideal([r2,r1]);\n",
    "ypol=yideal.gens();\n",
    "#print('Polynomial describing y',ypol[0])\n",
    "aux=SR(ypol[0]).roots(ring=K)\n",
    "for i in range(len(aux)):\n",
    "    yroots.append(aux[i][0])\n",
    "#print('y in',yroots)"
   ]
  },
  {
   "cell_type": "markdown",
   "metadata": {},
   "source": [
    "There two valid values for $y.$ Notice that these two values are complex conjugated.\n",
    "\n",
    "We will proceed by substitute each value of $y$ on the Groebner basis $G$ and find the values for each $r_j$ $(j=1,2).$"
   ]
  },
  {
   "cell_type": "markdown",
   "metadata": {},
   "source": [
    "#### Case 1: $y= \\frac{-1+i\\sqrt{3}}{2}.$\n",
    "\n",
    "For the value of $y,$ we use Groebner basis on the system $G$ with the value of $y.$"
   ]
  },
  {
   "cell_type": "code",
   "execution_count": 6,
   "metadata": {},
   "outputs": [],
   "source": [
    "B1=list();\n",
    "for i in range(len(G)):\n",
    "    aux=G[i].substitute(y=yroots[1])\n",
    "    if aux==0:\n",
    "        continue\n",
    "    else:\n",
    "        B1.append(G[i].substitute(y=yroots[1]))\n",
    "RR1.<r1,r2>=PolynomialRing(K,2,order='deglex')\n",
    "J1=RR1.ideal(B1)\n",
    "GB1=J1.groebner_basis()\n",
    "#print('Number of elements in the basis',len(GB1))\n",
    "#print('The basis is:')\n",
    "#print(GB1)"
   ]
  },
  {
   "cell_type": "markdown",
   "metadata": {},
   "source": [
    "The next polynomials define contains all possible values of $r_j.$"
   ]
  },
  {
   "cell_type": "code",
   "execution_count": 7,
   "metadata": {
    "scrolled": true
   },
   "outputs": [],
   "source": [
    "r1Ideal=J1.elimination_ideal([r2]);\n",
    "r1pol=r1Ideal.gens();\n",
    "#print('Polynomial describing r1:', r1pol[0].factor())\n",
    "\n",
    "r2Ideal=J1.elimination_ideal([r1]);\n",
    "r2pol=r2Ideal.gens();\n",
    "#print('Polynomial describing r2:', r2pol[0].factor())\n"
   ]
  },
  {
   "cell_type": "markdown",
   "metadata": {},
   "source": [
    "We collect all possible values of $r_2$ and substitute on the Groebner basis $GB_1.$"
   ]
  },
  {
   "cell_type": "code",
   "execution_count": 8,
   "metadata": {},
   "outputs": [],
   "source": [
    "Poly1.<r2>=PolynomialRing(K,'r2')\n",
    "\n",
    "aux=Poly1(r2pol[0]).roots(ring=K)\n",
    "r2roots=list();\n",
    "for i in range(len(aux)):\n",
    "    r2roots.append(aux[i][0])"
   ]
  },
  {
   "cell_type": "markdown",
   "metadata": {},
   "source": [
    "For each value of $r_2,$ we use Groebner basis and find the associated polynomial on $r_1$ associated to each $r_2.$"
   ]
  },
  {
   "cell_type": "code",
   "execution_count": 9,
   "metadata": {},
   "outputs": [
    {
     "name": "stdout",
     "output_type": "stream",
     "text": [
      "r2 root No 0 : [r1^2 + (-zeta9^3 + 1)*r1]\n",
      "r2 root No 1 : [r1 - 1/2*zeta9^3 + 1/2]\n",
      "r2 root No 2 : [r1 - 1/2*zeta9^3 - 1/2*zeta9^2 + 1/2*zeta9 + 1/2]\n",
      "r2 root No 3 : [r1^2 + (-zeta9^3 + 1)*r1 - 1/4*zeta9^4 - 1/4*zeta9^3 - 1/4*zeta9^2]\n",
      "r2 root No 4 : [r1^2 + (-zeta9^3 + 1)*r1]\n",
      "r2 root No 5 : [r1 - 1/2*zeta9^3 + 1/2]\n",
      "r2 root No 6 : [r1^2 + (-zeta9^3 + 1)*r1 + 1/4*zeta9^5 + 1/4*zeta9^4 - 1/4*zeta9^3 + 1/4*zeta9^2 + 1/4*zeta9]\n",
      "r2 root No 7 : [r1 - 1/2*zeta9^5 - 1/2*zeta9^4 - 1/2*zeta9^3 - 1/2*zeta9 + 1/2]\n",
      "r2 root No 8 : [r1^2 + (-zeta9^3 + 1)*r1 - 1/4*zeta9^5 - 1/4*zeta9^3 - 1/4*zeta9]\n",
      "r2 root No 9 : [r1 + 1/2*zeta9^5 + 1/2*zeta9^4 - 1/2*zeta9^3 + 1/2*zeta9^2 + 1/2]\n"
     ]
    }
   ],
   "source": [
    "Br1=list();\n",
    "for i in range(len(r2roots)):\n",
    "    B2=list();\n",
    "    for j in range(len(GB1)):\n",
    "        aux=GB1[j].substitute(r2=r2roots[i])\n",
    "        if aux==0:\n",
    "            continue\n",
    "        else:\n",
    "            B2.append(aux)\n",
    "    RR3.<r1>=PolynomialRing(K,['r1'],order='lex')\n",
    "    J3=RR3.ideal(B2)\n",
    "    G3=J3.groebner_basis(J3)\n",
    "    Br1.append(G3)\n",
    "    print('r2 root No',i,':', Br1[i])"
   ]
  },
  {
   "cell_type": "code",
   "execution_count": 10,
   "metadata": {
    "scrolled": false
   },
   "outputs": [
    {
     "name": "stdout",
     "output_type": "stream",
     "text": [
      "Parameter No  0 : [zeta9^3, 0, 1]\n",
      "Parameter No  1 : [zeta9^3, zeta9^3 - 1, 1]\n",
      "Parameter No  2 : [zeta9^3, 1/2*zeta9^3 - 1/2, 1/2*zeta9^3 + 3/2]\n",
      "Parameter No  3 : [zeta9^3, 1/2*zeta9^3 + 1/2*zeta9^2 - 1/2*zeta9 - 1/2, -1/2*zeta9^3 + 1/2*zeta9^2 + 1/2*zeta9 + 1/2]\n",
      "Parameter No  4 : [zeta9^3, 1/2*zeta9^3 + 1/2*zeta9^2 - 1/2*zeta9 - 1/2, -1/2*zeta9^3 - 1/2*zeta9^2 - 1/2*zeta9 + 1/2]\n",
      "Parameter No  5 : [zeta9^3, 1/2*zeta9^3 - 1/2*zeta9^2 + 1/2*zeta9 - 1/2, -1/2*zeta9^3 - 1/2*zeta9^2 - 1/2*zeta9 + 1/2]\n",
      "Parameter No  6 : [zeta9^3, 0, -zeta9^3]\n",
      "Parameter No  7 : [zeta9^3, zeta9^3 - 1, -zeta9^3]\n",
      "Parameter No  8 : [zeta9^3, 1/2*zeta9^3 - 1/2, -3/2*zeta9^3 - 1/2]\n",
      "Parameter No  9 : [zeta9^3, 1/2*zeta9^5 + 1/2*zeta9^4 + 1/2*zeta9^3 + 1/2*zeta9^2 - 1/2, 1/2*zeta9^5 - 1/2*zeta9^4 - 1/2*zeta9^3 + 1/2*zeta9^2 + 1/2]\n",
      "Parameter No  10 : [zeta9^3, -1/2*zeta9^5 - 1/2*zeta9^4 + 1/2*zeta9^3 - 1/2*zeta9^2 - 1/2, 1/2*zeta9^5 - 1/2*zeta9^4 - 1/2*zeta9^3 + 1/2*zeta9^2 + 1/2]\n",
      "Parameter No  11 : [zeta9^3, 1/2*zeta9^5 + 1/2*zeta9^4 + 1/2*zeta9^3 + 1/2*zeta9 - 1/2, 1/2*zeta9^5 - 1/2*zeta9^4 - 1/2*zeta9^3 - 1/2*zeta9 + 1/2]\n",
      "Parameter No  12 : [zeta9^3, 1/2*zeta9^5 + 1/2*zeta9^4 + 1/2*zeta9^3 + 1/2*zeta9 - 1/2, -1/2*zeta9^5 + 1/2*zeta9^4 - 1/2*zeta9^3 + 1/2*zeta9 + 1/2]\n",
      "Parameter No  13 : [zeta9^3, -1/2*zeta9^5 - 1/2*zeta9^4 + 1/2*zeta9^3 - 1/2*zeta9 - 1/2, -1/2*zeta9^5 + 1/2*zeta9^4 - 1/2*zeta9^3 + 1/2*zeta9 + 1/2]\n",
      "Parameter No  14 : [zeta9^3, -1/2*zeta9^5 - 1/2*zeta9^4 + 1/2*zeta9^3 - 1/2*zeta9^2 - 1/2, -1/2*zeta9^5 + 1/2*zeta9^4 - 1/2*zeta9^3 - 1/2*zeta9^2 + 1/2]\n"
     ]
    }
   ],
   "source": [
    "Parameters=list();\n",
    "for i in range(len(r2roots)):\n",
    "    aux=Br1[i][0].roots(ring=K)\n",
    "    for j in range(len(aux)):\n",
    "        Parameters.append([yroots[1],aux[j][0],r2roots[i]])\n",
    "for i in range(len(Parameters)):\n",
    "    print('Parameter No ',i,':',Parameters[i])"
   ]
  },
  {
   "cell_type": "markdown",
   "metadata": {},
   "source": [
    "#### Case 2: $y=\\frac{-1-i\\sqrt{3}}{2}$\n",
    "\n",
    "We reproduce the same process for case 1, for the second value."
   ]
  },
  {
   "cell_type": "code",
   "execution_count": 11,
   "metadata": {},
   "outputs": [],
   "source": [
    "B1=list();\n",
    "for i in range(len(G)):\n",
    "    aux=G[i].substitute(y=yroots[1])\n",
    "    if aux==0:\n",
    "        continue\n",
    "    else:\n",
    "        B1.append(G[i].substitute(y=yroots[2]))\n",
    "RR1.<r1,r2>=PolynomialRing(K,2,order='deglex')\n",
    "J1=RR1.ideal(B1)\n",
    "GB1=J1.groebner_basis()\n",
    "#print('Number of elements in the basis',len(GB1))\n",
    "#print('The basis is:')\n",
    "#print(GB1)"
   ]
  },
  {
   "cell_type": "code",
   "execution_count": 12,
   "metadata": {},
   "outputs": [],
   "source": [
    "r1Ideal2=J1.elimination_ideal([r2]);\n",
    "r1pol2=r1Ideal2.gens();\n",
    "#print('Polynomial describing r1:', r1pol2[0].factor())\n",
    "\n",
    "r2Ideal2=J1.elimination_ideal([r1]);\n",
    "r2pol2=r2Ideal2.gens();\n",
    "#print('Polynomial describing r2:', r2pol2[0].factor())\n"
   ]
  },
  {
   "cell_type": "code",
   "execution_count": 13,
   "metadata": {},
   "outputs": [],
   "source": [
    "Poly1.<r2>=PolynomialRing(K,'r2')\n",
    "\n",
    "aux=Poly1(r2pol2[0]).roots(ring=K)\n",
    "r2roots2=list();\n",
    "for i in range(len(aux)):\n",
    "    r2roots2.append(aux[i][0])"
   ]
  },
  {
   "cell_type": "code",
   "execution_count": 14,
   "metadata": {},
   "outputs": [
    {
     "name": "stdout",
     "output_type": "stream",
     "text": [
      "r2 root No 0 : [r1^2 + (zeta9^3 + 2)*r1]\n",
      "r2 root No 1 : [r1 + 1/2*zeta9^3 + 1]\n",
      "r2 root No 2 : [r1^2 + (zeta9^3 + 2)*r1]\n",
      "r2 root No 3 : [r1 + 1/2*zeta9^3 + 1]\n",
      "r2 root No 4 : [r1 - 1/2*zeta9^4 + 1/2*zeta9^3 + 1/2*zeta9^2 + 1]\n",
      "r2 root No 5 : [r1^2 + (zeta9^3 + 2)*r1 + 1/4*zeta9^5 - 1/4*zeta9^4 + 1/4*zeta9^3 + 1/4*zeta9^2 + 1/4]\n",
      "r2 root No 6 : [r1^2 + (zeta9^3 + 2)*r1 - 1/4*zeta9^5 + 1/4*zeta9^4 + 1/4*zeta9^3 + 1/4*zeta9 + 1/4]\n",
      "r2 root No 7 : [r1 + 1/2*zeta9^5 + 1/2*zeta9^3 - 1/2*zeta9 + 1]\n",
      "r2 root No 8 : [r1^2 + (zeta9^3 + 2)*r1 + 1/4*zeta9^3 - 1/4*zeta9^2 - 1/4*zeta9 + 1/4]\n",
      "r2 root No 9 : [r1 - 1/2*zeta9^5 + 1/2*zeta9^4 + 1/2*zeta9^3 - 1/2*zeta9^2 + 1/2*zeta9 + 1]\n"
     ]
    }
   ],
   "source": [
    "Br12=list();\n",
    "for i in range(len(r2roots2)):\n",
    "    B2=list();\n",
    "    for j in range(len(GB1)):\n",
    "        aux=GB1[j].substitute(r2=r2roots2[i])\n",
    "        if aux==0:\n",
    "            continue\n",
    "        else:\n",
    "            B2.append(aux)\n",
    "    RR3.<r1>=PolynomialRing(K,['r1'],order='lex')\n",
    "    J3=RR3.ideal(B2)\n",
    "    G3=J3.groebner_basis(J3)\n",
    "    Br12.append(G3)\n",
    "    print('r2 root No',i,':', Br12[i])"
   ]
  },
  {
   "cell_type": "code",
   "execution_count": 15,
   "metadata": {},
   "outputs": [
    {
     "name": "stdout",
     "output_type": "stream",
     "text": [
      "Parameter No  15 : [zeta9^3, 0, 1]\n",
      "Parameter No  16 : [zeta9^3, zeta9^3 - 1, 1]\n",
      "Parameter No  17 : [zeta9^3, 1/2*zeta9^3 - 1/2, 1/2*zeta9^3 + 3/2]\n",
      "Parameter No  18 : [zeta9^3, 1/2*zeta9^3 + 1/2*zeta9^2 - 1/2*zeta9 - 1/2, -1/2*zeta9^3 + 1/2*zeta9^2 + 1/2*zeta9 + 1/2]\n",
      "Parameter No  19 : [zeta9^3, 1/2*zeta9^3 + 1/2*zeta9^2 - 1/2*zeta9 - 1/2, -1/2*zeta9^3 - 1/2*zeta9^2 - 1/2*zeta9 + 1/2]\n",
      "Parameter No  20 : [zeta9^3, 1/2*zeta9^3 - 1/2*zeta9^2 + 1/2*zeta9 - 1/2, -1/2*zeta9^3 - 1/2*zeta9^2 - 1/2*zeta9 + 1/2]\n",
      "Parameter No  21 : [zeta9^3, 0, -zeta9^3]\n",
      "Parameter No  22 : [zeta9^3, zeta9^3 - 1, -zeta9^3]\n",
      "Parameter No  23 : [zeta9^3, 1/2*zeta9^3 - 1/2, -3/2*zeta9^3 - 1/2]\n",
      "Parameter No  24 : [zeta9^3, 1/2*zeta9^5 + 1/2*zeta9^4 + 1/2*zeta9^3 + 1/2*zeta9^2 - 1/2, 1/2*zeta9^5 - 1/2*zeta9^4 - 1/2*zeta9^3 + 1/2*zeta9^2 + 1/2]\n",
      "Parameter No  25 : [zeta9^3, -1/2*zeta9^5 - 1/2*zeta9^4 + 1/2*zeta9^3 - 1/2*zeta9^2 - 1/2, 1/2*zeta9^5 - 1/2*zeta9^4 - 1/2*zeta9^3 + 1/2*zeta9^2 + 1/2]\n",
      "Parameter No  26 : [zeta9^3, 1/2*zeta9^5 + 1/2*zeta9^4 + 1/2*zeta9^3 + 1/2*zeta9 - 1/2, 1/2*zeta9^5 - 1/2*zeta9^4 - 1/2*zeta9^3 - 1/2*zeta9 + 1/2]\n",
      "Parameter No  27 : [zeta9^3, 1/2*zeta9^5 + 1/2*zeta9^4 + 1/2*zeta9^3 + 1/2*zeta9 - 1/2, -1/2*zeta9^5 + 1/2*zeta9^4 - 1/2*zeta9^3 + 1/2*zeta9 + 1/2]\n",
      "Parameter No  28 : [zeta9^3, -1/2*zeta9^5 - 1/2*zeta9^4 + 1/2*zeta9^3 - 1/2*zeta9 - 1/2, -1/2*zeta9^5 + 1/2*zeta9^4 - 1/2*zeta9^3 + 1/2*zeta9 + 1/2]\n",
      "Parameter No  29 : [zeta9^3, -1/2*zeta9^5 - 1/2*zeta9^4 + 1/2*zeta9^3 - 1/2*zeta9^2 - 1/2, -1/2*zeta9^5 + 1/2*zeta9^4 - 1/2*zeta9^3 - 1/2*zeta9^2 + 1/2]\n"
     ]
    }
   ],
   "source": [
    "for i in range(len(r2roots2)):\n",
    "    aux=Br12[i][0].roots(ring=K)\n",
    "    for j in range(len(aux)):\n",
    "        Parameters.append([yroots[2],aux[j][0],r2roots2[i]])\n",
    "for i in range(15):\n",
    "    print('Parameter No ',15+i,':',Parameters[i])"
   ]
  },
  {
   "cell_type": "markdown",
   "metadata": {},
   "source": [
    "## 1.1 Galois Conjugation\n",
    "\n",
    "The Galois group action on $\\mathbb{Q}(x^6+x^3+1)$ induces one in the set of parameters. Such action induces a partition by orbits on the set of parameters."
   ]
  },
  {
   "cell_type": "code",
   "execution_count": 16,
   "metadata": {},
   "outputs": [
    {
     "data": {
      "text/plain": [
       "[(),\n",
       " (1,2,3,4,5,6),\n",
       " (1,3,5)(2,4,6),\n",
       " (1,4)(2,5)(3,6),\n",
       " (1,5,3)(2,6,4),\n",
       " (1,6,5,4,3,2)]"
      ]
     },
     "execution_count": 16,
     "metadata": {},
     "output_type": "execute_result"
    }
   ],
   "source": [
    "Gal=K.galois_group()\n",
    "list(Gal)"
   ]
  },
  {
   "cell_type": "markdown",
   "metadata": {
    "scrolled": true
   },
   "source": [
    "We compute the orbits."
   ]
  },
  {
   "cell_type": "markdown",
   "metadata": {},
   "source": [
    "First of all, recall that $Gal$ is cyclic and it is generated by $g.$ The group $\\langle g^2\\rangle$ leaves invariant the subfield $\\mathbb{Q}(x^3+x^2+1).$ Therefore the parameters on the subfield. \n",
    "\n",
    "Rmk: In $Gal$ the $g^2$ correspond to the element $Gal[2]$. In the parameters, the parameters on the subfield $\\mathbb{Q}(x^3+x^2+1)$ are paired by the complex conjugation."
   ]
  },
  {
   "cell_type": "code",
   "execution_count": 33,
   "metadata": {},
   "outputs": [],
   "source": [
    "fixed=[0,1,2,6,7,8]"
   ]
  },
  {
   "cell_type": "code",
   "execution_count": 19,
   "metadata": {},
   "outputs": [],
   "source": [
    "from sage.structure.list_clone_demo import IncreasingLists"
   ]
  },
  {
   "cell_type": "code",
   "execution_count": 24,
   "metadata": {},
   "outputs": [
    {
     "name": "stdout",
     "output_type": "stream",
     "text": [
      "[3, 11, 14, 21, 26, 29]\n"
     ]
    }
   ],
   "source": [
    "ob1=[3]\n",
    "x=IncreasingLists()([1..17])\n",
    "j=1;\n",
    "k=0;\n",
    "while j<(len(Parameters)):\n",
    "    while k<len(Gal)-1:\n",
    "        aux0=(Gal[k+1])(Parameters[j][0])\n",
    "        aux1=(Gal[k+1])(Parameters[j][1])\n",
    "        aux2=(Gal[k+1])(Parameters[j][2])\n",
    "        if aux0-Gal[0](Parameters[3][0])==0 and aux1-Gal[0](Parameters[3][1])==0 and aux2-Gal[0](Parameters[3][2])==0:\n",
    "            ob1.append(j)\n",
    "            k=len(Gal)\n",
    "            \n",
    "        else:\n",
    "            k=k+1\n",
    "    k=0;\n",
    "    j=j+1;\n",
    "print(ob1) "
   ]
  },
  {
   "cell_type": "code",
   "execution_count": 25,
   "metadata": {},
   "outputs": [
    {
     "name": "stdout",
     "output_type": "stream",
     "text": [
      "[4, 10, 12, 22, 24, 28]\n"
     ]
    }
   ],
   "source": [
    "ob2=[4]\n",
    "x=IncreasingLists()([1..17])\n",
    "j=1;\n",
    "k=0;\n",
    "while j<(len(Parameters)):\n",
    "    while k<len(Gal)-1:\n",
    "        aux0=(Gal[k+1])(Parameters[j][0])\n",
    "        aux1=(Gal[k+1])(Parameters[j][1])\n",
    "        aux2=(Gal[k+1])(Parameters[j][2])\n",
    "        if aux0-Gal[0](Parameters[4][0])==0 and aux1-Gal[0](Parameters[4][1])==0 and aux2-Gal[0](Parameters[4][2])==0:\n",
    "            ob2.append(j)\n",
    "            k=len(Gal)\n",
    "            \n",
    "        else:\n",
    "            k=k+1\n",
    "    k=0;\n",
    "    j=j+1;\n",
    "print(ob2) "
   ]
  },
  {
   "cell_type": "code",
   "execution_count": 26,
   "metadata": {},
   "outputs": [
    {
     "name": "stdout",
     "output_type": "stream",
     "text": [
      "[5, 9, 13, 23, 25, 27]\n"
     ]
    }
   ],
   "source": [
    "ob3=[5]\n",
    "x=IncreasingLists()([1..17])\n",
    "j=1;\n",
    "k=0;\n",
    "while j<(len(Parameters)):\n",
    "    while k<len(Gal)-1:\n",
    "        aux0=(Gal[k+1])(Parameters[j][0])\n",
    "        aux1=(Gal[k+1])(Parameters[j][1])\n",
    "        aux2=(Gal[k+1])(Parameters[j][2])\n",
    "        if aux0-Gal[0](Parameters[5][0])==0 and aux1-Gal[0](Parameters[5][1])==0 and aux2-Gal[0](Parameters[5][2])==0:\n",
    "            ob3.append(j)\n",
    "            k=len(Gal)\n",
    "            \n",
    "        else:\n",
    "            k=k+1\n",
    "    k=0;\n",
    "    j=j+1;\n",
    "print(ob3) "
   ]
  },
  {
   "cell_type": "markdown",
   "metadata": {},
   "source": [
    "The three orbits in addition with the fixed poin parameters conform a partition for the whole set of Parameters."
   ]
  },
  {
   "cell_type": "code",
   "execution_count": 35,
   "metadata": {
    "scrolled": true
   },
   "outputs": [
    {
     "data": {
      "text/plain": [
       "True"
      ]
     },
     "execution_count": 35,
     "metadata": {},
     "output_type": "execute_result"
    }
   ],
   "source": [
    "len(ob1)+len(ob2)+len(ob3)+2*(len(fixed))==len(Parameters)"
   ]
  },
  {
   "cell_type": "markdown",
   "metadata": {},
   "source": [
    "## 1.2 The Hermitian Form\n",
    "\n",
    "As these set of parameters provide a representation of the Deligne-Mostow (3,6) in $PGL(3,\\mathbb{C})$, we should have a representation whose image group is conjugated to a $PU(2,1)$ subgroup. To determine this representation we need to determine the Hermitian form that preserve the group image and compute its signature. \n",
    "\n",
    "From the initial data of our representation, an Hermitian form H that that satisfy the equation $(J^*)HJ=H$ is for the form:\n",
    "\n",
    "$H=\\begin{bmatrix}\n",
    "a&-\\overline{c}&c\\\\-c& a&\\overline{c}\\\\ \\overline{c}&c&a\n",
    "\\end{bmatrix}$\n",
    "\n",
    "So, in order to compute the values of $a$ and $c,$ we need to solve the equation ${R_1}^* H R_1=H$ for all possible parameters $(y,r1,r2).$"
   ]
  },
  {
   "cell_type": "code",
   "execution_count": 12,
   "metadata": {},
   "outputs": [],
   "source": [
    "J0=matrix(K,3,3,[[0,0,1],[-1,0,0],[0,1,0]]);\n",
    "R1o1=list();\n",
    "R1o2=list();\n",
    "R1o3=list();\n",
    "R1qq=list();\n",
    "for i in range(6):\n",
    "    aux=matrix(K,3,3,[[1,-Parameters[nfixed[i]][1],Parameters[nfixed[i]][1]],[0,1-Parameters[nfixed[i]][2],Parameters[nfixed[i]][2]],[0,1-Parameters[nfixed[i]][2]-Parameters[nfixed[i]][0],Parameters[nfixed[i]][2]+Parameters[nfixed[i]][0]]])\n",
    "    R1qq.append(aux)\n",
    "for i in range(3):\n",
    "    aux=matrix(K,3,3,[[1,-Parameters[nO1[i]][1],Parameters[nO1[i]][1]],[0,1-Parameters[nO1[i]][2],Parameters[nO1[i]][2]],[0,1-Parameters[nO1[i]][2]-Parameters[nO1[i]][0],Parameters[nO1[i]][2]+Parameters[nO1[i]][0]]])\n",
    "    R1o1.append(aux)\n",
    "    aux=matrix(K,3,3,[[1,-Parameters[nO2[i]][1],Parameters[nO2[i]][1]],[0,1-Parameters[nO2[i]][2],Parameters[nO2[i]][2]],[0,1-Parameters[nO2[i]][2]-Parameters[nO2[i]][0],Parameters[nO2[i]][2]+Parameters[nO2[i]][0]]])\n",
    "    R1o2.append(aux)\n",
    "    aux=matrix(K,3,3,[[1,-Parameters[nO3[i]][1],Parameters[nO3[i]][1]],[0,1-Parameters[nO3[i]][2],Parameters[nO3[i]][2]],[0,1-Parameters[nO3[i]][2]-Parameters[nO3[i]][0],Parameters[nO3[i]][2]+Parameters[nO3[i]][0]]])\n",
    "    R1o3.append(aux)"
   ]
  },
  {
   "cell_type": "code",
   "execution_count": null,
   "metadata": {},
   "outputs": [],
   "source": [
    "KEd=K.embeddings(QQbar)\n",
    "KEd[0]"
   ]
  },
  {
   "cell_type": "markdown",
   "metadata": {},
   "source": [
    "Initialize the values of $c$ an $\\overline{c}$ as polynomials with coefficients on $\\mathbb{Q}(x^6+x^3+1)[\\cdot].$"
   ]
  },
  {
   "cell_type": "code",
   "execution_count": 13,
   "metadata": {},
   "outputs": [
    {
     "name": "stdout",
     "output_type": "stream",
     "text": [
      "[                                                                                                     a -b0 + (zeta9^5 + zeta9^2)*b1 + (zeta9^4 + zeta9)*b2 + (zeta9^3 + 1)*b3 + (-zeta9^5)*b4 + (-zeta9^4)*b5                            b0 + (zeta9)*b1 + (zeta9^2)*b2 + (zeta9^3)*b3 + (zeta9^4)*b4 + (zeta9^5)*b5]\n",
      "[                     -b0 + (-zeta9)*b1 + (-zeta9^2)*b2 + (-zeta9^3)*b3 + (-zeta9^4)*b4 + (-zeta9^5)*b5                                                                                                      a b0 + (-zeta9^5 - zeta9^2)*b1 + (-zeta9^4 - zeta9)*b2 + (-zeta9^3 - 1)*b3 + (zeta9^5)*b4 + (zeta9^4)*b5]\n",
      "[b0 + (-zeta9^5 - zeta9^2)*b1 + (-zeta9^4 - zeta9)*b2 + (-zeta9^3 - 1)*b3 + (zeta9^5)*b4 + (zeta9^4)*b5                            b0 + (zeta9)*b1 + (zeta9^2)*b2 + (zeta9^3)*b3 + (zeta9^4)*b4 + (zeta9^5)*b5                                                                                                      a]\n"
     ]
    }
   ],
   "source": [
    "Pol.<a,b0,b1,b2,b3,b4,b5>=PolynomialRing(K,['a','b0','b1','b2','b3','b4','b5'],order='lex')\n",
    "c=b0+zeta9*b1+(zeta9^2)*b2+(zeta9^3)*b3+(zeta9^4)*b4+(zeta9^5)*b5;\n",
    "cconj=b0+conjugate(zeta9)*b1+conjugate(zeta9^2)*b2+conjugate(zeta9^3)*b3+conjugate(zeta9^4)*b4+conjugate(zeta9^5)*b5;\n",
    "H=matrix(Pol,3,3,[[a,-cconj,c],[-c,a,cconj],[cconj,c,a]]); print(H)"
   ]
  },
  {
   "cell_type": "markdown",
   "metadata": {},
   "source": [
    "For each orbit we compute the system of equations, and use Groebner basis for each element on the orbit."
   ]
  },
  {
   "cell_type": "code",
   "execution_count": 17,
   "metadata": {},
   "outputs": [],
   "source": [
    "Bo1=list();\n",
    "for i in range(3):\n",
    "    RelHerm=(conjugate(transpose(R1o1[i]))*H*(R1o1[i])-H)\n",
    "    B=[RelHerm[0,0],(RelHerm[0,1]),(RelHerm[0,2]),RelHerm[1,0],(RelHerm[1,1]),(RelHerm[1,2]),RelHerm[2,0],RelHerm[2,1],(RelHerm[2,2])];\n",
    "    Bo1.append(B)\n",
    "Go1=list()\n",
    "for i in range(3):\n",
    "    J=Pol.ideal(Bo1[i])\n",
    "    Grob=J.groebner_basis()\n",
    "    Go1.append(Grob)\n",
    "#Go1"
   ]
  },
  {
   "cell_type": "code",
   "execution_count": 22,
   "metadata": {},
   "outputs": [
    {
     "data": {
      "text/plain": [
       "[[a + (-zeta9^5 - 6*zeta9^4 + 5*zeta9^2 - 5*zeta9 - 6)*b1 + (-zeta9^4 + zeta9^2 - zeta9 - 4)*b2 + (4*zeta9^5 + 6*zeta9^4 - 2*zeta9^2 + 2*zeta9 + 5)*b3 + (zeta9^5 + 5*zeta9^4 - 4*zeta9^2 + 4*zeta9 + 2)*b4 + (-zeta9^5 - 5*zeta9^4 + 4*zeta9^2 - 4*zeta9 - 2)*b5, b0 + (zeta9^5 + 5*zeta9^4 - 4*zeta9^2 + 4*zeta9 + 5)*b1 + (zeta9^4 - zeta9^2 + zeta9 + 2)*b2 + (-2*zeta9^5 - 5*zeta9^4 + 3*zeta9^2 - 3*zeta9 - 4)*b3 + (-zeta9^5 - 3*zeta9^4 + 2*zeta9^2 - 2*zeta9 - 3)*b4 + (2*zeta9^5 + 4*zeta9^4 - 2*zeta9^2 + 2*zeta9 + 3)*b5],\n",
       " [a + (-5*zeta9^5 - 4*zeta9^4 - zeta9^2 + zeta9 + 2)*b1 + (-6*zeta9^5 - 5*zeta9^4 - zeta9^2 + zeta9 + 6)*b2 + (-6*zeta9^5 - 2*zeta9^4 - 4*zeta9^2 + 4*zeta9 + 5)*b3 + (-zeta9^5 - zeta9^4 + 4)*b4 + (zeta9^5 + zeta9^4 - 4)*b5, b0 + (3*zeta9^5 + 2*zeta9^4 + zeta9^2 - zeta9 - 3)*b1 + (5*zeta9^5 + 3*zeta9^4 + 2*zeta9^2 - 2*zeta9 - 5)*b2 + (5*zeta9^5 + 3*zeta9^4 + 2*zeta9^2 - 2*zeta9 - 4)*b3 + (2*zeta9^5 + 2*zeta9^4 - 2)*b4 + (-zeta9^5 - zeta9^4 + 2)*b5],\n",
       " [a + (zeta9^5 + zeta9^2 - zeta9 + 4)*b1 + (-4*zeta9^5 + zeta9^4 - 5*zeta9^2 + 5*zeta9 - 2)*b2 + (2*zeta9^5 - 4*zeta9^4 + 6*zeta9^2 - 6*zeta9 + 5)*b3 + (-5*zeta9^5 + zeta9^4 - 6*zeta9^2 + 6*zeta9 - 6)*b4 + (5*zeta9^5 - zeta9^4 + 6*zeta9^2 - 6*zeta9 + 6)*b5, b0 + (-2*zeta9^5 - 2*zeta9^2 + 2*zeta9 - 2)*b1 + (2*zeta9^5 - 2*zeta9^4 + 4*zeta9^2 - 4*zeta9 + 3)*b2 + (-3*zeta9^5 + 2*zeta9^4 - 5*zeta9^2 + 5*zeta9 - 4)*b3 + (4*zeta9^5 - zeta9^4 + 5*zeta9^2 - 5*zeta9 + 5)*b4 + (-3*zeta9^5 + 2*zeta9^4 - 5*zeta9^2 + 5*zeta9 - 5)*b5]]"
      ]
     },
     "execution_count": 22,
     "metadata": {},
     "output_type": "execute_result"
    }
   ],
   "source": [
    "Bo2=list();\n",
    "for i in range(3):\n",
    "    RelHerm=(conjugate(transpose(R1o2[i]))*H*(R1o2[i])-H)\n",
    "    B=[RelHerm[0,0],(RelHerm[0,1]),(RelHerm[0,2]),RelHerm[1,0],(RelHerm[1,1]),(RelHerm[1,2]),RelHerm[2,0],RelHerm[2,1],(RelHerm[2,2])];\n",
    "    Bo2.append(B)\n",
    "Go2=list()\n",
    "for i in range(3):\n",
    "    J=Pol.ideal(Bo2[i])\n",
    "    Grob=J.groebner_basis()\n",
    "    Go2.append(Grob)\n",
    "Go2"
   ]
  },
  {
   "cell_type": "code",
   "execution_count": null,
   "metadata": {},
   "outputs": [],
   "source": [
    "Bo3=list();\n",
    "for i in range(3):\n",
    "    RelHerm=(conjugate(transpose(R1o3[i]))*H*(R1o3[i])-H)\n",
    "    B=[RelHerm[0,0],(RelHerm[0,1]),(RelHerm[0,2]),RelHerm[1,0],(RelHerm[1,1]),(RelHerm[1,2]),RelHerm[2,0],RelHerm[2,1],(RelHerm[2,2])];\n",
    "    Bo3.append(B)\n",
    "Go3=list()\n",
    "for i in range(3):\n",
    "    J=Pol.ideal(Bo3[i])\n",
    "    Grob=J.groebner_basis()\n",
    "    Go3.append(Grob)\n",
    "#Go3"
   ]
  },
  {
   "cell_type": "markdown",
   "metadata": {},
   "source": [
    "Notice that each element of the Groebner basis are linear polynomials. \n",
    "\n",
    "We solve the overdetermined system."
   ]
  },
  {
   "cell_type": "code",
   "execution_count": 19,
   "metadata": {},
   "outputs": [
    {
     "data": {
      "text/plain": [
       "[-zeta9^5 + zeta9^4 - 2*zeta9^2 + 2*zeta9 + 4,\n",
       " -3*zeta9^5 - 3*zeta9^2 + 3*zeta9 - 2,\n",
       " 13*zeta9^5 + 8*zeta9^4 + 5*zeta9^2 - 5*zeta9 - 11]"
      ]
     },
     "execution_count": 19,
     "metadata": {},
     "output_type": "execute_result"
    }
   ],
   "source": [
    "Pola.<a>=PolynomialRing(K,'a')\n",
    "Polb.<b0>=PolynomialRing(K,'b0')\n",
    "aroots=list();\n",
    "broots=list();\n",
    "for i in range(3):\n",
    "    aux=[Go1[i][0].substitute(b1=1,b2=1,b3=1,b4=1,b5=1),Go1[i][1].substitute(b1=1,b2=1,b3=1,b4=1,b5=1)]\n",
    "    aroots.append(Pola(aux[0]).roots(ring=K)[0][0])\n",
    "    broots.append(Polb(aux[1]).roots(ring=K)[0][0])\n",
    "broots"
   ]
  },
  {
   "cell_type": "code",
   "execution_count": 21,
   "metadata": {},
   "outputs": [
    {
     "name": "stdout",
     "output_type": "stream",
     "text": [
      "No  3 [-1.184792530904096? + 0.?e-18*I, -9.82294825561955? + 0.?e-16*I, -16.73917012361638? + 0.?e-16*I]\n",
      "No  14 [15.04962985252523? + 0.?e-16*I, 7.260829876383619? + 0.?e-16*I, 6.411474127809773? + 0.?e-16*I]\n",
      "No  11 [113.13620894381817? + 0.?e-34*I, 12.04962985252523? + 0.?e-35*I, 3.411474127809773? + 0.?e-36*I]\n"
     ]
    }
   ],
   "source": [
    "Ho1=list();\n",
    "evo1=list()\n",
    "for i in range(3):\n",
    "    aux=H.substitute(a=aroots[i],b0=broots[i],b1=1,b2=1,b3=1,b4=1,b5=1)\n",
    "    Ho1.append(aux)\n",
    "aux=matrix(QQbar,3,3,[[0,0,0],[0,0,0],[0,0,0]])\n",
    "for i in range(3):\n",
    "    for j in range(3):\n",
    "        for k in range(3):\n",
    "            aux[j,k]=KEd[0](Ho1[i][j,k])\n",
    "    evo1.append(aux.eigenvalues())\n",
    "for i in range(3):\n",
    "    print('No ',nO1[i],evo1[i])"
   ]
  },
  {
   "cell_type": "code",
   "execution_count": 23,
   "metadata": {},
   "outputs": [
    {
     "name": "stdout",
     "output_type": "stream",
     "text": [
      "[-3*zeta9^5 + zeta9^4 - 4*zeta9^2 + 4*zeta9 + 5, 17*zeta9^5 + 11*zeta9^4 + 6*zeta9^2 - 6*zeta9 - 13, zeta9^5 + 3*zeta9^4 - 2*zeta9^2 + 2*zeta9 - 7]\n",
      "[-2*zeta9^4 + 2*zeta9^2 - 2*zeta9 - 3, -14*zeta9^5 - 9*zeta9^4 - 5*zeta9^2 + 5*zeta9 + 12, 2*zeta9^5 - zeta9^4 + 3*zeta9^2 - 3*zeta9 + 3]\n"
     ]
    }
   ],
   "source": [
    "Pola.<a>=PolynomialRing(K,'a')\n",
    "Polb.<b0>=PolynomialRing(K,'b0')\n",
    "aroots2=list();\n",
    "broots2=list();\n",
    "for i in range(3):\n",
    "    aux=[Go2[i][0].substitute(b1=1,b2=1,b3=1,b4=1,b5=1),Go2[i][1].substitute(b1=1,b2=1,b3=1,b4=1,b5=1)]\n",
    "    aroots2.append(Pola(aux[0]).roots(ring=K)[0][0])\n",
    "    broots2.append(Polb(aux[1]).roots(ring=K)[0][0])\n",
    "print(aroots2)\n",
    "print(broots2)"
   ]
  },
  {
   "cell_type": "code",
   "execution_count": 24,
   "metadata": {},
   "outputs": [
    {
     "name": "stdout",
     "output_type": "stream",
     "text": [
      "No  4 [16.73917012361638? + 0.?e-16*I, 9.82294825561955? + 0.?e-16*I, 1.184792530904096? + 0.?e-19*I]\n",
      "No  12 [-3.411474127809773? + 0.?e-36*I, -12.04962985252523? + 0.?e-35*I, -113.13620894381817? + 0.?e-34*I]\n",
      "No  10 [-6.411474127809773? + 0.?e-16*I, -7.260829876383619? + 0.?e-16*I, -15.04962985252523? + 0.?e-16*I]\n"
     ]
    }
   ],
   "source": [
    "Ho2=list();\n",
    "evo2=list()\n",
    "for i in range(3):\n",
    "    aux=H.substitute(a=aroots2[i],b0=broots2[i],b1=1,b2=1,b3=1,b4=1,b5=1)\n",
    "    Ho2.append(aux)\n",
    "aux=matrix(QQbar,3,3,[[0,0,0],[0,0,0],[0,0,0]])\n",
    "for i in range(3):\n",
    "    for j in range(3):\n",
    "        for k in range(3):\n",
    "            aux[j,k]=KEd[0](Ho2[i][j,k])\n",
    "    evo2.append(aux.eigenvalues())\n",
    "for i in range(3):\n",
    "    print('No ',nO2[i],evo2[i])"
   ]
  },
  {
   "cell_type": "code",
   "execution_count": 15,
   "metadata": {},
   "outputs": [],
   "source": [
    "Pola.<a>=PolynomialRing(K,'a')\n",
    "Polb.<b0>=PolynomialRing(K,'b0')\n",
    "aroots3=list();\n",
    "broots3=list();\n",
    "for i in range(3):\n",
    "    aux=[Go3[i][0].substitute(b1=1,b2=1,b3=1,b4=1,b5=1),Go3[i][1].substitute(b1=1,b2=1,b3=1,b4=1,b5=1)]\n",
    "    aroots3.append(Pola(aux[0]).roots(ring=K)[0][0])\n",
    "    broots3.append(Polb(aux[1]).roots(ring=K)[0][0])\n",
    "#print(aroots3)\n",
    "#print(broots3)"
   ]
  },
  {
   "cell_type": "code",
   "execution_count": 18,
   "metadata": {},
   "outputs": [
    {
     "name": "stdout",
     "output_type": "stream",
     "text": [
      "No  5 [1.453363193811355? + 0.?e-33*I, -0.1429034649025133? + 0.?e-32*I, -0.4576680951205417? + 0.?e-32*I]\n",
      "No  13 [8.00774078652365? + 0.?e-35*I, 6.411474127809773? + 0.?e-35*I, -325.7627303202154? + 0.?e-34*I]\n",
      "No  9 [0.5820000377068351? + 0.?e-31*I, 0.11649597194821328? + 0.?e-31*I, -1.479770686765655? + 0.?e-31*I]\n"
     ]
    }
   ],
   "source": [
    "Ho3=list();\n",
    "evo3=list()\n",
    "for i in range(3):\n",
    "    aux=H.substitute(a=aroots3[i],b0=broots3[i],b1=1,b2=1,b3=1,b4=1,b5=1)\n",
    "    Ho3.append(aux)\n",
    "aux=matrix(QQbar,3,3,[[0,0,0],[0,0,0],[0,0,0]])\n",
    "for i in range(3):\n",
    "    for j in range(3):\n",
    "        for k in range(3):\n",
    "            aux[j,k]=KEd[1](Ho3[i][j,k])\n",
    "    evo3.append(aux.eigenvalues())\n",
    "for i in range(3):\n",
    "    print('No ',nO3[i],evo3[i])"
   ]
  },
  {
   "cell_type": "markdown",
   "metadata": {},
   "source": [
    "We made the same of process for the fixed parameters."
   ]
  },
  {
   "cell_type": "code",
   "execution_count": 21,
   "metadata": {},
   "outputs": [
    {
     "data": {
      "text/plain": [
       "[[a + (-1/3*zeta9^5 - 2/3*zeta9^4 + 1/3*zeta9^2 - 1/3*zeta9)*b1 + (-2/3*zeta9^5 - 1/3*zeta9^4 - 1/3*zeta9^2 + 1/3*zeta9)*b2 + b3 + (-1/3*zeta9^5 + 1/3*zeta9^4 - 2/3*zeta9^2 + 2/3*zeta9)*b4 + (1/3*zeta9^5 - 1/3*zeta9^4 + 2/3*zeta9^2 - 2/3*zeta9)*b5, b0 + (-2/3*zeta9^5 - 1/3*zeta9^4 - 1/3*zeta9^2 + 1/3*zeta9)*b1 + (-1/3*zeta9^5 - 2/3*zeta9^4 + 1/3*zeta9^2 - 1/3*zeta9)*b2 + (1/3*zeta9^5 + 2/3*zeta9^4 - 1/3*zeta9^2 + 1/3*zeta9)*b4 + (2/3*zeta9^5 + 1/3*zeta9^4 + 1/3*zeta9^2 - 1/3*zeta9)*b5],\n",
       " [a + b0 - b2 + (zeta9^5 + zeta9^2 - zeta9)*b3 + (zeta9^4 - zeta9^2 + zeta9 - 1)*b4 + (zeta9^5 + zeta9^2 - zeta9 + 1)*b5, b1 + (-zeta9^5 - zeta9^2 + zeta9)*b2 + (-zeta9^4 + zeta9^2 - zeta9 + 1)*b3 + (-zeta9^5 - zeta9^2 + zeta9 - 1)*b4 + (zeta9^5 + zeta9^2 - zeta9 + 1)*b5],\n",
       " [a + (-1/3*zeta9^5 - 2/3*zeta9^4 + 1/3*zeta9^2 - 1/3*zeta9)*b1 + (-2/3*zeta9^5 - 1/3*zeta9^4 - 1/3*zeta9^2 + 1/3*zeta9)*b2 + b3 + (-1/3*zeta9^5 + 1/3*zeta9^4 - 2/3*zeta9^2 + 2/3*zeta9)*b4 + (1/3*zeta9^5 - 1/3*zeta9^4 + 2/3*zeta9^2 - 2/3*zeta9)*b5, b0 + (-2/3*zeta9^5 - 1/3*zeta9^4 - 1/3*zeta9^2 + 1/3*zeta9)*b1 + (-1/3*zeta9^5 - 2/3*zeta9^4 + 1/3*zeta9^2 - 1/3*zeta9)*b2 + (1/3*zeta9^5 + 2/3*zeta9^4 - 1/3*zeta9^2 + 1/3*zeta9)*b4 + (2/3*zeta9^5 + 1/3*zeta9^4 + 1/3*zeta9^2 - 1/3*zeta9)*b5],\n",
       " [a + (1/3*zeta9^5 + 2/3*zeta9^4 - 1/3*zeta9^2 + 1/3*zeta9)*b1 + (2/3*zeta9^5 + 1/3*zeta9^4 + 1/3*zeta9^2 - 1/3*zeta9)*b2 - b3 + (1/3*zeta9^5 - 1/3*zeta9^4 + 2/3*zeta9^2 - 2/3*zeta9)*b4 + (-1/3*zeta9^5 + 1/3*zeta9^4 - 2/3*zeta9^2 + 2/3*zeta9)*b5, b0 + (-1/3*zeta9^5 + 1/3*zeta9^4 - 2/3*zeta9^2 + 2/3*zeta9)*b1 + (1/3*zeta9^5 - 1/3*zeta9^4 + 2/3*zeta9^2 - 2/3*zeta9)*b2 - b3 + (2/3*zeta9^5 + 1/3*zeta9^4 + 1/3*zeta9^2 - 1/3*zeta9)*b4 + (1/3*zeta9^5 + 2/3*zeta9^4 - 1/3*zeta9^2 + 1/3*zeta9)*b5],\n",
       " [a + b0 - b2 + (zeta9^5 + zeta9^2 - zeta9)*b3 + (zeta9^4 - zeta9^2 + zeta9 - 1)*b4 + (zeta9^5 + zeta9^2 - zeta9 + 1)*b5, b1 + (-zeta9^5 - zeta9^2 + zeta9)*b2 + (-zeta9^4 + zeta9^2 - zeta9 + 1)*b3 + (-zeta9^5 - zeta9^2 + zeta9 - 1)*b4 + (zeta9^5 + zeta9^2 - zeta9 + 1)*b5],\n",
       " [a + (1/3*zeta9^5 + 2/3*zeta9^4 - 1/3*zeta9^2 + 1/3*zeta9)*b1 + (2/3*zeta9^5 + 1/3*zeta9^4 + 1/3*zeta9^2 - 1/3*zeta9)*b2 - b3 + (1/3*zeta9^5 - 1/3*zeta9^4 + 2/3*zeta9^2 - 2/3*zeta9)*b4 + (-1/3*zeta9^5 + 1/3*zeta9^4 - 2/3*zeta9^2 + 2/3*zeta9)*b5, b0 + (-1/3*zeta9^5 + 1/3*zeta9^4 - 2/3*zeta9^2 + 2/3*zeta9)*b1 + (1/3*zeta9^5 - 1/3*zeta9^4 + 2/3*zeta9^2 - 2/3*zeta9)*b2 - b3 + (2/3*zeta9^5 + 1/3*zeta9^4 + 1/3*zeta9^2 - 1/3*zeta9)*b4 + (1/3*zeta9^5 + 2/3*zeta9^4 - 1/3*zeta9^2 + 1/3*zeta9)*b5]]"
      ]
     },
     "execution_count": 21,
     "metadata": {},
     "output_type": "execute_result"
    }
   ],
   "source": [
    "Bqq=list();\n",
    "for i in range(6):\n",
    "    RelHerm=(conjugate(transpose(R1qq[i]))*H*(R1qq[i])-H)\n",
    "    B=[RelHerm[0,0],(RelHerm[0,1]),(RelHerm[0,2]),RelHerm[1,0],(RelHerm[1,1]),(RelHerm[1,2]),RelHerm[2,0],RelHerm[2,1],(RelHerm[2,2])];\n",
    "    Bqq.append(B)\n",
    "Gqq=list()\n",
    "for i in range(6):\n",
    "    J=Pol.ideal(Bqq[i])\n",
    "    Grob=J.groebner_basis()\n",
    "    Gqq.append(Grob)\n",
    "Gqq"
   ]
  },
  {
   "cell_type": "code",
   "execution_count": 22,
   "metadata": {},
   "outputs": [],
   "source": [
    "Pola.<a>=PolynomialRing(K,'a')\n",
    "Polb.<b1>=PolynomialRing(K,'b1')\n",
    "arootsfix=list();\n",
    "brootsfix=list();\n",
    "for i in range(6):\n",
    "    aux=[Gqq[i][0].substitute(b0=1,b2=1,b3=1,b4=1,b5=1),Gqq[i][1].substitute(b0=1,b2=1,b3=1,b4=1,b5=1)]\n",
    "    aux1=Polb(aux[1]).roots(ring=K)[0][0]\n",
    "    brootsfix.append(Polb(aux[1]).roots(ring=K)[0][0])\n",
    "    arootsfix.append(Pola(aux[0].substitute(b1=aux1)).roots(ring=K)[0][0])\n",
    "#print(arootsfix)\n",
    "#print(brootsfix)"
   ]
  },
  {
   "cell_type": "code",
   "execution_count": 23,
   "metadata": {},
   "outputs": [
    {
     "name": "stdout",
     "output_type": "stream",
     "text": [
      "No  0 : [10.234422383429318? + 0.?e-17*I, 0, 0]\n",
      "No  1 : [-3.554377592712287? + 0.?e-17*I, 0, 0]\n",
      "No  2 : [10.234422383429318? + 0.?e-17*I, 0, 0]\n",
      "No  6 : [5.445622407287714? + 0.?e-17*I, 0, 0]\n",
      "No  7 : [-3.554377592712287? + 0.?e-17*I, 0, 0]\n",
      "No  8 : [5.445622407287714? + 0.?e-17*I, 0, 0]\n"
     ]
    }
   ],
   "source": [
    "Hofix=list();\n",
    "evofix=list()\n",
    "for i in range(6):\n",
    "    aux=H.substitute(a=arootsfix[i],b0=1,b1=brootsfix[i],b2=1,b3=1,b4=1,b5=1)\n",
    "    Hofix.append(aux)\n",
    "aux=matrix(QQbar,3,3,[[0,0,0],[0,0,0],[0,0,0]])\n",
    "for i in range(6):\n",
    "    for j in range(3):\n",
    "        for k in range(3):\n",
    "            aux[j,k]=KEd[1](Hofix[i][j,k])\n",
    "    evofix.append(aux.eigenvalues())\n",
    "for i in range(6):\n",
    "    print('No ', nfixed[i],':',evofix[i])"
   ]
  },
  {
   "cell_type": "markdown",
   "metadata": {},
   "source": [
    "## 1.3 The Cusp Stabilizer\n",
    "\n",
    "For the Deligne-Mostow $(3,6)$ lattice, the cusp stabilizer, $\\Gamma_{cusp},$ is generated by the $J R_1 J^2$ and $J R_1^2 J^2 R_1^2 J.$ In particular, the centralizer of $\\Gamma_{cusp}$ is generated by $\\left(R_1^2 J\\right)^2.$\n",
    "\n",
    "For certains parameters, their centralizer group generator is a finite order elliptic element. In what follows, we compute the Jordan decomposition of the centralizer generator."
   ]
  },
  {
   "cell_type": "code",
   "execution_count": 42,
   "metadata": {},
   "outputs": [],
   "source": [
    "J0=matrix(QQbar,3,3,[[0,0,1],[-1,0,0],[0,1,0]]);\n",
    "R1o1qq=list();\n",
    "R1o2qq=list();\n",
    "R1o3qq=list();\n",
    "R1fixqq=list();\n",
    "for i in range(6):\n",
    "    aux=matrix(QQbar,3,3,[[1,-KEd[0](Parameters[nfixed[i]][1]),KEd[0](Parameters[nfixed[i]][1])],[0,1-KEd[0](Parameters[nfixed[i]][2]),KEd[0](Parameters[nfixed[i]][2])],[0,1-KEd[0](Parameters[nfixed[i]][2]+Parameters[nfixed[i]][0]),KEd[0](Parameters[nfixed[i]][2]+Parameters[nfixed[i]][0])]])\n",
    "    R1fixqq.append(aux)\n",
    "for i in range(3):\n",
    "    aux=matrix(QQbar,3,3,[[1,-KEd[0](Parameters[nO1[i]][1]),KEd[0](Parameters[nO1[i]][1])],[0,1-KEd[0](Parameters[nO1[i]][2]),KEd[0](Parameters[nO1[i]][2])],[0,1-KEd[0](Parameters[nO1[i]][2]+Parameters[nO1[i]][0]),KEd[0](Parameters[nO1[i]][2]+Parameters[nO1[i]][0])]])\n",
    "    R1o1qq.append(aux)\n",
    "    aux=matrix(QQbar,3,3,[[1,-KEd[0](Parameters[nO2[i]][1]),KEd[0](Parameters[nO2[i]][1])],[0,1-KEd[0](Parameters[nO2[i]][2]),KEd[0](Parameters[nO2[i]][2])],[0,1-KEd[0](Parameters[nO2[i]][2]+Parameters[nO2[i]][0]),KEd[0](Parameters[nO2[i]][2]+Parameters[nO2[i]][0])]])\n",
    "    R1o2qq.append(aux)\n",
    "    aux=matrix(QQbar,3,3,[[1,-KEd[0](Parameters[nO3[i]][1]),KEd[0](Parameters[nO3[i]][1])],[0,1-KEd[0](Parameters[nO3[i]][2]),KEd[0](Parameters[nO3[i]][2])],[0,1-KEd[0](Parameters[nO3[i]][2]+Parameters[nO3[i]][0]),KEd[0](Parameters[nO3[i]][2]+Parameters[nO3[i]][0])]])\n",
    "    R1o3qq.append(aux)"
   ]
  },
  {
   "cell_type": "code",
   "execution_count": 44,
   "metadata": {},
   "outputs": [
    {
     "name": "stdout",
     "output_type": "stream",
     "text": [
      "No  0 : [                                        -1                                          0                                          0]\n",
      "[                                         0                                         -1                                          0]\n",
      "[                                         0                                          0 -0.500000000000000? + 0.866025403784439?*I]\n",
      "No  1 : [                                        1                                         0                                         0]\n",
      "[                                        0 0.500000000000000? + 0.866025403784439?*I                                         0]\n",
      "[                                        0                                         0 0.500000000000000? + 0.866025403784439?*I]\n",
      "No  2 : [-0.500000000000000? - 0.866025403784439?*I                                          0                                          0]\n",
      "[                                         0 -0.500000000000000? + 0.866025403784439?*I                                          0]\n",
      "[                                         0                                          0 -0.500000000000000? + 0.866025403784439?*I]\n",
      "No  6 : [                                         1                                          0                                          0]\n",
      "[                                         0 -0.500000000000000? - 0.866025403784439?*I                                          0]\n",
      "[                                         0                                          0 -0.500000000000000? - 0.866025403784439?*I]\n",
      "No  7 : [                                         1                                          0                                          0]\n",
      "[                                         0                                          1                                          0]\n",
      "[                                         0                                          0 -0.500000000000000? + 0.866025403784439?*I]\n",
      "No  8 : [-0.500000000000000? - 0.866025403784439?*I                                          0                                          0]\n",
      "[                                         0  0.500000000000000? - 0.866025403784439?*I                                          0]\n",
      "[                                         0                                          0  0.500000000000000? - 0.866025403784439?*I]\n",
      "No  3 : [-0.1736481776669304? + 0.9848077530122081?*I                                            0                                            0]\n",
      "[                                           0 -0.1736481776669304? + 0.9848077530122081?*I                                            0]\n",
      "[                                           0                                            0  0.1736481776669304? - 0.9848077530122081?*I]\n",
      "No  14 : [-0.7660444431189781? - 0.6427876096865393?*I                                            0                                            0]\n",
      "[                                           0 -0.7660444431189781? - 0.6427876096865393?*I                                            0]\n",
      "[                                           0                                            0  0.7660444431189781? + 0.6427876096865393?*I]\n",
      "No  11 : [-0.9396926207859084? + 0.3420201433256688?*I                                            0                                            0]\n",
      "[                                           0  0.9396926207859084? - 0.3420201433256688?*I                                            0]\n",
      "[                                           0                                            0  0.9396926207859084? - 0.3420201433256688?*I]\n",
      "No  4 : [-0.9396926207859084? - 0.3420201433256688?*I                                            0                                            0]\n",
      "[                                           0  0.7660444431189781? - 0.6427876096865393?*I                                            0]\n",
      "[                                           0                                            0  0.7660444431189781? - 0.6427876096865393?*I]\n",
      "No  12 : [0.1736481776669304? + 0.9848077530122081?*I                                           0                                           0]\n",
      "[                                          0 0.1736481776669304? + 0.9848077530122081?*I                                           0]\n",
      "[                                          0                                           0 0.7660444431189781? - 0.6427876096865393?*I]\n",
      "No  10 : [-0.9396926207859084? - 0.3420201433256688?*I                                            0                                            0]\n",
      "[                                           0 -0.9396926207859084? - 0.3420201433256688?*I                                            0]\n",
      "[                                           0                                            0  0.1736481776669304? + 0.9848077530122081?*I]\n",
      "No  5 : [0.1736481776669304? - 0.9848077530122081?*I                                           1                                           0]\n",
      "[                                          0 0.1736481776669304? - 0.9848077530122081?*I                                           0]\n",
      "[                                          0                                           0 0.1736481776669304? - 0.9848077530122081?*I]\n",
      "No  13 : [-0.9396926207859084? + 0.3420201433256688?*I                                            1                                            0]\n",
      "[                                           0 -0.9396926207859084? + 0.3420201433256688?*I                                            0]\n",
      "[                                           0                                            0 -0.9396926207859084? + 0.3420201433256688?*I]\n",
      "No  9 : [0.7660444431189781? + 0.6427876096865393?*I                                           1                                           0]\n",
      "[                                          0 0.7660444431189781? + 0.6427876096865393?*I                                           0]\n",
      "[                                          0                                           0 0.7660444431189781? + 0.6427876096865393?*I]\n"
     ]
    }
   ],
   "source": [
    "Jordanforms=list();\n",
    "for i in range(6):\n",
    "    aux=((R1fixqq[i]**2)*J0)**2\n",
    "    aux2=aux.jordan_form(subdivide=False)\n",
    "    Jordanforms.append([nfixed[i],aux2])\n",
    "for i in range(3):\n",
    "    aux=((R1o1qq[i]**2)*J0)**2\n",
    "    aux2=aux.jordan_form(subdivide=False)\n",
    "    Jordanforms.append([nO1[i],aux2])\n",
    "for i in range(3):\n",
    "    aux=((R1o2qq[i]**2)*J0)**2\n",
    "    aux2=aux.jordan_form(subdivide=False)\n",
    "    Jordanforms.append([nO2[i],aux2])\n",
    "for i in range(3):\n",
    "    aux=((R1o3qq[i]**2)*J0)**2\n",
    "    aux2=aux.jordan_form(subdivide=False)\n",
    "    Jordanforms.append([nO3[i],aux2])\n",
    "for i in range(len(Jordanforms)):\n",
    "    print('No ',Jordanforms[i][0],':',Jordanforms[i][1])"
   ]
  },
  {
   "cell_type": "markdown",
   "metadata": {},
   "source": [
    "# 2. The degenerate configuration.\n",
    "\n",
    "The degenerate configuration is when one of the fixed point of $J$ belong to the fixed line of $R_1$. We can reduce this case by assuming tha the fixed  point of $J$ in question is $e_1.$\n",
    "\n",
    "On this configuration, $J$ correspond to a diagonal element of order three and $R_1$ preserve the same form as the non-degenerate configuration."
   ]
  },
  {
   "cell_type": "code",
   "execution_count": 2,
   "metadata": {},
   "outputs": [],
   "source": [
    "\n",
    "RR.<r2,x,y>=PolynomialRing(K,['r2','x','y'],order='lex');\n",
    "Jd=matrix(RR,3,3,[[1,0,0],[0,y,0],[0,0,y^2]])\n",
    "R1d=matrix(RR,3,3,[[1,-1,1],[0,1-r2,r2],[0,1-r2-x,r2+x]]);\n",
    "\n",
    "rel5=((R1d*Jd)**(12));\n",
    "R12=(R1d^2)\n",
    "rel6=((R1d*Jd*R1d*Jd*Jd*R1d*Jd*R12*Jd*Jd*R12*Jd*R12*Jd*Jd));\n",
    "\n",
    "eq0d=[(rel5[0,1]), (rel5[0,2]), (rel5[1,0]), (rel5[1,2]), (rel5[2,0]), (rel5[2,1]), (rel6[0,1]), (rel6[0,2]), (rel6[1,0]),(rel6[1,2]),(rel6[2,0]),(rel6[2,1])];\n",
    "eq1d=[(rel5[0,0]-rel5[1,1]),(rel5[1,1]-rel5[2,2]),(rel6[0,0]-rel6[1,1]),(rel6[1,1]-rel6[2,2])];\n",
    "\n",
    "\n",
    "Bd=list();\n",
    "Bd.append(y^2+y+1);\n",
    "for i in range(len(eq0d)):\n",
    "    Bd.append(eq0d[i]);\n",
    "for i in range(len(eq1d)):\n",
    "    Bd.append(eq1d[i]);"
   ]
  },
  {
   "cell_type": "markdown",
   "metadata": {},
   "source": [
    "We use Groebner basis to reduce the system $B_d.$ In the particular case of $(3,6),$ there is no solution."
   ]
  },
  {
   "cell_type": "code",
   "execution_count": 3,
   "metadata": {},
   "outputs": [
    {
     "name": "stdout",
     "output_type": "stream",
     "text": [
      "[r2^2 + r2*x - r2 - 2/3*x, x^2 + x + 1, y^2 + y + 1]\n"
     ]
    },
    {
     "data": {
      "text/plain": [
       "3"
      ]
     },
     "execution_count": 3,
     "metadata": {},
     "output_type": "execute_result"
    }
   ],
   "source": [
    "Jdegenerate=RR.ideal(Bd);\n",
    "Gdegenerate=Jdegenerate.groebner_basis()\n",
    "print(Gdegenerate)\n",
    "len(Gdegenerate)"
   ]
  },
  {
   "cell_type": "code",
   "execution_count": 6,
   "metadata": {},
   "outputs": [
    {
     "name": "stdout",
     "output_type": "stream",
     "text": [
      "[9*r2^4 - 27*r2^3 + 33*r2^2 - 18*r2 + 4]\n",
      "r2 in [2/3*zeta9^3 + 4/3, 1/3*zeta9^3 + 2/3, -1/3*zeta9^3 + 1/3, -2/3*zeta9^3 + 2/3]\n"
     ]
    }
   ],
   "source": [
    "r2rootsdegenerate=list();\n",
    "r2idealdegenerate=Jdegenerate.elimination_ideal([x,y]);\n",
    "r2poldegenerate=r2idealdegenerate.gens();\n",
    "print(r2poldegenerate)\n",
    "Poly2.<r2>=PolynomialRing(K,'r2')\n",
    "aux=(Poly2(r2poldegenerate[0]).roots(ring=K))\n",
    "for i in range(len(aux)):\n",
    "    r2rootsdegenerate.append(aux[i][0])\n",
    "\n",
    "print('r2 in', r2rootsdegenerate)"
   ]
  },
  {
   "cell_type": "code",
   "execution_count": 10,
   "metadata": {},
   "outputs": [
    {
     "name": "stdout",
     "output_type": "stream",
     "text": [
      "[[x + zeta9^3 + 1], [x + zeta9^3 + 1], [x - zeta9^3], [x - zeta9^3]]\n"
     ]
    }
   ],
   "source": [
    "r1xGroebner=list();\n",
    "r1xB=list();\n",
    "RR1.<x>=PolynomialRing(K,['x'],order='lex');\n",
    "for j in range(len(r2rootsdegenerate)):\n",
    "    Bd1=list();\n",
    "    for i in range(len(Gdegenerate)):\n",
    "        aux=((Gdegenerate[i])).substitute(r2=r2rootsdegenerate[j], y=K(1/2*I*sqrt(3) - 1/2))\n",
    "        if aux==0:\n",
    "            continue\n",
    "        else:\n",
    "            Bd1.append(aux)\n",
    "    r1xB.append(Bd1)\n",
    "    Jd1=RR1.ideal(Bd1)\n",
    "    Gd1=Jd1.groebner_basis()\n",
    "    r1xGroebner.append(Gd1)\n",
    "print(r1xGroebner)"
   ]
  },
  {
   "cell_type": "code",
   "execution_count": 12,
   "metadata": {},
   "outputs": [
    {
     "data": {
      "text/plain": [
       "[[-zeta9^3 - 1, 2/3*zeta9^3 + 4/3],\n",
       " [-zeta9^3 - 1, 1/3*zeta9^3 + 2/3],\n",
       " [zeta9^3, -1/3*zeta9^3 + 1/3],\n",
       " [zeta9^3, -2/3*zeta9^3 + 2/3]]"
      ]
     },
     "execution_count": 12,
     "metadata": {},
     "output_type": "execute_result"
    }
   ],
   "source": [
    "DParameters=list()\n",
    "Polyx.<x>=PolynomialRing(K,'x')\n",
    "for i in range(len(r2rootsdegenerate)):\n",
    "    aux=Polyx(r1xGroebner[i][0]).roots(ring=K)\n",
    "    for j in range(len(aux)):\n",
    "        DParameters.append([aux[j][0],r2rootsdegenerate[i]])\n",
    "DParameters"
   ]
  },
  {
   "cell_type": "markdown",
   "metadata": {},
   "source": [
    "As in the Non-degenerate configuration, the Galois group induce an action on the set of parameters. We compute the orbits for this action restricted to the degenerate configuration parameters."
   ]
  },
  {
   "cell_type": "code",
   "execution_count": 13,
   "metadata": {},
   "outputs": [],
   "source": [
    "Gal=K.galois_group()"
   ]
  },
  {
   "cell_type": "code",
   "execution_count": 15,
   "metadata": {},
   "outputs": [
    {
     "name": "stdout",
     "output_type": "stream",
     "text": [
      "Orbit No 1 : [[0, 3], [1, 2], [2, 1], [3, 0]]\n",
      "Orbit No 2 : [[0, 0], [1, 1], [2, 2], [3, 3]]\n",
      "Orbit No 3 : [[0, 3], [1, 2], [2, 1], [3, 0]]\n",
      "Orbit No 4 : [[0, 0], [1, 1], [2, 2], [3, 3]]\n",
      "Orbit No 5 : [[0, 3], [1, 2], [2, 1], [3, 0]]\n"
     ]
    }
   ],
   "source": [
    "DOrbits=list();\n",
    "for k in range(len(Gal)-1):\n",
    "    auxorbit=list()\n",
    "    j=0;\n",
    "    while j<len(DParameters):\n",
    "        aux0=(Gal[k+1])(DParameters[j][0])\n",
    "        aux1=(Gal[k+1](DParameters[j][1]))\n",
    "        for i in range(len(DParameters)):\n",
    "            if aux0-Gal[0](DParameters[i][0])==0 and aux1-Gal[0](DParameters[i][1])==0:\n",
    "                auxorbit.append([j,i])\n",
    "        j=j+1;\n",
    "    DOrbits.append(auxorbit)\n",
    "\n",
    "        \n",
    "for i in range(len(Gal)-1):\n",
    "    print('Orbit No',i+1,':',DOrbits[i])"
   ]
  },
  {
   "cell_type": "markdown",
   "metadata": {},
   "source": [
    "Notice that there are two possible orbits and they correspond to a complex conjugated pair."
   ]
  }
 ],
 "metadata": {
  "kernelspec": {
   "display_name": "Sage 9.3",
   "language": "sage",
   "name": "sagemath_9_3_all"
  },
  "language_info": {
   "codemirror_mode": {
    "name": "ipython",
    "version": 3
   },
   "file_extension": ".py",
   "mimetype": "text/x-python",
   "name": "python",
   "nbconvert_exporter": "python",
   "pygments_lexer": "ipython3",
   "version": "3.9.2"
  }
 },
 "nbformat": 4,
 "nbformat_minor": 4
}
